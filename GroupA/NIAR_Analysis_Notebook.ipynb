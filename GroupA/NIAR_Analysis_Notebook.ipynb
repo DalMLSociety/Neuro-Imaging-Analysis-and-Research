{
  "nbformat": 4,
  "nbformat_minor": 0,
  "metadata": {
    "colab": {
      "provenance": [],
      "gpuType": "T4"
    },
    "kernelspec": {
      "name": "python3",
      "display_name": "Python 3"
    },
    "language_info": {
      "name": "python"
    },
    "accelerator": "GPU"
  },
  "cells": [
    {
      "cell_type": "markdown",
      "source": [
        "# NEUROIMAGING ANALYSIS AND RESEARCH (SUMMER 2025)\n",
        "\n",
        "## GROUP: A\n",
        "\n",
        "### Members:\n",
        "\n",
        "**1. Furqaan Malik**\n",
        "\n",
        "**2. Aryan Arya**"
      ],
      "metadata": {
        "id": "IgEElgU2PeFP"
      }
    },
    {
      "cell_type": "markdown",
      "source": [
        "## Problem Statement\n",
        "\n",
        "- Find early warning signs of brain disease by checking how brain networks break down over time in patients compared to healthy people."
      ],
      "metadata": {
        "id": "Mg6nWmkcDIYB"
      }
    },
    {
      "cell_type": "markdown",
      "source": [
        "## Setup and Imports"
      ],
      "metadata": {
        "id": "2rRc6nWVRkTg"
      }
    },
    {
      "cell_type": "code",
      "source": [
        "!pip install numpy\n",
        "!pip install pandas\n",
        "!pip install matplotlib\n",
        "!pip install nilearn\n",
        "!pip install nibabel"
      ],
      "metadata": {
        "colab": {
          "base_uri": "https://localhost:8080/"
        },
        "collapsed": true,
        "id": "JUCPYr8LRq3G",
        "outputId": "5eb1229a-4987-408a-eeda-dfb24eac09b4"
      },
      "execution_count": null,
      "outputs": [
        {
          "output_type": "stream",
          "name": "stdout",
          "text": [
            "Requirement already satisfied: numpy in /usr/local/lib/python3.11/dist-packages (2.0.2)\n",
            "Requirement already satisfied: pandas in /usr/local/lib/python3.11/dist-packages (2.2.2)\n",
            "Requirement already satisfied: numpy>=1.23.2 in /usr/local/lib/python3.11/dist-packages (from pandas) (2.0.2)\n",
            "Requirement already satisfied: python-dateutil>=2.8.2 in /usr/local/lib/python3.11/dist-packages (from pandas) (2.9.0.post0)\n",
            "Requirement already satisfied: pytz>=2020.1 in /usr/local/lib/python3.11/dist-packages (from pandas) (2025.2)\n",
            "Requirement already satisfied: tzdata>=2022.7 in /usr/local/lib/python3.11/dist-packages (from pandas) (2025.2)\n",
            "Requirement already satisfied: six>=1.5 in /usr/local/lib/python3.11/dist-packages (from python-dateutil>=2.8.2->pandas) (1.17.0)\n",
            "Requirement already satisfied: matplotlib in /usr/local/lib/python3.11/dist-packages (3.10.0)\n",
            "Requirement already satisfied: contourpy>=1.0.1 in /usr/local/lib/python3.11/dist-packages (from matplotlib) (1.3.2)\n",
            "Requirement already satisfied: cycler>=0.10 in /usr/local/lib/python3.11/dist-packages (from matplotlib) (0.12.1)\n",
            "Requirement already satisfied: fonttools>=4.22.0 in /usr/local/lib/python3.11/dist-packages (from matplotlib) (4.59.0)\n",
            "Requirement already satisfied: kiwisolver>=1.3.1 in /usr/local/lib/python3.11/dist-packages (from matplotlib) (1.4.8)\n",
            "Requirement already satisfied: numpy>=1.23 in /usr/local/lib/python3.11/dist-packages (from matplotlib) (2.0.2)\n",
            "Requirement already satisfied: packaging>=20.0 in /usr/local/lib/python3.11/dist-packages (from matplotlib) (25.0)\n",
            "Requirement already satisfied: pillow>=8 in /usr/local/lib/python3.11/dist-packages (from matplotlib) (11.3.0)\n",
            "Requirement already satisfied: pyparsing>=2.3.1 in /usr/local/lib/python3.11/dist-packages (from matplotlib) (3.2.3)\n",
            "Requirement already satisfied: python-dateutil>=2.7 in /usr/local/lib/python3.11/dist-packages (from matplotlib) (2.9.0.post0)\n",
            "Requirement already satisfied: six>=1.5 in /usr/local/lib/python3.11/dist-packages (from python-dateutil>=2.7->matplotlib) (1.17.0)\n",
            "Requirement already satisfied: nilearn in /usr/local/lib/python3.11/dist-packages (0.12.0)\n",
            "Requirement already satisfied: joblib>=1.2.0 in /usr/local/lib/python3.11/dist-packages (from nilearn) (1.5.1)\n",
            "Requirement already satisfied: lxml in /usr/local/lib/python3.11/dist-packages (from nilearn) (5.4.0)\n",
            "Requirement already satisfied: nibabel>=5.2.0 in /usr/local/lib/python3.11/dist-packages (from nilearn) (5.3.2)\n",
            "Requirement already satisfied: numpy>=1.22.4 in /usr/local/lib/python3.11/dist-packages (from nilearn) (2.0.2)\n",
            "Requirement already satisfied: packaging in /usr/local/lib/python3.11/dist-packages (from nilearn) (25.0)\n",
            "Requirement already satisfied: pandas>=2.2.0 in /usr/local/lib/python3.11/dist-packages (from nilearn) (2.2.2)\n",
            "Requirement already satisfied: requests>=2.25.0 in /usr/local/lib/python3.11/dist-packages (from nilearn) (2.32.3)\n",
            "Requirement already satisfied: scikit-learn>=1.4.0 in /usr/local/lib/python3.11/dist-packages (from nilearn) (1.6.1)\n",
            "Requirement already satisfied: scipy>=1.8.0 in /usr/local/lib/python3.11/dist-packages (from nilearn) (1.16.0)\n",
            "Requirement already satisfied: importlib-resources>=5.12 in /usr/local/lib/python3.11/dist-packages (from nibabel>=5.2.0->nilearn) (6.5.2)\n",
            "Requirement already satisfied: typing-extensions>=4.6 in /usr/local/lib/python3.11/dist-packages (from nibabel>=5.2.0->nilearn) (4.14.1)\n",
            "Requirement already satisfied: python-dateutil>=2.8.2 in /usr/local/lib/python3.11/dist-packages (from pandas>=2.2.0->nilearn) (2.9.0.post0)\n",
            "Requirement already satisfied: pytz>=2020.1 in /usr/local/lib/python3.11/dist-packages (from pandas>=2.2.0->nilearn) (2025.2)\n",
            "Requirement already satisfied: tzdata>=2022.7 in /usr/local/lib/python3.11/dist-packages (from pandas>=2.2.0->nilearn) (2025.2)\n",
            "Requirement already satisfied: charset-normalizer<4,>=2 in /usr/local/lib/python3.11/dist-packages (from requests>=2.25.0->nilearn) (3.4.2)\n",
            "Requirement already satisfied: idna<4,>=2.5 in /usr/local/lib/python3.11/dist-packages (from requests>=2.25.0->nilearn) (3.10)\n",
            "Requirement already satisfied: urllib3<3,>=1.21.1 in /usr/local/lib/python3.11/dist-packages (from requests>=2.25.0->nilearn) (2.5.0)\n",
            "Requirement already satisfied: certifi>=2017.4.17 in /usr/local/lib/python3.11/dist-packages (from requests>=2.25.0->nilearn) (2025.7.14)\n",
            "Requirement already satisfied: threadpoolctl>=3.1.0 in /usr/local/lib/python3.11/dist-packages (from scikit-learn>=1.4.0->nilearn) (3.6.0)\n",
            "Requirement already satisfied: six>=1.5 in /usr/local/lib/python3.11/dist-packages (from python-dateutil>=2.8.2->pandas>=2.2.0->nilearn) (1.17.0)\n",
            "Requirement already satisfied: nibabel in /usr/local/lib/python3.11/dist-packages (5.3.2)\n",
            "Requirement already satisfied: importlib-resources>=5.12 in /usr/local/lib/python3.11/dist-packages (from nibabel) (6.5.2)\n",
            "Requirement already satisfied: numpy>=1.22 in /usr/local/lib/python3.11/dist-packages (from nibabel) (2.0.2)\n",
            "Requirement already satisfied: packaging>=20 in /usr/local/lib/python3.11/dist-packages (from nibabel) (25.0)\n",
            "Requirement already satisfied: typing-extensions>=4.6 in /usr/local/lib/python3.11/dist-packages (from nibabel) (4.14.1)\n"
          ]
        }
      ]
    },
    {
      "cell_type": "code",
      "source": [
        "import os\n",
        "import glob\n",
        "import numpy as np\n",
        "import pandas as pd\n",
        "import networkx as nx\n",
        "import matplotlib.pyplot as plt\n",
        "import nibabel as nib\n",
        "import pickle\n",
        "import collections\n",
        "import statsmodels.api as sm\n",
        "import seaborn as sns\n",
        "import scipy.stats as stats\n",
        "\n",
        "from sklearn.linear_model import LinearRegression\n",
        "from nilearn import image, datasets, plotting\n",
        "from nilearn.maskers import NiftiLabelsMasker\n",
        "from sklearn.model_selection import StratifiedKFold, cross_val_score\n",
        "from sklearn.linear_model import LogisticRegression\n",
        "from sklearn.metrics import accuracy_score, roc_auc_score\n",
        "from scipy.stats import ttest_ind, spearmanr\n",
        "from statsmodels.stats.multitest import multipletests\n",
        "from nilearn.plotting import plot_glass_brain"
      ],
      "metadata": {
        "id": "Taiti3VVRw7c"
      },
      "execution_count": null,
      "outputs": []
    },
    {
      "cell_type": "markdown",
      "source": [
        "## 1. Data Organization\n",
        "\n",
        "Since the scans are already denoised and in MNI space, here we:\n",
        "- List and organize all scans by subject and session.\n",
        "- Verify that spatial dimensions and affines are consistent across files.\n",
        "- Perform a quick visual quality check."
      ],
      "metadata": {
        "id": "Uu4cBbr1T-jU"
      }
    },
    {
      "cell_type": "markdown",
      "source": [
        "### 1.1 Define data directory"
      ],
      "metadata": {
        "id": "jeZrabIFjVaR"
      }
    },
    {
      "cell_type": "code",
      "source": [
        "# Path to data directory\n",
        "data_dir = '/content/drive/MyDrive/raw_data'\n",
        "\n",
        "# Pattern matching all denoised MNI scans\n",
        "file_pattern = os.path.join(data_dir, 'Denoised_*_MNI.nii.gz')\n",
        "all_scans = sorted(glob.glob(file_pattern))\n",
        "\n",
        "print(f\"Found {len(all_scans)} scans\")"
      ],
      "metadata": {
        "colab": {
          "base_uri": "https://localhost:8080/"
        },
        "id": "Nrt5KzNQWAUs",
        "outputId": "77ae390e-fe52-4518-8321-47a6f4edd953"
      },
      "execution_count": null,
      "outputs": [
        {
          "output_type": "stream",
          "name": "stdout",
          "text": [
            "Found 84 scans\n"
          ]
        }
      ]
    },
    {
      "cell_type": "markdown",
      "source": [
        "### 1.2 Split control and patient files"
      ],
      "metadata": {
        "id": "7yPeffl5BhMh"
      }
    },
    {
      "cell_type": "code",
      "source": [
        "control_pattern = os.path.join(data_dir, 'Denoised_C*_MNI.nii.gz')\n",
        "control_scans = sorted(glob.glob(control_pattern))\n",
        "\n",
        "patient_pattern = os.path.join(data_dir, 'Denoised_p*_MNI.nii.gz')\n",
        "patient_scans = sorted(glob.glob(patient_pattern))\n",
        "\n",
        "print(f\"Found {len(control_scans)} control scans and {len(patient_scans)} patient scans\")"
      ],
      "metadata": {
        "colab": {
          "base_uri": "https://localhost:8080/"
        },
        "id": "_wDWs1MtAIaK",
        "outputId": "2f815cd3-0031-4c99-e1f9-1334f86bcfd3"
      },
      "execution_count": null,
      "outputs": [
        {
          "output_type": "stream",
          "name": "stdout",
          "text": [
            "Found 36 control scans and 48 patient scans\n"
          ]
        }
      ]
    },
    {
      "cell_type": "markdown",
      "source": [
        "##  2. ROI Definition & Time-Series Extraction"
      ],
      "metadata": {
        "id": "OTkFxQQotzVu"
      }
    },
    {
      "cell_type": "markdown",
      "source": [
        "### 2.1  Load the Schaefer Atlas for ROI definition\n",
        "\n",
        "We’ll use the Schaefer (2018) parcellation, selecting 200 regions at 2 mm resolution."
      ],
      "metadata": {
        "id": "K1YAQvdG4MCz"
      }
    },
    {
      "cell_type": "code",
      "source": [
        "# Fetch Schaefer 2018 atlas\n",
        "atlas = datasets.fetch_atlas_schaefer_2018(n_rois=200, resolution_mm=2)\n",
        "labels_img = atlas.maps\n",
        "labels = atlas.labels\n",
        "print(f\"Loaded Schaefer atlas with {len(labels)} regions\")"
      ],
      "metadata": {
        "colab": {
          "base_uri": "https://localhost:8080/",
          "height": 51
        },
        "id": "kYbssIg15ISP",
        "outputId": "8a32cb13-0944-4a59-db47-8d2412d63063"
      },
      "execution_count": null,
      "outputs": [
        {
          "output_type": "display_data",
          "data": {
            "text/plain": [
              "\u001b[1;34m[\u001b[0m\u001b[34mfetch_atlas_schaefer_2018\u001b[0m\u001b[1;34m]\u001b[0m Dataset found in \u001b[35m/root/nilearn_data/\u001b[0m\u001b[95mschaefer_2018\u001b[0m\n"
            ],
            "text/html": [
              "<pre style=\"white-space:pre;overflow-x:auto;line-height:normal;font-family:Menlo,'DejaVu Sans Mono',consolas,'Courier New',monospace\"><span style=\"color: #000080; text-decoration-color: #000080; font-weight: bold\">[</span><span style=\"color: #000080; text-decoration-color: #000080\">fetch_atlas_schaefer_2018</span><span style=\"color: #000080; text-decoration-color: #000080; font-weight: bold\">]</span> Dataset found in <span style=\"color: #800080; text-decoration-color: #800080\">/root/nilearn_data/</span><span style=\"color: #ff00ff; text-decoration-color: #ff00ff\">schaefer_2018</span>\n",
              "</pre>\n"
            ]
          },
          "metadata": {}
        },
        {
          "output_type": "stream",
          "name": "stdout",
          "text": [
            "Loaded Schaefer atlas with 201 regions\n"
          ]
        }
      ]
    },
    {
      "cell_type": "markdown",
      "source": [
        "### 2.2 Initialize the Masker\n",
        "\n",
        "Since we want to extract average Blood Oxygen Level Dependent (BOLD) signal from ROI, we will use `NiftiLabelsMasker` to extract the mean signal from each atlas region."
      ],
      "metadata": {
        "id": "raG13fxX7Iht"
      }
    },
    {
      "cell_type": "code",
      "source": [
        "masker = NiftiLabelsMasker(labels_img=labels_img,\n",
        "                            standardize=False,\n",
        "                            memory='nilearn_cache',\n",
        "                            verbose=1)"
      ],
      "metadata": {
        "id": "gxjqq3tb7IKB"
      },
      "execution_count": null,
      "outputs": []
    },
    {
      "cell_type": "markdown",
      "source": [
        "### 2.3 Extract Time Series for Each Scan"
      ],
      "metadata": {
        "id": "ecfcFM8yBLoy"
      }
    },
    {
      "cell_type": "code",
      "source": [
        "# We'll keep a dict mapping filename → 2D array (n_timepoints × n_regions)\n",
        "time_series = {}\n",
        "\n",
        "for fname in all_scans:\n",
        "    ts = masker.fit_transform(fname)  # shape: (n_timepoints, 200)\n",
        "    time_series[fname] = ts\n",
        "\n",
        "print(f\"Extracted time series for {len(time_series)} scans, each with shape {next(iter(time_series.values())).shape}\")"
      ],
      "metadata": {
        "colab": {
          "base_uri": "https://localhost:8080/",
          "height": 1000
        },
        "id": "0Cb-44n8EIyN",
        "outputId": "019b21de-5911-4802-bd46-ba49a90248ee",
        "collapsed": true
      },
      "execution_count": null,
      "outputs": [
        {
          "data": {
            "text/html": [
              "<pre style=\"white-space:pre;overflow-x:auto;line-height:normal;font-family:Menlo,'DejaVu Sans Mono',consolas,'Courier New',monospace\"><span style=\"color: #000080; text-decoration-color: #000080; font-weight: bold\">[</span><span style=\"color: #000080; text-decoration-color: #000080\">NiftiLabelsMasker.wrapped</span><span style=\"color: #000080; text-decoration-color: #000080; font-weight: bold\">]</span> loading data from \n",
              "<span style=\"color: #800080; text-decoration-color: #800080\">/root/nilearn_data/schaefer_2018/</span><span style=\"color: #ff00ff; text-decoration-color: #ff00ff\">Schaefer2018_200Parcels_7Networks_order_FSLMNI152_2mm.nii.gz</span>\n",
              "</pre>\n"
            ],
            "text/plain": [
              "\u001b[1;34m[\u001b[0m\u001b[34mNiftiLabelsMasker.wrapped\u001b[0m\u001b[1;34m]\u001b[0m loading data from \n",
              "\u001b[35m/root/nilearn_data/schaefer_2018/\u001b[0m\u001b[95mSchaefer2018_200Parcels_7Networks_order_FSLMNI152_2mm.nii.gz\u001b[0m\n"
            ]
          },
          "metadata": {},
          "output_type": "display_data"
        },
        {
          "metadata": {
            "tags": null
          },
          "name": "stdout",
          "output_type": "stream",
          "text": [
            "________________________________________________________________________________\n",
            "[Memory] Calling nilearn.maskers.base_masker.filter_and_extract...\n",
            "filter_and_extract('/content/drive/MyDrive/raw_data/Denoised_C01_rs-1_MNI.nii.gz', <nilearn.maskers.nifti_labels_masker._ExtractionFunctor object at 0x7c5ddc4b4f10>, \n",
            "{ 'background_label': 0,\n",
            "  'clean_args': None,\n",
            "  'clean_kwargs': {},\n",
            "  'cmap': 'CMRmap_r',\n",
            "  'detrend': False,\n",
            "  'dtype': None,\n",
            "  'high_pass': None,\n",
            "  'high_variance_confounds': False,\n",
            "  'keep_masked_labels': True,\n",
            "  'labels': None,\n",
            "  'labels_img': '/root/nilearn_data/schaefer_2018/Schaefer2018_200Parcels_7Networks_order_FSLMNI152_2mm.nii.gz',\n",
            "  'low_pass': None,\n",
            "  'lut': None,\n",
            "  'mask_img': None,\n",
            "  'reports': True,\n",
            "  'smoothing_fwhm': None,\n",
            "  'standardize': False,\n",
            "  'standardize_confounds': True,\n",
            "  'strategy': 'mean',\n",
            "  't_r': None,\n",
            "  'target_affine': None,\n",
            "  'target_shape': None}, confounds=None, sample_mask=None, dtype=None, memory=Memory(location=nilearn_cache/joblib), memory_level=1, verbose=1)\n"
          ]
        },
        {
          "data": {
            "text/html": [
              "<pre style=\"white-space:pre;overflow-x:auto;line-height:normal;font-family:Menlo,'DejaVu Sans Mono',consolas,'Courier New',monospace\"><span style=\"color: #000080; text-decoration-color: #000080; font-weight: bold\">[</span><span style=\"color: #000080; text-decoration-color: #000080\">NiftiLabelsMasker.wrapped</span><span style=\"color: #000080; text-decoration-color: #000080; font-weight: bold\">]</span> Loading data from <span style=\"color: #800080; text-decoration-color: #800080\">/content/drive/MyDrive/raw_data/</span><span style=\"color: #ff00ff; text-decoration-color: #ff00ff\">Denoised_C01_rs-1_MNI.nii.gz</span>\n",
              "</pre>\n"
            ],
            "text/plain": [
              "\u001b[1;34m[\u001b[0m\u001b[34mNiftiLabelsMasker.wrapped\u001b[0m\u001b[1;34m]\u001b[0m Loading data from \u001b[35m/content/drive/MyDrive/raw_data/\u001b[0m\u001b[95mDenoised_C01_rs-1_MNI.nii.gz\u001b[0m\n"
            ]
          },
          "metadata": {},
          "output_type": "display_data"
        },
        {
          "data": {
            "text/html": [
              "<pre style=\"white-space:pre;overflow-x:auto;line-height:normal;font-family:Menlo,'DejaVu Sans Mono',consolas,'Courier New',monospace\"><span style=\"color: #000080; text-decoration-color: #000080; font-weight: bold\">[</span><span style=\"color: #000080; text-decoration-color: #000080\">NiftiLabelsMasker.wrapped</span><span style=\"color: #000080; text-decoration-color: #000080; font-weight: bold\">]</span> Extracting region signals\n",
              "</pre>\n"
            ],
            "text/plain": [
              "\u001b[1;34m[\u001b[0m\u001b[34mNiftiLabelsMasker.wrapped\u001b[0m\u001b[1;34m]\u001b[0m Extracting region signals\n"
            ]
          },
          "metadata": {},
          "output_type": "display_data"
        },
        {
          "data": {
            "text/html": [
              "<pre style=\"white-space:pre;overflow-x:auto;line-height:normal;font-family:Menlo,'DejaVu Sans Mono',consolas,'Courier New',monospace\"><span style=\"color: #000080; text-decoration-color: #000080; font-weight: bold\">[</span><span style=\"color: #000080; text-decoration-color: #000080\">NiftiLabelsMasker.wrapped</span><span style=\"color: #000080; text-decoration-color: #000080; font-weight: bold\">]</span> Cleaning extracted signals\n",
              "</pre>\n"
            ],
            "text/plain": [
              "\u001b[1;34m[\u001b[0m\u001b[34mNiftiLabelsMasker.wrapped\u001b[0m\u001b[1;34m]\u001b[0m Cleaning extracted signals\n"
            ]
          },
          "metadata": {},
          "output_type": "display_data"
        },
        {
          "metadata": {
            "tags": null
          },
          "name": "stdout",
          "output_type": "stream",
          "text": [
            "______________________________________________filter_and_extract - 28.7s, 0.5min\n"
          ]
        },
        {
          "data": {
            "text/html": [
              "<pre style=\"white-space:pre;overflow-x:auto;line-height:normal;font-family:Menlo,'DejaVu Sans Mono',consolas,'Courier New',monospace\"><span style=\"color: #000080; text-decoration-color: #000080; font-weight: bold\">[</span><span style=\"color: #000080; text-decoration-color: #000080\">NiftiLabelsMasker.wrapped</span><span style=\"color: #000080; text-decoration-color: #000080; font-weight: bold\">]</span> loading data from \n",
              "<span style=\"color: #800080; text-decoration-color: #800080\">/root/nilearn_data/schaefer_2018/</span><span style=\"color: #ff00ff; text-decoration-color: #ff00ff\">Schaefer2018_200Parcels_7Networks_order_FSLMNI152_2mm.nii.gz</span>\n",
              "</pre>\n"
            ],
            "text/plain": [
              "\u001b[1;34m[\u001b[0m\u001b[34mNiftiLabelsMasker.wrapped\u001b[0m\u001b[1;34m]\u001b[0m loading data from \n",
              "\u001b[35m/root/nilearn_data/schaefer_2018/\u001b[0m\u001b[95mSchaefer2018_200Parcels_7Networks_order_FSLMNI152_2mm.nii.gz\u001b[0m\n"
            ]
          },
          "metadata": {},
          "output_type": "display_data"
        },
        {
          "metadata": {
            "tags": null
          },
          "name": "stdout",
          "output_type": "stream",
          "text": [
            "________________________________________________________________________________\n",
            "[Memory] Calling nilearn.maskers.base_masker.filter_and_extract...\n",
            "filter_and_extract('/content/drive/MyDrive/raw_data/Denoised_C01_rs-2_MNI.nii.gz', <nilearn.maskers.nifti_labels_masker._ExtractionFunctor object at 0x7c5dbf4a9bd0>, \n",
            "{ 'background_label': 0,\n",
            "  'clean_args': None,\n",
            "  'clean_kwargs': {},\n",
            "  'cmap': 'CMRmap_r',\n",
            "  'detrend': False,\n",
            "  'dtype': None,\n",
            "  'high_pass': None,\n",
            "  'high_variance_confounds': False,\n",
            "  'keep_masked_labels': True,\n",
            "  'labels': None,\n",
            "  'labels_img': '/root/nilearn_data/schaefer_2018/Schaefer2018_200Parcels_7Networks_order_FSLMNI152_2mm.nii.gz',\n",
            "  'low_pass': None,\n",
            "  'lut': None,\n",
            "  'mask_img': None,\n",
            "  'reports': True,\n",
            "  'smoothing_fwhm': None,\n",
            "  'standardize': False,\n",
            "  'standardize_confounds': True,\n",
            "  'strategy': 'mean',\n",
            "  't_r': None,\n",
            "  'target_affine': None,\n",
            "  'target_shape': None}, confounds=None, sample_mask=None, dtype=None, memory=Memory(location=nilearn_cache/joblib), memory_level=1, verbose=1)\n"
          ]
        },
        {
          "data": {
            "text/html": [
              "<pre style=\"white-space:pre;overflow-x:auto;line-height:normal;font-family:Menlo,'DejaVu Sans Mono',consolas,'Courier New',monospace\"><span style=\"color: #000080; text-decoration-color: #000080; font-weight: bold\">[</span><span style=\"color: #000080; text-decoration-color: #000080\">NiftiLabelsMasker.wrapped</span><span style=\"color: #000080; text-decoration-color: #000080; font-weight: bold\">]</span> Loading data from <span style=\"color: #800080; text-decoration-color: #800080\">/content/drive/MyDrive/raw_data/</span><span style=\"color: #ff00ff; text-decoration-color: #ff00ff\">Denoised_C01_rs-2_MNI.nii.gz</span>\n",
              "</pre>\n"
            ],
            "text/plain": [
              "\u001b[1;34m[\u001b[0m\u001b[34mNiftiLabelsMasker.wrapped\u001b[0m\u001b[1;34m]\u001b[0m Loading data from \u001b[35m/content/drive/MyDrive/raw_data/\u001b[0m\u001b[95mDenoised_C01_rs-2_MNI.nii.gz\u001b[0m\n"
            ]
          },
          "metadata": {},
          "output_type": "display_data"
        },
        {
          "data": {
            "text/html": [
              "<pre style=\"white-space:pre;overflow-x:auto;line-height:normal;font-family:Menlo,'DejaVu Sans Mono',consolas,'Courier New',monospace\"><span style=\"color: #000080; text-decoration-color: #000080; font-weight: bold\">[</span><span style=\"color: #000080; text-decoration-color: #000080\">NiftiLabelsMasker.wrapped</span><span style=\"color: #000080; text-decoration-color: #000080; font-weight: bold\">]</span> Extracting region signals\n",
              "</pre>\n"
            ],
            "text/plain": [
              "\u001b[1;34m[\u001b[0m\u001b[34mNiftiLabelsMasker.wrapped\u001b[0m\u001b[1;34m]\u001b[0m Extracting region signals\n"
            ]
          },
          "metadata": {},
          "output_type": "display_data"
        },
        {
          "data": {
            "text/html": [
              "<pre style=\"white-space:pre;overflow-x:auto;line-height:normal;font-family:Menlo,'DejaVu Sans Mono',consolas,'Courier New',monospace\"><span style=\"color: #000080; text-decoration-color: #000080; font-weight: bold\">[</span><span style=\"color: #000080; text-decoration-color: #000080\">NiftiLabelsMasker.wrapped</span><span style=\"color: #000080; text-decoration-color: #000080; font-weight: bold\">]</span> Cleaning extracted signals\n",
              "</pre>\n"
            ],
            "text/plain": [
              "\u001b[1;34m[\u001b[0m\u001b[34mNiftiLabelsMasker.wrapped\u001b[0m\u001b[1;34m]\u001b[0m Cleaning extracted signals\n"
            ]
          },
          "metadata": {},
          "output_type": "display_data"
        },
        {
          "metadata": {
            "tags": null
          },
          "name": "stdout",
          "output_type": "stream",
          "text": [
            "______________________________________________filter_and_extract - 29.7s, 0.5min\n"
          ]
        },
        {
          "data": {
            "text/html": [
              "<pre style=\"white-space:pre;overflow-x:auto;line-height:normal;font-family:Menlo,'DejaVu Sans Mono',consolas,'Courier New',monospace\"><span style=\"color: #000080; text-decoration-color: #000080; font-weight: bold\">[</span><span style=\"color: #000080; text-decoration-color: #000080\">NiftiLabelsMasker.wrapped</span><span style=\"color: #000080; text-decoration-color: #000080; font-weight: bold\">]</span> loading data from \n",
              "<span style=\"color: #800080; text-decoration-color: #800080\">/root/nilearn_data/schaefer_2018/</span><span style=\"color: #ff00ff; text-decoration-color: #ff00ff\">Schaefer2018_200Parcels_7Networks_order_FSLMNI152_2mm.nii.gz</span>\n",
              "</pre>\n"
            ],
            "text/plain": [
              "\u001b[1;34m[\u001b[0m\u001b[34mNiftiLabelsMasker.wrapped\u001b[0m\u001b[1;34m]\u001b[0m loading data from \n",
              "\u001b[35m/root/nilearn_data/schaefer_2018/\u001b[0m\u001b[95mSchaefer2018_200Parcels_7Networks_order_FSLMNI152_2mm.nii.gz\u001b[0m\n"
            ]
          },
          "metadata": {},
          "output_type": "display_data"
        },
        {
          "metadata": {
            "tags": null
          },
          "name": "stdout",
          "output_type": "stream",
          "text": [
            "________________________________________________________________________________\n",
            "[Memory] Calling nilearn.maskers.base_masker.filter_and_extract...\n",
            "filter_and_extract('/content/drive/MyDrive/raw_data/Denoised_C01_rs-3_MNI.nii.gz', <nilearn.maskers.nifti_labels_masker._ExtractionFunctor object at 0x7c5d9ad6e950>, \n",
            "{ 'background_label': 0,\n",
            "  'clean_args': None,\n",
            "  'clean_kwargs': {},\n",
            "  'cmap': 'CMRmap_r',\n",
            "  'detrend': False,\n",
            "  'dtype': None,\n",
            "  'high_pass': None,\n",
            "  'high_variance_confounds': False,\n",
            "  'keep_masked_labels': True,\n",
            "  'labels': None,\n",
            "  'labels_img': '/root/nilearn_data/schaefer_2018/Schaefer2018_200Parcels_7Networks_order_FSLMNI152_2mm.nii.gz',\n",
            "  'low_pass': None,\n",
            "  'lut': None,\n",
            "  'mask_img': None,\n",
            "  'reports': True,\n",
            "  'smoothing_fwhm': None,\n",
            "  'standardize': False,\n",
            "  'standardize_confounds': True,\n",
            "  'strategy': 'mean',\n",
            "  't_r': None,\n",
            "  'target_affine': None,\n",
            "  'target_shape': None}, confounds=None, sample_mask=None, dtype=None, memory=Memory(location=nilearn_cache/joblib), memory_level=1, verbose=1)\n"
          ]
        },
        {
          "data": {
            "text/html": [
              "<pre style=\"white-space:pre;overflow-x:auto;line-height:normal;font-family:Menlo,'DejaVu Sans Mono',consolas,'Courier New',monospace\"><span style=\"color: #000080; text-decoration-color: #000080; font-weight: bold\">[</span><span style=\"color: #000080; text-decoration-color: #000080\">NiftiLabelsMasker.wrapped</span><span style=\"color: #000080; text-decoration-color: #000080; font-weight: bold\">]</span> Loading data from <span style=\"color: #800080; text-decoration-color: #800080\">/content/drive/MyDrive/raw_data/</span><span style=\"color: #ff00ff; text-decoration-color: #ff00ff\">Denoised_C01_rs-3_MNI.nii.gz</span>\n",
              "</pre>\n"
            ],
            "text/plain": [
              "\u001b[1;34m[\u001b[0m\u001b[34mNiftiLabelsMasker.wrapped\u001b[0m\u001b[1;34m]\u001b[0m Loading data from \u001b[35m/content/drive/MyDrive/raw_data/\u001b[0m\u001b[95mDenoised_C01_rs-3_MNI.nii.gz\u001b[0m\n"
            ]
          },
          "metadata": {},
          "output_type": "display_data"
        },
        {
          "data": {
            "text/html": [
              "<pre style=\"white-space:pre;overflow-x:auto;line-height:normal;font-family:Menlo,'DejaVu Sans Mono',consolas,'Courier New',monospace\"><span style=\"color: #000080; text-decoration-color: #000080; font-weight: bold\">[</span><span style=\"color: #000080; text-decoration-color: #000080\">NiftiLabelsMasker.wrapped</span><span style=\"color: #000080; text-decoration-color: #000080; font-weight: bold\">]</span> Extracting region signals\n",
              "</pre>\n"
            ],
            "text/plain": [
              "\u001b[1;34m[\u001b[0m\u001b[34mNiftiLabelsMasker.wrapped\u001b[0m\u001b[1;34m]\u001b[0m Extracting region signals\n"
            ]
          },
          "metadata": {},
          "output_type": "display_data"
        },
        {
          "data": {
            "text/html": [
              "<pre style=\"white-space:pre;overflow-x:auto;line-height:normal;font-family:Menlo,'DejaVu Sans Mono',consolas,'Courier New',monospace\"><span style=\"color: #000080; text-decoration-color: #000080; font-weight: bold\">[</span><span style=\"color: #000080; text-decoration-color: #000080\">NiftiLabelsMasker.wrapped</span><span style=\"color: #000080; text-decoration-color: #000080; font-weight: bold\">]</span> Cleaning extracted signals\n",
              "</pre>\n"
            ],
            "text/plain": [
              "\u001b[1;34m[\u001b[0m\u001b[34mNiftiLabelsMasker.wrapped\u001b[0m\u001b[1;34m]\u001b[0m Cleaning extracted signals\n"
            ]
          },
          "metadata": {},
          "output_type": "display_data"
        },
        {
          "metadata": {
            "tags": null
          },
          "name": "stdout",
          "output_type": "stream",
          "text": [
            "______________________________________________filter_and_extract - 28.8s, 0.5min\n"
          ]
        },
        {
          "data": {
            "text/html": [
              "<pre style=\"white-space:pre;overflow-x:auto;line-height:normal;font-family:Menlo,'DejaVu Sans Mono',consolas,'Courier New',monospace\"><span style=\"color: #000080; text-decoration-color: #000080; font-weight: bold\">[</span><span style=\"color: #000080; text-decoration-color: #000080\">NiftiLabelsMasker.wrapped</span><span style=\"color: #000080; text-decoration-color: #000080; font-weight: bold\">]</span> loading data from \n",
              "<span style=\"color: #800080; text-decoration-color: #800080\">/root/nilearn_data/schaefer_2018/</span><span style=\"color: #ff00ff; text-decoration-color: #ff00ff\">Schaefer2018_200Parcels_7Networks_order_FSLMNI152_2mm.nii.gz</span>\n",
              "</pre>\n"
            ],
            "text/plain": [
              "\u001b[1;34m[\u001b[0m\u001b[34mNiftiLabelsMasker.wrapped\u001b[0m\u001b[1;34m]\u001b[0m loading data from \n",
              "\u001b[35m/root/nilearn_data/schaefer_2018/\u001b[0m\u001b[95mSchaefer2018_200Parcels_7Networks_order_FSLMNI152_2mm.nii.gz\u001b[0m\n"
            ]
          },
          "metadata": {},
          "output_type": "display_data"
        },
        {
          "metadata": {
            "tags": null
          },
          "name": "stdout",
          "output_type": "stream",
          "text": [
            "________________________________________________________________________________\n",
            "[Memory] Calling nilearn.maskers.base_masker.filter_and_extract...\n",
            "filter_and_extract('/content/drive/MyDrive/raw_data/Denoised_C02_rs-1_MNI.nii.gz', <nilearn.maskers.nifti_labels_masker._ExtractionFunctor object at 0x7c5d9ad28310>, \n",
            "{ 'background_label': 0,\n",
            "  'clean_args': None,\n",
            "  'clean_kwargs': {},\n",
            "  'cmap': 'CMRmap_r',\n",
            "  'detrend': False,\n",
            "  'dtype': None,\n",
            "  'high_pass': None,\n",
            "  'high_variance_confounds': False,\n",
            "  'keep_masked_labels': True,\n",
            "  'labels': None,\n",
            "  'labels_img': '/root/nilearn_data/schaefer_2018/Schaefer2018_200Parcels_7Networks_order_FSLMNI152_2mm.nii.gz',\n",
            "  'low_pass': None,\n",
            "  'lut': None,\n",
            "  'mask_img': None,\n",
            "  'reports': True,\n",
            "  'smoothing_fwhm': None,\n",
            "  'standardize': False,\n",
            "  'standardize_confounds': True,\n",
            "  'strategy': 'mean',\n",
            "  't_r': None,\n",
            "  'target_affine': None,\n",
            "  'target_shape': None}, confounds=None, sample_mask=None, dtype=None, memory=Memory(location=nilearn_cache/joblib), memory_level=1, verbose=1)\n"
          ]
        },
        {
          "data": {
            "text/html": [
              "<pre style=\"white-space:pre;overflow-x:auto;line-height:normal;font-family:Menlo,'DejaVu Sans Mono',consolas,'Courier New',monospace\"><span style=\"color: #000080; text-decoration-color: #000080; font-weight: bold\">[</span><span style=\"color: #000080; text-decoration-color: #000080\">NiftiLabelsMasker.wrapped</span><span style=\"color: #000080; text-decoration-color: #000080; font-weight: bold\">]</span> Loading data from <span style=\"color: #800080; text-decoration-color: #800080\">/content/drive/MyDrive/raw_data/</span><span style=\"color: #ff00ff; text-decoration-color: #ff00ff\">Denoised_C02_rs-1_MNI.nii.gz</span>\n",
              "</pre>\n"
            ],
            "text/plain": [
              "\u001b[1;34m[\u001b[0m\u001b[34mNiftiLabelsMasker.wrapped\u001b[0m\u001b[1;34m]\u001b[0m Loading data from \u001b[35m/content/drive/MyDrive/raw_data/\u001b[0m\u001b[95mDenoised_C02_rs-1_MNI.nii.gz\u001b[0m\n"
            ]
          },
          "metadata": {},
          "output_type": "display_data"
        },
        {
          "data": {
            "text/html": [
              "<pre style=\"white-space:pre;overflow-x:auto;line-height:normal;font-family:Menlo,'DejaVu Sans Mono',consolas,'Courier New',monospace\"><span style=\"color: #000080; text-decoration-color: #000080; font-weight: bold\">[</span><span style=\"color: #000080; text-decoration-color: #000080\">NiftiLabelsMasker.wrapped</span><span style=\"color: #000080; text-decoration-color: #000080; font-weight: bold\">]</span> Extracting region signals\n",
              "</pre>\n"
            ],
            "text/plain": [
              "\u001b[1;34m[\u001b[0m\u001b[34mNiftiLabelsMasker.wrapped\u001b[0m\u001b[1;34m]\u001b[0m Extracting region signals\n"
            ]
          },
          "metadata": {},
          "output_type": "display_data"
        },
        {
          "data": {
            "text/html": [
              "<pre style=\"white-space:pre;overflow-x:auto;line-height:normal;font-family:Menlo,'DejaVu Sans Mono',consolas,'Courier New',monospace\"><span style=\"color: #000080; text-decoration-color: #000080; font-weight: bold\">[</span><span style=\"color: #000080; text-decoration-color: #000080\">NiftiLabelsMasker.wrapped</span><span style=\"color: #000080; text-decoration-color: #000080; font-weight: bold\">]</span> Cleaning extracted signals\n",
              "</pre>\n"
            ],
            "text/plain": [
              "\u001b[1;34m[\u001b[0m\u001b[34mNiftiLabelsMasker.wrapped\u001b[0m\u001b[1;34m]\u001b[0m Cleaning extracted signals\n"
            ]
          },
          "metadata": {},
          "output_type": "display_data"
        },
        {
          "metadata": {
            "tags": null
          },
          "name": "stdout",
          "output_type": "stream",
          "text": [
            "______________________________________________filter_and_extract - 28.5s, 0.5min\n"
          ]
        },
        {
          "data": {
            "text/html": [
              "<pre style=\"white-space:pre;overflow-x:auto;line-height:normal;font-family:Menlo,'DejaVu Sans Mono',consolas,'Courier New',monospace\"><span style=\"color: #000080; text-decoration-color: #000080; font-weight: bold\">[</span><span style=\"color: #000080; text-decoration-color: #000080\">NiftiLabelsMasker.wrapped</span><span style=\"color: #000080; text-decoration-color: #000080; font-weight: bold\">]</span> loading data from \n",
              "<span style=\"color: #800080; text-decoration-color: #800080\">/root/nilearn_data/schaefer_2018/</span><span style=\"color: #ff00ff; text-decoration-color: #ff00ff\">Schaefer2018_200Parcels_7Networks_order_FSLMNI152_2mm.nii.gz</span>\n",
              "</pre>\n"
            ],
            "text/plain": [
              "\u001b[1;34m[\u001b[0m\u001b[34mNiftiLabelsMasker.wrapped\u001b[0m\u001b[1;34m]\u001b[0m loading data from \n",
              "\u001b[35m/root/nilearn_data/schaefer_2018/\u001b[0m\u001b[95mSchaefer2018_200Parcels_7Networks_order_FSLMNI152_2mm.nii.gz\u001b[0m\n"
            ]
          },
          "metadata": {},
          "output_type": "display_data"
        },
        {
          "metadata": {
            "tags": null
          },
          "name": "stdout",
          "output_type": "stream",
          "text": [
            "________________________________________________________________________________\n",
            "[Memory] Calling nilearn.maskers.base_masker.filter_and_extract...\n",
            "filter_and_extract('/content/drive/MyDrive/raw_data/Denoised_C02_rs-2_MNI.nii.gz', <nilearn.maskers.nifti_labels_masker._ExtractionFunctor object at 0x7c5d9e6caa50>, \n",
            "{ 'background_label': 0,\n",
            "  'clean_args': None,\n",
            "  'clean_kwargs': {},\n",
            "  'cmap': 'CMRmap_r',\n",
            "  'detrend': False,\n",
            "  'dtype': None,\n",
            "  'high_pass': None,\n",
            "  'high_variance_confounds': False,\n",
            "  'keep_masked_labels': True,\n",
            "  'labels': None,\n",
            "  'labels_img': '/root/nilearn_data/schaefer_2018/Schaefer2018_200Parcels_7Networks_order_FSLMNI152_2mm.nii.gz',\n",
            "  'low_pass': None,\n",
            "  'lut': None,\n",
            "  'mask_img': None,\n",
            "  'reports': True,\n",
            "  'smoothing_fwhm': None,\n",
            "  'standardize': False,\n",
            "  'standardize_confounds': True,\n",
            "  'strategy': 'mean',\n",
            "  't_r': None,\n",
            "  'target_affine': None,\n",
            "  'target_shape': None}, confounds=None, sample_mask=None, dtype=None, memory=Memory(location=nilearn_cache/joblib), memory_level=1, verbose=1)\n"
          ]
        },
        {
          "data": {
            "text/html": [
              "<pre style=\"white-space:pre;overflow-x:auto;line-height:normal;font-family:Menlo,'DejaVu Sans Mono',consolas,'Courier New',monospace\"><span style=\"color: #000080; text-decoration-color: #000080; font-weight: bold\">[</span><span style=\"color: #000080; text-decoration-color: #000080\">NiftiLabelsMasker.wrapped</span><span style=\"color: #000080; text-decoration-color: #000080; font-weight: bold\">]</span> Loading data from <span style=\"color: #800080; text-decoration-color: #800080\">/content/drive/MyDrive/raw_data/</span><span style=\"color: #ff00ff; text-decoration-color: #ff00ff\">Denoised_C02_rs-2_MNI.nii.gz</span>\n",
              "</pre>\n"
            ],
            "text/plain": [
              "\u001b[1;34m[\u001b[0m\u001b[34mNiftiLabelsMasker.wrapped\u001b[0m\u001b[1;34m]\u001b[0m Loading data from \u001b[35m/content/drive/MyDrive/raw_data/\u001b[0m\u001b[95mDenoised_C02_rs-2_MNI.nii.gz\u001b[0m\n"
            ]
          },
          "metadata": {},
          "output_type": "display_data"
        },
        {
          "data": {
            "text/html": [
              "<pre style=\"white-space:pre;overflow-x:auto;line-height:normal;font-family:Menlo,'DejaVu Sans Mono',consolas,'Courier New',monospace\"><span style=\"color: #000080; text-decoration-color: #000080; font-weight: bold\">[</span><span style=\"color: #000080; text-decoration-color: #000080\">NiftiLabelsMasker.wrapped</span><span style=\"color: #000080; text-decoration-color: #000080; font-weight: bold\">]</span> Extracting region signals\n",
              "</pre>\n"
            ],
            "text/plain": [
              "\u001b[1;34m[\u001b[0m\u001b[34mNiftiLabelsMasker.wrapped\u001b[0m\u001b[1;34m]\u001b[0m Extracting region signals\n"
            ]
          },
          "metadata": {},
          "output_type": "display_data"
        },
        {
          "data": {
            "text/html": [
              "<pre style=\"white-space:pre;overflow-x:auto;line-height:normal;font-family:Menlo,'DejaVu Sans Mono',consolas,'Courier New',monospace\"><span style=\"color: #000080; text-decoration-color: #000080; font-weight: bold\">[</span><span style=\"color: #000080; text-decoration-color: #000080\">NiftiLabelsMasker.wrapped</span><span style=\"color: #000080; text-decoration-color: #000080; font-weight: bold\">]</span> Cleaning extracted signals\n",
              "</pre>\n"
            ],
            "text/plain": [
              "\u001b[1;34m[\u001b[0m\u001b[34mNiftiLabelsMasker.wrapped\u001b[0m\u001b[1;34m]\u001b[0m Cleaning extracted signals\n"
            ]
          },
          "metadata": {},
          "output_type": "display_data"
        },
        {
          "metadata": {
            "tags": null
          },
          "name": "stdout",
          "output_type": "stream",
          "text": [
            "______________________________________________filter_and_extract - 28.6s, 0.5min\n"
          ]
        },
        {
          "data": {
            "text/html": [
              "<pre style=\"white-space:pre;overflow-x:auto;line-height:normal;font-family:Menlo,'DejaVu Sans Mono',consolas,'Courier New',monospace\"><span style=\"color: #000080; text-decoration-color: #000080; font-weight: bold\">[</span><span style=\"color: #000080; text-decoration-color: #000080\">NiftiLabelsMasker.wrapped</span><span style=\"color: #000080; text-decoration-color: #000080; font-weight: bold\">]</span> loading data from \n",
              "<span style=\"color: #800080; text-decoration-color: #800080\">/root/nilearn_data/schaefer_2018/</span><span style=\"color: #ff00ff; text-decoration-color: #ff00ff\">Schaefer2018_200Parcels_7Networks_order_FSLMNI152_2mm.nii.gz</span>\n",
              "</pre>\n"
            ],
            "text/plain": [
              "\u001b[1;34m[\u001b[0m\u001b[34mNiftiLabelsMasker.wrapped\u001b[0m\u001b[1;34m]\u001b[0m loading data from \n",
              "\u001b[35m/root/nilearn_data/schaefer_2018/\u001b[0m\u001b[95mSchaefer2018_200Parcels_7Networks_order_FSLMNI152_2mm.nii.gz\u001b[0m\n"
            ]
          },
          "metadata": {},
          "output_type": "display_data"
        },
        {
          "metadata": {
            "tags": null
          },
          "name": "stdout",
          "output_type": "stream",
          "text": [
            "________________________________________________________________________________\n",
            "[Memory] Calling nilearn.maskers.base_masker.filter_and_extract...\n",
            "filter_and_extract('/content/drive/MyDrive/raw_data/Denoised_C02_rs-3_MNI.nii.gz', <nilearn.maskers.nifti_labels_masker._ExtractionFunctor object at 0x7c5d9aee7250>, \n",
            "{ 'background_label': 0,\n",
            "  'clean_args': None,\n",
            "  'clean_kwargs': {},\n",
            "  'cmap': 'CMRmap_r',\n",
            "  'detrend': False,\n",
            "  'dtype': None,\n",
            "  'high_pass': None,\n",
            "  'high_variance_confounds': False,\n",
            "  'keep_masked_labels': True,\n",
            "  'labels': None,\n",
            "  'labels_img': '/root/nilearn_data/schaefer_2018/Schaefer2018_200Parcels_7Networks_order_FSLMNI152_2mm.nii.gz',\n",
            "  'low_pass': None,\n",
            "  'lut': None,\n",
            "  'mask_img': None,\n",
            "  'reports': True,\n",
            "  'smoothing_fwhm': None,\n",
            "  'standardize': False,\n",
            "  'standardize_confounds': True,\n",
            "  'strategy': 'mean',\n",
            "  't_r': None,\n",
            "  'target_affine': None,\n",
            "  'target_shape': None}, confounds=None, sample_mask=None, dtype=None, memory=Memory(location=nilearn_cache/joblib), memory_level=1, verbose=1)\n"
          ]
        },
        {
          "data": {
            "text/html": [
              "<pre style=\"white-space:pre;overflow-x:auto;line-height:normal;font-family:Menlo,'DejaVu Sans Mono',consolas,'Courier New',monospace\"><span style=\"color: #000080; text-decoration-color: #000080; font-weight: bold\">[</span><span style=\"color: #000080; text-decoration-color: #000080\">NiftiLabelsMasker.wrapped</span><span style=\"color: #000080; text-decoration-color: #000080; font-weight: bold\">]</span> Loading data from <span style=\"color: #800080; text-decoration-color: #800080\">/content/drive/MyDrive/raw_data/</span><span style=\"color: #ff00ff; text-decoration-color: #ff00ff\">Denoised_C02_rs-3_MNI.nii.gz</span>\n",
              "</pre>\n"
            ],
            "text/plain": [
              "\u001b[1;34m[\u001b[0m\u001b[34mNiftiLabelsMasker.wrapped\u001b[0m\u001b[1;34m]\u001b[0m Loading data from \u001b[35m/content/drive/MyDrive/raw_data/\u001b[0m\u001b[95mDenoised_C02_rs-3_MNI.nii.gz\u001b[0m\n"
            ]
          },
          "metadata": {},
          "output_type": "display_data"
        },
        {
          "data": {
            "text/html": [
              "<pre style=\"white-space:pre;overflow-x:auto;line-height:normal;font-family:Menlo,'DejaVu Sans Mono',consolas,'Courier New',monospace\"><span style=\"color: #000080; text-decoration-color: #000080; font-weight: bold\">[</span><span style=\"color: #000080; text-decoration-color: #000080\">NiftiLabelsMasker.wrapped</span><span style=\"color: #000080; text-decoration-color: #000080; font-weight: bold\">]</span> Extracting region signals\n",
              "</pre>\n"
            ],
            "text/plain": [
              "\u001b[1;34m[\u001b[0m\u001b[34mNiftiLabelsMasker.wrapped\u001b[0m\u001b[1;34m]\u001b[0m Extracting region signals\n"
            ]
          },
          "metadata": {},
          "output_type": "display_data"
        },
        {
          "data": {
            "text/html": [
              "<pre style=\"white-space:pre;overflow-x:auto;line-height:normal;font-family:Menlo,'DejaVu Sans Mono',consolas,'Courier New',monospace\"><span style=\"color: #000080; text-decoration-color: #000080; font-weight: bold\">[</span><span style=\"color: #000080; text-decoration-color: #000080\">NiftiLabelsMasker.wrapped</span><span style=\"color: #000080; text-decoration-color: #000080; font-weight: bold\">]</span> Cleaning extracted signals\n",
              "</pre>\n"
            ],
            "text/plain": [
              "\u001b[1;34m[\u001b[0m\u001b[34mNiftiLabelsMasker.wrapped\u001b[0m\u001b[1;34m]\u001b[0m Cleaning extracted signals\n"
            ]
          },
          "metadata": {},
          "output_type": "display_data"
        },
        {
          "metadata": {
            "tags": null
          },
          "name": "stdout",
          "output_type": "stream",
          "text": [
            "______________________________________________filter_and_extract - 29.5s, 0.5min\n"
          ]
        },
        {
          "data": {
            "text/html": [
              "<pre style=\"white-space:pre;overflow-x:auto;line-height:normal;font-family:Menlo,'DejaVu Sans Mono',consolas,'Courier New',monospace\"><span style=\"color: #000080; text-decoration-color: #000080; font-weight: bold\">[</span><span style=\"color: #000080; text-decoration-color: #000080\">NiftiLabelsMasker.wrapped</span><span style=\"color: #000080; text-decoration-color: #000080; font-weight: bold\">]</span> loading data from \n",
              "<span style=\"color: #800080; text-decoration-color: #800080\">/root/nilearn_data/schaefer_2018/</span><span style=\"color: #ff00ff; text-decoration-color: #ff00ff\">Schaefer2018_200Parcels_7Networks_order_FSLMNI152_2mm.nii.gz</span>\n",
              "</pre>\n"
            ],
            "text/plain": [
              "\u001b[1;34m[\u001b[0m\u001b[34mNiftiLabelsMasker.wrapped\u001b[0m\u001b[1;34m]\u001b[0m loading data from \n",
              "\u001b[35m/root/nilearn_data/schaefer_2018/\u001b[0m\u001b[95mSchaefer2018_200Parcels_7Networks_order_FSLMNI152_2mm.nii.gz\u001b[0m\n"
            ]
          },
          "metadata": {},
          "output_type": "display_data"
        },
        {
          "metadata": {
            "tags": null
          },
          "name": "stdout",
          "output_type": "stream",
          "text": [
            "________________________________________________________________________________\n",
            "[Memory] Calling nilearn.maskers.base_masker.filter_and_extract...\n",
            "filter_and_extract('/content/drive/MyDrive/raw_data/Denoised_C04_rs-1_MNI.nii.gz', <nilearn.maskers.nifti_labels_masker._ExtractionFunctor object at 0x7c5d9b7f8550>, \n",
            "{ 'background_label': 0,\n",
            "  'clean_args': None,\n",
            "  'clean_kwargs': {},\n",
            "  'cmap': 'CMRmap_r',\n",
            "  'detrend': False,\n",
            "  'dtype': None,\n",
            "  'high_pass': None,\n",
            "  'high_variance_confounds': False,\n",
            "  'keep_masked_labels': True,\n",
            "  'labels': None,\n",
            "  'labels_img': '/root/nilearn_data/schaefer_2018/Schaefer2018_200Parcels_7Networks_order_FSLMNI152_2mm.nii.gz',\n",
            "  'low_pass': None,\n",
            "  'lut': None,\n",
            "  'mask_img': None,\n",
            "  'reports': True,\n",
            "  'smoothing_fwhm': None,\n",
            "  'standardize': False,\n",
            "  'standardize_confounds': True,\n",
            "  'strategy': 'mean',\n",
            "  't_r': None,\n",
            "  'target_affine': None,\n",
            "  'target_shape': None}, confounds=None, sample_mask=None, dtype=None, memory=Memory(location=nilearn_cache/joblib), memory_level=1, verbose=1)\n"
          ]
        },
        {
          "data": {
            "text/html": [
              "<pre style=\"white-space:pre;overflow-x:auto;line-height:normal;font-family:Menlo,'DejaVu Sans Mono',consolas,'Courier New',monospace\"><span style=\"color: #000080; text-decoration-color: #000080; font-weight: bold\">[</span><span style=\"color: #000080; text-decoration-color: #000080\">NiftiLabelsMasker.wrapped</span><span style=\"color: #000080; text-decoration-color: #000080; font-weight: bold\">]</span> Loading data from <span style=\"color: #800080; text-decoration-color: #800080\">/content/drive/MyDrive/raw_data/</span><span style=\"color: #ff00ff; text-decoration-color: #ff00ff\">Denoised_C04_rs-1_MNI.nii.gz</span>\n",
              "</pre>\n"
            ],
            "text/plain": [
              "\u001b[1;34m[\u001b[0m\u001b[34mNiftiLabelsMasker.wrapped\u001b[0m\u001b[1;34m]\u001b[0m Loading data from \u001b[35m/content/drive/MyDrive/raw_data/\u001b[0m\u001b[95mDenoised_C04_rs-1_MNI.nii.gz\u001b[0m\n"
            ]
          },
          "metadata": {},
          "output_type": "display_data"
        },
        {
          "data": {
            "text/html": [
              "<pre style=\"white-space:pre;overflow-x:auto;line-height:normal;font-family:Menlo,'DejaVu Sans Mono',consolas,'Courier New',monospace\"><span style=\"color: #000080; text-decoration-color: #000080; font-weight: bold\">[</span><span style=\"color: #000080; text-decoration-color: #000080\">NiftiLabelsMasker.wrapped</span><span style=\"color: #000080; text-decoration-color: #000080; font-weight: bold\">]</span> Extracting region signals\n",
              "</pre>\n"
            ],
            "text/plain": [
              "\u001b[1;34m[\u001b[0m\u001b[34mNiftiLabelsMasker.wrapped\u001b[0m\u001b[1;34m]\u001b[0m Extracting region signals\n"
            ]
          },
          "metadata": {},
          "output_type": "display_data"
        },
        {
          "data": {
            "text/html": [
              "<pre style=\"white-space:pre;overflow-x:auto;line-height:normal;font-family:Menlo,'DejaVu Sans Mono',consolas,'Courier New',monospace\"><span style=\"color: #000080; text-decoration-color: #000080; font-weight: bold\">[</span><span style=\"color: #000080; text-decoration-color: #000080\">NiftiLabelsMasker.wrapped</span><span style=\"color: #000080; text-decoration-color: #000080; font-weight: bold\">]</span> Cleaning extracted signals\n",
              "</pre>\n"
            ],
            "text/plain": [
              "\u001b[1;34m[\u001b[0m\u001b[34mNiftiLabelsMasker.wrapped\u001b[0m\u001b[1;34m]\u001b[0m Cleaning extracted signals\n"
            ]
          },
          "metadata": {},
          "output_type": "display_data"
        },
        {
          "metadata": {
            "tags": null
          },
          "name": "stdout",
          "output_type": "stream",
          "text": [
            "______________________________________________filter_and_extract - 30.0s, 0.5min\n"
          ]
        },
        {
          "data": {
            "text/html": [
              "<pre style=\"white-space:pre;overflow-x:auto;line-height:normal;font-family:Menlo,'DejaVu Sans Mono',consolas,'Courier New',monospace\"><span style=\"color: #000080; text-decoration-color: #000080; font-weight: bold\">[</span><span style=\"color: #000080; text-decoration-color: #000080\">NiftiLabelsMasker.wrapped</span><span style=\"color: #000080; text-decoration-color: #000080; font-weight: bold\">]</span> loading data from \n",
              "<span style=\"color: #800080; text-decoration-color: #800080\">/root/nilearn_data/schaefer_2018/</span><span style=\"color: #ff00ff; text-decoration-color: #ff00ff\">Schaefer2018_200Parcels_7Networks_order_FSLMNI152_2mm.nii.gz</span>\n",
              "</pre>\n"
            ],
            "text/plain": [
              "\u001b[1;34m[\u001b[0m\u001b[34mNiftiLabelsMasker.wrapped\u001b[0m\u001b[1;34m]\u001b[0m loading data from \n",
              "\u001b[35m/root/nilearn_data/schaefer_2018/\u001b[0m\u001b[95mSchaefer2018_200Parcels_7Networks_order_FSLMNI152_2mm.nii.gz\u001b[0m\n"
            ]
          },
          "metadata": {},
          "output_type": "display_data"
        },
        {
          "metadata": {
            "tags": null
          },
          "name": "stdout",
          "output_type": "stream",
          "text": [
            "________________________________________________________________________________\n",
            "[Memory] Calling nilearn.maskers.base_masker.filter_and_extract...\n",
            "filter_and_extract('/content/drive/MyDrive/raw_data/Denoised_C04_rs-2_MNI.nii.gz', <nilearn.maskers.nifti_labels_masker._ExtractionFunctor object at 0x7c5d9c555090>, \n",
            "{ 'background_label': 0,\n",
            "  'clean_args': None,\n",
            "  'clean_kwargs': {},\n",
            "  'cmap': 'CMRmap_r',\n",
            "  'detrend': False,\n",
            "  'dtype': None,\n",
            "  'high_pass': None,\n",
            "  'high_variance_confounds': False,\n",
            "  'keep_masked_labels': True,\n",
            "  'labels': None,\n",
            "  'labels_img': '/root/nilearn_data/schaefer_2018/Schaefer2018_200Parcels_7Networks_order_FSLMNI152_2mm.nii.gz',\n",
            "  'low_pass': None,\n",
            "  'lut': None,\n",
            "  'mask_img': None,\n",
            "  'reports': True,\n",
            "  'smoothing_fwhm': None,\n",
            "  'standardize': False,\n",
            "  'standardize_confounds': True,\n",
            "  'strategy': 'mean',\n",
            "  't_r': None,\n",
            "  'target_affine': None,\n",
            "  'target_shape': None}, confounds=None, sample_mask=None, dtype=None, memory=Memory(location=nilearn_cache/joblib), memory_level=1, verbose=1)\n"
          ]
        },
        {
          "data": {
            "text/html": [
              "<pre style=\"white-space:pre;overflow-x:auto;line-height:normal;font-family:Menlo,'DejaVu Sans Mono',consolas,'Courier New',monospace\"><span style=\"color: #000080; text-decoration-color: #000080; font-weight: bold\">[</span><span style=\"color: #000080; text-decoration-color: #000080\">NiftiLabelsMasker.wrapped</span><span style=\"color: #000080; text-decoration-color: #000080; font-weight: bold\">]</span> Loading data from <span style=\"color: #800080; text-decoration-color: #800080\">/content/drive/MyDrive/raw_data/</span><span style=\"color: #ff00ff; text-decoration-color: #ff00ff\">Denoised_C04_rs-2_MNI.nii.gz</span>\n",
              "</pre>\n"
            ],
            "text/plain": [
              "\u001b[1;34m[\u001b[0m\u001b[34mNiftiLabelsMasker.wrapped\u001b[0m\u001b[1;34m]\u001b[0m Loading data from \u001b[35m/content/drive/MyDrive/raw_data/\u001b[0m\u001b[95mDenoised_C04_rs-2_MNI.nii.gz\u001b[0m\n"
            ]
          },
          "metadata": {},
          "output_type": "display_data"
        },
        {
          "data": {
            "text/html": [
              "<pre style=\"white-space:pre;overflow-x:auto;line-height:normal;font-family:Menlo,'DejaVu Sans Mono',consolas,'Courier New',monospace\"><span style=\"color: #000080; text-decoration-color: #000080; font-weight: bold\">[</span><span style=\"color: #000080; text-decoration-color: #000080\">NiftiLabelsMasker.wrapped</span><span style=\"color: #000080; text-decoration-color: #000080; font-weight: bold\">]</span> Extracting region signals\n",
              "</pre>\n"
            ],
            "text/plain": [
              "\u001b[1;34m[\u001b[0m\u001b[34mNiftiLabelsMasker.wrapped\u001b[0m\u001b[1;34m]\u001b[0m Extracting region signals\n"
            ]
          },
          "metadata": {},
          "output_type": "display_data"
        },
        {
          "data": {
            "text/html": [
              "<pre style=\"white-space:pre;overflow-x:auto;line-height:normal;font-family:Menlo,'DejaVu Sans Mono',consolas,'Courier New',monospace\"><span style=\"color: #000080; text-decoration-color: #000080; font-weight: bold\">[</span><span style=\"color: #000080; text-decoration-color: #000080\">NiftiLabelsMasker.wrapped</span><span style=\"color: #000080; text-decoration-color: #000080; font-weight: bold\">]</span> Cleaning extracted signals\n",
              "</pre>\n"
            ],
            "text/plain": [
              "\u001b[1;34m[\u001b[0m\u001b[34mNiftiLabelsMasker.wrapped\u001b[0m\u001b[1;34m]\u001b[0m Cleaning extracted signals\n"
            ]
          },
          "metadata": {},
          "output_type": "display_data"
        },
        {
          "metadata": {
            "tags": null
          },
          "name": "stdout",
          "output_type": "stream",
          "text": [
            "______________________________________________filter_and_extract - 29.6s, 0.5min\n"
          ]
        },
        {
          "data": {
            "text/html": [
              "<pre style=\"white-space:pre;overflow-x:auto;line-height:normal;font-family:Menlo,'DejaVu Sans Mono',consolas,'Courier New',monospace\"><span style=\"color: #000080; text-decoration-color: #000080; font-weight: bold\">[</span><span style=\"color: #000080; text-decoration-color: #000080\">NiftiLabelsMasker.wrapped</span><span style=\"color: #000080; text-decoration-color: #000080; font-weight: bold\">]</span> loading data from \n",
              "<span style=\"color: #800080; text-decoration-color: #800080\">/root/nilearn_data/schaefer_2018/</span><span style=\"color: #ff00ff; text-decoration-color: #ff00ff\">Schaefer2018_200Parcels_7Networks_order_FSLMNI152_2mm.nii.gz</span>\n",
              "</pre>\n"
            ],
            "text/plain": [
              "\u001b[1;34m[\u001b[0m\u001b[34mNiftiLabelsMasker.wrapped\u001b[0m\u001b[1;34m]\u001b[0m loading data from \n",
              "\u001b[35m/root/nilearn_data/schaefer_2018/\u001b[0m\u001b[95mSchaefer2018_200Parcels_7Networks_order_FSLMNI152_2mm.nii.gz\u001b[0m\n"
            ]
          },
          "metadata": {},
          "output_type": "display_data"
        },
        {
          "metadata": {
            "tags": null
          },
          "name": "stdout",
          "output_type": "stream",
          "text": [
            "________________________________________________________________________________\n",
            "[Memory] Calling nilearn.maskers.base_masker.filter_and_extract...\n",
            "filter_and_extract('/content/drive/MyDrive/raw_data/Denoised_C04_rs-3_MNI.nii.gz', <nilearn.maskers.nifti_labels_masker._ExtractionFunctor object at 0x7c5d9feff810>, \n",
            "{ 'background_label': 0,\n",
            "  'clean_args': None,\n",
            "  'clean_kwargs': {},\n",
            "  'cmap': 'CMRmap_r',\n",
            "  'detrend': False,\n",
            "  'dtype': None,\n",
            "  'high_pass': None,\n",
            "  'high_variance_confounds': False,\n",
            "  'keep_masked_labels': True,\n",
            "  'labels': None,\n",
            "  'labels_img': '/root/nilearn_data/schaefer_2018/Schaefer2018_200Parcels_7Networks_order_FSLMNI152_2mm.nii.gz',\n",
            "  'low_pass': None,\n",
            "  'lut': None,\n",
            "  'mask_img': None,\n",
            "  'reports': True,\n",
            "  'smoothing_fwhm': None,\n",
            "  'standardize': False,\n",
            "  'standardize_confounds': True,\n",
            "  'strategy': 'mean',\n",
            "  't_r': None,\n",
            "  'target_affine': None,\n",
            "  'target_shape': None}, confounds=None, sample_mask=None, dtype=None, memory=Memory(location=nilearn_cache/joblib), memory_level=1, verbose=1)\n"
          ]
        },
        {
          "data": {
            "text/html": [
              "<pre style=\"white-space:pre;overflow-x:auto;line-height:normal;font-family:Menlo,'DejaVu Sans Mono',consolas,'Courier New',monospace\"><span style=\"color: #000080; text-decoration-color: #000080; font-weight: bold\">[</span><span style=\"color: #000080; text-decoration-color: #000080\">NiftiLabelsMasker.wrapped</span><span style=\"color: #000080; text-decoration-color: #000080; font-weight: bold\">]</span> Loading data from <span style=\"color: #800080; text-decoration-color: #800080\">/content/drive/MyDrive/raw_data/</span><span style=\"color: #ff00ff; text-decoration-color: #ff00ff\">Denoised_C04_rs-3_MNI.nii.gz</span>\n",
              "</pre>\n"
            ],
            "text/plain": [
              "\u001b[1;34m[\u001b[0m\u001b[34mNiftiLabelsMasker.wrapped\u001b[0m\u001b[1;34m]\u001b[0m Loading data from \u001b[35m/content/drive/MyDrive/raw_data/\u001b[0m\u001b[95mDenoised_C04_rs-3_MNI.nii.gz\u001b[0m\n"
            ]
          },
          "metadata": {},
          "output_type": "display_data"
        },
        {
          "data": {
            "text/html": [
              "<pre style=\"white-space:pre;overflow-x:auto;line-height:normal;font-family:Menlo,'DejaVu Sans Mono',consolas,'Courier New',monospace\"><span style=\"color: #000080; text-decoration-color: #000080; font-weight: bold\">[</span><span style=\"color: #000080; text-decoration-color: #000080\">NiftiLabelsMasker.wrapped</span><span style=\"color: #000080; text-decoration-color: #000080; font-weight: bold\">]</span> Extracting region signals\n",
              "</pre>\n"
            ],
            "text/plain": [
              "\u001b[1;34m[\u001b[0m\u001b[34mNiftiLabelsMasker.wrapped\u001b[0m\u001b[1;34m]\u001b[0m Extracting region signals\n"
            ]
          },
          "metadata": {},
          "output_type": "display_data"
        },
        {
          "data": {
            "text/html": [
              "<pre style=\"white-space:pre;overflow-x:auto;line-height:normal;font-family:Menlo,'DejaVu Sans Mono',consolas,'Courier New',monospace\"><span style=\"color: #000080; text-decoration-color: #000080; font-weight: bold\">[</span><span style=\"color: #000080; text-decoration-color: #000080\">NiftiLabelsMasker.wrapped</span><span style=\"color: #000080; text-decoration-color: #000080; font-weight: bold\">]</span> Cleaning extracted signals\n",
              "</pre>\n"
            ],
            "text/plain": [
              "\u001b[1;34m[\u001b[0m\u001b[34mNiftiLabelsMasker.wrapped\u001b[0m\u001b[1;34m]\u001b[0m Cleaning extracted signals\n"
            ]
          },
          "metadata": {},
          "output_type": "display_data"
        },
        {
          "metadata": {
            "tags": null
          },
          "name": "stdout",
          "output_type": "stream",
          "text": [
            "______________________________________________filter_and_extract - 29.0s, 0.5min\n"
          ]
        },
        {
          "data": {
            "text/html": [
              "<pre style=\"white-space:pre;overflow-x:auto;line-height:normal;font-family:Menlo,'DejaVu Sans Mono',consolas,'Courier New',monospace\"><span style=\"color: #000080; text-decoration-color: #000080; font-weight: bold\">[</span><span style=\"color: #000080; text-decoration-color: #000080\">NiftiLabelsMasker.wrapped</span><span style=\"color: #000080; text-decoration-color: #000080; font-weight: bold\">]</span> loading data from \n",
              "<span style=\"color: #800080; text-decoration-color: #800080\">/root/nilearn_data/schaefer_2018/</span><span style=\"color: #ff00ff; text-decoration-color: #ff00ff\">Schaefer2018_200Parcels_7Networks_order_FSLMNI152_2mm.nii.gz</span>\n",
              "</pre>\n"
            ],
            "text/plain": [
              "\u001b[1;34m[\u001b[0m\u001b[34mNiftiLabelsMasker.wrapped\u001b[0m\u001b[1;34m]\u001b[0m loading data from \n",
              "\u001b[35m/root/nilearn_data/schaefer_2018/\u001b[0m\u001b[95mSchaefer2018_200Parcels_7Networks_order_FSLMNI152_2mm.nii.gz\u001b[0m\n"
            ]
          },
          "metadata": {},
          "output_type": "display_data"
        },
        {
          "metadata": {
            "tags": null
          },
          "name": "stdout",
          "output_type": "stream",
          "text": [
            "________________________________________________________________________________\n",
            "[Memory] Calling nilearn.maskers.base_masker.filter_and_extract...\n",
            "filter_and_extract('/content/drive/MyDrive/raw_data/Denoised_C05_rs-1_MNI.nii.gz', <nilearn.maskers.nifti_labels_masker._ExtractionFunctor object at 0x7c5d9b9cc650>, \n",
            "{ 'background_label': 0,\n",
            "  'clean_args': None,\n",
            "  'clean_kwargs': {},\n",
            "  'cmap': 'CMRmap_r',\n",
            "  'detrend': False,\n",
            "  'dtype': None,\n",
            "  'high_pass': None,\n",
            "  'high_variance_confounds': False,\n",
            "  'keep_masked_labels': True,\n",
            "  'labels': None,\n",
            "  'labels_img': '/root/nilearn_data/schaefer_2018/Schaefer2018_200Parcels_7Networks_order_FSLMNI152_2mm.nii.gz',\n",
            "  'low_pass': None,\n",
            "  'lut': None,\n",
            "  'mask_img': None,\n",
            "  'reports': True,\n",
            "  'smoothing_fwhm': None,\n",
            "  'standardize': False,\n",
            "  'standardize_confounds': True,\n",
            "  'strategy': 'mean',\n",
            "  't_r': None,\n",
            "  'target_affine': None,\n",
            "  'target_shape': None}, confounds=None, sample_mask=None, dtype=None, memory=Memory(location=nilearn_cache/joblib), memory_level=1, verbose=1)\n"
          ]
        },
        {
          "data": {
            "text/html": [
              "<pre style=\"white-space:pre;overflow-x:auto;line-height:normal;font-family:Menlo,'DejaVu Sans Mono',consolas,'Courier New',monospace\"><span style=\"color: #000080; text-decoration-color: #000080; font-weight: bold\">[</span><span style=\"color: #000080; text-decoration-color: #000080\">NiftiLabelsMasker.wrapped</span><span style=\"color: #000080; text-decoration-color: #000080; font-weight: bold\">]</span> Loading data from <span style=\"color: #800080; text-decoration-color: #800080\">/content/drive/MyDrive/raw_data/</span><span style=\"color: #ff00ff; text-decoration-color: #ff00ff\">Denoised_C05_rs-1_MNI.nii.gz</span>\n",
              "</pre>\n"
            ],
            "text/plain": [
              "\u001b[1;34m[\u001b[0m\u001b[34mNiftiLabelsMasker.wrapped\u001b[0m\u001b[1;34m]\u001b[0m Loading data from \u001b[35m/content/drive/MyDrive/raw_data/\u001b[0m\u001b[95mDenoised_C05_rs-1_MNI.nii.gz\u001b[0m\n"
            ]
          },
          "metadata": {},
          "output_type": "display_data"
        },
        {
          "data": {
            "text/html": [
              "<pre style=\"white-space:pre;overflow-x:auto;line-height:normal;font-family:Menlo,'DejaVu Sans Mono',consolas,'Courier New',monospace\"><span style=\"color: #000080; text-decoration-color: #000080; font-weight: bold\">[</span><span style=\"color: #000080; text-decoration-color: #000080\">NiftiLabelsMasker.wrapped</span><span style=\"color: #000080; text-decoration-color: #000080; font-weight: bold\">]</span> Extracting region signals\n",
              "</pre>\n"
            ],
            "text/plain": [
              "\u001b[1;34m[\u001b[0m\u001b[34mNiftiLabelsMasker.wrapped\u001b[0m\u001b[1;34m]\u001b[0m Extracting region signals\n"
            ]
          },
          "metadata": {},
          "output_type": "display_data"
        },
        {
          "data": {
            "text/html": [
              "<pre style=\"white-space:pre;overflow-x:auto;line-height:normal;font-family:Menlo,'DejaVu Sans Mono',consolas,'Courier New',monospace\"><span style=\"color: #000080; text-decoration-color: #000080; font-weight: bold\">[</span><span style=\"color: #000080; text-decoration-color: #000080\">NiftiLabelsMasker.wrapped</span><span style=\"color: #000080; text-decoration-color: #000080; font-weight: bold\">]</span> Cleaning extracted signals\n",
              "</pre>\n"
            ],
            "text/plain": [
              "\u001b[1;34m[\u001b[0m\u001b[34mNiftiLabelsMasker.wrapped\u001b[0m\u001b[1;34m]\u001b[0m Cleaning extracted signals\n"
            ]
          },
          "metadata": {},
          "output_type": "display_data"
        },
        {
          "metadata": {
            "tags": null
          },
          "name": "stdout",
          "output_type": "stream",
          "text": [
            "______________________________________________filter_and_extract - 29.8s, 0.5min\n"
          ]
        },
        {
          "data": {
            "text/html": [
              "<pre style=\"white-space:pre;overflow-x:auto;line-height:normal;font-family:Menlo,'DejaVu Sans Mono',consolas,'Courier New',monospace\"><span style=\"color: #000080; text-decoration-color: #000080; font-weight: bold\">[</span><span style=\"color: #000080; text-decoration-color: #000080\">NiftiLabelsMasker.wrapped</span><span style=\"color: #000080; text-decoration-color: #000080; font-weight: bold\">]</span> loading data from \n",
              "<span style=\"color: #800080; text-decoration-color: #800080\">/root/nilearn_data/schaefer_2018/</span><span style=\"color: #ff00ff; text-decoration-color: #ff00ff\">Schaefer2018_200Parcels_7Networks_order_FSLMNI152_2mm.nii.gz</span>\n",
              "</pre>\n"
            ],
            "text/plain": [
              "\u001b[1;34m[\u001b[0m\u001b[34mNiftiLabelsMasker.wrapped\u001b[0m\u001b[1;34m]\u001b[0m loading data from \n",
              "\u001b[35m/root/nilearn_data/schaefer_2018/\u001b[0m\u001b[95mSchaefer2018_200Parcels_7Networks_order_FSLMNI152_2mm.nii.gz\u001b[0m\n"
            ]
          },
          "metadata": {},
          "output_type": "display_data"
        },
        {
          "metadata": {
            "tags": null
          },
          "name": "stdout",
          "output_type": "stream",
          "text": [
            "________________________________________________________________________________\n",
            "[Memory] Calling nilearn.maskers.base_masker.filter_and_extract...\n",
            "filter_and_extract('/content/drive/MyDrive/raw_data/Denoised_C05_rs-2_MNI.nii.gz', <nilearn.maskers.nifti_labels_masker._ExtractionFunctor object at 0x7c5dbf084bd0>, \n",
            "{ 'background_label': 0,\n",
            "  'clean_args': None,\n",
            "  'clean_kwargs': {},\n",
            "  'cmap': 'CMRmap_r',\n",
            "  'detrend': False,\n",
            "  'dtype': None,\n",
            "  'high_pass': None,\n",
            "  'high_variance_confounds': False,\n",
            "  'keep_masked_labels': True,\n",
            "  'labels': None,\n",
            "  'labels_img': '/root/nilearn_data/schaefer_2018/Schaefer2018_200Parcels_7Networks_order_FSLMNI152_2mm.nii.gz',\n",
            "  'low_pass': None,\n",
            "  'lut': None,\n",
            "  'mask_img': None,\n",
            "  'reports': True,\n",
            "  'smoothing_fwhm': None,\n",
            "  'standardize': False,\n",
            "  'standardize_confounds': True,\n",
            "  'strategy': 'mean',\n",
            "  't_r': None,\n",
            "  'target_affine': None,\n",
            "  'target_shape': None}, confounds=None, sample_mask=None, dtype=None, memory=Memory(location=nilearn_cache/joblib), memory_level=1, verbose=1)\n"
          ]
        },
        {
          "data": {
            "text/html": [
              "<pre style=\"white-space:pre;overflow-x:auto;line-height:normal;font-family:Menlo,'DejaVu Sans Mono',consolas,'Courier New',monospace\"><span style=\"color: #000080; text-decoration-color: #000080; font-weight: bold\">[</span><span style=\"color: #000080; text-decoration-color: #000080\">NiftiLabelsMasker.wrapped</span><span style=\"color: #000080; text-decoration-color: #000080; font-weight: bold\">]</span> Loading data from <span style=\"color: #800080; text-decoration-color: #800080\">/content/drive/MyDrive/raw_data/</span><span style=\"color: #ff00ff; text-decoration-color: #ff00ff\">Denoised_C05_rs-2_MNI.nii.gz</span>\n",
              "</pre>\n"
            ],
            "text/plain": [
              "\u001b[1;34m[\u001b[0m\u001b[34mNiftiLabelsMasker.wrapped\u001b[0m\u001b[1;34m]\u001b[0m Loading data from \u001b[35m/content/drive/MyDrive/raw_data/\u001b[0m\u001b[95mDenoised_C05_rs-2_MNI.nii.gz\u001b[0m\n"
            ]
          },
          "metadata": {},
          "output_type": "display_data"
        },
        {
          "data": {
            "text/html": [
              "<pre style=\"white-space:pre;overflow-x:auto;line-height:normal;font-family:Menlo,'DejaVu Sans Mono',consolas,'Courier New',monospace\"><span style=\"color: #000080; text-decoration-color: #000080; font-weight: bold\">[</span><span style=\"color: #000080; text-decoration-color: #000080\">NiftiLabelsMasker.wrapped</span><span style=\"color: #000080; text-decoration-color: #000080; font-weight: bold\">]</span> Extracting region signals\n",
              "</pre>\n"
            ],
            "text/plain": [
              "\u001b[1;34m[\u001b[0m\u001b[34mNiftiLabelsMasker.wrapped\u001b[0m\u001b[1;34m]\u001b[0m Extracting region signals\n"
            ]
          },
          "metadata": {},
          "output_type": "display_data"
        },
        {
          "data": {
            "text/html": [
              "<pre style=\"white-space:pre;overflow-x:auto;line-height:normal;font-family:Menlo,'DejaVu Sans Mono',consolas,'Courier New',monospace\"><span style=\"color: #000080; text-decoration-color: #000080; font-weight: bold\">[</span><span style=\"color: #000080; text-decoration-color: #000080\">NiftiLabelsMasker.wrapped</span><span style=\"color: #000080; text-decoration-color: #000080; font-weight: bold\">]</span> Cleaning extracted signals\n",
              "</pre>\n"
            ],
            "text/plain": [
              "\u001b[1;34m[\u001b[0m\u001b[34mNiftiLabelsMasker.wrapped\u001b[0m\u001b[1;34m]\u001b[0m Cleaning extracted signals\n"
            ]
          },
          "metadata": {},
          "output_type": "display_data"
        },
        {
          "metadata": {
            "tags": null
          },
          "name": "stdout",
          "output_type": "stream",
          "text": [
            "______________________________________________filter_and_extract - 29.5s, 0.5min\n"
          ]
        },
        {
          "data": {
            "text/html": [
              "<pre style=\"white-space:pre;overflow-x:auto;line-height:normal;font-family:Menlo,'DejaVu Sans Mono',consolas,'Courier New',monospace\"><span style=\"color: #000080; text-decoration-color: #000080; font-weight: bold\">[</span><span style=\"color: #000080; text-decoration-color: #000080\">NiftiLabelsMasker.wrapped</span><span style=\"color: #000080; text-decoration-color: #000080; font-weight: bold\">]</span> loading data from \n",
              "<span style=\"color: #800080; text-decoration-color: #800080\">/root/nilearn_data/schaefer_2018/</span><span style=\"color: #ff00ff; text-decoration-color: #ff00ff\">Schaefer2018_200Parcels_7Networks_order_FSLMNI152_2mm.nii.gz</span>\n",
              "</pre>\n"
            ],
            "text/plain": [
              "\u001b[1;34m[\u001b[0m\u001b[34mNiftiLabelsMasker.wrapped\u001b[0m\u001b[1;34m]\u001b[0m loading data from \n",
              "\u001b[35m/root/nilearn_data/schaefer_2018/\u001b[0m\u001b[95mSchaefer2018_200Parcels_7Networks_order_FSLMNI152_2mm.nii.gz\u001b[0m\n"
            ]
          },
          "metadata": {},
          "output_type": "display_data"
        },
        {
          "metadata": {
            "tags": null
          },
          "name": "stdout",
          "output_type": "stream",
          "text": [
            "________________________________________________________________________________\n",
            "[Memory] Calling nilearn.maskers.base_masker.filter_and_extract...\n",
            "filter_and_extract('/content/drive/MyDrive/raw_data/Denoised_C05_rs-3_MNI.nii.gz', <nilearn.maskers.nifti_labels_masker._ExtractionFunctor object at 0x7c5dbe9ef810>, \n",
            "{ 'background_label': 0,\n",
            "  'clean_args': None,\n",
            "  'clean_kwargs': {},\n",
            "  'cmap': 'CMRmap_r',\n",
            "  'detrend': False,\n",
            "  'dtype': None,\n",
            "  'high_pass': None,\n",
            "  'high_variance_confounds': False,\n",
            "  'keep_masked_labels': True,\n",
            "  'labels': None,\n",
            "  'labels_img': '/root/nilearn_data/schaefer_2018/Schaefer2018_200Parcels_7Networks_order_FSLMNI152_2mm.nii.gz',\n",
            "  'low_pass': None,\n",
            "  'lut': None,\n",
            "  'mask_img': None,\n",
            "  'reports': True,\n",
            "  'smoothing_fwhm': None,\n",
            "  'standardize': False,\n",
            "  'standardize_confounds': True,\n",
            "  'strategy': 'mean',\n",
            "  't_r': None,\n",
            "  'target_affine': None,\n",
            "  'target_shape': None}, confounds=None, sample_mask=None, dtype=None, memory=Memory(location=nilearn_cache/joblib), memory_level=1, verbose=1)\n"
          ]
        },
        {
          "data": {
            "text/html": [
              "<pre style=\"white-space:pre;overflow-x:auto;line-height:normal;font-family:Menlo,'DejaVu Sans Mono',consolas,'Courier New',monospace\"><span style=\"color: #000080; text-decoration-color: #000080; font-weight: bold\">[</span><span style=\"color: #000080; text-decoration-color: #000080\">NiftiLabelsMasker.wrapped</span><span style=\"color: #000080; text-decoration-color: #000080; font-weight: bold\">]</span> Loading data from <span style=\"color: #800080; text-decoration-color: #800080\">/content/drive/MyDrive/raw_data/</span><span style=\"color: #ff00ff; text-decoration-color: #ff00ff\">Denoised_C05_rs-3_MNI.nii.gz</span>\n",
              "</pre>\n"
            ],
            "text/plain": [
              "\u001b[1;34m[\u001b[0m\u001b[34mNiftiLabelsMasker.wrapped\u001b[0m\u001b[1;34m]\u001b[0m Loading data from \u001b[35m/content/drive/MyDrive/raw_data/\u001b[0m\u001b[95mDenoised_C05_rs-3_MNI.nii.gz\u001b[0m\n"
            ]
          },
          "metadata": {},
          "output_type": "display_data"
        },
        {
          "data": {
            "text/html": [
              "<pre style=\"white-space:pre;overflow-x:auto;line-height:normal;font-family:Menlo,'DejaVu Sans Mono',consolas,'Courier New',monospace\"><span style=\"color: #000080; text-decoration-color: #000080; font-weight: bold\">[</span><span style=\"color: #000080; text-decoration-color: #000080\">NiftiLabelsMasker.wrapped</span><span style=\"color: #000080; text-decoration-color: #000080; font-weight: bold\">]</span> Extracting region signals\n",
              "</pre>\n"
            ],
            "text/plain": [
              "\u001b[1;34m[\u001b[0m\u001b[34mNiftiLabelsMasker.wrapped\u001b[0m\u001b[1;34m]\u001b[0m Extracting region signals\n"
            ]
          },
          "metadata": {},
          "output_type": "display_data"
        },
        {
          "data": {
            "text/html": [
              "<pre style=\"white-space:pre;overflow-x:auto;line-height:normal;font-family:Menlo,'DejaVu Sans Mono',consolas,'Courier New',monospace\"><span style=\"color: #000080; text-decoration-color: #000080; font-weight: bold\">[</span><span style=\"color: #000080; text-decoration-color: #000080\">NiftiLabelsMasker.wrapped</span><span style=\"color: #000080; text-decoration-color: #000080; font-weight: bold\">]</span> Cleaning extracted signals\n",
              "</pre>\n"
            ],
            "text/plain": [
              "\u001b[1;34m[\u001b[0m\u001b[34mNiftiLabelsMasker.wrapped\u001b[0m\u001b[1;34m]\u001b[0m Cleaning extracted signals\n"
            ]
          },
          "metadata": {},
          "output_type": "display_data"
        },
        {
          "metadata": {
            "tags": null
          },
          "name": "stdout",
          "output_type": "stream",
          "text": [
            "______________________________________________filter_and_extract - 29.2s, 0.5min\n"
          ]
        },
        {
          "data": {
            "text/html": [
              "<pre style=\"white-space:pre;overflow-x:auto;line-height:normal;font-family:Menlo,'DejaVu Sans Mono',consolas,'Courier New',monospace\"><span style=\"color: #000080; text-decoration-color: #000080; font-weight: bold\">[</span><span style=\"color: #000080; text-decoration-color: #000080\">NiftiLabelsMasker.wrapped</span><span style=\"color: #000080; text-decoration-color: #000080; font-weight: bold\">]</span> loading data from \n",
              "<span style=\"color: #800080; text-decoration-color: #800080\">/root/nilearn_data/schaefer_2018/</span><span style=\"color: #ff00ff; text-decoration-color: #ff00ff\">Schaefer2018_200Parcels_7Networks_order_FSLMNI152_2mm.nii.gz</span>\n",
              "</pre>\n"
            ],
            "text/plain": [
              "\u001b[1;34m[\u001b[0m\u001b[34mNiftiLabelsMasker.wrapped\u001b[0m\u001b[1;34m]\u001b[0m loading data from \n",
              "\u001b[35m/root/nilearn_data/schaefer_2018/\u001b[0m\u001b[95mSchaefer2018_200Parcels_7Networks_order_FSLMNI152_2mm.nii.gz\u001b[0m\n"
            ]
          },
          "metadata": {},
          "output_type": "display_data"
        },
        {
          "metadata": {
            "tags": null
          },
          "name": "stdout",
          "output_type": "stream",
          "text": [
            "________________________________________________________________________________\n",
            "[Memory] Calling nilearn.maskers.base_masker.filter_and_extract...\n",
            "filter_and_extract('/content/drive/MyDrive/raw_data/Denoised_C06_rs-1_MNI.nii.gz', <nilearn.maskers.nifti_labels_masker._ExtractionFunctor object at 0x7c5d9c731310>, \n",
            "{ 'background_label': 0,\n",
            "  'clean_args': None,\n",
            "  'clean_kwargs': {},\n",
            "  'cmap': 'CMRmap_r',\n",
            "  'detrend': False,\n",
            "  'dtype': None,\n",
            "  'high_pass': None,\n",
            "  'high_variance_confounds': False,\n",
            "  'keep_masked_labels': True,\n",
            "  'labels': None,\n",
            "  'labels_img': '/root/nilearn_data/schaefer_2018/Schaefer2018_200Parcels_7Networks_order_FSLMNI152_2mm.nii.gz',\n",
            "  'low_pass': None,\n",
            "  'lut': None,\n",
            "  'mask_img': None,\n",
            "  'reports': True,\n",
            "  'smoothing_fwhm': None,\n",
            "  'standardize': False,\n",
            "  'standardize_confounds': True,\n",
            "  'strategy': 'mean',\n",
            "  't_r': None,\n",
            "  'target_affine': None,\n",
            "  'target_shape': None}, confounds=None, sample_mask=None, dtype=None, memory=Memory(location=nilearn_cache/joblib), memory_level=1, verbose=1)\n"
          ]
        },
        {
          "data": {
            "text/html": [
              "<pre style=\"white-space:pre;overflow-x:auto;line-height:normal;font-family:Menlo,'DejaVu Sans Mono',consolas,'Courier New',monospace\"><span style=\"color: #000080; text-decoration-color: #000080; font-weight: bold\">[</span><span style=\"color: #000080; text-decoration-color: #000080\">NiftiLabelsMasker.wrapped</span><span style=\"color: #000080; text-decoration-color: #000080; font-weight: bold\">]</span> Loading data from <span style=\"color: #800080; text-decoration-color: #800080\">/content/drive/MyDrive/raw_data/</span><span style=\"color: #ff00ff; text-decoration-color: #ff00ff\">Denoised_C06_rs-1_MNI.nii.gz</span>\n",
              "</pre>\n"
            ],
            "text/plain": [
              "\u001b[1;34m[\u001b[0m\u001b[34mNiftiLabelsMasker.wrapped\u001b[0m\u001b[1;34m]\u001b[0m Loading data from \u001b[35m/content/drive/MyDrive/raw_data/\u001b[0m\u001b[95mDenoised_C06_rs-1_MNI.nii.gz\u001b[0m\n"
            ]
          },
          "metadata": {},
          "output_type": "display_data"
        },
        {
          "data": {
            "text/html": [
              "<pre style=\"white-space:pre;overflow-x:auto;line-height:normal;font-family:Menlo,'DejaVu Sans Mono',consolas,'Courier New',monospace\"><span style=\"color: #000080; text-decoration-color: #000080; font-weight: bold\">[</span><span style=\"color: #000080; text-decoration-color: #000080\">NiftiLabelsMasker.wrapped</span><span style=\"color: #000080; text-decoration-color: #000080; font-weight: bold\">]</span> Extracting region signals\n",
              "</pre>\n"
            ],
            "text/plain": [
              "\u001b[1;34m[\u001b[0m\u001b[34mNiftiLabelsMasker.wrapped\u001b[0m\u001b[1;34m]\u001b[0m Extracting region signals\n"
            ]
          },
          "metadata": {},
          "output_type": "display_data"
        },
        {
          "data": {
            "text/html": [
              "<pre style=\"white-space:pre;overflow-x:auto;line-height:normal;font-family:Menlo,'DejaVu Sans Mono',consolas,'Courier New',monospace\"><span style=\"color: #000080; text-decoration-color: #000080; font-weight: bold\">[</span><span style=\"color: #000080; text-decoration-color: #000080\">NiftiLabelsMasker.wrapped</span><span style=\"color: #000080; text-decoration-color: #000080; font-weight: bold\">]</span> Cleaning extracted signals\n",
              "</pre>\n"
            ],
            "text/plain": [
              "\u001b[1;34m[\u001b[0m\u001b[34mNiftiLabelsMasker.wrapped\u001b[0m\u001b[1;34m]\u001b[0m Cleaning extracted signals\n"
            ]
          },
          "metadata": {},
          "output_type": "display_data"
        },
        {
          "metadata": {
            "tags": null
          },
          "name": "stdout",
          "output_type": "stream",
          "text": [
            "______________________________________________filter_and_extract - 29.2s, 0.5min\n"
          ]
        },
        {
          "data": {
            "text/html": [
              "<pre style=\"white-space:pre;overflow-x:auto;line-height:normal;font-family:Menlo,'DejaVu Sans Mono',consolas,'Courier New',monospace\"><span style=\"color: #000080; text-decoration-color: #000080; font-weight: bold\">[</span><span style=\"color: #000080; text-decoration-color: #000080\">NiftiLabelsMasker.wrapped</span><span style=\"color: #000080; text-decoration-color: #000080; font-weight: bold\">]</span> loading data from \n",
              "<span style=\"color: #800080; text-decoration-color: #800080\">/root/nilearn_data/schaefer_2018/</span><span style=\"color: #ff00ff; text-decoration-color: #ff00ff\">Schaefer2018_200Parcels_7Networks_order_FSLMNI152_2mm.nii.gz</span>\n",
              "</pre>\n"
            ],
            "text/plain": [
              "\u001b[1;34m[\u001b[0m\u001b[34mNiftiLabelsMasker.wrapped\u001b[0m\u001b[1;34m]\u001b[0m loading data from \n",
              "\u001b[35m/root/nilearn_data/schaefer_2018/\u001b[0m\u001b[95mSchaefer2018_200Parcels_7Networks_order_FSLMNI152_2mm.nii.gz\u001b[0m\n"
            ]
          },
          "metadata": {},
          "output_type": "display_data"
        },
        {
          "metadata": {
            "tags": null
          },
          "name": "stdout",
          "output_type": "stream",
          "text": [
            "________________________________________________________________________________\n",
            "[Memory] Calling nilearn.maskers.base_masker.filter_and_extract...\n",
            "filter_and_extract('/content/drive/MyDrive/raw_data/Denoised_C06_rs-2_MNI.nii.gz', <nilearn.maskers.nifti_labels_masker._ExtractionFunctor object at 0x7c5d9feff810>, \n",
            "{ 'background_label': 0,\n",
            "  'clean_args': None,\n",
            "  'clean_kwargs': {},\n",
            "  'cmap': 'CMRmap_r',\n",
            "  'detrend': False,\n",
            "  'dtype': None,\n",
            "  'high_pass': None,\n",
            "  'high_variance_confounds': False,\n",
            "  'keep_masked_labels': True,\n",
            "  'labels': None,\n",
            "  'labels_img': '/root/nilearn_data/schaefer_2018/Schaefer2018_200Parcels_7Networks_order_FSLMNI152_2mm.nii.gz',\n",
            "  'low_pass': None,\n",
            "  'lut': None,\n",
            "  'mask_img': None,\n",
            "  'reports': True,\n",
            "  'smoothing_fwhm': None,\n",
            "  'standardize': False,\n",
            "  'standardize_confounds': True,\n",
            "  'strategy': 'mean',\n",
            "  't_r': None,\n",
            "  'target_affine': None,\n",
            "  'target_shape': None}, confounds=None, sample_mask=None, dtype=None, memory=Memory(location=nilearn_cache/joblib), memory_level=1, verbose=1)\n"
          ]
        },
        {
          "data": {
            "text/html": [
              "<pre style=\"white-space:pre;overflow-x:auto;line-height:normal;font-family:Menlo,'DejaVu Sans Mono',consolas,'Courier New',monospace\"><span style=\"color: #000080; text-decoration-color: #000080; font-weight: bold\">[</span><span style=\"color: #000080; text-decoration-color: #000080\">NiftiLabelsMasker.wrapped</span><span style=\"color: #000080; text-decoration-color: #000080; font-weight: bold\">]</span> Loading data from <span style=\"color: #800080; text-decoration-color: #800080\">/content/drive/MyDrive/raw_data/</span><span style=\"color: #ff00ff; text-decoration-color: #ff00ff\">Denoised_C06_rs-2_MNI.nii.gz</span>\n",
              "</pre>\n"
            ],
            "text/plain": [
              "\u001b[1;34m[\u001b[0m\u001b[34mNiftiLabelsMasker.wrapped\u001b[0m\u001b[1;34m]\u001b[0m Loading data from \u001b[35m/content/drive/MyDrive/raw_data/\u001b[0m\u001b[95mDenoised_C06_rs-2_MNI.nii.gz\u001b[0m\n"
            ]
          },
          "metadata": {},
          "output_type": "display_data"
        },
        {
          "data": {
            "text/html": [
              "<pre style=\"white-space:pre;overflow-x:auto;line-height:normal;font-family:Menlo,'DejaVu Sans Mono',consolas,'Courier New',monospace\"><span style=\"color: #000080; text-decoration-color: #000080; font-weight: bold\">[</span><span style=\"color: #000080; text-decoration-color: #000080\">NiftiLabelsMasker.wrapped</span><span style=\"color: #000080; text-decoration-color: #000080; font-weight: bold\">]</span> Extracting region signals\n",
              "</pre>\n"
            ],
            "text/plain": [
              "\u001b[1;34m[\u001b[0m\u001b[34mNiftiLabelsMasker.wrapped\u001b[0m\u001b[1;34m]\u001b[0m Extracting region signals\n"
            ]
          },
          "metadata": {},
          "output_type": "display_data"
        },
        {
          "data": {
            "text/html": [
              "<pre style=\"white-space:pre;overflow-x:auto;line-height:normal;font-family:Menlo,'DejaVu Sans Mono',consolas,'Courier New',monospace\"><span style=\"color: #000080; text-decoration-color: #000080; font-weight: bold\">[</span><span style=\"color: #000080; text-decoration-color: #000080\">NiftiLabelsMasker.wrapped</span><span style=\"color: #000080; text-decoration-color: #000080; font-weight: bold\">]</span> Cleaning extracted signals\n",
              "</pre>\n"
            ],
            "text/plain": [
              "\u001b[1;34m[\u001b[0m\u001b[34mNiftiLabelsMasker.wrapped\u001b[0m\u001b[1;34m]\u001b[0m Cleaning extracted signals\n"
            ]
          },
          "metadata": {},
          "output_type": "display_data"
        },
        {
          "metadata": {
            "tags": null
          },
          "name": "stdout",
          "output_type": "stream",
          "text": [
            "______________________________________________filter_and_extract - 30.0s, 0.5min\n"
          ]
        },
        {
          "data": {
            "text/html": [
              "<pre style=\"white-space:pre;overflow-x:auto;line-height:normal;font-family:Menlo,'DejaVu Sans Mono',consolas,'Courier New',monospace\"><span style=\"color: #000080; text-decoration-color: #000080; font-weight: bold\">[</span><span style=\"color: #000080; text-decoration-color: #000080\">NiftiLabelsMasker.wrapped</span><span style=\"color: #000080; text-decoration-color: #000080; font-weight: bold\">]</span> loading data from \n",
              "<span style=\"color: #800080; text-decoration-color: #800080\">/root/nilearn_data/schaefer_2018/</span><span style=\"color: #ff00ff; text-decoration-color: #ff00ff\">Schaefer2018_200Parcels_7Networks_order_FSLMNI152_2mm.nii.gz</span>\n",
              "</pre>\n"
            ],
            "text/plain": [
              "\u001b[1;34m[\u001b[0m\u001b[34mNiftiLabelsMasker.wrapped\u001b[0m\u001b[1;34m]\u001b[0m loading data from \n",
              "\u001b[35m/root/nilearn_data/schaefer_2018/\u001b[0m\u001b[95mSchaefer2018_200Parcels_7Networks_order_FSLMNI152_2mm.nii.gz\u001b[0m\n"
            ]
          },
          "metadata": {},
          "output_type": "display_data"
        },
        {
          "metadata": {
            "tags": null
          },
          "name": "stdout",
          "output_type": "stream",
          "text": [
            "________________________________________________________________________________\n",
            "[Memory] Calling nilearn.maskers.base_masker.filter_and_extract...\n",
            "filter_and_extract('/content/drive/MyDrive/raw_data/Denoised_C06_rs-3_MNI.nii.gz', <nilearn.maskers.nifti_labels_masker._ExtractionFunctor object at 0x7c5d9ac01710>, \n",
            "{ 'background_label': 0,\n",
            "  'clean_args': None,\n",
            "  'clean_kwargs': {},\n",
            "  'cmap': 'CMRmap_r',\n",
            "  'detrend': False,\n",
            "  'dtype': None,\n",
            "  'high_pass': None,\n",
            "  'high_variance_confounds': False,\n",
            "  'keep_masked_labels': True,\n",
            "  'labels': None,\n",
            "  'labels_img': '/root/nilearn_data/schaefer_2018/Schaefer2018_200Parcels_7Networks_order_FSLMNI152_2mm.nii.gz',\n",
            "  'low_pass': None,\n",
            "  'lut': None,\n",
            "  'mask_img': None,\n",
            "  'reports': True,\n",
            "  'smoothing_fwhm': None,\n",
            "  'standardize': False,\n",
            "  'standardize_confounds': True,\n",
            "  'strategy': 'mean',\n",
            "  't_r': None,\n",
            "  'target_affine': None,\n",
            "  'target_shape': None}, confounds=None, sample_mask=None, dtype=None, memory=Memory(location=nilearn_cache/joblib), memory_level=1, verbose=1)\n"
          ]
        },
        {
          "data": {
            "text/html": [
              "<pre style=\"white-space:pre;overflow-x:auto;line-height:normal;font-family:Menlo,'DejaVu Sans Mono',consolas,'Courier New',monospace\"><span style=\"color: #000080; text-decoration-color: #000080; font-weight: bold\">[</span><span style=\"color: #000080; text-decoration-color: #000080\">NiftiLabelsMasker.wrapped</span><span style=\"color: #000080; text-decoration-color: #000080; font-weight: bold\">]</span> Loading data from <span style=\"color: #800080; text-decoration-color: #800080\">/content/drive/MyDrive/raw_data/</span><span style=\"color: #ff00ff; text-decoration-color: #ff00ff\">Denoised_C06_rs-3_MNI.nii.gz</span>\n",
              "</pre>\n"
            ],
            "text/plain": [
              "\u001b[1;34m[\u001b[0m\u001b[34mNiftiLabelsMasker.wrapped\u001b[0m\u001b[1;34m]\u001b[0m Loading data from \u001b[35m/content/drive/MyDrive/raw_data/\u001b[0m\u001b[95mDenoised_C06_rs-3_MNI.nii.gz\u001b[0m\n"
            ]
          },
          "metadata": {},
          "output_type": "display_data"
        },
        {
          "data": {
            "text/html": [
              "<pre style=\"white-space:pre;overflow-x:auto;line-height:normal;font-family:Menlo,'DejaVu Sans Mono',consolas,'Courier New',monospace\"><span style=\"color: #000080; text-decoration-color: #000080; font-weight: bold\">[</span><span style=\"color: #000080; text-decoration-color: #000080\">NiftiLabelsMasker.wrapped</span><span style=\"color: #000080; text-decoration-color: #000080; font-weight: bold\">]</span> Extracting region signals\n",
              "</pre>\n"
            ],
            "text/plain": [
              "\u001b[1;34m[\u001b[0m\u001b[34mNiftiLabelsMasker.wrapped\u001b[0m\u001b[1;34m]\u001b[0m Extracting region signals\n"
            ]
          },
          "metadata": {},
          "output_type": "display_data"
        },
        {
          "data": {
            "text/html": [
              "<pre style=\"white-space:pre;overflow-x:auto;line-height:normal;font-family:Menlo,'DejaVu Sans Mono',consolas,'Courier New',monospace\"><span style=\"color: #000080; text-decoration-color: #000080; font-weight: bold\">[</span><span style=\"color: #000080; text-decoration-color: #000080\">NiftiLabelsMasker.wrapped</span><span style=\"color: #000080; text-decoration-color: #000080; font-weight: bold\">]</span> Cleaning extracted signals\n",
              "</pre>\n"
            ],
            "text/plain": [
              "\u001b[1;34m[\u001b[0m\u001b[34mNiftiLabelsMasker.wrapped\u001b[0m\u001b[1;34m]\u001b[0m Cleaning extracted signals\n"
            ]
          },
          "metadata": {},
          "output_type": "display_data"
        },
        {
          "metadata": {
            "tags": null
          },
          "name": "stdout",
          "output_type": "stream",
          "text": [
            "______________________________________________filter_and_extract - 29.0s, 0.5min\n"
          ]
        },
        {
          "data": {
            "text/html": [
              "<pre style=\"white-space:pre;overflow-x:auto;line-height:normal;font-family:Menlo,'DejaVu Sans Mono',consolas,'Courier New',monospace\"><span style=\"color: #000080; text-decoration-color: #000080; font-weight: bold\">[</span><span style=\"color: #000080; text-decoration-color: #000080\">NiftiLabelsMasker.wrapped</span><span style=\"color: #000080; text-decoration-color: #000080; font-weight: bold\">]</span> loading data from \n",
              "<span style=\"color: #800080; text-decoration-color: #800080\">/root/nilearn_data/schaefer_2018/</span><span style=\"color: #ff00ff; text-decoration-color: #ff00ff\">Schaefer2018_200Parcels_7Networks_order_FSLMNI152_2mm.nii.gz</span>\n",
              "</pre>\n"
            ],
            "text/plain": [
              "\u001b[1;34m[\u001b[0m\u001b[34mNiftiLabelsMasker.wrapped\u001b[0m\u001b[1;34m]\u001b[0m loading data from \n",
              "\u001b[35m/root/nilearn_data/schaefer_2018/\u001b[0m\u001b[95mSchaefer2018_200Parcels_7Networks_order_FSLMNI152_2mm.nii.gz\u001b[0m\n"
            ]
          },
          "metadata": {},
          "output_type": "display_data"
        },
        {
          "metadata": {
            "tags": null
          },
          "name": "stdout",
          "output_type": "stream",
          "text": [
            "________________________________________________________________________________\n",
            "[Memory] Calling nilearn.maskers.base_masker.filter_and_extract...\n",
            "filter_and_extract('/content/drive/MyDrive/raw_data/Denoised_C07_rs-1_MNI.nii.gz', <nilearn.maskers.nifti_labels_masker._ExtractionFunctor object at 0x7c5d9ac9a510>, \n",
            "{ 'background_label': 0,\n",
            "  'clean_args': None,\n",
            "  'clean_kwargs': {},\n",
            "  'cmap': 'CMRmap_r',\n",
            "  'detrend': False,\n",
            "  'dtype': None,\n",
            "  'high_pass': None,\n",
            "  'high_variance_confounds': False,\n",
            "  'keep_masked_labels': True,\n",
            "  'labels': None,\n",
            "  'labels_img': '/root/nilearn_data/schaefer_2018/Schaefer2018_200Parcels_7Networks_order_FSLMNI152_2mm.nii.gz',\n",
            "  'low_pass': None,\n",
            "  'lut': None,\n",
            "  'mask_img': None,\n",
            "  'reports': True,\n",
            "  'smoothing_fwhm': None,\n",
            "  'standardize': False,\n",
            "  'standardize_confounds': True,\n",
            "  'strategy': 'mean',\n",
            "  't_r': None,\n",
            "  'target_affine': None,\n",
            "  'target_shape': None}, confounds=None, sample_mask=None, dtype=None, memory=Memory(location=nilearn_cache/joblib), memory_level=1, verbose=1)\n"
          ]
        },
        {
          "data": {
            "text/html": [
              "<pre style=\"white-space:pre;overflow-x:auto;line-height:normal;font-family:Menlo,'DejaVu Sans Mono',consolas,'Courier New',monospace\"><span style=\"color: #000080; text-decoration-color: #000080; font-weight: bold\">[</span><span style=\"color: #000080; text-decoration-color: #000080\">NiftiLabelsMasker.wrapped</span><span style=\"color: #000080; text-decoration-color: #000080; font-weight: bold\">]</span> Loading data from <span style=\"color: #800080; text-decoration-color: #800080\">/content/drive/MyDrive/raw_data/</span><span style=\"color: #ff00ff; text-decoration-color: #ff00ff\">Denoised_C07_rs-1_MNI.nii.gz</span>\n",
              "</pre>\n"
            ],
            "text/plain": [
              "\u001b[1;34m[\u001b[0m\u001b[34mNiftiLabelsMasker.wrapped\u001b[0m\u001b[1;34m]\u001b[0m Loading data from \u001b[35m/content/drive/MyDrive/raw_data/\u001b[0m\u001b[95mDenoised_C07_rs-1_MNI.nii.gz\u001b[0m\n"
            ]
          },
          "metadata": {},
          "output_type": "display_data"
        },
        {
          "data": {
            "text/html": [
              "<pre style=\"white-space:pre;overflow-x:auto;line-height:normal;font-family:Menlo,'DejaVu Sans Mono',consolas,'Courier New',monospace\"><span style=\"color: #000080; text-decoration-color: #000080; font-weight: bold\">[</span><span style=\"color: #000080; text-decoration-color: #000080\">NiftiLabelsMasker.wrapped</span><span style=\"color: #000080; text-decoration-color: #000080; font-weight: bold\">]</span> Extracting region signals\n",
              "</pre>\n"
            ],
            "text/plain": [
              "\u001b[1;34m[\u001b[0m\u001b[34mNiftiLabelsMasker.wrapped\u001b[0m\u001b[1;34m]\u001b[0m Extracting region signals\n"
            ]
          },
          "metadata": {},
          "output_type": "display_data"
        },
        {
          "data": {
            "text/html": [
              "<pre style=\"white-space:pre;overflow-x:auto;line-height:normal;font-family:Menlo,'DejaVu Sans Mono',consolas,'Courier New',monospace\"><span style=\"color: #000080; text-decoration-color: #000080; font-weight: bold\">[</span><span style=\"color: #000080; text-decoration-color: #000080\">NiftiLabelsMasker.wrapped</span><span style=\"color: #000080; text-decoration-color: #000080; font-weight: bold\">]</span> Cleaning extracted signals\n",
              "</pre>\n"
            ],
            "text/plain": [
              "\u001b[1;34m[\u001b[0m\u001b[34mNiftiLabelsMasker.wrapped\u001b[0m\u001b[1;34m]\u001b[0m Cleaning extracted signals\n"
            ]
          },
          "metadata": {},
          "output_type": "display_data"
        },
        {
          "metadata": {
            "tags": null
          },
          "name": "stdout",
          "output_type": "stream",
          "text": [
            "______________________________________________filter_and_extract - 29.4s, 0.5min\n"
          ]
        },
        {
          "data": {
            "text/html": [
              "<pre style=\"white-space:pre;overflow-x:auto;line-height:normal;font-family:Menlo,'DejaVu Sans Mono',consolas,'Courier New',monospace\"><span style=\"color: #000080; text-decoration-color: #000080; font-weight: bold\">[</span><span style=\"color: #000080; text-decoration-color: #000080\">NiftiLabelsMasker.wrapped</span><span style=\"color: #000080; text-decoration-color: #000080; font-weight: bold\">]</span> loading data from \n",
              "<span style=\"color: #800080; text-decoration-color: #800080\">/root/nilearn_data/schaefer_2018/</span><span style=\"color: #ff00ff; text-decoration-color: #ff00ff\">Schaefer2018_200Parcels_7Networks_order_FSLMNI152_2mm.nii.gz</span>\n",
              "</pre>\n"
            ],
            "text/plain": [
              "\u001b[1;34m[\u001b[0m\u001b[34mNiftiLabelsMasker.wrapped\u001b[0m\u001b[1;34m]\u001b[0m loading data from \n",
              "\u001b[35m/root/nilearn_data/schaefer_2018/\u001b[0m\u001b[95mSchaefer2018_200Parcels_7Networks_order_FSLMNI152_2mm.nii.gz\u001b[0m\n"
            ]
          },
          "metadata": {},
          "output_type": "display_data"
        },
        {
          "metadata": {
            "tags": null
          },
          "name": "stdout",
          "output_type": "stream",
          "text": [
            "________________________________________________________________________________\n",
            "[Memory] Calling nilearn.maskers.base_masker.filter_and_extract...\n",
            "filter_and_extract('/content/drive/MyDrive/raw_data/Denoised_C07_rs-2_MNI.nii.gz', <nilearn.maskers.nifti_labels_masker._ExtractionFunctor object at 0x7c5d9c555090>, \n",
            "{ 'background_label': 0,\n",
            "  'clean_args': None,\n",
            "  'clean_kwargs': {},\n",
            "  'cmap': 'CMRmap_r',\n",
            "  'detrend': False,\n",
            "  'dtype': None,\n",
            "  'high_pass': None,\n",
            "  'high_variance_confounds': False,\n",
            "  'keep_masked_labels': True,\n",
            "  'labels': None,\n",
            "  'labels_img': '/root/nilearn_data/schaefer_2018/Schaefer2018_200Parcels_7Networks_order_FSLMNI152_2mm.nii.gz',\n",
            "  'low_pass': None,\n",
            "  'lut': None,\n",
            "  'mask_img': None,\n",
            "  'reports': True,\n",
            "  'smoothing_fwhm': None,\n",
            "  'standardize': False,\n",
            "  'standardize_confounds': True,\n",
            "  'strategy': 'mean',\n",
            "  't_r': None,\n",
            "  'target_affine': None,\n",
            "  'target_shape': None}, confounds=None, sample_mask=None, dtype=None, memory=Memory(location=nilearn_cache/joblib), memory_level=1, verbose=1)\n"
          ]
        },
        {
          "data": {
            "text/html": [
              "<pre style=\"white-space:pre;overflow-x:auto;line-height:normal;font-family:Menlo,'DejaVu Sans Mono',consolas,'Courier New',monospace\"><span style=\"color: #000080; text-decoration-color: #000080; font-weight: bold\">[</span><span style=\"color: #000080; text-decoration-color: #000080\">NiftiLabelsMasker.wrapped</span><span style=\"color: #000080; text-decoration-color: #000080; font-weight: bold\">]</span> Loading data from <span style=\"color: #800080; text-decoration-color: #800080\">/content/drive/MyDrive/raw_data/</span><span style=\"color: #ff00ff; text-decoration-color: #ff00ff\">Denoised_C07_rs-2_MNI.nii.gz</span>\n",
              "</pre>\n"
            ],
            "text/plain": [
              "\u001b[1;34m[\u001b[0m\u001b[34mNiftiLabelsMasker.wrapped\u001b[0m\u001b[1;34m]\u001b[0m Loading data from \u001b[35m/content/drive/MyDrive/raw_data/\u001b[0m\u001b[95mDenoised_C07_rs-2_MNI.nii.gz\u001b[0m\n"
            ]
          },
          "metadata": {},
          "output_type": "display_data"
        },
        {
          "data": {
            "text/html": [
              "<pre style=\"white-space:pre;overflow-x:auto;line-height:normal;font-family:Menlo,'DejaVu Sans Mono',consolas,'Courier New',monospace\"><span style=\"color: #000080; text-decoration-color: #000080; font-weight: bold\">[</span><span style=\"color: #000080; text-decoration-color: #000080\">NiftiLabelsMasker.wrapped</span><span style=\"color: #000080; text-decoration-color: #000080; font-weight: bold\">]</span> Extracting region signals\n",
              "</pre>\n"
            ],
            "text/plain": [
              "\u001b[1;34m[\u001b[0m\u001b[34mNiftiLabelsMasker.wrapped\u001b[0m\u001b[1;34m]\u001b[0m Extracting region signals\n"
            ]
          },
          "metadata": {},
          "output_type": "display_data"
        },
        {
          "data": {
            "text/html": [
              "<pre style=\"white-space:pre;overflow-x:auto;line-height:normal;font-family:Menlo,'DejaVu Sans Mono',consolas,'Courier New',monospace\"><span style=\"color: #000080; text-decoration-color: #000080; font-weight: bold\">[</span><span style=\"color: #000080; text-decoration-color: #000080\">NiftiLabelsMasker.wrapped</span><span style=\"color: #000080; text-decoration-color: #000080; font-weight: bold\">]</span> Cleaning extracted signals\n",
              "</pre>\n"
            ],
            "text/plain": [
              "\u001b[1;34m[\u001b[0m\u001b[34mNiftiLabelsMasker.wrapped\u001b[0m\u001b[1;34m]\u001b[0m Cleaning extracted signals\n"
            ]
          },
          "metadata": {},
          "output_type": "display_data"
        },
        {
          "metadata": {
            "tags": null
          },
          "name": "stdout",
          "output_type": "stream",
          "text": [
            "______________________________________________filter_and_extract - 29.8s, 0.5min\n"
          ]
        },
        {
          "data": {
            "text/html": [
              "<pre style=\"white-space:pre;overflow-x:auto;line-height:normal;font-family:Menlo,'DejaVu Sans Mono',consolas,'Courier New',monospace\"><span style=\"color: #000080; text-decoration-color: #000080; font-weight: bold\">[</span><span style=\"color: #000080; text-decoration-color: #000080\">NiftiLabelsMasker.wrapped</span><span style=\"color: #000080; text-decoration-color: #000080; font-weight: bold\">]</span> loading data from \n",
              "<span style=\"color: #800080; text-decoration-color: #800080\">/root/nilearn_data/schaefer_2018/</span><span style=\"color: #ff00ff; text-decoration-color: #ff00ff\">Schaefer2018_200Parcels_7Networks_order_FSLMNI152_2mm.nii.gz</span>\n",
              "</pre>\n"
            ],
            "text/plain": [
              "\u001b[1;34m[\u001b[0m\u001b[34mNiftiLabelsMasker.wrapped\u001b[0m\u001b[1;34m]\u001b[0m loading data from \n",
              "\u001b[35m/root/nilearn_data/schaefer_2018/\u001b[0m\u001b[95mSchaefer2018_200Parcels_7Networks_order_FSLMNI152_2mm.nii.gz\u001b[0m\n"
            ]
          },
          "metadata": {},
          "output_type": "display_data"
        },
        {
          "metadata": {
            "tags": null
          },
          "name": "stdout",
          "output_type": "stream",
          "text": [
            "________________________________________________________________________________\n",
            "[Memory] Calling nilearn.maskers.base_masker.filter_and_extract...\n",
            "filter_and_extract('/content/drive/MyDrive/raw_data/Denoised_C07_rs-3_MNI.nii.gz', <nilearn.maskers.nifti_labels_masker._ExtractionFunctor object at 0x7c5d9c556ed0>, \n",
            "{ 'background_label': 0,\n",
            "  'clean_args': None,\n",
            "  'clean_kwargs': {},\n",
            "  'cmap': 'CMRmap_r',\n",
            "  'detrend': False,\n",
            "  'dtype': None,\n",
            "  'high_pass': None,\n",
            "  'high_variance_confounds': False,\n",
            "  'keep_masked_labels': True,\n",
            "  'labels': None,\n",
            "  'labels_img': '/root/nilearn_data/schaefer_2018/Schaefer2018_200Parcels_7Networks_order_FSLMNI152_2mm.nii.gz',\n",
            "  'low_pass': None,\n",
            "  'lut': None,\n",
            "  'mask_img': None,\n",
            "  'reports': True,\n",
            "  'smoothing_fwhm': None,\n",
            "  'standardize': False,\n",
            "  'standardize_confounds': True,\n",
            "  'strategy': 'mean',\n",
            "  't_r': None,\n",
            "  'target_affine': None,\n",
            "  'target_shape': None}, confounds=None, sample_mask=None, dtype=None, memory=Memory(location=nilearn_cache/joblib), memory_level=1, verbose=1)\n"
          ]
        },
        {
          "data": {
            "text/html": [
              "<pre style=\"white-space:pre;overflow-x:auto;line-height:normal;font-family:Menlo,'DejaVu Sans Mono',consolas,'Courier New',monospace\"><span style=\"color: #000080; text-decoration-color: #000080; font-weight: bold\">[</span><span style=\"color: #000080; text-decoration-color: #000080\">NiftiLabelsMasker.wrapped</span><span style=\"color: #000080; text-decoration-color: #000080; font-weight: bold\">]</span> Loading data from <span style=\"color: #800080; text-decoration-color: #800080\">/content/drive/MyDrive/raw_data/</span><span style=\"color: #ff00ff; text-decoration-color: #ff00ff\">Denoised_C07_rs-3_MNI.nii.gz</span>\n",
              "</pre>\n"
            ],
            "text/plain": [
              "\u001b[1;34m[\u001b[0m\u001b[34mNiftiLabelsMasker.wrapped\u001b[0m\u001b[1;34m]\u001b[0m Loading data from \u001b[35m/content/drive/MyDrive/raw_data/\u001b[0m\u001b[95mDenoised_C07_rs-3_MNI.nii.gz\u001b[0m\n"
            ]
          },
          "metadata": {},
          "output_type": "display_data"
        },
        {
          "data": {
            "text/html": [
              "<pre style=\"white-space:pre;overflow-x:auto;line-height:normal;font-family:Menlo,'DejaVu Sans Mono',consolas,'Courier New',monospace\"><span style=\"color: #000080; text-decoration-color: #000080; font-weight: bold\">[</span><span style=\"color: #000080; text-decoration-color: #000080\">NiftiLabelsMasker.wrapped</span><span style=\"color: #000080; text-decoration-color: #000080; font-weight: bold\">]</span> Extracting region signals\n",
              "</pre>\n"
            ],
            "text/plain": [
              "\u001b[1;34m[\u001b[0m\u001b[34mNiftiLabelsMasker.wrapped\u001b[0m\u001b[1;34m]\u001b[0m Extracting region signals\n"
            ]
          },
          "metadata": {},
          "output_type": "display_data"
        },
        {
          "data": {
            "text/html": [
              "<pre style=\"white-space:pre;overflow-x:auto;line-height:normal;font-family:Menlo,'DejaVu Sans Mono',consolas,'Courier New',monospace\"><span style=\"color: #000080; text-decoration-color: #000080; font-weight: bold\">[</span><span style=\"color: #000080; text-decoration-color: #000080\">NiftiLabelsMasker.wrapped</span><span style=\"color: #000080; text-decoration-color: #000080; font-weight: bold\">]</span> Cleaning extracted signals\n",
              "</pre>\n"
            ],
            "text/plain": [
              "\u001b[1;34m[\u001b[0m\u001b[34mNiftiLabelsMasker.wrapped\u001b[0m\u001b[1;34m]\u001b[0m Cleaning extracted signals\n"
            ]
          },
          "metadata": {},
          "output_type": "display_data"
        },
        {
          "metadata": {
            "tags": null
          },
          "name": "stdout",
          "output_type": "stream",
          "text": [
            "______________________________________________filter_and_extract - 30.2s, 0.5min\n"
          ]
        },
        {
          "data": {
            "text/html": [
              "<pre style=\"white-space:pre;overflow-x:auto;line-height:normal;font-family:Menlo,'DejaVu Sans Mono',consolas,'Courier New',monospace\"><span style=\"color: #000080; text-decoration-color: #000080; font-weight: bold\">[</span><span style=\"color: #000080; text-decoration-color: #000080\">NiftiLabelsMasker.wrapped</span><span style=\"color: #000080; text-decoration-color: #000080; font-weight: bold\">]</span> loading data from \n",
              "<span style=\"color: #800080; text-decoration-color: #800080\">/root/nilearn_data/schaefer_2018/</span><span style=\"color: #ff00ff; text-decoration-color: #ff00ff\">Schaefer2018_200Parcels_7Networks_order_FSLMNI152_2mm.nii.gz</span>\n",
              "</pre>\n"
            ],
            "text/plain": [
              "\u001b[1;34m[\u001b[0m\u001b[34mNiftiLabelsMasker.wrapped\u001b[0m\u001b[1;34m]\u001b[0m loading data from \n",
              "\u001b[35m/root/nilearn_data/schaefer_2018/\u001b[0m\u001b[95mSchaefer2018_200Parcels_7Networks_order_FSLMNI152_2mm.nii.gz\u001b[0m\n"
            ]
          },
          "metadata": {},
          "output_type": "display_data"
        },
        {
          "metadata": {
            "tags": null
          },
          "name": "stdout",
          "output_type": "stream",
          "text": [
            "________________________________________________________________________________\n",
            "[Memory] Calling nilearn.maskers.base_masker.filter_and_extract...\n",
            "filter_and_extract('/content/drive/MyDrive/raw_data/Denoised_C08_rs-1_MNI.nii.gz', <nilearn.maskers.nifti_labels_masker._ExtractionFunctor object at 0x7c5df482d010>, \n",
            "{ 'background_label': 0,\n",
            "  'clean_args': None,\n",
            "  'clean_kwargs': {},\n",
            "  'cmap': 'CMRmap_r',\n",
            "  'detrend': False,\n",
            "  'dtype': None,\n",
            "  'high_pass': None,\n",
            "  'high_variance_confounds': False,\n",
            "  'keep_masked_labels': True,\n",
            "  'labels': None,\n",
            "  'labels_img': '/root/nilearn_data/schaefer_2018/Schaefer2018_200Parcels_7Networks_order_FSLMNI152_2mm.nii.gz',\n",
            "  'low_pass': None,\n",
            "  'lut': None,\n",
            "  'mask_img': None,\n",
            "  'reports': True,\n",
            "  'smoothing_fwhm': None,\n",
            "  'standardize': False,\n",
            "  'standardize_confounds': True,\n",
            "  'strategy': 'mean',\n",
            "  't_r': None,\n",
            "  'target_affine': None,\n",
            "  'target_shape': None}, confounds=None, sample_mask=None, dtype=None, memory=Memory(location=nilearn_cache/joblib), memory_level=1, verbose=1)\n"
          ]
        },
        {
          "data": {
            "text/html": [
              "<pre style=\"white-space:pre;overflow-x:auto;line-height:normal;font-family:Menlo,'DejaVu Sans Mono',consolas,'Courier New',monospace\"><span style=\"color: #000080; text-decoration-color: #000080; font-weight: bold\">[</span><span style=\"color: #000080; text-decoration-color: #000080\">NiftiLabelsMasker.wrapped</span><span style=\"color: #000080; text-decoration-color: #000080; font-weight: bold\">]</span> Loading data from <span style=\"color: #800080; text-decoration-color: #800080\">/content/drive/MyDrive/raw_data/</span><span style=\"color: #ff00ff; text-decoration-color: #ff00ff\">Denoised_C08_rs-1_MNI.nii.gz</span>\n",
              "</pre>\n"
            ],
            "text/plain": [
              "\u001b[1;34m[\u001b[0m\u001b[34mNiftiLabelsMasker.wrapped\u001b[0m\u001b[1;34m]\u001b[0m Loading data from \u001b[35m/content/drive/MyDrive/raw_data/\u001b[0m\u001b[95mDenoised_C08_rs-1_MNI.nii.gz\u001b[0m\n"
            ]
          },
          "metadata": {},
          "output_type": "display_data"
        },
        {
          "data": {
            "text/html": [
              "<pre style=\"white-space:pre;overflow-x:auto;line-height:normal;font-family:Menlo,'DejaVu Sans Mono',consolas,'Courier New',monospace\"><span style=\"color: #000080; text-decoration-color: #000080; font-weight: bold\">[</span><span style=\"color: #000080; text-decoration-color: #000080\">NiftiLabelsMasker.wrapped</span><span style=\"color: #000080; text-decoration-color: #000080; font-weight: bold\">]</span> Extracting region signals\n",
              "</pre>\n"
            ],
            "text/plain": [
              "\u001b[1;34m[\u001b[0m\u001b[34mNiftiLabelsMasker.wrapped\u001b[0m\u001b[1;34m]\u001b[0m Extracting region signals\n"
            ]
          },
          "metadata": {},
          "output_type": "display_data"
        },
        {
          "data": {
            "text/html": [
              "<pre style=\"white-space:pre;overflow-x:auto;line-height:normal;font-family:Menlo,'DejaVu Sans Mono',consolas,'Courier New',monospace\"><span style=\"color: #000080; text-decoration-color: #000080; font-weight: bold\">[</span><span style=\"color: #000080; text-decoration-color: #000080\">NiftiLabelsMasker.wrapped</span><span style=\"color: #000080; text-decoration-color: #000080; font-weight: bold\">]</span> Cleaning extracted signals\n",
              "</pre>\n"
            ],
            "text/plain": [
              "\u001b[1;34m[\u001b[0m\u001b[34mNiftiLabelsMasker.wrapped\u001b[0m\u001b[1;34m]\u001b[0m Cleaning extracted signals\n"
            ]
          },
          "metadata": {},
          "output_type": "display_data"
        },
        {
          "metadata": {
            "tags": null
          },
          "name": "stdout",
          "output_type": "stream",
          "text": [
            "______________________________________________filter_and_extract - 30.1s, 0.5min\n"
          ]
        },
        {
          "data": {
            "text/html": [
              "<pre style=\"white-space:pre;overflow-x:auto;line-height:normal;font-family:Menlo,'DejaVu Sans Mono',consolas,'Courier New',monospace\"><span style=\"color: #000080; text-decoration-color: #000080; font-weight: bold\">[</span><span style=\"color: #000080; text-decoration-color: #000080\">NiftiLabelsMasker.wrapped</span><span style=\"color: #000080; text-decoration-color: #000080; font-weight: bold\">]</span> loading data from \n",
              "<span style=\"color: #800080; text-decoration-color: #800080\">/root/nilearn_data/schaefer_2018/</span><span style=\"color: #ff00ff; text-decoration-color: #ff00ff\">Schaefer2018_200Parcels_7Networks_order_FSLMNI152_2mm.nii.gz</span>\n",
              "</pre>\n"
            ],
            "text/plain": [
              "\u001b[1;34m[\u001b[0m\u001b[34mNiftiLabelsMasker.wrapped\u001b[0m\u001b[1;34m]\u001b[0m loading data from \n",
              "\u001b[35m/root/nilearn_data/schaefer_2018/\u001b[0m\u001b[95mSchaefer2018_200Parcels_7Networks_order_FSLMNI152_2mm.nii.gz\u001b[0m\n"
            ]
          },
          "metadata": {},
          "output_type": "display_data"
        },
        {
          "metadata": {
            "tags": null
          },
          "name": "stdout",
          "output_type": "stream",
          "text": [
            "________________________________________________________________________________\n",
            "[Memory] Calling nilearn.maskers.base_masker.filter_and_extract...\n",
            "filter_and_extract('/content/drive/MyDrive/raw_data/Denoised_C08_rs-2_MNI.nii.gz', <nilearn.maskers.nifti_labels_masker._ExtractionFunctor object at 0x7c5d9ae11b90>, \n",
            "{ 'background_label': 0,\n",
            "  'clean_args': None,\n",
            "  'clean_kwargs': {},\n",
            "  'cmap': 'CMRmap_r',\n",
            "  'detrend': False,\n",
            "  'dtype': None,\n",
            "  'high_pass': None,\n",
            "  'high_variance_confounds': False,\n",
            "  'keep_masked_labels': True,\n",
            "  'labels': None,\n",
            "  'labels_img': '/root/nilearn_data/schaefer_2018/Schaefer2018_200Parcels_7Networks_order_FSLMNI152_2mm.nii.gz',\n",
            "  'low_pass': None,\n",
            "  'lut': None,\n",
            "  'mask_img': None,\n",
            "  'reports': True,\n",
            "  'smoothing_fwhm': None,\n",
            "  'standardize': False,\n",
            "  'standardize_confounds': True,\n",
            "  'strategy': 'mean',\n",
            "  't_r': None,\n",
            "  'target_affine': None,\n",
            "  'target_shape': None}, confounds=None, sample_mask=None, dtype=None, memory=Memory(location=nilearn_cache/joblib), memory_level=1, verbose=1)\n"
          ]
        },
        {
          "data": {
            "text/html": [
              "<pre style=\"white-space:pre;overflow-x:auto;line-height:normal;font-family:Menlo,'DejaVu Sans Mono',consolas,'Courier New',monospace\"><span style=\"color: #000080; text-decoration-color: #000080; font-weight: bold\">[</span><span style=\"color: #000080; text-decoration-color: #000080\">NiftiLabelsMasker.wrapped</span><span style=\"color: #000080; text-decoration-color: #000080; font-weight: bold\">]</span> Loading data from <span style=\"color: #800080; text-decoration-color: #800080\">/content/drive/MyDrive/raw_data/</span><span style=\"color: #ff00ff; text-decoration-color: #ff00ff\">Denoised_C08_rs-2_MNI.nii.gz</span>\n",
              "</pre>\n"
            ],
            "text/plain": [
              "\u001b[1;34m[\u001b[0m\u001b[34mNiftiLabelsMasker.wrapped\u001b[0m\u001b[1;34m]\u001b[0m Loading data from \u001b[35m/content/drive/MyDrive/raw_data/\u001b[0m\u001b[95mDenoised_C08_rs-2_MNI.nii.gz\u001b[0m\n"
            ]
          },
          "metadata": {},
          "output_type": "display_data"
        },
        {
          "data": {
            "text/html": [
              "<pre style=\"white-space:pre;overflow-x:auto;line-height:normal;font-family:Menlo,'DejaVu Sans Mono',consolas,'Courier New',monospace\"><span style=\"color: #000080; text-decoration-color: #000080; font-weight: bold\">[</span><span style=\"color: #000080; text-decoration-color: #000080\">NiftiLabelsMasker.wrapped</span><span style=\"color: #000080; text-decoration-color: #000080; font-weight: bold\">]</span> Extracting region signals\n",
              "</pre>\n"
            ],
            "text/plain": [
              "\u001b[1;34m[\u001b[0m\u001b[34mNiftiLabelsMasker.wrapped\u001b[0m\u001b[1;34m]\u001b[0m Extracting region signals\n"
            ]
          },
          "metadata": {},
          "output_type": "display_data"
        },
        {
          "data": {
            "text/html": [
              "<pre style=\"white-space:pre;overflow-x:auto;line-height:normal;font-family:Menlo,'DejaVu Sans Mono',consolas,'Courier New',monospace\"><span style=\"color: #000080; text-decoration-color: #000080; font-weight: bold\">[</span><span style=\"color: #000080; text-decoration-color: #000080\">NiftiLabelsMasker.wrapped</span><span style=\"color: #000080; text-decoration-color: #000080; font-weight: bold\">]</span> Cleaning extracted signals\n",
              "</pre>\n"
            ],
            "text/plain": [
              "\u001b[1;34m[\u001b[0m\u001b[34mNiftiLabelsMasker.wrapped\u001b[0m\u001b[1;34m]\u001b[0m Cleaning extracted signals\n"
            ]
          },
          "metadata": {},
          "output_type": "display_data"
        },
        {
          "metadata": {
            "tags": null
          },
          "name": "stdout",
          "output_type": "stream",
          "text": [
            "______________________________________________filter_and_extract - 30.1s, 0.5min\n"
          ]
        },
        {
          "data": {
            "text/html": [
              "<pre style=\"white-space:pre;overflow-x:auto;line-height:normal;font-family:Menlo,'DejaVu Sans Mono',consolas,'Courier New',monospace\"><span style=\"color: #000080; text-decoration-color: #000080; font-weight: bold\">[</span><span style=\"color: #000080; text-decoration-color: #000080\">NiftiLabelsMasker.wrapped</span><span style=\"color: #000080; text-decoration-color: #000080; font-weight: bold\">]</span> loading data from \n",
              "<span style=\"color: #800080; text-decoration-color: #800080\">/root/nilearn_data/schaefer_2018/</span><span style=\"color: #ff00ff; text-decoration-color: #ff00ff\">Schaefer2018_200Parcels_7Networks_order_FSLMNI152_2mm.nii.gz</span>\n",
              "</pre>\n"
            ],
            "text/plain": [
              "\u001b[1;34m[\u001b[0m\u001b[34mNiftiLabelsMasker.wrapped\u001b[0m\u001b[1;34m]\u001b[0m loading data from \n",
              "\u001b[35m/root/nilearn_data/schaefer_2018/\u001b[0m\u001b[95mSchaefer2018_200Parcels_7Networks_order_FSLMNI152_2mm.nii.gz\u001b[0m\n"
            ]
          },
          "metadata": {},
          "output_type": "display_data"
        },
        {
          "metadata": {
            "tags": null
          },
          "name": "stdout",
          "output_type": "stream",
          "text": [
            "________________________________________________________________________________\n",
            "[Memory] Calling nilearn.maskers.base_masker.filter_and_extract...\n",
            "filter_and_extract('/content/drive/MyDrive/raw_data/Denoised_C08_rs-3_MNI.nii.gz', <nilearn.maskers.nifti_labels_masker._ExtractionFunctor object at 0x7c5d9c731b90>, \n",
            "{ 'background_label': 0,\n",
            "  'clean_args': None,\n",
            "  'clean_kwargs': {},\n",
            "  'cmap': 'CMRmap_r',\n",
            "  'detrend': False,\n",
            "  'dtype': None,\n",
            "  'high_pass': None,\n",
            "  'high_variance_confounds': False,\n",
            "  'keep_masked_labels': True,\n",
            "  'labels': None,\n",
            "  'labels_img': '/root/nilearn_data/schaefer_2018/Schaefer2018_200Parcels_7Networks_order_FSLMNI152_2mm.nii.gz',\n",
            "  'low_pass': None,\n",
            "  'lut': None,\n",
            "  'mask_img': None,\n",
            "  'reports': True,\n",
            "  'smoothing_fwhm': None,\n",
            "  'standardize': False,\n",
            "  'standardize_confounds': True,\n",
            "  'strategy': 'mean',\n",
            "  't_r': None,\n",
            "  'target_affine': None,\n",
            "  'target_shape': None}, confounds=None, sample_mask=None, dtype=None, memory=Memory(location=nilearn_cache/joblib), memory_level=1, verbose=1)\n"
          ]
        },
        {
          "data": {
            "text/html": [
              "<pre style=\"white-space:pre;overflow-x:auto;line-height:normal;font-family:Menlo,'DejaVu Sans Mono',consolas,'Courier New',monospace\"><span style=\"color: #000080; text-decoration-color: #000080; font-weight: bold\">[</span><span style=\"color: #000080; text-decoration-color: #000080\">NiftiLabelsMasker.wrapped</span><span style=\"color: #000080; text-decoration-color: #000080; font-weight: bold\">]</span> Loading data from <span style=\"color: #800080; text-decoration-color: #800080\">/content/drive/MyDrive/raw_data/</span><span style=\"color: #ff00ff; text-decoration-color: #ff00ff\">Denoised_C08_rs-3_MNI.nii.gz</span>\n",
              "</pre>\n"
            ],
            "text/plain": [
              "\u001b[1;34m[\u001b[0m\u001b[34mNiftiLabelsMasker.wrapped\u001b[0m\u001b[1;34m]\u001b[0m Loading data from \u001b[35m/content/drive/MyDrive/raw_data/\u001b[0m\u001b[95mDenoised_C08_rs-3_MNI.nii.gz\u001b[0m\n"
            ]
          },
          "metadata": {},
          "output_type": "display_data"
        },
        {
          "data": {
            "text/html": [
              "<pre style=\"white-space:pre;overflow-x:auto;line-height:normal;font-family:Menlo,'DejaVu Sans Mono',consolas,'Courier New',monospace\"><span style=\"color: #000080; text-decoration-color: #000080; font-weight: bold\">[</span><span style=\"color: #000080; text-decoration-color: #000080\">NiftiLabelsMasker.wrapped</span><span style=\"color: #000080; text-decoration-color: #000080; font-weight: bold\">]</span> Extracting region signals\n",
              "</pre>\n"
            ],
            "text/plain": [
              "\u001b[1;34m[\u001b[0m\u001b[34mNiftiLabelsMasker.wrapped\u001b[0m\u001b[1;34m]\u001b[0m Extracting region signals\n"
            ]
          },
          "metadata": {},
          "output_type": "display_data"
        },
        {
          "data": {
            "text/html": [
              "<pre style=\"white-space:pre;overflow-x:auto;line-height:normal;font-family:Menlo,'DejaVu Sans Mono',consolas,'Courier New',monospace\"><span style=\"color: #000080; text-decoration-color: #000080; font-weight: bold\">[</span><span style=\"color: #000080; text-decoration-color: #000080\">NiftiLabelsMasker.wrapped</span><span style=\"color: #000080; text-decoration-color: #000080; font-weight: bold\">]</span> Cleaning extracted signals\n",
              "</pre>\n"
            ],
            "text/plain": [
              "\u001b[1;34m[\u001b[0m\u001b[34mNiftiLabelsMasker.wrapped\u001b[0m\u001b[1;34m]\u001b[0m Cleaning extracted signals\n"
            ]
          },
          "metadata": {},
          "output_type": "display_data"
        },
        {
          "metadata": {
            "tags": null
          },
          "name": "stdout",
          "output_type": "stream",
          "text": [
            "______________________________________________filter_and_extract - 29.3s, 0.5min\n"
          ]
        },
        {
          "data": {
            "text/html": [
              "<pre style=\"white-space:pre;overflow-x:auto;line-height:normal;font-family:Menlo,'DejaVu Sans Mono',consolas,'Courier New',monospace\"><span style=\"color: #000080; text-decoration-color: #000080; font-weight: bold\">[</span><span style=\"color: #000080; text-decoration-color: #000080\">NiftiLabelsMasker.wrapped</span><span style=\"color: #000080; text-decoration-color: #000080; font-weight: bold\">]</span> loading data from \n",
              "<span style=\"color: #800080; text-decoration-color: #800080\">/root/nilearn_data/schaefer_2018/</span><span style=\"color: #ff00ff; text-decoration-color: #ff00ff\">Schaefer2018_200Parcels_7Networks_order_FSLMNI152_2mm.nii.gz</span>\n",
              "</pre>\n"
            ],
            "text/plain": [
              "\u001b[1;34m[\u001b[0m\u001b[34mNiftiLabelsMasker.wrapped\u001b[0m\u001b[1;34m]\u001b[0m loading data from \n",
              "\u001b[35m/root/nilearn_data/schaefer_2018/\u001b[0m\u001b[95mSchaefer2018_200Parcels_7Networks_order_FSLMNI152_2mm.nii.gz\u001b[0m\n"
            ]
          },
          "metadata": {},
          "output_type": "display_data"
        },
        {
          "metadata": {
            "tags": null
          },
          "name": "stdout",
          "output_type": "stream",
          "text": [
            "________________________________________________________________________________\n",
            "[Memory] Calling nilearn.maskers.base_masker.filter_and_extract...\n",
            "filter_and_extract('/content/drive/MyDrive/raw_data/Denoised_C11_rs-1_MNI.nii.gz', <nilearn.maskers.nifti_labels_masker._ExtractionFunctor object at 0x7c5d9af24390>, \n",
            "{ 'background_label': 0,\n",
            "  'clean_args': None,\n",
            "  'clean_kwargs': {},\n",
            "  'cmap': 'CMRmap_r',\n",
            "  'detrend': False,\n",
            "  'dtype': None,\n",
            "  'high_pass': None,\n",
            "  'high_variance_confounds': False,\n",
            "  'keep_masked_labels': True,\n",
            "  'labels': None,\n",
            "  'labels_img': '/root/nilearn_data/schaefer_2018/Schaefer2018_200Parcels_7Networks_order_FSLMNI152_2mm.nii.gz',\n",
            "  'low_pass': None,\n",
            "  'lut': None,\n",
            "  'mask_img': None,\n",
            "  'reports': True,\n",
            "  'smoothing_fwhm': None,\n",
            "  'standardize': False,\n",
            "  'standardize_confounds': True,\n",
            "  'strategy': 'mean',\n",
            "  't_r': None,\n",
            "  'target_affine': None,\n",
            "  'target_shape': None}, confounds=None, sample_mask=None, dtype=None, memory=Memory(location=nilearn_cache/joblib), memory_level=1, verbose=1)\n"
          ]
        },
        {
          "data": {
            "text/html": [
              "<pre style=\"white-space:pre;overflow-x:auto;line-height:normal;font-family:Menlo,'DejaVu Sans Mono',consolas,'Courier New',monospace\"><span style=\"color: #000080; text-decoration-color: #000080; font-weight: bold\">[</span><span style=\"color: #000080; text-decoration-color: #000080\">NiftiLabelsMasker.wrapped</span><span style=\"color: #000080; text-decoration-color: #000080; font-weight: bold\">]</span> Loading data from <span style=\"color: #800080; text-decoration-color: #800080\">/content/drive/MyDrive/raw_data/</span><span style=\"color: #ff00ff; text-decoration-color: #ff00ff\">Denoised_C11_rs-1_MNI.nii.gz</span>\n",
              "</pre>\n"
            ],
            "text/plain": [
              "\u001b[1;34m[\u001b[0m\u001b[34mNiftiLabelsMasker.wrapped\u001b[0m\u001b[1;34m]\u001b[0m Loading data from \u001b[35m/content/drive/MyDrive/raw_data/\u001b[0m\u001b[95mDenoised_C11_rs-1_MNI.nii.gz\u001b[0m\n"
            ]
          },
          "metadata": {},
          "output_type": "display_data"
        },
        {
          "data": {
            "text/html": [
              "<pre style=\"white-space:pre;overflow-x:auto;line-height:normal;font-family:Menlo,'DejaVu Sans Mono',consolas,'Courier New',monospace\"><span style=\"color: #000080; text-decoration-color: #000080; font-weight: bold\">[</span><span style=\"color: #000080; text-decoration-color: #000080\">NiftiLabelsMasker.wrapped</span><span style=\"color: #000080; text-decoration-color: #000080; font-weight: bold\">]</span> Extracting region signals\n",
              "</pre>\n"
            ],
            "text/plain": [
              "\u001b[1;34m[\u001b[0m\u001b[34mNiftiLabelsMasker.wrapped\u001b[0m\u001b[1;34m]\u001b[0m Extracting region signals\n"
            ]
          },
          "metadata": {},
          "output_type": "display_data"
        },
        {
          "data": {
            "text/html": [
              "<pre style=\"white-space:pre;overflow-x:auto;line-height:normal;font-family:Menlo,'DejaVu Sans Mono',consolas,'Courier New',monospace\"><span style=\"color: #000080; text-decoration-color: #000080; font-weight: bold\">[</span><span style=\"color: #000080; text-decoration-color: #000080\">NiftiLabelsMasker.wrapped</span><span style=\"color: #000080; text-decoration-color: #000080; font-weight: bold\">]</span> Cleaning extracted signals\n",
              "</pre>\n"
            ],
            "text/plain": [
              "\u001b[1;34m[\u001b[0m\u001b[34mNiftiLabelsMasker.wrapped\u001b[0m\u001b[1;34m]\u001b[0m Cleaning extracted signals\n"
            ]
          },
          "metadata": {},
          "output_type": "display_data"
        },
        {
          "metadata": {
            "tags": null
          },
          "name": "stdout",
          "output_type": "stream",
          "text": [
            "______________________________________________filter_and_extract - 30.1s, 0.5min\n"
          ]
        },
        {
          "data": {
            "text/html": [
              "<pre style=\"white-space:pre;overflow-x:auto;line-height:normal;font-family:Menlo,'DejaVu Sans Mono',consolas,'Courier New',monospace\"><span style=\"color: #000080; text-decoration-color: #000080; font-weight: bold\">[</span><span style=\"color: #000080; text-decoration-color: #000080\">NiftiLabelsMasker.wrapped</span><span style=\"color: #000080; text-decoration-color: #000080; font-weight: bold\">]</span> loading data from \n",
              "<span style=\"color: #800080; text-decoration-color: #800080\">/root/nilearn_data/schaefer_2018/</span><span style=\"color: #ff00ff; text-decoration-color: #ff00ff\">Schaefer2018_200Parcels_7Networks_order_FSLMNI152_2mm.nii.gz</span>\n",
              "</pre>\n"
            ],
            "text/plain": [
              "\u001b[1;34m[\u001b[0m\u001b[34mNiftiLabelsMasker.wrapped\u001b[0m\u001b[1;34m]\u001b[0m loading data from \n",
              "\u001b[35m/root/nilearn_data/schaefer_2018/\u001b[0m\u001b[95mSchaefer2018_200Parcels_7Networks_order_FSLMNI152_2mm.nii.gz\u001b[0m\n"
            ]
          },
          "metadata": {},
          "output_type": "display_data"
        },
        {
          "metadata": {
            "tags": null
          },
          "name": "stdout",
          "output_type": "stream",
          "text": [
            "________________________________________________________________________________\n",
            "[Memory] Calling nilearn.maskers.base_masker.filter_and_extract...\n",
            "filter_and_extract('/content/drive/MyDrive/raw_data/Denoised_C11_rs-2_MNI.nii.gz', <nilearn.maskers.nifti_labels_masker._ExtractionFunctor object at 0x7c5d9abd9590>, \n",
            "{ 'background_label': 0,\n",
            "  'clean_args': None,\n",
            "  'clean_kwargs': {},\n",
            "  'cmap': 'CMRmap_r',\n",
            "  'detrend': False,\n",
            "  'dtype': None,\n",
            "  'high_pass': None,\n",
            "  'high_variance_confounds': False,\n",
            "  'keep_masked_labels': True,\n",
            "  'labels': None,\n",
            "  'labels_img': '/root/nilearn_data/schaefer_2018/Schaefer2018_200Parcels_7Networks_order_FSLMNI152_2mm.nii.gz',\n",
            "  'low_pass': None,\n",
            "  'lut': None,\n",
            "  'mask_img': None,\n",
            "  'reports': True,\n",
            "  'smoothing_fwhm': None,\n",
            "  'standardize': False,\n",
            "  'standardize_confounds': True,\n",
            "  'strategy': 'mean',\n",
            "  't_r': None,\n",
            "  'target_affine': None,\n",
            "  'target_shape': None}, confounds=None, sample_mask=None, dtype=None, memory=Memory(location=nilearn_cache/joblib), memory_level=1, verbose=1)\n"
          ]
        },
        {
          "data": {
            "text/html": [
              "<pre style=\"white-space:pre;overflow-x:auto;line-height:normal;font-family:Menlo,'DejaVu Sans Mono',consolas,'Courier New',monospace\"><span style=\"color: #000080; text-decoration-color: #000080; font-weight: bold\">[</span><span style=\"color: #000080; text-decoration-color: #000080\">NiftiLabelsMasker.wrapped</span><span style=\"color: #000080; text-decoration-color: #000080; font-weight: bold\">]</span> Loading data from <span style=\"color: #800080; text-decoration-color: #800080\">/content/drive/MyDrive/raw_data/</span><span style=\"color: #ff00ff; text-decoration-color: #ff00ff\">Denoised_C11_rs-2_MNI.nii.gz</span>\n",
              "</pre>\n"
            ],
            "text/plain": [
              "\u001b[1;34m[\u001b[0m\u001b[34mNiftiLabelsMasker.wrapped\u001b[0m\u001b[1;34m]\u001b[0m Loading data from \u001b[35m/content/drive/MyDrive/raw_data/\u001b[0m\u001b[95mDenoised_C11_rs-2_MNI.nii.gz\u001b[0m\n"
            ]
          },
          "metadata": {},
          "output_type": "display_data"
        },
        {
          "data": {
            "text/html": [
              "<pre style=\"white-space:pre;overflow-x:auto;line-height:normal;font-family:Menlo,'DejaVu Sans Mono',consolas,'Courier New',monospace\"><span style=\"color: #000080; text-decoration-color: #000080; font-weight: bold\">[</span><span style=\"color: #000080; text-decoration-color: #000080\">NiftiLabelsMasker.wrapped</span><span style=\"color: #000080; text-decoration-color: #000080; font-weight: bold\">]</span> Extracting region signals\n",
              "</pre>\n"
            ],
            "text/plain": [
              "\u001b[1;34m[\u001b[0m\u001b[34mNiftiLabelsMasker.wrapped\u001b[0m\u001b[1;34m]\u001b[0m Extracting region signals\n"
            ]
          },
          "metadata": {},
          "output_type": "display_data"
        },
        {
          "data": {
            "text/html": [
              "<pre style=\"white-space:pre;overflow-x:auto;line-height:normal;font-family:Menlo,'DejaVu Sans Mono',consolas,'Courier New',monospace\"><span style=\"color: #000080; text-decoration-color: #000080; font-weight: bold\">[</span><span style=\"color: #000080; text-decoration-color: #000080\">NiftiLabelsMasker.wrapped</span><span style=\"color: #000080; text-decoration-color: #000080; font-weight: bold\">]</span> Cleaning extracted signals\n",
              "</pre>\n"
            ],
            "text/plain": [
              "\u001b[1;34m[\u001b[0m\u001b[34mNiftiLabelsMasker.wrapped\u001b[0m\u001b[1;34m]\u001b[0m Cleaning extracted signals\n"
            ]
          },
          "metadata": {},
          "output_type": "display_data"
        },
        {
          "metadata": {
            "tags": null
          },
          "name": "stdout",
          "output_type": "stream",
          "text": [
            "______________________________________________filter_and_extract - 30.1s, 0.5min\n"
          ]
        },
        {
          "data": {
            "text/html": [
              "<pre style=\"white-space:pre;overflow-x:auto;line-height:normal;font-family:Menlo,'DejaVu Sans Mono',consolas,'Courier New',monospace\"><span style=\"color: #000080; text-decoration-color: #000080; font-weight: bold\">[</span><span style=\"color: #000080; text-decoration-color: #000080\">NiftiLabelsMasker.wrapped</span><span style=\"color: #000080; text-decoration-color: #000080; font-weight: bold\">]</span> loading data from \n",
              "<span style=\"color: #800080; text-decoration-color: #800080\">/root/nilearn_data/schaefer_2018/</span><span style=\"color: #ff00ff; text-decoration-color: #ff00ff\">Schaefer2018_200Parcels_7Networks_order_FSLMNI152_2mm.nii.gz</span>\n",
              "</pre>\n"
            ],
            "text/plain": [
              "\u001b[1;34m[\u001b[0m\u001b[34mNiftiLabelsMasker.wrapped\u001b[0m\u001b[1;34m]\u001b[0m loading data from \n",
              "\u001b[35m/root/nilearn_data/schaefer_2018/\u001b[0m\u001b[95mSchaefer2018_200Parcels_7Networks_order_FSLMNI152_2mm.nii.gz\u001b[0m\n"
            ]
          },
          "metadata": {},
          "output_type": "display_data"
        },
        {
          "metadata": {
            "tags": null
          },
          "name": "stdout",
          "output_type": "stream",
          "text": [
            "________________________________________________________________________________\n",
            "[Memory] Calling nilearn.maskers.base_masker.filter_and_extract...\n",
            "filter_and_extract('/content/drive/MyDrive/raw_data/Denoised_C11_rs-3_MNI.nii.gz', <nilearn.maskers.nifti_labels_masker._ExtractionFunctor object at 0x7c5d9b043e90>, \n",
            "{ 'background_label': 0,\n",
            "  'clean_args': None,\n",
            "  'clean_kwargs': {},\n",
            "  'cmap': 'CMRmap_r',\n",
            "  'detrend': False,\n",
            "  'dtype': None,\n",
            "  'high_pass': None,\n",
            "  'high_variance_confounds': False,\n",
            "  'keep_masked_labels': True,\n",
            "  'labels': None,\n",
            "  'labels_img': '/root/nilearn_data/schaefer_2018/Schaefer2018_200Parcels_7Networks_order_FSLMNI152_2mm.nii.gz',\n",
            "  'low_pass': None,\n",
            "  'lut': None,\n",
            "  'mask_img': None,\n",
            "  'reports': True,\n",
            "  'smoothing_fwhm': None,\n",
            "  'standardize': False,\n",
            "  'standardize_confounds': True,\n",
            "  'strategy': 'mean',\n",
            "  't_r': None,\n",
            "  'target_affine': None,\n",
            "  'target_shape': None}, confounds=None, sample_mask=None, dtype=None, memory=Memory(location=nilearn_cache/joblib), memory_level=1, verbose=1)\n"
          ]
        },
        {
          "data": {
            "text/html": [
              "<pre style=\"white-space:pre;overflow-x:auto;line-height:normal;font-family:Menlo,'DejaVu Sans Mono',consolas,'Courier New',monospace\"><span style=\"color: #000080; text-decoration-color: #000080; font-weight: bold\">[</span><span style=\"color: #000080; text-decoration-color: #000080\">NiftiLabelsMasker.wrapped</span><span style=\"color: #000080; text-decoration-color: #000080; font-weight: bold\">]</span> Loading data from <span style=\"color: #800080; text-decoration-color: #800080\">/content/drive/MyDrive/raw_data/</span><span style=\"color: #ff00ff; text-decoration-color: #ff00ff\">Denoised_C11_rs-3_MNI.nii.gz</span>\n",
              "</pre>\n"
            ],
            "text/plain": [
              "\u001b[1;34m[\u001b[0m\u001b[34mNiftiLabelsMasker.wrapped\u001b[0m\u001b[1;34m]\u001b[0m Loading data from \u001b[35m/content/drive/MyDrive/raw_data/\u001b[0m\u001b[95mDenoised_C11_rs-3_MNI.nii.gz\u001b[0m\n"
            ]
          },
          "metadata": {},
          "output_type": "display_data"
        },
        {
          "data": {
            "text/html": [
              "<pre style=\"white-space:pre;overflow-x:auto;line-height:normal;font-family:Menlo,'DejaVu Sans Mono',consolas,'Courier New',monospace\"><span style=\"color: #000080; text-decoration-color: #000080; font-weight: bold\">[</span><span style=\"color: #000080; text-decoration-color: #000080\">NiftiLabelsMasker.wrapped</span><span style=\"color: #000080; text-decoration-color: #000080; font-weight: bold\">]</span> Extracting region signals\n",
              "</pre>\n"
            ],
            "text/plain": [
              "\u001b[1;34m[\u001b[0m\u001b[34mNiftiLabelsMasker.wrapped\u001b[0m\u001b[1;34m]\u001b[0m Extracting region signals\n"
            ]
          },
          "metadata": {},
          "output_type": "display_data"
        },
        {
          "data": {
            "text/html": [
              "<pre style=\"white-space:pre;overflow-x:auto;line-height:normal;font-family:Menlo,'DejaVu Sans Mono',consolas,'Courier New',monospace\"><span style=\"color: #000080; text-decoration-color: #000080; font-weight: bold\">[</span><span style=\"color: #000080; text-decoration-color: #000080\">NiftiLabelsMasker.wrapped</span><span style=\"color: #000080; text-decoration-color: #000080; font-weight: bold\">]</span> Cleaning extracted signals\n",
              "</pre>\n"
            ],
            "text/plain": [
              "\u001b[1;34m[\u001b[0m\u001b[34mNiftiLabelsMasker.wrapped\u001b[0m\u001b[1;34m]\u001b[0m Cleaning extracted signals\n"
            ]
          },
          "metadata": {},
          "output_type": "display_data"
        },
        {
          "metadata": {
            "tags": null
          },
          "name": "stdout",
          "output_type": "stream",
          "text": [
            "______________________________________________filter_and_extract - 30.5s, 0.5min\n"
          ]
        },
        {
          "data": {
            "text/html": [
              "<pre style=\"white-space:pre;overflow-x:auto;line-height:normal;font-family:Menlo,'DejaVu Sans Mono',consolas,'Courier New',monospace\"><span style=\"color: #000080; text-decoration-color: #000080; font-weight: bold\">[</span><span style=\"color: #000080; text-decoration-color: #000080\">NiftiLabelsMasker.wrapped</span><span style=\"color: #000080; text-decoration-color: #000080; font-weight: bold\">]</span> loading data from \n",
              "<span style=\"color: #800080; text-decoration-color: #800080\">/root/nilearn_data/schaefer_2018/</span><span style=\"color: #ff00ff; text-decoration-color: #ff00ff\">Schaefer2018_200Parcels_7Networks_order_FSLMNI152_2mm.nii.gz</span>\n",
              "</pre>\n"
            ],
            "text/plain": [
              "\u001b[1;34m[\u001b[0m\u001b[34mNiftiLabelsMasker.wrapped\u001b[0m\u001b[1;34m]\u001b[0m loading data from \n",
              "\u001b[35m/root/nilearn_data/schaefer_2018/\u001b[0m\u001b[95mSchaefer2018_200Parcels_7Networks_order_FSLMNI152_2mm.nii.gz\u001b[0m\n"
            ]
          },
          "metadata": {},
          "output_type": "display_data"
        },
        {
          "metadata": {
            "tags": null
          },
          "name": "stdout",
          "output_type": "stream",
          "text": [
            "________________________________________________________________________________\n",
            "[Memory] Calling nilearn.maskers.base_masker.filter_and_extract...\n",
            "filter_and_extract('/content/drive/MyDrive/raw_data/Denoised_C12_rs-1_MNI.nii.gz', <nilearn.maskers.nifti_labels_masker._ExtractionFunctor object at 0x7c5d9adc77d0>, \n",
            "{ 'background_label': 0,\n",
            "  'clean_args': None,\n",
            "  'clean_kwargs': {},\n",
            "  'cmap': 'CMRmap_r',\n",
            "  'detrend': False,\n",
            "  'dtype': None,\n",
            "  'high_pass': None,\n",
            "  'high_variance_confounds': False,\n",
            "  'keep_masked_labels': True,\n",
            "  'labels': None,\n",
            "  'labels_img': '/root/nilearn_data/schaefer_2018/Schaefer2018_200Parcels_7Networks_order_FSLMNI152_2mm.nii.gz',\n",
            "  'low_pass': None,\n",
            "  'lut': None,\n",
            "  'mask_img': None,\n",
            "  'reports': True,\n",
            "  'smoothing_fwhm': None,\n",
            "  'standardize': False,\n",
            "  'standardize_confounds': True,\n",
            "  'strategy': 'mean',\n",
            "  't_r': None,\n",
            "  'target_affine': None,\n",
            "  'target_shape': None}, confounds=None, sample_mask=None, dtype=None, memory=Memory(location=nilearn_cache/joblib), memory_level=1, verbose=1)\n"
          ]
        },
        {
          "data": {
            "text/html": [
              "<pre style=\"white-space:pre;overflow-x:auto;line-height:normal;font-family:Menlo,'DejaVu Sans Mono',consolas,'Courier New',monospace\"><span style=\"color: #000080; text-decoration-color: #000080; font-weight: bold\">[</span><span style=\"color: #000080; text-decoration-color: #000080\">NiftiLabelsMasker.wrapped</span><span style=\"color: #000080; text-decoration-color: #000080; font-weight: bold\">]</span> Loading data from <span style=\"color: #800080; text-decoration-color: #800080\">/content/drive/MyDrive/raw_data/</span><span style=\"color: #ff00ff; text-decoration-color: #ff00ff\">Denoised_C12_rs-1_MNI.nii.gz</span>\n",
              "</pre>\n"
            ],
            "text/plain": [
              "\u001b[1;34m[\u001b[0m\u001b[34mNiftiLabelsMasker.wrapped\u001b[0m\u001b[1;34m]\u001b[0m Loading data from \u001b[35m/content/drive/MyDrive/raw_data/\u001b[0m\u001b[95mDenoised_C12_rs-1_MNI.nii.gz\u001b[0m\n"
            ]
          },
          "metadata": {},
          "output_type": "display_data"
        },
        {
          "data": {
            "text/html": [
              "<pre style=\"white-space:pre;overflow-x:auto;line-height:normal;font-family:Menlo,'DejaVu Sans Mono',consolas,'Courier New',monospace\"><span style=\"color: #000080; text-decoration-color: #000080; font-weight: bold\">[</span><span style=\"color: #000080; text-decoration-color: #000080\">NiftiLabelsMasker.wrapped</span><span style=\"color: #000080; text-decoration-color: #000080; font-weight: bold\">]</span> Extracting region signals\n",
              "</pre>\n"
            ],
            "text/plain": [
              "\u001b[1;34m[\u001b[0m\u001b[34mNiftiLabelsMasker.wrapped\u001b[0m\u001b[1;34m]\u001b[0m Extracting region signals\n"
            ]
          },
          "metadata": {},
          "output_type": "display_data"
        },
        {
          "data": {
            "text/html": [
              "<pre style=\"white-space:pre;overflow-x:auto;line-height:normal;font-family:Menlo,'DejaVu Sans Mono',consolas,'Courier New',monospace\"><span style=\"color: #000080; text-decoration-color: #000080; font-weight: bold\">[</span><span style=\"color: #000080; text-decoration-color: #000080\">NiftiLabelsMasker.wrapped</span><span style=\"color: #000080; text-decoration-color: #000080; font-weight: bold\">]</span> Cleaning extracted signals\n",
              "</pre>\n"
            ],
            "text/plain": [
              "\u001b[1;34m[\u001b[0m\u001b[34mNiftiLabelsMasker.wrapped\u001b[0m\u001b[1;34m]\u001b[0m Cleaning extracted signals\n"
            ]
          },
          "metadata": {},
          "output_type": "display_data"
        },
        {
          "metadata": {
            "tags": null
          },
          "name": "stdout",
          "output_type": "stream",
          "text": [
            "______________________________________________filter_and_extract - 30.1s, 0.5min\n"
          ]
        },
        {
          "data": {
            "text/html": [
              "<pre style=\"white-space:pre;overflow-x:auto;line-height:normal;font-family:Menlo,'DejaVu Sans Mono',consolas,'Courier New',monospace\"><span style=\"color: #000080; text-decoration-color: #000080; font-weight: bold\">[</span><span style=\"color: #000080; text-decoration-color: #000080\">NiftiLabelsMasker.wrapped</span><span style=\"color: #000080; text-decoration-color: #000080; font-weight: bold\">]</span> loading data from \n",
              "<span style=\"color: #800080; text-decoration-color: #800080\">/root/nilearn_data/schaefer_2018/</span><span style=\"color: #ff00ff; text-decoration-color: #ff00ff\">Schaefer2018_200Parcels_7Networks_order_FSLMNI152_2mm.nii.gz</span>\n",
              "</pre>\n"
            ],
            "text/plain": [
              "\u001b[1;34m[\u001b[0m\u001b[34mNiftiLabelsMasker.wrapped\u001b[0m\u001b[1;34m]\u001b[0m loading data from \n",
              "\u001b[35m/root/nilearn_data/schaefer_2018/\u001b[0m\u001b[95mSchaefer2018_200Parcels_7Networks_order_FSLMNI152_2mm.nii.gz\u001b[0m\n"
            ]
          },
          "metadata": {},
          "output_type": "display_data"
        },
        {
          "metadata": {
            "tags": null
          },
          "name": "stdout",
          "output_type": "stream",
          "text": [
            "________________________________________________________________________________\n",
            "[Memory] Calling nilearn.maskers.base_masker.filter_and_extract...\n",
            "filter_and_extract('/content/drive/MyDrive/raw_data/Denoised_C12_rs-2_MNI.nii.gz', <nilearn.maskers.nifti_labels_masker._ExtractionFunctor object at 0x7c5d9aeaae10>, \n",
            "{ 'background_label': 0,\n",
            "  'clean_args': None,\n",
            "  'clean_kwargs': {},\n",
            "  'cmap': 'CMRmap_r',\n",
            "  'detrend': False,\n",
            "  'dtype': None,\n",
            "  'high_pass': None,\n",
            "  'high_variance_confounds': False,\n",
            "  'keep_masked_labels': True,\n",
            "  'labels': None,\n",
            "  'labels_img': '/root/nilearn_data/schaefer_2018/Schaefer2018_200Parcels_7Networks_order_FSLMNI152_2mm.nii.gz',\n",
            "  'low_pass': None,\n",
            "  'lut': None,\n",
            "  'mask_img': None,\n",
            "  'reports': True,\n",
            "  'smoothing_fwhm': None,\n",
            "  'standardize': False,\n",
            "  'standardize_confounds': True,\n",
            "  'strategy': 'mean',\n",
            "  't_r': None,\n",
            "  'target_affine': None,\n",
            "  'target_shape': None}, confounds=None, sample_mask=None, dtype=None, memory=Memory(location=nilearn_cache/joblib), memory_level=1, verbose=1)\n"
          ]
        },
        {
          "data": {
            "text/html": [
              "<pre style=\"white-space:pre;overflow-x:auto;line-height:normal;font-family:Menlo,'DejaVu Sans Mono',consolas,'Courier New',monospace\"><span style=\"color: #000080; text-decoration-color: #000080; font-weight: bold\">[</span><span style=\"color: #000080; text-decoration-color: #000080\">NiftiLabelsMasker.wrapped</span><span style=\"color: #000080; text-decoration-color: #000080; font-weight: bold\">]</span> Loading data from <span style=\"color: #800080; text-decoration-color: #800080\">/content/drive/MyDrive/raw_data/</span><span style=\"color: #ff00ff; text-decoration-color: #ff00ff\">Denoised_C12_rs-2_MNI.nii.gz</span>\n",
              "</pre>\n"
            ],
            "text/plain": [
              "\u001b[1;34m[\u001b[0m\u001b[34mNiftiLabelsMasker.wrapped\u001b[0m\u001b[1;34m]\u001b[0m Loading data from \u001b[35m/content/drive/MyDrive/raw_data/\u001b[0m\u001b[95mDenoised_C12_rs-2_MNI.nii.gz\u001b[0m\n"
            ]
          },
          "metadata": {},
          "output_type": "display_data"
        },
        {
          "data": {
            "text/html": [
              "<pre style=\"white-space:pre;overflow-x:auto;line-height:normal;font-family:Menlo,'DejaVu Sans Mono',consolas,'Courier New',monospace\"><span style=\"color: #000080; text-decoration-color: #000080; font-weight: bold\">[</span><span style=\"color: #000080; text-decoration-color: #000080\">NiftiLabelsMasker.wrapped</span><span style=\"color: #000080; text-decoration-color: #000080; font-weight: bold\">]</span> Extracting region signals\n",
              "</pre>\n"
            ],
            "text/plain": [
              "\u001b[1;34m[\u001b[0m\u001b[34mNiftiLabelsMasker.wrapped\u001b[0m\u001b[1;34m]\u001b[0m Extracting region signals\n"
            ]
          },
          "metadata": {},
          "output_type": "display_data"
        },
        {
          "data": {
            "text/html": [
              "<pre style=\"white-space:pre;overflow-x:auto;line-height:normal;font-family:Menlo,'DejaVu Sans Mono',consolas,'Courier New',monospace\"><span style=\"color: #000080; text-decoration-color: #000080; font-weight: bold\">[</span><span style=\"color: #000080; text-decoration-color: #000080\">NiftiLabelsMasker.wrapped</span><span style=\"color: #000080; text-decoration-color: #000080; font-weight: bold\">]</span> Cleaning extracted signals\n",
              "</pre>\n"
            ],
            "text/plain": [
              "\u001b[1;34m[\u001b[0m\u001b[34mNiftiLabelsMasker.wrapped\u001b[0m\u001b[1;34m]\u001b[0m Cleaning extracted signals\n"
            ]
          },
          "metadata": {},
          "output_type": "display_data"
        },
        {
          "metadata": {
            "tags": null
          },
          "name": "stdout",
          "output_type": "stream",
          "text": [
            "______________________________________________filter_and_extract - 30.5s, 0.5min\n"
          ]
        },
        {
          "data": {
            "text/html": [
              "<pre style=\"white-space:pre;overflow-x:auto;line-height:normal;font-family:Menlo,'DejaVu Sans Mono',consolas,'Courier New',monospace\"><span style=\"color: #000080; text-decoration-color: #000080; font-weight: bold\">[</span><span style=\"color: #000080; text-decoration-color: #000080\">NiftiLabelsMasker.wrapped</span><span style=\"color: #000080; text-decoration-color: #000080; font-weight: bold\">]</span> loading data from \n",
              "<span style=\"color: #800080; text-decoration-color: #800080\">/root/nilearn_data/schaefer_2018/</span><span style=\"color: #ff00ff; text-decoration-color: #ff00ff\">Schaefer2018_200Parcels_7Networks_order_FSLMNI152_2mm.nii.gz</span>\n",
              "</pre>\n"
            ],
            "text/plain": [
              "\u001b[1;34m[\u001b[0m\u001b[34mNiftiLabelsMasker.wrapped\u001b[0m\u001b[1;34m]\u001b[0m loading data from \n",
              "\u001b[35m/root/nilearn_data/schaefer_2018/\u001b[0m\u001b[95mSchaefer2018_200Parcels_7Networks_order_FSLMNI152_2mm.nii.gz\u001b[0m\n"
            ]
          },
          "metadata": {},
          "output_type": "display_data"
        },
        {
          "metadata": {
            "tags": null
          },
          "name": "stdout",
          "output_type": "stream",
          "text": [
            "________________________________________________________________________________\n",
            "[Memory] Calling nilearn.maskers.base_masker.filter_and_extract...\n",
            "filter_and_extract('/content/drive/MyDrive/raw_data/Denoised_C12_rs-3_MNI.nii.gz', <nilearn.maskers.nifti_labels_masker._ExtractionFunctor object at 0x7c5d9b04a790>, \n",
            "{ 'background_label': 0,\n",
            "  'clean_args': None,\n",
            "  'clean_kwargs': {},\n",
            "  'cmap': 'CMRmap_r',\n",
            "  'detrend': False,\n",
            "  'dtype': None,\n",
            "  'high_pass': None,\n",
            "  'high_variance_confounds': False,\n",
            "  'keep_masked_labels': True,\n",
            "  'labels': None,\n",
            "  'labels_img': '/root/nilearn_data/schaefer_2018/Schaefer2018_200Parcels_7Networks_order_FSLMNI152_2mm.nii.gz',\n",
            "  'low_pass': None,\n",
            "  'lut': None,\n",
            "  'mask_img': None,\n",
            "  'reports': True,\n",
            "  'smoothing_fwhm': None,\n",
            "  'standardize': False,\n",
            "  'standardize_confounds': True,\n",
            "  'strategy': 'mean',\n",
            "  't_r': None,\n",
            "  'target_affine': None,\n",
            "  'target_shape': None}, confounds=None, sample_mask=None, dtype=None, memory=Memory(location=nilearn_cache/joblib), memory_level=1, verbose=1)\n"
          ]
        },
        {
          "data": {
            "text/html": [
              "<pre style=\"white-space:pre;overflow-x:auto;line-height:normal;font-family:Menlo,'DejaVu Sans Mono',consolas,'Courier New',monospace\"><span style=\"color: #000080; text-decoration-color: #000080; font-weight: bold\">[</span><span style=\"color: #000080; text-decoration-color: #000080\">NiftiLabelsMasker.wrapped</span><span style=\"color: #000080; text-decoration-color: #000080; font-weight: bold\">]</span> Loading data from <span style=\"color: #800080; text-decoration-color: #800080\">/content/drive/MyDrive/raw_data/</span><span style=\"color: #ff00ff; text-decoration-color: #ff00ff\">Denoised_C12_rs-3_MNI.nii.gz</span>\n",
              "</pre>\n"
            ],
            "text/plain": [
              "\u001b[1;34m[\u001b[0m\u001b[34mNiftiLabelsMasker.wrapped\u001b[0m\u001b[1;34m]\u001b[0m Loading data from \u001b[35m/content/drive/MyDrive/raw_data/\u001b[0m\u001b[95mDenoised_C12_rs-3_MNI.nii.gz\u001b[0m\n"
            ]
          },
          "metadata": {},
          "output_type": "display_data"
        },
        {
          "data": {
            "text/html": [
              "<pre style=\"white-space:pre;overflow-x:auto;line-height:normal;font-family:Menlo,'DejaVu Sans Mono',consolas,'Courier New',monospace\"><span style=\"color: #000080; text-decoration-color: #000080; font-weight: bold\">[</span><span style=\"color: #000080; text-decoration-color: #000080\">NiftiLabelsMasker.wrapped</span><span style=\"color: #000080; text-decoration-color: #000080; font-weight: bold\">]</span> Extracting region signals\n",
              "</pre>\n"
            ],
            "text/plain": [
              "\u001b[1;34m[\u001b[0m\u001b[34mNiftiLabelsMasker.wrapped\u001b[0m\u001b[1;34m]\u001b[0m Extracting region signals\n"
            ]
          },
          "metadata": {},
          "output_type": "display_data"
        },
        {
          "data": {
            "text/html": [
              "<pre style=\"white-space:pre;overflow-x:auto;line-height:normal;font-family:Menlo,'DejaVu Sans Mono',consolas,'Courier New',monospace\"><span style=\"color: #000080; text-decoration-color: #000080; font-weight: bold\">[</span><span style=\"color: #000080; text-decoration-color: #000080\">NiftiLabelsMasker.wrapped</span><span style=\"color: #000080; text-decoration-color: #000080; font-weight: bold\">]</span> Cleaning extracted signals\n",
              "</pre>\n"
            ],
            "text/plain": [
              "\u001b[1;34m[\u001b[0m\u001b[34mNiftiLabelsMasker.wrapped\u001b[0m\u001b[1;34m]\u001b[0m Cleaning extracted signals\n"
            ]
          },
          "metadata": {},
          "output_type": "display_data"
        },
        {
          "metadata": {
            "tags": null
          },
          "name": "stdout",
          "output_type": "stream",
          "text": [
            "______________________________________________filter_and_extract - 29.9s, 0.5min\n"
          ]
        },
        {
          "data": {
            "text/html": [
              "<pre style=\"white-space:pre;overflow-x:auto;line-height:normal;font-family:Menlo,'DejaVu Sans Mono',consolas,'Courier New',monospace\"><span style=\"color: #000080; text-decoration-color: #000080; font-weight: bold\">[</span><span style=\"color: #000080; text-decoration-color: #000080\">NiftiLabelsMasker.wrapped</span><span style=\"color: #000080; text-decoration-color: #000080; font-weight: bold\">]</span> loading data from \n",
              "<span style=\"color: #800080; text-decoration-color: #800080\">/root/nilearn_data/schaefer_2018/</span><span style=\"color: #ff00ff; text-decoration-color: #ff00ff\">Schaefer2018_200Parcels_7Networks_order_FSLMNI152_2mm.nii.gz</span>\n",
              "</pre>\n"
            ],
            "text/plain": [
              "\u001b[1;34m[\u001b[0m\u001b[34mNiftiLabelsMasker.wrapped\u001b[0m\u001b[1;34m]\u001b[0m loading data from \n",
              "\u001b[35m/root/nilearn_data/schaefer_2018/\u001b[0m\u001b[95mSchaefer2018_200Parcels_7Networks_order_FSLMNI152_2mm.nii.gz\u001b[0m\n"
            ]
          },
          "metadata": {},
          "output_type": "display_data"
        },
        {
          "metadata": {
            "tags": null
          },
          "name": "stdout",
          "output_type": "stream",
          "text": [
            "________________________________________________________________________________\n",
            "[Memory] Calling nilearn.maskers.base_masker.filter_and_extract...\n",
            "filter_and_extract('/content/drive/MyDrive/raw_data/Denoised_C14_rs-1_MNI.nii.gz', <nilearn.maskers.nifti_labels_masker._ExtractionFunctor object at 0x7c5d9e6c6890>, \n",
            "{ 'background_label': 0,\n",
            "  'clean_args': None,\n",
            "  'clean_kwargs': {},\n",
            "  'cmap': 'CMRmap_r',\n",
            "  'detrend': False,\n",
            "  'dtype': None,\n",
            "  'high_pass': None,\n",
            "  'high_variance_confounds': False,\n",
            "  'keep_masked_labels': True,\n",
            "  'labels': None,\n",
            "  'labels_img': '/root/nilearn_data/schaefer_2018/Schaefer2018_200Parcels_7Networks_order_FSLMNI152_2mm.nii.gz',\n",
            "  'low_pass': None,\n",
            "  'lut': None,\n",
            "  'mask_img': None,\n",
            "  'reports': True,\n",
            "  'smoothing_fwhm': None,\n",
            "  'standardize': False,\n",
            "  'standardize_confounds': True,\n",
            "  'strategy': 'mean',\n",
            "  't_r': None,\n",
            "  'target_affine': None,\n",
            "  'target_shape': None}, confounds=None, sample_mask=None, dtype=None, memory=Memory(location=nilearn_cache/joblib), memory_level=1, verbose=1)\n"
          ]
        },
        {
          "data": {
            "text/html": [
              "<pre style=\"white-space:pre;overflow-x:auto;line-height:normal;font-family:Menlo,'DejaVu Sans Mono',consolas,'Courier New',monospace\"><span style=\"color: #000080; text-decoration-color: #000080; font-weight: bold\">[</span><span style=\"color: #000080; text-decoration-color: #000080\">NiftiLabelsMasker.wrapped</span><span style=\"color: #000080; text-decoration-color: #000080; font-weight: bold\">]</span> Loading data from <span style=\"color: #800080; text-decoration-color: #800080\">/content/drive/MyDrive/raw_data/</span><span style=\"color: #ff00ff; text-decoration-color: #ff00ff\">Denoised_C14_rs-1_MNI.nii.gz</span>\n",
              "</pre>\n"
            ],
            "text/plain": [
              "\u001b[1;34m[\u001b[0m\u001b[34mNiftiLabelsMasker.wrapped\u001b[0m\u001b[1;34m]\u001b[0m Loading data from \u001b[35m/content/drive/MyDrive/raw_data/\u001b[0m\u001b[95mDenoised_C14_rs-1_MNI.nii.gz\u001b[0m\n"
            ]
          },
          "metadata": {},
          "output_type": "display_data"
        },
        {
          "data": {
            "text/html": [
              "<pre style=\"white-space:pre;overflow-x:auto;line-height:normal;font-family:Menlo,'DejaVu Sans Mono',consolas,'Courier New',monospace\"><span style=\"color: #000080; text-decoration-color: #000080; font-weight: bold\">[</span><span style=\"color: #000080; text-decoration-color: #000080\">NiftiLabelsMasker.wrapped</span><span style=\"color: #000080; text-decoration-color: #000080; font-weight: bold\">]</span> Extracting region signals\n",
              "</pre>\n"
            ],
            "text/plain": [
              "\u001b[1;34m[\u001b[0m\u001b[34mNiftiLabelsMasker.wrapped\u001b[0m\u001b[1;34m]\u001b[0m Extracting region signals\n"
            ]
          },
          "metadata": {},
          "output_type": "display_data"
        },
        {
          "data": {
            "text/html": [
              "<pre style=\"white-space:pre;overflow-x:auto;line-height:normal;font-family:Menlo,'DejaVu Sans Mono',consolas,'Courier New',monospace\"><span style=\"color: #000080; text-decoration-color: #000080; font-weight: bold\">[</span><span style=\"color: #000080; text-decoration-color: #000080\">NiftiLabelsMasker.wrapped</span><span style=\"color: #000080; text-decoration-color: #000080; font-weight: bold\">]</span> Cleaning extracted signals\n",
              "</pre>\n"
            ],
            "text/plain": [
              "\u001b[1;34m[\u001b[0m\u001b[34mNiftiLabelsMasker.wrapped\u001b[0m\u001b[1;34m]\u001b[0m Cleaning extracted signals\n"
            ]
          },
          "metadata": {},
          "output_type": "display_data"
        },
        {
          "metadata": {
            "tags": null
          },
          "name": "stdout",
          "output_type": "stream",
          "text": [
            "______________________________________________filter_and_extract - 30.5s, 0.5min\n"
          ]
        },
        {
          "data": {
            "text/html": [
              "<pre style=\"white-space:pre;overflow-x:auto;line-height:normal;font-family:Menlo,'DejaVu Sans Mono',consolas,'Courier New',monospace\"><span style=\"color: #000080; text-decoration-color: #000080; font-weight: bold\">[</span><span style=\"color: #000080; text-decoration-color: #000080\">NiftiLabelsMasker.wrapped</span><span style=\"color: #000080; text-decoration-color: #000080; font-weight: bold\">]</span> loading data from \n",
              "<span style=\"color: #800080; text-decoration-color: #800080\">/root/nilearn_data/schaefer_2018/</span><span style=\"color: #ff00ff; text-decoration-color: #ff00ff\">Schaefer2018_200Parcels_7Networks_order_FSLMNI152_2mm.nii.gz</span>\n",
              "</pre>\n"
            ],
            "text/plain": [
              "\u001b[1;34m[\u001b[0m\u001b[34mNiftiLabelsMasker.wrapped\u001b[0m\u001b[1;34m]\u001b[0m loading data from \n",
              "\u001b[35m/root/nilearn_data/schaefer_2018/\u001b[0m\u001b[95mSchaefer2018_200Parcels_7Networks_order_FSLMNI152_2mm.nii.gz\u001b[0m\n"
            ]
          },
          "metadata": {},
          "output_type": "display_data"
        },
        {
          "metadata": {
            "tags": null
          },
          "name": "stdout",
          "output_type": "stream",
          "text": [
            "________________________________________________________________________________\n",
            "[Memory] Calling nilearn.maskers.base_masker.filter_and_extract...\n",
            "filter_and_extract('/content/drive/MyDrive/raw_data/Denoised_C14_rs-2_MNI.nii.gz', <nilearn.maskers.nifti_labels_masker._ExtractionFunctor object at 0x7c5d9ac5d7d0>, \n",
            "{ 'background_label': 0,\n",
            "  'clean_args': None,\n",
            "  'clean_kwargs': {},\n",
            "  'cmap': 'CMRmap_r',\n",
            "  'detrend': False,\n",
            "  'dtype': None,\n",
            "  'high_pass': None,\n",
            "  'high_variance_confounds': False,\n",
            "  'keep_masked_labels': True,\n",
            "  'labels': None,\n",
            "  'labels_img': '/root/nilearn_data/schaefer_2018/Schaefer2018_200Parcels_7Networks_order_FSLMNI152_2mm.nii.gz',\n",
            "  'low_pass': None,\n",
            "  'lut': None,\n",
            "  'mask_img': None,\n",
            "  'reports': True,\n",
            "  'smoothing_fwhm': None,\n",
            "  'standardize': False,\n",
            "  'standardize_confounds': True,\n",
            "  'strategy': 'mean',\n",
            "  't_r': None,\n",
            "  'target_affine': None,\n",
            "  'target_shape': None}, confounds=None, sample_mask=None, dtype=None, memory=Memory(location=nilearn_cache/joblib), memory_level=1, verbose=1)\n"
          ]
        },
        {
          "data": {
            "text/html": [
              "<pre style=\"white-space:pre;overflow-x:auto;line-height:normal;font-family:Menlo,'DejaVu Sans Mono',consolas,'Courier New',monospace\"><span style=\"color: #000080; text-decoration-color: #000080; font-weight: bold\">[</span><span style=\"color: #000080; text-decoration-color: #000080\">NiftiLabelsMasker.wrapped</span><span style=\"color: #000080; text-decoration-color: #000080; font-weight: bold\">]</span> Loading data from <span style=\"color: #800080; text-decoration-color: #800080\">/content/drive/MyDrive/raw_data/</span><span style=\"color: #ff00ff; text-decoration-color: #ff00ff\">Denoised_C14_rs-2_MNI.nii.gz</span>\n",
              "</pre>\n"
            ],
            "text/plain": [
              "\u001b[1;34m[\u001b[0m\u001b[34mNiftiLabelsMasker.wrapped\u001b[0m\u001b[1;34m]\u001b[0m Loading data from \u001b[35m/content/drive/MyDrive/raw_data/\u001b[0m\u001b[95mDenoised_C14_rs-2_MNI.nii.gz\u001b[0m\n"
            ]
          },
          "metadata": {},
          "output_type": "display_data"
        },
        {
          "data": {
            "text/html": [
              "<pre style=\"white-space:pre;overflow-x:auto;line-height:normal;font-family:Menlo,'DejaVu Sans Mono',consolas,'Courier New',monospace\"><span style=\"color: #000080; text-decoration-color: #000080; font-weight: bold\">[</span><span style=\"color: #000080; text-decoration-color: #000080\">NiftiLabelsMasker.wrapped</span><span style=\"color: #000080; text-decoration-color: #000080; font-weight: bold\">]</span> Extracting region signals\n",
              "</pre>\n"
            ],
            "text/plain": [
              "\u001b[1;34m[\u001b[0m\u001b[34mNiftiLabelsMasker.wrapped\u001b[0m\u001b[1;34m]\u001b[0m Extracting region signals\n"
            ]
          },
          "metadata": {},
          "output_type": "display_data"
        },
        {
          "data": {
            "text/html": [
              "<pre style=\"white-space:pre;overflow-x:auto;line-height:normal;font-family:Menlo,'DejaVu Sans Mono',consolas,'Courier New',monospace\"><span style=\"color: #000080; text-decoration-color: #000080; font-weight: bold\">[</span><span style=\"color: #000080; text-decoration-color: #000080\">NiftiLabelsMasker.wrapped</span><span style=\"color: #000080; text-decoration-color: #000080; font-weight: bold\">]</span> Cleaning extracted signals\n",
              "</pre>\n"
            ],
            "text/plain": [
              "\u001b[1;34m[\u001b[0m\u001b[34mNiftiLabelsMasker.wrapped\u001b[0m\u001b[1;34m]\u001b[0m Cleaning extracted signals\n"
            ]
          },
          "metadata": {},
          "output_type": "display_data"
        },
        {
          "metadata": {
            "tags": null
          },
          "name": "stdout",
          "output_type": "stream",
          "text": [
            "______________________________________________filter_and_extract - 30.1s, 0.5min\n"
          ]
        },
        {
          "data": {
            "text/html": [
              "<pre style=\"white-space:pre;overflow-x:auto;line-height:normal;font-family:Menlo,'DejaVu Sans Mono',consolas,'Courier New',monospace\"><span style=\"color: #000080; text-decoration-color: #000080; font-weight: bold\">[</span><span style=\"color: #000080; text-decoration-color: #000080\">NiftiLabelsMasker.wrapped</span><span style=\"color: #000080; text-decoration-color: #000080; font-weight: bold\">]</span> loading data from \n",
              "<span style=\"color: #800080; text-decoration-color: #800080\">/root/nilearn_data/schaefer_2018/</span><span style=\"color: #ff00ff; text-decoration-color: #ff00ff\">Schaefer2018_200Parcels_7Networks_order_FSLMNI152_2mm.nii.gz</span>\n",
              "</pre>\n"
            ],
            "text/plain": [
              "\u001b[1;34m[\u001b[0m\u001b[34mNiftiLabelsMasker.wrapped\u001b[0m\u001b[1;34m]\u001b[0m loading data from \n",
              "\u001b[35m/root/nilearn_data/schaefer_2018/\u001b[0m\u001b[95mSchaefer2018_200Parcels_7Networks_order_FSLMNI152_2mm.nii.gz\u001b[0m\n"
            ]
          },
          "metadata": {},
          "output_type": "display_data"
        },
        {
          "metadata": {
            "tags": null
          },
          "name": "stdout",
          "output_type": "stream",
          "text": [
            "________________________________________________________________________________\n",
            "[Memory] Calling nilearn.maskers.base_masker.filter_and_extract...\n",
            "filter_and_extract('/content/drive/MyDrive/raw_data/Denoised_C14_rs-3_MNI.nii.gz', <nilearn.maskers.nifti_labels_masker._ExtractionFunctor object at 0x7c5d9af244d0>, \n",
            "{ 'background_label': 0,\n",
            "  'clean_args': None,\n",
            "  'clean_kwargs': {},\n",
            "  'cmap': 'CMRmap_r',\n",
            "  'detrend': False,\n",
            "  'dtype': None,\n",
            "  'high_pass': None,\n",
            "  'high_variance_confounds': False,\n",
            "  'keep_masked_labels': True,\n",
            "  'labels': None,\n",
            "  'labels_img': '/root/nilearn_data/schaefer_2018/Schaefer2018_200Parcels_7Networks_order_FSLMNI152_2mm.nii.gz',\n",
            "  'low_pass': None,\n",
            "  'lut': None,\n",
            "  'mask_img': None,\n",
            "  'reports': True,\n",
            "  'smoothing_fwhm': None,\n",
            "  'standardize': False,\n",
            "  'standardize_confounds': True,\n",
            "  'strategy': 'mean',\n",
            "  't_r': None,\n",
            "  'target_affine': None,\n",
            "  'target_shape': None}, confounds=None, sample_mask=None, dtype=None, memory=Memory(location=nilearn_cache/joblib), memory_level=1, verbose=1)\n"
          ]
        },
        {
          "data": {
            "text/html": [
              "<pre style=\"white-space:pre;overflow-x:auto;line-height:normal;font-family:Menlo,'DejaVu Sans Mono',consolas,'Courier New',monospace\"><span style=\"color: #000080; text-decoration-color: #000080; font-weight: bold\">[</span><span style=\"color: #000080; text-decoration-color: #000080\">NiftiLabelsMasker.wrapped</span><span style=\"color: #000080; text-decoration-color: #000080; font-weight: bold\">]</span> Loading data from <span style=\"color: #800080; text-decoration-color: #800080\">/content/drive/MyDrive/raw_data/</span><span style=\"color: #ff00ff; text-decoration-color: #ff00ff\">Denoised_C14_rs-3_MNI.nii.gz</span>\n",
              "</pre>\n"
            ],
            "text/plain": [
              "\u001b[1;34m[\u001b[0m\u001b[34mNiftiLabelsMasker.wrapped\u001b[0m\u001b[1;34m]\u001b[0m Loading data from \u001b[35m/content/drive/MyDrive/raw_data/\u001b[0m\u001b[95mDenoised_C14_rs-3_MNI.nii.gz\u001b[0m\n"
            ]
          },
          "metadata": {},
          "output_type": "display_data"
        },
        {
          "data": {
            "text/html": [
              "<pre style=\"white-space:pre;overflow-x:auto;line-height:normal;font-family:Menlo,'DejaVu Sans Mono',consolas,'Courier New',monospace\"><span style=\"color: #000080; text-decoration-color: #000080; font-weight: bold\">[</span><span style=\"color: #000080; text-decoration-color: #000080\">NiftiLabelsMasker.wrapped</span><span style=\"color: #000080; text-decoration-color: #000080; font-weight: bold\">]</span> Extracting region signals\n",
              "</pre>\n"
            ],
            "text/plain": [
              "\u001b[1;34m[\u001b[0m\u001b[34mNiftiLabelsMasker.wrapped\u001b[0m\u001b[1;34m]\u001b[0m Extracting region signals\n"
            ]
          },
          "metadata": {},
          "output_type": "display_data"
        },
        {
          "data": {
            "text/html": [
              "<pre style=\"white-space:pre;overflow-x:auto;line-height:normal;font-family:Menlo,'DejaVu Sans Mono',consolas,'Courier New',monospace\"><span style=\"color: #000080; text-decoration-color: #000080; font-weight: bold\">[</span><span style=\"color: #000080; text-decoration-color: #000080\">NiftiLabelsMasker.wrapped</span><span style=\"color: #000080; text-decoration-color: #000080; font-weight: bold\">]</span> Cleaning extracted signals\n",
              "</pre>\n"
            ],
            "text/plain": [
              "\u001b[1;34m[\u001b[0m\u001b[34mNiftiLabelsMasker.wrapped\u001b[0m\u001b[1;34m]\u001b[0m Cleaning extracted signals\n"
            ]
          },
          "metadata": {},
          "output_type": "display_data"
        },
        {
          "metadata": {
            "tags": null
          },
          "name": "stdout",
          "output_type": "stream",
          "text": [
            "______________________________________________filter_and_extract - 29.4s, 0.5min\n"
          ]
        },
        {
          "data": {
            "text/html": [
              "<pre style=\"white-space:pre;overflow-x:auto;line-height:normal;font-family:Menlo,'DejaVu Sans Mono',consolas,'Courier New',monospace\"><span style=\"color: #000080; text-decoration-color: #000080; font-weight: bold\">[</span><span style=\"color: #000080; text-decoration-color: #000080\">NiftiLabelsMasker.wrapped</span><span style=\"color: #000080; text-decoration-color: #000080; font-weight: bold\">]</span> loading data from \n",
              "<span style=\"color: #800080; text-decoration-color: #800080\">/root/nilearn_data/schaefer_2018/</span><span style=\"color: #ff00ff; text-decoration-color: #ff00ff\">Schaefer2018_200Parcels_7Networks_order_FSLMNI152_2mm.nii.gz</span>\n",
              "</pre>\n"
            ],
            "text/plain": [
              "\u001b[1;34m[\u001b[0m\u001b[34mNiftiLabelsMasker.wrapped\u001b[0m\u001b[1;34m]\u001b[0m loading data from \n",
              "\u001b[35m/root/nilearn_data/schaefer_2018/\u001b[0m\u001b[95mSchaefer2018_200Parcels_7Networks_order_FSLMNI152_2mm.nii.gz\u001b[0m\n"
            ]
          },
          "metadata": {},
          "output_type": "display_data"
        },
        {
          "metadata": {
            "tags": null
          },
          "name": "stdout",
          "output_type": "stream",
          "text": [
            "________________________________________________________________________________\n",
            "[Memory] Calling nilearn.maskers.base_masker.filter_and_extract...\n",
            "filter_and_extract('/content/drive/MyDrive/raw_data/Denoised_C15_rs-1_MNI.nii.gz', <nilearn.maskers.nifti_labels_masker._ExtractionFunctor object at 0x7c5d9b785710>, \n",
            "{ 'background_label': 0,\n",
            "  'clean_args': None,\n",
            "  'clean_kwargs': {},\n",
            "  'cmap': 'CMRmap_r',\n",
            "  'detrend': False,\n",
            "  'dtype': None,\n",
            "  'high_pass': None,\n",
            "  'high_variance_confounds': False,\n",
            "  'keep_masked_labels': True,\n",
            "  'labels': None,\n",
            "  'labels_img': '/root/nilearn_data/schaefer_2018/Schaefer2018_200Parcels_7Networks_order_FSLMNI152_2mm.nii.gz',\n",
            "  'low_pass': None,\n",
            "  'lut': None,\n",
            "  'mask_img': None,\n",
            "  'reports': True,\n",
            "  'smoothing_fwhm': None,\n",
            "  'standardize': False,\n",
            "  'standardize_confounds': True,\n",
            "  'strategy': 'mean',\n",
            "  't_r': None,\n",
            "  'target_affine': None,\n",
            "  'target_shape': None}, confounds=None, sample_mask=None, dtype=None, memory=Memory(location=nilearn_cache/joblib), memory_level=1, verbose=1)\n"
          ]
        },
        {
          "data": {
            "text/html": [
              "<pre style=\"white-space:pre;overflow-x:auto;line-height:normal;font-family:Menlo,'DejaVu Sans Mono',consolas,'Courier New',monospace\"><span style=\"color: #000080; text-decoration-color: #000080; font-weight: bold\">[</span><span style=\"color: #000080; text-decoration-color: #000080\">NiftiLabelsMasker.wrapped</span><span style=\"color: #000080; text-decoration-color: #000080; font-weight: bold\">]</span> Loading data from <span style=\"color: #800080; text-decoration-color: #800080\">/content/drive/MyDrive/raw_data/</span><span style=\"color: #ff00ff; text-decoration-color: #ff00ff\">Denoised_C15_rs-1_MNI.nii.gz</span>\n",
              "</pre>\n"
            ],
            "text/plain": [
              "\u001b[1;34m[\u001b[0m\u001b[34mNiftiLabelsMasker.wrapped\u001b[0m\u001b[1;34m]\u001b[0m Loading data from \u001b[35m/content/drive/MyDrive/raw_data/\u001b[0m\u001b[95mDenoised_C15_rs-1_MNI.nii.gz\u001b[0m\n"
            ]
          },
          "metadata": {},
          "output_type": "display_data"
        },
        {
          "data": {
            "text/html": [
              "<pre style=\"white-space:pre;overflow-x:auto;line-height:normal;font-family:Menlo,'DejaVu Sans Mono',consolas,'Courier New',monospace\"><span style=\"color: #000080; text-decoration-color: #000080; font-weight: bold\">[</span><span style=\"color: #000080; text-decoration-color: #000080\">NiftiLabelsMasker.wrapped</span><span style=\"color: #000080; text-decoration-color: #000080; font-weight: bold\">]</span> Extracting region signals\n",
              "</pre>\n"
            ],
            "text/plain": [
              "\u001b[1;34m[\u001b[0m\u001b[34mNiftiLabelsMasker.wrapped\u001b[0m\u001b[1;34m]\u001b[0m Extracting region signals\n"
            ]
          },
          "metadata": {},
          "output_type": "display_data"
        },
        {
          "data": {
            "text/html": [
              "<pre style=\"white-space:pre;overflow-x:auto;line-height:normal;font-family:Menlo,'DejaVu Sans Mono',consolas,'Courier New',monospace\"><span style=\"color: #000080; text-decoration-color: #000080; font-weight: bold\">[</span><span style=\"color: #000080; text-decoration-color: #000080\">NiftiLabelsMasker.wrapped</span><span style=\"color: #000080; text-decoration-color: #000080; font-weight: bold\">]</span> Cleaning extracted signals\n",
              "</pre>\n"
            ],
            "text/plain": [
              "\u001b[1;34m[\u001b[0m\u001b[34mNiftiLabelsMasker.wrapped\u001b[0m\u001b[1;34m]\u001b[0m Cleaning extracted signals\n"
            ]
          },
          "metadata": {},
          "output_type": "display_data"
        },
        {
          "metadata": {
            "tags": null
          },
          "name": "stdout",
          "output_type": "stream",
          "text": [
            "______________________________________________filter_and_extract - 29.4s, 0.5min\n"
          ]
        },
        {
          "data": {
            "text/html": [
              "<pre style=\"white-space:pre;overflow-x:auto;line-height:normal;font-family:Menlo,'DejaVu Sans Mono',consolas,'Courier New',monospace\"><span style=\"color: #000080; text-decoration-color: #000080; font-weight: bold\">[</span><span style=\"color: #000080; text-decoration-color: #000080\">NiftiLabelsMasker.wrapped</span><span style=\"color: #000080; text-decoration-color: #000080; font-weight: bold\">]</span> loading data from \n",
              "<span style=\"color: #800080; text-decoration-color: #800080\">/root/nilearn_data/schaefer_2018/</span><span style=\"color: #ff00ff; text-decoration-color: #ff00ff\">Schaefer2018_200Parcels_7Networks_order_FSLMNI152_2mm.nii.gz</span>\n",
              "</pre>\n"
            ],
            "text/plain": [
              "\u001b[1;34m[\u001b[0m\u001b[34mNiftiLabelsMasker.wrapped\u001b[0m\u001b[1;34m]\u001b[0m loading data from \n",
              "\u001b[35m/root/nilearn_data/schaefer_2018/\u001b[0m\u001b[95mSchaefer2018_200Parcels_7Networks_order_FSLMNI152_2mm.nii.gz\u001b[0m\n"
            ]
          },
          "metadata": {},
          "output_type": "display_data"
        },
        {
          "output_type": "stream",
          "name": "stdout",
          "text": [
            "________________________________________________________________________________\n",
            "[Memory] Calling nilearn.maskers.base_masker.filter_and_extract...\n",
            "filter_and_extract('/content/drive/MyDrive/raw_data/Denoised_C15_rs-2_MNI.nii.gz', <nilearn.maskers.nifti_labels_masker._ExtractionFunctor object at 0x7c5d9abd6790>, \n",
            "{ 'background_label': 0,\n",
            "  'clean_args': None,\n",
            "  'clean_kwargs': {},\n",
            "  'cmap': 'CMRmap_r',\n",
            "  'detrend': False,\n",
            "  'dtype': None,\n",
            "  'high_pass': None,\n",
            "  'high_variance_confounds': False,\n",
            "  'keep_masked_labels': True,\n",
            "  'labels': None,\n",
            "  'labels_img': '/root/nilearn_data/schaefer_2018/Schaefer2018_200Parcels_7Networks_order_FSLMNI152_2mm.nii.gz',\n",
            "  'low_pass': None,\n",
            "  'lut': None,\n",
            "  'mask_img': None,\n",
            "  'reports': True,\n",
            "  'smoothing_fwhm': None,\n",
            "  'standardize': False,\n",
            "  'standardize_confounds': True,\n",
            "  'strategy': 'mean',\n",
            "  't_r': None,\n",
            "  'target_affine': None,\n",
            "  'target_shape': None}, confounds=None, sample_mask=None, dtype=None, memory=Memory(location=nilearn_cache/joblib), memory_level=1, verbose=1)\n"
          ]
        },
        {
          "output_type": "display_data",
          "data": {
            "text/plain": [
              "\u001b[1;34m[\u001b[0m\u001b[34mNiftiLabelsMasker.wrapped\u001b[0m\u001b[1;34m]\u001b[0m Loading data from \u001b[35m/content/drive/MyDrive/raw_data/\u001b[0m\u001b[95mDenoised_C15_rs-2_MNI.nii.gz\u001b[0m\n"
            ],
            "text/html": [
              "<pre style=\"white-space:pre;overflow-x:auto;line-height:normal;font-family:Menlo,'DejaVu Sans Mono',consolas,'Courier New',monospace\"><span style=\"color: #000080; text-decoration-color: #000080; font-weight: bold\">[</span><span style=\"color: #000080; text-decoration-color: #000080\">NiftiLabelsMasker.wrapped</span><span style=\"color: #000080; text-decoration-color: #000080; font-weight: bold\">]</span> Loading data from <span style=\"color: #800080; text-decoration-color: #800080\">/content/drive/MyDrive/raw_data/</span><span style=\"color: #ff00ff; text-decoration-color: #ff00ff\">Denoised_C15_rs-2_MNI.nii.gz</span>\n",
              "</pre>\n"
            ]
          },
          "metadata": {}
        },
        {
          "output_type": "display_data",
          "data": {
            "text/plain": [
              "\u001b[1;34m[\u001b[0m\u001b[34mNiftiLabelsMasker.wrapped\u001b[0m\u001b[1;34m]\u001b[0m Extracting region signals\n"
            ],
            "text/html": [
              "<pre style=\"white-space:pre;overflow-x:auto;line-height:normal;font-family:Menlo,'DejaVu Sans Mono',consolas,'Courier New',monospace\"><span style=\"color: #000080; text-decoration-color: #000080; font-weight: bold\">[</span><span style=\"color: #000080; text-decoration-color: #000080\">NiftiLabelsMasker.wrapped</span><span style=\"color: #000080; text-decoration-color: #000080; font-weight: bold\">]</span> Extracting region signals\n",
              "</pre>\n"
            ]
          },
          "metadata": {}
        },
        {
          "output_type": "display_data",
          "data": {
            "text/plain": [
              "\u001b[1;34m[\u001b[0m\u001b[34mNiftiLabelsMasker.wrapped\u001b[0m\u001b[1;34m]\u001b[0m Cleaning extracted signals\n"
            ],
            "text/html": [
              "<pre style=\"white-space:pre;overflow-x:auto;line-height:normal;font-family:Menlo,'DejaVu Sans Mono',consolas,'Courier New',monospace\"><span style=\"color: #000080; text-decoration-color: #000080; font-weight: bold\">[</span><span style=\"color: #000080; text-decoration-color: #000080\">NiftiLabelsMasker.wrapped</span><span style=\"color: #000080; text-decoration-color: #000080; font-weight: bold\">]</span> Cleaning extracted signals\n",
              "</pre>\n"
            ]
          },
          "metadata": {}
        },
        {
          "output_type": "stream",
          "name": "stdout",
          "text": [
            "______________________________________________filter_and_extract - 29.1s, 0.5min\n"
          ]
        },
        {
          "output_type": "display_data",
          "data": {
            "text/plain": [
              "\u001b[1;34m[\u001b[0m\u001b[34mNiftiLabelsMasker.wrapped\u001b[0m\u001b[1;34m]\u001b[0m loading data from \n",
              "\u001b[35m/root/nilearn_data/schaefer_2018/\u001b[0m\u001b[95mSchaefer2018_200Parcels_7Networks_order_FSLMNI152_2mm.nii.gz\u001b[0m\n"
            ],
            "text/html": [
              "<pre style=\"white-space:pre;overflow-x:auto;line-height:normal;font-family:Menlo,'DejaVu Sans Mono',consolas,'Courier New',monospace\"><span style=\"color: #000080; text-decoration-color: #000080; font-weight: bold\">[</span><span style=\"color: #000080; text-decoration-color: #000080\">NiftiLabelsMasker.wrapped</span><span style=\"color: #000080; text-decoration-color: #000080; font-weight: bold\">]</span> loading data from \n",
              "<span style=\"color: #800080; text-decoration-color: #800080\">/root/nilearn_data/schaefer_2018/</span><span style=\"color: #ff00ff; text-decoration-color: #ff00ff\">Schaefer2018_200Parcels_7Networks_order_FSLMNI152_2mm.nii.gz</span>\n",
              "</pre>\n"
            ]
          },
          "metadata": {}
        },
        {
          "output_type": "stream",
          "name": "stdout",
          "text": [
            "________________________________________________________________________________\n",
            "[Memory] Calling nilearn.maskers.base_masker.filter_and_extract...\n",
            "filter_and_extract('/content/drive/MyDrive/raw_data/Denoised_C15_rs-3_MNI.nii.gz', <nilearn.maskers.nifti_labels_masker._ExtractionFunctor object at 0x7c5d9b7f8190>, \n",
            "{ 'background_label': 0,\n",
            "  'clean_args': None,\n",
            "  'clean_kwargs': {},\n",
            "  'cmap': 'CMRmap_r',\n",
            "  'detrend': False,\n",
            "  'dtype': None,\n",
            "  'high_pass': None,\n",
            "  'high_variance_confounds': False,\n",
            "  'keep_masked_labels': True,\n",
            "  'labels': None,\n",
            "  'labels_img': '/root/nilearn_data/schaefer_2018/Schaefer2018_200Parcels_7Networks_order_FSLMNI152_2mm.nii.gz',\n",
            "  'low_pass': None,\n",
            "  'lut': None,\n",
            "  'mask_img': None,\n",
            "  'reports': True,\n",
            "  'smoothing_fwhm': None,\n",
            "  'standardize': False,\n",
            "  'standardize_confounds': True,\n",
            "  'strategy': 'mean',\n",
            "  't_r': None,\n",
            "  'target_affine': None,\n",
            "  'target_shape': None}, confounds=None, sample_mask=None, dtype=None, memory=Memory(location=nilearn_cache/joblib), memory_level=1, verbose=1)\n"
          ]
        },
        {
          "output_type": "display_data",
          "data": {
            "text/plain": [
              "\u001b[1;34m[\u001b[0m\u001b[34mNiftiLabelsMasker.wrapped\u001b[0m\u001b[1;34m]\u001b[0m Loading data from \u001b[35m/content/drive/MyDrive/raw_data/\u001b[0m\u001b[95mDenoised_C15_rs-3_MNI.nii.gz\u001b[0m\n"
            ],
            "text/html": [
              "<pre style=\"white-space:pre;overflow-x:auto;line-height:normal;font-family:Menlo,'DejaVu Sans Mono',consolas,'Courier New',monospace\"><span style=\"color: #000080; text-decoration-color: #000080; font-weight: bold\">[</span><span style=\"color: #000080; text-decoration-color: #000080\">NiftiLabelsMasker.wrapped</span><span style=\"color: #000080; text-decoration-color: #000080; font-weight: bold\">]</span> Loading data from <span style=\"color: #800080; text-decoration-color: #800080\">/content/drive/MyDrive/raw_data/</span><span style=\"color: #ff00ff; text-decoration-color: #ff00ff\">Denoised_C15_rs-3_MNI.nii.gz</span>\n",
              "</pre>\n"
            ]
          },
          "metadata": {}
        },
        {
          "output_type": "display_data",
          "data": {
            "text/plain": [
              "\u001b[1;34m[\u001b[0m\u001b[34mNiftiLabelsMasker.wrapped\u001b[0m\u001b[1;34m]\u001b[0m Extracting region signals\n"
            ],
            "text/html": [
              "<pre style=\"white-space:pre;overflow-x:auto;line-height:normal;font-family:Menlo,'DejaVu Sans Mono',consolas,'Courier New',monospace\"><span style=\"color: #000080; text-decoration-color: #000080; font-weight: bold\">[</span><span style=\"color: #000080; text-decoration-color: #000080\">NiftiLabelsMasker.wrapped</span><span style=\"color: #000080; text-decoration-color: #000080; font-weight: bold\">]</span> Extracting region signals\n",
              "</pre>\n"
            ]
          },
          "metadata": {}
        },
        {
          "output_type": "display_data",
          "data": {
            "text/plain": [
              "\u001b[1;34m[\u001b[0m\u001b[34mNiftiLabelsMasker.wrapped\u001b[0m\u001b[1;34m]\u001b[0m Cleaning extracted signals\n"
            ],
            "text/html": [
              "<pre style=\"white-space:pre;overflow-x:auto;line-height:normal;font-family:Menlo,'DejaVu Sans Mono',consolas,'Courier New',monospace\"><span style=\"color: #000080; text-decoration-color: #000080; font-weight: bold\">[</span><span style=\"color: #000080; text-decoration-color: #000080\">NiftiLabelsMasker.wrapped</span><span style=\"color: #000080; text-decoration-color: #000080; font-weight: bold\">]</span> Cleaning extracted signals\n",
              "</pre>\n"
            ]
          },
          "metadata": {}
        },
        {
          "output_type": "stream",
          "name": "stdout",
          "text": [
            "______________________________________________filter_and_extract - 29.2s, 0.5min\n"
          ]
        },
        {
          "output_type": "display_data",
          "data": {
            "text/plain": [
              "\u001b[1;34m[\u001b[0m\u001b[34mNiftiLabelsMasker.wrapped\u001b[0m\u001b[1;34m]\u001b[0m loading data from \n",
              "\u001b[35m/root/nilearn_data/schaefer_2018/\u001b[0m\u001b[95mSchaefer2018_200Parcels_7Networks_order_FSLMNI152_2mm.nii.gz\u001b[0m\n"
            ],
            "text/html": [
              "<pre style=\"white-space:pre;overflow-x:auto;line-height:normal;font-family:Menlo,'DejaVu Sans Mono',consolas,'Courier New',monospace\"><span style=\"color: #000080; text-decoration-color: #000080; font-weight: bold\">[</span><span style=\"color: #000080; text-decoration-color: #000080\">NiftiLabelsMasker.wrapped</span><span style=\"color: #000080; text-decoration-color: #000080; font-weight: bold\">]</span> loading data from \n",
              "<span style=\"color: #800080; text-decoration-color: #800080\">/root/nilearn_data/schaefer_2018/</span><span style=\"color: #ff00ff; text-decoration-color: #ff00ff\">Schaefer2018_200Parcels_7Networks_order_FSLMNI152_2mm.nii.gz</span>\n",
              "</pre>\n"
            ]
          },
          "metadata": {}
        },
        {
          "output_type": "stream",
          "name": "stdout",
          "text": [
            "________________________________________________________________________________\n",
            "[Memory] Calling nilearn.maskers.base_masker.filter_and_extract...\n",
            "filter_and_extract('/content/drive/MyDrive/raw_data/Denoised_C16_rs-1_MNI.nii.gz', <nilearn.maskers.nifti_labels_masker._ExtractionFunctor object at 0x7c5d9b04a810>, \n",
            "{ 'background_label': 0,\n",
            "  'clean_args': None,\n",
            "  'clean_kwargs': {},\n",
            "  'cmap': 'CMRmap_r',\n",
            "  'detrend': False,\n",
            "  'dtype': None,\n",
            "  'high_pass': None,\n",
            "  'high_variance_confounds': False,\n",
            "  'keep_masked_labels': True,\n",
            "  'labels': None,\n",
            "  'labels_img': '/root/nilearn_data/schaefer_2018/Schaefer2018_200Parcels_7Networks_order_FSLMNI152_2mm.nii.gz',\n",
            "  'low_pass': None,\n",
            "  'lut': None,\n",
            "  'mask_img': None,\n",
            "  'reports': True,\n",
            "  'smoothing_fwhm': None,\n",
            "  'standardize': False,\n",
            "  'standardize_confounds': True,\n",
            "  'strategy': 'mean',\n",
            "  't_r': None,\n",
            "  'target_affine': None,\n",
            "  'target_shape': None}, confounds=None, sample_mask=None, dtype=None, memory=Memory(location=nilearn_cache/joblib), memory_level=1, verbose=1)\n"
          ]
        },
        {
          "output_type": "display_data",
          "data": {
            "text/plain": [
              "\u001b[1;34m[\u001b[0m\u001b[34mNiftiLabelsMasker.wrapped\u001b[0m\u001b[1;34m]\u001b[0m Loading data from \u001b[35m/content/drive/MyDrive/raw_data/\u001b[0m\u001b[95mDenoised_C16_rs-1_MNI.nii.gz\u001b[0m\n"
            ],
            "text/html": [
              "<pre style=\"white-space:pre;overflow-x:auto;line-height:normal;font-family:Menlo,'DejaVu Sans Mono',consolas,'Courier New',monospace\"><span style=\"color: #000080; text-decoration-color: #000080; font-weight: bold\">[</span><span style=\"color: #000080; text-decoration-color: #000080\">NiftiLabelsMasker.wrapped</span><span style=\"color: #000080; text-decoration-color: #000080; font-weight: bold\">]</span> Loading data from <span style=\"color: #800080; text-decoration-color: #800080\">/content/drive/MyDrive/raw_data/</span><span style=\"color: #ff00ff; text-decoration-color: #ff00ff\">Denoised_C16_rs-1_MNI.nii.gz</span>\n",
              "</pre>\n"
            ]
          },
          "metadata": {}
        },
        {
          "output_type": "display_data",
          "data": {
            "text/plain": [
              "\u001b[1;34m[\u001b[0m\u001b[34mNiftiLabelsMasker.wrapped\u001b[0m\u001b[1;34m]\u001b[0m Extracting region signals\n"
            ],
            "text/html": [
              "<pre style=\"white-space:pre;overflow-x:auto;line-height:normal;font-family:Menlo,'DejaVu Sans Mono',consolas,'Courier New',monospace\"><span style=\"color: #000080; text-decoration-color: #000080; font-weight: bold\">[</span><span style=\"color: #000080; text-decoration-color: #000080\">NiftiLabelsMasker.wrapped</span><span style=\"color: #000080; text-decoration-color: #000080; font-weight: bold\">]</span> Extracting region signals\n",
              "</pre>\n"
            ]
          },
          "metadata": {}
        },
        {
          "output_type": "display_data",
          "data": {
            "text/plain": [
              "\u001b[1;34m[\u001b[0m\u001b[34mNiftiLabelsMasker.wrapped\u001b[0m\u001b[1;34m]\u001b[0m Cleaning extracted signals\n"
            ],
            "text/html": [
              "<pre style=\"white-space:pre;overflow-x:auto;line-height:normal;font-family:Menlo,'DejaVu Sans Mono',consolas,'Courier New',monospace\"><span style=\"color: #000080; text-decoration-color: #000080; font-weight: bold\">[</span><span style=\"color: #000080; text-decoration-color: #000080\">NiftiLabelsMasker.wrapped</span><span style=\"color: #000080; text-decoration-color: #000080; font-weight: bold\">]</span> Cleaning extracted signals\n",
              "</pre>\n"
            ]
          },
          "metadata": {}
        },
        {
          "output_type": "stream",
          "name": "stdout",
          "text": [
            "______________________________________________filter_and_extract - 29.2s, 0.5min\n"
          ]
        },
        {
          "output_type": "display_data",
          "data": {
            "text/plain": [
              "\u001b[1;34m[\u001b[0m\u001b[34mNiftiLabelsMasker.wrapped\u001b[0m\u001b[1;34m]\u001b[0m loading data from \n",
              "\u001b[35m/root/nilearn_data/schaefer_2018/\u001b[0m\u001b[95mSchaefer2018_200Parcels_7Networks_order_FSLMNI152_2mm.nii.gz\u001b[0m\n"
            ],
            "text/html": [
              "<pre style=\"white-space:pre;overflow-x:auto;line-height:normal;font-family:Menlo,'DejaVu Sans Mono',consolas,'Courier New',monospace\"><span style=\"color: #000080; text-decoration-color: #000080; font-weight: bold\">[</span><span style=\"color: #000080; text-decoration-color: #000080\">NiftiLabelsMasker.wrapped</span><span style=\"color: #000080; text-decoration-color: #000080; font-weight: bold\">]</span> loading data from \n",
              "<span style=\"color: #800080; text-decoration-color: #800080\">/root/nilearn_data/schaefer_2018/</span><span style=\"color: #ff00ff; text-decoration-color: #ff00ff\">Schaefer2018_200Parcels_7Networks_order_FSLMNI152_2mm.nii.gz</span>\n",
              "</pre>\n"
            ]
          },
          "metadata": {}
        },
        {
          "output_type": "stream",
          "name": "stdout",
          "text": [
            "________________________________________________________________________________\n",
            "[Memory] Calling nilearn.maskers.base_masker.filter_and_extract...\n",
            "filter_and_extract('/content/drive/MyDrive/raw_data/Denoised_C16_rs-2_MNI.nii.gz', <nilearn.maskers.nifti_labels_masker._ExtractionFunctor object at 0x7c5d9af1fb50>, \n",
            "{ 'background_label': 0,\n",
            "  'clean_args': None,\n",
            "  'clean_kwargs': {},\n",
            "  'cmap': 'CMRmap_r',\n",
            "  'detrend': False,\n",
            "  'dtype': None,\n",
            "  'high_pass': None,\n",
            "  'high_variance_confounds': False,\n",
            "  'keep_masked_labels': True,\n",
            "  'labels': None,\n",
            "  'labels_img': '/root/nilearn_data/schaefer_2018/Schaefer2018_200Parcels_7Networks_order_FSLMNI152_2mm.nii.gz',\n",
            "  'low_pass': None,\n",
            "  'lut': None,\n",
            "  'mask_img': None,\n",
            "  'reports': True,\n",
            "  'smoothing_fwhm': None,\n",
            "  'standardize': False,\n",
            "  'standardize_confounds': True,\n",
            "  'strategy': 'mean',\n",
            "  't_r': None,\n",
            "  'target_affine': None,\n",
            "  'target_shape': None}, confounds=None, sample_mask=None, dtype=None, memory=Memory(location=nilearn_cache/joblib), memory_level=1, verbose=1)\n"
          ]
        },
        {
          "output_type": "display_data",
          "data": {
            "text/plain": [
              "\u001b[1;34m[\u001b[0m\u001b[34mNiftiLabelsMasker.wrapped\u001b[0m\u001b[1;34m]\u001b[0m Loading data from \u001b[35m/content/drive/MyDrive/raw_data/\u001b[0m\u001b[95mDenoised_C16_rs-2_MNI.nii.gz\u001b[0m\n"
            ],
            "text/html": [
              "<pre style=\"white-space:pre;overflow-x:auto;line-height:normal;font-family:Menlo,'DejaVu Sans Mono',consolas,'Courier New',monospace\"><span style=\"color: #000080; text-decoration-color: #000080; font-weight: bold\">[</span><span style=\"color: #000080; text-decoration-color: #000080\">NiftiLabelsMasker.wrapped</span><span style=\"color: #000080; text-decoration-color: #000080; font-weight: bold\">]</span> Loading data from <span style=\"color: #800080; text-decoration-color: #800080\">/content/drive/MyDrive/raw_data/</span><span style=\"color: #ff00ff; text-decoration-color: #ff00ff\">Denoised_C16_rs-2_MNI.nii.gz</span>\n",
              "</pre>\n"
            ]
          },
          "metadata": {}
        },
        {
          "output_type": "display_data",
          "data": {
            "text/plain": [
              "\u001b[1;34m[\u001b[0m\u001b[34mNiftiLabelsMasker.wrapped\u001b[0m\u001b[1;34m]\u001b[0m Extracting region signals\n"
            ],
            "text/html": [
              "<pre style=\"white-space:pre;overflow-x:auto;line-height:normal;font-family:Menlo,'DejaVu Sans Mono',consolas,'Courier New',monospace\"><span style=\"color: #000080; text-decoration-color: #000080; font-weight: bold\">[</span><span style=\"color: #000080; text-decoration-color: #000080\">NiftiLabelsMasker.wrapped</span><span style=\"color: #000080; text-decoration-color: #000080; font-weight: bold\">]</span> Extracting region signals\n",
              "</pre>\n"
            ]
          },
          "metadata": {}
        },
        {
          "output_type": "display_data",
          "data": {
            "text/plain": [
              "\u001b[1;34m[\u001b[0m\u001b[34mNiftiLabelsMasker.wrapped\u001b[0m\u001b[1;34m]\u001b[0m Cleaning extracted signals\n"
            ],
            "text/html": [
              "<pre style=\"white-space:pre;overflow-x:auto;line-height:normal;font-family:Menlo,'DejaVu Sans Mono',consolas,'Courier New',monospace\"><span style=\"color: #000080; text-decoration-color: #000080; font-weight: bold\">[</span><span style=\"color: #000080; text-decoration-color: #000080\">NiftiLabelsMasker.wrapped</span><span style=\"color: #000080; text-decoration-color: #000080; font-weight: bold\">]</span> Cleaning extracted signals\n",
              "</pre>\n"
            ]
          },
          "metadata": {}
        },
        {
          "output_type": "stream",
          "name": "stdout",
          "text": [
            "______________________________________________filter_and_extract - 29.8s, 0.5min\n"
          ]
        },
        {
          "output_type": "display_data",
          "data": {
            "text/plain": [
              "\u001b[1;34m[\u001b[0m\u001b[34mNiftiLabelsMasker.wrapped\u001b[0m\u001b[1;34m]\u001b[0m loading data from \n",
              "\u001b[35m/root/nilearn_data/schaefer_2018/\u001b[0m\u001b[95mSchaefer2018_200Parcels_7Networks_order_FSLMNI152_2mm.nii.gz\u001b[0m\n"
            ],
            "text/html": [
              "<pre style=\"white-space:pre;overflow-x:auto;line-height:normal;font-family:Menlo,'DejaVu Sans Mono',consolas,'Courier New',monospace\"><span style=\"color: #000080; text-decoration-color: #000080; font-weight: bold\">[</span><span style=\"color: #000080; text-decoration-color: #000080\">NiftiLabelsMasker.wrapped</span><span style=\"color: #000080; text-decoration-color: #000080; font-weight: bold\">]</span> loading data from \n",
              "<span style=\"color: #800080; text-decoration-color: #800080\">/root/nilearn_data/schaefer_2018/</span><span style=\"color: #ff00ff; text-decoration-color: #ff00ff\">Schaefer2018_200Parcels_7Networks_order_FSLMNI152_2mm.nii.gz</span>\n",
              "</pre>\n"
            ]
          },
          "metadata": {}
        },
        {
          "output_type": "stream",
          "name": "stdout",
          "text": [
            "________________________________________________________________________________\n",
            "[Memory] Calling nilearn.maskers.base_masker.filter_and_extract...\n",
            "filter_and_extract('/content/drive/MyDrive/raw_data/Denoised_C16_rs-3_MNI.nii.gz', <nilearn.maskers.nifti_labels_masker._ExtractionFunctor object at 0x7c5d9b01bf90>, \n",
            "{ 'background_label': 0,\n",
            "  'clean_args': None,\n",
            "  'clean_kwargs': {},\n",
            "  'cmap': 'CMRmap_r',\n",
            "  'detrend': False,\n",
            "  'dtype': None,\n",
            "  'high_pass': None,\n",
            "  'high_variance_confounds': False,\n",
            "  'keep_masked_labels': True,\n",
            "  'labels': None,\n",
            "  'labels_img': '/root/nilearn_data/schaefer_2018/Schaefer2018_200Parcels_7Networks_order_FSLMNI152_2mm.nii.gz',\n",
            "  'low_pass': None,\n",
            "  'lut': None,\n",
            "  'mask_img': None,\n",
            "  'reports': True,\n",
            "  'smoothing_fwhm': None,\n",
            "  'standardize': False,\n",
            "  'standardize_confounds': True,\n",
            "  'strategy': 'mean',\n",
            "  't_r': None,\n",
            "  'target_affine': None,\n",
            "  'target_shape': None}, confounds=None, sample_mask=None, dtype=None, memory=Memory(location=nilearn_cache/joblib), memory_level=1, verbose=1)\n"
          ]
        },
        {
          "output_type": "display_data",
          "data": {
            "text/plain": [
              "\u001b[1;34m[\u001b[0m\u001b[34mNiftiLabelsMasker.wrapped\u001b[0m\u001b[1;34m]\u001b[0m Loading data from \u001b[35m/content/drive/MyDrive/raw_data/\u001b[0m\u001b[95mDenoised_C16_rs-3_MNI.nii.gz\u001b[0m\n"
            ],
            "text/html": [
              "<pre style=\"white-space:pre;overflow-x:auto;line-height:normal;font-family:Menlo,'DejaVu Sans Mono',consolas,'Courier New',monospace\"><span style=\"color: #000080; text-decoration-color: #000080; font-weight: bold\">[</span><span style=\"color: #000080; text-decoration-color: #000080\">NiftiLabelsMasker.wrapped</span><span style=\"color: #000080; text-decoration-color: #000080; font-weight: bold\">]</span> Loading data from <span style=\"color: #800080; text-decoration-color: #800080\">/content/drive/MyDrive/raw_data/</span><span style=\"color: #ff00ff; text-decoration-color: #ff00ff\">Denoised_C16_rs-3_MNI.nii.gz</span>\n",
              "</pre>\n"
            ]
          },
          "metadata": {}
        },
        {
          "output_type": "display_data",
          "data": {
            "text/plain": [
              "\u001b[1;34m[\u001b[0m\u001b[34mNiftiLabelsMasker.wrapped\u001b[0m\u001b[1;34m]\u001b[0m Extracting region signals\n"
            ],
            "text/html": [
              "<pre style=\"white-space:pre;overflow-x:auto;line-height:normal;font-family:Menlo,'DejaVu Sans Mono',consolas,'Courier New',monospace\"><span style=\"color: #000080; text-decoration-color: #000080; font-weight: bold\">[</span><span style=\"color: #000080; text-decoration-color: #000080\">NiftiLabelsMasker.wrapped</span><span style=\"color: #000080; text-decoration-color: #000080; font-weight: bold\">]</span> Extracting region signals\n",
              "</pre>\n"
            ]
          },
          "metadata": {}
        },
        {
          "output_type": "display_data",
          "data": {
            "text/plain": [
              "\u001b[1;34m[\u001b[0m\u001b[34mNiftiLabelsMasker.wrapped\u001b[0m\u001b[1;34m]\u001b[0m Cleaning extracted signals\n"
            ],
            "text/html": [
              "<pre style=\"white-space:pre;overflow-x:auto;line-height:normal;font-family:Menlo,'DejaVu Sans Mono',consolas,'Courier New',monospace\"><span style=\"color: #000080; text-decoration-color: #000080; font-weight: bold\">[</span><span style=\"color: #000080; text-decoration-color: #000080\">NiftiLabelsMasker.wrapped</span><span style=\"color: #000080; text-decoration-color: #000080; font-weight: bold\">]</span> Cleaning extracted signals\n",
              "</pre>\n"
            ]
          },
          "metadata": {}
        },
        {
          "output_type": "stream",
          "name": "stdout",
          "text": [
            "______________________________________________filter_and_extract - 28.9s, 0.5min\n"
          ]
        },
        {
          "output_type": "display_data",
          "data": {
            "text/plain": [
              "\u001b[1;34m[\u001b[0m\u001b[34mNiftiLabelsMasker.wrapped\u001b[0m\u001b[1;34m]\u001b[0m loading data from \n",
              "\u001b[35m/root/nilearn_data/schaefer_2018/\u001b[0m\u001b[95mSchaefer2018_200Parcels_7Networks_order_FSLMNI152_2mm.nii.gz\u001b[0m\n"
            ],
            "text/html": [
              "<pre style=\"white-space:pre;overflow-x:auto;line-height:normal;font-family:Menlo,'DejaVu Sans Mono',consolas,'Courier New',monospace\"><span style=\"color: #000080; text-decoration-color: #000080; font-weight: bold\">[</span><span style=\"color: #000080; text-decoration-color: #000080\">NiftiLabelsMasker.wrapped</span><span style=\"color: #000080; text-decoration-color: #000080; font-weight: bold\">]</span> loading data from \n",
              "<span style=\"color: #800080; text-decoration-color: #800080\">/root/nilearn_data/schaefer_2018/</span><span style=\"color: #ff00ff; text-decoration-color: #ff00ff\">Schaefer2018_200Parcels_7Networks_order_FSLMNI152_2mm.nii.gz</span>\n",
              "</pre>\n"
            ]
          },
          "metadata": {}
        },
        {
          "output_type": "stream",
          "name": "stdout",
          "text": [
            "________________________________________________________________________________\n",
            "[Memory] Calling nilearn.maskers.base_masker.filter_and_extract...\n",
            "filter_and_extract('/content/drive/MyDrive/raw_data/Denoised_p01_rs-1_MNI.nii.gz', <nilearn.maskers.nifti_labels_masker._ExtractionFunctor object at 0x7c5d9b03cd10>, \n",
            "{ 'background_label': 0,\n",
            "  'clean_args': None,\n",
            "  'clean_kwargs': {},\n",
            "  'cmap': 'CMRmap_r',\n",
            "  'detrend': False,\n",
            "  'dtype': None,\n",
            "  'high_pass': None,\n",
            "  'high_variance_confounds': False,\n",
            "  'keep_masked_labels': True,\n",
            "  'labels': None,\n",
            "  'labels_img': '/root/nilearn_data/schaefer_2018/Schaefer2018_200Parcels_7Networks_order_FSLMNI152_2mm.nii.gz',\n",
            "  'low_pass': None,\n",
            "  'lut': None,\n",
            "  'mask_img': None,\n",
            "  'reports': True,\n",
            "  'smoothing_fwhm': None,\n",
            "  'standardize': False,\n",
            "  'standardize_confounds': True,\n",
            "  'strategy': 'mean',\n",
            "  't_r': None,\n",
            "  'target_affine': None,\n",
            "  'target_shape': None}, confounds=None, sample_mask=None, dtype=None, memory=Memory(location=nilearn_cache/joblib), memory_level=1, verbose=1)\n"
          ]
        },
        {
          "output_type": "display_data",
          "data": {
            "text/plain": [
              "\u001b[1;34m[\u001b[0m\u001b[34mNiftiLabelsMasker.wrapped\u001b[0m\u001b[1;34m]\u001b[0m Loading data from \u001b[35m/content/drive/MyDrive/raw_data/\u001b[0m\u001b[95mDenoised_p01_rs-1_MNI.nii.gz\u001b[0m\n"
            ],
            "text/html": [
              "<pre style=\"white-space:pre;overflow-x:auto;line-height:normal;font-family:Menlo,'DejaVu Sans Mono',consolas,'Courier New',monospace\"><span style=\"color: #000080; text-decoration-color: #000080; font-weight: bold\">[</span><span style=\"color: #000080; text-decoration-color: #000080\">NiftiLabelsMasker.wrapped</span><span style=\"color: #000080; text-decoration-color: #000080; font-weight: bold\">]</span> Loading data from <span style=\"color: #800080; text-decoration-color: #800080\">/content/drive/MyDrive/raw_data/</span><span style=\"color: #ff00ff; text-decoration-color: #ff00ff\">Denoised_p01_rs-1_MNI.nii.gz</span>\n",
              "</pre>\n"
            ]
          },
          "metadata": {}
        },
        {
          "output_type": "display_data",
          "data": {
            "text/plain": [
              "\u001b[1;34m[\u001b[0m\u001b[34mNiftiLabelsMasker.wrapped\u001b[0m\u001b[1;34m]\u001b[0m Extracting region signals\n"
            ],
            "text/html": [
              "<pre style=\"white-space:pre;overflow-x:auto;line-height:normal;font-family:Menlo,'DejaVu Sans Mono',consolas,'Courier New',monospace\"><span style=\"color: #000080; text-decoration-color: #000080; font-weight: bold\">[</span><span style=\"color: #000080; text-decoration-color: #000080\">NiftiLabelsMasker.wrapped</span><span style=\"color: #000080; text-decoration-color: #000080; font-weight: bold\">]</span> Extracting region signals\n",
              "</pre>\n"
            ]
          },
          "metadata": {}
        },
        {
          "output_type": "display_data",
          "data": {
            "text/plain": [
              "\u001b[1;34m[\u001b[0m\u001b[34mNiftiLabelsMasker.wrapped\u001b[0m\u001b[1;34m]\u001b[0m Cleaning extracted signals\n"
            ],
            "text/html": [
              "<pre style=\"white-space:pre;overflow-x:auto;line-height:normal;font-family:Menlo,'DejaVu Sans Mono',consolas,'Courier New',monospace\"><span style=\"color: #000080; text-decoration-color: #000080; font-weight: bold\">[</span><span style=\"color: #000080; text-decoration-color: #000080\">NiftiLabelsMasker.wrapped</span><span style=\"color: #000080; text-decoration-color: #000080; font-weight: bold\">]</span> Cleaning extracted signals\n",
              "</pre>\n"
            ]
          },
          "metadata": {}
        },
        {
          "output_type": "stream",
          "name": "stdout",
          "text": [
            "______________________________________________filter_and_extract - 29.3s, 0.5min\n"
          ]
        },
        {
          "output_type": "display_data",
          "data": {
            "text/plain": [
              "\u001b[1;34m[\u001b[0m\u001b[34mNiftiLabelsMasker.wrapped\u001b[0m\u001b[1;34m]\u001b[0m loading data from \n",
              "\u001b[35m/root/nilearn_data/schaefer_2018/\u001b[0m\u001b[95mSchaefer2018_200Parcels_7Networks_order_FSLMNI152_2mm.nii.gz\u001b[0m\n"
            ],
            "text/html": [
              "<pre style=\"white-space:pre;overflow-x:auto;line-height:normal;font-family:Menlo,'DejaVu Sans Mono',consolas,'Courier New',monospace\"><span style=\"color: #000080; text-decoration-color: #000080; font-weight: bold\">[</span><span style=\"color: #000080; text-decoration-color: #000080\">NiftiLabelsMasker.wrapped</span><span style=\"color: #000080; text-decoration-color: #000080; font-weight: bold\">]</span> loading data from \n",
              "<span style=\"color: #800080; text-decoration-color: #800080\">/root/nilearn_data/schaefer_2018/</span><span style=\"color: #ff00ff; text-decoration-color: #ff00ff\">Schaefer2018_200Parcels_7Networks_order_FSLMNI152_2mm.nii.gz</span>\n",
              "</pre>\n"
            ]
          },
          "metadata": {}
        },
        {
          "output_type": "stream",
          "name": "stdout",
          "text": [
            "________________________________________________________________________________\n",
            "[Memory] Calling nilearn.maskers.base_masker.filter_and_extract...\n",
            "filter_and_extract('/content/drive/MyDrive/raw_data/Denoised_p01_rs-2_MNI.nii.gz', <nilearn.maskers.nifti_labels_masker._ExtractionFunctor object at 0x7c5d9adc6890>, \n",
            "{ 'background_label': 0,\n",
            "  'clean_args': None,\n",
            "  'clean_kwargs': {},\n",
            "  'cmap': 'CMRmap_r',\n",
            "  'detrend': False,\n",
            "  'dtype': None,\n",
            "  'high_pass': None,\n",
            "  'high_variance_confounds': False,\n",
            "  'keep_masked_labels': True,\n",
            "  'labels': None,\n",
            "  'labels_img': '/root/nilearn_data/schaefer_2018/Schaefer2018_200Parcels_7Networks_order_FSLMNI152_2mm.nii.gz',\n",
            "  'low_pass': None,\n",
            "  'lut': None,\n",
            "  'mask_img': None,\n",
            "  'reports': True,\n",
            "  'smoothing_fwhm': None,\n",
            "  'standardize': False,\n",
            "  'standardize_confounds': True,\n",
            "  'strategy': 'mean',\n",
            "  't_r': None,\n",
            "  'target_affine': None,\n",
            "  'target_shape': None}, confounds=None, sample_mask=None, dtype=None, memory=Memory(location=nilearn_cache/joblib), memory_level=1, verbose=1)\n"
          ]
        },
        {
          "output_type": "display_data",
          "data": {
            "text/plain": [
              "\u001b[1;34m[\u001b[0m\u001b[34mNiftiLabelsMasker.wrapped\u001b[0m\u001b[1;34m]\u001b[0m Loading data from \u001b[35m/content/drive/MyDrive/raw_data/\u001b[0m\u001b[95mDenoised_p01_rs-2_MNI.nii.gz\u001b[0m\n"
            ],
            "text/html": [
              "<pre style=\"white-space:pre;overflow-x:auto;line-height:normal;font-family:Menlo,'DejaVu Sans Mono',consolas,'Courier New',monospace\"><span style=\"color: #000080; text-decoration-color: #000080; font-weight: bold\">[</span><span style=\"color: #000080; text-decoration-color: #000080\">NiftiLabelsMasker.wrapped</span><span style=\"color: #000080; text-decoration-color: #000080; font-weight: bold\">]</span> Loading data from <span style=\"color: #800080; text-decoration-color: #800080\">/content/drive/MyDrive/raw_data/</span><span style=\"color: #ff00ff; text-decoration-color: #ff00ff\">Denoised_p01_rs-2_MNI.nii.gz</span>\n",
              "</pre>\n"
            ]
          },
          "metadata": {}
        },
        {
          "output_type": "display_data",
          "data": {
            "text/plain": [
              "\u001b[1;34m[\u001b[0m\u001b[34mNiftiLabelsMasker.wrapped\u001b[0m\u001b[1;34m]\u001b[0m Extracting region signals\n"
            ],
            "text/html": [
              "<pre style=\"white-space:pre;overflow-x:auto;line-height:normal;font-family:Menlo,'DejaVu Sans Mono',consolas,'Courier New',monospace\"><span style=\"color: #000080; text-decoration-color: #000080; font-weight: bold\">[</span><span style=\"color: #000080; text-decoration-color: #000080\">NiftiLabelsMasker.wrapped</span><span style=\"color: #000080; text-decoration-color: #000080; font-weight: bold\">]</span> Extracting region signals\n",
              "</pre>\n"
            ]
          },
          "metadata": {}
        },
        {
          "output_type": "display_data",
          "data": {
            "text/plain": [
              "\u001b[1;34m[\u001b[0m\u001b[34mNiftiLabelsMasker.wrapped\u001b[0m\u001b[1;34m]\u001b[0m Cleaning extracted signals\n"
            ],
            "text/html": [
              "<pre style=\"white-space:pre;overflow-x:auto;line-height:normal;font-family:Menlo,'DejaVu Sans Mono',consolas,'Courier New',monospace\"><span style=\"color: #000080; text-decoration-color: #000080; font-weight: bold\">[</span><span style=\"color: #000080; text-decoration-color: #000080\">NiftiLabelsMasker.wrapped</span><span style=\"color: #000080; text-decoration-color: #000080; font-weight: bold\">]</span> Cleaning extracted signals\n",
              "</pre>\n"
            ]
          },
          "metadata": {}
        },
        {
          "output_type": "stream",
          "name": "stdout",
          "text": [
            "______________________________________________filter_and_extract - 29.0s, 0.5min\n"
          ]
        },
        {
          "output_type": "display_data",
          "data": {
            "text/plain": [
              "\u001b[1;34m[\u001b[0m\u001b[34mNiftiLabelsMasker.wrapped\u001b[0m\u001b[1;34m]\u001b[0m loading data from \n",
              "\u001b[35m/root/nilearn_data/schaefer_2018/\u001b[0m\u001b[95mSchaefer2018_200Parcels_7Networks_order_FSLMNI152_2mm.nii.gz\u001b[0m\n"
            ],
            "text/html": [
              "<pre style=\"white-space:pre;overflow-x:auto;line-height:normal;font-family:Menlo,'DejaVu Sans Mono',consolas,'Courier New',monospace\"><span style=\"color: #000080; text-decoration-color: #000080; font-weight: bold\">[</span><span style=\"color: #000080; text-decoration-color: #000080\">NiftiLabelsMasker.wrapped</span><span style=\"color: #000080; text-decoration-color: #000080; font-weight: bold\">]</span> loading data from \n",
              "<span style=\"color: #800080; text-decoration-color: #800080\">/root/nilearn_data/schaefer_2018/</span><span style=\"color: #ff00ff; text-decoration-color: #ff00ff\">Schaefer2018_200Parcels_7Networks_order_FSLMNI152_2mm.nii.gz</span>\n",
              "</pre>\n"
            ]
          },
          "metadata": {}
        },
        {
          "output_type": "stream",
          "name": "stdout",
          "text": [
            "________________________________________________________________________________\n",
            "[Memory] Calling nilearn.maskers.base_masker.filter_and_extract...\n",
            "filter_and_extract('/content/drive/MyDrive/raw_data/Denoised_p01_rs-3_MNI.nii.gz', <nilearn.maskers.nifti_labels_masker._ExtractionFunctor object at 0x7c5d9ac8eb10>, \n",
            "{ 'background_label': 0,\n",
            "  'clean_args': None,\n",
            "  'clean_kwargs': {},\n",
            "  'cmap': 'CMRmap_r',\n",
            "  'detrend': False,\n",
            "  'dtype': None,\n",
            "  'high_pass': None,\n",
            "  'high_variance_confounds': False,\n",
            "  'keep_masked_labels': True,\n",
            "  'labels': None,\n",
            "  'labels_img': '/root/nilearn_data/schaefer_2018/Schaefer2018_200Parcels_7Networks_order_FSLMNI152_2mm.nii.gz',\n",
            "  'low_pass': None,\n",
            "  'lut': None,\n",
            "  'mask_img': None,\n",
            "  'reports': True,\n",
            "  'smoothing_fwhm': None,\n",
            "  'standardize': False,\n",
            "  'standardize_confounds': True,\n",
            "  'strategy': 'mean',\n",
            "  't_r': None,\n",
            "  'target_affine': None,\n",
            "  'target_shape': None}, confounds=None, sample_mask=None, dtype=None, memory=Memory(location=nilearn_cache/joblib), memory_level=1, verbose=1)\n"
          ]
        },
        {
          "output_type": "display_data",
          "data": {
            "text/plain": [
              "\u001b[1;34m[\u001b[0m\u001b[34mNiftiLabelsMasker.wrapped\u001b[0m\u001b[1;34m]\u001b[0m Loading data from \u001b[35m/content/drive/MyDrive/raw_data/\u001b[0m\u001b[95mDenoised_p01_rs-3_MNI.nii.gz\u001b[0m\n"
            ],
            "text/html": [
              "<pre style=\"white-space:pre;overflow-x:auto;line-height:normal;font-family:Menlo,'DejaVu Sans Mono',consolas,'Courier New',monospace\"><span style=\"color: #000080; text-decoration-color: #000080; font-weight: bold\">[</span><span style=\"color: #000080; text-decoration-color: #000080\">NiftiLabelsMasker.wrapped</span><span style=\"color: #000080; text-decoration-color: #000080; font-weight: bold\">]</span> Loading data from <span style=\"color: #800080; text-decoration-color: #800080\">/content/drive/MyDrive/raw_data/</span><span style=\"color: #ff00ff; text-decoration-color: #ff00ff\">Denoised_p01_rs-3_MNI.nii.gz</span>\n",
              "</pre>\n"
            ]
          },
          "metadata": {}
        },
        {
          "output_type": "display_data",
          "data": {
            "text/plain": [
              "\u001b[1;34m[\u001b[0m\u001b[34mNiftiLabelsMasker.wrapped\u001b[0m\u001b[1;34m]\u001b[0m Extracting region signals\n"
            ],
            "text/html": [
              "<pre style=\"white-space:pre;overflow-x:auto;line-height:normal;font-family:Menlo,'DejaVu Sans Mono',consolas,'Courier New',monospace\"><span style=\"color: #000080; text-decoration-color: #000080; font-weight: bold\">[</span><span style=\"color: #000080; text-decoration-color: #000080\">NiftiLabelsMasker.wrapped</span><span style=\"color: #000080; text-decoration-color: #000080; font-weight: bold\">]</span> Extracting region signals\n",
              "</pre>\n"
            ]
          },
          "metadata": {}
        },
        {
          "output_type": "display_data",
          "data": {
            "text/plain": [
              "\u001b[1;34m[\u001b[0m\u001b[34mNiftiLabelsMasker.wrapped\u001b[0m\u001b[1;34m]\u001b[0m Cleaning extracted signals\n"
            ],
            "text/html": [
              "<pre style=\"white-space:pre;overflow-x:auto;line-height:normal;font-family:Menlo,'DejaVu Sans Mono',consolas,'Courier New',monospace\"><span style=\"color: #000080; text-decoration-color: #000080; font-weight: bold\">[</span><span style=\"color: #000080; text-decoration-color: #000080\">NiftiLabelsMasker.wrapped</span><span style=\"color: #000080; text-decoration-color: #000080; font-weight: bold\">]</span> Cleaning extracted signals\n",
              "</pre>\n"
            ]
          },
          "metadata": {}
        },
        {
          "output_type": "stream",
          "name": "stdout",
          "text": [
            "______________________________________________filter_and_extract - 30.1s, 0.5min\n"
          ]
        },
        {
          "output_type": "display_data",
          "data": {
            "text/plain": [
              "\u001b[1;34m[\u001b[0m\u001b[34mNiftiLabelsMasker.wrapped\u001b[0m\u001b[1;34m]\u001b[0m loading data from \n",
              "\u001b[35m/root/nilearn_data/schaefer_2018/\u001b[0m\u001b[95mSchaefer2018_200Parcels_7Networks_order_FSLMNI152_2mm.nii.gz\u001b[0m\n"
            ],
            "text/html": [
              "<pre style=\"white-space:pre;overflow-x:auto;line-height:normal;font-family:Menlo,'DejaVu Sans Mono',consolas,'Courier New',monospace\"><span style=\"color: #000080; text-decoration-color: #000080; font-weight: bold\">[</span><span style=\"color: #000080; text-decoration-color: #000080\">NiftiLabelsMasker.wrapped</span><span style=\"color: #000080; text-decoration-color: #000080; font-weight: bold\">]</span> loading data from \n",
              "<span style=\"color: #800080; text-decoration-color: #800080\">/root/nilearn_data/schaefer_2018/</span><span style=\"color: #ff00ff; text-decoration-color: #ff00ff\">Schaefer2018_200Parcels_7Networks_order_FSLMNI152_2mm.nii.gz</span>\n",
              "</pre>\n"
            ]
          },
          "metadata": {}
        },
        {
          "output_type": "stream",
          "name": "stdout",
          "text": [
            "________________________________________________________________________________\n",
            "[Memory] Calling nilearn.maskers.base_masker.filter_and_extract...\n",
            "filter_and_extract('/content/drive/MyDrive/raw_data/Denoised_p02_rs-1_MNI.nii.gz', <nilearn.maskers.nifti_labels_masker._ExtractionFunctor object at 0x7c5d9ad50e90>, \n",
            "{ 'background_label': 0,\n",
            "  'clean_args': None,\n",
            "  'clean_kwargs': {},\n",
            "  'cmap': 'CMRmap_r',\n",
            "  'detrend': False,\n",
            "  'dtype': None,\n",
            "  'high_pass': None,\n",
            "  'high_variance_confounds': False,\n",
            "  'keep_masked_labels': True,\n",
            "  'labels': None,\n",
            "  'labels_img': '/root/nilearn_data/schaefer_2018/Schaefer2018_200Parcels_7Networks_order_FSLMNI152_2mm.nii.gz',\n",
            "  'low_pass': None,\n",
            "  'lut': None,\n",
            "  'mask_img': None,\n",
            "  'reports': True,\n",
            "  'smoothing_fwhm': None,\n",
            "  'standardize': False,\n",
            "  'standardize_confounds': True,\n",
            "  'strategy': 'mean',\n",
            "  't_r': None,\n",
            "  'target_affine': None,\n",
            "  'target_shape': None}, confounds=None, sample_mask=None, dtype=None, memory=Memory(location=nilearn_cache/joblib), memory_level=1, verbose=1)\n"
          ]
        },
        {
          "output_type": "display_data",
          "data": {
            "text/plain": [
              "\u001b[1;34m[\u001b[0m\u001b[34mNiftiLabelsMasker.wrapped\u001b[0m\u001b[1;34m]\u001b[0m Loading data from \u001b[35m/content/drive/MyDrive/raw_data/\u001b[0m\u001b[95mDenoised_p02_rs-1_MNI.nii.gz\u001b[0m\n"
            ],
            "text/html": [
              "<pre style=\"white-space:pre;overflow-x:auto;line-height:normal;font-family:Menlo,'DejaVu Sans Mono',consolas,'Courier New',monospace\"><span style=\"color: #000080; text-decoration-color: #000080; font-weight: bold\">[</span><span style=\"color: #000080; text-decoration-color: #000080\">NiftiLabelsMasker.wrapped</span><span style=\"color: #000080; text-decoration-color: #000080; font-weight: bold\">]</span> Loading data from <span style=\"color: #800080; text-decoration-color: #800080\">/content/drive/MyDrive/raw_data/</span><span style=\"color: #ff00ff; text-decoration-color: #ff00ff\">Denoised_p02_rs-1_MNI.nii.gz</span>\n",
              "</pre>\n"
            ]
          },
          "metadata": {}
        },
        {
          "output_type": "display_data",
          "data": {
            "text/plain": [
              "\u001b[1;34m[\u001b[0m\u001b[34mNiftiLabelsMasker.wrapped\u001b[0m\u001b[1;34m]\u001b[0m Extracting region signals\n"
            ],
            "text/html": [
              "<pre style=\"white-space:pre;overflow-x:auto;line-height:normal;font-family:Menlo,'DejaVu Sans Mono',consolas,'Courier New',monospace\"><span style=\"color: #000080; text-decoration-color: #000080; font-weight: bold\">[</span><span style=\"color: #000080; text-decoration-color: #000080\">NiftiLabelsMasker.wrapped</span><span style=\"color: #000080; text-decoration-color: #000080; font-weight: bold\">]</span> Extracting region signals\n",
              "</pre>\n"
            ]
          },
          "metadata": {}
        },
        {
          "output_type": "display_data",
          "data": {
            "text/plain": [
              "\u001b[1;34m[\u001b[0m\u001b[34mNiftiLabelsMasker.wrapped\u001b[0m\u001b[1;34m]\u001b[0m Cleaning extracted signals\n"
            ],
            "text/html": [
              "<pre style=\"white-space:pre;overflow-x:auto;line-height:normal;font-family:Menlo,'DejaVu Sans Mono',consolas,'Courier New',monospace\"><span style=\"color: #000080; text-decoration-color: #000080; font-weight: bold\">[</span><span style=\"color: #000080; text-decoration-color: #000080\">NiftiLabelsMasker.wrapped</span><span style=\"color: #000080; text-decoration-color: #000080; font-weight: bold\">]</span> Cleaning extracted signals\n",
              "</pre>\n"
            ]
          },
          "metadata": {}
        },
        {
          "output_type": "stream",
          "name": "stdout",
          "text": [
            "______________________________________________filter_and_extract - 29.1s, 0.5min\n"
          ]
        },
        {
          "output_type": "display_data",
          "data": {
            "text/plain": [
              "\u001b[1;34m[\u001b[0m\u001b[34mNiftiLabelsMasker.wrapped\u001b[0m\u001b[1;34m]\u001b[0m loading data from \n",
              "\u001b[35m/root/nilearn_data/schaefer_2018/\u001b[0m\u001b[95mSchaefer2018_200Parcels_7Networks_order_FSLMNI152_2mm.nii.gz\u001b[0m\n"
            ],
            "text/html": [
              "<pre style=\"white-space:pre;overflow-x:auto;line-height:normal;font-family:Menlo,'DejaVu Sans Mono',consolas,'Courier New',monospace\"><span style=\"color: #000080; text-decoration-color: #000080; font-weight: bold\">[</span><span style=\"color: #000080; text-decoration-color: #000080\">NiftiLabelsMasker.wrapped</span><span style=\"color: #000080; text-decoration-color: #000080; font-weight: bold\">]</span> loading data from \n",
              "<span style=\"color: #800080; text-decoration-color: #800080\">/root/nilearn_data/schaefer_2018/</span><span style=\"color: #ff00ff; text-decoration-color: #ff00ff\">Schaefer2018_200Parcels_7Networks_order_FSLMNI152_2mm.nii.gz</span>\n",
              "</pre>\n"
            ]
          },
          "metadata": {}
        },
        {
          "output_type": "stream",
          "name": "stdout",
          "text": [
            "________________________________________________________________________________\n",
            "[Memory] Calling nilearn.maskers.base_masker.filter_and_extract...\n",
            "filter_and_extract('/content/drive/MyDrive/raw_data/Denoised_p02_rs-2_MNI.nii.gz', <nilearn.maskers.nifti_labels_masker._ExtractionFunctor object at 0x7c5d9af24390>, \n",
            "{ 'background_label': 0,\n",
            "  'clean_args': None,\n",
            "  'clean_kwargs': {},\n",
            "  'cmap': 'CMRmap_r',\n",
            "  'detrend': False,\n",
            "  'dtype': None,\n",
            "  'high_pass': None,\n",
            "  'high_variance_confounds': False,\n",
            "  'keep_masked_labels': True,\n",
            "  'labels': None,\n",
            "  'labels_img': '/root/nilearn_data/schaefer_2018/Schaefer2018_200Parcels_7Networks_order_FSLMNI152_2mm.nii.gz',\n",
            "  'low_pass': None,\n",
            "  'lut': None,\n",
            "  'mask_img': None,\n",
            "  'reports': True,\n",
            "  'smoothing_fwhm': None,\n",
            "  'standardize': False,\n",
            "  'standardize_confounds': True,\n",
            "  'strategy': 'mean',\n",
            "  't_r': None,\n",
            "  'target_affine': None,\n",
            "  'target_shape': None}, confounds=None, sample_mask=None, dtype=None, memory=Memory(location=nilearn_cache/joblib), memory_level=1, verbose=1)\n"
          ]
        },
        {
          "output_type": "display_data",
          "data": {
            "text/plain": [
              "\u001b[1;34m[\u001b[0m\u001b[34mNiftiLabelsMasker.wrapped\u001b[0m\u001b[1;34m]\u001b[0m Loading data from \u001b[35m/content/drive/MyDrive/raw_data/\u001b[0m\u001b[95mDenoised_p02_rs-2_MNI.nii.gz\u001b[0m\n"
            ],
            "text/html": [
              "<pre style=\"white-space:pre;overflow-x:auto;line-height:normal;font-family:Menlo,'DejaVu Sans Mono',consolas,'Courier New',monospace\"><span style=\"color: #000080; text-decoration-color: #000080; font-weight: bold\">[</span><span style=\"color: #000080; text-decoration-color: #000080\">NiftiLabelsMasker.wrapped</span><span style=\"color: #000080; text-decoration-color: #000080; font-weight: bold\">]</span> Loading data from <span style=\"color: #800080; text-decoration-color: #800080\">/content/drive/MyDrive/raw_data/</span><span style=\"color: #ff00ff; text-decoration-color: #ff00ff\">Denoised_p02_rs-2_MNI.nii.gz</span>\n",
              "</pre>\n"
            ]
          },
          "metadata": {}
        },
        {
          "output_type": "display_data",
          "data": {
            "text/plain": [
              "\u001b[1;34m[\u001b[0m\u001b[34mNiftiLabelsMasker.wrapped\u001b[0m\u001b[1;34m]\u001b[0m Extracting region signals\n"
            ],
            "text/html": [
              "<pre style=\"white-space:pre;overflow-x:auto;line-height:normal;font-family:Menlo,'DejaVu Sans Mono',consolas,'Courier New',monospace\"><span style=\"color: #000080; text-decoration-color: #000080; font-weight: bold\">[</span><span style=\"color: #000080; text-decoration-color: #000080\">NiftiLabelsMasker.wrapped</span><span style=\"color: #000080; text-decoration-color: #000080; font-weight: bold\">]</span> Extracting region signals\n",
              "</pre>\n"
            ]
          },
          "metadata": {}
        },
        {
          "output_type": "display_data",
          "data": {
            "text/plain": [
              "\u001b[1;34m[\u001b[0m\u001b[34mNiftiLabelsMasker.wrapped\u001b[0m\u001b[1;34m]\u001b[0m Cleaning extracted signals\n"
            ],
            "text/html": [
              "<pre style=\"white-space:pre;overflow-x:auto;line-height:normal;font-family:Menlo,'DejaVu Sans Mono',consolas,'Courier New',monospace\"><span style=\"color: #000080; text-decoration-color: #000080; font-weight: bold\">[</span><span style=\"color: #000080; text-decoration-color: #000080\">NiftiLabelsMasker.wrapped</span><span style=\"color: #000080; text-decoration-color: #000080; font-weight: bold\">]</span> Cleaning extracted signals\n",
              "</pre>\n"
            ]
          },
          "metadata": {}
        },
        {
          "output_type": "stream",
          "name": "stdout",
          "text": [
            "______________________________________________filter_and_extract - 29.0s, 0.5min\n"
          ]
        },
        {
          "output_type": "display_data",
          "data": {
            "text/plain": [
              "\u001b[1;34m[\u001b[0m\u001b[34mNiftiLabelsMasker.wrapped\u001b[0m\u001b[1;34m]\u001b[0m loading data from \n",
              "\u001b[35m/root/nilearn_data/schaefer_2018/\u001b[0m\u001b[95mSchaefer2018_200Parcels_7Networks_order_FSLMNI152_2mm.nii.gz\u001b[0m\n"
            ],
            "text/html": [
              "<pre style=\"white-space:pre;overflow-x:auto;line-height:normal;font-family:Menlo,'DejaVu Sans Mono',consolas,'Courier New',monospace\"><span style=\"color: #000080; text-decoration-color: #000080; font-weight: bold\">[</span><span style=\"color: #000080; text-decoration-color: #000080\">NiftiLabelsMasker.wrapped</span><span style=\"color: #000080; text-decoration-color: #000080; font-weight: bold\">]</span> loading data from \n",
              "<span style=\"color: #800080; text-decoration-color: #800080\">/root/nilearn_data/schaefer_2018/</span><span style=\"color: #ff00ff; text-decoration-color: #ff00ff\">Schaefer2018_200Parcels_7Networks_order_FSLMNI152_2mm.nii.gz</span>\n",
              "</pre>\n"
            ]
          },
          "metadata": {}
        },
        {
          "output_type": "stream",
          "name": "stdout",
          "text": [
            "________________________________________________________________________________\n",
            "[Memory] Calling nilearn.maskers.base_masker.filter_and_extract...\n",
            "filter_and_extract('/content/drive/MyDrive/raw_data/Denoised_p02_rs-3_MNI.nii.gz', <nilearn.maskers.nifti_labels_masker._ExtractionFunctor object at 0x7c5d9b04a810>, \n",
            "{ 'background_label': 0,\n",
            "  'clean_args': None,\n",
            "  'clean_kwargs': {},\n",
            "  'cmap': 'CMRmap_r',\n",
            "  'detrend': False,\n",
            "  'dtype': None,\n",
            "  'high_pass': None,\n",
            "  'high_variance_confounds': False,\n",
            "  'keep_masked_labels': True,\n",
            "  'labels': None,\n",
            "  'labels_img': '/root/nilearn_data/schaefer_2018/Schaefer2018_200Parcels_7Networks_order_FSLMNI152_2mm.nii.gz',\n",
            "  'low_pass': None,\n",
            "  'lut': None,\n",
            "  'mask_img': None,\n",
            "  'reports': True,\n",
            "  'smoothing_fwhm': None,\n",
            "  'standardize': False,\n",
            "  'standardize_confounds': True,\n",
            "  'strategy': 'mean',\n",
            "  't_r': None,\n",
            "  'target_affine': None,\n",
            "  'target_shape': None}, confounds=None, sample_mask=None, dtype=None, memory=Memory(location=nilearn_cache/joblib), memory_level=1, verbose=1)\n"
          ]
        },
        {
          "output_type": "display_data",
          "data": {
            "text/plain": [
              "\u001b[1;34m[\u001b[0m\u001b[34mNiftiLabelsMasker.wrapped\u001b[0m\u001b[1;34m]\u001b[0m Loading data from \u001b[35m/content/drive/MyDrive/raw_data/\u001b[0m\u001b[95mDenoised_p02_rs-3_MNI.nii.gz\u001b[0m\n"
            ],
            "text/html": [
              "<pre style=\"white-space:pre;overflow-x:auto;line-height:normal;font-family:Menlo,'DejaVu Sans Mono',consolas,'Courier New',monospace\"><span style=\"color: #000080; text-decoration-color: #000080; font-weight: bold\">[</span><span style=\"color: #000080; text-decoration-color: #000080\">NiftiLabelsMasker.wrapped</span><span style=\"color: #000080; text-decoration-color: #000080; font-weight: bold\">]</span> Loading data from <span style=\"color: #800080; text-decoration-color: #800080\">/content/drive/MyDrive/raw_data/</span><span style=\"color: #ff00ff; text-decoration-color: #ff00ff\">Denoised_p02_rs-3_MNI.nii.gz</span>\n",
              "</pre>\n"
            ]
          },
          "metadata": {}
        },
        {
          "output_type": "display_data",
          "data": {
            "text/plain": [
              "\u001b[1;34m[\u001b[0m\u001b[34mNiftiLabelsMasker.wrapped\u001b[0m\u001b[1;34m]\u001b[0m Extracting region signals\n"
            ],
            "text/html": [
              "<pre style=\"white-space:pre;overflow-x:auto;line-height:normal;font-family:Menlo,'DejaVu Sans Mono',consolas,'Courier New',monospace\"><span style=\"color: #000080; text-decoration-color: #000080; font-weight: bold\">[</span><span style=\"color: #000080; text-decoration-color: #000080\">NiftiLabelsMasker.wrapped</span><span style=\"color: #000080; text-decoration-color: #000080; font-weight: bold\">]</span> Extracting region signals\n",
              "</pre>\n"
            ]
          },
          "metadata": {}
        },
        {
          "output_type": "display_data",
          "data": {
            "text/plain": [
              "\u001b[1;34m[\u001b[0m\u001b[34mNiftiLabelsMasker.wrapped\u001b[0m\u001b[1;34m]\u001b[0m Cleaning extracted signals\n"
            ],
            "text/html": [
              "<pre style=\"white-space:pre;overflow-x:auto;line-height:normal;font-family:Menlo,'DejaVu Sans Mono',consolas,'Courier New',monospace\"><span style=\"color: #000080; text-decoration-color: #000080; font-weight: bold\">[</span><span style=\"color: #000080; text-decoration-color: #000080\">NiftiLabelsMasker.wrapped</span><span style=\"color: #000080; text-decoration-color: #000080; font-weight: bold\">]</span> Cleaning extracted signals\n",
              "</pre>\n"
            ]
          },
          "metadata": {}
        },
        {
          "output_type": "stream",
          "name": "stdout",
          "text": [
            "______________________________________________filter_and_extract - 29.7s, 0.5min\n"
          ]
        },
        {
          "output_type": "display_data",
          "data": {
            "text/plain": [
              "\u001b[1;34m[\u001b[0m\u001b[34mNiftiLabelsMasker.wrapped\u001b[0m\u001b[1;34m]\u001b[0m loading data from \n",
              "\u001b[35m/root/nilearn_data/schaefer_2018/\u001b[0m\u001b[95mSchaefer2018_200Parcels_7Networks_order_FSLMNI152_2mm.nii.gz\u001b[0m\n"
            ],
            "text/html": [
              "<pre style=\"white-space:pre;overflow-x:auto;line-height:normal;font-family:Menlo,'DejaVu Sans Mono',consolas,'Courier New',monospace\"><span style=\"color: #000080; text-decoration-color: #000080; font-weight: bold\">[</span><span style=\"color: #000080; text-decoration-color: #000080\">NiftiLabelsMasker.wrapped</span><span style=\"color: #000080; text-decoration-color: #000080; font-weight: bold\">]</span> loading data from \n",
              "<span style=\"color: #800080; text-decoration-color: #800080\">/root/nilearn_data/schaefer_2018/</span><span style=\"color: #ff00ff; text-decoration-color: #ff00ff\">Schaefer2018_200Parcels_7Networks_order_FSLMNI152_2mm.nii.gz</span>\n",
              "</pre>\n"
            ]
          },
          "metadata": {}
        },
        {
          "output_type": "stream",
          "name": "stdout",
          "text": [
            "________________________________________________________________________________\n",
            "[Memory] Calling nilearn.maskers.base_masker.filter_and_extract...\n",
            "filter_and_extract('/content/drive/MyDrive/raw_data/Denoised_p03_rs-1_MNI.nii.gz', <nilearn.maskers.nifti_labels_masker._ExtractionFunctor object at 0x7c5d9ac772d0>, \n",
            "{ 'background_label': 0,\n",
            "  'clean_args': None,\n",
            "  'clean_kwargs': {},\n",
            "  'cmap': 'CMRmap_r',\n",
            "  'detrend': False,\n",
            "  'dtype': None,\n",
            "  'high_pass': None,\n",
            "  'high_variance_confounds': False,\n",
            "  'keep_masked_labels': True,\n",
            "  'labels': None,\n",
            "  'labels_img': '/root/nilearn_data/schaefer_2018/Schaefer2018_200Parcels_7Networks_order_FSLMNI152_2mm.nii.gz',\n",
            "  'low_pass': None,\n",
            "  'lut': None,\n",
            "  'mask_img': None,\n",
            "  'reports': True,\n",
            "  'smoothing_fwhm': None,\n",
            "  'standardize': False,\n",
            "  'standardize_confounds': True,\n",
            "  'strategy': 'mean',\n",
            "  't_r': None,\n",
            "  'target_affine': None,\n",
            "  'target_shape': None}, confounds=None, sample_mask=None, dtype=None, memory=Memory(location=nilearn_cache/joblib), memory_level=1, verbose=1)\n"
          ]
        },
        {
          "output_type": "display_data",
          "data": {
            "text/plain": [
              "\u001b[1;34m[\u001b[0m\u001b[34mNiftiLabelsMasker.wrapped\u001b[0m\u001b[1;34m]\u001b[0m Loading data from \u001b[35m/content/drive/MyDrive/raw_data/\u001b[0m\u001b[95mDenoised_p03_rs-1_MNI.nii.gz\u001b[0m\n"
            ],
            "text/html": [
              "<pre style=\"white-space:pre;overflow-x:auto;line-height:normal;font-family:Menlo,'DejaVu Sans Mono',consolas,'Courier New',monospace\"><span style=\"color: #000080; text-decoration-color: #000080; font-weight: bold\">[</span><span style=\"color: #000080; text-decoration-color: #000080\">NiftiLabelsMasker.wrapped</span><span style=\"color: #000080; text-decoration-color: #000080; font-weight: bold\">]</span> Loading data from <span style=\"color: #800080; text-decoration-color: #800080\">/content/drive/MyDrive/raw_data/</span><span style=\"color: #ff00ff; text-decoration-color: #ff00ff\">Denoised_p03_rs-1_MNI.nii.gz</span>\n",
              "</pre>\n"
            ]
          },
          "metadata": {}
        },
        {
          "output_type": "display_data",
          "data": {
            "text/plain": [
              "\u001b[1;34m[\u001b[0m\u001b[34mNiftiLabelsMasker.wrapped\u001b[0m\u001b[1;34m]\u001b[0m Extracting region signals\n"
            ],
            "text/html": [
              "<pre style=\"white-space:pre;overflow-x:auto;line-height:normal;font-family:Menlo,'DejaVu Sans Mono',consolas,'Courier New',monospace\"><span style=\"color: #000080; text-decoration-color: #000080; font-weight: bold\">[</span><span style=\"color: #000080; text-decoration-color: #000080\">NiftiLabelsMasker.wrapped</span><span style=\"color: #000080; text-decoration-color: #000080; font-weight: bold\">]</span> Extracting region signals\n",
              "</pre>\n"
            ]
          },
          "metadata": {}
        },
        {
          "output_type": "display_data",
          "data": {
            "text/plain": [
              "\u001b[1;34m[\u001b[0m\u001b[34mNiftiLabelsMasker.wrapped\u001b[0m\u001b[1;34m]\u001b[0m Cleaning extracted signals\n"
            ],
            "text/html": [
              "<pre style=\"white-space:pre;overflow-x:auto;line-height:normal;font-family:Menlo,'DejaVu Sans Mono',consolas,'Courier New',monospace\"><span style=\"color: #000080; text-decoration-color: #000080; font-weight: bold\">[</span><span style=\"color: #000080; text-decoration-color: #000080\">NiftiLabelsMasker.wrapped</span><span style=\"color: #000080; text-decoration-color: #000080; font-weight: bold\">]</span> Cleaning extracted signals\n",
              "</pre>\n"
            ]
          },
          "metadata": {}
        },
        {
          "output_type": "stream",
          "name": "stdout",
          "text": [
            "______________________________________________filter_and_extract - 28.4s, 0.5min\n"
          ]
        },
        {
          "output_type": "display_data",
          "data": {
            "text/plain": [
              "\u001b[1;34m[\u001b[0m\u001b[34mNiftiLabelsMasker.wrapped\u001b[0m\u001b[1;34m]\u001b[0m loading data from \n",
              "\u001b[35m/root/nilearn_data/schaefer_2018/\u001b[0m\u001b[95mSchaefer2018_200Parcels_7Networks_order_FSLMNI152_2mm.nii.gz\u001b[0m\n"
            ],
            "text/html": [
              "<pre style=\"white-space:pre;overflow-x:auto;line-height:normal;font-family:Menlo,'DejaVu Sans Mono',consolas,'Courier New',monospace\"><span style=\"color: #000080; text-decoration-color: #000080; font-weight: bold\">[</span><span style=\"color: #000080; text-decoration-color: #000080\">NiftiLabelsMasker.wrapped</span><span style=\"color: #000080; text-decoration-color: #000080; font-weight: bold\">]</span> loading data from \n",
              "<span style=\"color: #800080; text-decoration-color: #800080\">/root/nilearn_data/schaefer_2018/</span><span style=\"color: #ff00ff; text-decoration-color: #ff00ff\">Schaefer2018_200Parcels_7Networks_order_FSLMNI152_2mm.nii.gz</span>\n",
              "</pre>\n"
            ]
          },
          "metadata": {}
        },
        {
          "output_type": "stream",
          "name": "stdout",
          "text": [
            "________________________________________________________________________________\n",
            "[Memory] Calling nilearn.maskers.base_masker.filter_and_extract...\n",
            "filter_and_extract('/content/drive/MyDrive/raw_data/Denoised_p03_rs-2_MNI.nii.gz', <nilearn.maskers.nifti_labels_masker._ExtractionFunctor object at 0x7c5d9b7ac390>, \n",
            "{ 'background_label': 0,\n",
            "  'clean_args': None,\n",
            "  'clean_kwargs': {},\n",
            "  'cmap': 'CMRmap_r',\n",
            "  'detrend': False,\n",
            "  'dtype': None,\n",
            "  'high_pass': None,\n",
            "  'high_variance_confounds': False,\n",
            "  'keep_masked_labels': True,\n",
            "  'labels': None,\n",
            "  'labels_img': '/root/nilearn_data/schaefer_2018/Schaefer2018_200Parcels_7Networks_order_FSLMNI152_2mm.nii.gz',\n",
            "  'low_pass': None,\n",
            "  'lut': None,\n",
            "  'mask_img': None,\n",
            "  'reports': True,\n",
            "  'smoothing_fwhm': None,\n",
            "  'standardize': False,\n",
            "  'standardize_confounds': True,\n",
            "  'strategy': 'mean',\n",
            "  't_r': None,\n",
            "  'target_affine': None,\n",
            "  'target_shape': None}, confounds=None, sample_mask=None, dtype=None, memory=Memory(location=nilearn_cache/joblib), memory_level=1, verbose=1)\n"
          ]
        },
        {
          "output_type": "display_data",
          "data": {
            "text/plain": [
              "\u001b[1;34m[\u001b[0m\u001b[34mNiftiLabelsMasker.wrapped\u001b[0m\u001b[1;34m]\u001b[0m Loading data from \u001b[35m/content/drive/MyDrive/raw_data/\u001b[0m\u001b[95mDenoised_p03_rs-2_MNI.nii.gz\u001b[0m\n"
            ],
            "text/html": [
              "<pre style=\"white-space:pre;overflow-x:auto;line-height:normal;font-family:Menlo,'DejaVu Sans Mono',consolas,'Courier New',monospace\"><span style=\"color: #000080; text-decoration-color: #000080; font-weight: bold\">[</span><span style=\"color: #000080; text-decoration-color: #000080\">NiftiLabelsMasker.wrapped</span><span style=\"color: #000080; text-decoration-color: #000080; font-weight: bold\">]</span> Loading data from <span style=\"color: #800080; text-decoration-color: #800080\">/content/drive/MyDrive/raw_data/</span><span style=\"color: #ff00ff; text-decoration-color: #ff00ff\">Denoised_p03_rs-2_MNI.nii.gz</span>\n",
              "</pre>\n"
            ]
          },
          "metadata": {}
        },
        {
          "output_type": "display_data",
          "data": {
            "text/plain": [
              "\u001b[1;34m[\u001b[0m\u001b[34mNiftiLabelsMasker.wrapped\u001b[0m\u001b[1;34m]\u001b[0m Extracting region signals\n"
            ],
            "text/html": [
              "<pre style=\"white-space:pre;overflow-x:auto;line-height:normal;font-family:Menlo,'DejaVu Sans Mono',consolas,'Courier New',monospace\"><span style=\"color: #000080; text-decoration-color: #000080; font-weight: bold\">[</span><span style=\"color: #000080; text-decoration-color: #000080\">NiftiLabelsMasker.wrapped</span><span style=\"color: #000080; text-decoration-color: #000080; font-weight: bold\">]</span> Extracting region signals\n",
              "</pre>\n"
            ]
          },
          "metadata": {}
        },
        {
          "output_type": "display_data",
          "data": {
            "text/plain": [
              "\u001b[1;34m[\u001b[0m\u001b[34mNiftiLabelsMasker.wrapped\u001b[0m\u001b[1;34m]\u001b[0m Cleaning extracted signals\n"
            ],
            "text/html": [
              "<pre style=\"white-space:pre;overflow-x:auto;line-height:normal;font-family:Menlo,'DejaVu Sans Mono',consolas,'Courier New',monospace\"><span style=\"color: #000080; text-decoration-color: #000080; font-weight: bold\">[</span><span style=\"color: #000080; text-decoration-color: #000080\">NiftiLabelsMasker.wrapped</span><span style=\"color: #000080; text-decoration-color: #000080; font-weight: bold\">]</span> Cleaning extracted signals\n",
              "</pre>\n"
            ]
          },
          "metadata": {}
        },
        {
          "output_type": "stream",
          "name": "stdout",
          "text": [
            "______________________________________________filter_and_extract - 28.6s, 0.5min\n"
          ]
        },
        {
          "output_type": "display_data",
          "data": {
            "text/plain": [
              "\u001b[1;34m[\u001b[0m\u001b[34mNiftiLabelsMasker.wrapped\u001b[0m\u001b[1;34m]\u001b[0m loading data from \n",
              "\u001b[35m/root/nilearn_data/schaefer_2018/\u001b[0m\u001b[95mSchaefer2018_200Parcels_7Networks_order_FSLMNI152_2mm.nii.gz\u001b[0m\n"
            ],
            "text/html": [
              "<pre style=\"white-space:pre;overflow-x:auto;line-height:normal;font-family:Menlo,'DejaVu Sans Mono',consolas,'Courier New',monospace\"><span style=\"color: #000080; text-decoration-color: #000080; font-weight: bold\">[</span><span style=\"color: #000080; text-decoration-color: #000080\">NiftiLabelsMasker.wrapped</span><span style=\"color: #000080; text-decoration-color: #000080; font-weight: bold\">]</span> loading data from \n",
              "<span style=\"color: #800080; text-decoration-color: #800080\">/root/nilearn_data/schaefer_2018/</span><span style=\"color: #ff00ff; text-decoration-color: #ff00ff\">Schaefer2018_200Parcels_7Networks_order_FSLMNI152_2mm.nii.gz</span>\n",
              "</pre>\n"
            ]
          },
          "metadata": {}
        },
        {
          "output_type": "stream",
          "name": "stdout",
          "text": [
            "________________________________________________________________________________\n",
            "[Memory] Calling nilearn.maskers.base_masker.filter_and_extract...\n",
            "filter_and_extract('/content/drive/MyDrive/raw_data/Denoised_p03_rs-3_MNI.nii.gz', <nilearn.maskers.nifti_labels_masker._ExtractionFunctor object at 0x7c5d9abe4490>, \n",
            "{ 'background_label': 0,\n",
            "  'clean_args': None,\n",
            "  'clean_kwargs': {},\n",
            "  'cmap': 'CMRmap_r',\n",
            "  'detrend': False,\n",
            "  'dtype': None,\n",
            "  'high_pass': None,\n",
            "  'high_variance_confounds': False,\n",
            "  'keep_masked_labels': True,\n",
            "  'labels': None,\n",
            "  'labels_img': '/root/nilearn_data/schaefer_2018/Schaefer2018_200Parcels_7Networks_order_FSLMNI152_2mm.nii.gz',\n",
            "  'low_pass': None,\n",
            "  'lut': None,\n",
            "  'mask_img': None,\n",
            "  'reports': True,\n",
            "  'smoothing_fwhm': None,\n",
            "  'standardize': False,\n",
            "  'standardize_confounds': True,\n",
            "  'strategy': 'mean',\n",
            "  't_r': None,\n",
            "  'target_affine': None,\n",
            "  'target_shape': None}, confounds=None, sample_mask=None, dtype=None, memory=Memory(location=nilearn_cache/joblib), memory_level=1, verbose=1)\n"
          ]
        },
        {
          "output_type": "display_data",
          "data": {
            "text/plain": [
              "\u001b[1;34m[\u001b[0m\u001b[34mNiftiLabelsMasker.wrapped\u001b[0m\u001b[1;34m]\u001b[0m Loading data from \u001b[35m/content/drive/MyDrive/raw_data/\u001b[0m\u001b[95mDenoised_p03_rs-3_MNI.nii.gz\u001b[0m\n"
            ],
            "text/html": [
              "<pre style=\"white-space:pre;overflow-x:auto;line-height:normal;font-family:Menlo,'DejaVu Sans Mono',consolas,'Courier New',monospace\"><span style=\"color: #000080; text-decoration-color: #000080; font-weight: bold\">[</span><span style=\"color: #000080; text-decoration-color: #000080\">NiftiLabelsMasker.wrapped</span><span style=\"color: #000080; text-decoration-color: #000080; font-weight: bold\">]</span> Loading data from <span style=\"color: #800080; text-decoration-color: #800080\">/content/drive/MyDrive/raw_data/</span><span style=\"color: #ff00ff; text-decoration-color: #ff00ff\">Denoised_p03_rs-3_MNI.nii.gz</span>\n",
              "</pre>\n"
            ]
          },
          "metadata": {}
        },
        {
          "output_type": "display_data",
          "data": {
            "text/plain": [
              "\u001b[1;34m[\u001b[0m\u001b[34mNiftiLabelsMasker.wrapped\u001b[0m\u001b[1;34m]\u001b[0m Extracting region signals\n"
            ],
            "text/html": [
              "<pre style=\"white-space:pre;overflow-x:auto;line-height:normal;font-family:Menlo,'DejaVu Sans Mono',consolas,'Courier New',monospace\"><span style=\"color: #000080; text-decoration-color: #000080; font-weight: bold\">[</span><span style=\"color: #000080; text-decoration-color: #000080\">NiftiLabelsMasker.wrapped</span><span style=\"color: #000080; text-decoration-color: #000080; font-weight: bold\">]</span> Extracting region signals\n",
              "</pre>\n"
            ]
          },
          "metadata": {}
        },
        {
          "output_type": "display_data",
          "data": {
            "text/plain": [
              "\u001b[1;34m[\u001b[0m\u001b[34mNiftiLabelsMasker.wrapped\u001b[0m\u001b[1;34m]\u001b[0m Cleaning extracted signals\n"
            ],
            "text/html": [
              "<pre style=\"white-space:pre;overflow-x:auto;line-height:normal;font-family:Menlo,'DejaVu Sans Mono',consolas,'Courier New',monospace\"><span style=\"color: #000080; text-decoration-color: #000080; font-weight: bold\">[</span><span style=\"color: #000080; text-decoration-color: #000080\">NiftiLabelsMasker.wrapped</span><span style=\"color: #000080; text-decoration-color: #000080; font-weight: bold\">]</span> Cleaning extracted signals\n",
              "</pre>\n"
            ]
          },
          "metadata": {}
        },
        {
          "output_type": "stream",
          "name": "stdout",
          "text": [
            "______________________________________________filter_and_extract - 28.0s, 0.5min\n"
          ]
        },
        {
          "output_type": "display_data",
          "data": {
            "text/plain": [
              "\u001b[1;34m[\u001b[0m\u001b[34mNiftiLabelsMasker.wrapped\u001b[0m\u001b[1;34m]\u001b[0m loading data from \n",
              "\u001b[35m/root/nilearn_data/schaefer_2018/\u001b[0m\u001b[95mSchaefer2018_200Parcels_7Networks_order_FSLMNI152_2mm.nii.gz\u001b[0m\n"
            ],
            "text/html": [
              "<pre style=\"white-space:pre;overflow-x:auto;line-height:normal;font-family:Menlo,'DejaVu Sans Mono',consolas,'Courier New',monospace\"><span style=\"color: #000080; text-decoration-color: #000080; font-weight: bold\">[</span><span style=\"color: #000080; text-decoration-color: #000080\">NiftiLabelsMasker.wrapped</span><span style=\"color: #000080; text-decoration-color: #000080; font-weight: bold\">]</span> loading data from \n",
              "<span style=\"color: #800080; text-decoration-color: #800080\">/root/nilearn_data/schaefer_2018/</span><span style=\"color: #ff00ff; text-decoration-color: #ff00ff\">Schaefer2018_200Parcels_7Networks_order_FSLMNI152_2mm.nii.gz</span>\n",
              "</pre>\n"
            ]
          },
          "metadata": {}
        },
        {
          "output_type": "stream",
          "name": "stdout",
          "text": [
            "________________________________________________________________________________\n",
            "[Memory] Calling nilearn.maskers.base_masker.filter_and_extract...\n",
            "filter_and_extract('/content/drive/MyDrive/raw_data/Denoised_p04_rs-1_MNI.nii.gz', <nilearn.maskers.nifti_labels_masker._ExtractionFunctor object at 0x7c5d9ad87210>, \n",
            "{ 'background_label': 0,\n",
            "  'clean_args': None,\n",
            "  'clean_kwargs': {},\n",
            "  'cmap': 'CMRmap_r',\n",
            "  'detrend': False,\n",
            "  'dtype': None,\n",
            "  'high_pass': None,\n",
            "  'high_variance_confounds': False,\n",
            "  'keep_masked_labels': True,\n",
            "  'labels': None,\n",
            "  'labels_img': '/root/nilearn_data/schaefer_2018/Schaefer2018_200Parcels_7Networks_order_FSLMNI152_2mm.nii.gz',\n",
            "  'low_pass': None,\n",
            "  'lut': None,\n",
            "  'mask_img': None,\n",
            "  'reports': True,\n",
            "  'smoothing_fwhm': None,\n",
            "  'standardize': False,\n",
            "  'standardize_confounds': True,\n",
            "  'strategy': 'mean',\n",
            "  't_r': None,\n",
            "  'target_affine': None,\n",
            "  'target_shape': None}, confounds=None, sample_mask=None, dtype=None, memory=Memory(location=nilearn_cache/joblib), memory_level=1, verbose=1)\n"
          ]
        },
        {
          "output_type": "display_data",
          "data": {
            "text/plain": [
              "\u001b[1;34m[\u001b[0m\u001b[34mNiftiLabelsMasker.wrapped\u001b[0m\u001b[1;34m]\u001b[0m Loading data from \u001b[35m/content/drive/MyDrive/raw_data/\u001b[0m\u001b[95mDenoised_p04_rs-1_MNI.nii.gz\u001b[0m\n"
            ],
            "text/html": [
              "<pre style=\"white-space:pre;overflow-x:auto;line-height:normal;font-family:Menlo,'DejaVu Sans Mono',consolas,'Courier New',monospace\"><span style=\"color: #000080; text-decoration-color: #000080; font-weight: bold\">[</span><span style=\"color: #000080; text-decoration-color: #000080\">NiftiLabelsMasker.wrapped</span><span style=\"color: #000080; text-decoration-color: #000080; font-weight: bold\">]</span> Loading data from <span style=\"color: #800080; text-decoration-color: #800080\">/content/drive/MyDrive/raw_data/</span><span style=\"color: #ff00ff; text-decoration-color: #ff00ff\">Denoised_p04_rs-1_MNI.nii.gz</span>\n",
              "</pre>\n"
            ]
          },
          "metadata": {}
        },
        {
          "output_type": "display_data",
          "data": {
            "text/plain": [
              "\u001b[1;34m[\u001b[0m\u001b[34mNiftiLabelsMasker.wrapped\u001b[0m\u001b[1;34m]\u001b[0m Extracting region signals\n"
            ],
            "text/html": [
              "<pre style=\"white-space:pre;overflow-x:auto;line-height:normal;font-family:Menlo,'DejaVu Sans Mono',consolas,'Courier New',monospace\"><span style=\"color: #000080; text-decoration-color: #000080; font-weight: bold\">[</span><span style=\"color: #000080; text-decoration-color: #000080\">NiftiLabelsMasker.wrapped</span><span style=\"color: #000080; text-decoration-color: #000080; font-weight: bold\">]</span> Extracting region signals\n",
              "</pre>\n"
            ]
          },
          "metadata": {}
        },
        {
          "output_type": "display_data",
          "data": {
            "text/plain": [
              "\u001b[1;34m[\u001b[0m\u001b[34mNiftiLabelsMasker.wrapped\u001b[0m\u001b[1;34m]\u001b[0m Cleaning extracted signals\n"
            ],
            "text/html": [
              "<pre style=\"white-space:pre;overflow-x:auto;line-height:normal;font-family:Menlo,'DejaVu Sans Mono',consolas,'Courier New',monospace\"><span style=\"color: #000080; text-decoration-color: #000080; font-weight: bold\">[</span><span style=\"color: #000080; text-decoration-color: #000080\">NiftiLabelsMasker.wrapped</span><span style=\"color: #000080; text-decoration-color: #000080; font-weight: bold\">]</span> Cleaning extracted signals\n",
              "</pre>\n"
            ]
          },
          "metadata": {}
        },
        {
          "output_type": "stream",
          "name": "stdout",
          "text": [
            "______________________________________________filter_and_extract - 28.4s, 0.5min\n"
          ]
        },
        {
          "output_type": "display_data",
          "data": {
            "text/plain": [
              "\u001b[1;34m[\u001b[0m\u001b[34mNiftiLabelsMasker.wrapped\u001b[0m\u001b[1;34m]\u001b[0m loading data from \n",
              "\u001b[35m/root/nilearn_data/schaefer_2018/\u001b[0m\u001b[95mSchaefer2018_200Parcels_7Networks_order_FSLMNI152_2mm.nii.gz\u001b[0m\n"
            ],
            "text/html": [
              "<pre style=\"white-space:pre;overflow-x:auto;line-height:normal;font-family:Menlo,'DejaVu Sans Mono',consolas,'Courier New',monospace\"><span style=\"color: #000080; text-decoration-color: #000080; font-weight: bold\">[</span><span style=\"color: #000080; text-decoration-color: #000080\">NiftiLabelsMasker.wrapped</span><span style=\"color: #000080; text-decoration-color: #000080; font-weight: bold\">]</span> loading data from \n",
              "<span style=\"color: #800080; text-decoration-color: #800080\">/root/nilearn_data/schaefer_2018/</span><span style=\"color: #ff00ff; text-decoration-color: #ff00ff\">Schaefer2018_200Parcels_7Networks_order_FSLMNI152_2mm.nii.gz</span>\n",
              "</pre>\n"
            ]
          },
          "metadata": {}
        },
        {
          "output_type": "stream",
          "name": "stdout",
          "text": [
            "________________________________________________________________________________\n",
            "[Memory] Calling nilearn.maskers.base_masker.filter_and_extract...\n",
            "filter_and_extract('/content/drive/MyDrive/raw_data/Denoised_p04_rs-2_MNI.nii.gz', <nilearn.maskers.nifti_labels_masker._ExtractionFunctor object at 0x7c5d9b098390>, \n",
            "{ 'background_label': 0,\n",
            "  'clean_args': None,\n",
            "  'clean_kwargs': {},\n",
            "  'cmap': 'CMRmap_r',\n",
            "  'detrend': False,\n",
            "  'dtype': None,\n",
            "  'high_pass': None,\n",
            "  'high_variance_confounds': False,\n",
            "  'keep_masked_labels': True,\n",
            "  'labels': None,\n",
            "  'labels_img': '/root/nilearn_data/schaefer_2018/Schaefer2018_200Parcels_7Networks_order_FSLMNI152_2mm.nii.gz',\n",
            "  'low_pass': None,\n",
            "  'lut': None,\n",
            "  'mask_img': None,\n",
            "  'reports': True,\n",
            "  'smoothing_fwhm': None,\n",
            "  'standardize': False,\n",
            "  'standardize_confounds': True,\n",
            "  'strategy': 'mean',\n",
            "  't_r': None,\n",
            "  'target_affine': None,\n",
            "  'target_shape': None}, confounds=None, sample_mask=None, dtype=None, memory=Memory(location=nilearn_cache/joblib), memory_level=1, verbose=1)\n"
          ]
        },
        {
          "output_type": "display_data",
          "data": {
            "text/plain": [
              "\u001b[1;34m[\u001b[0m\u001b[34mNiftiLabelsMasker.wrapped\u001b[0m\u001b[1;34m]\u001b[0m Loading data from \u001b[35m/content/drive/MyDrive/raw_data/\u001b[0m\u001b[95mDenoised_p04_rs-2_MNI.nii.gz\u001b[0m\n"
            ],
            "text/html": [
              "<pre style=\"white-space:pre;overflow-x:auto;line-height:normal;font-family:Menlo,'DejaVu Sans Mono',consolas,'Courier New',monospace\"><span style=\"color: #000080; text-decoration-color: #000080; font-weight: bold\">[</span><span style=\"color: #000080; text-decoration-color: #000080\">NiftiLabelsMasker.wrapped</span><span style=\"color: #000080; text-decoration-color: #000080; font-weight: bold\">]</span> Loading data from <span style=\"color: #800080; text-decoration-color: #800080\">/content/drive/MyDrive/raw_data/</span><span style=\"color: #ff00ff; text-decoration-color: #ff00ff\">Denoised_p04_rs-2_MNI.nii.gz</span>\n",
              "</pre>\n"
            ]
          },
          "metadata": {}
        },
        {
          "output_type": "display_data",
          "data": {
            "text/plain": [
              "\u001b[1;34m[\u001b[0m\u001b[34mNiftiLabelsMasker.wrapped\u001b[0m\u001b[1;34m]\u001b[0m Extracting region signals\n"
            ],
            "text/html": [
              "<pre style=\"white-space:pre;overflow-x:auto;line-height:normal;font-family:Menlo,'DejaVu Sans Mono',consolas,'Courier New',monospace\"><span style=\"color: #000080; text-decoration-color: #000080; font-weight: bold\">[</span><span style=\"color: #000080; text-decoration-color: #000080\">NiftiLabelsMasker.wrapped</span><span style=\"color: #000080; text-decoration-color: #000080; font-weight: bold\">]</span> Extracting region signals\n",
              "</pre>\n"
            ]
          },
          "metadata": {}
        },
        {
          "output_type": "display_data",
          "data": {
            "text/plain": [
              "\u001b[1;34m[\u001b[0m\u001b[34mNiftiLabelsMasker.wrapped\u001b[0m\u001b[1;34m]\u001b[0m Cleaning extracted signals\n"
            ],
            "text/html": [
              "<pre style=\"white-space:pre;overflow-x:auto;line-height:normal;font-family:Menlo,'DejaVu Sans Mono',consolas,'Courier New',monospace\"><span style=\"color: #000080; text-decoration-color: #000080; font-weight: bold\">[</span><span style=\"color: #000080; text-decoration-color: #000080\">NiftiLabelsMasker.wrapped</span><span style=\"color: #000080; text-decoration-color: #000080; font-weight: bold\">]</span> Cleaning extracted signals\n",
              "</pre>\n"
            ]
          },
          "metadata": {}
        },
        {
          "output_type": "stream",
          "name": "stdout",
          "text": [
            "______________________________________________filter_and_extract - 27.9s, 0.5min\n"
          ]
        },
        {
          "output_type": "display_data",
          "data": {
            "text/plain": [
              "\u001b[1;34m[\u001b[0m\u001b[34mNiftiLabelsMasker.wrapped\u001b[0m\u001b[1;34m]\u001b[0m loading data from \n",
              "\u001b[35m/root/nilearn_data/schaefer_2018/\u001b[0m\u001b[95mSchaefer2018_200Parcels_7Networks_order_FSLMNI152_2mm.nii.gz\u001b[0m\n"
            ],
            "text/html": [
              "<pre style=\"white-space:pre;overflow-x:auto;line-height:normal;font-family:Menlo,'DejaVu Sans Mono',consolas,'Courier New',monospace\"><span style=\"color: #000080; text-decoration-color: #000080; font-weight: bold\">[</span><span style=\"color: #000080; text-decoration-color: #000080\">NiftiLabelsMasker.wrapped</span><span style=\"color: #000080; text-decoration-color: #000080; font-weight: bold\">]</span> loading data from \n",
              "<span style=\"color: #800080; text-decoration-color: #800080\">/root/nilearn_data/schaefer_2018/</span><span style=\"color: #ff00ff; text-decoration-color: #ff00ff\">Schaefer2018_200Parcels_7Networks_order_FSLMNI152_2mm.nii.gz</span>\n",
              "</pre>\n"
            ]
          },
          "metadata": {}
        },
        {
          "output_type": "stream",
          "name": "stdout",
          "text": [
            "________________________________________________________________________________\n",
            "[Memory] Calling nilearn.maskers.base_masker.filter_and_extract...\n",
            "filter_and_extract('/content/drive/MyDrive/raw_data/Denoised_p04_rs-3_MNI.nii.gz', <nilearn.maskers.nifti_labels_masker._ExtractionFunctor object at 0x7c5d9ac97d10>, \n",
            "{ 'background_label': 0,\n",
            "  'clean_args': None,\n",
            "  'clean_kwargs': {},\n",
            "  'cmap': 'CMRmap_r',\n",
            "  'detrend': False,\n",
            "  'dtype': None,\n",
            "  'high_pass': None,\n",
            "  'high_variance_confounds': False,\n",
            "  'keep_masked_labels': True,\n",
            "  'labels': None,\n",
            "  'labels_img': '/root/nilearn_data/schaefer_2018/Schaefer2018_200Parcels_7Networks_order_FSLMNI152_2mm.nii.gz',\n",
            "  'low_pass': None,\n",
            "  'lut': None,\n",
            "  'mask_img': None,\n",
            "  'reports': True,\n",
            "  'smoothing_fwhm': None,\n",
            "  'standardize': False,\n",
            "  'standardize_confounds': True,\n",
            "  'strategy': 'mean',\n",
            "  't_r': None,\n",
            "  'target_affine': None,\n",
            "  'target_shape': None}, confounds=None, sample_mask=None, dtype=None, memory=Memory(location=nilearn_cache/joblib), memory_level=1, verbose=1)\n"
          ]
        },
        {
          "output_type": "display_data",
          "data": {
            "text/plain": [
              "\u001b[1;34m[\u001b[0m\u001b[34mNiftiLabelsMasker.wrapped\u001b[0m\u001b[1;34m]\u001b[0m Loading data from \u001b[35m/content/drive/MyDrive/raw_data/\u001b[0m\u001b[95mDenoised_p04_rs-3_MNI.nii.gz\u001b[0m\n"
            ],
            "text/html": [
              "<pre style=\"white-space:pre;overflow-x:auto;line-height:normal;font-family:Menlo,'DejaVu Sans Mono',consolas,'Courier New',monospace\"><span style=\"color: #000080; text-decoration-color: #000080; font-weight: bold\">[</span><span style=\"color: #000080; text-decoration-color: #000080\">NiftiLabelsMasker.wrapped</span><span style=\"color: #000080; text-decoration-color: #000080; font-weight: bold\">]</span> Loading data from <span style=\"color: #800080; text-decoration-color: #800080\">/content/drive/MyDrive/raw_data/</span><span style=\"color: #ff00ff; text-decoration-color: #ff00ff\">Denoised_p04_rs-3_MNI.nii.gz</span>\n",
              "</pre>\n"
            ]
          },
          "metadata": {}
        },
        {
          "output_type": "display_data",
          "data": {
            "text/plain": [
              "\u001b[1;34m[\u001b[0m\u001b[34mNiftiLabelsMasker.wrapped\u001b[0m\u001b[1;34m]\u001b[0m Extracting region signals\n"
            ],
            "text/html": [
              "<pre style=\"white-space:pre;overflow-x:auto;line-height:normal;font-family:Menlo,'DejaVu Sans Mono',consolas,'Courier New',monospace\"><span style=\"color: #000080; text-decoration-color: #000080; font-weight: bold\">[</span><span style=\"color: #000080; text-decoration-color: #000080\">NiftiLabelsMasker.wrapped</span><span style=\"color: #000080; text-decoration-color: #000080; font-weight: bold\">]</span> Extracting region signals\n",
              "</pre>\n"
            ]
          },
          "metadata": {}
        },
        {
          "output_type": "display_data",
          "data": {
            "text/plain": [
              "\u001b[1;34m[\u001b[0m\u001b[34mNiftiLabelsMasker.wrapped\u001b[0m\u001b[1;34m]\u001b[0m Cleaning extracted signals\n"
            ],
            "text/html": [
              "<pre style=\"white-space:pre;overflow-x:auto;line-height:normal;font-family:Menlo,'DejaVu Sans Mono',consolas,'Courier New',monospace\"><span style=\"color: #000080; text-decoration-color: #000080; font-weight: bold\">[</span><span style=\"color: #000080; text-decoration-color: #000080\">NiftiLabelsMasker.wrapped</span><span style=\"color: #000080; text-decoration-color: #000080; font-weight: bold\">]</span> Cleaning extracted signals\n",
              "</pre>\n"
            ]
          },
          "metadata": {}
        },
        {
          "output_type": "stream",
          "name": "stdout",
          "text": [
            "______________________________________________filter_and_extract - 28.7s, 0.5min\n"
          ]
        },
        {
          "output_type": "display_data",
          "data": {
            "text/plain": [
              "\u001b[1;34m[\u001b[0m\u001b[34mNiftiLabelsMasker.wrapped\u001b[0m\u001b[1;34m]\u001b[0m loading data from \n",
              "\u001b[35m/root/nilearn_data/schaefer_2018/\u001b[0m\u001b[95mSchaefer2018_200Parcels_7Networks_order_FSLMNI152_2mm.nii.gz\u001b[0m\n"
            ],
            "text/html": [
              "<pre style=\"white-space:pre;overflow-x:auto;line-height:normal;font-family:Menlo,'DejaVu Sans Mono',consolas,'Courier New',monospace\"><span style=\"color: #000080; text-decoration-color: #000080; font-weight: bold\">[</span><span style=\"color: #000080; text-decoration-color: #000080\">NiftiLabelsMasker.wrapped</span><span style=\"color: #000080; text-decoration-color: #000080; font-weight: bold\">]</span> loading data from \n",
              "<span style=\"color: #800080; text-decoration-color: #800080\">/root/nilearn_data/schaefer_2018/</span><span style=\"color: #ff00ff; text-decoration-color: #ff00ff\">Schaefer2018_200Parcels_7Networks_order_FSLMNI152_2mm.nii.gz</span>\n",
              "</pre>\n"
            ]
          },
          "metadata": {}
        },
        {
          "output_type": "stream",
          "name": "stdout",
          "text": [
            "________________________________________________________________________________\n",
            "[Memory] Calling nilearn.maskers.base_masker.filter_and_extract...\n",
            "filter_and_extract('/content/drive/MyDrive/raw_data/Denoised_p05_rs-1_MNI.nii.gz', <nilearn.maskers.nifti_labels_masker._ExtractionFunctor object at 0x7c5d9b03cd10>, \n",
            "{ 'background_label': 0,\n",
            "  'clean_args': None,\n",
            "  'clean_kwargs': {},\n",
            "  'cmap': 'CMRmap_r',\n",
            "  'detrend': False,\n",
            "  'dtype': None,\n",
            "  'high_pass': None,\n",
            "  'high_variance_confounds': False,\n",
            "  'keep_masked_labels': True,\n",
            "  'labels': None,\n",
            "  'labels_img': '/root/nilearn_data/schaefer_2018/Schaefer2018_200Parcels_7Networks_order_FSLMNI152_2mm.nii.gz',\n",
            "  'low_pass': None,\n",
            "  'lut': None,\n",
            "  'mask_img': None,\n",
            "  'reports': True,\n",
            "  'smoothing_fwhm': None,\n",
            "  'standardize': False,\n",
            "  'standardize_confounds': True,\n",
            "  'strategy': 'mean',\n",
            "  't_r': None,\n",
            "  'target_affine': None,\n",
            "  'target_shape': None}, confounds=None, sample_mask=None, dtype=None, memory=Memory(location=nilearn_cache/joblib), memory_level=1, verbose=1)\n"
          ]
        },
        {
          "output_type": "display_data",
          "data": {
            "text/plain": [
              "\u001b[1;34m[\u001b[0m\u001b[34mNiftiLabelsMasker.wrapped\u001b[0m\u001b[1;34m]\u001b[0m Loading data from \u001b[35m/content/drive/MyDrive/raw_data/\u001b[0m\u001b[95mDenoised_p05_rs-1_MNI.nii.gz\u001b[0m\n"
            ],
            "text/html": [
              "<pre style=\"white-space:pre;overflow-x:auto;line-height:normal;font-family:Menlo,'DejaVu Sans Mono',consolas,'Courier New',monospace\"><span style=\"color: #000080; text-decoration-color: #000080; font-weight: bold\">[</span><span style=\"color: #000080; text-decoration-color: #000080\">NiftiLabelsMasker.wrapped</span><span style=\"color: #000080; text-decoration-color: #000080; font-weight: bold\">]</span> Loading data from <span style=\"color: #800080; text-decoration-color: #800080\">/content/drive/MyDrive/raw_data/</span><span style=\"color: #ff00ff; text-decoration-color: #ff00ff\">Denoised_p05_rs-1_MNI.nii.gz</span>\n",
              "</pre>\n"
            ]
          },
          "metadata": {}
        },
        {
          "output_type": "display_data",
          "data": {
            "text/plain": [
              "\u001b[1;34m[\u001b[0m\u001b[34mNiftiLabelsMasker.wrapped\u001b[0m\u001b[1;34m]\u001b[0m Extracting region signals\n"
            ],
            "text/html": [
              "<pre style=\"white-space:pre;overflow-x:auto;line-height:normal;font-family:Menlo,'DejaVu Sans Mono',consolas,'Courier New',monospace\"><span style=\"color: #000080; text-decoration-color: #000080; font-weight: bold\">[</span><span style=\"color: #000080; text-decoration-color: #000080\">NiftiLabelsMasker.wrapped</span><span style=\"color: #000080; text-decoration-color: #000080; font-weight: bold\">]</span> Extracting region signals\n",
              "</pre>\n"
            ]
          },
          "metadata": {}
        },
        {
          "output_type": "display_data",
          "data": {
            "text/plain": [
              "\u001b[1;34m[\u001b[0m\u001b[34mNiftiLabelsMasker.wrapped\u001b[0m\u001b[1;34m]\u001b[0m Cleaning extracted signals\n"
            ],
            "text/html": [
              "<pre style=\"white-space:pre;overflow-x:auto;line-height:normal;font-family:Menlo,'DejaVu Sans Mono',consolas,'Courier New',monospace\"><span style=\"color: #000080; text-decoration-color: #000080; font-weight: bold\">[</span><span style=\"color: #000080; text-decoration-color: #000080\">NiftiLabelsMasker.wrapped</span><span style=\"color: #000080; text-decoration-color: #000080; font-weight: bold\">]</span> Cleaning extracted signals\n",
              "</pre>\n"
            ]
          },
          "metadata": {}
        },
        {
          "output_type": "stream",
          "name": "stdout",
          "text": [
            "______________________________________________filter_and_extract - 28.5s, 0.5min\n"
          ]
        },
        {
          "output_type": "display_data",
          "data": {
            "text/plain": [
              "\u001b[1;34m[\u001b[0m\u001b[34mNiftiLabelsMasker.wrapped\u001b[0m\u001b[1;34m]\u001b[0m loading data from \n",
              "\u001b[35m/root/nilearn_data/schaefer_2018/\u001b[0m\u001b[95mSchaefer2018_200Parcels_7Networks_order_FSLMNI152_2mm.nii.gz\u001b[0m\n"
            ],
            "text/html": [
              "<pre style=\"white-space:pre;overflow-x:auto;line-height:normal;font-family:Menlo,'DejaVu Sans Mono',consolas,'Courier New',monospace\"><span style=\"color: #000080; text-decoration-color: #000080; font-weight: bold\">[</span><span style=\"color: #000080; text-decoration-color: #000080\">NiftiLabelsMasker.wrapped</span><span style=\"color: #000080; text-decoration-color: #000080; font-weight: bold\">]</span> loading data from \n",
              "<span style=\"color: #800080; text-decoration-color: #800080\">/root/nilearn_data/schaefer_2018/</span><span style=\"color: #ff00ff; text-decoration-color: #ff00ff\">Schaefer2018_200Parcels_7Networks_order_FSLMNI152_2mm.nii.gz</span>\n",
              "</pre>\n"
            ]
          },
          "metadata": {}
        },
        {
          "output_type": "stream",
          "name": "stdout",
          "text": [
            "________________________________________________________________________________\n",
            "[Memory] Calling nilearn.maskers.base_masker.filter_and_extract...\n",
            "filter_and_extract('/content/drive/MyDrive/raw_data/Denoised_p05_rs-2_MNI.nii.gz', <nilearn.maskers.nifti_labels_masker._ExtractionFunctor object at 0x7c5d9abd6890>, \n",
            "{ 'background_label': 0,\n",
            "  'clean_args': None,\n",
            "  'clean_kwargs': {},\n",
            "  'cmap': 'CMRmap_r',\n",
            "  'detrend': False,\n",
            "  'dtype': None,\n",
            "  'high_pass': None,\n",
            "  'high_variance_confounds': False,\n",
            "  'keep_masked_labels': True,\n",
            "  'labels': None,\n",
            "  'labels_img': '/root/nilearn_data/schaefer_2018/Schaefer2018_200Parcels_7Networks_order_FSLMNI152_2mm.nii.gz',\n",
            "  'low_pass': None,\n",
            "  'lut': None,\n",
            "  'mask_img': None,\n",
            "  'reports': True,\n",
            "  'smoothing_fwhm': None,\n",
            "  'standardize': False,\n",
            "  'standardize_confounds': True,\n",
            "  'strategy': 'mean',\n",
            "  't_r': None,\n",
            "  'target_affine': None,\n",
            "  'target_shape': None}, confounds=None, sample_mask=None, dtype=None, memory=Memory(location=nilearn_cache/joblib), memory_level=1, verbose=1)\n"
          ]
        },
        {
          "output_type": "display_data",
          "data": {
            "text/plain": [
              "\u001b[1;34m[\u001b[0m\u001b[34mNiftiLabelsMasker.wrapped\u001b[0m\u001b[1;34m]\u001b[0m Loading data from \u001b[35m/content/drive/MyDrive/raw_data/\u001b[0m\u001b[95mDenoised_p05_rs-2_MNI.nii.gz\u001b[0m\n"
            ],
            "text/html": [
              "<pre style=\"white-space:pre;overflow-x:auto;line-height:normal;font-family:Menlo,'DejaVu Sans Mono',consolas,'Courier New',monospace\"><span style=\"color: #000080; text-decoration-color: #000080; font-weight: bold\">[</span><span style=\"color: #000080; text-decoration-color: #000080\">NiftiLabelsMasker.wrapped</span><span style=\"color: #000080; text-decoration-color: #000080; font-weight: bold\">]</span> Loading data from <span style=\"color: #800080; text-decoration-color: #800080\">/content/drive/MyDrive/raw_data/</span><span style=\"color: #ff00ff; text-decoration-color: #ff00ff\">Denoised_p05_rs-2_MNI.nii.gz</span>\n",
              "</pre>\n"
            ]
          },
          "metadata": {}
        },
        {
          "output_type": "display_data",
          "data": {
            "text/plain": [
              "\u001b[1;34m[\u001b[0m\u001b[34mNiftiLabelsMasker.wrapped\u001b[0m\u001b[1;34m]\u001b[0m Extracting region signals\n"
            ],
            "text/html": [
              "<pre style=\"white-space:pre;overflow-x:auto;line-height:normal;font-family:Menlo,'DejaVu Sans Mono',consolas,'Courier New',monospace\"><span style=\"color: #000080; text-decoration-color: #000080; font-weight: bold\">[</span><span style=\"color: #000080; text-decoration-color: #000080\">NiftiLabelsMasker.wrapped</span><span style=\"color: #000080; text-decoration-color: #000080; font-weight: bold\">]</span> Extracting region signals\n",
              "</pre>\n"
            ]
          },
          "metadata": {}
        },
        {
          "output_type": "display_data",
          "data": {
            "text/plain": [
              "\u001b[1;34m[\u001b[0m\u001b[34mNiftiLabelsMasker.wrapped\u001b[0m\u001b[1;34m]\u001b[0m Cleaning extracted signals\n"
            ],
            "text/html": [
              "<pre style=\"white-space:pre;overflow-x:auto;line-height:normal;font-family:Menlo,'DejaVu Sans Mono',consolas,'Courier New',monospace\"><span style=\"color: #000080; text-decoration-color: #000080; font-weight: bold\">[</span><span style=\"color: #000080; text-decoration-color: #000080\">NiftiLabelsMasker.wrapped</span><span style=\"color: #000080; text-decoration-color: #000080; font-weight: bold\">]</span> Cleaning extracted signals\n",
              "</pre>\n"
            ]
          },
          "metadata": {}
        },
        {
          "output_type": "stream",
          "name": "stdout",
          "text": [
            "______________________________________________filter_and_extract - 29.0s, 0.5min\n"
          ]
        },
        {
          "output_type": "display_data",
          "data": {
            "text/plain": [
              "\u001b[1;34m[\u001b[0m\u001b[34mNiftiLabelsMasker.wrapped\u001b[0m\u001b[1;34m]\u001b[0m loading data from \n",
              "\u001b[35m/root/nilearn_data/schaefer_2018/\u001b[0m\u001b[95mSchaefer2018_200Parcels_7Networks_order_FSLMNI152_2mm.nii.gz\u001b[0m\n"
            ],
            "text/html": [
              "<pre style=\"white-space:pre;overflow-x:auto;line-height:normal;font-family:Menlo,'DejaVu Sans Mono',consolas,'Courier New',monospace\"><span style=\"color: #000080; text-decoration-color: #000080; font-weight: bold\">[</span><span style=\"color: #000080; text-decoration-color: #000080\">NiftiLabelsMasker.wrapped</span><span style=\"color: #000080; text-decoration-color: #000080; font-weight: bold\">]</span> loading data from \n",
              "<span style=\"color: #800080; text-decoration-color: #800080\">/root/nilearn_data/schaefer_2018/</span><span style=\"color: #ff00ff; text-decoration-color: #ff00ff\">Schaefer2018_200Parcels_7Networks_order_FSLMNI152_2mm.nii.gz</span>\n",
              "</pre>\n"
            ]
          },
          "metadata": {}
        },
        {
          "output_type": "stream",
          "name": "stdout",
          "text": [
            "________________________________________________________________________________\n",
            "[Memory] Calling nilearn.maskers.base_masker.filter_and_extract...\n",
            "filter_and_extract('/content/drive/MyDrive/raw_data/Denoised_p05_rs-3_MNI.nii.gz', <nilearn.maskers.nifti_labels_masker._ExtractionFunctor object at 0x7c5d9b053bd0>, \n",
            "{ 'background_label': 0,\n",
            "  'clean_args': None,\n",
            "  'clean_kwargs': {},\n",
            "  'cmap': 'CMRmap_r',\n",
            "  'detrend': False,\n",
            "  'dtype': None,\n",
            "  'high_pass': None,\n",
            "  'high_variance_confounds': False,\n",
            "  'keep_masked_labels': True,\n",
            "  'labels': None,\n",
            "  'labels_img': '/root/nilearn_data/schaefer_2018/Schaefer2018_200Parcels_7Networks_order_FSLMNI152_2mm.nii.gz',\n",
            "  'low_pass': None,\n",
            "  'lut': None,\n",
            "  'mask_img': None,\n",
            "  'reports': True,\n",
            "  'smoothing_fwhm': None,\n",
            "  'standardize': False,\n",
            "  'standardize_confounds': True,\n",
            "  'strategy': 'mean',\n",
            "  't_r': None,\n",
            "  'target_affine': None,\n",
            "  'target_shape': None}, confounds=None, sample_mask=None, dtype=None, memory=Memory(location=nilearn_cache/joblib), memory_level=1, verbose=1)\n"
          ]
        },
        {
          "output_type": "display_data",
          "data": {
            "text/plain": [
              "\u001b[1;34m[\u001b[0m\u001b[34mNiftiLabelsMasker.wrapped\u001b[0m\u001b[1;34m]\u001b[0m Loading data from \u001b[35m/content/drive/MyDrive/raw_data/\u001b[0m\u001b[95mDenoised_p05_rs-3_MNI.nii.gz\u001b[0m\n"
            ],
            "text/html": [
              "<pre style=\"white-space:pre;overflow-x:auto;line-height:normal;font-family:Menlo,'DejaVu Sans Mono',consolas,'Courier New',monospace\"><span style=\"color: #000080; text-decoration-color: #000080; font-weight: bold\">[</span><span style=\"color: #000080; text-decoration-color: #000080\">NiftiLabelsMasker.wrapped</span><span style=\"color: #000080; text-decoration-color: #000080; font-weight: bold\">]</span> Loading data from <span style=\"color: #800080; text-decoration-color: #800080\">/content/drive/MyDrive/raw_data/</span><span style=\"color: #ff00ff; text-decoration-color: #ff00ff\">Denoised_p05_rs-3_MNI.nii.gz</span>\n",
              "</pre>\n"
            ]
          },
          "metadata": {}
        },
        {
          "output_type": "display_data",
          "data": {
            "text/plain": [
              "\u001b[1;34m[\u001b[0m\u001b[34mNiftiLabelsMasker.wrapped\u001b[0m\u001b[1;34m]\u001b[0m Extracting region signals\n"
            ],
            "text/html": [
              "<pre style=\"white-space:pre;overflow-x:auto;line-height:normal;font-family:Menlo,'DejaVu Sans Mono',consolas,'Courier New',monospace\"><span style=\"color: #000080; text-decoration-color: #000080; font-weight: bold\">[</span><span style=\"color: #000080; text-decoration-color: #000080\">NiftiLabelsMasker.wrapped</span><span style=\"color: #000080; text-decoration-color: #000080; font-weight: bold\">]</span> Extracting region signals\n",
              "</pre>\n"
            ]
          },
          "metadata": {}
        },
        {
          "output_type": "display_data",
          "data": {
            "text/plain": [
              "\u001b[1;34m[\u001b[0m\u001b[34mNiftiLabelsMasker.wrapped\u001b[0m\u001b[1;34m]\u001b[0m Cleaning extracted signals\n"
            ],
            "text/html": [
              "<pre style=\"white-space:pre;overflow-x:auto;line-height:normal;font-family:Menlo,'DejaVu Sans Mono',consolas,'Courier New',monospace\"><span style=\"color: #000080; text-decoration-color: #000080; font-weight: bold\">[</span><span style=\"color: #000080; text-decoration-color: #000080\">NiftiLabelsMasker.wrapped</span><span style=\"color: #000080; text-decoration-color: #000080; font-weight: bold\">]</span> Cleaning extracted signals\n",
              "</pre>\n"
            ]
          },
          "metadata": {}
        },
        {
          "output_type": "stream",
          "name": "stdout",
          "text": [
            "______________________________________________filter_and_extract - 29.0s, 0.5min\n"
          ]
        },
        {
          "output_type": "display_data",
          "data": {
            "text/plain": [
              "\u001b[1;34m[\u001b[0m\u001b[34mNiftiLabelsMasker.wrapped\u001b[0m\u001b[1;34m]\u001b[0m loading data from \n",
              "\u001b[35m/root/nilearn_data/schaefer_2018/\u001b[0m\u001b[95mSchaefer2018_200Parcels_7Networks_order_FSLMNI152_2mm.nii.gz\u001b[0m\n"
            ],
            "text/html": [
              "<pre style=\"white-space:pre;overflow-x:auto;line-height:normal;font-family:Menlo,'DejaVu Sans Mono',consolas,'Courier New',monospace\"><span style=\"color: #000080; text-decoration-color: #000080; font-weight: bold\">[</span><span style=\"color: #000080; text-decoration-color: #000080\">NiftiLabelsMasker.wrapped</span><span style=\"color: #000080; text-decoration-color: #000080; font-weight: bold\">]</span> loading data from \n",
              "<span style=\"color: #800080; text-decoration-color: #800080\">/root/nilearn_data/schaefer_2018/</span><span style=\"color: #ff00ff; text-decoration-color: #ff00ff\">Schaefer2018_200Parcels_7Networks_order_FSLMNI152_2mm.nii.gz</span>\n",
              "</pre>\n"
            ]
          },
          "metadata": {}
        },
        {
          "output_type": "stream",
          "name": "stdout",
          "text": [
            "________________________________________________________________________________\n",
            "[Memory] Calling nilearn.maskers.base_masker.filter_and_extract...\n",
            "filter_and_extract('/content/drive/MyDrive/raw_data/Denoised_p06_rs-1_MNI.nii.gz', <nilearn.maskers.nifti_labels_masker._ExtractionFunctor object at 0x7c5d9ac8d050>, \n",
            "{ 'background_label': 0,\n",
            "  'clean_args': None,\n",
            "  'clean_kwargs': {},\n",
            "  'cmap': 'CMRmap_r',\n",
            "  'detrend': False,\n",
            "  'dtype': None,\n",
            "  'high_pass': None,\n",
            "  'high_variance_confounds': False,\n",
            "  'keep_masked_labels': True,\n",
            "  'labels': None,\n",
            "  'labels_img': '/root/nilearn_data/schaefer_2018/Schaefer2018_200Parcels_7Networks_order_FSLMNI152_2mm.nii.gz',\n",
            "  'low_pass': None,\n",
            "  'lut': None,\n",
            "  'mask_img': None,\n",
            "  'reports': True,\n",
            "  'smoothing_fwhm': None,\n",
            "  'standardize': False,\n",
            "  'standardize_confounds': True,\n",
            "  'strategy': 'mean',\n",
            "  't_r': None,\n",
            "  'target_affine': None,\n",
            "  'target_shape': None}, confounds=None, sample_mask=None, dtype=None, memory=Memory(location=nilearn_cache/joblib), memory_level=1, verbose=1)\n"
          ]
        },
        {
          "output_type": "display_data",
          "data": {
            "text/plain": [
              "\u001b[1;34m[\u001b[0m\u001b[34mNiftiLabelsMasker.wrapped\u001b[0m\u001b[1;34m]\u001b[0m Loading data from \u001b[35m/content/drive/MyDrive/raw_data/\u001b[0m\u001b[95mDenoised_p06_rs-1_MNI.nii.gz\u001b[0m\n"
            ],
            "text/html": [
              "<pre style=\"white-space:pre;overflow-x:auto;line-height:normal;font-family:Menlo,'DejaVu Sans Mono',consolas,'Courier New',monospace\"><span style=\"color: #000080; text-decoration-color: #000080; font-weight: bold\">[</span><span style=\"color: #000080; text-decoration-color: #000080\">NiftiLabelsMasker.wrapped</span><span style=\"color: #000080; text-decoration-color: #000080; font-weight: bold\">]</span> Loading data from <span style=\"color: #800080; text-decoration-color: #800080\">/content/drive/MyDrive/raw_data/</span><span style=\"color: #ff00ff; text-decoration-color: #ff00ff\">Denoised_p06_rs-1_MNI.nii.gz</span>\n",
              "</pre>\n"
            ]
          },
          "metadata": {}
        },
        {
          "output_type": "display_data",
          "data": {
            "text/plain": [
              "\u001b[1;34m[\u001b[0m\u001b[34mNiftiLabelsMasker.wrapped\u001b[0m\u001b[1;34m]\u001b[0m Extracting region signals\n"
            ],
            "text/html": [
              "<pre style=\"white-space:pre;overflow-x:auto;line-height:normal;font-family:Menlo,'DejaVu Sans Mono',consolas,'Courier New',monospace\"><span style=\"color: #000080; text-decoration-color: #000080; font-weight: bold\">[</span><span style=\"color: #000080; text-decoration-color: #000080\">NiftiLabelsMasker.wrapped</span><span style=\"color: #000080; text-decoration-color: #000080; font-weight: bold\">]</span> Extracting region signals\n",
              "</pre>\n"
            ]
          },
          "metadata": {}
        },
        {
          "output_type": "display_data",
          "data": {
            "text/plain": [
              "\u001b[1;34m[\u001b[0m\u001b[34mNiftiLabelsMasker.wrapped\u001b[0m\u001b[1;34m]\u001b[0m Cleaning extracted signals\n"
            ],
            "text/html": [
              "<pre style=\"white-space:pre;overflow-x:auto;line-height:normal;font-family:Menlo,'DejaVu Sans Mono',consolas,'Courier New',monospace\"><span style=\"color: #000080; text-decoration-color: #000080; font-weight: bold\">[</span><span style=\"color: #000080; text-decoration-color: #000080\">NiftiLabelsMasker.wrapped</span><span style=\"color: #000080; text-decoration-color: #000080; font-weight: bold\">]</span> Cleaning extracted signals\n",
              "</pre>\n"
            ]
          },
          "metadata": {}
        },
        {
          "output_type": "stream",
          "name": "stdout",
          "text": [
            "______________________________________________filter_and_extract - 28.9s, 0.5min\n"
          ]
        },
        {
          "output_type": "display_data",
          "data": {
            "text/plain": [
              "\u001b[1;34m[\u001b[0m\u001b[34mNiftiLabelsMasker.wrapped\u001b[0m\u001b[1;34m]\u001b[0m loading data from \n",
              "\u001b[35m/root/nilearn_data/schaefer_2018/\u001b[0m\u001b[95mSchaefer2018_200Parcels_7Networks_order_FSLMNI152_2mm.nii.gz\u001b[0m\n"
            ],
            "text/html": [
              "<pre style=\"white-space:pre;overflow-x:auto;line-height:normal;font-family:Menlo,'DejaVu Sans Mono',consolas,'Courier New',monospace\"><span style=\"color: #000080; text-decoration-color: #000080; font-weight: bold\">[</span><span style=\"color: #000080; text-decoration-color: #000080\">NiftiLabelsMasker.wrapped</span><span style=\"color: #000080; text-decoration-color: #000080; font-weight: bold\">]</span> loading data from \n",
              "<span style=\"color: #800080; text-decoration-color: #800080\">/root/nilearn_data/schaefer_2018/</span><span style=\"color: #ff00ff; text-decoration-color: #ff00ff\">Schaefer2018_200Parcels_7Networks_order_FSLMNI152_2mm.nii.gz</span>\n",
              "</pre>\n"
            ]
          },
          "metadata": {}
        },
        {
          "output_type": "stream",
          "name": "stdout",
          "text": [
            "________________________________________________________________________________\n",
            "[Memory] Calling nilearn.maskers.base_masker.filter_and_extract...\n",
            "filter_and_extract('/content/drive/MyDrive/raw_data/Denoised_p06_rs-2_MNI.nii.gz', <nilearn.maskers.nifti_labels_masker._ExtractionFunctor object at 0x7c5d9abd1150>, \n",
            "{ 'background_label': 0,\n",
            "  'clean_args': None,\n",
            "  'clean_kwargs': {},\n",
            "  'cmap': 'CMRmap_r',\n",
            "  'detrend': False,\n",
            "  'dtype': None,\n",
            "  'high_pass': None,\n",
            "  'high_variance_confounds': False,\n",
            "  'keep_masked_labels': True,\n",
            "  'labels': None,\n",
            "  'labels_img': '/root/nilearn_data/schaefer_2018/Schaefer2018_200Parcels_7Networks_order_FSLMNI152_2mm.nii.gz',\n",
            "  'low_pass': None,\n",
            "  'lut': None,\n",
            "  'mask_img': None,\n",
            "  'reports': True,\n",
            "  'smoothing_fwhm': None,\n",
            "  'standardize': False,\n",
            "  'standardize_confounds': True,\n",
            "  'strategy': 'mean',\n",
            "  't_r': None,\n",
            "  'target_affine': None,\n",
            "  'target_shape': None}, confounds=None, sample_mask=None, dtype=None, memory=Memory(location=nilearn_cache/joblib), memory_level=1, verbose=1)\n"
          ]
        },
        {
          "output_type": "display_data",
          "data": {
            "text/plain": [
              "\u001b[1;34m[\u001b[0m\u001b[34mNiftiLabelsMasker.wrapped\u001b[0m\u001b[1;34m]\u001b[0m Loading data from \u001b[35m/content/drive/MyDrive/raw_data/\u001b[0m\u001b[95mDenoised_p06_rs-2_MNI.nii.gz\u001b[0m\n"
            ],
            "text/html": [
              "<pre style=\"white-space:pre;overflow-x:auto;line-height:normal;font-family:Menlo,'DejaVu Sans Mono',consolas,'Courier New',monospace\"><span style=\"color: #000080; text-decoration-color: #000080; font-weight: bold\">[</span><span style=\"color: #000080; text-decoration-color: #000080\">NiftiLabelsMasker.wrapped</span><span style=\"color: #000080; text-decoration-color: #000080; font-weight: bold\">]</span> Loading data from <span style=\"color: #800080; text-decoration-color: #800080\">/content/drive/MyDrive/raw_data/</span><span style=\"color: #ff00ff; text-decoration-color: #ff00ff\">Denoised_p06_rs-2_MNI.nii.gz</span>\n",
              "</pre>\n"
            ]
          },
          "metadata": {}
        },
        {
          "output_type": "display_data",
          "data": {
            "text/plain": [
              "\u001b[1;34m[\u001b[0m\u001b[34mNiftiLabelsMasker.wrapped\u001b[0m\u001b[1;34m]\u001b[0m Extracting region signals\n"
            ],
            "text/html": [
              "<pre style=\"white-space:pre;overflow-x:auto;line-height:normal;font-family:Menlo,'DejaVu Sans Mono',consolas,'Courier New',monospace\"><span style=\"color: #000080; text-decoration-color: #000080; font-weight: bold\">[</span><span style=\"color: #000080; text-decoration-color: #000080\">NiftiLabelsMasker.wrapped</span><span style=\"color: #000080; text-decoration-color: #000080; font-weight: bold\">]</span> Extracting region signals\n",
              "</pre>\n"
            ]
          },
          "metadata": {}
        },
        {
          "output_type": "display_data",
          "data": {
            "text/plain": [
              "\u001b[1;34m[\u001b[0m\u001b[34mNiftiLabelsMasker.wrapped\u001b[0m\u001b[1;34m]\u001b[0m Cleaning extracted signals\n"
            ],
            "text/html": [
              "<pre style=\"white-space:pre;overflow-x:auto;line-height:normal;font-family:Menlo,'DejaVu Sans Mono',consolas,'Courier New',monospace\"><span style=\"color: #000080; text-decoration-color: #000080; font-weight: bold\">[</span><span style=\"color: #000080; text-decoration-color: #000080\">NiftiLabelsMasker.wrapped</span><span style=\"color: #000080; text-decoration-color: #000080; font-weight: bold\">]</span> Cleaning extracted signals\n",
              "</pre>\n"
            ]
          },
          "metadata": {}
        },
        {
          "output_type": "stream",
          "name": "stdout",
          "text": [
            "______________________________________________filter_and_extract - 28.6s, 0.5min\n"
          ]
        },
        {
          "output_type": "display_data",
          "data": {
            "text/plain": [
              "\u001b[1;34m[\u001b[0m\u001b[34mNiftiLabelsMasker.wrapped\u001b[0m\u001b[1;34m]\u001b[0m loading data from \n",
              "\u001b[35m/root/nilearn_data/schaefer_2018/\u001b[0m\u001b[95mSchaefer2018_200Parcels_7Networks_order_FSLMNI152_2mm.nii.gz\u001b[0m\n"
            ],
            "text/html": [
              "<pre style=\"white-space:pre;overflow-x:auto;line-height:normal;font-family:Menlo,'DejaVu Sans Mono',consolas,'Courier New',monospace\"><span style=\"color: #000080; text-decoration-color: #000080; font-weight: bold\">[</span><span style=\"color: #000080; text-decoration-color: #000080\">NiftiLabelsMasker.wrapped</span><span style=\"color: #000080; text-decoration-color: #000080; font-weight: bold\">]</span> loading data from \n",
              "<span style=\"color: #800080; text-decoration-color: #800080\">/root/nilearn_data/schaefer_2018/</span><span style=\"color: #ff00ff; text-decoration-color: #ff00ff\">Schaefer2018_200Parcels_7Networks_order_FSLMNI152_2mm.nii.gz</span>\n",
              "</pre>\n"
            ]
          },
          "metadata": {}
        },
        {
          "output_type": "stream",
          "name": "stdout",
          "text": [
            "________________________________________________________________________________\n",
            "[Memory] Calling nilearn.maskers.base_masker.filter_and_extract...\n",
            "filter_and_extract('/content/drive/MyDrive/raw_data/Denoised_p06_rs-3_MNI.nii.gz', <nilearn.maskers.nifti_labels_masker._ExtractionFunctor object at 0x7c5d9b051150>, \n",
            "{ 'background_label': 0,\n",
            "  'clean_args': None,\n",
            "  'clean_kwargs': {},\n",
            "  'cmap': 'CMRmap_r',\n",
            "  'detrend': False,\n",
            "  'dtype': None,\n",
            "  'high_pass': None,\n",
            "  'high_variance_confounds': False,\n",
            "  'keep_masked_labels': True,\n",
            "  'labels': None,\n",
            "  'labels_img': '/root/nilearn_data/schaefer_2018/Schaefer2018_200Parcels_7Networks_order_FSLMNI152_2mm.nii.gz',\n",
            "  'low_pass': None,\n",
            "  'lut': None,\n",
            "  'mask_img': None,\n",
            "  'reports': True,\n",
            "  'smoothing_fwhm': None,\n",
            "  'standardize': False,\n",
            "  'standardize_confounds': True,\n",
            "  'strategy': 'mean',\n",
            "  't_r': None,\n",
            "  'target_affine': None,\n",
            "  'target_shape': None}, confounds=None, sample_mask=None, dtype=None, memory=Memory(location=nilearn_cache/joblib), memory_level=1, verbose=1)\n"
          ]
        },
        {
          "output_type": "display_data",
          "data": {
            "text/plain": [
              "\u001b[1;34m[\u001b[0m\u001b[34mNiftiLabelsMasker.wrapped\u001b[0m\u001b[1;34m]\u001b[0m Loading data from \u001b[35m/content/drive/MyDrive/raw_data/\u001b[0m\u001b[95mDenoised_p06_rs-3_MNI.nii.gz\u001b[0m\n"
            ],
            "text/html": [
              "<pre style=\"white-space:pre;overflow-x:auto;line-height:normal;font-family:Menlo,'DejaVu Sans Mono',consolas,'Courier New',monospace\"><span style=\"color: #000080; text-decoration-color: #000080; font-weight: bold\">[</span><span style=\"color: #000080; text-decoration-color: #000080\">NiftiLabelsMasker.wrapped</span><span style=\"color: #000080; text-decoration-color: #000080; font-weight: bold\">]</span> Loading data from <span style=\"color: #800080; text-decoration-color: #800080\">/content/drive/MyDrive/raw_data/</span><span style=\"color: #ff00ff; text-decoration-color: #ff00ff\">Denoised_p06_rs-3_MNI.nii.gz</span>\n",
              "</pre>\n"
            ]
          },
          "metadata": {}
        },
        {
          "output_type": "display_data",
          "data": {
            "text/plain": [
              "\u001b[1;34m[\u001b[0m\u001b[34mNiftiLabelsMasker.wrapped\u001b[0m\u001b[1;34m]\u001b[0m Extracting region signals\n"
            ],
            "text/html": [
              "<pre style=\"white-space:pre;overflow-x:auto;line-height:normal;font-family:Menlo,'DejaVu Sans Mono',consolas,'Courier New',monospace\"><span style=\"color: #000080; text-decoration-color: #000080; font-weight: bold\">[</span><span style=\"color: #000080; text-decoration-color: #000080\">NiftiLabelsMasker.wrapped</span><span style=\"color: #000080; text-decoration-color: #000080; font-weight: bold\">]</span> Extracting region signals\n",
              "</pre>\n"
            ]
          },
          "metadata": {}
        },
        {
          "output_type": "display_data",
          "data": {
            "text/plain": [
              "\u001b[1;34m[\u001b[0m\u001b[34mNiftiLabelsMasker.wrapped\u001b[0m\u001b[1;34m]\u001b[0m Cleaning extracted signals\n"
            ],
            "text/html": [
              "<pre style=\"white-space:pre;overflow-x:auto;line-height:normal;font-family:Menlo,'DejaVu Sans Mono',consolas,'Courier New',monospace\"><span style=\"color: #000080; text-decoration-color: #000080; font-weight: bold\">[</span><span style=\"color: #000080; text-decoration-color: #000080\">NiftiLabelsMasker.wrapped</span><span style=\"color: #000080; text-decoration-color: #000080; font-weight: bold\">]</span> Cleaning extracted signals\n",
              "</pre>\n"
            ]
          },
          "metadata": {}
        },
        {
          "output_type": "stream",
          "name": "stdout",
          "text": [
            "______________________________________________filter_and_extract - 29.7s, 0.5min\n"
          ]
        },
        {
          "output_type": "display_data",
          "data": {
            "text/plain": [
              "\u001b[1;34m[\u001b[0m\u001b[34mNiftiLabelsMasker.wrapped\u001b[0m\u001b[1;34m]\u001b[0m loading data from \n",
              "\u001b[35m/root/nilearn_data/schaefer_2018/\u001b[0m\u001b[95mSchaefer2018_200Parcels_7Networks_order_FSLMNI152_2mm.nii.gz\u001b[0m\n"
            ],
            "text/html": [
              "<pre style=\"white-space:pre;overflow-x:auto;line-height:normal;font-family:Menlo,'DejaVu Sans Mono',consolas,'Courier New',monospace\"><span style=\"color: #000080; text-decoration-color: #000080; font-weight: bold\">[</span><span style=\"color: #000080; text-decoration-color: #000080\">NiftiLabelsMasker.wrapped</span><span style=\"color: #000080; text-decoration-color: #000080; font-weight: bold\">]</span> loading data from \n",
              "<span style=\"color: #800080; text-decoration-color: #800080\">/root/nilearn_data/schaefer_2018/</span><span style=\"color: #ff00ff; text-decoration-color: #ff00ff\">Schaefer2018_200Parcels_7Networks_order_FSLMNI152_2mm.nii.gz</span>\n",
              "</pre>\n"
            ]
          },
          "metadata": {}
        },
        {
          "output_type": "stream",
          "name": "stdout",
          "text": [
            "________________________________________________________________________________\n",
            "[Memory] Calling nilearn.maskers.base_masker.filter_and_extract...\n",
            "filter_and_extract('/content/drive/MyDrive/raw_data/Denoised_p07_rs-1_MNI.nii.gz', <nilearn.maskers.nifti_labels_masker._ExtractionFunctor object at 0x7c5d9adc7290>, \n",
            "{ 'background_label': 0,\n",
            "  'clean_args': None,\n",
            "  'clean_kwargs': {},\n",
            "  'cmap': 'CMRmap_r',\n",
            "  'detrend': False,\n",
            "  'dtype': None,\n",
            "  'high_pass': None,\n",
            "  'high_variance_confounds': False,\n",
            "  'keep_masked_labels': True,\n",
            "  'labels': None,\n",
            "  'labels_img': '/root/nilearn_data/schaefer_2018/Schaefer2018_200Parcels_7Networks_order_FSLMNI152_2mm.nii.gz',\n",
            "  'low_pass': None,\n",
            "  'lut': None,\n",
            "  'mask_img': None,\n",
            "  'reports': True,\n",
            "  'smoothing_fwhm': None,\n",
            "  'standardize': False,\n",
            "  'standardize_confounds': True,\n",
            "  'strategy': 'mean',\n",
            "  't_r': None,\n",
            "  'target_affine': None,\n",
            "  'target_shape': None}, confounds=None, sample_mask=None, dtype=None, memory=Memory(location=nilearn_cache/joblib), memory_level=1, verbose=1)\n"
          ]
        },
        {
          "output_type": "display_data",
          "data": {
            "text/plain": [
              "\u001b[1;34m[\u001b[0m\u001b[34mNiftiLabelsMasker.wrapped\u001b[0m\u001b[1;34m]\u001b[0m Loading data from \u001b[35m/content/drive/MyDrive/raw_data/\u001b[0m\u001b[95mDenoised_p07_rs-1_MNI.nii.gz\u001b[0m\n"
            ],
            "text/html": [
              "<pre style=\"white-space:pre;overflow-x:auto;line-height:normal;font-family:Menlo,'DejaVu Sans Mono',consolas,'Courier New',monospace\"><span style=\"color: #000080; text-decoration-color: #000080; font-weight: bold\">[</span><span style=\"color: #000080; text-decoration-color: #000080\">NiftiLabelsMasker.wrapped</span><span style=\"color: #000080; text-decoration-color: #000080; font-weight: bold\">]</span> Loading data from <span style=\"color: #800080; text-decoration-color: #800080\">/content/drive/MyDrive/raw_data/</span><span style=\"color: #ff00ff; text-decoration-color: #ff00ff\">Denoised_p07_rs-1_MNI.nii.gz</span>\n",
              "</pre>\n"
            ]
          },
          "metadata": {}
        },
        {
          "output_type": "display_data",
          "data": {
            "text/plain": [
              "\u001b[1;34m[\u001b[0m\u001b[34mNiftiLabelsMasker.wrapped\u001b[0m\u001b[1;34m]\u001b[0m Extracting region signals\n"
            ],
            "text/html": [
              "<pre style=\"white-space:pre;overflow-x:auto;line-height:normal;font-family:Menlo,'DejaVu Sans Mono',consolas,'Courier New',monospace\"><span style=\"color: #000080; text-decoration-color: #000080; font-weight: bold\">[</span><span style=\"color: #000080; text-decoration-color: #000080\">NiftiLabelsMasker.wrapped</span><span style=\"color: #000080; text-decoration-color: #000080; font-weight: bold\">]</span> Extracting region signals\n",
              "</pre>\n"
            ]
          },
          "metadata": {}
        },
        {
          "output_type": "display_data",
          "data": {
            "text/plain": [
              "\u001b[1;34m[\u001b[0m\u001b[34mNiftiLabelsMasker.wrapped\u001b[0m\u001b[1;34m]\u001b[0m Cleaning extracted signals\n"
            ],
            "text/html": [
              "<pre style=\"white-space:pre;overflow-x:auto;line-height:normal;font-family:Menlo,'DejaVu Sans Mono',consolas,'Courier New',monospace\"><span style=\"color: #000080; text-decoration-color: #000080; font-weight: bold\">[</span><span style=\"color: #000080; text-decoration-color: #000080\">NiftiLabelsMasker.wrapped</span><span style=\"color: #000080; text-decoration-color: #000080; font-weight: bold\">]</span> Cleaning extracted signals\n",
              "</pre>\n"
            ]
          },
          "metadata": {}
        },
        {
          "output_type": "stream",
          "name": "stdout",
          "text": [
            "______________________________________________filter_and_extract - 29.1s, 0.5min\n"
          ]
        },
        {
          "output_type": "display_data",
          "data": {
            "text/plain": [
              "\u001b[1;34m[\u001b[0m\u001b[34mNiftiLabelsMasker.wrapped\u001b[0m\u001b[1;34m]\u001b[0m loading data from \n",
              "\u001b[35m/root/nilearn_data/schaefer_2018/\u001b[0m\u001b[95mSchaefer2018_200Parcels_7Networks_order_FSLMNI152_2mm.nii.gz\u001b[0m\n"
            ],
            "text/html": [
              "<pre style=\"white-space:pre;overflow-x:auto;line-height:normal;font-family:Menlo,'DejaVu Sans Mono',consolas,'Courier New',monospace\"><span style=\"color: #000080; text-decoration-color: #000080; font-weight: bold\">[</span><span style=\"color: #000080; text-decoration-color: #000080\">NiftiLabelsMasker.wrapped</span><span style=\"color: #000080; text-decoration-color: #000080; font-weight: bold\">]</span> loading data from \n",
              "<span style=\"color: #800080; text-decoration-color: #800080\">/root/nilearn_data/schaefer_2018/</span><span style=\"color: #ff00ff; text-decoration-color: #ff00ff\">Schaefer2018_200Parcels_7Networks_order_FSLMNI152_2mm.nii.gz</span>\n",
              "</pre>\n"
            ]
          },
          "metadata": {}
        },
        {
          "output_type": "stream",
          "name": "stdout",
          "text": [
            "________________________________________________________________________________\n",
            "[Memory] Calling nilearn.maskers.base_masker.filter_and_extract...\n",
            "filter_and_extract('/content/drive/MyDrive/raw_data/Denoised_p07_rs-2_MNI.nii.gz', <nilearn.maskers.nifti_labels_masker._ExtractionFunctor object at 0x7c5d9abd3710>, \n",
            "{ 'background_label': 0,\n",
            "  'clean_args': None,\n",
            "  'clean_kwargs': {},\n",
            "  'cmap': 'CMRmap_r',\n",
            "  'detrend': False,\n",
            "  'dtype': None,\n",
            "  'high_pass': None,\n",
            "  'high_variance_confounds': False,\n",
            "  'keep_masked_labels': True,\n",
            "  'labels': None,\n",
            "  'labels_img': '/root/nilearn_data/schaefer_2018/Schaefer2018_200Parcels_7Networks_order_FSLMNI152_2mm.nii.gz',\n",
            "  'low_pass': None,\n",
            "  'lut': None,\n",
            "  'mask_img': None,\n",
            "  'reports': True,\n",
            "  'smoothing_fwhm': None,\n",
            "  'standardize': False,\n",
            "  'standardize_confounds': True,\n",
            "  'strategy': 'mean',\n",
            "  't_r': None,\n",
            "  'target_affine': None,\n",
            "  'target_shape': None}, confounds=None, sample_mask=None, dtype=None, memory=Memory(location=nilearn_cache/joblib), memory_level=1, verbose=1)\n"
          ]
        },
        {
          "output_type": "display_data",
          "data": {
            "text/plain": [
              "\u001b[1;34m[\u001b[0m\u001b[34mNiftiLabelsMasker.wrapped\u001b[0m\u001b[1;34m]\u001b[0m Loading data from \u001b[35m/content/drive/MyDrive/raw_data/\u001b[0m\u001b[95mDenoised_p07_rs-2_MNI.nii.gz\u001b[0m\n"
            ],
            "text/html": [
              "<pre style=\"white-space:pre;overflow-x:auto;line-height:normal;font-family:Menlo,'DejaVu Sans Mono',consolas,'Courier New',monospace\"><span style=\"color: #000080; text-decoration-color: #000080; font-weight: bold\">[</span><span style=\"color: #000080; text-decoration-color: #000080\">NiftiLabelsMasker.wrapped</span><span style=\"color: #000080; text-decoration-color: #000080; font-weight: bold\">]</span> Loading data from <span style=\"color: #800080; text-decoration-color: #800080\">/content/drive/MyDrive/raw_data/</span><span style=\"color: #ff00ff; text-decoration-color: #ff00ff\">Denoised_p07_rs-2_MNI.nii.gz</span>\n",
              "</pre>\n"
            ]
          },
          "metadata": {}
        },
        {
          "output_type": "display_data",
          "data": {
            "text/plain": [
              "\u001b[1;34m[\u001b[0m\u001b[34mNiftiLabelsMasker.wrapped\u001b[0m\u001b[1;34m]\u001b[0m Extracting region signals\n"
            ],
            "text/html": [
              "<pre style=\"white-space:pre;overflow-x:auto;line-height:normal;font-family:Menlo,'DejaVu Sans Mono',consolas,'Courier New',monospace\"><span style=\"color: #000080; text-decoration-color: #000080; font-weight: bold\">[</span><span style=\"color: #000080; text-decoration-color: #000080\">NiftiLabelsMasker.wrapped</span><span style=\"color: #000080; text-decoration-color: #000080; font-weight: bold\">]</span> Extracting region signals\n",
              "</pre>\n"
            ]
          },
          "metadata": {}
        },
        {
          "output_type": "display_data",
          "data": {
            "text/plain": [
              "\u001b[1;34m[\u001b[0m\u001b[34mNiftiLabelsMasker.wrapped\u001b[0m\u001b[1;34m]\u001b[0m Cleaning extracted signals\n"
            ],
            "text/html": [
              "<pre style=\"white-space:pre;overflow-x:auto;line-height:normal;font-family:Menlo,'DejaVu Sans Mono',consolas,'Courier New',monospace\"><span style=\"color: #000080; text-decoration-color: #000080; font-weight: bold\">[</span><span style=\"color: #000080; text-decoration-color: #000080\">NiftiLabelsMasker.wrapped</span><span style=\"color: #000080; text-decoration-color: #000080; font-weight: bold\">]</span> Cleaning extracted signals\n",
              "</pre>\n"
            ]
          },
          "metadata": {}
        },
        {
          "output_type": "stream",
          "name": "stdout",
          "text": [
            "______________________________________________filter_and_extract - 29.5s, 0.5min\n"
          ]
        },
        {
          "output_type": "display_data",
          "data": {
            "text/plain": [
              "\u001b[1;34m[\u001b[0m\u001b[34mNiftiLabelsMasker.wrapped\u001b[0m\u001b[1;34m]\u001b[0m loading data from \n",
              "\u001b[35m/root/nilearn_data/schaefer_2018/\u001b[0m\u001b[95mSchaefer2018_200Parcels_7Networks_order_FSLMNI152_2mm.nii.gz\u001b[0m\n"
            ],
            "text/html": [
              "<pre style=\"white-space:pre;overflow-x:auto;line-height:normal;font-family:Menlo,'DejaVu Sans Mono',consolas,'Courier New',monospace\"><span style=\"color: #000080; text-decoration-color: #000080; font-weight: bold\">[</span><span style=\"color: #000080; text-decoration-color: #000080\">NiftiLabelsMasker.wrapped</span><span style=\"color: #000080; text-decoration-color: #000080; font-weight: bold\">]</span> loading data from \n",
              "<span style=\"color: #800080; text-decoration-color: #800080\">/root/nilearn_data/schaefer_2018/</span><span style=\"color: #ff00ff; text-decoration-color: #ff00ff\">Schaefer2018_200Parcels_7Networks_order_FSLMNI152_2mm.nii.gz</span>\n",
              "</pre>\n"
            ]
          },
          "metadata": {}
        },
        {
          "output_type": "stream",
          "name": "stdout",
          "text": [
            "________________________________________________________________________________\n",
            "[Memory] Calling nilearn.maskers.base_masker.filter_and_extract...\n",
            "filter_and_extract('/content/drive/MyDrive/raw_data/Denoised_p07_rs-3_MNI.nii.gz', <nilearn.maskers.nifti_labels_masker._ExtractionFunctor object at 0x7c5d9ac5d6d0>, \n",
            "{ 'background_label': 0,\n",
            "  'clean_args': None,\n",
            "  'clean_kwargs': {},\n",
            "  'cmap': 'CMRmap_r',\n",
            "  'detrend': False,\n",
            "  'dtype': None,\n",
            "  'high_pass': None,\n",
            "  'high_variance_confounds': False,\n",
            "  'keep_masked_labels': True,\n",
            "  'labels': None,\n",
            "  'labels_img': '/root/nilearn_data/schaefer_2018/Schaefer2018_200Parcels_7Networks_order_FSLMNI152_2mm.nii.gz',\n",
            "  'low_pass': None,\n",
            "  'lut': None,\n",
            "  'mask_img': None,\n",
            "  'reports': True,\n",
            "  'smoothing_fwhm': None,\n",
            "  'standardize': False,\n",
            "  'standardize_confounds': True,\n",
            "  'strategy': 'mean',\n",
            "  't_r': None,\n",
            "  'target_affine': None,\n",
            "  'target_shape': None}, confounds=None, sample_mask=None, dtype=None, memory=Memory(location=nilearn_cache/joblib), memory_level=1, verbose=1)\n"
          ]
        },
        {
          "output_type": "display_data",
          "data": {
            "text/plain": [
              "\u001b[1;34m[\u001b[0m\u001b[34mNiftiLabelsMasker.wrapped\u001b[0m\u001b[1;34m]\u001b[0m Loading data from \u001b[35m/content/drive/MyDrive/raw_data/\u001b[0m\u001b[95mDenoised_p07_rs-3_MNI.nii.gz\u001b[0m\n"
            ],
            "text/html": [
              "<pre style=\"white-space:pre;overflow-x:auto;line-height:normal;font-family:Menlo,'DejaVu Sans Mono',consolas,'Courier New',monospace\"><span style=\"color: #000080; text-decoration-color: #000080; font-weight: bold\">[</span><span style=\"color: #000080; text-decoration-color: #000080\">NiftiLabelsMasker.wrapped</span><span style=\"color: #000080; text-decoration-color: #000080; font-weight: bold\">]</span> Loading data from <span style=\"color: #800080; text-decoration-color: #800080\">/content/drive/MyDrive/raw_data/</span><span style=\"color: #ff00ff; text-decoration-color: #ff00ff\">Denoised_p07_rs-3_MNI.nii.gz</span>\n",
              "</pre>\n"
            ]
          },
          "metadata": {}
        },
        {
          "output_type": "display_data",
          "data": {
            "text/plain": [
              "\u001b[1;34m[\u001b[0m\u001b[34mNiftiLabelsMasker.wrapped\u001b[0m\u001b[1;34m]\u001b[0m Extracting region signals\n"
            ],
            "text/html": [
              "<pre style=\"white-space:pre;overflow-x:auto;line-height:normal;font-family:Menlo,'DejaVu Sans Mono',consolas,'Courier New',monospace\"><span style=\"color: #000080; text-decoration-color: #000080; font-weight: bold\">[</span><span style=\"color: #000080; text-decoration-color: #000080\">NiftiLabelsMasker.wrapped</span><span style=\"color: #000080; text-decoration-color: #000080; font-weight: bold\">]</span> Extracting region signals\n",
              "</pre>\n"
            ]
          },
          "metadata": {}
        },
        {
          "output_type": "display_data",
          "data": {
            "text/plain": [
              "\u001b[1;34m[\u001b[0m\u001b[34mNiftiLabelsMasker.wrapped\u001b[0m\u001b[1;34m]\u001b[0m Cleaning extracted signals\n"
            ],
            "text/html": [
              "<pre style=\"white-space:pre;overflow-x:auto;line-height:normal;font-family:Menlo,'DejaVu Sans Mono',consolas,'Courier New',monospace\"><span style=\"color: #000080; text-decoration-color: #000080; font-weight: bold\">[</span><span style=\"color: #000080; text-decoration-color: #000080\">NiftiLabelsMasker.wrapped</span><span style=\"color: #000080; text-decoration-color: #000080; font-weight: bold\">]</span> Cleaning extracted signals\n",
              "</pre>\n"
            ]
          },
          "metadata": {}
        },
        {
          "output_type": "stream",
          "name": "stdout",
          "text": [
            "______________________________________________filter_and_extract - 28.2s, 0.5min\n"
          ]
        },
        {
          "output_type": "display_data",
          "data": {
            "text/plain": [
              "\u001b[1;34m[\u001b[0m\u001b[34mNiftiLabelsMasker.wrapped\u001b[0m\u001b[1;34m]\u001b[0m loading data from \n",
              "\u001b[35m/root/nilearn_data/schaefer_2018/\u001b[0m\u001b[95mSchaefer2018_200Parcels_7Networks_order_FSLMNI152_2mm.nii.gz\u001b[0m\n"
            ],
            "text/html": [
              "<pre style=\"white-space:pre;overflow-x:auto;line-height:normal;font-family:Menlo,'DejaVu Sans Mono',consolas,'Courier New',monospace\"><span style=\"color: #000080; text-decoration-color: #000080; font-weight: bold\">[</span><span style=\"color: #000080; text-decoration-color: #000080\">NiftiLabelsMasker.wrapped</span><span style=\"color: #000080; text-decoration-color: #000080; font-weight: bold\">]</span> loading data from \n",
              "<span style=\"color: #800080; text-decoration-color: #800080\">/root/nilearn_data/schaefer_2018/</span><span style=\"color: #ff00ff; text-decoration-color: #ff00ff\">Schaefer2018_200Parcels_7Networks_order_FSLMNI152_2mm.nii.gz</span>\n",
              "</pre>\n"
            ]
          },
          "metadata": {}
        },
        {
          "output_type": "stream",
          "name": "stdout",
          "text": [
            "________________________________________________________________________________\n",
            "[Memory] Calling nilearn.maskers.base_masker.filter_and_extract...\n",
            "filter_and_extract('/content/drive/MyDrive/raw_data/Denoised_p08_rs-1_MNI.nii.gz', <nilearn.maskers.nifti_labels_masker._ExtractionFunctor object at 0x7c5d9ac8c390>, \n",
            "{ 'background_label': 0,\n",
            "  'clean_args': None,\n",
            "  'clean_kwargs': {},\n",
            "  'cmap': 'CMRmap_r',\n",
            "  'detrend': False,\n",
            "  'dtype': None,\n",
            "  'high_pass': None,\n",
            "  'high_variance_confounds': False,\n",
            "  'keep_masked_labels': True,\n",
            "  'labels': None,\n",
            "  'labels_img': '/root/nilearn_data/schaefer_2018/Schaefer2018_200Parcels_7Networks_order_FSLMNI152_2mm.nii.gz',\n",
            "  'low_pass': None,\n",
            "  'lut': None,\n",
            "  'mask_img': None,\n",
            "  'reports': True,\n",
            "  'smoothing_fwhm': None,\n",
            "  'standardize': False,\n",
            "  'standardize_confounds': True,\n",
            "  'strategy': 'mean',\n",
            "  't_r': None,\n",
            "  'target_affine': None,\n",
            "  'target_shape': None}, confounds=None, sample_mask=None, dtype=None, memory=Memory(location=nilearn_cache/joblib), memory_level=1, verbose=1)\n"
          ]
        },
        {
          "output_type": "display_data",
          "data": {
            "text/plain": [
              "\u001b[1;34m[\u001b[0m\u001b[34mNiftiLabelsMasker.wrapped\u001b[0m\u001b[1;34m]\u001b[0m Loading data from \u001b[35m/content/drive/MyDrive/raw_data/\u001b[0m\u001b[95mDenoised_p08_rs-1_MNI.nii.gz\u001b[0m\n"
            ],
            "text/html": [
              "<pre style=\"white-space:pre;overflow-x:auto;line-height:normal;font-family:Menlo,'DejaVu Sans Mono',consolas,'Courier New',monospace\"><span style=\"color: #000080; text-decoration-color: #000080; font-weight: bold\">[</span><span style=\"color: #000080; text-decoration-color: #000080\">NiftiLabelsMasker.wrapped</span><span style=\"color: #000080; text-decoration-color: #000080; font-weight: bold\">]</span> Loading data from <span style=\"color: #800080; text-decoration-color: #800080\">/content/drive/MyDrive/raw_data/</span><span style=\"color: #ff00ff; text-decoration-color: #ff00ff\">Denoised_p08_rs-1_MNI.nii.gz</span>\n",
              "</pre>\n"
            ]
          },
          "metadata": {}
        },
        {
          "output_type": "display_data",
          "data": {
            "text/plain": [
              "\u001b[1;34m[\u001b[0m\u001b[34mNiftiLabelsMasker.wrapped\u001b[0m\u001b[1;34m]\u001b[0m Extracting region signals\n"
            ],
            "text/html": [
              "<pre style=\"white-space:pre;overflow-x:auto;line-height:normal;font-family:Menlo,'DejaVu Sans Mono',consolas,'Courier New',monospace\"><span style=\"color: #000080; text-decoration-color: #000080; font-weight: bold\">[</span><span style=\"color: #000080; text-decoration-color: #000080\">NiftiLabelsMasker.wrapped</span><span style=\"color: #000080; text-decoration-color: #000080; font-weight: bold\">]</span> Extracting region signals\n",
              "</pre>\n"
            ]
          },
          "metadata": {}
        },
        {
          "output_type": "display_data",
          "data": {
            "text/plain": [
              "\u001b[1;34m[\u001b[0m\u001b[34mNiftiLabelsMasker.wrapped\u001b[0m\u001b[1;34m]\u001b[0m Cleaning extracted signals\n"
            ],
            "text/html": [
              "<pre style=\"white-space:pre;overflow-x:auto;line-height:normal;font-family:Menlo,'DejaVu Sans Mono',consolas,'Courier New',monospace\"><span style=\"color: #000080; text-decoration-color: #000080; font-weight: bold\">[</span><span style=\"color: #000080; text-decoration-color: #000080\">NiftiLabelsMasker.wrapped</span><span style=\"color: #000080; text-decoration-color: #000080; font-weight: bold\">]</span> Cleaning extracted signals\n",
              "</pre>\n"
            ]
          },
          "metadata": {}
        },
        {
          "output_type": "stream",
          "name": "stdout",
          "text": [
            "______________________________________________filter_and_extract - 28.1s, 0.5min\n"
          ]
        },
        {
          "output_type": "display_data",
          "data": {
            "text/plain": [
              "\u001b[1;34m[\u001b[0m\u001b[34mNiftiLabelsMasker.wrapped\u001b[0m\u001b[1;34m]\u001b[0m loading data from \n",
              "\u001b[35m/root/nilearn_data/schaefer_2018/\u001b[0m\u001b[95mSchaefer2018_200Parcels_7Networks_order_FSLMNI152_2mm.nii.gz\u001b[0m\n"
            ],
            "text/html": [
              "<pre style=\"white-space:pre;overflow-x:auto;line-height:normal;font-family:Menlo,'DejaVu Sans Mono',consolas,'Courier New',monospace\"><span style=\"color: #000080; text-decoration-color: #000080; font-weight: bold\">[</span><span style=\"color: #000080; text-decoration-color: #000080\">NiftiLabelsMasker.wrapped</span><span style=\"color: #000080; text-decoration-color: #000080; font-weight: bold\">]</span> loading data from \n",
              "<span style=\"color: #800080; text-decoration-color: #800080\">/root/nilearn_data/schaefer_2018/</span><span style=\"color: #ff00ff; text-decoration-color: #ff00ff\">Schaefer2018_200Parcels_7Networks_order_FSLMNI152_2mm.nii.gz</span>\n",
              "</pre>\n"
            ]
          },
          "metadata": {}
        },
        {
          "output_type": "stream",
          "name": "stdout",
          "text": [
            "________________________________________________________________________________\n",
            "[Memory] Calling nilearn.maskers.base_masker.filter_and_extract...\n",
            "filter_and_extract('/content/drive/MyDrive/raw_data/Denoised_p08_rs-2_MNI.nii.gz', <nilearn.maskers.nifti_labels_masker._ExtractionFunctor object at 0x7c5d9abdbbd0>, \n",
            "{ 'background_label': 0,\n",
            "  'clean_args': None,\n",
            "  'clean_kwargs': {},\n",
            "  'cmap': 'CMRmap_r',\n",
            "  'detrend': False,\n",
            "  'dtype': None,\n",
            "  'high_pass': None,\n",
            "  'high_variance_confounds': False,\n",
            "  'keep_masked_labels': True,\n",
            "  'labels': None,\n",
            "  'labels_img': '/root/nilearn_data/schaefer_2018/Schaefer2018_200Parcels_7Networks_order_FSLMNI152_2mm.nii.gz',\n",
            "  'low_pass': None,\n",
            "  'lut': None,\n",
            "  'mask_img': None,\n",
            "  'reports': True,\n",
            "  'smoothing_fwhm': None,\n",
            "  'standardize': False,\n",
            "  'standardize_confounds': True,\n",
            "  'strategy': 'mean',\n",
            "  't_r': None,\n",
            "  'target_affine': None,\n",
            "  'target_shape': None}, confounds=None, sample_mask=None, dtype=None, memory=Memory(location=nilearn_cache/joblib), memory_level=1, verbose=1)\n"
          ]
        },
        {
          "output_type": "display_data",
          "data": {
            "text/plain": [
              "\u001b[1;34m[\u001b[0m\u001b[34mNiftiLabelsMasker.wrapped\u001b[0m\u001b[1;34m]\u001b[0m Loading data from \u001b[35m/content/drive/MyDrive/raw_data/\u001b[0m\u001b[95mDenoised_p08_rs-2_MNI.nii.gz\u001b[0m\n"
            ],
            "text/html": [
              "<pre style=\"white-space:pre;overflow-x:auto;line-height:normal;font-family:Menlo,'DejaVu Sans Mono',consolas,'Courier New',monospace\"><span style=\"color: #000080; text-decoration-color: #000080; font-weight: bold\">[</span><span style=\"color: #000080; text-decoration-color: #000080\">NiftiLabelsMasker.wrapped</span><span style=\"color: #000080; text-decoration-color: #000080; font-weight: bold\">]</span> Loading data from <span style=\"color: #800080; text-decoration-color: #800080\">/content/drive/MyDrive/raw_data/</span><span style=\"color: #ff00ff; text-decoration-color: #ff00ff\">Denoised_p08_rs-2_MNI.nii.gz</span>\n",
              "</pre>\n"
            ]
          },
          "metadata": {}
        },
        {
          "output_type": "display_data",
          "data": {
            "text/plain": [
              "\u001b[1;34m[\u001b[0m\u001b[34mNiftiLabelsMasker.wrapped\u001b[0m\u001b[1;34m]\u001b[0m Extracting region signals\n"
            ],
            "text/html": [
              "<pre style=\"white-space:pre;overflow-x:auto;line-height:normal;font-family:Menlo,'DejaVu Sans Mono',consolas,'Courier New',monospace\"><span style=\"color: #000080; text-decoration-color: #000080; font-weight: bold\">[</span><span style=\"color: #000080; text-decoration-color: #000080\">NiftiLabelsMasker.wrapped</span><span style=\"color: #000080; text-decoration-color: #000080; font-weight: bold\">]</span> Extracting region signals\n",
              "</pre>\n"
            ]
          },
          "metadata": {}
        },
        {
          "output_type": "display_data",
          "data": {
            "text/plain": [
              "\u001b[1;34m[\u001b[0m\u001b[34mNiftiLabelsMasker.wrapped\u001b[0m\u001b[1;34m]\u001b[0m Cleaning extracted signals\n"
            ],
            "text/html": [
              "<pre style=\"white-space:pre;overflow-x:auto;line-height:normal;font-family:Menlo,'DejaVu Sans Mono',consolas,'Courier New',monospace\"><span style=\"color: #000080; text-decoration-color: #000080; font-weight: bold\">[</span><span style=\"color: #000080; text-decoration-color: #000080\">NiftiLabelsMasker.wrapped</span><span style=\"color: #000080; text-decoration-color: #000080; font-weight: bold\">]</span> Cleaning extracted signals\n",
              "</pre>\n"
            ]
          },
          "metadata": {}
        },
        {
          "output_type": "stream",
          "name": "stdout",
          "text": [
            "______________________________________________filter_and_extract - 27.9s, 0.5min\n"
          ]
        },
        {
          "output_type": "display_data",
          "data": {
            "text/plain": [
              "\u001b[1;34m[\u001b[0m\u001b[34mNiftiLabelsMasker.wrapped\u001b[0m\u001b[1;34m]\u001b[0m loading data from \n",
              "\u001b[35m/root/nilearn_data/schaefer_2018/\u001b[0m\u001b[95mSchaefer2018_200Parcels_7Networks_order_FSLMNI152_2mm.nii.gz\u001b[0m\n"
            ],
            "text/html": [
              "<pre style=\"white-space:pre;overflow-x:auto;line-height:normal;font-family:Menlo,'DejaVu Sans Mono',consolas,'Courier New',monospace\"><span style=\"color: #000080; text-decoration-color: #000080; font-weight: bold\">[</span><span style=\"color: #000080; text-decoration-color: #000080\">NiftiLabelsMasker.wrapped</span><span style=\"color: #000080; text-decoration-color: #000080; font-weight: bold\">]</span> loading data from \n",
              "<span style=\"color: #800080; text-decoration-color: #800080\">/root/nilearn_data/schaefer_2018/</span><span style=\"color: #ff00ff; text-decoration-color: #ff00ff\">Schaefer2018_200Parcels_7Networks_order_FSLMNI152_2mm.nii.gz</span>\n",
              "</pre>\n"
            ]
          },
          "metadata": {}
        },
        {
          "output_type": "stream",
          "name": "stdout",
          "text": [
            "________________________________________________________________________________\n",
            "[Memory] Calling nilearn.maskers.base_masker.filter_and_extract...\n",
            "filter_and_extract('/content/drive/MyDrive/raw_data/Denoised_p08_rs-3_MNI.nii.gz', <nilearn.maskers.nifti_labels_masker._ExtractionFunctor object at 0x7c5d9e6fd6d0>, \n",
            "{ 'background_label': 0,\n",
            "  'clean_args': None,\n",
            "  'clean_kwargs': {},\n",
            "  'cmap': 'CMRmap_r',\n",
            "  'detrend': False,\n",
            "  'dtype': None,\n",
            "  'high_pass': None,\n",
            "  'high_variance_confounds': False,\n",
            "  'keep_masked_labels': True,\n",
            "  'labels': None,\n",
            "  'labels_img': '/root/nilearn_data/schaefer_2018/Schaefer2018_200Parcels_7Networks_order_FSLMNI152_2mm.nii.gz',\n",
            "  'low_pass': None,\n",
            "  'lut': None,\n",
            "  'mask_img': None,\n",
            "  'reports': True,\n",
            "  'smoothing_fwhm': None,\n",
            "  'standardize': False,\n",
            "  'standardize_confounds': True,\n",
            "  'strategy': 'mean',\n",
            "  't_r': None,\n",
            "  'target_affine': None,\n",
            "  'target_shape': None}, confounds=None, sample_mask=None, dtype=None, memory=Memory(location=nilearn_cache/joblib), memory_level=1, verbose=1)\n"
          ]
        },
        {
          "output_type": "display_data",
          "data": {
            "text/plain": [
              "\u001b[1;34m[\u001b[0m\u001b[34mNiftiLabelsMasker.wrapped\u001b[0m\u001b[1;34m]\u001b[0m Loading data from \u001b[35m/content/drive/MyDrive/raw_data/\u001b[0m\u001b[95mDenoised_p08_rs-3_MNI.nii.gz\u001b[0m\n"
            ],
            "text/html": [
              "<pre style=\"white-space:pre;overflow-x:auto;line-height:normal;font-family:Menlo,'DejaVu Sans Mono',consolas,'Courier New',monospace\"><span style=\"color: #000080; text-decoration-color: #000080; font-weight: bold\">[</span><span style=\"color: #000080; text-decoration-color: #000080\">NiftiLabelsMasker.wrapped</span><span style=\"color: #000080; text-decoration-color: #000080; font-weight: bold\">]</span> Loading data from <span style=\"color: #800080; text-decoration-color: #800080\">/content/drive/MyDrive/raw_data/</span><span style=\"color: #ff00ff; text-decoration-color: #ff00ff\">Denoised_p08_rs-3_MNI.nii.gz</span>\n",
              "</pre>\n"
            ]
          },
          "metadata": {}
        },
        {
          "output_type": "display_data",
          "data": {
            "text/plain": [
              "\u001b[1;34m[\u001b[0m\u001b[34mNiftiLabelsMasker.wrapped\u001b[0m\u001b[1;34m]\u001b[0m Extracting region signals\n"
            ],
            "text/html": [
              "<pre style=\"white-space:pre;overflow-x:auto;line-height:normal;font-family:Menlo,'DejaVu Sans Mono',consolas,'Courier New',monospace\"><span style=\"color: #000080; text-decoration-color: #000080; font-weight: bold\">[</span><span style=\"color: #000080; text-decoration-color: #000080\">NiftiLabelsMasker.wrapped</span><span style=\"color: #000080; text-decoration-color: #000080; font-weight: bold\">]</span> Extracting region signals\n",
              "</pre>\n"
            ]
          },
          "metadata": {}
        },
        {
          "output_type": "display_data",
          "data": {
            "text/plain": [
              "\u001b[1;34m[\u001b[0m\u001b[34mNiftiLabelsMasker.wrapped\u001b[0m\u001b[1;34m]\u001b[0m Cleaning extracted signals\n"
            ],
            "text/html": [
              "<pre style=\"white-space:pre;overflow-x:auto;line-height:normal;font-family:Menlo,'DejaVu Sans Mono',consolas,'Courier New',monospace\"><span style=\"color: #000080; text-decoration-color: #000080; font-weight: bold\">[</span><span style=\"color: #000080; text-decoration-color: #000080\">NiftiLabelsMasker.wrapped</span><span style=\"color: #000080; text-decoration-color: #000080; font-weight: bold\">]</span> Cleaning extracted signals\n",
              "</pre>\n"
            ]
          },
          "metadata": {}
        },
        {
          "output_type": "stream",
          "name": "stdout",
          "text": [
            "______________________________________________filter_and_extract - 27.5s, 0.5min\n"
          ]
        },
        {
          "output_type": "display_data",
          "data": {
            "text/plain": [
              "\u001b[1;34m[\u001b[0m\u001b[34mNiftiLabelsMasker.wrapped\u001b[0m\u001b[1;34m]\u001b[0m loading data from \n",
              "\u001b[35m/root/nilearn_data/schaefer_2018/\u001b[0m\u001b[95mSchaefer2018_200Parcels_7Networks_order_FSLMNI152_2mm.nii.gz\u001b[0m\n"
            ],
            "text/html": [
              "<pre style=\"white-space:pre;overflow-x:auto;line-height:normal;font-family:Menlo,'DejaVu Sans Mono',consolas,'Courier New',monospace\"><span style=\"color: #000080; text-decoration-color: #000080; font-weight: bold\">[</span><span style=\"color: #000080; text-decoration-color: #000080\">NiftiLabelsMasker.wrapped</span><span style=\"color: #000080; text-decoration-color: #000080; font-weight: bold\">]</span> loading data from \n",
              "<span style=\"color: #800080; text-decoration-color: #800080\">/root/nilearn_data/schaefer_2018/</span><span style=\"color: #ff00ff; text-decoration-color: #ff00ff\">Schaefer2018_200Parcels_7Networks_order_FSLMNI152_2mm.nii.gz</span>\n",
              "</pre>\n"
            ]
          },
          "metadata": {}
        },
        {
          "output_type": "stream",
          "name": "stdout",
          "text": [
            "________________________________________________________________________________\n",
            "[Memory] Calling nilearn.maskers.base_masker.filter_and_extract...\n",
            "filter_and_extract('/content/drive/MyDrive/raw_data/Denoised_p09_rs-1_MNI.nii.gz', <nilearn.maskers.nifti_labels_masker._ExtractionFunctor object at 0x7c5d9ac905d0>, \n",
            "{ 'background_label': 0,\n",
            "  'clean_args': None,\n",
            "  'clean_kwargs': {},\n",
            "  'cmap': 'CMRmap_r',\n",
            "  'detrend': False,\n",
            "  'dtype': None,\n",
            "  'high_pass': None,\n",
            "  'high_variance_confounds': False,\n",
            "  'keep_masked_labels': True,\n",
            "  'labels': None,\n",
            "  'labels_img': '/root/nilearn_data/schaefer_2018/Schaefer2018_200Parcels_7Networks_order_FSLMNI152_2mm.nii.gz',\n",
            "  'low_pass': None,\n",
            "  'lut': None,\n",
            "  'mask_img': None,\n",
            "  'reports': True,\n",
            "  'smoothing_fwhm': None,\n",
            "  'standardize': False,\n",
            "  'standardize_confounds': True,\n",
            "  'strategy': 'mean',\n",
            "  't_r': None,\n",
            "  'target_affine': None,\n",
            "  'target_shape': None}, confounds=None, sample_mask=None, dtype=None, memory=Memory(location=nilearn_cache/joblib), memory_level=1, verbose=1)\n"
          ]
        },
        {
          "output_type": "display_data",
          "data": {
            "text/plain": [
              "\u001b[1;34m[\u001b[0m\u001b[34mNiftiLabelsMasker.wrapped\u001b[0m\u001b[1;34m]\u001b[0m Loading data from \u001b[35m/content/drive/MyDrive/raw_data/\u001b[0m\u001b[95mDenoised_p09_rs-1_MNI.nii.gz\u001b[0m\n"
            ],
            "text/html": [
              "<pre style=\"white-space:pre;overflow-x:auto;line-height:normal;font-family:Menlo,'DejaVu Sans Mono',consolas,'Courier New',monospace\"><span style=\"color: #000080; text-decoration-color: #000080; font-weight: bold\">[</span><span style=\"color: #000080; text-decoration-color: #000080\">NiftiLabelsMasker.wrapped</span><span style=\"color: #000080; text-decoration-color: #000080; font-weight: bold\">]</span> Loading data from <span style=\"color: #800080; text-decoration-color: #800080\">/content/drive/MyDrive/raw_data/</span><span style=\"color: #ff00ff; text-decoration-color: #ff00ff\">Denoised_p09_rs-1_MNI.nii.gz</span>\n",
              "</pre>\n"
            ]
          },
          "metadata": {}
        },
        {
          "output_type": "display_data",
          "data": {
            "text/plain": [
              "\u001b[1;34m[\u001b[0m\u001b[34mNiftiLabelsMasker.wrapped\u001b[0m\u001b[1;34m]\u001b[0m Extracting region signals\n"
            ],
            "text/html": [
              "<pre style=\"white-space:pre;overflow-x:auto;line-height:normal;font-family:Menlo,'DejaVu Sans Mono',consolas,'Courier New',monospace\"><span style=\"color: #000080; text-decoration-color: #000080; font-weight: bold\">[</span><span style=\"color: #000080; text-decoration-color: #000080\">NiftiLabelsMasker.wrapped</span><span style=\"color: #000080; text-decoration-color: #000080; font-weight: bold\">]</span> Extracting region signals\n",
              "</pre>\n"
            ]
          },
          "metadata": {}
        },
        {
          "output_type": "display_data",
          "data": {
            "text/plain": [
              "\u001b[1;34m[\u001b[0m\u001b[34mNiftiLabelsMasker.wrapped\u001b[0m\u001b[1;34m]\u001b[0m Cleaning extracted signals\n"
            ],
            "text/html": [
              "<pre style=\"white-space:pre;overflow-x:auto;line-height:normal;font-family:Menlo,'DejaVu Sans Mono',consolas,'Courier New',monospace\"><span style=\"color: #000080; text-decoration-color: #000080; font-weight: bold\">[</span><span style=\"color: #000080; text-decoration-color: #000080\">NiftiLabelsMasker.wrapped</span><span style=\"color: #000080; text-decoration-color: #000080; font-weight: bold\">]</span> Cleaning extracted signals\n",
              "</pre>\n"
            ]
          },
          "metadata": {}
        },
        {
          "output_type": "stream",
          "name": "stdout",
          "text": [
            "______________________________________________filter_and_extract - 29.0s, 0.5min\n"
          ]
        },
        {
          "output_type": "display_data",
          "data": {
            "text/plain": [
              "\u001b[1;34m[\u001b[0m\u001b[34mNiftiLabelsMasker.wrapped\u001b[0m\u001b[1;34m]\u001b[0m loading data from \n",
              "\u001b[35m/root/nilearn_data/schaefer_2018/\u001b[0m\u001b[95mSchaefer2018_200Parcels_7Networks_order_FSLMNI152_2mm.nii.gz\u001b[0m\n"
            ],
            "text/html": [
              "<pre style=\"white-space:pre;overflow-x:auto;line-height:normal;font-family:Menlo,'DejaVu Sans Mono',consolas,'Courier New',monospace\"><span style=\"color: #000080; text-decoration-color: #000080; font-weight: bold\">[</span><span style=\"color: #000080; text-decoration-color: #000080\">NiftiLabelsMasker.wrapped</span><span style=\"color: #000080; text-decoration-color: #000080; font-weight: bold\">]</span> loading data from \n",
              "<span style=\"color: #800080; text-decoration-color: #800080\">/root/nilearn_data/schaefer_2018/</span><span style=\"color: #ff00ff; text-decoration-color: #ff00ff\">Schaefer2018_200Parcels_7Networks_order_FSLMNI152_2mm.nii.gz</span>\n",
              "</pre>\n"
            ]
          },
          "metadata": {}
        },
        {
          "output_type": "stream",
          "name": "stdout",
          "text": [
            "________________________________________________________________________________\n",
            "[Memory] Calling nilearn.maskers.base_masker.filter_and_extract...\n",
            "filter_and_extract('/content/drive/MyDrive/raw_data/Denoised_p09_rs-2_MNI.nii.gz', <nilearn.maskers.nifti_labels_masker._ExtractionFunctor object at 0x7c5d9b020b90>, \n",
            "{ 'background_label': 0,\n",
            "  'clean_args': None,\n",
            "  'clean_kwargs': {},\n",
            "  'cmap': 'CMRmap_r',\n",
            "  'detrend': False,\n",
            "  'dtype': None,\n",
            "  'high_pass': None,\n",
            "  'high_variance_confounds': False,\n",
            "  'keep_masked_labels': True,\n",
            "  'labels': None,\n",
            "  'labels_img': '/root/nilearn_data/schaefer_2018/Schaefer2018_200Parcels_7Networks_order_FSLMNI152_2mm.nii.gz',\n",
            "  'low_pass': None,\n",
            "  'lut': None,\n",
            "  'mask_img': None,\n",
            "  'reports': True,\n",
            "  'smoothing_fwhm': None,\n",
            "  'standardize': False,\n",
            "  'standardize_confounds': True,\n",
            "  'strategy': 'mean',\n",
            "  't_r': None,\n",
            "  'target_affine': None,\n",
            "  'target_shape': None}, confounds=None, sample_mask=None, dtype=None, memory=Memory(location=nilearn_cache/joblib), memory_level=1, verbose=1)\n"
          ]
        },
        {
          "output_type": "display_data",
          "data": {
            "text/plain": [
              "\u001b[1;34m[\u001b[0m\u001b[34mNiftiLabelsMasker.wrapped\u001b[0m\u001b[1;34m]\u001b[0m Loading data from \u001b[35m/content/drive/MyDrive/raw_data/\u001b[0m\u001b[95mDenoised_p09_rs-2_MNI.nii.gz\u001b[0m\n"
            ],
            "text/html": [
              "<pre style=\"white-space:pre;overflow-x:auto;line-height:normal;font-family:Menlo,'DejaVu Sans Mono',consolas,'Courier New',monospace\"><span style=\"color: #000080; text-decoration-color: #000080; font-weight: bold\">[</span><span style=\"color: #000080; text-decoration-color: #000080\">NiftiLabelsMasker.wrapped</span><span style=\"color: #000080; text-decoration-color: #000080; font-weight: bold\">]</span> Loading data from <span style=\"color: #800080; text-decoration-color: #800080\">/content/drive/MyDrive/raw_data/</span><span style=\"color: #ff00ff; text-decoration-color: #ff00ff\">Denoised_p09_rs-2_MNI.nii.gz</span>\n",
              "</pre>\n"
            ]
          },
          "metadata": {}
        },
        {
          "output_type": "display_data",
          "data": {
            "text/plain": [
              "\u001b[1;34m[\u001b[0m\u001b[34mNiftiLabelsMasker.wrapped\u001b[0m\u001b[1;34m]\u001b[0m Extracting region signals\n"
            ],
            "text/html": [
              "<pre style=\"white-space:pre;overflow-x:auto;line-height:normal;font-family:Menlo,'DejaVu Sans Mono',consolas,'Courier New',monospace\"><span style=\"color: #000080; text-decoration-color: #000080; font-weight: bold\">[</span><span style=\"color: #000080; text-decoration-color: #000080\">NiftiLabelsMasker.wrapped</span><span style=\"color: #000080; text-decoration-color: #000080; font-weight: bold\">]</span> Extracting region signals\n",
              "</pre>\n"
            ]
          },
          "metadata": {}
        },
        {
          "output_type": "display_data",
          "data": {
            "text/plain": [
              "\u001b[1;34m[\u001b[0m\u001b[34mNiftiLabelsMasker.wrapped\u001b[0m\u001b[1;34m]\u001b[0m Cleaning extracted signals\n"
            ],
            "text/html": [
              "<pre style=\"white-space:pre;overflow-x:auto;line-height:normal;font-family:Menlo,'DejaVu Sans Mono',consolas,'Courier New',monospace\"><span style=\"color: #000080; text-decoration-color: #000080; font-weight: bold\">[</span><span style=\"color: #000080; text-decoration-color: #000080\">NiftiLabelsMasker.wrapped</span><span style=\"color: #000080; text-decoration-color: #000080; font-weight: bold\">]</span> Cleaning extracted signals\n",
              "</pre>\n"
            ]
          },
          "metadata": {}
        },
        {
          "output_type": "stream",
          "name": "stdout",
          "text": [
            "______________________________________________filter_and_extract - 29.7s, 0.5min\n"
          ]
        },
        {
          "output_type": "display_data",
          "data": {
            "text/plain": [
              "\u001b[1;34m[\u001b[0m\u001b[34mNiftiLabelsMasker.wrapped\u001b[0m\u001b[1;34m]\u001b[0m loading data from \n",
              "\u001b[35m/root/nilearn_data/schaefer_2018/\u001b[0m\u001b[95mSchaefer2018_200Parcels_7Networks_order_FSLMNI152_2mm.nii.gz\u001b[0m\n"
            ],
            "text/html": [
              "<pre style=\"white-space:pre;overflow-x:auto;line-height:normal;font-family:Menlo,'DejaVu Sans Mono',consolas,'Courier New',monospace\"><span style=\"color: #000080; text-decoration-color: #000080; font-weight: bold\">[</span><span style=\"color: #000080; text-decoration-color: #000080\">NiftiLabelsMasker.wrapped</span><span style=\"color: #000080; text-decoration-color: #000080; font-weight: bold\">]</span> loading data from \n",
              "<span style=\"color: #800080; text-decoration-color: #800080\">/root/nilearn_data/schaefer_2018/</span><span style=\"color: #ff00ff; text-decoration-color: #ff00ff\">Schaefer2018_200Parcels_7Networks_order_FSLMNI152_2mm.nii.gz</span>\n",
              "</pre>\n"
            ]
          },
          "metadata": {}
        },
        {
          "output_type": "stream",
          "name": "stdout",
          "text": [
            "________________________________________________________________________________\n",
            "[Memory] Calling nilearn.maskers.base_masker.filter_and_extract...\n",
            "filter_and_extract('/content/drive/MyDrive/raw_data/Denoised_p09_rs-3_MNI.nii.gz', <nilearn.maskers.nifti_labels_masker._ExtractionFunctor object at 0x7c5d9b050d10>, \n",
            "{ 'background_label': 0,\n",
            "  'clean_args': None,\n",
            "  'clean_kwargs': {},\n",
            "  'cmap': 'CMRmap_r',\n",
            "  'detrend': False,\n",
            "  'dtype': None,\n",
            "  'high_pass': None,\n",
            "  'high_variance_confounds': False,\n",
            "  'keep_masked_labels': True,\n",
            "  'labels': None,\n",
            "  'labels_img': '/root/nilearn_data/schaefer_2018/Schaefer2018_200Parcels_7Networks_order_FSLMNI152_2mm.nii.gz',\n",
            "  'low_pass': None,\n",
            "  'lut': None,\n",
            "  'mask_img': None,\n",
            "  'reports': True,\n",
            "  'smoothing_fwhm': None,\n",
            "  'standardize': False,\n",
            "  'standardize_confounds': True,\n",
            "  'strategy': 'mean',\n",
            "  't_r': None,\n",
            "  'target_affine': None,\n",
            "  'target_shape': None}, confounds=None, sample_mask=None, dtype=None, memory=Memory(location=nilearn_cache/joblib), memory_level=1, verbose=1)\n"
          ]
        },
        {
          "output_type": "display_data",
          "data": {
            "text/plain": [
              "\u001b[1;34m[\u001b[0m\u001b[34mNiftiLabelsMasker.wrapped\u001b[0m\u001b[1;34m]\u001b[0m Loading data from \u001b[35m/content/drive/MyDrive/raw_data/\u001b[0m\u001b[95mDenoised_p09_rs-3_MNI.nii.gz\u001b[0m\n"
            ],
            "text/html": [
              "<pre style=\"white-space:pre;overflow-x:auto;line-height:normal;font-family:Menlo,'DejaVu Sans Mono',consolas,'Courier New',monospace\"><span style=\"color: #000080; text-decoration-color: #000080; font-weight: bold\">[</span><span style=\"color: #000080; text-decoration-color: #000080\">NiftiLabelsMasker.wrapped</span><span style=\"color: #000080; text-decoration-color: #000080; font-weight: bold\">]</span> Loading data from <span style=\"color: #800080; text-decoration-color: #800080\">/content/drive/MyDrive/raw_data/</span><span style=\"color: #ff00ff; text-decoration-color: #ff00ff\">Denoised_p09_rs-3_MNI.nii.gz</span>\n",
              "</pre>\n"
            ]
          },
          "metadata": {}
        },
        {
          "output_type": "display_data",
          "data": {
            "text/plain": [
              "\u001b[1;34m[\u001b[0m\u001b[34mNiftiLabelsMasker.wrapped\u001b[0m\u001b[1;34m]\u001b[0m Extracting region signals\n"
            ],
            "text/html": [
              "<pre style=\"white-space:pre;overflow-x:auto;line-height:normal;font-family:Menlo,'DejaVu Sans Mono',consolas,'Courier New',monospace\"><span style=\"color: #000080; text-decoration-color: #000080; font-weight: bold\">[</span><span style=\"color: #000080; text-decoration-color: #000080\">NiftiLabelsMasker.wrapped</span><span style=\"color: #000080; text-decoration-color: #000080; font-weight: bold\">]</span> Extracting region signals\n",
              "</pre>\n"
            ]
          },
          "metadata": {}
        },
        {
          "output_type": "display_data",
          "data": {
            "text/plain": [
              "\u001b[1;34m[\u001b[0m\u001b[34mNiftiLabelsMasker.wrapped\u001b[0m\u001b[1;34m]\u001b[0m Cleaning extracted signals\n"
            ],
            "text/html": [
              "<pre style=\"white-space:pre;overflow-x:auto;line-height:normal;font-family:Menlo,'DejaVu Sans Mono',consolas,'Courier New',monospace\"><span style=\"color: #000080; text-decoration-color: #000080; font-weight: bold\">[</span><span style=\"color: #000080; text-decoration-color: #000080\">NiftiLabelsMasker.wrapped</span><span style=\"color: #000080; text-decoration-color: #000080; font-weight: bold\">]</span> Cleaning extracted signals\n",
              "</pre>\n"
            ]
          },
          "metadata": {}
        },
        {
          "output_type": "stream",
          "name": "stdout",
          "text": [
            "______________________________________________filter_and_extract - 29.2s, 0.5min\n"
          ]
        },
        {
          "output_type": "display_data",
          "data": {
            "text/plain": [
              "\u001b[1;34m[\u001b[0m\u001b[34mNiftiLabelsMasker.wrapped\u001b[0m\u001b[1;34m]\u001b[0m loading data from \n",
              "\u001b[35m/root/nilearn_data/schaefer_2018/\u001b[0m\u001b[95mSchaefer2018_200Parcels_7Networks_order_FSLMNI152_2mm.nii.gz\u001b[0m\n"
            ],
            "text/html": [
              "<pre style=\"white-space:pre;overflow-x:auto;line-height:normal;font-family:Menlo,'DejaVu Sans Mono',consolas,'Courier New',monospace\"><span style=\"color: #000080; text-decoration-color: #000080; font-weight: bold\">[</span><span style=\"color: #000080; text-decoration-color: #000080\">NiftiLabelsMasker.wrapped</span><span style=\"color: #000080; text-decoration-color: #000080; font-weight: bold\">]</span> loading data from \n",
              "<span style=\"color: #800080; text-decoration-color: #800080\">/root/nilearn_data/schaefer_2018/</span><span style=\"color: #ff00ff; text-decoration-color: #ff00ff\">Schaefer2018_200Parcels_7Networks_order_FSLMNI152_2mm.nii.gz</span>\n",
              "</pre>\n"
            ]
          },
          "metadata": {}
        },
        {
          "output_type": "stream",
          "name": "stdout",
          "text": [
            "________________________________________________________________________________\n",
            "[Memory] Calling nilearn.maskers.base_masker.filter_and_extract...\n",
            "filter_and_extract('/content/drive/MyDrive/raw_data/Denoised_p10_rs-1_MNI.nii.gz', <nilearn.maskers.nifti_labels_masker._ExtractionFunctor object at 0x7c5d9adc6890>, \n",
            "{ 'background_label': 0,\n",
            "  'clean_args': None,\n",
            "  'clean_kwargs': {},\n",
            "  'cmap': 'CMRmap_r',\n",
            "  'detrend': False,\n",
            "  'dtype': None,\n",
            "  'high_pass': None,\n",
            "  'high_variance_confounds': False,\n",
            "  'keep_masked_labels': True,\n",
            "  'labels': None,\n",
            "  'labels_img': '/root/nilearn_data/schaefer_2018/Schaefer2018_200Parcels_7Networks_order_FSLMNI152_2mm.nii.gz',\n",
            "  'low_pass': None,\n",
            "  'lut': None,\n",
            "  'mask_img': None,\n",
            "  'reports': True,\n",
            "  'smoothing_fwhm': None,\n",
            "  'standardize': False,\n",
            "  'standardize_confounds': True,\n",
            "  'strategy': 'mean',\n",
            "  't_r': None,\n",
            "  'target_affine': None,\n",
            "  'target_shape': None}, confounds=None, sample_mask=None, dtype=None, memory=Memory(location=nilearn_cache/joblib), memory_level=1, verbose=1)\n"
          ]
        },
        {
          "output_type": "display_data",
          "data": {
            "text/plain": [
              "\u001b[1;34m[\u001b[0m\u001b[34mNiftiLabelsMasker.wrapped\u001b[0m\u001b[1;34m]\u001b[0m Loading data from \u001b[35m/content/drive/MyDrive/raw_data/\u001b[0m\u001b[95mDenoised_p10_rs-1_MNI.nii.gz\u001b[0m\n"
            ],
            "text/html": [
              "<pre style=\"white-space:pre;overflow-x:auto;line-height:normal;font-family:Menlo,'DejaVu Sans Mono',consolas,'Courier New',monospace\"><span style=\"color: #000080; text-decoration-color: #000080; font-weight: bold\">[</span><span style=\"color: #000080; text-decoration-color: #000080\">NiftiLabelsMasker.wrapped</span><span style=\"color: #000080; text-decoration-color: #000080; font-weight: bold\">]</span> Loading data from <span style=\"color: #800080; text-decoration-color: #800080\">/content/drive/MyDrive/raw_data/</span><span style=\"color: #ff00ff; text-decoration-color: #ff00ff\">Denoised_p10_rs-1_MNI.nii.gz</span>\n",
              "</pre>\n"
            ]
          },
          "metadata": {}
        },
        {
          "output_type": "display_data",
          "data": {
            "text/plain": [
              "\u001b[1;34m[\u001b[0m\u001b[34mNiftiLabelsMasker.wrapped\u001b[0m\u001b[1;34m]\u001b[0m Extracting region signals\n"
            ],
            "text/html": [
              "<pre style=\"white-space:pre;overflow-x:auto;line-height:normal;font-family:Menlo,'DejaVu Sans Mono',consolas,'Courier New',monospace\"><span style=\"color: #000080; text-decoration-color: #000080; font-weight: bold\">[</span><span style=\"color: #000080; text-decoration-color: #000080\">NiftiLabelsMasker.wrapped</span><span style=\"color: #000080; text-decoration-color: #000080; font-weight: bold\">]</span> Extracting region signals\n",
              "</pre>\n"
            ]
          },
          "metadata": {}
        },
        {
          "output_type": "display_data",
          "data": {
            "text/plain": [
              "\u001b[1;34m[\u001b[0m\u001b[34mNiftiLabelsMasker.wrapped\u001b[0m\u001b[1;34m]\u001b[0m Cleaning extracted signals\n"
            ],
            "text/html": [
              "<pre style=\"white-space:pre;overflow-x:auto;line-height:normal;font-family:Menlo,'DejaVu Sans Mono',consolas,'Courier New',monospace\"><span style=\"color: #000080; text-decoration-color: #000080; font-weight: bold\">[</span><span style=\"color: #000080; text-decoration-color: #000080\">NiftiLabelsMasker.wrapped</span><span style=\"color: #000080; text-decoration-color: #000080; font-weight: bold\">]</span> Cleaning extracted signals\n",
              "</pre>\n"
            ]
          },
          "metadata": {}
        },
        {
          "output_type": "stream",
          "name": "stdout",
          "text": [
            "______________________________________________filter_and_extract - 28.9s, 0.5min\n"
          ]
        },
        {
          "output_type": "display_data",
          "data": {
            "text/plain": [
              "\u001b[1;34m[\u001b[0m\u001b[34mNiftiLabelsMasker.wrapped\u001b[0m\u001b[1;34m]\u001b[0m loading data from \n",
              "\u001b[35m/root/nilearn_data/schaefer_2018/\u001b[0m\u001b[95mSchaefer2018_200Parcels_7Networks_order_FSLMNI152_2mm.nii.gz\u001b[0m\n"
            ],
            "text/html": [
              "<pre style=\"white-space:pre;overflow-x:auto;line-height:normal;font-family:Menlo,'DejaVu Sans Mono',consolas,'Courier New',monospace\"><span style=\"color: #000080; text-decoration-color: #000080; font-weight: bold\">[</span><span style=\"color: #000080; text-decoration-color: #000080\">NiftiLabelsMasker.wrapped</span><span style=\"color: #000080; text-decoration-color: #000080; font-weight: bold\">]</span> loading data from \n",
              "<span style=\"color: #800080; text-decoration-color: #800080\">/root/nilearn_data/schaefer_2018/</span><span style=\"color: #ff00ff; text-decoration-color: #ff00ff\">Schaefer2018_200Parcels_7Networks_order_FSLMNI152_2mm.nii.gz</span>\n",
              "</pre>\n"
            ]
          },
          "metadata": {}
        },
        {
          "output_type": "stream",
          "name": "stdout",
          "text": [
            "________________________________________________________________________________\n",
            "[Memory] Calling nilearn.maskers.base_masker.filter_and_extract...\n",
            "filter_and_extract('/content/drive/MyDrive/raw_data/Denoised_p10_rs-2_MNI.nii.gz', <nilearn.maskers.nifti_labels_masker._ExtractionFunctor object at 0x7c5d9b7945d0>, \n",
            "{ 'background_label': 0,\n",
            "  'clean_args': None,\n",
            "  'clean_kwargs': {},\n",
            "  'cmap': 'CMRmap_r',\n",
            "  'detrend': False,\n",
            "  'dtype': None,\n",
            "  'high_pass': None,\n",
            "  'high_variance_confounds': False,\n",
            "  'keep_masked_labels': True,\n",
            "  'labels': None,\n",
            "  'labels_img': '/root/nilearn_data/schaefer_2018/Schaefer2018_200Parcels_7Networks_order_FSLMNI152_2mm.nii.gz',\n",
            "  'low_pass': None,\n",
            "  'lut': None,\n",
            "  'mask_img': None,\n",
            "  'reports': True,\n",
            "  'smoothing_fwhm': None,\n",
            "  'standardize': False,\n",
            "  'standardize_confounds': True,\n",
            "  'strategy': 'mean',\n",
            "  't_r': None,\n",
            "  'target_affine': None,\n",
            "  'target_shape': None}, confounds=None, sample_mask=None, dtype=None, memory=Memory(location=nilearn_cache/joblib), memory_level=1, verbose=1)\n"
          ]
        },
        {
          "output_type": "display_data",
          "data": {
            "text/plain": [
              "\u001b[1;34m[\u001b[0m\u001b[34mNiftiLabelsMasker.wrapped\u001b[0m\u001b[1;34m]\u001b[0m Loading data from \u001b[35m/content/drive/MyDrive/raw_data/\u001b[0m\u001b[95mDenoised_p10_rs-2_MNI.nii.gz\u001b[0m\n"
            ],
            "text/html": [
              "<pre style=\"white-space:pre;overflow-x:auto;line-height:normal;font-family:Menlo,'DejaVu Sans Mono',consolas,'Courier New',monospace\"><span style=\"color: #000080; text-decoration-color: #000080; font-weight: bold\">[</span><span style=\"color: #000080; text-decoration-color: #000080\">NiftiLabelsMasker.wrapped</span><span style=\"color: #000080; text-decoration-color: #000080; font-weight: bold\">]</span> Loading data from <span style=\"color: #800080; text-decoration-color: #800080\">/content/drive/MyDrive/raw_data/</span><span style=\"color: #ff00ff; text-decoration-color: #ff00ff\">Denoised_p10_rs-2_MNI.nii.gz</span>\n",
              "</pre>\n"
            ]
          },
          "metadata": {}
        },
        {
          "output_type": "display_data",
          "data": {
            "text/plain": [
              "\u001b[1;34m[\u001b[0m\u001b[34mNiftiLabelsMasker.wrapped\u001b[0m\u001b[1;34m]\u001b[0m Extracting region signals\n"
            ],
            "text/html": [
              "<pre style=\"white-space:pre;overflow-x:auto;line-height:normal;font-family:Menlo,'DejaVu Sans Mono',consolas,'Courier New',monospace\"><span style=\"color: #000080; text-decoration-color: #000080; font-weight: bold\">[</span><span style=\"color: #000080; text-decoration-color: #000080\">NiftiLabelsMasker.wrapped</span><span style=\"color: #000080; text-decoration-color: #000080; font-weight: bold\">]</span> Extracting region signals\n",
              "</pre>\n"
            ]
          },
          "metadata": {}
        },
        {
          "output_type": "display_data",
          "data": {
            "text/plain": [
              "\u001b[1;34m[\u001b[0m\u001b[34mNiftiLabelsMasker.wrapped\u001b[0m\u001b[1;34m]\u001b[0m Cleaning extracted signals\n"
            ],
            "text/html": [
              "<pre style=\"white-space:pre;overflow-x:auto;line-height:normal;font-family:Menlo,'DejaVu Sans Mono',consolas,'Courier New',monospace\"><span style=\"color: #000080; text-decoration-color: #000080; font-weight: bold\">[</span><span style=\"color: #000080; text-decoration-color: #000080\">NiftiLabelsMasker.wrapped</span><span style=\"color: #000080; text-decoration-color: #000080; font-weight: bold\">]</span> Cleaning extracted signals\n",
              "</pre>\n"
            ]
          },
          "metadata": {}
        },
        {
          "output_type": "stream",
          "name": "stdout",
          "text": [
            "______________________________________________filter_and_extract - 28.8s, 0.5min\n"
          ]
        },
        {
          "output_type": "display_data",
          "data": {
            "text/plain": [
              "\u001b[1;34m[\u001b[0m\u001b[34mNiftiLabelsMasker.wrapped\u001b[0m\u001b[1;34m]\u001b[0m loading data from \n",
              "\u001b[35m/root/nilearn_data/schaefer_2018/\u001b[0m\u001b[95mSchaefer2018_200Parcels_7Networks_order_FSLMNI152_2mm.nii.gz\u001b[0m\n"
            ],
            "text/html": [
              "<pre style=\"white-space:pre;overflow-x:auto;line-height:normal;font-family:Menlo,'DejaVu Sans Mono',consolas,'Courier New',monospace\"><span style=\"color: #000080; text-decoration-color: #000080; font-weight: bold\">[</span><span style=\"color: #000080; text-decoration-color: #000080\">NiftiLabelsMasker.wrapped</span><span style=\"color: #000080; text-decoration-color: #000080; font-weight: bold\">]</span> loading data from \n",
              "<span style=\"color: #800080; text-decoration-color: #800080\">/root/nilearn_data/schaefer_2018/</span><span style=\"color: #ff00ff; text-decoration-color: #ff00ff\">Schaefer2018_200Parcels_7Networks_order_FSLMNI152_2mm.nii.gz</span>\n",
              "</pre>\n"
            ]
          },
          "metadata": {}
        },
        {
          "output_type": "stream",
          "name": "stdout",
          "text": [
            "________________________________________________________________________________\n",
            "[Memory] Calling nilearn.maskers.base_masker.filter_and_extract...\n",
            "filter_and_extract('/content/drive/MyDrive/raw_data/Denoised_p10_rs-3_MNI.nii.gz', <nilearn.maskers.nifti_labels_masker._ExtractionFunctor object at 0x7c5d9ac91f50>, \n",
            "{ 'background_label': 0,\n",
            "  'clean_args': None,\n",
            "  'clean_kwargs': {},\n",
            "  'cmap': 'CMRmap_r',\n",
            "  'detrend': False,\n",
            "  'dtype': None,\n",
            "  'high_pass': None,\n",
            "  'high_variance_confounds': False,\n",
            "  'keep_masked_labels': True,\n",
            "  'labels': None,\n",
            "  'labels_img': '/root/nilearn_data/schaefer_2018/Schaefer2018_200Parcels_7Networks_order_FSLMNI152_2mm.nii.gz',\n",
            "  'low_pass': None,\n",
            "  'lut': None,\n",
            "  'mask_img': None,\n",
            "  'reports': True,\n",
            "  'smoothing_fwhm': None,\n",
            "  'standardize': False,\n",
            "  'standardize_confounds': True,\n",
            "  'strategy': 'mean',\n",
            "  't_r': None,\n",
            "  'target_affine': None,\n",
            "  'target_shape': None}, confounds=None, sample_mask=None, dtype=None, memory=Memory(location=nilearn_cache/joblib), memory_level=1, verbose=1)\n"
          ]
        },
        {
          "output_type": "display_data",
          "data": {
            "text/plain": [
              "\u001b[1;34m[\u001b[0m\u001b[34mNiftiLabelsMasker.wrapped\u001b[0m\u001b[1;34m]\u001b[0m Loading data from \u001b[35m/content/drive/MyDrive/raw_data/\u001b[0m\u001b[95mDenoised_p10_rs-3_MNI.nii.gz\u001b[0m\n"
            ],
            "text/html": [
              "<pre style=\"white-space:pre;overflow-x:auto;line-height:normal;font-family:Menlo,'DejaVu Sans Mono',consolas,'Courier New',monospace\"><span style=\"color: #000080; text-decoration-color: #000080; font-weight: bold\">[</span><span style=\"color: #000080; text-decoration-color: #000080\">NiftiLabelsMasker.wrapped</span><span style=\"color: #000080; text-decoration-color: #000080; font-weight: bold\">]</span> Loading data from <span style=\"color: #800080; text-decoration-color: #800080\">/content/drive/MyDrive/raw_data/</span><span style=\"color: #ff00ff; text-decoration-color: #ff00ff\">Denoised_p10_rs-3_MNI.nii.gz</span>\n",
              "</pre>\n"
            ]
          },
          "metadata": {}
        },
        {
          "output_type": "display_data",
          "data": {
            "text/plain": [
              "\u001b[1;34m[\u001b[0m\u001b[34mNiftiLabelsMasker.wrapped\u001b[0m\u001b[1;34m]\u001b[0m Extracting region signals\n"
            ],
            "text/html": [
              "<pre style=\"white-space:pre;overflow-x:auto;line-height:normal;font-family:Menlo,'DejaVu Sans Mono',consolas,'Courier New',monospace\"><span style=\"color: #000080; text-decoration-color: #000080; font-weight: bold\">[</span><span style=\"color: #000080; text-decoration-color: #000080\">NiftiLabelsMasker.wrapped</span><span style=\"color: #000080; text-decoration-color: #000080; font-weight: bold\">]</span> Extracting region signals\n",
              "</pre>\n"
            ]
          },
          "metadata": {}
        },
        {
          "output_type": "display_data",
          "data": {
            "text/plain": [
              "\u001b[1;34m[\u001b[0m\u001b[34mNiftiLabelsMasker.wrapped\u001b[0m\u001b[1;34m]\u001b[0m Cleaning extracted signals\n"
            ],
            "text/html": [
              "<pre style=\"white-space:pre;overflow-x:auto;line-height:normal;font-family:Menlo,'DejaVu Sans Mono',consolas,'Courier New',monospace\"><span style=\"color: #000080; text-decoration-color: #000080; font-weight: bold\">[</span><span style=\"color: #000080; text-decoration-color: #000080\">NiftiLabelsMasker.wrapped</span><span style=\"color: #000080; text-decoration-color: #000080; font-weight: bold\">]</span> Cleaning extracted signals\n",
              "</pre>\n"
            ]
          },
          "metadata": {}
        },
        {
          "output_type": "stream",
          "name": "stdout",
          "text": [
            "______________________________________________filter_and_extract - 29.2s, 0.5min\n"
          ]
        },
        {
          "output_type": "display_data",
          "data": {
            "text/plain": [
              "\u001b[1;34m[\u001b[0m\u001b[34mNiftiLabelsMasker.wrapped\u001b[0m\u001b[1;34m]\u001b[0m loading data from \n",
              "\u001b[35m/root/nilearn_data/schaefer_2018/\u001b[0m\u001b[95mSchaefer2018_200Parcels_7Networks_order_FSLMNI152_2mm.nii.gz\u001b[0m\n"
            ],
            "text/html": [
              "<pre style=\"white-space:pre;overflow-x:auto;line-height:normal;font-family:Menlo,'DejaVu Sans Mono',consolas,'Courier New',monospace\"><span style=\"color: #000080; text-decoration-color: #000080; font-weight: bold\">[</span><span style=\"color: #000080; text-decoration-color: #000080\">NiftiLabelsMasker.wrapped</span><span style=\"color: #000080; text-decoration-color: #000080; font-weight: bold\">]</span> loading data from \n",
              "<span style=\"color: #800080; text-decoration-color: #800080\">/root/nilearn_data/schaefer_2018/</span><span style=\"color: #ff00ff; text-decoration-color: #ff00ff\">Schaefer2018_200Parcels_7Networks_order_FSLMNI152_2mm.nii.gz</span>\n",
              "</pre>\n"
            ]
          },
          "metadata": {}
        },
        {
          "output_type": "stream",
          "name": "stdout",
          "text": [
            "________________________________________________________________________________\n",
            "[Memory] Calling nilearn.maskers.base_masker.filter_and_extract...\n",
            "filter_and_extract('/content/drive/MyDrive/raw_data/Denoised_p11_rs-1_MNI.nii.gz', <nilearn.maskers.nifti_labels_masker._ExtractionFunctor object at 0x7c5d9ac02510>, \n",
            "{ 'background_label': 0,\n",
            "  'clean_args': None,\n",
            "  'clean_kwargs': {},\n",
            "  'cmap': 'CMRmap_r',\n",
            "  'detrend': False,\n",
            "  'dtype': None,\n",
            "  'high_pass': None,\n",
            "  'high_variance_confounds': False,\n",
            "  'keep_masked_labels': True,\n",
            "  'labels': None,\n",
            "  'labels_img': '/root/nilearn_data/schaefer_2018/Schaefer2018_200Parcels_7Networks_order_FSLMNI152_2mm.nii.gz',\n",
            "  'low_pass': None,\n",
            "  'lut': None,\n",
            "  'mask_img': None,\n",
            "  'reports': True,\n",
            "  'smoothing_fwhm': None,\n",
            "  'standardize': False,\n",
            "  'standardize_confounds': True,\n",
            "  'strategy': 'mean',\n",
            "  't_r': None,\n",
            "  'target_affine': None,\n",
            "  'target_shape': None}, confounds=None, sample_mask=None, dtype=None, memory=Memory(location=nilearn_cache/joblib), memory_level=1, verbose=1)\n"
          ]
        },
        {
          "output_type": "display_data",
          "data": {
            "text/plain": [
              "\u001b[1;34m[\u001b[0m\u001b[34mNiftiLabelsMasker.wrapped\u001b[0m\u001b[1;34m]\u001b[0m Loading data from \u001b[35m/content/drive/MyDrive/raw_data/\u001b[0m\u001b[95mDenoised_p11_rs-1_MNI.nii.gz\u001b[0m\n"
            ],
            "text/html": [
              "<pre style=\"white-space:pre;overflow-x:auto;line-height:normal;font-family:Menlo,'DejaVu Sans Mono',consolas,'Courier New',monospace\"><span style=\"color: #000080; text-decoration-color: #000080; font-weight: bold\">[</span><span style=\"color: #000080; text-decoration-color: #000080\">NiftiLabelsMasker.wrapped</span><span style=\"color: #000080; text-decoration-color: #000080; font-weight: bold\">]</span> Loading data from <span style=\"color: #800080; text-decoration-color: #800080\">/content/drive/MyDrive/raw_data/</span><span style=\"color: #ff00ff; text-decoration-color: #ff00ff\">Denoised_p11_rs-1_MNI.nii.gz</span>\n",
              "</pre>\n"
            ]
          },
          "metadata": {}
        },
        {
          "output_type": "display_data",
          "data": {
            "text/plain": [
              "\u001b[1;34m[\u001b[0m\u001b[34mNiftiLabelsMasker.wrapped\u001b[0m\u001b[1;34m]\u001b[0m Extracting region signals\n"
            ],
            "text/html": [
              "<pre style=\"white-space:pre;overflow-x:auto;line-height:normal;font-family:Menlo,'DejaVu Sans Mono',consolas,'Courier New',monospace\"><span style=\"color: #000080; text-decoration-color: #000080; font-weight: bold\">[</span><span style=\"color: #000080; text-decoration-color: #000080\">NiftiLabelsMasker.wrapped</span><span style=\"color: #000080; text-decoration-color: #000080; font-weight: bold\">]</span> Extracting region signals\n",
              "</pre>\n"
            ]
          },
          "metadata": {}
        },
        {
          "output_type": "display_data",
          "data": {
            "text/plain": [
              "\u001b[1;34m[\u001b[0m\u001b[34mNiftiLabelsMasker.wrapped\u001b[0m\u001b[1;34m]\u001b[0m Cleaning extracted signals\n"
            ],
            "text/html": [
              "<pre style=\"white-space:pre;overflow-x:auto;line-height:normal;font-family:Menlo,'DejaVu Sans Mono',consolas,'Courier New',monospace\"><span style=\"color: #000080; text-decoration-color: #000080; font-weight: bold\">[</span><span style=\"color: #000080; text-decoration-color: #000080\">NiftiLabelsMasker.wrapped</span><span style=\"color: #000080; text-decoration-color: #000080; font-weight: bold\">]</span> Cleaning extracted signals\n",
              "</pre>\n"
            ]
          },
          "metadata": {}
        },
        {
          "output_type": "stream",
          "name": "stdout",
          "text": [
            "______________________________________________filter_and_extract - 28.1s, 0.5min\n"
          ]
        },
        {
          "output_type": "display_data",
          "data": {
            "text/plain": [
              "\u001b[1;34m[\u001b[0m\u001b[34mNiftiLabelsMasker.wrapped\u001b[0m\u001b[1;34m]\u001b[0m loading data from \n",
              "\u001b[35m/root/nilearn_data/schaefer_2018/\u001b[0m\u001b[95mSchaefer2018_200Parcels_7Networks_order_FSLMNI152_2mm.nii.gz\u001b[0m\n"
            ],
            "text/html": [
              "<pre style=\"white-space:pre;overflow-x:auto;line-height:normal;font-family:Menlo,'DejaVu Sans Mono',consolas,'Courier New',monospace\"><span style=\"color: #000080; text-decoration-color: #000080; font-weight: bold\">[</span><span style=\"color: #000080; text-decoration-color: #000080\">NiftiLabelsMasker.wrapped</span><span style=\"color: #000080; text-decoration-color: #000080; font-weight: bold\">]</span> loading data from \n",
              "<span style=\"color: #800080; text-decoration-color: #800080\">/root/nilearn_data/schaefer_2018/</span><span style=\"color: #ff00ff; text-decoration-color: #ff00ff\">Schaefer2018_200Parcels_7Networks_order_FSLMNI152_2mm.nii.gz</span>\n",
              "</pre>\n"
            ]
          },
          "metadata": {}
        },
        {
          "output_type": "stream",
          "name": "stdout",
          "text": [
            "________________________________________________________________________________\n",
            "[Memory] Calling nilearn.maskers.base_masker.filter_and_extract...\n",
            "filter_and_extract('/content/drive/MyDrive/raw_data/Denoised_p11_rs-2_MNI.nii.gz', <nilearn.maskers.nifti_labels_masker._ExtractionFunctor object at 0x7c5d9abd30d0>, \n",
            "{ 'background_label': 0,\n",
            "  'clean_args': None,\n",
            "  'clean_kwargs': {},\n",
            "  'cmap': 'CMRmap_r',\n",
            "  'detrend': False,\n",
            "  'dtype': None,\n",
            "  'high_pass': None,\n",
            "  'high_variance_confounds': False,\n",
            "  'keep_masked_labels': True,\n",
            "  'labels': None,\n",
            "  'labels_img': '/root/nilearn_data/schaefer_2018/Schaefer2018_200Parcels_7Networks_order_FSLMNI152_2mm.nii.gz',\n",
            "  'low_pass': None,\n",
            "  'lut': None,\n",
            "  'mask_img': None,\n",
            "  'reports': True,\n",
            "  'smoothing_fwhm': None,\n",
            "  'standardize': False,\n",
            "  'standardize_confounds': True,\n",
            "  'strategy': 'mean',\n",
            "  't_r': None,\n",
            "  'target_affine': None,\n",
            "  'target_shape': None}, confounds=None, sample_mask=None, dtype=None, memory=Memory(location=nilearn_cache/joblib), memory_level=1, verbose=1)\n"
          ]
        },
        {
          "output_type": "display_data",
          "data": {
            "text/plain": [
              "\u001b[1;34m[\u001b[0m\u001b[34mNiftiLabelsMasker.wrapped\u001b[0m\u001b[1;34m]\u001b[0m Loading data from \u001b[35m/content/drive/MyDrive/raw_data/\u001b[0m\u001b[95mDenoised_p11_rs-2_MNI.nii.gz\u001b[0m\n"
            ],
            "text/html": [
              "<pre style=\"white-space:pre;overflow-x:auto;line-height:normal;font-family:Menlo,'DejaVu Sans Mono',consolas,'Courier New',monospace\"><span style=\"color: #000080; text-decoration-color: #000080; font-weight: bold\">[</span><span style=\"color: #000080; text-decoration-color: #000080\">NiftiLabelsMasker.wrapped</span><span style=\"color: #000080; text-decoration-color: #000080; font-weight: bold\">]</span> Loading data from <span style=\"color: #800080; text-decoration-color: #800080\">/content/drive/MyDrive/raw_data/</span><span style=\"color: #ff00ff; text-decoration-color: #ff00ff\">Denoised_p11_rs-2_MNI.nii.gz</span>\n",
              "</pre>\n"
            ]
          },
          "metadata": {}
        },
        {
          "output_type": "display_data",
          "data": {
            "text/plain": [
              "\u001b[1;34m[\u001b[0m\u001b[34mNiftiLabelsMasker.wrapped\u001b[0m\u001b[1;34m]\u001b[0m Extracting region signals\n"
            ],
            "text/html": [
              "<pre style=\"white-space:pre;overflow-x:auto;line-height:normal;font-family:Menlo,'DejaVu Sans Mono',consolas,'Courier New',monospace\"><span style=\"color: #000080; text-decoration-color: #000080; font-weight: bold\">[</span><span style=\"color: #000080; text-decoration-color: #000080\">NiftiLabelsMasker.wrapped</span><span style=\"color: #000080; text-decoration-color: #000080; font-weight: bold\">]</span> Extracting region signals\n",
              "</pre>\n"
            ]
          },
          "metadata": {}
        },
        {
          "output_type": "display_data",
          "data": {
            "text/plain": [
              "\u001b[1;34m[\u001b[0m\u001b[34mNiftiLabelsMasker.wrapped\u001b[0m\u001b[1;34m]\u001b[0m Cleaning extracted signals\n"
            ],
            "text/html": [
              "<pre style=\"white-space:pre;overflow-x:auto;line-height:normal;font-family:Menlo,'DejaVu Sans Mono',consolas,'Courier New',monospace\"><span style=\"color: #000080; text-decoration-color: #000080; font-weight: bold\">[</span><span style=\"color: #000080; text-decoration-color: #000080\">NiftiLabelsMasker.wrapped</span><span style=\"color: #000080; text-decoration-color: #000080; font-weight: bold\">]</span> Cleaning extracted signals\n",
              "</pre>\n"
            ]
          },
          "metadata": {}
        },
        {
          "output_type": "stream",
          "name": "stdout",
          "text": [
            "______________________________________________filter_and_extract - 28.4s, 0.5min\n"
          ]
        },
        {
          "output_type": "display_data",
          "data": {
            "text/plain": [
              "\u001b[1;34m[\u001b[0m\u001b[34mNiftiLabelsMasker.wrapped\u001b[0m\u001b[1;34m]\u001b[0m loading data from \n",
              "\u001b[35m/root/nilearn_data/schaefer_2018/\u001b[0m\u001b[95mSchaefer2018_200Parcels_7Networks_order_FSLMNI152_2mm.nii.gz\u001b[0m\n"
            ],
            "text/html": [
              "<pre style=\"white-space:pre;overflow-x:auto;line-height:normal;font-family:Menlo,'DejaVu Sans Mono',consolas,'Courier New',monospace\"><span style=\"color: #000080; text-decoration-color: #000080; font-weight: bold\">[</span><span style=\"color: #000080; text-decoration-color: #000080\">NiftiLabelsMasker.wrapped</span><span style=\"color: #000080; text-decoration-color: #000080; font-weight: bold\">]</span> loading data from \n",
              "<span style=\"color: #800080; text-decoration-color: #800080\">/root/nilearn_data/schaefer_2018/</span><span style=\"color: #ff00ff; text-decoration-color: #ff00ff\">Schaefer2018_200Parcels_7Networks_order_FSLMNI152_2mm.nii.gz</span>\n",
              "</pre>\n"
            ]
          },
          "metadata": {}
        },
        {
          "output_type": "stream",
          "name": "stdout",
          "text": [
            "________________________________________________________________________________\n",
            "[Memory] Calling nilearn.maskers.base_masker.filter_and_extract...\n",
            "filter_and_extract('/content/drive/MyDrive/raw_data/Denoised_p11_rs-3_MNI.nii.gz', <nilearn.maskers.nifti_labels_masker._ExtractionFunctor object at 0x7c5d9b020090>, \n",
            "{ 'background_label': 0,\n",
            "  'clean_args': None,\n",
            "  'clean_kwargs': {},\n",
            "  'cmap': 'CMRmap_r',\n",
            "  'detrend': False,\n",
            "  'dtype': None,\n",
            "  'high_pass': None,\n",
            "  'high_variance_confounds': False,\n",
            "  'keep_masked_labels': True,\n",
            "  'labels': None,\n",
            "  'labels_img': '/root/nilearn_data/schaefer_2018/Schaefer2018_200Parcels_7Networks_order_FSLMNI152_2mm.nii.gz',\n",
            "  'low_pass': None,\n",
            "  'lut': None,\n",
            "  'mask_img': None,\n",
            "  'reports': True,\n",
            "  'smoothing_fwhm': None,\n",
            "  'standardize': False,\n",
            "  'standardize_confounds': True,\n",
            "  'strategy': 'mean',\n",
            "  't_r': None,\n",
            "  'target_affine': None,\n",
            "  'target_shape': None}, confounds=None, sample_mask=None, dtype=None, memory=Memory(location=nilearn_cache/joblib), memory_level=1, verbose=1)\n"
          ]
        },
        {
          "output_type": "display_data",
          "data": {
            "text/plain": [
              "\u001b[1;34m[\u001b[0m\u001b[34mNiftiLabelsMasker.wrapped\u001b[0m\u001b[1;34m]\u001b[0m Loading data from \u001b[35m/content/drive/MyDrive/raw_data/\u001b[0m\u001b[95mDenoised_p11_rs-3_MNI.nii.gz\u001b[0m\n"
            ],
            "text/html": [
              "<pre style=\"white-space:pre;overflow-x:auto;line-height:normal;font-family:Menlo,'DejaVu Sans Mono',consolas,'Courier New',monospace\"><span style=\"color: #000080; text-decoration-color: #000080; font-weight: bold\">[</span><span style=\"color: #000080; text-decoration-color: #000080\">NiftiLabelsMasker.wrapped</span><span style=\"color: #000080; text-decoration-color: #000080; font-weight: bold\">]</span> Loading data from <span style=\"color: #800080; text-decoration-color: #800080\">/content/drive/MyDrive/raw_data/</span><span style=\"color: #ff00ff; text-decoration-color: #ff00ff\">Denoised_p11_rs-3_MNI.nii.gz</span>\n",
              "</pre>\n"
            ]
          },
          "metadata": {}
        },
        {
          "output_type": "display_data",
          "data": {
            "text/plain": [
              "\u001b[1;34m[\u001b[0m\u001b[34mNiftiLabelsMasker.wrapped\u001b[0m\u001b[1;34m]\u001b[0m Extracting region signals\n"
            ],
            "text/html": [
              "<pre style=\"white-space:pre;overflow-x:auto;line-height:normal;font-family:Menlo,'DejaVu Sans Mono',consolas,'Courier New',monospace\"><span style=\"color: #000080; text-decoration-color: #000080; font-weight: bold\">[</span><span style=\"color: #000080; text-decoration-color: #000080\">NiftiLabelsMasker.wrapped</span><span style=\"color: #000080; text-decoration-color: #000080; font-weight: bold\">]</span> Extracting region signals\n",
              "</pre>\n"
            ]
          },
          "metadata": {}
        },
        {
          "output_type": "display_data",
          "data": {
            "text/plain": [
              "\u001b[1;34m[\u001b[0m\u001b[34mNiftiLabelsMasker.wrapped\u001b[0m\u001b[1;34m]\u001b[0m Cleaning extracted signals\n"
            ],
            "text/html": [
              "<pre style=\"white-space:pre;overflow-x:auto;line-height:normal;font-family:Menlo,'DejaVu Sans Mono',consolas,'Courier New',monospace\"><span style=\"color: #000080; text-decoration-color: #000080; font-weight: bold\">[</span><span style=\"color: #000080; text-decoration-color: #000080\">NiftiLabelsMasker.wrapped</span><span style=\"color: #000080; text-decoration-color: #000080; font-weight: bold\">]</span> Cleaning extracted signals\n",
              "</pre>\n"
            ]
          },
          "metadata": {}
        },
        {
          "output_type": "stream",
          "name": "stdout",
          "text": [
            "______________________________________________filter_and_extract - 27.7s, 0.5min\n"
          ]
        },
        {
          "output_type": "display_data",
          "data": {
            "text/plain": [
              "\u001b[1;34m[\u001b[0m\u001b[34mNiftiLabelsMasker.wrapped\u001b[0m\u001b[1;34m]\u001b[0m loading data from \n",
              "\u001b[35m/root/nilearn_data/schaefer_2018/\u001b[0m\u001b[95mSchaefer2018_200Parcels_7Networks_order_FSLMNI152_2mm.nii.gz\u001b[0m\n"
            ],
            "text/html": [
              "<pre style=\"white-space:pre;overflow-x:auto;line-height:normal;font-family:Menlo,'DejaVu Sans Mono',consolas,'Courier New',monospace\"><span style=\"color: #000080; text-decoration-color: #000080; font-weight: bold\">[</span><span style=\"color: #000080; text-decoration-color: #000080\">NiftiLabelsMasker.wrapped</span><span style=\"color: #000080; text-decoration-color: #000080; font-weight: bold\">]</span> loading data from \n",
              "<span style=\"color: #800080; text-decoration-color: #800080\">/root/nilearn_data/schaefer_2018/</span><span style=\"color: #ff00ff; text-decoration-color: #ff00ff\">Schaefer2018_200Parcels_7Networks_order_FSLMNI152_2mm.nii.gz</span>\n",
              "</pre>\n"
            ]
          },
          "metadata": {}
        },
        {
          "output_type": "stream",
          "name": "stdout",
          "text": [
            "________________________________________________________________________________\n",
            "[Memory] Calling nilearn.maskers.base_masker.filter_and_extract...\n",
            "filter_and_extract('/content/drive/MyDrive/raw_data/Denoised_p12_rs-1_MNI.nii.gz', <nilearn.maskers.nifti_labels_masker._ExtractionFunctor object at 0x7c5ddc4b4a50>, \n",
            "{ 'background_label': 0,\n",
            "  'clean_args': None,\n",
            "  'clean_kwargs': {},\n",
            "  'cmap': 'CMRmap_r',\n",
            "  'detrend': False,\n",
            "  'dtype': None,\n",
            "  'high_pass': None,\n",
            "  'high_variance_confounds': False,\n",
            "  'keep_masked_labels': True,\n",
            "  'labels': None,\n",
            "  'labels_img': '/root/nilearn_data/schaefer_2018/Schaefer2018_200Parcels_7Networks_order_FSLMNI152_2mm.nii.gz',\n",
            "  'low_pass': None,\n",
            "  'lut': None,\n",
            "  'mask_img': None,\n",
            "  'reports': True,\n",
            "  'smoothing_fwhm': None,\n",
            "  'standardize': False,\n",
            "  'standardize_confounds': True,\n",
            "  'strategy': 'mean',\n",
            "  't_r': None,\n",
            "  'target_affine': None,\n",
            "  'target_shape': None}, confounds=None, sample_mask=None, dtype=None, memory=Memory(location=nilearn_cache/joblib), memory_level=1, verbose=1)\n"
          ]
        },
        {
          "output_type": "display_data",
          "data": {
            "text/plain": [
              "\u001b[1;34m[\u001b[0m\u001b[34mNiftiLabelsMasker.wrapped\u001b[0m\u001b[1;34m]\u001b[0m Loading data from \u001b[35m/content/drive/MyDrive/raw_data/\u001b[0m\u001b[95mDenoised_p12_rs-1_MNI.nii.gz\u001b[0m\n"
            ],
            "text/html": [
              "<pre style=\"white-space:pre;overflow-x:auto;line-height:normal;font-family:Menlo,'DejaVu Sans Mono',consolas,'Courier New',monospace\"><span style=\"color: #000080; text-decoration-color: #000080; font-weight: bold\">[</span><span style=\"color: #000080; text-decoration-color: #000080\">NiftiLabelsMasker.wrapped</span><span style=\"color: #000080; text-decoration-color: #000080; font-weight: bold\">]</span> Loading data from <span style=\"color: #800080; text-decoration-color: #800080\">/content/drive/MyDrive/raw_data/</span><span style=\"color: #ff00ff; text-decoration-color: #ff00ff\">Denoised_p12_rs-1_MNI.nii.gz</span>\n",
              "</pre>\n"
            ]
          },
          "metadata": {}
        },
        {
          "output_type": "display_data",
          "data": {
            "text/plain": [
              "\u001b[1;34m[\u001b[0m\u001b[34mNiftiLabelsMasker.wrapped\u001b[0m\u001b[1;34m]\u001b[0m Extracting region signals\n"
            ],
            "text/html": [
              "<pre style=\"white-space:pre;overflow-x:auto;line-height:normal;font-family:Menlo,'DejaVu Sans Mono',consolas,'Courier New',monospace\"><span style=\"color: #000080; text-decoration-color: #000080; font-weight: bold\">[</span><span style=\"color: #000080; text-decoration-color: #000080\">NiftiLabelsMasker.wrapped</span><span style=\"color: #000080; text-decoration-color: #000080; font-weight: bold\">]</span> Extracting region signals\n",
              "</pre>\n"
            ]
          },
          "metadata": {}
        },
        {
          "output_type": "display_data",
          "data": {
            "text/plain": [
              "\u001b[1;34m[\u001b[0m\u001b[34mNiftiLabelsMasker.wrapped\u001b[0m\u001b[1;34m]\u001b[0m Cleaning extracted signals\n"
            ],
            "text/html": [
              "<pre style=\"white-space:pre;overflow-x:auto;line-height:normal;font-family:Menlo,'DejaVu Sans Mono',consolas,'Courier New',monospace\"><span style=\"color: #000080; text-decoration-color: #000080; font-weight: bold\">[</span><span style=\"color: #000080; text-decoration-color: #000080\">NiftiLabelsMasker.wrapped</span><span style=\"color: #000080; text-decoration-color: #000080; font-weight: bold\">]</span> Cleaning extracted signals\n",
              "</pre>\n"
            ]
          },
          "metadata": {}
        },
        {
          "output_type": "stream",
          "name": "stdout",
          "text": [
            "______________________________________________filter_and_extract - 28.9s, 0.5min\n"
          ]
        },
        {
          "output_type": "display_data",
          "data": {
            "text/plain": [
              "\u001b[1;34m[\u001b[0m\u001b[34mNiftiLabelsMasker.wrapped\u001b[0m\u001b[1;34m]\u001b[0m loading data from \n",
              "\u001b[35m/root/nilearn_data/schaefer_2018/\u001b[0m\u001b[95mSchaefer2018_200Parcels_7Networks_order_FSLMNI152_2mm.nii.gz\u001b[0m\n"
            ],
            "text/html": [
              "<pre style=\"white-space:pre;overflow-x:auto;line-height:normal;font-family:Menlo,'DejaVu Sans Mono',consolas,'Courier New',monospace\"><span style=\"color: #000080; text-decoration-color: #000080; font-weight: bold\">[</span><span style=\"color: #000080; text-decoration-color: #000080\">NiftiLabelsMasker.wrapped</span><span style=\"color: #000080; text-decoration-color: #000080; font-weight: bold\">]</span> loading data from \n",
              "<span style=\"color: #800080; text-decoration-color: #800080\">/root/nilearn_data/schaefer_2018/</span><span style=\"color: #ff00ff; text-decoration-color: #ff00ff\">Schaefer2018_200Parcels_7Networks_order_FSLMNI152_2mm.nii.gz</span>\n",
              "</pre>\n"
            ]
          },
          "metadata": {}
        },
        {
          "output_type": "stream",
          "name": "stdout",
          "text": [
            "________________________________________________________________________________\n",
            "[Memory] Calling nilearn.maskers.base_masker.filter_and_extract...\n",
            "filter_and_extract('/content/drive/MyDrive/raw_data/Denoised_p12_rs-2_MNI.nii.gz', <nilearn.maskers.nifti_labels_masker._ExtractionFunctor object at 0x7c5d9ac8ffd0>, \n",
            "{ 'background_label': 0,\n",
            "  'clean_args': None,\n",
            "  'clean_kwargs': {},\n",
            "  'cmap': 'CMRmap_r',\n",
            "  'detrend': False,\n",
            "  'dtype': None,\n",
            "  'high_pass': None,\n",
            "  'high_variance_confounds': False,\n",
            "  'keep_masked_labels': True,\n",
            "  'labels': None,\n",
            "  'labels_img': '/root/nilearn_data/schaefer_2018/Schaefer2018_200Parcels_7Networks_order_FSLMNI152_2mm.nii.gz',\n",
            "  'low_pass': None,\n",
            "  'lut': None,\n",
            "  'mask_img': None,\n",
            "  'reports': True,\n",
            "  'smoothing_fwhm': None,\n",
            "  'standardize': False,\n",
            "  'standardize_confounds': True,\n",
            "  'strategy': 'mean',\n",
            "  't_r': None,\n",
            "  'target_affine': None,\n",
            "  'target_shape': None}, confounds=None, sample_mask=None, dtype=None, memory=Memory(location=nilearn_cache/joblib), memory_level=1, verbose=1)\n"
          ]
        },
        {
          "output_type": "display_data",
          "data": {
            "text/plain": [
              "\u001b[1;34m[\u001b[0m\u001b[34mNiftiLabelsMasker.wrapped\u001b[0m\u001b[1;34m]\u001b[0m Loading data from \u001b[35m/content/drive/MyDrive/raw_data/\u001b[0m\u001b[95mDenoised_p12_rs-2_MNI.nii.gz\u001b[0m\n"
            ],
            "text/html": [
              "<pre style=\"white-space:pre;overflow-x:auto;line-height:normal;font-family:Menlo,'DejaVu Sans Mono',consolas,'Courier New',monospace\"><span style=\"color: #000080; text-decoration-color: #000080; font-weight: bold\">[</span><span style=\"color: #000080; text-decoration-color: #000080\">NiftiLabelsMasker.wrapped</span><span style=\"color: #000080; text-decoration-color: #000080; font-weight: bold\">]</span> Loading data from <span style=\"color: #800080; text-decoration-color: #800080\">/content/drive/MyDrive/raw_data/</span><span style=\"color: #ff00ff; text-decoration-color: #ff00ff\">Denoised_p12_rs-2_MNI.nii.gz</span>\n",
              "</pre>\n"
            ]
          },
          "metadata": {}
        },
        {
          "output_type": "display_data",
          "data": {
            "text/plain": [
              "\u001b[1;34m[\u001b[0m\u001b[34mNiftiLabelsMasker.wrapped\u001b[0m\u001b[1;34m]\u001b[0m Extracting region signals\n"
            ],
            "text/html": [
              "<pre style=\"white-space:pre;overflow-x:auto;line-height:normal;font-family:Menlo,'DejaVu Sans Mono',consolas,'Courier New',monospace\"><span style=\"color: #000080; text-decoration-color: #000080; font-weight: bold\">[</span><span style=\"color: #000080; text-decoration-color: #000080\">NiftiLabelsMasker.wrapped</span><span style=\"color: #000080; text-decoration-color: #000080; font-weight: bold\">]</span> Extracting region signals\n",
              "</pre>\n"
            ]
          },
          "metadata": {}
        },
        {
          "output_type": "display_data",
          "data": {
            "text/plain": [
              "\u001b[1;34m[\u001b[0m\u001b[34mNiftiLabelsMasker.wrapped\u001b[0m\u001b[1;34m]\u001b[0m Cleaning extracted signals\n"
            ],
            "text/html": [
              "<pre style=\"white-space:pre;overflow-x:auto;line-height:normal;font-family:Menlo,'DejaVu Sans Mono',consolas,'Courier New',monospace\"><span style=\"color: #000080; text-decoration-color: #000080; font-weight: bold\">[</span><span style=\"color: #000080; text-decoration-color: #000080\">NiftiLabelsMasker.wrapped</span><span style=\"color: #000080; text-decoration-color: #000080; font-weight: bold\">]</span> Cleaning extracted signals\n",
              "</pre>\n"
            ]
          },
          "metadata": {}
        },
        {
          "output_type": "stream",
          "name": "stdout",
          "text": [
            "______________________________________________filter_and_extract - 28.6s, 0.5min\n"
          ]
        },
        {
          "output_type": "display_data",
          "data": {
            "text/plain": [
              "\u001b[1;34m[\u001b[0m\u001b[34mNiftiLabelsMasker.wrapped\u001b[0m\u001b[1;34m]\u001b[0m loading data from \n",
              "\u001b[35m/root/nilearn_data/schaefer_2018/\u001b[0m\u001b[95mSchaefer2018_200Parcels_7Networks_order_FSLMNI152_2mm.nii.gz\u001b[0m\n"
            ],
            "text/html": [
              "<pre style=\"white-space:pre;overflow-x:auto;line-height:normal;font-family:Menlo,'DejaVu Sans Mono',consolas,'Courier New',monospace\"><span style=\"color: #000080; text-decoration-color: #000080; font-weight: bold\">[</span><span style=\"color: #000080; text-decoration-color: #000080\">NiftiLabelsMasker.wrapped</span><span style=\"color: #000080; text-decoration-color: #000080; font-weight: bold\">]</span> loading data from \n",
              "<span style=\"color: #800080; text-decoration-color: #800080\">/root/nilearn_data/schaefer_2018/</span><span style=\"color: #ff00ff; text-decoration-color: #ff00ff\">Schaefer2018_200Parcels_7Networks_order_FSLMNI152_2mm.nii.gz</span>\n",
              "</pre>\n"
            ]
          },
          "metadata": {}
        },
        {
          "output_type": "stream",
          "name": "stdout",
          "text": [
            "________________________________________________________________________________\n",
            "[Memory] Calling nilearn.maskers.base_masker.filter_and_extract...\n",
            "filter_and_extract('/content/drive/MyDrive/raw_data/Denoised_p12_rs-3_MNI.nii.gz', <nilearn.maskers.nifti_labels_masker._ExtractionFunctor object at 0x7c5d9ad6f050>, \n",
            "{ 'background_label': 0,\n",
            "  'clean_args': None,\n",
            "  'clean_kwargs': {},\n",
            "  'cmap': 'CMRmap_r',\n",
            "  'detrend': False,\n",
            "  'dtype': None,\n",
            "  'high_pass': None,\n",
            "  'high_variance_confounds': False,\n",
            "  'keep_masked_labels': True,\n",
            "  'labels': None,\n",
            "  'labels_img': '/root/nilearn_data/schaefer_2018/Schaefer2018_200Parcels_7Networks_order_FSLMNI152_2mm.nii.gz',\n",
            "  'low_pass': None,\n",
            "  'lut': None,\n",
            "  'mask_img': None,\n",
            "  'reports': True,\n",
            "  'smoothing_fwhm': None,\n",
            "  'standardize': False,\n",
            "  'standardize_confounds': True,\n",
            "  'strategy': 'mean',\n",
            "  't_r': None,\n",
            "  'target_affine': None,\n",
            "  'target_shape': None}, confounds=None, sample_mask=None, dtype=None, memory=Memory(location=nilearn_cache/joblib), memory_level=1, verbose=1)\n"
          ]
        },
        {
          "output_type": "display_data",
          "data": {
            "text/plain": [
              "\u001b[1;34m[\u001b[0m\u001b[34mNiftiLabelsMasker.wrapped\u001b[0m\u001b[1;34m]\u001b[0m Loading data from \u001b[35m/content/drive/MyDrive/raw_data/\u001b[0m\u001b[95mDenoised_p12_rs-3_MNI.nii.gz\u001b[0m\n"
            ],
            "text/html": [
              "<pre style=\"white-space:pre;overflow-x:auto;line-height:normal;font-family:Menlo,'DejaVu Sans Mono',consolas,'Courier New',monospace\"><span style=\"color: #000080; text-decoration-color: #000080; font-weight: bold\">[</span><span style=\"color: #000080; text-decoration-color: #000080\">NiftiLabelsMasker.wrapped</span><span style=\"color: #000080; text-decoration-color: #000080; font-weight: bold\">]</span> Loading data from <span style=\"color: #800080; text-decoration-color: #800080\">/content/drive/MyDrive/raw_data/</span><span style=\"color: #ff00ff; text-decoration-color: #ff00ff\">Denoised_p12_rs-3_MNI.nii.gz</span>\n",
              "</pre>\n"
            ]
          },
          "metadata": {}
        },
        {
          "output_type": "display_data",
          "data": {
            "text/plain": [
              "\u001b[1;34m[\u001b[0m\u001b[34mNiftiLabelsMasker.wrapped\u001b[0m\u001b[1;34m]\u001b[0m Extracting region signals\n"
            ],
            "text/html": [
              "<pre style=\"white-space:pre;overflow-x:auto;line-height:normal;font-family:Menlo,'DejaVu Sans Mono',consolas,'Courier New',monospace\"><span style=\"color: #000080; text-decoration-color: #000080; font-weight: bold\">[</span><span style=\"color: #000080; text-decoration-color: #000080\">NiftiLabelsMasker.wrapped</span><span style=\"color: #000080; text-decoration-color: #000080; font-weight: bold\">]</span> Extracting region signals\n",
              "</pre>\n"
            ]
          },
          "metadata": {}
        },
        {
          "output_type": "display_data",
          "data": {
            "text/plain": [
              "\u001b[1;34m[\u001b[0m\u001b[34mNiftiLabelsMasker.wrapped\u001b[0m\u001b[1;34m]\u001b[0m Cleaning extracted signals\n"
            ],
            "text/html": [
              "<pre style=\"white-space:pre;overflow-x:auto;line-height:normal;font-family:Menlo,'DejaVu Sans Mono',consolas,'Courier New',monospace\"><span style=\"color: #000080; text-decoration-color: #000080; font-weight: bold\">[</span><span style=\"color: #000080; text-decoration-color: #000080\">NiftiLabelsMasker.wrapped</span><span style=\"color: #000080; text-decoration-color: #000080; font-weight: bold\">]</span> Cleaning extracted signals\n",
              "</pre>\n"
            ]
          },
          "metadata": {}
        },
        {
          "output_type": "stream",
          "name": "stdout",
          "text": [
            "______________________________________________filter_and_extract - 28.9s, 0.5min\n"
          ]
        },
        {
          "output_type": "display_data",
          "data": {
            "text/plain": [
              "\u001b[1;34m[\u001b[0m\u001b[34mNiftiLabelsMasker.wrapped\u001b[0m\u001b[1;34m]\u001b[0m loading data from \n",
              "\u001b[35m/root/nilearn_data/schaefer_2018/\u001b[0m\u001b[95mSchaefer2018_200Parcels_7Networks_order_FSLMNI152_2mm.nii.gz\u001b[0m\n"
            ],
            "text/html": [
              "<pre style=\"white-space:pre;overflow-x:auto;line-height:normal;font-family:Menlo,'DejaVu Sans Mono',consolas,'Courier New',monospace\"><span style=\"color: #000080; text-decoration-color: #000080; font-weight: bold\">[</span><span style=\"color: #000080; text-decoration-color: #000080\">NiftiLabelsMasker.wrapped</span><span style=\"color: #000080; text-decoration-color: #000080; font-weight: bold\">]</span> loading data from \n",
              "<span style=\"color: #800080; text-decoration-color: #800080\">/root/nilearn_data/schaefer_2018/</span><span style=\"color: #ff00ff; text-decoration-color: #ff00ff\">Schaefer2018_200Parcels_7Networks_order_FSLMNI152_2mm.nii.gz</span>\n",
              "</pre>\n"
            ]
          },
          "metadata": {}
        },
        {
          "output_type": "stream",
          "name": "stdout",
          "text": [
            "________________________________________________________________________________\n",
            "[Memory] Calling nilearn.maskers.base_masker.filter_and_extract...\n",
            "filter_and_extract('/content/drive/MyDrive/raw_data/Denoised_p13_rs-1_MNI.nii.gz', <nilearn.maskers.nifti_labels_masker._ExtractionFunctor object at 0x7c5d9b049f90>, \n",
            "{ 'background_label': 0,\n",
            "  'clean_args': None,\n",
            "  'clean_kwargs': {},\n",
            "  'cmap': 'CMRmap_r',\n",
            "  'detrend': False,\n",
            "  'dtype': None,\n",
            "  'high_pass': None,\n",
            "  'high_variance_confounds': False,\n",
            "  'keep_masked_labels': True,\n",
            "  'labels': None,\n",
            "  'labels_img': '/root/nilearn_data/schaefer_2018/Schaefer2018_200Parcels_7Networks_order_FSLMNI152_2mm.nii.gz',\n",
            "  'low_pass': None,\n",
            "  'lut': None,\n",
            "  'mask_img': None,\n",
            "  'reports': True,\n",
            "  'smoothing_fwhm': None,\n",
            "  'standardize': False,\n",
            "  'standardize_confounds': True,\n",
            "  'strategy': 'mean',\n",
            "  't_r': None,\n",
            "  'target_affine': None,\n",
            "  'target_shape': None}, confounds=None, sample_mask=None, dtype=None, memory=Memory(location=nilearn_cache/joblib), memory_level=1, verbose=1)\n"
          ]
        },
        {
          "output_type": "display_data",
          "data": {
            "text/plain": [
              "\u001b[1;34m[\u001b[0m\u001b[34mNiftiLabelsMasker.wrapped\u001b[0m\u001b[1;34m]\u001b[0m Loading data from \u001b[35m/content/drive/MyDrive/raw_data/\u001b[0m\u001b[95mDenoised_p13_rs-1_MNI.nii.gz\u001b[0m\n"
            ],
            "text/html": [
              "<pre style=\"white-space:pre;overflow-x:auto;line-height:normal;font-family:Menlo,'DejaVu Sans Mono',consolas,'Courier New',monospace\"><span style=\"color: #000080; text-decoration-color: #000080; font-weight: bold\">[</span><span style=\"color: #000080; text-decoration-color: #000080\">NiftiLabelsMasker.wrapped</span><span style=\"color: #000080; text-decoration-color: #000080; font-weight: bold\">]</span> Loading data from <span style=\"color: #800080; text-decoration-color: #800080\">/content/drive/MyDrive/raw_data/</span><span style=\"color: #ff00ff; text-decoration-color: #ff00ff\">Denoised_p13_rs-1_MNI.nii.gz</span>\n",
              "</pre>\n"
            ]
          },
          "metadata": {}
        },
        {
          "output_type": "display_data",
          "data": {
            "text/plain": [
              "\u001b[1;34m[\u001b[0m\u001b[34mNiftiLabelsMasker.wrapped\u001b[0m\u001b[1;34m]\u001b[0m Extracting region signals\n"
            ],
            "text/html": [
              "<pre style=\"white-space:pre;overflow-x:auto;line-height:normal;font-family:Menlo,'DejaVu Sans Mono',consolas,'Courier New',monospace\"><span style=\"color: #000080; text-decoration-color: #000080; font-weight: bold\">[</span><span style=\"color: #000080; text-decoration-color: #000080\">NiftiLabelsMasker.wrapped</span><span style=\"color: #000080; text-decoration-color: #000080; font-weight: bold\">]</span> Extracting region signals\n",
              "</pre>\n"
            ]
          },
          "metadata": {}
        },
        {
          "output_type": "display_data",
          "data": {
            "text/plain": [
              "\u001b[1;34m[\u001b[0m\u001b[34mNiftiLabelsMasker.wrapped\u001b[0m\u001b[1;34m]\u001b[0m Cleaning extracted signals\n"
            ],
            "text/html": [
              "<pre style=\"white-space:pre;overflow-x:auto;line-height:normal;font-family:Menlo,'DejaVu Sans Mono',consolas,'Courier New',monospace\"><span style=\"color: #000080; text-decoration-color: #000080; font-weight: bold\">[</span><span style=\"color: #000080; text-decoration-color: #000080\">NiftiLabelsMasker.wrapped</span><span style=\"color: #000080; text-decoration-color: #000080; font-weight: bold\">]</span> Cleaning extracted signals\n",
              "</pre>\n"
            ]
          },
          "metadata": {}
        },
        {
          "output_type": "stream",
          "name": "stdout",
          "text": [
            "______________________________________________filter_and_extract - 27.8s, 0.5min\n"
          ]
        },
        {
          "output_type": "display_data",
          "data": {
            "text/plain": [
              "\u001b[1;34m[\u001b[0m\u001b[34mNiftiLabelsMasker.wrapped\u001b[0m\u001b[1;34m]\u001b[0m loading data from \n",
              "\u001b[35m/root/nilearn_data/schaefer_2018/\u001b[0m\u001b[95mSchaefer2018_200Parcels_7Networks_order_FSLMNI152_2mm.nii.gz\u001b[0m\n"
            ],
            "text/html": [
              "<pre style=\"white-space:pre;overflow-x:auto;line-height:normal;font-family:Menlo,'DejaVu Sans Mono',consolas,'Courier New',monospace\"><span style=\"color: #000080; text-decoration-color: #000080; font-weight: bold\">[</span><span style=\"color: #000080; text-decoration-color: #000080\">NiftiLabelsMasker.wrapped</span><span style=\"color: #000080; text-decoration-color: #000080; font-weight: bold\">]</span> loading data from \n",
              "<span style=\"color: #800080; text-decoration-color: #800080\">/root/nilearn_data/schaefer_2018/</span><span style=\"color: #ff00ff; text-decoration-color: #ff00ff\">Schaefer2018_200Parcels_7Networks_order_FSLMNI152_2mm.nii.gz</span>\n",
              "</pre>\n"
            ]
          },
          "metadata": {}
        },
        {
          "output_type": "stream",
          "name": "stdout",
          "text": [
            "________________________________________________________________________________\n",
            "[Memory] Calling nilearn.maskers.base_masker.filter_and_extract...\n",
            "filter_and_extract('/content/drive/MyDrive/raw_data/Denoised_p13_rs-2_MNI.nii.gz', <nilearn.maskers.nifti_labels_masker._ExtractionFunctor object at 0x7c5d9b04a810>, \n",
            "{ 'background_label': 0,\n",
            "  'clean_args': None,\n",
            "  'clean_kwargs': {},\n",
            "  'cmap': 'CMRmap_r',\n",
            "  'detrend': False,\n",
            "  'dtype': None,\n",
            "  'high_pass': None,\n",
            "  'high_variance_confounds': False,\n",
            "  'keep_masked_labels': True,\n",
            "  'labels': None,\n",
            "  'labels_img': '/root/nilearn_data/schaefer_2018/Schaefer2018_200Parcels_7Networks_order_FSLMNI152_2mm.nii.gz',\n",
            "  'low_pass': None,\n",
            "  'lut': None,\n",
            "  'mask_img': None,\n",
            "  'reports': True,\n",
            "  'smoothing_fwhm': None,\n",
            "  'standardize': False,\n",
            "  'standardize_confounds': True,\n",
            "  'strategy': 'mean',\n",
            "  't_r': None,\n",
            "  'target_affine': None,\n",
            "  'target_shape': None}, confounds=None, sample_mask=None, dtype=None, memory=Memory(location=nilearn_cache/joblib), memory_level=1, verbose=1)\n"
          ]
        },
        {
          "output_type": "display_data",
          "data": {
            "text/plain": [
              "\u001b[1;34m[\u001b[0m\u001b[34mNiftiLabelsMasker.wrapped\u001b[0m\u001b[1;34m]\u001b[0m Loading data from \u001b[35m/content/drive/MyDrive/raw_data/\u001b[0m\u001b[95mDenoised_p13_rs-2_MNI.nii.gz\u001b[0m\n"
            ],
            "text/html": [
              "<pre style=\"white-space:pre;overflow-x:auto;line-height:normal;font-family:Menlo,'DejaVu Sans Mono',consolas,'Courier New',monospace\"><span style=\"color: #000080; text-decoration-color: #000080; font-weight: bold\">[</span><span style=\"color: #000080; text-decoration-color: #000080\">NiftiLabelsMasker.wrapped</span><span style=\"color: #000080; text-decoration-color: #000080; font-weight: bold\">]</span> Loading data from <span style=\"color: #800080; text-decoration-color: #800080\">/content/drive/MyDrive/raw_data/</span><span style=\"color: #ff00ff; text-decoration-color: #ff00ff\">Denoised_p13_rs-2_MNI.nii.gz</span>\n",
              "</pre>\n"
            ]
          },
          "metadata": {}
        },
        {
          "output_type": "display_data",
          "data": {
            "text/plain": [
              "\u001b[1;34m[\u001b[0m\u001b[34mNiftiLabelsMasker.wrapped\u001b[0m\u001b[1;34m]\u001b[0m Extracting region signals\n"
            ],
            "text/html": [
              "<pre style=\"white-space:pre;overflow-x:auto;line-height:normal;font-family:Menlo,'DejaVu Sans Mono',consolas,'Courier New',monospace\"><span style=\"color: #000080; text-decoration-color: #000080; font-weight: bold\">[</span><span style=\"color: #000080; text-decoration-color: #000080\">NiftiLabelsMasker.wrapped</span><span style=\"color: #000080; text-decoration-color: #000080; font-weight: bold\">]</span> Extracting region signals\n",
              "</pre>\n"
            ]
          },
          "metadata": {}
        },
        {
          "output_type": "display_data",
          "data": {
            "text/plain": [
              "\u001b[1;34m[\u001b[0m\u001b[34mNiftiLabelsMasker.wrapped\u001b[0m\u001b[1;34m]\u001b[0m Cleaning extracted signals\n"
            ],
            "text/html": [
              "<pre style=\"white-space:pre;overflow-x:auto;line-height:normal;font-family:Menlo,'DejaVu Sans Mono',consolas,'Courier New',monospace\"><span style=\"color: #000080; text-decoration-color: #000080; font-weight: bold\">[</span><span style=\"color: #000080; text-decoration-color: #000080\">NiftiLabelsMasker.wrapped</span><span style=\"color: #000080; text-decoration-color: #000080; font-weight: bold\">]</span> Cleaning extracted signals\n",
              "</pre>\n"
            ]
          },
          "metadata": {}
        },
        {
          "output_type": "stream",
          "name": "stdout",
          "text": [
            "______________________________________________filter_and_extract - 27.9s, 0.5min\n"
          ]
        },
        {
          "output_type": "display_data",
          "data": {
            "text/plain": [
              "\u001b[1;34m[\u001b[0m\u001b[34mNiftiLabelsMasker.wrapped\u001b[0m\u001b[1;34m]\u001b[0m loading data from \n",
              "\u001b[35m/root/nilearn_data/schaefer_2018/\u001b[0m\u001b[95mSchaefer2018_200Parcels_7Networks_order_FSLMNI152_2mm.nii.gz\u001b[0m\n"
            ],
            "text/html": [
              "<pre style=\"white-space:pre;overflow-x:auto;line-height:normal;font-family:Menlo,'DejaVu Sans Mono',consolas,'Courier New',monospace\"><span style=\"color: #000080; text-decoration-color: #000080; font-weight: bold\">[</span><span style=\"color: #000080; text-decoration-color: #000080\">NiftiLabelsMasker.wrapped</span><span style=\"color: #000080; text-decoration-color: #000080; font-weight: bold\">]</span> loading data from \n",
              "<span style=\"color: #800080; text-decoration-color: #800080\">/root/nilearn_data/schaefer_2018/</span><span style=\"color: #ff00ff; text-decoration-color: #ff00ff\">Schaefer2018_200Parcels_7Networks_order_FSLMNI152_2mm.nii.gz</span>\n",
              "</pre>\n"
            ]
          },
          "metadata": {}
        },
        {
          "output_type": "stream",
          "name": "stdout",
          "text": [
            "________________________________________________________________________________\n",
            "[Memory] Calling nilearn.maskers.base_masker.filter_and_extract...\n",
            "filter_and_extract('/content/drive/MyDrive/raw_data/Denoised_p13_rs-3_MNI.nii.gz', <nilearn.maskers.nifti_labels_masker._ExtractionFunctor object at 0x7c5d9b04a810>, \n",
            "{ 'background_label': 0,\n",
            "  'clean_args': None,\n",
            "  'clean_kwargs': {},\n",
            "  'cmap': 'CMRmap_r',\n",
            "  'detrend': False,\n",
            "  'dtype': None,\n",
            "  'high_pass': None,\n",
            "  'high_variance_confounds': False,\n",
            "  'keep_masked_labels': True,\n",
            "  'labels': None,\n",
            "  'labels_img': '/root/nilearn_data/schaefer_2018/Schaefer2018_200Parcels_7Networks_order_FSLMNI152_2mm.nii.gz',\n",
            "  'low_pass': None,\n",
            "  'lut': None,\n",
            "  'mask_img': None,\n",
            "  'reports': True,\n",
            "  'smoothing_fwhm': None,\n",
            "  'standardize': False,\n",
            "  'standardize_confounds': True,\n",
            "  'strategy': 'mean',\n",
            "  't_r': None,\n",
            "  'target_affine': None,\n",
            "  'target_shape': None}, confounds=None, sample_mask=None, dtype=None, memory=Memory(location=nilearn_cache/joblib), memory_level=1, verbose=1)\n"
          ]
        },
        {
          "output_type": "display_data",
          "data": {
            "text/plain": [
              "\u001b[1;34m[\u001b[0m\u001b[34mNiftiLabelsMasker.wrapped\u001b[0m\u001b[1;34m]\u001b[0m Loading data from \u001b[35m/content/drive/MyDrive/raw_data/\u001b[0m\u001b[95mDenoised_p13_rs-3_MNI.nii.gz\u001b[0m\n"
            ],
            "text/html": [
              "<pre style=\"white-space:pre;overflow-x:auto;line-height:normal;font-family:Menlo,'DejaVu Sans Mono',consolas,'Courier New',monospace\"><span style=\"color: #000080; text-decoration-color: #000080; font-weight: bold\">[</span><span style=\"color: #000080; text-decoration-color: #000080\">NiftiLabelsMasker.wrapped</span><span style=\"color: #000080; text-decoration-color: #000080; font-weight: bold\">]</span> Loading data from <span style=\"color: #800080; text-decoration-color: #800080\">/content/drive/MyDrive/raw_data/</span><span style=\"color: #ff00ff; text-decoration-color: #ff00ff\">Denoised_p13_rs-3_MNI.nii.gz</span>\n",
              "</pre>\n"
            ]
          },
          "metadata": {}
        },
        {
          "output_type": "display_data",
          "data": {
            "text/plain": [
              "\u001b[1;34m[\u001b[0m\u001b[34mNiftiLabelsMasker.wrapped\u001b[0m\u001b[1;34m]\u001b[0m Extracting region signals\n"
            ],
            "text/html": [
              "<pre style=\"white-space:pre;overflow-x:auto;line-height:normal;font-family:Menlo,'DejaVu Sans Mono',consolas,'Courier New',monospace\"><span style=\"color: #000080; text-decoration-color: #000080; font-weight: bold\">[</span><span style=\"color: #000080; text-decoration-color: #000080\">NiftiLabelsMasker.wrapped</span><span style=\"color: #000080; text-decoration-color: #000080; font-weight: bold\">]</span> Extracting region signals\n",
              "</pre>\n"
            ]
          },
          "metadata": {}
        },
        {
          "output_type": "display_data",
          "data": {
            "text/plain": [
              "\u001b[1;34m[\u001b[0m\u001b[34mNiftiLabelsMasker.wrapped\u001b[0m\u001b[1;34m]\u001b[0m Cleaning extracted signals\n"
            ],
            "text/html": [
              "<pre style=\"white-space:pre;overflow-x:auto;line-height:normal;font-family:Menlo,'DejaVu Sans Mono',consolas,'Courier New',monospace\"><span style=\"color: #000080; text-decoration-color: #000080; font-weight: bold\">[</span><span style=\"color: #000080; text-decoration-color: #000080\">NiftiLabelsMasker.wrapped</span><span style=\"color: #000080; text-decoration-color: #000080; font-weight: bold\">]</span> Cleaning extracted signals\n",
              "</pre>\n"
            ]
          },
          "metadata": {}
        },
        {
          "output_type": "stream",
          "name": "stdout",
          "text": [
            "______________________________________________filter_and_extract - 27.7s, 0.5min\n"
          ]
        },
        {
          "output_type": "display_data",
          "data": {
            "text/plain": [
              "\u001b[1;34m[\u001b[0m\u001b[34mNiftiLabelsMasker.wrapped\u001b[0m\u001b[1;34m]\u001b[0m loading data from \n",
              "\u001b[35m/root/nilearn_data/schaefer_2018/\u001b[0m\u001b[95mSchaefer2018_200Parcels_7Networks_order_FSLMNI152_2mm.nii.gz\u001b[0m\n"
            ],
            "text/html": [
              "<pre style=\"white-space:pre;overflow-x:auto;line-height:normal;font-family:Menlo,'DejaVu Sans Mono',consolas,'Courier New',monospace\"><span style=\"color: #000080; text-decoration-color: #000080; font-weight: bold\">[</span><span style=\"color: #000080; text-decoration-color: #000080\">NiftiLabelsMasker.wrapped</span><span style=\"color: #000080; text-decoration-color: #000080; font-weight: bold\">]</span> loading data from \n",
              "<span style=\"color: #800080; text-decoration-color: #800080\">/root/nilearn_data/schaefer_2018/</span><span style=\"color: #ff00ff; text-decoration-color: #ff00ff\">Schaefer2018_200Parcels_7Networks_order_FSLMNI152_2mm.nii.gz</span>\n",
              "</pre>\n"
            ]
          },
          "metadata": {}
        },
        {
          "output_type": "stream",
          "name": "stdout",
          "text": [
            "________________________________________________________________________________\n",
            "[Memory] Calling nilearn.maskers.base_masker.filter_and_extract...\n",
            "filter_and_extract('/content/drive/MyDrive/raw_data/Denoised_p14_rs-1_MNI.nii.gz', <nilearn.maskers.nifti_labels_masker._ExtractionFunctor object at 0x7c5d9abd6590>, \n",
            "{ 'background_label': 0,\n",
            "  'clean_args': None,\n",
            "  'clean_kwargs': {},\n",
            "  'cmap': 'CMRmap_r',\n",
            "  'detrend': False,\n",
            "  'dtype': None,\n",
            "  'high_pass': None,\n",
            "  'high_variance_confounds': False,\n",
            "  'keep_masked_labels': True,\n",
            "  'labels': None,\n",
            "  'labels_img': '/root/nilearn_data/schaefer_2018/Schaefer2018_200Parcels_7Networks_order_FSLMNI152_2mm.nii.gz',\n",
            "  'low_pass': None,\n",
            "  'lut': None,\n",
            "  'mask_img': None,\n",
            "  'reports': True,\n",
            "  'smoothing_fwhm': None,\n",
            "  'standardize': False,\n",
            "  'standardize_confounds': True,\n",
            "  'strategy': 'mean',\n",
            "  't_r': None,\n",
            "  'target_affine': None,\n",
            "  'target_shape': None}, confounds=None, sample_mask=None, dtype=None, memory=Memory(location=nilearn_cache/joblib), memory_level=1, verbose=1)\n"
          ]
        },
        {
          "output_type": "display_data",
          "data": {
            "text/plain": [
              "\u001b[1;34m[\u001b[0m\u001b[34mNiftiLabelsMasker.wrapped\u001b[0m\u001b[1;34m]\u001b[0m Loading data from \u001b[35m/content/drive/MyDrive/raw_data/\u001b[0m\u001b[95mDenoised_p14_rs-1_MNI.nii.gz\u001b[0m\n"
            ],
            "text/html": [
              "<pre style=\"white-space:pre;overflow-x:auto;line-height:normal;font-family:Menlo,'DejaVu Sans Mono',consolas,'Courier New',monospace\"><span style=\"color: #000080; text-decoration-color: #000080; font-weight: bold\">[</span><span style=\"color: #000080; text-decoration-color: #000080\">NiftiLabelsMasker.wrapped</span><span style=\"color: #000080; text-decoration-color: #000080; font-weight: bold\">]</span> Loading data from <span style=\"color: #800080; text-decoration-color: #800080\">/content/drive/MyDrive/raw_data/</span><span style=\"color: #ff00ff; text-decoration-color: #ff00ff\">Denoised_p14_rs-1_MNI.nii.gz</span>\n",
              "</pre>\n"
            ]
          },
          "metadata": {}
        },
        {
          "output_type": "display_data",
          "data": {
            "text/plain": [
              "\u001b[1;34m[\u001b[0m\u001b[34mNiftiLabelsMasker.wrapped\u001b[0m\u001b[1;34m]\u001b[0m Extracting region signals\n"
            ],
            "text/html": [
              "<pre style=\"white-space:pre;overflow-x:auto;line-height:normal;font-family:Menlo,'DejaVu Sans Mono',consolas,'Courier New',monospace\"><span style=\"color: #000080; text-decoration-color: #000080; font-weight: bold\">[</span><span style=\"color: #000080; text-decoration-color: #000080\">NiftiLabelsMasker.wrapped</span><span style=\"color: #000080; text-decoration-color: #000080; font-weight: bold\">]</span> Extracting region signals\n",
              "</pre>\n"
            ]
          },
          "metadata": {}
        },
        {
          "output_type": "display_data",
          "data": {
            "text/plain": [
              "\u001b[1;34m[\u001b[0m\u001b[34mNiftiLabelsMasker.wrapped\u001b[0m\u001b[1;34m]\u001b[0m Cleaning extracted signals\n"
            ],
            "text/html": [
              "<pre style=\"white-space:pre;overflow-x:auto;line-height:normal;font-family:Menlo,'DejaVu Sans Mono',consolas,'Courier New',monospace\"><span style=\"color: #000080; text-decoration-color: #000080; font-weight: bold\">[</span><span style=\"color: #000080; text-decoration-color: #000080\">NiftiLabelsMasker.wrapped</span><span style=\"color: #000080; text-decoration-color: #000080; font-weight: bold\">]</span> Cleaning extracted signals\n",
              "</pre>\n"
            ]
          },
          "metadata": {}
        },
        {
          "output_type": "stream",
          "name": "stdout",
          "text": [
            "______________________________________________filter_and_extract - 29.7s, 0.5min\n"
          ]
        },
        {
          "output_type": "display_data",
          "data": {
            "text/plain": [
              "\u001b[1;34m[\u001b[0m\u001b[34mNiftiLabelsMasker.wrapped\u001b[0m\u001b[1;34m]\u001b[0m loading data from \n",
              "\u001b[35m/root/nilearn_data/schaefer_2018/\u001b[0m\u001b[95mSchaefer2018_200Parcels_7Networks_order_FSLMNI152_2mm.nii.gz\u001b[0m\n"
            ],
            "text/html": [
              "<pre style=\"white-space:pre;overflow-x:auto;line-height:normal;font-family:Menlo,'DejaVu Sans Mono',consolas,'Courier New',monospace\"><span style=\"color: #000080; text-decoration-color: #000080; font-weight: bold\">[</span><span style=\"color: #000080; text-decoration-color: #000080\">NiftiLabelsMasker.wrapped</span><span style=\"color: #000080; text-decoration-color: #000080; font-weight: bold\">]</span> loading data from \n",
              "<span style=\"color: #800080; text-decoration-color: #800080\">/root/nilearn_data/schaefer_2018/</span><span style=\"color: #ff00ff; text-decoration-color: #ff00ff\">Schaefer2018_200Parcels_7Networks_order_FSLMNI152_2mm.nii.gz</span>\n",
              "</pre>\n"
            ]
          },
          "metadata": {}
        },
        {
          "output_type": "stream",
          "name": "stdout",
          "text": [
            "________________________________________________________________________________\n",
            "[Memory] Calling nilearn.maskers.base_masker.filter_and_extract...\n",
            "filter_and_extract('/content/drive/MyDrive/raw_data/Denoised_p14_rs-2_MNI.nii.gz', <nilearn.maskers.nifti_labels_masker._ExtractionFunctor object at 0x7c5d9ac967d0>, \n",
            "{ 'background_label': 0,\n",
            "  'clean_args': None,\n",
            "  'clean_kwargs': {},\n",
            "  'cmap': 'CMRmap_r',\n",
            "  'detrend': False,\n",
            "  'dtype': None,\n",
            "  'high_pass': None,\n",
            "  'high_variance_confounds': False,\n",
            "  'keep_masked_labels': True,\n",
            "  'labels': None,\n",
            "  'labels_img': '/root/nilearn_data/schaefer_2018/Schaefer2018_200Parcels_7Networks_order_FSLMNI152_2mm.nii.gz',\n",
            "  'low_pass': None,\n",
            "  'lut': None,\n",
            "  'mask_img': None,\n",
            "  'reports': True,\n",
            "  'smoothing_fwhm': None,\n",
            "  'standardize': False,\n",
            "  'standardize_confounds': True,\n",
            "  'strategy': 'mean',\n",
            "  't_r': None,\n",
            "  'target_affine': None,\n",
            "  'target_shape': None}, confounds=None, sample_mask=None, dtype=None, memory=Memory(location=nilearn_cache/joblib), memory_level=1, verbose=1)\n"
          ]
        },
        {
          "output_type": "display_data",
          "data": {
            "text/plain": [
              "\u001b[1;34m[\u001b[0m\u001b[34mNiftiLabelsMasker.wrapped\u001b[0m\u001b[1;34m]\u001b[0m Loading data from \u001b[35m/content/drive/MyDrive/raw_data/\u001b[0m\u001b[95mDenoised_p14_rs-2_MNI.nii.gz\u001b[0m\n"
            ],
            "text/html": [
              "<pre style=\"white-space:pre;overflow-x:auto;line-height:normal;font-family:Menlo,'DejaVu Sans Mono',consolas,'Courier New',monospace\"><span style=\"color: #000080; text-decoration-color: #000080; font-weight: bold\">[</span><span style=\"color: #000080; text-decoration-color: #000080\">NiftiLabelsMasker.wrapped</span><span style=\"color: #000080; text-decoration-color: #000080; font-weight: bold\">]</span> Loading data from <span style=\"color: #800080; text-decoration-color: #800080\">/content/drive/MyDrive/raw_data/</span><span style=\"color: #ff00ff; text-decoration-color: #ff00ff\">Denoised_p14_rs-2_MNI.nii.gz</span>\n",
              "</pre>\n"
            ]
          },
          "metadata": {}
        },
        {
          "output_type": "display_data",
          "data": {
            "text/plain": [
              "\u001b[1;34m[\u001b[0m\u001b[34mNiftiLabelsMasker.wrapped\u001b[0m\u001b[1;34m]\u001b[0m Extracting region signals\n"
            ],
            "text/html": [
              "<pre style=\"white-space:pre;overflow-x:auto;line-height:normal;font-family:Menlo,'DejaVu Sans Mono',consolas,'Courier New',monospace\"><span style=\"color: #000080; text-decoration-color: #000080; font-weight: bold\">[</span><span style=\"color: #000080; text-decoration-color: #000080\">NiftiLabelsMasker.wrapped</span><span style=\"color: #000080; text-decoration-color: #000080; font-weight: bold\">]</span> Extracting region signals\n",
              "</pre>\n"
            ]
          },
          "metadata": {}
        },
        {
          "output_type": "display_data",
          "data": {
            "text/plain": [
              "\u001b[1;34m[\u001b[0m\u001b[34mNiftiLabelsMasker.wrapped\u001b[0m\u001b[1;34m]\u001b[0m Cleaning extracted signals\n"
            ],
            "text/html": [
              "<pre style=\"white-space:pre;overflow-x:auto;line-height:normal;font-family:Menlo,'DejaVu Sans Mono',consolas,'Courier New',monospace\"><span style=\"color: #000080; text-decoration-color: #000080; font-weight: bold\">[</span><span style=\"color: #000080; text-decoration-color: #000080\">NiftiLabelsMasker.wrapped</span><span style=\"color: #000080; text-decoration-color: #000080; font-weight: bold\">]</span> Cleaning extracted signals\n",
              "</pre>\n"
            ]
          },
          "metadata": {}
        },
        {
          "output_type": "stream",
          "name": "stdout",
          "text": [
            "______________________________________________filter_and_extract - 28.7s, 0.5min\n"
          ]
        },
        {
          "output_type": "display_data",
          "data": {
            "text/plain": [
              "\u001b[1;34m[\u001b[0m\u001b[34mNiftiLabelsMasker.wrapped\u001b[0m\u001b[1;34m]\u001b[0m loading data from \n",
              "\u001b[35m/root/nilearn_data/schaefer_2018/\u001b[0m\u001b[95mSchaefer2018_200Parcels_7Networks_order_FSLMNI152_2mm.nii.gz\u001b[0m\n"
            ],
            "text/html": [
              "<pre style=\"white-space:pre;overflow-x:auto;line-height:normal;font-family:Menlo,'DejaVu Sans Mono',consolas,'Courier New',monospace\"><span style=\"color: #000080; text-decoration-color: #000080; font-weight: bold\">[</span><span style=\"color: #000080; text-decoration-color: #000080\">NiftiLabelsMasker.wrapped</span><span style=\"color: #000080; text-decoration-color: #000080; font-weight: bold\">]</span> loading data from \n",
              "<span style=\"color: #800080; text-decoration-color: #800080\">/root/nilearn_data/schaefer_2018/</span><span style=\"color: #ff00ff; text-decoration-color: #ff00ff\">Schaefer2018_200Parcels_7Networks_order_FSLMNI152_2mm.nii.gz</span>\n",
              "</pre>\n"
            ]
          },
          "metadata": {}
        },
        {
          "output_type": "stream",
          "name": "stdout",
          "text": [
            "________________________________________________________________________________\n",
            "[Memory] Calling nilearn.maskers.base_masker.filter_and_extract...\n",
            "filter_and_extract('/content/drive/MyDrive/raw_data/Denoised_p14_rs-3_MNI.nii.gz', <nilearn.maskers.nifti_labels_masker._ExtractionFunctor object at 0x7c5d9b020090>, \n",
            "{ 'background_label': 0,\n",
            "  'clean_args': None,\n",
            "  'clean_kwargs': {},\n",
            "  'cmap': 'CMRmap_r',\n",
            "  'detrend': False,\n",
            "  'dtype': None,\n",
            "  'high_pass': None,\n",
            "  'high_variance_confounds': False,\n",
            "  'keep_masked_labels': True,\n",
            "  'labels': None,\n",
            "  'labels_img': '/root/nilearn_data/schaefer_2018/Schaefer2018_200Parcels_7Networks_order_FSLMNI152_2mm.nii.gz',\n",
            "  'low_pass': None,\n",
            "  'lut': None,\n",
            "  'mask_img': None,\n",
            "  'reports': True,\n",
            "  'smoothing_fwhm': None,\n",
            "  'standardize': False,\n",
            "  'standardize_confounds': True,\n",
            "  'strategy': 'mean',\n",
            "  't_r': None,\n",
            "  'target_affine': None,\n",
            "  'target_shape': None}, confounds=None, sample_mask=None, dtype=None, memory=Memory(location=nilearn_cache/joblib), memory_level=1, verbose=1)\n"
          ]
        },
        {
          "output_type": "display_data",
          "data": {
            "text/plain": [
              "\u001b[1;34m[\u001b[0m\u001b[34mNiftiLabelsMasker.wrapped\u001b[0m\u001b[1;34m]\u001b[0m Loading data from \u001b[35m/content/drive/MyDrive/raw_data/\u001b[0m\u001b[95mDenoised_p14_rs-3_MNI.nii.gz\u001b[0m\n"
            ],
            "text/html": [
              "<pre style=\"white-space:pre;overflow-x:auto;line-height:normal;font-family:Menlo,'DejaVu Sans Mono',consolas,'Courier New',monospace\"><span style=\"color: #000080; text-decoration-color: #000080; font-weight: bold\">[</span><span style=\"color: #000080; text-decoration-color: #000080\">NiftiLabelsMasker.wrapped</span><span style=\"color: #000080; text-decoration-color: #000080; font-weight: bold\">]</span> Loading data from <span style=\"color: #800080; text-decoration-color: #800080\">/content/drive/MyDrive/raw_data/</span><span style=\"color: #ff00ff; text-decoration-color: #ff00ff\">Denoised_p14_rs-3_MNI.nii.gz</span>\n",
              "</pre>\n"
            ]
          },
          "metadata": {}
        },
        {
          "output_type": "display_data",
          "data": {
            "text/plain": [
              "\u001b[1;34m[\u001b[0m\u001b[34mNiftiLabelsMasker.wrapped\u001b[0m\u001b[1;34m]\u001b[0m Extracting region signals\n"
            ],
            "text/html": [
              "<pre style=\"white-space:pre;overflow-x:auto;line-height:normal;font-family:Menlo,'DejaVu Sans Mono',consolas,'Courier New',monospace\"><span style=\"color: #000080; text-decoration-color: #000080; font-weight: bold\">[</span><span style=\"color: #000080; text-decoration-color: #000080\">NiftiLabelsMasker.wrapped</span><span style=\"color: #000080; text-decoration-color: #000080; font-weight: bold\">]</span> Extracting region signals\n",
              "</pre>\n"
            ]
          },
          "metadata": {}
        },
        {
          "output_type": "display_data",
          "data": {
            "text/plain": [
              "\u001b[1;34m[\u001b[0m\u001b[34mNiftiLabelsMasker.wrapped\u001b[0m\u001b[1;34m]\u001b[0m Cleaning extracted signals\n"
            ],
            "text/html": [
              "<pre style=\"white-space:pre;overflow-x:auto;line-height:normal;font-family:Menlo,'DejaVu Sans Mono',consolas,'Courier New',monospace\"><span style=\"color: #000080; text-decoration-color: #000080; font-weight: bold\">[</span><span style=\"color: #000080; text-decoration-color: #000080\">NiftiLabelsMasker.wrapped</span><span style=\"color: #000080; text-decoration-color: #000080; font-weight: bold\">]</span> Cleaning extracted signals\n",
              "</pre>\n"
            ]
          },
          "metadata": {}
        },
        {
          "output_type": "stream",
          "name": "stdout",
          "text": [
            "______________________________________________filter_and_extract - 27.9s, 0.5min\n"
          ]
        },
        {
          "output_type": "display_data",
          "data": {
            "text/plain": [
              "\u001b[1;34m[\u001b[0m\u001b[34mNiftiLabelsMasker.wrapped\u001b[0m\u001b[1;34m]\u001b[0m loading data from \n",
              "\u001b[35m/root/nilearn_data/schaefer_2018/\u001b[0m\u001b[95mSchaefer2018_200Parcels_7Networks_order_FSLMNI152_2mm.nii.gz\u001b[0m\n"
            ],
            "text/html": [
              "<pre style=\"white-space:pre;overflow-x:auto;line-height:normal;font-family:Menlo,'DejaVu Sans Mono',consolas,'Courier New',monospace\"><span style=\"color: #000080; text-decoration-color: #000080; font-weight: bold\">[</span><span style=\"color: #000080; text-decoration-color: #000080\">NiftiLabelsMasker.wrapped</span><span style=\"color: #000080; text-decoration-color: #000080; font-weight: bold\">]</span> loading data from \n",
              "<span style=\"color: #800080; text-decoration-color: #800080\">/root/nilearn_data/schaefer_2018/</span><span style=\"color: #ff00ff; text-decoration-color: #ff00ff\">Schaefer2018_200Parcels_7Networks_order_FSLMNI152_2mm.nii.gz</span>\n",
              "</pre>\n"
            ]
          },
          "metadata": {}
        },
        {
          "output_type": "stream",
          "name": "stdout",
          "text": [
            "________________________________________________________________________________\n",
            "[Memory] Calling nilearn.maskers.base_masker.filter_and_extract...\n",
            "filter_and_extract('/content/drive/MyDrive/raw_data/Denoised_p15_rs-1_MNI.nii.gz', <nilearn.maskers.nifti_labels_masker._ExtractionFunctor object at 0x7c5d9b784c50>, \n",
            "{ 'background_label': 0,\n",
            "  'clean_args': None,\n",
            "  'clean_kwargs': {},\n",
            "  'cmap': 'CMRmap_r',\n",
            "  'detrend': False,\n",
            "  'dtype': None,\n",
            "  'high_pass': None,\n",
            "  'high_variance_confounds': False,\n",
            "  'keep_masked_labels': True,\n",
            "  'labels': None,\n",
            "  'labels_img': '/root/nilearn_data/schaefer_2018/Schaefer2018_200Parcels_7Networks_order_FSLMNI152_2mm.nii.gz',\n",
            "  'low_pass': None,\n",
            "  'lut': None,\n",
            "  'mask_img': None,\n",
            "  'reports': True,\n",
            "  'smoothing_fwhm': None,\n",
            "  'standardize': False,\n",
            "  'standardize_confounds': True,\n",
            "  'strategy': 'mean',\n",
            "  't_r': None,\n",
            "  'target_affine': None,\n",
            "  'target_shape': None}, confounds=None, sample_mask=None, dtype=None, memory=Memory(location=nilearn_cache/joblib), memory_level=1, verbose=1)\n"
          ]
        },
        {
          "output_type": "display_data",
          "data": {
            "text/plain": [
              "\u001b[1;34m[\u001b[0m\u001b[34mNiftiLabelsMasker.wrapped\u001b[0m\u001b[1;34m]\u001b[0m Loading data from \u001b[35m/content/drive/MyDrive/raw_data/\u001b[0m\u001b[95mDenoised_p15_rs-1_MNI.nii.gz\u001b[0m\n"
            ],
            "text/html": [
              "<pre style=\"white-space:pre;overflow-x:auto;line-height:normal;font-family:Menlo,'DejaVu Sans Mono',consolas,'Courier New',monospace\"><span style=\"color: #000080; text-decoration-color: #000080; font-weight: bold\">[</span><span style=\"color: #000080; text-decoration-color: #000080\">NiftiLabelsMasker.wrapped</span><span style=\"color: #000080; text-decoration-color: #000080; font-weight: bold\">]</span> Loading data from <span style=\"color: #800080; text-decoration-color: #800080\">/content/drive/MyDrive/raw_data/</span><span style=\"color: #ff00ff; text-decoration-color: #ff00ff\">Denoised_p15_rs-1_MNI.nii.gz</span>\n",
              "</pre>\n"
            ]
          },
          "metadata": {}
        },
        {
          "output_type": "display_data",
          "data": {
            "text/plain": [
              "\u001b[1;34m[\u001b[0m\u001b[34mNiftiLabelsMasker.wrapped\u001b[0m\u001b[1;34m]\u001b[0m Extracting region signals\n"
            ],
            "text/html": [
              "<pre style=\"white-space:pre;overflow-x:auto;line-height:normal;font-family:Menlo,'DejaVu Sans Mono',consolas,'Courier New',monospace\"><span style=\"color: #000080; text-decoration-color: #000080; font-weight: bold\">[</span><span style=\"color: #000080; text-decoration-color: #000080\">NiftiLabelsMasker.wrapped</span><span style=\"color: #000080; text-decoration-color: #000080; font-weight: bold\">]</span> Extracting region signals\n",
              "</pre>\n"
            ]
          },
          "metadata": {}
        },
        {
          "output_type": "display_data",
          "data": {
            "text/plain": [
              "\u001b[1;34m[\u001b[0m\u001b[34mNiftiLabelsMasker.wrapped\u001b[0m\u001b[1;34m]\u001b[0m Cleaning extracted signals\n"
            ],
            "text/html": [
              "<pre style=\"white-space:pre;overflow-x:auto;line-height:normal;font-family:Menlo,'DejaVu Sans Mono',consolas,'Courier New',monospace\"><span style=\"color: #000080; text-decoration-color: #000080; font-weight: bold\">[</span><span style=\"color: #000080; text-decoration-color: #000080\">NiftiLabelsMasker.wrapped</span><span style=\"color: #000080; text-decoration-color: #000080; font-weight: bold\">]</span> Cleaning extracted signals\n",
              "</pre>\n"
            ]
          },
          "metadata": {}
        },
        {
          "output_type": "stream",
          "name": "stdout",
          "text": [
            "______________________________________________filter_and_extract - 27.4s, 0.5min\n"
          ]
        },
        {
          "output_type": "display_data",
          "data": {
            "text/plain": [
              "\u001b[1;34m[\u001b[0m\u001b[34mNiftiLabelsMasker.wrapped\u001b[0m\u001b[1;34m]\u001b[0m loading data from \n",
              "\u001b[35m/root/nilearn_data/schaefer_2018/\u001b[0m\u001b[95mSchaefer2018_200Parcels_7Networks_order_FSLMNI152_2mm.nii.gz\u001b[0m\n"
            ],
            "text/html": [
              "<pre style=\"white-space:pre;overflow-x:auto;line-height:normal;font-family:Menlo,'DejaVu Sans Mono',consolas,'Courier New',monospace\"><span style=\"color: #000080; text-decoration-color: #000080; font-weight: bold\">[</span><span style=\"color: #000080; text-decoration-color: #000080\">NiftiLabelsMasker.wrapped</span><span style=\"color: #000080; text-decoration-color: #000080; font-weight: bold\">]</span> loading data from \n",
              "<span style=\"color: #800080; text-decoration-color: #800080\">/root/nilearn_data/schaefer_2018/</span><span style=\"color: #ff00ff; text-decoration-color: #ff00ff\">Schaefer2018_200Parcels_7Networks_order_FSLMNI152_2mm.nii.gz</span>\n",
              "</pre>\n"
            ]
          },
          "metadata": {}
        },
        {
          "output_type": "stream",
          "name": "stdout",
          "text": [
            "________________________________________________________________________________\n",
            "[Memory] Calling nilearn.maskers.base_masker.filter_and_extract...\n",
            "filter_and_extract('/content/drive/MyDrive/raw_data/Denoised_p15_rs-2_MNI.nii.gz', <nilearn.maskers.nifti_labels_masker._ExtractionFunctor object at 0x7c5d9b7fb6d0>, \n",
            "{ 'background_label': 0,\n",
            "  'clean_args': None,\n",
            "  'clean_kwargs': {},\n",
            "  'cmap': 'CMRmap_r',\n",
            "  'detrend': False,\n",
            "  'dtype': None,\n",
            "  'high_pass': None,\n",
            "  'high_variance_confounds': False,\n",
            "  'keep_masked_labels': True,\n",
            "  'labels': None,\n",
            "  'labels_img': '/root/nilearn_data/schaefer_2018/Schaefer2018_200Parcels_7Networks_order_FSLMNI152_2mm.nii.gz',\n",
            "  'low_pass': None,\n",
            "  'lut': None,\n",
            "  'mask_img': None,\n",
            "  'reports': True,\n",
            "  'smoothing_fwhm': None,\n",
            "  'standardize': False,\n",
            "  'standardize_confounds': True,\n",
            "  'strategy': 'mean',\n",
            "  't_r': None,\n",
            "  'target_affine': None,\n",
            "  'target_shape': None}, confounds=None, sample_mask=None, dtype=None, memory=Memory(location=nilearn_cache/joblib), memory_level=1, verbose=1)\n"
          ]
        },
        {
          "output_type": "display_data",
          "data": {
            "text/plain": [
              "\u001b[1;34m[\u001b[0m\u001b[34mNiftiLabelsMasker.wrapped\u001b[0m\u001b[1;34m]\u001b[0m Loading data from \u001b[35m/content/drive/MyDrive/raw_data/\u001b[0m\u001b[95mDenoised_p15_rs-2_MNI.nii.gz\u001b[0m\n"
            ],
            "text/html": [
              "<pre style=\"white-space:pre;overflow-x:auto;line-height:normal;font-family:Menlo,'DejaVu Sans Mono',consolas,'Courier New',monospace\"><span style=\"color: #000080; text-decoration-color: #000080; font-weight: bold\">[</span><span style=\"color: #000080; text-decoration-color: #000080\">NiftiLabelsMasker.wrapped</span><span style=\"color: #000080; text-decoration-color: #000080; font-weight: bold\">]</span> Loading data from <span style=\"color: #800080; text-decoration-color: #800080\">/content/drive/MyDrive/raw_data/</span><span style=\"color: #ff00ff; text-decoration-color: #ff00ff\">Denoised_p15_rs-2_MNI.nii.gz</span>\n",
              "</pre>\n"
            ]
          },
          "metadata": {}
        },
        {
          "output_type": "display_data",
          "data": {
            "text/plain": [
              "\u001b[1;34m[\u001b[0m\u001b[34mNiftiLabelsMasker.wrapped\u001b[0m\u001b[1;34m]\u001b[0m Extracting region signals\n"
            ],
            "text/html": [
              "<pre style=\"white-space:pre;overflow-x:auto;line-height:normal;font-family:Menlo,'DejaVu Sans Mono',consolas,'Courier New',monospace\"><span style=\"color: #000080; text-decoration-color: #000080; font-weight: bold\">[</span><span style=\"color: #000080; text-decoration-color: #000080\">NiftiLabelsMasker.wrapped</span><span style=\"color: #000080; text-decoration-color: #000080; font-weight: bold\">]</span> Extracting region signals\n",
              "</pre>\n"
            ]
          },
          "metadata": {}
        },
        {
          "output_type": "display_data",
          "data": {
            "text/plain": [
              "\u001b[1;34m[\u001b[0m\u001b[34mNiftiLabelsMasker.wrapped\u001b[0m\u001b[1;34m]\u001b[0m Cleaning extracted signals\n"
            ],
            "text/html": [
              "<pre style=\"white-space:pre;overflow-x:auto;line-height:normal;font-family:Menlo,'DejaVu Sans Mono',consolas,'Courier New',monospace\"><span style=\"color: #000080; text-decoration-color: #000080; font-weight: bold\">[</span><span style=\"color: #000080; text-decoration-color: #000080\">NiftiLabelsMasker.wrapped</span><span style=\"color: #000080; text-decoration-color: #000080; font-weight: bold\">]</span> Cleaning extracted signals\n",
              "</pre>\n"
            ]
          },
          "metadata": {}
        },
        {
          "output_type": "stream",
          "name": "stdout",
          "text": [
            "______________________________________________filter_and_extract - 28.3s, 0.5min\n"
          ]
        },
        {
          "output_type": "display_data",
          "data": {
            "text/plain": [
              "\u001b[1;34m[\u001b[0m\u001b[34mNiftiLabelsMasker.wrapped\u001b[0m\u001b[1;34m]\u001b[0m loading data from \n",
              "\u001b[35m/root/nilearn_data/schaefer_2018/\u001b[0m\u001b[95mSchaefer2018_200Parcels_7Networks_order_FSLMNI152_2mm.nii.gz\u001b[0m\n"
            ],
            "text/html": [
              "<pre style=\"white-space:pre;overflow-x:auto;line-height:normal;font-family:Menlo,'DejaVu Sans Mono',consolas,'Courier New',monospace\"><span style=\"color: #000080; text-decoration-color: #000080; font-weight: bold\">[</span><span style=\"color: #000080; text-decoration-color: #000080\">NiftiLabelsMasker.wrapped</span><span style=\"color: #000080; text-decoration-color: #000080; font-weight: bold\">]</span> loading data from \n",
              "<span style=\"color: #800080; text-decoration-color: #800080\">/root/nilearn_data/schaefer_2018/</span><span style=\"color: #ff00ff; text-decoration-color: #ff00ff\">Schaefer2018_200Parcels_7Networks_order_FSLMNI152_2mm.nii.gz</span>\n",
              "</pre>\n"
            ]
          },
          "metadata": {}
        },
        {
          "output_type": "stream",
          "name": "stdout",
          "text": [
            "________________________________________________________________________________\n",
            "[Memory] Calling nilearn.maskers.base_masker.filter_and_extract...\n",
            "filter_and_extract('/content/drive/MyDrive/raw_data/Denoised_p15_rs-3_MNI.nii.gz', <nilearn.maskers.nifti_labels_masker._ExtractionFunctor object at 0x7c5d9abd7ad0>, \n",
            "{ 'background_label': 0,\n",
            "  'clean_args': None,\n",
            "  'clean_kwargs': {},\n",
            "  'cmap': 'CMRmap_r',\n",
            "  'detrend': False,\n",
            "  'dtype': None,\n",
            "  'high_pass': None,\n",
            "  'high_variance_confounds': False,\n",
            "  'keep_masked_labels': True,\n",
            "  'labels': None,\n",
            "  'labels_img': '/root/nilearn_data/schaefer_2018/Schaefer2018_200Parcels_7Networks_order_FSLMNI152_2mm.nii.gz',\n",
            "  'low_pass': None,\n",
            "  'lut': None,\n",
            "  'mask_img': None,\n",
            "  'reports': True,\n",
            "  'smoothing_fwhm': None,\n",
            "  'standardize': False,\n",
            "  'standardize_confounds': True,\n",
            "  'strategy': 'mean',\n",
            "  't_r': None,\n",
            "  'target_affine': None,\n",
            "  'target_shape': None}, confounds=None, sample_mask=None, dtype=None, memory=Memory(location=nilearn_cache/joblib), memory_level=1, verbose=1)\n"
          ]
        },
        {
          "output_type": "display_data",
          "data": {
            "text/plain": [
              "\u001b[1;34m[\u001b[0m\u001b[34mNiftiLabelsMasker.wrapped\u001b[0m\u001b[1;34m]\u001b[0m Loading data from \u001b[35m/content/drive/MyDrive/raw_data/\u001b[0m\u001b[95mDenoised_p15_rs-3_MNI.nii.gz\u001b[0m\n"
            ],
            "text/html": [
              "<pre style=\"white-space:pre;overflow-x:auto;line-height:normal;font-family:Menlo,'DejaVu Sans Mono',consolas,'Courier New',monospace\"><span style=\"color: #000080; text-decoration-color: #000080; font-weight: bold\">[</span><span style=\"color: #000080; text-decoration-color: #000080\">NiftiLabelsMasker.wrapped</span><span style=\"color: #000080; text-decoration-color: #000080; font-weight: bold\">]</span> Loading data from <span style=\"color: #800080; text-decoration-color: #800080\">/content/drive/MyDrive/raw_data/</span><span style=\"color: #ff00ff; text-decoration-color: #ff00ff\">Denoised_p15_rs-3_MNI.nii.gz</span>\n",
              "</pre>\n"
            ]
          },
          "metadata": {}
        },
        {
          "output_type": "display_data",
          "data": {
            "text/plain": [
              "\u001b[1;34m[\u001b[0m\u001b[34mNiftiLabelsMasker.wrapped\u001b[0m\u001b[1;34m]\u001b[0m Extracting region signals\n"
            ],
            "text/html": [
              "<pre style=\"white-space:pre;overflow-x:auto;line-height:normal;font-family:Menlo,'DejaVu Sans Mono',consolas,'Courier New',monospace\"><span style=\"color: #000080; text-decoration-color: #000080; font-weight: bold\">[</span><span style=\"color: #000080; text-decoration-color: #000080\">NiftiLabelsMasker.wrapped</span><span style=\"color: #000080; text-decoration-color: #000080; font-weight: bold\">]</span> Extracting region signals\n",
              "</pre>\n"
            ]
          },
          "metadata": {}
        },
        {
          "output_type": "display_data",
          "data": {
            "text/plain": [
              "\u001b[1;34m[\u001b[0m\u001b[34mNiftiLabelsMasker.wrapped\u001b[0m\u001b[1;34m]\u001b[0m Cleaning extracted signals\n"
            ],
            "text/html": [
              "<pre style=\"white-space:pre;overflow-x:auto;line-height:normal;font-family:Menlo,'DejaVu Sans Mono',consolas,'Courier New',monospace\"><span style=\"color: #000080; text-decoration-color: #000080; font-weight: bold\">[</span><span style=\"color: #000080; text-decoration-color: #000080\">NiftiLabelsMasker.wrapped</span><span style=\"color: #000080; text-decoration-color: #000080; font-weight: bold\">]</span> Cleaning extracted signals\n",
              "</pre>\n"
            ]
          },
          "metadata": {}
        },
        {
          "output_type": "stream",
          "name": "stdout",
          "text": [
            "______________________________________________filter_and_extract - 27.7s, 0.5min\n"
          ]
        },
        {
          "output_type": "display_data",
          "data": {
            "text/plain": [
              "\u001b[1;34m[\u001b[0m\u001b[34mNiftiLabelsMasker.wrapped\u001b[0m\u001b[1;34m]\u001b[0m loading data from \n",
              "\u001b[35m/root/nilearn_data/schaefer_2018/\u001b[0m\u001b[95mSchaefer2018_200Parcels_7Networks_order_FSLMNI152_2mm.nii.gz\u001b[0m\n"
            ],
            "text/html": [
              "<pre style=\"white-space:pre;overflow-x:auto;line-height:normal;font-family:Menlo,'DejaVu Sans Mono',consolas,'Courier New',monospace\"><span style=\"color: #000080; text-decoration-color: #000080; font-weight: bold\">[</span><span style=\"color: #000080; text-decoration-color: #000080\">NiftiLabelsMasker.wrapped</span><span style=\"color: #000080; text-decoration-color: #000080; font-weight: bold\">]</span> loading data from \n",
              "<span style=\"color: #800080; text-decoration-color: #800080\">/root/nilearn_data/schaefer_2018/</span><span style=\"color: #ff00ff; text-decoration-color: #ff00ff\">Schaefer2018_200Parcels_7Networks_order_FSLMNI152_2mm.nii.gz</span>\n",
              "</pre>\n"
            ]
          },
          "metadata": {}
        },
        {
          "output_type": "stream",
          "name": "stdout",
          "text": [
            "________________________________________________________________________________\n",
            "[Memory] Calling nilearn.maskers.base_masker.filter_and_extract...\n",
            "filter_and_extract('/content/drive/MyDrive/raw_data/Denoised_p16_rs-1_MNI.nii.gz', <nilearn.maskers.nifti_labels_masker._ExtractionFunctor object at 0x7c5d9c4ce590>, \n",
            "{ 'background_label': 0,\n",
            "  'clean_args': None,\n",
            "  'clean_kwargs': {},\n",
            "  'cmap': 'CMRmap_r',\n",
            "  'detrend': False,\n",
            "  'dtype': None,\n",
            "  'high_pass': None,\n",
            "  'high_variance_confounds': False,\n",
            "  'keep_masked_labels': True,\n",
            "  'labels': None,\n",
            "  'labels_img': '/root/nilearn_data/schaefer_2018/Schaefer2018_200Parcels_7Networks_order_FSLMNI152_2mm.nii.gz',\n",
            "  'low_pass': None,\n",
            "  'lut': None,\n",
            "  'mask_img': None,\n",
            "  'reports': True,\n",
            "  'smoothing_fwhm': None,\n",
            "  'standardize': False,\n",
            "  'standardize_confounds': True,\n",
            "  'strategy': 'mean',\n",
            "  't_r': None,\n",
            "  'target_affine': None,\n",
            "  'target_shape': None}, confounds=None, sample_mask=None, dtype=None, memory=Memory(location=nilearn_cache/joblib), memory_level=1, verbose=1)\n"
          ]
        },
        {
          "output_type": "display_data",
          "data": {
            "text/plain": [
              "\u001b[1;34m[\u001b[0m\u001b[34mNiftiLabelsMasker.wrapped\u001b[0m\u001b[1;34m]\u001b[0m Loading data from \u001b[35m/content/drive/MyDrive/raw_data/\u001b[0m\u001b[95mDenoised_p16_rs-1_MNI.nii.gz\u001b[0m\n"
            ],
            "text/html": [
              "<pre style=\"white-space:pre;overflow-x:auto;line-height:normal;font-family:Menlo,'DejaVu Sans Mono',consolas,'Courier New',monospace\"><span style=\"color: #000080; text-decoration-color: #000080; font-weight: bold\">[</span><span style=\"color: #000080; text-decoration-color: #000080\">NiftiLabelsMasker.wrapped</span><span style=\"color: #000080; text-decoration-color: #000080; font-weight: bold\">]</span> Loading data from <span style=\"color: #800080; text-decoration-color: #800080\">/content/drive/MyDrive/raw_data/</span><span style=\"color: #ff00ff; text-decoration-color: #ff00ff\">Denoised_p16_rs-1_MNI.nii.gz</span>\n",
              "</pre>\n"
            ]
          },
          "metadata": {}
        },
        {
          "output_type": "display_data",
          "data": {
            "text/plain": [
              "\u001b[1;34m[\u001b[0m\u001b[34mNiftiLabelsMasker.wrapped\u001b[0m\u001b[1;34m]\u001b[0m Extracting region signals\n"
            ],
            "text/html": [
              "<pre style=\"white-space:pre;overflow-x:auto;line-height:normal;font-family:Menlo,'DejaVu Sans Mono',consolas,'Courier New',monospace\"><span style=\"color: #000080; text-decoration-color: #000080; font-weight: bold\">[</span><span style=\"color: #000080; text-decoration-color: #000080\">NiftiLabelsMasker.wrapped</span><span style=\"color: #000080; text-decoration-color: #000080; font-weight: bold\">]</span> Extracting region signals\n",
              "</pre>\n"
            ]
          },
          "metadata": {}
        },
        {
          "output_type": "display_data",
          "data": {
            "text/plain": [
              "\u001b[1;34m[\u001b[0m\u001b[34mNiftiLabelsMasker.wrapped\u001b[0m\u001b[1;34m]\u001b[0m Cleaning extracted signals\n"
            ],
            "text/html": [
              "<pre style=\"white-space:pre;overflow-x:auto;line-height:normal;font-family:Menlo,'DejaVu Sans Mono',consolas,'Courier New',monospace\"><span style=\"color: #000080; text-decoration-color: #000080; font-weight: bold\">[</span><span style=\"color: #000080; text-decoration-color: #000080\">NiftiLabelsMasker.wrapped</span><span style=\"color: #000080; text-decoration-color: #000080; font-weight: bold\">]</span> Cleaning extracted signals\n",
              "</pre>\n"
            ]
          },
          "metadata": {}
        },
        {
          "output_type": "stream",
          "name": "stdout",
          "text": [
            "______________________________________________filter_and_extract - 27.3s, 0.5min\n"
          ]
        },
        {
          "output_type": "display_data",
          "data": {
            "text/plain": [
              "\u001b[1;34m[\u001b[0m\u001b[34mNiftiLabelsMasker.wrapped\u001b[0m\u001b[1;34m]\u001b[0m loading data from \n",
              "\u001b[35m/root/nilearn_data/schaefer_2018/\u001b[0m\u001b[95mSchaefer2018_200Parcels_7Networks_order_FSLMNI152_2mm.nii.gz\u001b[0m\n"
            ],
            "text/html": [
              "<pre style=\"white-space:pre;overflow-x:auto;line-height:normal;font-family:Menlo,'DejaVu Sans Mono',consolas,'Courier New',monospace\"><span style=\"color: #000080; text-decoration-color: #000080; font-weight: bold\">[</span><span style=\"color: #000080; text-decoration-color: #000080\">NiftiLabelsMasker.wrapped</span><span style=\"color: #000080; text-decoration-color: #000080; font-weight: bold\">]</span> loading data from \n",
              "<span style=\"color: #800080; text-decoration-color: #800080\">/root/nilearn_data/schaefer_2018/</span><span style=\"color: #ff00ff; text-decoration-color: #ff00ff\">Schaefer2018_200Parcels_7Networks_order_FSLMNI152_2mm.nii.gz</span>\n",
              "</pre>\n"
            ]
          },
          "metadata": {}
        },
        {
          "output_type": "stream",
          "name": "stdout",
          "text": [
            "________________________________________________________________________________\n",
            "[Memory] Calling nilearn.maskers.base_masker.filter_and_extract...\n",
            "filter_and_extract('/content/drive/MyDrive/raw_data/Denoised_p16_rs-2_MNI.nii.gz', <nilearn.maskers.nifti_labels_masker._ExtractionFunctor object at 0x7c5d9aef6910>, \n",
            "{ 'background_label': 0,\n",
            "  'clean_args': None,\n",
            "  'clean_kwargs': {},\n",
            "  'cmap': 'CMRmap_r',\n",
            "  'detrend': False,\n",
            "  'dtype': None,\n",
            "  'high_pass': None,\n",
            "  'high_variance_confounds': False,\n",
            "  'keep_masked_labels': True,\n",
            "  'labels': None,\n",
            "  'labels_img': '/root/nilearn_data/schaefer_2018/Schaefer2018_200Parcels_7Networks_order_FSLMNI152_2mm.nii.gz',\n",
            "  'low_pass': None,\n",
            "  'lut': None,\n",
            "  'mask_img': None,\n",
            "  'reports': True,\n",
            "  'smoothing_fwhm': None,\n",
            "  'standardize': False,\n",
            "  'standardize_confounds': True,\n",
            "  'strategy': 'mean',\n",
            "  't_r': None,\n",
            "  'target_affine': None,\n",
            "  'target_shape': None}, confounds=None, sample_mask=None, dtype=None, memory=Memory(location=nilearn_cache/joblib), memory_level=1, verbose=1)\n"
          ]
        },
        {
          "output_type": "display_data",
          "data": {
            "text/plain": [
              "\u001b[1;34m[\u001b[0m\u001b[34mNiftiLabelsMasker.wrapped\u001b[0m\u001b[1;34m]\u001b[0m Loading data from \u001b[35m/content/drive/MyDrive/raw_data/\u001b[0m\u001b[95mDenoised_p16_rs-2_MNI.nii.gz\u001b[0m\n"
            ],
            "text/html": [
              "<pre style=\"white-space:pre;overflow-x:auto;line-height:normal;font-family:Menlo,'DejaVu Sans Mono',consolas,'Courier New',monospace\"><span style=\"color: #000080; text-decoration-color: #000080; font-weight: bold\">[</span><span style=\"color: #000080; text-decoration-color: #000080\">NiftiLabelsMasker.wrapped</span><span style=\"color: #000080; text-decoration-color: #000080; font-weight: bold\">]</span> Loading data from <span style=\"color: #800080; text-decoration-color: #800080\">/content/drive/MyDrive/raw_data/</span><span style=\"color: #ff00ff; text-decoration-color: #ff00ff\">Denoised_p16_rs-2_MNI.nii.gz</span>\n",
              "</pre>\n"
            ]
          },
          "metadata": {}
        },
        {
          "output_type": "display_data",
          "data": {
            "text/plain": [
              "\u001b[1;34m[\u001b[0m\u001b[34mNiftiLabelsMasker.wrapped\u001b[0m\u001b[1;34m]\u001b[0m Extracting region signals\n"
            ],
            "text/html": [
              "<pre style=\"white-space:pre;overflow-x:auto;line-height:normal;font-family:Menlo,'DejaVu Sans Mono',consolas,'Courier New',monospace\"><span style=\"color: #000080; text-decoration-color: #000080; font-weight: bold\">[</span><span style=\"color: #000080; text-decoration-color: #000080\">NiftiLabelsMasker.wrapped</span><span style=\"color: #000080; text-decoration-color: #000080; font-weight: bold\">]</span> Extracting region signals\n",
              "</pre>\n"
            ]
          },
          "metadata": {}
        },
        {
          "output_type": "display_data",
          "data": {
            "text/plain": [
              "\u001b[1;34m[\u001b[0m\u001b[34mNiftiLabelsMasker.wrapped\u001b[0m\u001b[1;34m]\u001b[0m Cleaning extracted signals\n"
            ],
            "text/html": [
              "<pre style=\"white-space:pre;overflow-x:auto;line-height:normal;font-family:Menlo,'DejaVu Sans Mono',consolas,'Courier New',monospace\"><span style=\"color: #000080; text-decoration-color: #000080; font-weight: bold\">[</span><span style=\"color: #000080; text-decoration-color: #000080\">NiftiLabelsMasker.wrapped</span><span style=\"color: #000080; text-decoration-color: #000080; font-weight: bold\">]</span> Cleaning extracted signals\n",
              "</pre>\n"
            ]
          },
          "metadata": {}
        },
        {
          "output_type": "stream",
          "name": "stdout",
          "text": [
            "______________________________________________filter_and_extract - 27.7s, 0.5min\n"
          ]
        },
        {
          "output_type": "display_data",
          "data": {
            "text/plain": [
              "\u001b[1;34m[\u001b[0m\u001b[34mNiftiLabelsMasker.wrapped\u001b[0m\u001b[1;34m]\u001b[0m loading data from \n",
              "\u001b[35m/root/nilearn_data/schaefer_2018/\u001b[0m\u001b[95mSchaefer2018_200Parcels_7Networks_order_FSLMNI152_2mm.nii.gz\u001b[0m\n"
            ],
            "text/html": [
              "<pre style=\"white-space:pre;overflow-x:auto;line-height:normal;font-family:Menlo,'DejaVu Sans Mono',consolas,'Courier New',monospace\"><span style=\"color: #000080; text-decoration-color: #000080; font-weight: bold\">[</span><span style=\"color: #000080; text-decoration-color: #000080\">NiftiLabelsMasker.wrapped</span><span style=\"color: #000080; text-decoration-color: #000080; font-weight: bold\">]</span> loading data from \n",
              "<span style=\"color: #800080; text-decoration-color: #800080\">/root/nilearn_data/schaefer_2018/</span><span style=\"color: #ff00ff; text-decoration-color: #ff00ff\">Schaefer2018_200Parcels_7Networks_order_FSLMNI152_2mm.nii.gz</span>\n",
              "</pre>\n"
            ]
          },
          "metadata": {}
        },
        {
          "output_type": "stream",
          "name": "stdout",
          "text": [
            "________________________________________________________________________________\n",
            "[Memory] Calling nilearn.maskers.base_masker.filter_and_extract...\n",
            "filter_and_extract('/content/drive/MyDrive/raw_data/Denoised_p16_rs-3_MNI.nii.gz', <nilearn.maskers.nifti_labels_masker._ExtractionFunctor object at 0x7c5d9c758150>, \n",
            "{ 'background_label': 0,\n",
            "  'clean_args': None,\n",
            "  'clean_kwargs': {},\n",
            "  'cmap': 'CMRmap_r',\n",
            "  'detrend': False,\n",
            "  'dtype': None,\n",
            "  'high_pass': None,\n",
            "  'high_variance_confounds': False,\n",
            "  'keep_masked_labels': True,\n",
            "  'labels': None,\n",
            "  'labels_img': '/root/nilearn_data/schaefer_2018/Schaefer2018_200Parcels_7Networks_order_FSLMNI152_2mm.nii.gz',\n",
            "  'low_pass': None,\n",
            "  'lut': None,\n",
            "  'mask_img': None,\n",
            "  'reports': True,\n",
            "  'smoothing_fwhm': None,\n",
            "  'standardize': False,\n",
            "  'standardize_confounds': True,\n",
            "  'strategy': 'mean',\n",
            "  't_r': None,\n",
            "  'target_affine': None,\n",
            "  'target_shape': None}, confounds=None, sample_mask=None, dtype=None, memory=Memory(location=nilearn_cache/joblib), memory_level=1, verbose=1)\n"
          ]
        },
        {
          "output_type": "display_data",
          "data": {
            "text/plain": [
              "\u001b[1;34m[\u001b[0m\u001b[34mNiftiLabelsMasker.wrapped\u001b[0m\u001b[1;34m]\u001b[0m Loading data from \u001b[35m/content/drive/MyDrive/raw_data/\u001b[0m\u001b[95mDenoised_p16_rs-3_MNI.nii.gz\u001b[0m\n"
            ],
            "text/html": [
              "<pre style=\"white-space:pre;overflow-x:auto;line-height:normal;font-family:Menlo,'DejaVu Sans Mono',consolas,'Courier New',monospace\"><span style=\"color: #000080; text-decoration-color: #000080; font-weight: bold\">[</span><span style=\"color: #000080; text-decoration-color: #000080\">NiftiLabelsMasker.wrapped</span><span style=\"color: #000080; text-decoration-color: #000080; font-weight: bold\">]</span> Loading data from <span style=\"color: #800080; text-decoration-color: #800080\">/content/drive/MyDrive/raw_data/</span><span style=\"color: #ff00ff; text-decoration-color: #ff00ff\">Denoised_p16_rs-3_MNI.nii.gz</span>\n",
              "</pre>\n"
            ]
          },
          "metadata": {}
        },
        {
          "output_type": "display_data",
          "data": {
            "text/plain": [
              "\u001b[1;34m[\u001b[0m\u001b[34mNiftiLabelsMasker.wrapped\u001b[0m\u001b[1;34m]\u001b[0m Extracting region signals\n"
            ],
            "text/html": [
              "<pre style=\"white-space:pre;overflow-x:auto;line-height:normal;font-family:Menlo,'DejaVu Sans Mono',consolas,'Courier New',monospace\"><span style=\"color: #000080; text-decoration-color: #000080; font-weight: bold\">[</span><span style=\"color: #000080; text-decoration-color: #000080\">NiftiLabelsMasker.wrapped</span><span style=\"color: #000080; text-decoration-color: #000080; font-weight: bold\">]</span> Extracting region signals\n",
              "</pre>\n"
            ]
          },
          "metadata": {}
        },
        {
          "output_type": "display_data",
          "data": {
            "text/plain": [
              "\u001b[1;34m[\u001b[0m\u001b[34mNiftiLabelsMasker.wrapped\u001b[0m\u001b[1;34m]\u001b[0m Cleaning extracted signals\n"
            ],
            "text/html": [
              "<pre style=\"white-space:pre;overflow-x:auto;line-height:normal;font-family:Menlo,'DejaVu Sans Mono',consolas,'Courier New',monospace\"><span style=\"color: #000080; text-decoration-color: #000080; font-weight: bold\">[</span><span style=\"color: #000080; text-decoration-color: #000080\">NiftiLabelsMasker.wrapped</span><span style=\"color: #000080; text-decoration-color: #000080; font-weight: bold\">]</span> Cleaning extracted signals\n",
              "</pre>\n"
            ]
          },
          "metadata": {}
        },
        {
          "output_type": "stream",
          "name": "stdout",
          "text": [
            "______________________________________________filter_and_extract - 28.1s, 0.5min\n",
            "Extracted time series for 84 scans, each with shape (236, 200)\n"
          ]
        }
      ]
    },
    {
      "cell_type": "markdown",
      "source": [
        "### 2.4 Build a df of timepoints and region signals for each scan"
      ],
      "metadata": {
        "id": "5Pcp_5K348Ko"
      }
    },
    {
      "cell_type": "code",
      "source": [
        "# Build a list of records\n",
        "records = []\n",
        "for fname, ts in time_series.items():\n",
        "    # ts is shape (T, 200)\n",
        "    for t in range(ts.shape[0]):\n",
        "        row = {'scan': os.path.basename(fname), 'timepoint': t}\n",
        "        row.update({f\"ROI_{i}\": ts[t, i] for i in range(ts.shape[1])})\n",
        "        records.append(row)\n",
        "\n",
        "ts_df = pd.DataFrame.from_records(records)\n",
        "ts_df.head()"
      ],
      "metadata": {
        "colab": {
          "base_uri": "https://localhost:8080/",
          "height": 342
        },
        "id": "yURK-UwbfNUN",
        "outputId": "1e2ddb0c-a556-4dbe-952a-a506df8b9683"
      },
      "execution_count": null,
      "outputs": [
        {
          "output_type": "execute_result",
          "data": {
            "text/plain": [
              "                           scan  timepoint     ROI_0     ROI_1     ROI_2  \\\n",
              "0  Denoised_C01_rs-1_MNI.nii.gz          0  2.325405 -0.906794  3.296173   \n",
              "1  Denoised_C01_rs-1_MNI.nii.gz          1  1.655761 -1.505065  2.337543   \n",
              "2  Denoised_C01_rs-1_MNI.nii.gz          2  0.864392 -2.215235  1.104975   \n",
              "3  Denoised_C01_rs-1_MNI.nii.gz          3 -0.006823 -2.916015 -0.278159   \n",
              "4  Denoised_C01_rs-1_MNI.nii.gz          4 -0.866180 -3.436343 -1.599590   \n",
              "\n",
              "      ROI_3     ROI_4     ROI_5     ROI_6     ROI_7  ...   ROI_190   ROI_191  \\\n",
              "0 -3.729747  1.765465  1.859265 -1.530835  3.340798  ... -4.165909 -5.306962   \n",
              "1 -3.663717  0.885289  1.934811 -2.094643  3.284882  ... -2.068610 -4.106806   \n",
              "2 -3.770922 -0.204032  1.773100 -2.826010  2.964158  ... -0.231913 -2.813040   \n",
              "3 -3.987339 -1.385188  1.322681 -3.616983  2.352622  ...  0.726197 -1.862982   \n",
              "4 -4.172763 -2.485925  0.593504 -4.300085  1.475205  ...  0.267268 -1.691268   \n",
              "\n",
              "    ROI_192   ROI_193   ROI_194   ROI_195   ROI_196   ROI_197   ROI_198  \\\n",
              "0 -2.128399 -3.132540 -4.423469 -3.031343 -2.115925  0.761606 -1.236421   \n",
              "1 -2.544708 -2.766587 -4.570967 -2.313492 -1.761983  1.013404 -0.787222   \n",
              "2 -2.612766 -2.474446 -4.617666 -1.668673 -1.431533  1.125409 -0.301132   \n",
              "3 -2.306731 -2.387442 -4.522084 -1.207866 -1.211636  1.055626  0.199821   \n",
              "4 -1.673991 -2.598500 -4.244554 -1.022724 -1.190191  0.786042  0.677211   \n",
              "\n",
              "    ROI_199  \n",
              "0 -0.829004  \n",
              "1 -0.695933  \n",
              "2 -0.441941  \n",
              "3 -0.038357  \n",
              "4  0.498154  \n",
              "\n",
              "[5 rows x 202 columns]"
            ],
            "text/html": [
              "\n",
              "  <div id=\"df-1927c531-cf88-4d6e-9f30-57c16c7c4f7e\" class=\"colab-df-container\">\n",
              "    <div>\n",
              "<style scoped>\n",
              "    .dataframe tbody tr th:only-of-type {\n",
              "        vertical-align: middle;\n",
              "    }\n",
              "\n",
              "    .dataframe tbody tr th {\n",
              "        vertical-align: top;\n",
              "    }\n",
              "\n",
              "    .dataframe thead th {\n",
              "        text-align: right;\n",
              "    }\n",
              "</style>\n",
              "<table border=\"1\" class=\"dataframe\">\n",
              "  <thead>\n",
              "    <tr style=\"text-align: right;\">\n",
              "      <th></th>\n",
              "      <th>scan</th>\n",
              "      <th>timepoint</th>\n",
              "      <th>ROI_0</th>\n",
              "      <th>ROI_1</th>\n",
              "      <th>ROI_2</th>\n",
              "      <th>ROI_3</th>\n",
              "      <th>ROI_4</th>\n",
              "      <th>ROI_5</th>\n",
              "      <th>ROI_6</th>\n",
              "      <th>ROI_7</th>\n",
              "      <th>...</th>\n",
              "      <th>ROI_190</th>\n",
              "      <th>ROI_191</th>\n",
              "      <th>ROI_192</th>\n",
              "      <th>ROI_193</th>\n",
              "      <th>ROI_194</th>\n",
              "      <th>ROI_195</th>\n",
              "      <th>ROI_196</th>\n",
              "      <th>ROI_197</th>\n",
              "      <th>ROI_198</th>\n",
              "      <th>ROI_199</th>\n",
              "    </tr>\n",
              "  </thead>\n",
              "  <tbody>\n",
              "    <tr>\n",
              "      <th>0</th>\n",
              "      <td>Denoised_C01_rs-1_MNI.nii.gz</td>\n",
              "      <td>0</td>\n",
              "      <td>2.325405</td>\n",
              "      <td>-0.906794</td>\n",
              "      <td>3.296173</td>\n",
              "      <td>-3.729747</td>\n",
              "      <td>1.765465</td>\n",
              "      <td>1.859265</td>\n",
              "      <td>-1.530835</td>\n",
              "      <td>3.340798</td>\n",
              "      <td>...</td>\n",
              "      <td>-4.165909</td>\n",
              "      <td>-5.306962</td>\n",
              "      <td>-2.128399</td>\n",
              "      <td>-3.132540</td>\n",
              "      <td>-4.423469</td>\n",
              "      <td>-3.031343</td>\n",
              "      <td>-2.115925</td>\n",
              "      <td>0.761606</td>\n",
              "      <td>-1.236421</td>\n",
              "      <td>-0.829004</td>\n",
              "    </tr>\n",
              "    <tr>\n",
              "      <th>1</th>\n",
              "      <td>Denoised_C01_rs-1_MNI.nii.gz</td>\n",
              "      <td>1</td>\n",
              "      <td>1.655761</td>\n",
              "      <td>-1.505065</td>\n",
              "      <td>2.337543</td>\n",
              "      <td>-3.663717</td>\n",
              "      <td>0.885289</td>\n",
              "      <td>1.934811</td>\n",
              "      <td>-2.094643</td>\n",
              "      <td>3.284882</td>\n",
              "      <td>...</td>\n",
              "      <td>-2.068610</td>\n",
              "      <td>-4.106806</td>\n",
              "      <td>-2.544708</td>\n",
              "      <td>-2.766587</td>\n",
              "      <td>-4.570967</td>\n",
              "      <td>-2.313492</td>\n",
              "      <td>-1.761983</td>\n",
              "      <td>1.013404</td>\n",
              "      <td>-0.787222</td>\n",
              "      <td>-0.695933</td>\n",
              "    </tr>\n",
              "    <tr>\n",
              "      <th>2</th>\n",
              "      <td>Denoised_C01_rs-1_MNI.nii.gz</td>\n",
              "      <td>2</td>\n",
              "      <td>0.864392</td>\n",
              "      <td>-2.215235</td>\n",
              "      <td>1.104975</td>\n",
              "      <td>-3.770922</td>\n",
              "      <td>-0.204032</td>\n",
              "      <td>1.773100</td>\n",
              "      <td>-2.826010</td>\n",
              "      <td>2.964158</td>\n",
              "      <td>...</td>\n",
              "      <td>-0.231913</td>\n",
              "      <td>-2.813040</td>\n",
              "      <td>-2.612766</td>\n",
              "      <td>-2.474446</td>\n",
              "      <td>-4.617666</td>\n",
              "      <td>-1.668673</td>\n",
              "      <td>-1.431533</td>\n",
              "      <td>1.125409</td>\n",
              "      <td>-0.301132</td>\n",
              "      <td>-0.441941</td>\n",
              "    </tr>\n",
              "    <tr>\n",
              "      <th>3</th>\n",
              "      <td>Denoised_C01_rs-1_MNI.nii.gz</td>\n",
              "      <td>3</td>\n",
              "      <td>-0.006823</td>\n",
              "      <td>-2.916015</td>\n",
              "      <td>-0.278159</td>\n",
              "      <td>-3.987339</td>\n",
              "      <td>-1.385188</td>\n",
              "      <td>1.322681</td>\n",
              "      <td>-3.616983</td>\n",
              "      <td>2.352622</td>\n",
              "      <td>...</td>\n",
              "      <td>0.726197</td>\n",
              "      <td>-1.862982</td>\n",
              "      <td>-2.306731</td>\n",
              "      <td>-2.387442</td>\n",
              "      <td>-4.522084</td>\n",
              "      <td>-1.207866</td>\n",
              "      <td>-1.211636</td>\n",
              "      <td>1.055626</td>\n",
              "      <td>0.199821</td>\n",
              "      <td>-0.038357</td>\n",
              "    </tr>\n",
              "    <tr>\n",
              "      <th>4</th>\n",
              "      <td>Denoised_C01_rs-1_MNI.nii.gz</td>\n",
              "      <td>4</td>\n",
              "      <td>-0.866180</td>\n",
              "      <td>-3.436343</td>\n",
              "      <td>-1.599590</td>\n",
              "      <td>-4.172763</td>\n",
              "      <td>-2.485925</td>\n",
              "      <td>0.593504</td>\n",
              "      <td>-4.300085</td>\n",
              "      <td>1.475205</td>\n",
              "      <td>...</td>\n",
              "      <td>0.267268</td>\n",
              "      <td>-1.691268</td>\n",
              "      <td>-1.673991</td>\n",
              "      <td>-2.598500</td>\n",
              "      <td>-4.244554</td>\n",
              "      <td>-1.022724</td>\n",
              "      <td>-1.190191</td>\n",
              "      <td>0.786042</td>\n",
              "      <td>0.677211</td>\n",
              "      <td>0.498154</td>\n",
              "    </tr>\n",
              "  </tbody>\n",
              "</table>\n",
              "<p>5 rows × 202 columns</p>\n",
              "</div>\n",
              "    <div class=\"colab-df-buttons\">\n",
              "\n",
              "  <div class=\"colab-df-container\">\n",
              "    <button class=\"colab-df-convert\" onclick=\"convertToInteractive('df-1927c531-cf88-4d6e-9f30-57c16c7c4f7e')\"\n",
              "            title=\"Convert this dataframe to an interactive table.\"\n",
              "            style=\"display:none;\">\n",
              "\n",
              "  <svg xmlns=\"http://www.w3.org/2000/svg\" height=\"24px\" viewBox=\"0 -960 960 960\">\n",
              "    <path d=\"M120-120v-720h720v720H120Zm60-500h600v-160H180v160Zm220 220h160v-160H400v160Zm0 220h160v-160H400v160ZM180-400h160v-160H180v160Zm440 0h160v-160H620v160ZM180-180h160v-160H180v160Zm440 0h160v-160H620v160Z\"/>\n",
              "  </svg>\n",
              "    </button>\n",
              "\n",
              "  <style>\n",
              "    .colab-df-container {\n",
              "      display:flex;\n",
              "      gap: 12px;\n",
              "    }\n",
              "\n",
              "    .colab-df-convert {\n",
              "      background-color: #E8F0FE;\n",
              "      border: none;\n",
              "      border-radius: 50%;\n",
              "      cursor: pointer;\n",
              "      display: none;\n",
              "      fill: #1967D2;\n",
              "      height: 32px;\n",
              "      padding: 0 0 0 0;\n",
              "      width: 32px;\n",
              "    }\n",
              "\n",
              "    .colab-df-convert:hover {\n",
              "      background-color: #E2EBFA;\n",
              "      box-shadow: 0px 1px 2px rgba(60, 64, 67, 0.3), 0px 1px 3px 1px rgba(60, 64, 67, 0.15);\n",
              "      fill: #174EA6;\n",
              "    }\n",
              "\n",
              "    .colab-df-buttons div {\n",
              "      margin-bottom: 4px;\n",
              "    }\n",
              "\n",
              "    [theme=dark] .colab-df-convert {\n",
              "      background-color: #3B4455;\n",
              "      fill: #D2E3FC;\n",
              "    }\n",
              "\n",
              "    [theme=dark] .colab-df-convert:hover {\n",
              "      background-color: #434B5C;\n",
              "      box-shadow: 0px 1px 3px 1px rgba(0, 0, 0, 0.15);\n",
              "      filter: drop-shadow(0px 1px 2px rgba(0, 0, 0, 0.3));\n",
              "      fill: #FFFFFF;\n",
              "    }\n",
              "  </style>\n",
              "\n",
              "    <script>\n",
              "      const buttonEl =\n",
              "        document.querySelector('#df-1927c531-cf88-4d6e-9f30-57c16c7c4f7e button.colab-df-convert');\n",
              "      buttonEl.style.display =\n",
              "        google.colab.kernel.accessAllowed ? 'block' : 'none';\n",
              "\n",
              "      async function convertToInteractive(key) {\n",
              "        const element = document.querySelector('#df-1927c531-cf88-4d6e-9f30-57c16c7c4f7e');\n",
              "        const dataTable =\n",
              "          await google.colab.kernel.invokeFunction('convertToInteractive',\n",
              "                                                    [key], {});\n",
              "        if (!dataTable) return;\n",
              "\n",
              "        const docLinkHtml = 'Like what you see? Visit the ' +\n",
              "          '<a target=\"_blank\" href=https://colab.research.google.com/notebooks/data_table.ipynb>data table notebook</a>'\n",
              "          + ' to learn more about interactive tables.';\n",
              "        element.innerHTML = '';\n",
              "        dataTable['output_type'] = 'display_data';\n",
              "        await google.colab.output.renderOutput(dataTable, element);\n",
              "        const docLink = document.createElement('div');\n",
              "        docLink.innerHTML = docLinkHtml;\n",
              "        element.appendChild(docLink);\n",
              "      }\n",
              "    </script>\n",
              "  </div>\n",
              "\n",
              "\n",
              "    <div id=\"df-4d49ddb5-0aa8-4fc2-a18c-6c1b0cb809eb\">\n",
              "      <button class=\"colab-df-quickchart\" onclick=\"quickchart('df-4d49ddb5-0aa8-4fc2-a18c-6c1b0cb809eb')\"\n",
              "                title=\"Suggest charts\"\n",
              "                style=\"display:none;\">\n",
              "\n",
              "<svg xmlns=\"http://www.w3.org/2000/svg\" height=\"24px\"viewBox=\"0 0 24 24\"\n",
              "     width=\"24px\">\n",
              "    <g>\n",
              "        <path d=\"M19 3H5c-1.1 0-2 .9-2 2v14c0 1.1.9 2 2 2h14c1.1 0 2-.9 2-2V5c0-1.1-.9-2-2-2zM9 17H7v-7h2v7zm4 0h-2V7h2v10zm4 0h-2v-4h2v4z\"/>\n",
              "    </g>\n",
              "</svg>\n",
              "      </button>\n",
              "\n",
              "<style>\n",
              "  .colab-df-quickchart {\n",
              "      --bg-color: #E8F0FE;\n",
              "      --fill-color: #1967D2;\n",
              "      --hover-bg-color: #E2EBFA;\n",
              "      --hover-fill-color: #174EA6;\n",
              "      --disabled-fill-color: #AAA;\n",
              "      --disabled-bg-color: #DDD;\n",
              "  }\n",
              "\n",
              "  [theme=dark] .colab-df-quickchart {\n",
              "      --bg-color: #3B4455;\n",
              "      --fill-color: #D2E3FC;\n",
              "      --hover-bg-color: #434B5C;\n",
              "      --hover-fill-color: #FFFFFF;\n",
              "      --disabled-bg-color: #3B4455;\n",
              "      --disabled-fill-color: #666;\n",
              "  }\n",
              "\n",
              "  .colab-df-quickchart {\n",
              "    background-color: var(--bg-color);\n",
              "    border: none;\n",
              "    border-radius: 50%;\n",
              "    cursor: pointer;\n",
              "    display: none;\n",
              "    fill: var(--fill-color);\n",
              "    height: 32px;\n",
              "    padding: 0;\n",
              "    width: 32px;\n",
              "  }\n",
              "\n",
              "  .colab-df-quickchart:hover {\n",
              "    background-color: var(--hover-bg-color);\n",
              "    box-shadow: 0 1px 2px rgba(60, 64, 67, 0.3), 0 1px 3px 1px rgba(60, 64, 67, 0.15);\n",
              "    fill: var(--button-hover-fill-color);\n",
              "  }\n",
              "\n",
              "  .colab-df-quickchart-complete:disabled,\n",
              "  .colab-df-quickchart-complete:disabled:hover {\n",
              "    background-color: var(--disabled-bg-color);\n",
              "    fill: var(--disabled-fill-color);\n",
              "    box-shadow: none;\n",
              "  }\n",
              "\n",
              "  .colab-df-spinner {\n",
              "    border: 2px solid var(--fill-color);\n",
              "    border-color: transparent;\n",
              "    border-bottom-color: var(--fill-color);\n",
              "    animation:\n",
              "      spin 1s steps(1) infinite;\n",
              "  }\n",
              "\n",
              "  @keyframes spin {\n",
              "    0% {\n",
              "      border-color: transparent;\n",
              "      border-bottom-color: var(--fill-color);\n",
              "      border-left-color: var(--fill-color);\n",
              "    }\n",
              "    20% {\n",
              "      border-color: transparent;\n",
              "      border-left-color: var(--fill-color);\n",
              "      border-top-color: var(--fill-color);\n",
              "    }\n",
              "    30% {\n",
              "      border-color: transparent;\n",
              "      border-left-color: var(--fill-color);\n",
              "      border-top-color: var(--fill-color);\n",
              "      border-right-color: var(--fill-color);\n",
              "    }\n",
              "    40% {\n",
              "      border-color: transparent;\n",
              "      border-right-color: var(--fill-color);\n",
              "      border-top-color: var(--fill-color);\n",
              "    }\n",
              "    60% {\n",
              "      border-color: transparent;\n",
              "      border-right-color: var(--fill-color);\n",
              "    }\n",
              "    80% {\n",
              "      border-color: transparent;\n",
              "      border-right-color: var(--fill-color);\n",
              "      border-bottom-color: var(--fill-color);\n",
              "    }\n",
              "    90% {\n",
              "      border-color: transparent;\n",
              "      border-bottom-color: var(--fill-color);\n",
              "    }\n",
              "  }\n",
              "</style>\n",
              "\n",
              "      <script>\n",
              "        async function quickchart(key) {\n",
              "          const quickchartButtonEl =\n",
              "            document.querySelector('#' + key + ' button');\n",
              "          quickchartButtonEl.disabled = true;  // To prevent multiple clicks.\n",
              "          quickchartButtonEl.classList.add('colab-df-spinner');\n",
              "          try {\n",
              "            const charts = await google.colab.kernel.invokeFunction(\n",
              "                'suggestCharts', [key], {});\n",
              "          } catch (error) {\n",
              "            console.error('Error during call to suggestCharts:', error);\n",
              "          }\n",
              "          quickchartButtonEl.classList.remove('colab-df-spinner');\n",
              "          quickchartButtonEl.classList.add('colab-df-quickchart-complete');\n",
              "        }\n",
              "        (() => {\n",
              "          let quickchartButtonEl =\n",
              "            document.querySelector('#df-4d49ddb5-0aa8-4fc2-a18c-6c1b0cb809eb button');\n",
              "          quickchartButtonEl.style.display =\n",
              "            google.colab.kernel.accessAllowed ? 'block' : 'none';\n",
              "        })();\n",
              "      </script>\n",
              "    </div>\n",
              "\n",
              "    </div>\n",
              "  </div>\n"
            ],
            "application/vnd.google.colaboratory.intrinsic+json": {
              "type": "dataframe",
              "variable_name": "ts_df"
            }
          },
          "metadata": {},
          "execution_count": 8
        }
      ]
    },
    {
      "cell_type": "markdown",
      "source": [
        "### 2.5 Save the extracted time series"
      ],
      "metadata": {
        "id": "OyudpePh6UEH"
      }
    },
    {
      "cell_type": "code",
      "source": [
        "output_path = os.path.join(data_dir, 'time_series_dict.pkl')\n",
        "with open(output_path, 'wb') as f:\n",
        "    pickle.dump(time_series, f)\n",
        "\n",
        "print(f\"Saved time series dict to {output_path}\")"
      ],
      "metadata": {
        "colab": {
          "base_uri": "https://localhost:8080/"
        },
        "id": "uggDpgTT4nzB",
        "outputId": "e7d5dcc5-cc3b-4c2e-da16-fd9c03bdc7bc"
      },
      "execution_count": null,
      "outputs": [
        {
          "output_type": "stream",
          "name": "stdout",
          "text": [
            "Saved time series dict to /content/drive/MyDrive/raw_data/time_series_dict.pkl\n"
          ]
        }
      ]
    },
    {
      "cell_type": "markdown",
      "source": [
        "## 3. Compute per‐region variability"
      ],
      "metadata": {
        "id": "wSPCFyKpDnF6"
      }
    },
    {
      "cell_type": "code",
      "source": [
        "# Load the time series file\n",
        "output_path = os.path.join(data_dir, 'time_series_dict.pkl')\n",
        "with open(output_path, 'rb') as f:\n",
        "    time_series = pickle.load(f)"
      ],
      "metadata": {
        "id": "U9kF46cVMVUX"
      },
      "execution_count": null,
      "outputs": []
    },
    {
      "cell_type": "markdown",
      "source": [
        "### 3.1 Compute variability (std) in each region across all time-points for each scan"
      ],
      "metadata": {
        "id": "h-R8OYHcDwS-"
      }
    },
    {
      "cell_type": "code",
      "source": [
        "# Compute std for each region across time for each scan\n",
        "variability = {\n",
        "    fname: ts.std(axis=0) for fname, ts in time_series.items()\n",
        "}\n",
        "\n",
        "# Build a DataFrame\n",
        "roi_cols = [f\"ROI_{i}\" for i in range(next(iter(variability.values())).shape[0])]\n",
        "var_df = pd.DataFrame.from_dict(variability, orient='index', columns=roi_cols)\n",
        "var_df.index.name = 'scan'\n",
        "var_df.reset_index(inplace=True)\n",
        "\n",
        "var_df.head()"
      ],
      "metadata": {
        "colab": {
          "base_uri": "https://localhost:8080/",
          "height": 255
        },
        "id": "L__g0_ivl3ti",
        "outputId": "0a74a5fd-be2f-4f19-9f85-ec67e754b97e"
      },
      "execution_count": null,
      "outputs": [
        {
          "output_type": "execute_result",
          "data": {
            "text/plain": [
              "                                                scan     ROI_0     ROI_1  \\\n",
              "0  /content/drive/MyDrive/raw_data/Denoised_C01_r...  1.605341  2.337575   \n",
              "1  /content/drive/MyDrive/raw_data/Denoised_C01_r...  1.114963  2.935813   \n",
              "2  /content/drive/MyDrive/raw_data/Denoised_C01_r...  2.927762  7.177607   \n",
              "3  /content/drive/MyDrive/raw_data/Denoised_C02_r...  2.517980  3.923062   \n",
              "4  /content/drive/MyDrive/raw_data/Denoised_C02_r...  1.365584  2.535571   \n",
              "\n",
              "      ROI_2     ROI_3      ROI_4     ROI_5      ROI_6     ROI_7     ROI_8  \\\n",
              "0  2.131480  2.926725   3.277017  2.801390   4.830689  2.283908  2.220401   \n",
              "1  1.705017  2.469147   4.871023  2.099069   5.755569  1.980255  4.228475   \n",
              "2  5.862166  6.060543  10.293820  3.827666  12.910129  4.026211  9.292055   \n",
              "3  2.677515  4.195957   4.344526  1.496369   6.454253  2.290159  5.227879   \n",
              "4  2.617238  3.157567   3.028446  1.692062   4.546976  3.259797  4.168501   \n",
              "\n",
              "   ...    ROI_190   ROI_191   ROI_192   ROI_193   ROI_194   ROI_195   ROI_196  \\\n",
              "0  ...  12.094370  9.932542  3.677664  5.393105  3.181712  4.753881  3.810434   \n",
              "1  ...   9.340275  6.943423  2.950129  3.739832  2.070822  2.976509  2.755897   \n",
              "2  ...   1.202379  5.315594  5.153642  3.515115  2.825149  5.639696  4.712777   \n",
              "3  ...   3.167315  3.384230  2.205581  2.704285  2.440419  3.884986  2.935590   \n",
              "4  ...   3.457377  3.670710  2.098629  4.417566  3.235526  3.723499  2.227788   \n",
              "\n",
              "    ROI_197   ROI_198   ROI_199  \n",
              "0  2.910377  2.353492  2.417642  \n",
              "1  3.049572  2.842664  3.735765  \n",
              "2  4.828084  5.206172  6.612858  \n",
              "3  2.827439  3.638058  3.292448  \n",
              "4  2.669691  3.366681  2.887252  \n",
              "\n",
              "[5 rows x 201 columns]"
            ],
            "text/html": [
              "\n",
              "  <div id=\"df-9e2e9585-40b8-471b-bcb6-4ccac7f74e5d\" class=\"colab-df-container\">\n",
              "    <div>\n",
              "<style scoped>\n",
              "    .dataframe tbody tr th:only-of-type {\n",
              "        vertical-align: middle;\n",
              "    }\n",
              "\n",
              "    .dataframe tbody tr th {\n",
              "        vertical-align: top;\n",
              "    }\n",
              "\n",
              "    .dataframe thead th {\n",
              "        text-align: right;\n",
              "    }\n",
              "</style>\n",
              "<table border=\"1\" class=\"dataframe\">\n",
              "  <thead>\n",
              "    <tr style=\"text-align: right;\">\n",
              "      <th></th>\n",
              "      <th>scan</th>\n",
              "      <th>ROI_0</th>\n",
              "      <th>ROI_1</th>\n",
              "      <th>ROI_2</th>\n",
              "      <th>ROI_3</th>\n",
              "      <th>ROI_4</th>\n",
              "      <th>ROI_5</th>\n",
              "      <th>ROI_6</th>\n",
              "      <th>ROI_7</th>\n",
              "      <th>ROI_8</th>\n",
              "      <th>...</th>\n",
              "      <th>ROI_190</th>\n",
              "      <th>ROI_191</th>\n",
              "      <th>ROI_192</th>\n",
              "      <th>ROI_193</th>\n",
              "      <th>ROI_194</th>\n",
              "      <th>ROI_195</th>\n",
              "      <th>ROI_196</th>\n",
              "      <th>ROI_197</th>\n",
              "      <th>ROI_198</th>\n",
              "      <th>ROI_199</th>\n",
              "    </tr>\n",
              "  </thead>\n",
              "  <tbody>\n",
              "    <tr>\n",
              "      <th>0</th>\n",
              "      <td>/content/drive/MyDrive/raw_data/Denoised_C01_r...</td>\n",
              "      <td>1.605341</td>\n",
              "      <td>2.337575</td>\n",
              "      <td>2.131480</td>\n",
              "      <td>2.926725</td>\n",
              "      <td>3.277017</td>\n",
              "      <td>2.801390</td>\n",
              "      <td>4.830689</td>\n",
              "      <td>2.283908</td>\n",
              "      <td>2.220401</td>\n",
              "      <td>...</td>\n",
              "      <td>12.094370</td>\n",
              "      <td>9.932542</td>\n",
              "      <td>3.677664</td>\n",
              "      <td>5.393105</td>\n",
              "      <td>3.181712</td>\n",
              "      <td>4.753881</td>\n",
              "      <td>3.810434</td>\n",
              "      <td>2.910377</td>\n",
              "      <td>2.353492</td>\n",
              "      <td>2.417642</td>\n",
              "    </tr>\n",
              "    <tr>\n",
              "      <th>1</th>\n",
              "      <td>/content/drive/MyDrive/raw_data/Denoised_C01_r...</td>\n",
              "      <td>1.114963</td>\n",
              "      <td>2.935813</td>\n",
              "      <td>1.705017</td>\n",
              "      <td>2.469147</td>\n",
              "      <td>4.871023</td>\n",
              "      <td>2.099069</td>\n",
              "      <td>5.755569</td>\n",
              "      <td>1.980255</td>\n",
              "      <td>4.228475</td>\n",
              "      <td>...</td>\n",
              "      <td>9.340275</td>\n",
              "      <td>6.943423</td>\n",
              "      <td>2.950129</td>\n",
              "      <td>3.739832</td>\n",
              "      <td>2.070822</td>\n",
              "      <td>2.976509</td>\n",
              "      <td>2.755897</td>\n",
              "      <td>3.049572</td>\n",
              "      <td>2.842664</td>\n",
              "      <td>3.735765</td>\n",
              "    </tr>\n",
              "    <tr>\n",
              "      <th>2</th>\n",
              "      <td>/content/drive/MyDrive/raw_data/Denoised_C01_r...</td>\n",
              "      <td>2.927762</td>\n",
              "      <td>7.177607</td>\n",
              "      <td>5.862166</td>\n",
              "      <td>6.060543</td>\n",
              "      <td>10.293820</td>\n",
              "      <td>3.827666</td>\n",
              "      <td>12.910129</td>\n",
              "      <td>4.026211</td>\n",
              "      <td>9.292055</td>\n",
              "      <td>...</td>\n",
              "      <td>1.202379</td>\n",
              "      <td>5.315594</td>\n",
              "      <td>5.153642</td>\n",
              "      <td>3.515115</td>\n",
              "      <td>2.825149</td>\n",
              "      <td>5.639696</td>\n",
              "      <td>4.712777</td>\n",
              "      <td>4.828084</td>\n",
              "      <td>5.206172</td>\n",
              "      <td>6.612858</td>\n",
              "    </tr>\n",
              "    <tr>\n",
              "      <th>3</th>\n",
              "      <td>/content/drive/MyDrive/raw_data/Denoised_C02_r...</td>\n",
              "      <td>2.517980</td>\n",
              "      <td>3.923062</td>\n",
              "      <td>2.677515</td>\n",
              "      <td>4.195957</td>\n",
              "      <td>4.344526</td>\n",
              "      <td>1.496369</td>\n",
              "      <td>6.454253</td>\n",
              "      <td>2.290159</td>\n",
              "      <td>5.227879</td>\n",
              "      <td>...</td>\n",
              "      <td>3.167315</td>\n",
              "      <td>3.384230</td>\n",
              "      <td>2.205581</td>\n",
              "      <td>2.704285</td>\n",
              "      <td>2.440419</td>\n",
              "      <td>3.884986</td>\n",
              "      <td>2.935590</td>\n",
              "      <td>2.827439</td>\n",
              "      <td>3.638058</td>\n",
              "      <td>3.292448</td>\n",
              "    </tr>\n",
              "    <tr>\n",
              "      <th>4</th>\n",
              "      <td>/content/drive/MyDrive/raw_data/Denoised_C02_r...</td>\n",
              "      <td>1.365584</td>\n",
              "      <td>2.535571</td>\n",
              "      <td>2.617238</td>\n",
              "      <td>3.157567</td>\n",
              "      <td>3.028446</td>\n",
              "      <td>1.692062</td>\n",
              "      <td>4.546976</td>\n",
              "      <td>3.259797</td>\n",
              "      <td>4.168501</td>\n",
              "      <td>...</td>\n",
              "      <td>3.457377</td>\n",
              "      <td>3.670710</td>\n",
              "      <td>2.098629</td>\n",
              "      <td>4.417566</td>\n",
              "      <td>3.235526</td>\n",
              "      <td>3.723499</td>\n",
              "      <td>2.227788</td>\n",
              "      <td>2.669691</td>\n",
              "      <td>3.366681</td>\n",
              "      <td>2.887252</td>\n",
              "    </tr>\n",
              "  </tbody>\n",
              "</table>\n",
              "<p>5 rows × 201 columns</p>\n",
              "</div>\n",
              "    <div class=\"colab-df-buttons\">\n",
              "\n",
              "  <div class=\"colab-df-container\">\n",
              "    <button class=\"colab-df-convert\" onclick=\"convertToInteractive('df-9e2e9585-40b8-471b-bcb6-4ccac7f74e5d')\"\n",
              "            title=\"Convert this dataframe to an interactive table.\"\n",
              "            style=\"display:none;\">\n",
              "\n",
              "  <svg xmlns=\"http://www.w3.org/2000/svg\" height=\"24px\" viewBox=\"0 -960 960 960\">\n",
              "    <path d=\"M120-120v-720h720v720H120Zm60-500h600v-160H180v160Zm220 220h160v-160H400v160Zm0 220h160v-160H400v160ZM180-400h160v-160H180v160Zm440 0h160v-160H620v160ZM180-180h160v-160H180v160Zm440 0h160v-160H620v160Z\"/>\n",
              "  </svg>\n",
              "    </button>\n",
              "\n",
              "  <style>\n",
              "    .colab-df-container {\n",
              "      display:flex;\n",
              "      gap: 12px;\n",
              "    }\n",
              "\n",
              "    .colab-df-convert {\n",
              "      background-color: #E8F0FE;\n",
              "      border: none;\n",
              "      border-radius: 50%;\n",
              "      cursor: pointer;\n",
              "      display: none;\n",
              "      fill: #1967D2;\n",
              "      height: 32px;\n",
              "      padding: 0 0 0 0;\n",
              "      width: 32px;\n",
              "    }\n",
              "\n",
              "    .colab-df-convert:hover {\n",
              "      background-color: #E2EBFA;\n",
              "      box-shadow: 0px 1px 2px rgba(60, 64, 67, 0.3), 0px 1px 3px 1px rgba(60, 64, 67, 0.15);\n",
              "      fill: #174EA6;\n",
              "    }\n",
              "\n",
              "    .colab-df-buttons div {\n",
              "      margin-bottom: 4px;\n",
              "    }\n",
              "\n",
              "    [theme=dark] .colab-df-convert {\n",
              "      background-color: #3B4455;\n",
              "      fill: #D2E3FC;\n",
              "    }\n",
              "\n",
              "    [theme=dark] .colab-df-convert:hover {\n",
              "      background-color: #434B5C;\n",
              "      box-shadow: 0px 1px 3px 1px rgba(0, 0, 0, 0.15);\n",
              "      filter: drop-shadow(0px 1px 2px rgba(0, 0, 0, 0.3));\n",
              "      fill: #FFFFFF;\n",
              "    }\n",
              "  </style>\n",
              "\n",
              "    <script>\n",
              "      const buttonEl =\n",
              "        document.querySelector('#df-9e2e9585-40b8-471b-bcb6-4ccac7f74e5d button.colab-df-convert');\n",
              "      buttonEl.style.display =\n",
              "        google.colab.kernel.accessAllowed ? 'block' : 'none';\n",
              "\n",
              "      async function convertToInteractive(key) {\n",
              "        const element = document.querySelector('#df-9e2e9585-40b8-471b-bcb6-4ccac7f74e5d');\n",
              "        const dataTable =\n",
              "          await google.colab.kernel.invokeFunction('convertToInteractive',\n",
              "                                                    [key], {});\n",
              "        if (!dataTable) return;\n",
              "\n",
              "        const docLinkHtml = 'Like what you see? Visit the ' +\n",
              "          '<a target=\"_blank\" href=https://colab.research.google.com/notebooks/data_table.ipynb>data table notebook</a>'\n",
              "          + ' to learn more about interactive tables.';\n",
              "        element.innerHTML = '';\n",
              "        dataTable['output_type'] = 'display_data';\n",
              "        await google.colab.output.renderOutput(dataTable, element);\n",
              "        const docLink = document.createElement('div');\n",
              "        docLink.innerHTML = docLinkHtml;\n",
              "        element.appendChild(docLink);\n",
              "      }\n",
              "    </script>\n",
              "  </div>\n",
              "\n",
              "\n",
              "    <div id=\"df-bbbcfe92-5dce-4f81-9ab9-5ebe2b3dbaf3\">\n",
              "      <button class=\"colab-df-quickchart\" onclick=\"quickchart('df-bbbcfe92-5dce-4f81-9ab9-5ebe2b3dbaf3')\"\n",
              "                title=\"Suggest charts\"\n",
              "                style=\"display:none;\">\n",
              "\n",
              "<svg xmlns=\"http://www.w3.org/2000/svg\" height=\"24px\"viewBox=\"0 0 24 24\"\n",
              "     width=\"24px\">\n",
              "    <g>\n",
              "        <path d=\"M19 3H5c-1.1 0-2 .9-2 2v14c0 1.1.9 2 2 2h14c1.1 0 2-.9 2-2V5c0-1.1-.9-2-2-2zM9 17H7v-7h2v7zm4 0h-2V7h2v10zm4 0h-2v-4h2v4z\"/>\n",
              "    </g>\n",
              "</svg>\n",
              "      </button>\n",
              "\n",
              "<style>\n",
              "  .colab-df-quickchart {\n",
              "      --bg-color: #E8F0FE;\n",
              "      --fill-color: #1967D2;\n",
              "      --hover-bg-color: #E2EBFA;\n",
              "      --hover-fill-color: #174EA6;\n",
              "      --disabled-fill-color: #AAA;\n",
              "      --disabled-bg-color: #DDD;\n",
              "  }\n",
              "\n",
              "  [theme=dark] .colab-df-quickchart {\n",
              "      --bg-color: #3B4455;\n",
              "      --fill-color: #D2E3FC;\n",
              "      --hover-bg-color: #434B5C;\n",
              "      --hover-fill-color: #FFFFFF;\n",
              "      --disabled-bg-color: #3B4455;\n",
              "      --disabled-fill-color: #666;\n",
              "  }\n",
              "\n",
              "  .colab-df-quickchart {\n",
              "    background-color: var(--bg-color);\n",
              "    border: none;\n",
              "    border-radius: 50%;\n",
              "    cursor: pointer;\n",
              "    display: none;\n",
              "    fill: var(--fill-color);\n",
              "    height: 32px;\n",
              "    padding: 0;\n",
              "    width: 32px;\n",
              "  }\n",
              "\n",
              "  .colab-df-quickchart:hover {\n",
              "    background-color: var(--hover-bg-color);\n",
              "    box-shadow: 0 1px 2px rgba(60, 64, 67, 0.3), 0 1px 3px 1px rgba(60, 64, 67, 0.15);\n",
              "    fill: var(--button-hover-fill-color);\n",
              "  }\n",
              "\n",
              "  .colab-df-quickchart-complete:disabled,\n",
              "  .colab-df-quickchart-complete:disabled:hover {\n",
              "    background-color: var(--disabled-bg-color);\n",
              "    fill: var(--disabled-fill-color);\n",
              "    box-shadow: none;\n",
              "  }\n",
              "\n",
              "  .colab-df-spinner {\n",
              "    border: 2px solid var(--fill-color);\n",
              "    border-color: transparent;\n",
              "    border-bottom-color: var(--fill-color);\n",
              "    animation:\n",
              "      spin 1s steps(1) infinite;\n",
              "  }\n",
              "\n",
              "  @keyframes spin {\n",
              "    0% {\n",
              "      border-color: transparent;\n",
              "      border-bottom-color: var(--fill-color);\n",
              "      border-left-color: var(--fill-color);\n",
              "    }\n",
              "    20% {\n",
              "      border-color: transparent;\n",
              "      border-left-color: var(--fill-color);\n",
              "      border-top-color: var(--fill-color);\n",
              "    }\n",
              "    30% {\n",
              "      border-color: transparent;\n",
              "      border-left-color: var(--fill-color);\n",
              "      border-top-color: var(--fill-color);\n",
              "      border-right-color: var(--fill-color);\n",
              "    }\n",
              "    40% {\n",
              "      border-color: transparent;\n",
              "      border-right-color: var(--fill-color);\n",
              "      border-top-color: var(--fill-color);\n",
              "    }\n",
              "    60% {\n",
              "      border-color: transparent;\n",
              "      border-right-color: var(--fill-color);\n",
              "    }\n",
              "    80% {\n",
              "      border-color: transparent;\n",
              "      border-right-color: var(--fill-color);\n",
              "      border-bottom-color: var(--fill-color);\n",
              "    }\n",
              "    90% {\n",
              "      border-color: transparent;\n",
              "      border-bottom-color: var(--fill-color);\n",
              "    }\n",
              "  }\n",
              "</style>\n",
              "\n",
              "      <script>\n",
              "        async function quickchart(key) {\n",
              "          const quickchartButtonEl =\n",
              "            document.querySelector('#' + key + ' button');\n",
              "          quickchartButtonEl.disabled = true;  // To prevent multiple clicks.\n",
              "          quickchartButtonEl.classList.add('colab-df-spinner');\n",
              "          try {\n",
              "            const charts = await google.colab.kernel.invokeFunction(\n",
              "                'suggestCharts', [key], {});\n",
              "          } catch (error) {\n",
              "            console.error('Error during call to suggestCharts:', error);\n",
              "          }\n",
              "          quickchartButtonEl.classList.remove('colab-df-spinner');\n",
              "          quickchartButtonEl.classList.add('colab-df-quickchart-complete');\n",
              "        }\n",
              "        (() => {\n",
              "          let quickchartButtonEl =\n",
              "            document.querySelector('#df-bbbcfe92-5dce-4f81-9ab9-5ebe2b3dbaf3 button');\n",
              "          quickchartButtonEl.style.display =\n",
              "            google.colab.kernel.accessAllowed ? 'block' : 'none';\n",
              "        })();\n",
              "      </script>\n",
              "    </div>\n",
              "\n",
              "    </div>\n",
              "  </div>\n"
            ],
            "application/vnd.google.colaboratory.intrinsic+json": {
              "type": "dataframe",
              "variable_name": "var_df"
            }
          },
          "metadata": {},
          "execution_count": 25
        }
      ]
    },
    {
      "cell_type": "markdown",
      "source": [
        "### 3.2 Extract subject and session from file name and group controls & patients"
      ],
      "metadata": {
        "id": "rFpw8g67EOHS"
      }
    },
    {
      "cell_type": "code",
      "source": [
        "# Extract subject & session\n",
        "for path in all_scans:\n",
        "  fname = os.path.basename(path)\n",
        "  parts = fname.split('_')\n",
        "  subject = parts[1]                      # C01, p04, etc\n",
        "  session = int(parts[2].split('-')[1])   # 1, 2, 3\n",
        "\n",
        "  var_df.loc[var_df['scan'] == path, 'subject'] = subject\n",
        "  var_df.loc[var_df['scan'] == path, 'session'] = session\n",
        "\n",
        "# Group controls & patients\n",
        "var_df['group'] = var_df['subject'].str.startswith('C').map({True: 'control', False: 'patient'})\n",
        "\n",
        "var_df.head()"
      ],
      "metadata": {
        "colab": {
          "base_uri": "https://localhost:8080/",
          "height": 255
        },
        "id": "OEqHL-88-0SZ",
        "outputId": "ec174a2b-273a-4155-8cad-a212e73eafda"
      },
      "execution_count": null,
      "outputs": [
        {
          "output_type": "execute_result",
          "data": {
            "text/plain": [
              "                                                scan     ROI_0     ROI_1  \\\n",
              "0  /content/drive/MyDrive/raw_data/Denoised_C01_r...  1.605341  2.337575   \n",
              "1  /content/drive/MyDrive/raw_data/Denoised_C01_r...  1.114963  2.935813   \n",
              "2  /content/drive/MyDrive/raw_data/Denoised_C01_r...  2.927762  7.177607   \n",
              "3  /content/drive/MyDrive/raw_data/Denoised_C02_r...  2.517980  3.923062   \n",
              "4  /content/drive/MyDrive/raw_data/Denoised_C02_r...  1.365584  2.535571   \n",
              "\n",
              "      ROI_2     ROI_3      ROI_4     ROI_5      ROI_6     ROI_7     ROI_8  \\\n",
              "0  2.131480  2.926725   3.277017  2.801390   4.830689  2.283908  2.220401   \n",
              "1  1.705017  2.469147   4.871023  2.099069   5.755569  1.980255  4.228475   \n",
              "2  5.862166  6.060543  10.293820  3.827666  12.910129  4.026211  9.292055   \n",
              "3  2.677515  4.195957   4.344526  1.496369   6.454253  2.290159  5.227879   \n",
              "4  2.617238  3.157567   3.028446  1.692062   4.546976  3.259797  4.168501   \n",
              "\n",
              "   ...   ROI_193   ROI_194   ROI_195   ROI_196   ROI_197   ROI_198   ROI_199  \\\n",
              "0  ...  5.393105  3.181712  4.753881  3.810434  2.910377  2.353492  2.417642   \n",
              "1  ...  3.739832  2.070822  2.976509  2.755897  3.049572  2.842664  3.735765   \n",
              "2  ...  3.515115  2.825149  5.639696  4.712777  4.828084  5.206172  6.612858   \n",
              "3  ...  2.704285  2.440419  3.884986  2.935590  2.827439  3.638058  3.292448   \n",
              "4  ...  4.417566  3.235526  3.723499  2.227788  2.669691  3.366681  2.887252   \n",
              "\n",
              "   subject  session    group  \n",
              "0      C01      1.0  control  \n",
              "1      C01      2.0  control  \n",
              "2      C01      3.0  control  \n",
              "3      C02      1.0  control  \n",
              "4      C02      2.0  control  \n",
              "\n",
              "[5 rows x 204 columns]"
            ],
            "text/html": [
              "\n",
              "  <div id=\"df-d656b4dd-7e20-4fcb-ac14-f89773a4092d\" class=\"colab-df-container\">\n",
              "    <div>\n",
              "<style scoped>\n",
              "    .dataframe tbody tr th:only-of-type {\n",
              "        vertical-align: middle;\n",
              "    }\n",
              "\n",
              "    .dataframe tbody tr th {\n",
              "        vertical-align: top;\n",
              "    }\n",
              "\n",
              "    .dataframe thead th {\n",
              "        text-align: right;\n",
              "    }\n",
              "</style>\n",
              "<table border=\"1\" class=\"dataframe\">\n",
              "  <thead>\n",
              "    <tr style=\"text-align: right;\">\n",
              "      <th></th>\n",
              "      <th>scan</th>\n",
              "      <th>ROI_0</th>\n",
              "      <th>ROI_1</th>\n",
              "      <th>ROI_2</th>\n",
              "      <th>ROI_3</th>\n",
              "      <th>ROI_4</th>\n",
              "      <th>ROI_5</th>\n",
              "      <th>ROI_6</th>\n",
              "      <th>ROI_7</th>\n",
              "      <th>ROI_8</th>\n",
              "      <th>...</th>\n",
              "      <th>ROI_193</th>\n",
              "      <th>ROI_194</th>\n",
              "      <th>ROI_195</th>\n",
              "      <th>ROI_196</th>\n",
              "      <th>ROI_197</th>\n",
              "      <th>ROI_198</th>\n",
              "      <th>ROI_199</th>\n",
              "      <th>subject</th>\n",
              "      <th>session</th>\n",
              "      <th>group</th>\n",
              "    </tr>\n",
              "  </thead>\n",
              "  <tbody>\n",
              "    <tr>\n",
              "      <th>0</th>\n",
              "      <td>/content/drive/MyDrive/raw_data/Denoised_C01_r...</td>\n",
              "      <td>1.605341</td>\n",
              "      <td>2.337575</td>\n",
              "      <td>2.131480</td>\n",
              "      <td>2.926725</td>\n",
              "      <td>3.277017</td>\n",
              "      <td>2.801390</td>\n",
              "      <td>4.830689</td>\n",
              "      <td>2.283908</td>\n",
              "      <td>2.220401</td>\n",
              "      <td>...</td>\n",
              "      <td>5.393105</td>\n",
              "      <td>3.181712</td>\n",
              "      <td>4.753881</td>\n",
              "      <td>3.810434</td>\n",
              "      <td>2.910377</td>\n",
              "      <td>2.353492</td>\n",
              "      <td>2.417642</td>\n",
              "      <td>C01</td>\n",
              "      <td>1.0</td>\n",
              "      <td>control</td>\n",
              "    </tr>\n",
              "    <tr>\n",
              "      <th>1</th>\n",
              "      <td>/content/drive/MyDrive/raw_data/Denoised_C01_r...</td>\n",
              "      <td>1.114963</td>\n",
              "      <td>2.935813</td>\n",
              "      <td>1.705017</td>\n",
              "      <td>2.469147</td>\n",
              "      <td>4.871023</td>\n",
              "      <td>2.099069</td>\n",
              "      <td>5.755569</td>\n",
              "      <td>1.980255</td>\n",
              "      <td>4.228475</td>\n",
              "      <td>...</td>\n",
              "      <td>3.739832</td>\n",
              "      <td>2.070822</td>\n",
              "      <td>2.976509</td>\n",
              "      <td>2.755897</td>\n",
              "      <td>3.049572</td>\n",
              "      <td>2.842664</td>\n",
              "      <td>3.735765</td>\n",
              "      <td>C01</td>\n",
              "      <td>2.0</td>\n",
              "      <td>control</td>\n",
              "    </tr>\n",
              "    <tr>\n",
              "      <th>2</th>\n",
              "      <td>/content/drive/MyDrive/raw_data/Denoised_C01_r...</td>\n",
              "      <td>2.927762</td>\n",
              "      <td>7.177607</td>\n",
              "      <td>5.862166</td>\n",
              "      <td>6.060543</td>\n",
              "      <td>10.293820</td>\n",
              "      <td>3.827666</td>\n",
              "      <td>12.910129</td>\n",
              "      <td>4.026211</td>\n",
              "      <td>9.292055</td>\n",
              "      <td>...</td>\n",
              "      <td>3.515115</td>\n",
              "      <td>2.825149</td>\n",
              "      <td>5.639696</td>\n",
              "      <td>4.712777</td>\n",
              "      <td>4.828084</td>\n",
              "      <td>5.206172</td>\n",
              "      <td>6.612858</td>\n",
              "      <td>C01</td>\n",
              "      <td>3.0</td>\n",
              "      <td>control</td>\n",
              "    </tr>\n",
              "    <tr>\n",
              "      <th>3</th>\n",
              "      <td>/content/drive/MyDrive/raw_data/Denoised_C02_r...</td>\n",
              "      <td>2.517980</td>\n",
              "      <td>3.923062</td>\n",
              "      <td>2.677515</td>\n",
              "      <td>4.195957</td>\n",
              "      <td>4.344526</td>\n",
              "      <td>1.496369</td>\n",
              "      <td>6.454253</td>\n",
              "      <td>2.290159</td>\n",
              "      <td>5.227879</td>\n",
              "      <td>...</td>\n",
              "      <td>2.704285</td>\n",
              "      <td>2.440419</td>\n",
              "      <td>3.884986</td>\n",
              "      <td>2.935590</td>\n",
              "      <td>2.827439</td>\n",
              "      <td>3.638058</td>\n",
              "      <td>3.292448</td>\n",
              "      <td>C02</td>\n",
              "      <td>1.0</td>\n",
              "      <td>control</td>\n",
              "    </tr>\n",
              "    <tr>\n",
              "      <th>4</th>\n",
              "      <td>/content/drive/MyDrive/raw_data/Denoised_C02_r...</td>\n",
              "      <td>1.365584</td>\n",
              "      <td>2.535571</td>\n",
              "      <td>2.617238</td>\n",
              "      <td>3.157567</td>\n",
              "      <td>3.028446</td>\n",
              "      <td>1.692062</td>\n",
              "      <td>4.546976</td>\n",
              "      <td>3.259797</td>\n",
              "      <td>4.168501</td>\n",
              "      <td>...</td>\n",
              "      <td>4.417566</td>\n",
              "      <td>3.235526</td>\n",
              "      <td>3.723499</td>\n",
              "      <td>2.227788</td>\n",
              "      <td>2.669691</td>\n",
              "      <td>3.366681</td>\n",
              "      <td>2.887252</td>\n",
              "      <td>C02</td>\n",
              "      <td>2.0</td>\n",
              "      <td>control</td>\n",
              "    </tr>\n",
              "  </tbody>\n",
              "</table>\n",
              "<p>5 rows × 204 columns</p>\n",
              "</div>\n",
              "    <div class=\"colab-df-buttons\">\n",
              "\n",
              "  <div class=\"colab-df-container\">\n",
              "    <button class=\"colab-df-convert\" onclick=\"convertToInteractive('df-d656b4dd-7e20-4fcb-ac14-f89773a4092d')\"\n",
              "            title=\"Convert this dataframe to an interactive table.\"\n",
              "            style=\"display:none;\">\n",
              "\n",
              "  <svg xmlns=\"http://www.w3.org/2000/svg\" height=\"24px\" viewBox=\"0 -960 960 960\">\n",
              "    <path d=\"M120-120v-720h720v720H120Zm60-500h600v-160H180v160Zm220 220h160v-160H400v160Zm0 220h160v-160H400v160ZM180-400h160v-160H180v160Zm440 0h160v-160H620v160ZM180-180h160v-160H180v160Zm440 0h160v-160H620v160Z\"/>\n",
              "  </svg>\n",
              "    </button>\n",
              "\n",
              "  <style>\n",
              "    .colab-df-container {\n",
              "      display:flex;\n",
              "      gap: 12px;\n",
              "    }\n",
              "\n",
              "    .colab-df-convert {\n",
              "      background-color: #E8F0FE;\n",
              "      border: none;\n",
              "      border-radius: 50%;\n",
              "      cursor: pointer;\n",
              "      display: none;\n",
              "      fill: #1967D2;\n",
              "      height: 32px;\n",
              "      padding: 0 0 0 0;\n",
              "      width: 32px;\n",
              "    }\n",
              "\n",
              "    .colab-df-convert:hover {\n",
              "      background-color: #E2EBFA;\n",
              "      box-shadow: 0px 1px 2px rgba(60, 64, 67, 0.3), 0px 1px 3px 1px rgba(60, 64, 67, 0.15);\n",
              "      fill: #174EA6;\n",
              "    }\n",
              "\n",
              "    .colab-df-buttons div {\n",
              "      margin-bottom: 4px;\n",
              "    }\n",
              "\n",
              "    [theme=dark] .colab-df-convert {\n",
              "      background-color: #3B4455;\n",
              "      fill: #D2E3FC;\n",
              "    }\n",
              "\n",
              "    [theme=dark] .colab-df-convert:hover {\n",
              "      background-color: #434B5C;\n",
              "      box-shadow: 0px 1px 3px 1px rgba(0, 0, 0, 0.15);\n",
              "      filter: drop-shadow(0px 1px 2px rgba(0, 0, 0, 0.3));\n",
              "      fill: #FFFFFF;\n",
              "    }\n",
              "  </style>\n",
              "\n",
              "    <script>\n",
              "      const buttonEl =\n",
              "        document.querySelector('#df-d656b4dd-7e20-4fcb-ac14-f89773a4092d button.colab-df-convert');\n",
              "      buttonEl.style.display =\n",
              "        google.colab.kernel.accessAllowed ? 'block' : 'none';\n",
              "\n",
              "      async function convertToInteractive(key) {\n",
              "        const element = document.querySelector('#df-d656b4dd-7e20-4fcb-ac14-f89773a4092d');\n",
              "        const dataTable =\n",
              "          await google.colab.kernel.invokeFunction('convertToInteractive',\n",
              "                                                    [key], {});\n",
              "        if (!dataTable) return;\n",
              "\n",
              "        const docLinkHtml = 'Like what you see? Visit the ' +\n",
              "          '<a target=\"_blank\" href=https://colab.research.google.com/notebooks/data_table.ipynb>data table notebook</a>'\n",
              "          + ' to learn more about interactive tables.';\n",
              "        element.innerHTML = '';\n",
              "        dataTable['output_type'] = 'display_data';\n",
              "        await google.colab.output.renderOutput(dataTable, element);\n",
              "        const docLink = document.createElement('div');\n",
              "        docLink.innerHTML = docLinkHtml;\n",
              "        element.appendChild(docLink);\n",
              "      }\n",
              "    </script>\n",
              "  </div>\n",
              "\n",
              "\n",
              "    <div id=\"df-e7342231-7f9c-4a08-b9e3-4d02b45fd25b\">\n",
              "      <button class=\"colab-df-quickchart\" onclick=\"quickchart('df-e7342231-7f9c-4a08-b9e3-4d02b45fd25b')\"\n",
              "                title=\"Suggest charts\"\n",
              "                style=\"display:none;\">\n",
              "\n",
              "<svg xmlns=\"http://www.w3.org/2000/svg\" height=\"24px\"viewBox=\"0 0 24 24\"\n",
              "     width=\"24px\">\n",
              "    <g>\n",
              "        <path d=\"M19 3H5c-1.1 0-2 .9-2 2v14c0 1.1.9 2 2 2h14c1.1 0 2-.9 2-2V5c0-1.1-.9-2-2-2zM9 17H7v-7h2v7zm4 0h-2V7h2v10zm4 0h-2v-4h2v4z\"/>\n",
              "    </g>\n",
              "</svg>\n",
              "      </button>\n",
              "\n",
              "<style>\n",
              "  .colab-df-quickchart {\n",
              "      --bg-color: #E8F0FE;\n",
              "      --fill-color: #1967D2;\n",
              "      --hover-bg-color: #E2EBFA;\n",
              "      --hover-fill-color: #174EA6;\n",
              "      --disabled-fill-color: #AAA;\n",
              "      --disabled-bg-color: #DDD;\n",
              "  }\n",
              "\n",
              "  [theme=dark] .colab-df-quickchart {\n",
              "      --bg-color: #3B4455;\n",
              "      --fill-color: #D2E3FC;\n",
              "      --hover-bg-color: #434B5C;\n",
              "      --hover-fill-color: #FFFFFF;\n",
              "      --disabled-bg-color: #3B4455;\n",
              "      --disabled-fill-color: #666;\n",
              "  }\n",
              "\n",
              "  .colab-df-quickchart {\n",
              "    background-color: var(--bg-color);\n",
              "    border: none;\n",
              "    border-radius: 50%;\n",
              "    cursor: pointer;\n",
              "    display: none;\n",
              "    fill: var(--fill-color);\n",
              "    height: 32px;\n",
              "    padding: 0;\n",
              "    width: 32px;\n",
              "  }\n",
              "\n",
              "  .colab-df-quickchart:hover {\n",
              "    background-color: var(--hover-bg-color);\n",
              "    box-shadow: 0 1px 2px rgba(60, 64, 67, 0.3), 0 1px 3px 1px rgba(60, 64, 67, 0.15);\n",
              "    fill: var(--button-hover-fill-color);\n",
              "  }\n",
              "\n",
              "  .colab-df-quickchart-complete:disabled,\n",
              "  .colab-df-quickchart-complete:disabled:hover {\n",
              "    background-color: var(--disabled-bg-color);\n",
              "    fill: var(--disabled-fill-color);\n",
              "    box-shadow: none;\n",
              "  }\n",
              "\n",
              "  .colab-df-spinner {\n",
              "    border: 2px solid var(--fill-color);\n",
              "    border-color: transparent;\n",
              "    border-bottom-color: var(--fill-color);\n",
              "    animation:\n",
              "      spin 1s steps(1) infinite;\n",
              "  }\n",
              "\n",
              "  @keyframes spin {\n",
              "    0% {\n",
              "      border-color: transparent;\n",
              "      border-bottom-color: var(--fill-color);\n",
              "      border-left-color: var(--fill-color);\n",
              "    }\n",
              "    20% {\n",
              "      border-color: transparent;\n",
              "      border-left-color: var(--fill-color);\n",
              "      border-top-color: var(--fill-color);\n",
              "    }\n",
              "    30% {\n",
              "      border-color: transparent;\n",
              "      border-left-color: var(--fill-color);\n",
              "      border-top-color: var(--fill-color);\n",
              "      border-right-color: var(--fill-color);\n",
              "    }\n",
              "    40% {\n",
              "      border-color: transparent;\n",
              "      border-right-color: var(--fill-color);\n",
              "      border-top-color: var(--fill-color);\n",
              "    }\n",
              "    60% {\n",
              "      border-color: transparent;\n",
              "      border-right-color: var(--fill-color);\n",
              "    }\n",
              "    80% {\n",
              "      border-color: transparent;\n",
              "      border-right-color: var(--fill-color);\n",
              "      border-bottom-color: var(--fill-color);\n",
              "    }\n",
              "    90% {\n",
              "      border-color: transparent;\n",
              "      border-bottom-color: var(--fill-color);\n",
              "    }\n",
              "  }\n",
              "</style>\n",
              "\n",
              "      <script>\n",
              "        async function quickchart(key) {\n",
              "          const quickchartButtonEl =\n",
              "            document.querySelector('#' + key + ' button');\n",
              "          quickchartButtonEl.disabled = true;  // To prevent multiple clicks.\n",
              "          quickchartButtonEl.classList.add('colab-df-spinner');\n",
              "          try {\n",
              "            const charts = await google.colab.kernel.invokeFunction(\n",
              "                'suggestCharts', [key], {});\n",
              "          } catch (error) {\n",
              "            console.error('Error during call to suggestCharts:', error);\n",
              "          }\n",
              "          quickchartButtonEl.classList.remove('colab-df-spinner');\n",
              "          quickchartButtonEl.classList.add('colab-df-quickchart-complete');\n",
              "        }\n",
              "        (() => {\n",
              "          let quickchartButtonEl =\n",
              "            document.querySelector('#df-e7342231-7f9c-4a08-b9e3-4d02b45fd25b button');\n",
              "          quickchartButtonEl.style.display =\n",
              "            google.colab.kernel.accessAllowed ? 'block' : 'none';\n",
              "        })();\n",
              "      </script>\n",
              "    </div>\n",
              "\n",
              "    </div>\n",
              "  </div>\n"
            ],
            "application/vnd.google.colaboratory.intrinsic+json": {
              "type": "dataframe",
              "variable_name": "var_df"
            }
          },
          "metadata": {},
          "execution_count": 26
        }
      ]
    },
    {
      "cell_type": "markdown",
      "source": [
        "## 4. (Optional) Build control baselines & compute patient z-scores\n",
        "\n",
        "Now that we have each scan’s per-ROI variability in var_df, we’ll:\n",
        "\n",
        "1. Compute, for each ROI, the mean and std of variability across all control scans.\n",
        "\n",
        "2. Merge those baselines back onto var_df and, for patient rows, compute\n",
        "\n",
        "$$ z-score\\ =\\ \\frac{x - μ}{σ}  $$\n",
        "\n",
        "- This is done to get an idea of which regions defer the most in controls vs patients. Hence, Setp 4 is **optional**.\n"
      ],
      "metadata": {
        "id": "VZma-MUpFIFb"
      }
    },
    {
      "cell_type": "markdown",
      "source": [
        "### 4.1 Compute control baselines"
      ],
      "metadata": {
        "id": "9vk5LQbBFRS_"
      }
    },
    {
      "cell_type": "code",
      "source": [
        "roi_cols = [c for c in var_df.columns if c.startswith('ROI_')]\n",
        "ctrl_df = var_df[var_df['group']=='control']\n",
        "\n",
        "baselines = pd.DataFrame({\n",
        "    'ROI': roi_cols,\n",
        "    'ctrl_mean': ctrl_df[roi_cols].mean().values,\n",
        "    'ctrl_std': ctrl_df[roi_cols].std().values,\n",
        "})\n",
        "\n",
        "# turn into dicts for fast lookup\n",
        "mean_map = dict(zip(baselines['ROI'], baselines['ctrl_mean']))\n",
        "std_map  = dict(zip(baselines['ROI'], baselines['ctrl_std']))"
      ],
      "metadata": {
        "id": "zcd_BTgXHQsE"
      },
      "execution_count": null,
      "outputs": []
    },
    {
      "cell_type": "markdown",
      "source": [
        "### 4.2 Compute pateints' z-scores"
      ],
      "metadata": {
        "id": "suEGfnckLlnV"
      }
    },
    {
      "cell_type": "code",
      "source": [
        "patient_df = var_df[var_df['group']=='patient'].copy()\n",
        "\n",
        "# Prepare your ROI list and baseline Series\n",
        "roi_cols   = [c for c in var_df.columns if c.startswith('ROI_')]\n",
        "ctrl_means = pd.Series(mean_map)    # index = 'ROI_i', values = control means\n",
        "ctrl_stds  = pd.Series(std_map)     # index = 'ROI_i', values = control stds\n",
        "\n",
        "# z-score computation\n",
        "z_df = (\n",
        "    patient_df[roi_cols]\n",
        "    .subtract(ctrl_means, axis=1)        # patient_df[roi] - control_mean\n",
        "    .div(ctrl_stds + 1e-8, axis=1)       # / control_std\n",
        ")\n",
        "z_df.columns = [c + '_z' for c in roi_cols]\n",
        "\n",
        "# Concatenate back onto patient_df in one shot\n",
        "patient_df = pd.concat([patient_df, z_df], axis=1)\n",
        "\n",
        "patient_df.head()"
      ],
      "metadata": {
        "colab": {
          "base_uri": "https://localhost:8080/",
          "height": 255
        },
        "id": "-D7CAU8vLuem",
        "outputId": "e93ba90a-dd0c-4615-da43-8004f9d6a95e"
      },
      "execution_count": null,
      "outputs": [
        {
          "output_type": "execute_result",
          "data": {
            "text/plain": [
              "                                                 scan     ROI_0     ROI_1  \\\n",
              "36  /content/drive/MyDrive/raw_data/Denoised_p01_r...  1.736980  2.038797   \n",
              "37  /content/drive/MyDrive/raw_data/Denoised_p01_r...  2.765586  3.405374   \n",
              "38  /content/drive/MyDrive/raw_data/Denoised_p01_r...  1.588066  2.874317   \n",
              "39  /content/drive/MyDrive/raw_data/Denoised_p02_r...  4.206203  5.359783   \n",
              "40  /content/drive/MyDrive/raw_data/Denoised_p02_r...  2.918385  2.803646   \n",
              "\n",
              "       ROI_2     ROI_3     ROI_4     ROI_5      ROI_6     ROI_7     ROI_8  \\\n",
              "36  3.944206  4.888185  3.235929  1.875313   5.215375  4.085690  4.122474   \n",
              "37  5.569689  5.645340  6.533579  2.431163   6.924487  3.400078  6.646292   \n",
              "38  3.354217  4.379899  4.714576  1.627656   5.441312  2.386513  4.479458   \n",
              "39  4.768195  6.174993  6.845204  4.606702  10.388179  5.339890  7.960947   \n",
              "40  3.673354  3.455336  2.340362  5.351758   4.357622  6.301980  3.024425   \n",
              "\n",
              "    ...  ROI_190_z  ROI_191_z  ROI_192_z  ROI_193_z  ROI_194_z  ROI_195_z  \\\n",
              "36  ...   0.964123  -0.074216   0.221423   0.276284  -0.143680  -1.408812   \n",
              "37  ...   0.730898  -0.148858   1.162186   0.075603   1.126510  -0.817822   \n",
              "38  ...  -0.139571  -0.006018   0.528701   1.788954   1.282824  -0.041068   \n",
              "39  ...  -0.816372  -0.862645  -0.816860   0.348535   0.093813  -1.489968   \n",
              "40  ...  -0.312408  -0.305330  -0.621993  -0.418744  -0.305195  -1.503885   \n",
              "\n",
              "    ROI_196_z  ROI_197_z  ROI_198_z  ROI_199_z  \n",
              "36  -1.424676  -1.373870  -1.223126  -1.200645  \n",
              "37  -0.807914  -1.273032  -0.695317  -0.899810  \n",
              "38  -0.241495  -0.595457  -0.754558  -0.079277  \n",
              "39  -0.643656   1.204029   1.035759   1.696917  \n",
              "40  -1.251459   0.523459   1.003500   1.144453  \n",
              "\n",
              "[5 rows x 404 columns]"
            ],
            "text/html": [
              "\n",
              "  <div id=\"df-ef856dcb-cba0-4711-8bd9-6ca61d41d37d\" class=\"colab-df-container\">\n",
              "    <div>\n",
              "<style scoped>\n",
              "    .dataframe tbody tr th:only-of-type {\n",
              "        vertical-align: middle;\n",
              "    }\n",
              "\n",
              "    .dataframe tbody tr th {\n",
              "        vertical-align: top;\n",
              "    }\n",
              "\n",
              "    .dataframe thead th {\n",
              "        text-align: right;\n",
              "    }\n",
              "</style>\n",
              "<table border=\"1\" class=\"dataframe\">\n",
              "  <thead>\n",
              "    <tr style=\"text-align: right;\">\n",
              "      <th></th>\n",
              "      <th>scan</th>\n",
              "      <th>ROI_0</th>\n",
              "      <th>ROI_1</th>\n",
              "      <th>ROI_2</th>\n",
              "      <th>ROI_3</th>\n",
              "      <th>ROI_4</th>\n",
              "      <th>ROI_5</th>\n",
              "      <th>ROI_6</th>\n",
              "      <th>ROI_7</th>\n",
              "      <th>ROI_8</th>\n",
              "      <th>...</th>\n",
              "      <th>ROI_190_z</th>\n",
              "      <th>ROI_191_z</th>\n",
              "      <th>ROI_192_z</th>\n",
              "      <th>ROI_193_z</th>\n",
              "      <th>ROI_194_z</th>\n",
              "      <th>ROI_195_z</th>\n",
              "      <th>ROI_196_z</th>\n",
              "      <th>ROI_197_z</th>\n",
              "      <th>ROI_198_z</th>\n",
              "      <th>ROI_199_z</th>\n",
              "    </tr>\n",
              "  </thead>\n",
              "  <tbody>\n",
              "    <tr>\n",
              "      <th>36</th>\n",
              "      <td>/content/drive/MyDrive/raw_data/Denoised_p01_r...</td>\n",
              "      <td>1.736980</td>\n",
              "      <td>2.038797</td>\n",
              "      <td>3.944206</td>\n",
              "      <td>4.888185</td>\n",
              "      <td>3.235929</td>\n",
              "      <td>1.875313</td>\n",
              "      <td>5.215375</td>\n",
              "      <td>4.085690</td>\n",
              "      <td>4.122474</td>\n",
              "      <td>...</td>\n",
              "      <td>0.964123</td>\n",
              "      <td>-0.074216</td>\n",
              "      <td>0.221423</td>\n",
              "      <td>0.276284</td>\n",
              "      <td>-0.143680</td>\n",
              "      <td>-1.408812</td>\n",
              "      <td>-1.424676</td>\n",
              "      <td>-1.373870</td>\n",
              "      <td>-1.223126</td>\n",
              "      <td>-1.200645</td>\n",
              "    </tr>\n",
              "    <tr>\n",
              "      <th>37</th>\n",
              "      <td>/content/drive/MyDrive/raw_data/Denoised_p01_r...</td>\n",
              "      <td>2.765586</td>\n",
              "      <td>3.405374</td>\n",
              "      <td>5.569689</td>\n",
              "      <td>5.645340</td>\n",
              "      <td>6.533579</td>\n",
              "      <td>2.431163</td>\n",
              "      <td>6.924487</td>\n",
              "      <td>3.400078</td>\n",
              "      <td>6.646292</td>\n",
              "      <td>...</td>\n",
              "      <td>0.730898</td>\n",
              "      <td>-0.148858</td>\n",
              "      <td>1.162186</td>\n",
              "      <td>0.075603</td>\n",
              "      <td>1.126510</td>\n",
              "      <td>-0.817822</td>\n",
              "      <td>-0.807914</td>\n",
              "      <td>-1.273032</td>\n",
              "      <td>-0.695317</td>\n",
              "      <td>-0.899810</td>\n",
              "    </tr>\n",
              "    <tr>\n",
              "      <th>38</th>\n",
              "      <td>/content/drive/MyDrive/raw_data/Denoised_p01_r...</td>\n",
              "      <td>1.588066</td>\n",
              "      <td>2.874317</td>\n",
              "      <td>3.354217</td>\n",
              "      <td>4.379899</td>\n",
              "      <td>4.714576</td>\n",
              "      <td>1.627656</td>\n",
              "      <td>5.441312</td>\n",
              "      <td>2.386513</td>\n",
              "      <td>4.479458</td>\n",
              "      <td>...</td>\n",
              "      <td>-0.139571</td>\n",
              "      <td>-0.006018</td>\n",
              "      <td>0.528701</td>\n",
              "      <td>1.788954</td>\n",
              "      <td>1.282824</td>\n",
              "      <td>-0.041068</td>\n",
              "      <td>-0.241495</td>\n",
              "      <td>-0.595457</td>\n",
              "      <td>-0.754558</td>\n",
              "      <td>-0.079277</td>\n",
              "    </tr>\n",
              "    <tr>\n",
              "      <th>39</th>\n",
              "      <td>/content/drive/MyDrive/raw_data/Denoised_p02_r...</td>\n",
              "      <td>4.206203</td>\n",
              "      <td>5.359783</td>\n",
              "      <td>4.768195</td>\n",
              "      <td>6.174993</td>\n",
              "      <td>6.845204</td>\n",
              "      <td>4.606702</td>\n",
              "      <td>10.388179</td>\n",
              "      <td>5.339890</td>\n",
              "      <td>7.960947</td>\n",
              "      <td>...</td>\n",
              "      <td>-0.816372</td>\n",
              "      <td>-0.862645</td>\n",
              "      <td>-0.816860</td>\n",
              "      <td>0.348535</td>\n",
              "      <td>0.093813</td>\n",
              "      <td>-1.489968</td>\n",
              "      <td>-0.643656</td>\n",
              "      <td>1.204029</td>\n",
              "      <td>1.035759</td>\n",
              "      <td>1.696917</td>\n",
              "    </tr>\n",
              "    <tr>\n",
              "      <th>40</th>\n",
              "      <td>/content/drive/MyDrive/raw_data/Denoised_p02_r...</td>\n",
              "      <td>2.918385</td>\n",
              "      <td>2.803646</td>\n",
              "      <td>3.673354</td>\n",
              "      <td>3.455336</td>\n",
              "      <td>2.340362</td>\n",
              "      <td>5.351758</td>\n",
              "      <td>4.357622</td>\n",
              "      <td>6.301980</td>\n",
              "      <td>3.024425</td>\n",
              "      <td>...</td>\n",
              "      <td>-0.312408</td>\n",
              "      <td>-0.305330</td>\n",
              "      <td>-0.621993</td>\n",
              "      <td>-0.418744</td>\n",
              "      <td>-0.305195</td>\n",
              "      <td>-1.503885</td>\n",
              "      <td>-1.251459</td>\n",
              "      <td>0.523459</td>\n",
              "      <td>1.003500</td>\n",
              "      <td>1.144453</td>\n",
              "    </tr>\n",
              "  </tbody>\n",
              "</table>\n",
              "<p>5 rows × 404 columns</p>\n",
              "</div>\n",
              "    <div class=\"colab-df-buttons\">\n",
              "\n",
              "  <div class=\"colab-df-container\">\n",
              "    <button class=\"colab-df-convert\" onclick=\"convertToInteractive('df-ef856dcb-cba0-4711-8bd9-6ca61d41d37d')\"\n",
              "            title=\"Convert this dataframe to an interactive table.\"\n",
              "            style=\"display:none;\">\n",
              "\n",
              "  <svg xmlns=\"http://www.w3.org/2000/svg\" height=\"24px\" viewBox=\"0 -960 960 960\">\n",
              "    <path d=\"M120-120v-720h720v720H120Zm60-500h600v-160H180v160Zm220 220h160v-160H400v160Zm0 220h160v-160H400v160ZM180-400h160v-160H180v160Zm440 0h160v-160H620v160ZM180-180h160v-160H180v160Zm440 0h160v-160H620v160Z\"/>\n",
              "  </svg>\n",
              "    </button>\n",
              "\n",
              "  <style>\n",
              "    .colab-df-container {\n",
              "      display:flex;\n",
              "      gap: 12px;\n",
              "    }\n",
              "\n",
              "    .colab-df-convert {\n",
              "      background-color: #E8F0FE;\n",
              "      border: none;\n",
              "      border-radius: 50%;\n",
              "      cursor: pointer;\n",
              "      display: none;\n",
              "      fill: #1967D2;\n",
              "      height: 32px;\n",
              "      padding: 0 0 0 0;\n",
              "      width: 32px;\n",
              "    }\n",
              "\n",
              "    .colab-df-convert:hover {\n",
              "      background-color: #E2EBFA;\n",
              "      box-shadow: 0px 1px 2px rgba(60, 64, 67, 0.3), 0px 1px 3px 1px rgba(60, 64, 67, 0.15);\n",
              "      fill: #174EA6;\n",
              "    }\n",
              "\n",
              "    .colab-df-buttons div {\n",
              "      margin-bottom: 4px;\n",
              "    }\n",
              "\n",
              "    [theme=dark] .colab-df-convert {\n",
              "      background-color: #3B4455;\n",
              "      fill: #D2E3FC;\n",
              "    }\n",
              "\n",
              "    [theme=dark] .colab-df-convert:hover {\n",
              "      background-color: #434B5C;\n",
              "      box-shadow: 0px 1px 3px 1px rgba(0, 0, 0, 0.15);\n",
              "      filter: drop-shadow(0px 1px 2px rgba(0, 0, 0, 0.3));\n",
              "      fill: #FFFFFF;\n",
              "    }\n",
              "  </style>\n",
              "\n",
              "    <script>\n",
              "      const buttonEl =\n",
              "        document.querySelector('#df-ef856dcb-cba0-4711-8bd9-6ca61d41d37d button.colab-df-convert');\n",
              "      buttonEl.style.display =\n",
              "        google.colab.kernel.accessAllowed ? 'block' : 'none';\n",
              "\n",
              "      async function convertToInteractive(key) {\n",
              "        const element = document.querySelector('#df-ef856dcb-cba0-4711-8bd9-6ca61d41d37d');\n",
              "        const dataTable =\n",
              "          await google.colab.kernel.invokeFunction('convertToInteractive',\n",
              "                                                    [key], {});\n",
              "        if (!dataTable) return;\n",
              "\n",
              "        const docLinkHtml = 'Like what you see? Visit the ' +\n",
              "          '<a target=\"_blank\" href=https://colab.research.google.com/notebooks/data_table.ipynb>data table notebook</a>'\n",
              "          + ' to learn more about interactive tables.';\n",
              "        element.innerHTML = '';\n",
              "        dataTable['output_type'] = 'display_data';\n",
              "        await google.colab.output.renderOutput(dataTable, element);\n",
              "        const docLink = document.createElement('div');\n",
              "        docLink.innerHTML = docLinkHtml;\n",
              "        element.appendChild(docLink);\n",
              "      }\n",
              "    </script>\n",
              "  </div>\n",
              "\n",
              "\n",
              "    <div id=\"df-11fa479a-631b-45e5-a073-722061630dbe\">\n",
              "      <button class=\"colab-df-quickchart\" onclick=\"quickchart('df-11fa479a-631b-45e5-a073-722061630dbe')\"\n",
              "                title=\"Suggest charts\"\n",
              "                style=\"display:none;\">\n",
              "\n",
              "<svg xmlns=\"http://www.w3.org/2000/svg\" height=\"24px\"viewBox=\"0 0 24 24\"\n",
              "     width=\"24px\">\n",
              "    <g>\n",
              "        <path d=\"M19 3H5c-1.1 0-2 .9-2 2v14c0 1.1.9 2 2 2h14c1.1 0 2-.9 2-2V5c0-1.1-.9-2-2-2zM9 17H7v-7h2v7zm4 0h-2V7h2v10zm4 0h-2v-4h2v4z\"/>\n",
              "    </g>\n",
              "</svg>\n",
              "      </button>\n",
              "\n",
              "<style>\n",
              "  .colab-df-quickchart {\n",
              "      --bg-color: #E8F0FE;\n",
              "      --fill-color: #1967D2;\n",
              "      --hover-bg-color: #E2EBFA;\n",
              "      --hover-fill-color: #174EA6;\n",
              "      --disabled-fill-color: #AAA;\n",
              "      --disabled-bg-color: #DDD;\n",
              "  }\n",
              "\n",
              "  [theme=dark] .colab-df-quickchart {\n",
              "      --bg-color: #3B4455;\n",
              "      --fill-color: #D2E3FC;\n",
              "      --hover-bg-color: #434B5C;\n",
              "      --hover-fill-color: #FFFFFF;\n",
              "      --disabled-bg-color: #3B4455;\n",
              "      --disabled-fill-color: #666;\n",
              "  }\n",
              "\n",
              "  .colab-df-quickchart {\n",
              "    background-color: var(--bg-color);\n",
              "    border: none;\n",
              "    border-radius: 50%;\n",
              "    cursor: pointer;\n",
              "    display: none;\n",
              "    fill: var(--fill-color);\n",
              "    height: 32px;\n",
              "    padding: 0;\n",
              "    width: 32px;\n",
              "  }\n",
              "\n",
              "  .colab-df-quickchart:hover {\n",
              "    background-color: var(--hover-bg-color);\n",
              "    box-shadow: 0 1px 2px rgba(60, 64, 67, 0.3), 0 1px 3px 1px rgba(60, 64, 67, 0.15);\n",
              "    fill: var(--button-hover-fill-color);\n",
              "  }\n",
              "\n",
              "  .colab-df-quickchart-complete:disabled,\n",
              "  .colab-df-quickchart-complete:disabled:hover {\n",
              "    background-color: var(--disabled-bg-color);\n",
              "    fill: var(--disabled-fill-color);\n",
              "    box-shadow: none;\n",
              "  }\n",
              "\n",
              "  .colab-df-spinner {\n",
              "    border: 2px solid var(--fill-color);\n",
              "    border-color: transparent;\n",
              "    border-bottom-color: var(--fill-color);\n",
              "    animation:\n",
              "      spin 1s steps(1) infinite;\n",
              "  }\n",
              "\n",
              "  @keyframes spin {\n",
              "    0% {\n",
              "      border-color: transparent;\n",
              "      border-bottom-color: var(--fill-color);\n",
              "      border-left-color: var(--fill-color);\n",
              "    }\n",
              "    20% {\n",
              "      border-color: transparent;\n",
              "      border-left-color: var(--fill-color);\n",
              "      border-top-color: var(--fill-color);\n",
              "    }\n",
              "    30% {\n",
              "      border-color: transparent;\n",
              "      border-left-color: var(--fill-color);\n",
              "      border-top-color: var(--fill-color);\n",
              "      border-right-color: var(--fill-color);\n",
              "    }\n",
              "    40% {\n",
              "      border-color: transparent;\n",
              "      border-right-color: var(--fill-color);\n",
              "      border-top-color: var(--fill-color);\n",
              "    }\n",
              "    60% {\n",
              "      border-color: transparent;\n",
              "      border-right-color: var(--fill-color);\n",
              "    }\n",
              "    80% {\n",
              "      border-color: transparent;\n",
              "      border-right-color: var(--fill-color);\n",
              "      border-bottom-color: var(--fill-color);\n",
              "    }\n",
              "    90% {\n",
              "      border-color: transparent;\n",
              "      border-bottom-color: var(--fill-color);\n",
              "    }\n",
              "  }\n",
              "</style>\n",
              "\n",
              "      <script>\n",
              "        async function quickchart(key) {\n",
              "          const quickchartButtonEl =\n",
              "            document.querySelector('#' + key + ' button');\n",
              "          quickchartButtonEl.disabled = true;  // To prevent multiple clicks.\n",
              "          quickchartButtonEl.classList.add('colab-df-spinner');\n",
              "          try {\n",
              "            const charts = await google.colab.kernel.invokeFunction(\n",
              "                'suggestCharts', [key], {});\n",
              "          } catch (error) {\n",
              "            console.error('Error during call to suggestCharts:', error);\n",
              "          }\n",
              "          quickchartButtonEl.classList.remove('colab-df-spinner');\n",
              "          quickchartButtonEl.classList.add('colab-df-quickchart-complete');\n",
              "        }\n",
              "        (() => {\n",
              "          let quickchartButtonEl =\n",
              "            document.querySelector('#df-11fa479a-631b-45e5-a073-722061630dbe button');\n",
              "          quickchartButtonEl.style.display =\n",
              "            google.colab.kernel.accessAllowed ? 'block' : 'none';\n",
              "        })();\n",
              "      </script>\n",
              "    </div>\n",
              "\n",
              "    </div>\n",
              "  </div>\n"
            ],
            "application/vnd.google.colaboratory.intrinsic+json": {
              "type": "dataframe",
              "variable_name": "patient_df"
            }
          },
          "metadata": {},
          "execution_count": 28
        }
      ]
    },
    {
      "cell_type": "markdown",
      "source": [
        "### 4.3 Analyze regions that are 2 std away from control baseline"
      ],
      "metadata": {
        "id": "V4eLTRWu58gs"
      }
    },
    {
      "cell_type": "code",
      "source": [
        "# thresholds\n",
        "z_thresh = 2.0\n",
        "\n",
        "# dirs\n",
        "results_dir = os.path.join(data_dir, \"results\")\n",
        "plots_dir = os.path.join(results_dir, \"plots\")\n",
        "\n",
        "os.makedirs(results_dir, exist_ok=True)\n",
        "os.makedirs(plots_dir, exist_ok=True)\n",
        "\n",
        "for idx, row in patient_df.iterrows():\n",
        "    fname    = row['scan']\n",
        "    subj, sess = row['subject'], row['session']\n",
        "\n",
        "    # collect the z-values\n",
        "    z_vals = np.array([row[f\"ROI_{i}_z\"] for i in range(len(roi_cols))])\n",
        "\n",
        "    # zero out everything below the threshold\n",
        "    outlier_vals = np.zeros_like(z_vals)\n",
        "    mask = np.abs(z_vals) > z_thresh\n",
        "    outlier_vals[mask] = z_vals[mask]\n",
        "\n",
        "    # turn into a brain image\n",
        "    z_map = masker.inverse_transform(outlier_vals.reshape(1, -1))\n",
        "\n",
        "    # quick printout of which labels are outliers\n",
        "    out_idx = np.where(mask)[0]\n",
        "    print(f\"{subj} session {sess}: {len(out_idx)} outlier regions\")\n",
        "    for i in out_idx:\n",
        "        print(f\"  • {labels[i]}: z={z_vals[i]:.2f}\")\n",
        "\n",
        "    # plot and save a glass brain view\n",
        "    display = plotting.plot_glass_brain(\n",
        "        z_map, threshold=z_thresh, plot_abs=False,\n",
        "        title=f\"{subj} S{sess} |z|>{z_thresh}\"\n",
        "    )\n",
        "    png_path = os.path.join(plots_dir, f\"{subj}_s{sess}_zglass.png\")\n",
        "    display.savefig(png_path)\n",
        "    display.close()\n"
      ],
      "metadata": {
        "colab": {
          "base_uri": "https://localhost:8080/",
          "height": 1000
        },
        "collapsed": true,
        "id": "54CJrxsOPBcv",
        "outputId": "962b7c29-e106-4222-b82b-5e21c5f6f0fb"
      },
      "execution_count": null,
      "outputs": [
        {
          "output_type": "display_data",
          "data": {
            "text/plain": [
              "\u001b[1;34m[\u001b[0m\u001b[34mNiftiLabelsMasker.inverse_transform\u001b[0m\u001b[1;34m]\u001b[0m computing image from signals\n"
            ],
            "text/html": [
              "<pre style=\"white-space:pre;overflow-x:auto;line-height:normal;font-family:Menlo,'DejaVu Sans Mono',consolas,'Courier New',monospace\"><span style=\"color: #000080; text-decoration-color: #000080; font-weight: bold\">[</span><span style=\"color: #000080; text-decoration-color: #000080\">NiftiLabelsMasker.inverse_transform</span><span style=\"color: #000080; text-decoration-color: #000080; font-weight: bold\">]</span> computing image from signals\n",
              "</pre>\n"
            ]
          },
          "metadata": {}
        },
        {
          "output_type": "stream",
          "name": "stdout",
          "text": [
            "p01 session 1.0: 5 outlier regions\n",
            "  • 7Networks_LH_SalVentAttn_FrOperIns_2: z=2.06\n",
            "  • 7Networks_LH_Default_Temp_1: z=2.04\n",
            "  • 7Networks_RH_DorsAttn_Post_2: z=2.33\n",
            "  • 7Networks_RH_Limbic_OFC_1: z=2.09\n",
            "  • 7Networks_RH_Cont_PFCl_6: z=-2.18\n"
          ]
        },
        {
          "output_type": "display_data",
          "data": {
            "text/plain": [
              "\u001b[1;34m[\u001b[0m\u001b[34mNiftiLabelsMasker.inverse_transform\u001b[0m\u001b[1;34m]\u001b[0m computing image from signals\n"
            ],
            "text/html": [
              "<pre style=\"white-space:pre;overflow-x:auto;line-height:normal;font-family:Menlo,'DejaVu Sans Mono',consolas,'Courier New',monospace\"><span style=\"color: #000080; text-decoration-color: #000080; font-weight: bold\">[</span><span style=\"color: #000080; text-decoration-color: #000080\">NiftiLabelsMasker.inverse_transform</span><span style=\"color: #000080; text-decoration-color: #000080; font-weight: bold\">]</span> computing image from signals\n",
              "</pre>\n"
            ]
          },
          "metadata": {}
        },
        {
          "output_type": "stream",
          "name": "stdout",
          "text": [
            "p01 session 2.0: 2 outlier regions\n",
            "  • 7Networks_RH_SalVentAttn_Med_3: z=2.49\n",
            "  • 7Networks_RH_Limbic_OFC_3: z=2.05\n"
          ]
        },
        {
          "output_type": "display_data",
          "data": {
            "text/plain": [
              "\u001b[1;34m[\u001b[0m\u001b[34mNiftiLabelsMasker.inverse_transform\u001b[0m\u001b[1;34m]\u001b[0m computing image from signals\n"
            ],
            "text/html": [
              "<pre style=\"white-space:pre;overflow-x:auto;line-height:normal;font-family:Menlo,'DejaVu Sans Mono',consolas,'Courier New',monospace\"><span style=\"color: #000080; text-decoration-color: #000080; font-weight: bold\">[</span><span style=\"color: #000080; text-decoration-color: #000080\">NiftiLabelsMasker.inverse_transform</span><span style=\"color: #000080; text-decoration-color: #000080; font-weight: bold\">]</span> computing image from signals\n",
              "</pre>\n"
            ]
          },
          "metadata": {}
        },
        {
          "output_type": "stream",
          "name": "stdout",
          "text": [
            "p01 session 3.0: 1 outlier regions\n",
            "  • 7Networks_LH_SomMot_6: z=-2.11\n"
          ]
        },
        {
          "output_type": "display_data",
          "data": {
            "text/plain": [
              "\u001b[1;34m[\u001b[0m\u001b[34mNiftiLabelsMasker.inverse_transform\u001b[0m\u001b[1;34m]\u001b[0m computing image from signals\n"
            ],
            "text/html": [
              "<pre style=\"white-space:pre;overflow-x:auto;line-height:normal;font-family:Menlo,'DejaVu Sans Mono',consolas,'Courier New',monospace\"><span style=\"color: #000080; text-decoration-color: #000080; font-weight: bold\">[</span><span style=\"color: #000080; text-decoration-color: #000080\">NiftiLabelsMasker.inverse_transform</span><span style=\"color: #000080; text-decoration-color: #000080; font-weight: bold\">]</span> computing image from signals\n",
              "</pre>\n"
            ]
          },
          "metadata": {}
        },
        {
          "output_type": "stream",
          "name": "stdout",
          "text": [
            "p02 session 1.0: 10 outlier regions\n",
            "  • Background: z=2.12\n",
            "  • 7Networks_LH_Vis_5: z=2.07\n",
            "  • 7Networks_LH_Vis_10: z=2.00\n",
            "  • 7Networks_LH_Default_Par_3: z=2.04\n",
            "  • 7Networks_LH_Default_pCunPCC_3: z=2.49\n",
            "  • 7Networks_RH_SomMot_7: z=2.16\n",
            "  • 7Networks_RH_DorsAttn_Post_6: z=3.68\n",
            "  • 7Networks_RH_Limbic_TempPole_3: z=3.83\n",
            "  • 7Networks_RH_Default_Par_1: z=2.17\n",
            "  • 7Networks_RH_Default_Par_2: z=3.35\n"
          ]
        },
        {
          "output_type": "display_data",
          "data": {
            "text/plain": [
              "\u001b[1;34m[\u001b[0m\u001b[34mNiftiLabelsMasker.inverse_transform\u001b[0m\u001b[1;34m]\u001b[0m computing image from signals\n"
            ],
            "text/html": [
              "<pre style=\"white-space:pre;overflow-x:auto;line-height:normal;font-family:Menlo,'DejaVu Sans Mono',consolas,'Courier New',monospace\"><span style=\"color: #000080; text-decoration-color: #000080; font-weight: bold\">[</span><span style=\"color: #000080; text-decoration-color: #000080\">NiftiLabelsMasker.inverse_transform</span><span style=\"color: #000080; text-decoration-color: #000080; font-weight: bold\">]</span> computing image from signals\n",
              "</pre>\n"
            ]
          },
          "metadata": {}
        },
        {
          "output_type": "stream",
          "name": "stdout",
          "text": [
            "p02 session 2.0: 9 outlier regions\n",
            "  • 7Networks_LH_Vis_5: z=2.78\n",
            "  • 7Networks_LH_SalVentAttn_FrOperIns_2: z=2.13\n",
            "  • 7Networks_LH_Cont_PFCl_5: z=3.68\n",
            "  • 7Networks_LH_Default_PFC_13: z=3.23\n",
            "  • 7Networks_LH_Default_pCunPCC_1: z=3.55\n",
            "  • 7Networks_LH_Default_pCunPCC_2: z=2.67\n",
            "  • 7Networks_LH_Default_pCunPCC_3: z=3.59\n",
            "  • 7Networks_RH_DorsAttn_Post_6: z=3.59\n",
            "  • 7Networks_RH_SalVentAttn_TempOccPar_1: z=3.41\n"
          ]
        },
        {
          "output_type": "display_data",
          "data": {
            "text/plain": [
              "\u001b[1;34m[\u001b[0m\u001b[34mNiftiLabelsMasker.inverse_transform\u001b[0m\u001b[1;34m]\u001b[0m computing image from signals\n"
            ],
            "text/html": [
              "<pre style=\"white-space:pre;overflow-x:auto;line-height:normal;font-family:Menlo,'DejaVu Sans Mono',consolas,'Courier New',monospace\"><span style=\"color: #000080; text-decoration-color: #000080; font-weight: bold\">[</span><span style=\"color: #000080; text-decoration-color: #000080\">NiftiLabelsMasker.inverse_transform</span><span style=\"color: #000080; text-decoration-color: #000080; font-weight: bold\">]</span> computing image from signals\n",
              "</pre>\n"
            ]
          },
          "metadata": {}
        },
        {
          "output_type": "stream",
          "name": "stdout",
          "text": [
            "p02 session 3.0: 2 outlier regions\n",
            "  • 7Networks_RH_SalVentAttn_TempOccPar_1: z=4.05\n",
            "  • 7Networks_RH_Default_pCunPCC_2: z=2.33\n"
          ]
        },
        {
          "output_type": "display_data",
          "data": {
            "text/plain": [
              "\u001b[1;34m[\u001b[0m\u001b[34mNiftiLabelsMasker.inverse_transform\u001b[0m\u001b[1;34m]\u001b[0m computing image from signals\n"
            ],
            "text/html": [
              "<pre style=\"white-space:pre;overflow-x:auto;line-height:normal;font-family:Menlo,'DejaVu Sans Mono',consolas,'Courier New',monospace\"><span style=\"color: #000080; text-decoration-color: #000080; font-weight: bold\">[</span><span style=\"color: #000080; text-decoration-color: #000080\">NiftiLabelsMasker.inverse_transform</span><span style=\"color: #000080; text-decoration-color: #000080; font-weight: bold\">]</span> computing image from signals\n",
              "</pre>\n"
            ]
          },
          "metadata": {}
        },
        {
          "output_type": "stream",
          "name": "stdout",
          "text": [
            "p03 session 1.0: 56 outlier regions\n",
            "  • Background: z=4.20\n",
            "  • 7Networks_LH_Vis_1: z=4.02\n",
            "  • 7Networks_LH_Vis_8: z=4.39\n",
            "  • 7Networks_LH_SomMot_7: z=3.54\n",
            "  • 7Networks_LH_SomMot_11: z=3.11\n",
            "  • 7Networks_LH_SomMot_14: z=3.63\n",
            "  • 7Networks_LH_SomMot_15: z=3.05\n",
            "  • 7Networks_LH_DorsAttn_Post_2: z=2.76\n",
            "  • 7Networks_LH_DorsAttn_Post_4: z=2.42\n",
            "  • 7Networks_LH_DorsAttn_Post_5: z=3.97\n",
            "  • 7Networks_LH_DorsAttn_Post_8: z=5.20\n",
            "  • 7Networks_LH_DorsAttn_Post_9: z=2.04\n",
            "  • 7Networks_LH_DorsAttn_Post_10: z=4.21\n",
            "  • 7Networks_LH_SalVentAttn_PFCl_1: z=2.13\n",
            "  • 7Networks_LH_SalVentAttn_Med_1: z=4.51\n",
            "  • 7Networks_LH_Limbic_OFC_2: z=2.71\n",
            "  • 7Networks_LH_Limbic_TempPole_1: z=4.60\n",
            "  • 7Networks_LH_Cont_Cing_1: z=2.60\n",
            "  • 7Networks_LH_Cont_Cing_2: z=3.62\n",
            "  • 7Networks_LH_Default_PFC_3: z=3.55\n",
            "  • 7Networks_LH_Default_PFC_13: z=2.93\n",
            "  • 7Networks_LH_Default_pCunPCC_2: z=2.97\n",
            "  • 7Networks_LH_Default_pCunPCC_3: z=2.15\n",
            "  • 7Networks_LH_Default_pCunPCC_4: z=4.21\n",
            "  • 7Networks_LH_Default_PHC_1: z=7.66\n",
            "  • 7Networks_RH_Vis_1: z=4.85\n",
            "  • 7Networks_RH_Vis_2: z=4.74\n",
            "  • 7Networks_RH_Vis_5: z=3.65\n",
            "  • 7Networks_RH_SomMot_7: z=3.95\n",
            "  • 7Networks_RH_SomMot_8: z=3.53\n",
            "  • 7Networks_RH_SomMot_9: z=2.86\n",
            "  • 7Networks_RH_SomMot_10: z=3.97\n",
            "  • 7Networks_RH_SomMot_11: z=3.80\n",
            "  • 7Networks_RH_SomMot_12: z=5.10\n",
            "  • 7Networks_RH_SomMot_13: z=4.19\n",
            "  • 7Networks_RH_SomMot_14: z=5.32\n",
            "  • 7Networks_RH_SomMot_16: z=5.58\n",
            "  • 7Networks_RH_SomMot_17: z=2.66\n",
            "  • 7Networks_RH_SomMot_18: z=3.75\n",
            "  • 7Networks_RH_SomMot_19: z=2.37\n",
            "  • 7Networks_RH_DorsAttn_Post_3: z=2.93\n",
            "  • 7Networks_RH_DorsAttn_Post_4: z=3.81\n",
            "  • 7Networks_RH_DorsAttn_Post_6: z=6.33\n",
            "  • 7Networks_RH_DorsAttn_Post_7: z=5.59\n",
            "  • 7Networks_RH_DorsAttn_Post_8: z=3.69\n",
            "  • 7Networks_RH_DorsAttn_Post_9: z=5.68\n",
            "  • 7Networks_RH_DorsAttn_Post_10: z=3.02\n",
            "  • 7Networks_RH_SalVentAttn_Med_1: z=4.80\n",
            "  • 7Networks_RH_Limbic_OFC_2: z=3.56\n",
            "  • 7Networks_RH_Limbic_OFC_3: z=2.86\n",
            "  • 7Networks_RH_Limbic_TempPole_2: z=2.13\n",
            "  • 7Networks_RH_Cont_Par_2: z=3.03\n",
            "  • 7Networks_RH_Cont_Par_3: z=2.70\n",
            "  • 7Networks_RH_Cont_PFCl_5: z=-2.27\n",
            "  • 7Networks_RH_Cont_PFCmp_2: z=2.30\n",
            "  • 7Networks_RH_Default_Par_2: z=2.19\n"
          ]
        },
        {
          "output_type": "display_data",
          "data": {
            "text/plain": [
              "\u001b[1;34m[\u001b[0m\u001b[34mNiftiLabelsMasker.inverse_transform\u001b[0m\u001b[1;34m]\u001b[0m computing image from signals\n"
            ],
            "text/html": [
              "<pre style=\"white-space:pre;overflow-x:auto;line-height:normal;font-family:Menlo,'DejaVu Sans Mono',consolas,'Courier New',monospace\"><span style=\"color: #000080; text-decoration-color: #000080; font-weight: bold\">[</span><span style=\"color: #000080; text-decoration-color: #000080\">NiftiLabelsMasker.inverse_transform</span><span style=\"color: #000080; text-decoration-color: #000080; font-weight: bold\">]</span> computing image from signals\n",
              "</pre>\n"
            ]
          },
          "metadata": {}
        },
        {
          "output_type": "stream",
          "name": "stdout",
          "text": [
            "p03 session 2.0: 5 outlier regions\n",
            "  • 7Networks_LH_SomMot_16: z=5.30\n",
            "  • 7Networks_LH_SalVentAttn_FrOperIns_4: z=-2.12\n",
            "  • 7Networks_LH_Default_PFC_13: z=2.80\n",
            "  • 7Networks_LH_Default_PHC_1: z=2.05\n",
            "  • 7Networks_RH_SomMot_19: z=2.92\n"
          ]
        },
        {
          "output_type": "display_data",
          "data": {
            "text/plain": [
              "\u001b[1;34m[\u001b[0m\u001b[34mNiftiLabelsMasker.inverse_transform\u001b[0m\u001b[1;34m]\u001b[0m computing image from signals\n"
            ],
            "text/html": [
              "<pre style=\"white-space:pre;overflow-x:auto;line-height:normal;font-family:Menlo,'DejaVu Sans Mono',consolas,'Courier New',monospace\"><span style=\"color: #000080; text-decoration-color: #000080; font-weight: bold\">[</span><span style=\"color: #000080; text-decoration-color: #000080\">NiftiLabelsMasker.inverse_transform</span><span style=\"color: #000080; text-decoration-color: #000080; font-weight: bold\">]</span> computing image from signals\n",
              "</pre>\n"
            ]
          },
          "metadata": {}
        },
        {
          "output_type": "stream",
          "name": "stdout",
          "text": [
            "p03 session 3.0: 4 outlier regions\n",
            "  • 7Networks_LH_Default_Par_3: z=-2.03\n",
            "  • 7Networks_RH_DorsAttn_Post_10: z=-2.19\n",
            "  • 7Networks_RH_SalVentAttn_Med_2: z=-2.03\n",
            "  • 7Networks_RH_Default_Temp_5: z=2.59\n"
          ]
        },
        {
          "output_type": "display_data",
          "data": {
            "text/plain": [
              "\u001b[1;34m[\u001b[0m\u001b[34mNiftiLabelsMasker.inverse_transform\u001b[0m\u001b[1;34m]\u001b[0m computing image from signals\n"
            ],
            "text/html": [
              "<pre style=\"white-space:pre;overflow-x:auto;line-height:normal;font-family:Menlo,'DejaVu Sans Mono',consolas,'Courier New',monospace\"><span style=\"color: #000080; text-decoration-color: #000080; font-weight: bold\">[</span><span style=\"color: #000080; text-decoration-color: #000080\">NiftiLabelsMasker.inverse_transform</span><span style=\"color: #000080; text-decoration-color: #000080; font-weight: bold\">]</span> computing image from signals\n",
              "</pre>\n"
            ]
          },
          "metadata": {}
        },
        {
          "output_type": "stream",
          "name": "stdout",
          "text": [
            "p04 session 1.0: 52 outlier regions\n",
            "  • 7Networks_LH_Vis_1: z=2.93\n",
            "  • 7Networks_LH_Vis_8: z=2.01\n",
            "  • 7Networks_LH_SomMot_4: z=5.39\n",
            "  • 7Networks_LH_SomMot_6: z=2.68\n",
            "  • 7Networks_LH_SomMot_8: z=6.46\n",
            "  • 7Networks_LH_SomMot_9: z=3.68\n",
            "  • 7Networks_LH_SomMot_10: z=4.81\n",
            "  • 7Networks_LH_SomMot_11: z=3.15\n",
            "  • 7Networks_LH_SomMot_12: z=4.75\n",
            "  • 7Networks_LH_SomMot_15: z=3.74\n",
            "  • 7Networks_LH_SomMot_16: z=2.79\n",
            "  • 7Networks_LH_DorsAttn_Post_3: z=3.55\n",
            "  • 7Networks_LH_DorsAttn_Post_4: z=5.15\n",
            "  • 7Networks_LH_DorsAttn_Post_5: z=2.51\n",
            "  • 7Networks_LH_DorsAttn_Post_9: z=2.62\n",
            "  • 7Networks_LH_DorsAttn_Post_10: z=3.17\n",
            "  • 7Networks_LH_SalVentAttn_ParOper_1: z=2.76\n",
            "  • 7Networks_LH_SalVentAttn_FrOperIns_2: z=2.36\n",
            "  • 7Networks_LH_SalVentAttn_FrOperIns_4: z=2.53\n",
            "  • 7Networks_LH_Limbic_TempPole_2: z=4.23\n",
            "  • 7Networks_LH_Limbic_TempPole_4: z=2.36\n",
            "  • 7Networks_LH_Cont_Par_2: z=2.97\n",
            "  • 7Networks_LH_Cont_Par_3: z=2.10\n",
            "  • 7Networks_LH_Cont_Cing_2: z=2.00\n",
            "  • 7Networks_LH_Default_Par_1: z=2.39\n",
            "  • 7Networks_LH_Default_Par_3: z=3.43\n",
            "  • 7Networks_LH_Default_PFC_2: z=3.74\n",
            "  • 7Networks_LH_Default_PFC_4: z=2.50\n",
            "  • 7Networks_LH_Default_PFC_9: z=2.21\n",
            "  • 7Networks_LH_Default_PFC_13: z=8.81\n",
            "  • 7Networks_LH_Default_pCunPCC_1: z=5.04\n",
            "  • 7Networks_LH_Default_pCunPCC_3: z=4.00\n",
            "  • 7Networks_LH_Default_pCunPCC_4: z=2.16\n",
            "  • 7Networks_RH_Vis_11: z=2.34\n",
            "  • 7Networks_RH_SomMot_9: z=2.62\n",
            "  • 7Networks_RH_SomMot_14: z=2.58\n",
            "  • 7Networks_RH_SomMot_16: z=2.95\n",
            "  • 7Networks_RH_SomMot_17: z=2.06\n",
            "  • 7Networks_RH_SomMot_19: z=2.30\n",
            "  • 7Networks_RH_DorsAttn_Post_7: z=2.37\n",
            "  • 7Networks_RH_DorsAttn_Post_8: z=2.08\n",
            "  • 7Networks_RH_DorsAttn_Post_9: z=3.11\n",
            "  • 7Networks_RH_SalVentAttn_FrOperIns_2: z=2.85\n",
            "  • 7Networks_RH_SalVentAttn_Med_1: z=2.41\n",
            "  • 7Networks_RH_SalVentAttn_Med_3: z=2.72\n",
            "  • 7Networks_RH_Limbic_OFC_3: z=2.51\n",
            "  • 7Networks_RH_Limbic_TempPole_3: z=2.89\n",
            "  • 7Networks_RH_Cont_Par_1: z=3.83\n",
            "  • 7Networks_RH_Cont_PFCmp_2: z=4.58\n",
            "  • 7Networks_RH_Default_PFCdPFCm_5: z=2.93\n",
            "  • 7Networks_RH_Default_PFCdPFCm_7: z=2.99\n",
            "  • 7Networks_RH_Default_pCunPCC_1: z=3.08\n"
          ]
        },
        {
          "output_type": "display_data",
          "data": {
            "text/plain": [
              "\u001b[1;34m[\u001b[0m\u001b[34mNiftiLabelsMasker.inverse_transform\u001b[0m\u001b[1;34m]\u001b[0m computing image from signals\n"
            ],
            "text/html": [
              "<pre style=\"white-space:pre;overflow-x:auto;line-height:normal;font-family:Menlo,'DejaVu Sans Mono',consolas,'Courier New',monospace\"><span style=\"color: #000080; text-decoration-color: #000080; font-weight: bold\">[</span><span style=\"color: #000080; text-decoration-color: #000080\">NiftiLabelsMasker.inverse_transform</span><span style=\"color: #000080; text-decoration-color: #000080; font-weight: bold\">]</span> computing image from signals\n",
              "</pre>\n"
            ]
          },
          "metadata": {}
        },
        {
          "output_type": "stream",
          "name": "stdout",
          "text": [
            "p04 session 2.0: 150 outlier regions\n",
            "  • 7Networks_LH_Vis_2: z=2.20\n",
            "  • 7Networks_LH_Vis_4: z=2.99\n",
            "  • 7Networks_LH_Vis_5: z=2.68\n",
            "  • 7Networks_LH_Vis_7: z=10.95\n",
            "  • 7Networks_LH_Vis_8: z=27.79\n",
            "  • 7Networks_LH_Vis_9: z=2.92\n",
            "  • 7Networks_LH_Vis_10: z=13.60\n",
            "  • 7Networks_LH_Vis_11: z=2.28\n",
            "  • 7Networks_LH_Vis_12: z=2.54\n",
            "  • 7Networks_LH_Vis_13: z=14.52\n",
            "  • 7Networks_LH_Vis_14: z=17.72\n",
            "  • 7Networks_LH_SomMot_1: z=14.33\n",
            "  • 7Networks_LH_SomMot_2: z=5.61\n",
            "  • 7Networks_LH_SomMot_3: z=5.50\n",
            "  • 7Networks_LH_SomMot_4: z=5.18\n",
            "  • 7Networks_LH_SomMot_6: z=5.58\n",
            "  • 7Networks_LH_SomMot_7: z=2.88\n",
            "  • 7Networks_LH_SomMot_8: z=3.97\n",
            "  • 7Networks_LH_SomMot_9: z=3.78\n",
            "  • 7Networks_LH_SomMot_10: z=5.47\n",
            "  • 7Networks_LH_SomMot_11: z=3.66\n",
            "  • 7Networks_LH_SomMot_12: z=4.35\n",
            "  • 7Networks_LH_SomMot_13: z=2.35\n",
            "  • 7Networks_LH_SomMot_15: z=2.34\n",
            "  • 7Networks_LH_SomMot_16: z=6.42\n",
            "  • 7Networks_LH_DorsAttn_Post_1: z=25.76\n",
            "  • 7Networks_LH_DorsAttn_Post_2: z=7.10\n",
            "  • 7Networks_LH_DorsAttn_Post_3: z=3.24\n",
            "  • 7Networks_LH_DorsAttn_Post_4: z=5.24\n",
            "  • 7Networks_LH_DorsAttn_Post_5: z=5.52\n",
            "  • 7Networks_LH_DorsAttn_Post_6: z=2.95\n",
            "  • 7Networks_LH_DorsAttn_Post_7: z=3.67\n",
            "  • 7Networks_LH_DorsAttn_Post_8: z=6.35\n",
            "  • 7Networks_LH_DorsAttn_Post_9: z=3.11\n",
            "  • 7Networks_LH_DorsAttn_Post_10: z=4.27\n",
            "  • 7Networks_LH_DorsAttn_FEF_1: z=2.62\n",
            "  • 7Networks_LH_DorsAttn_PrCv_1: z=7.73\n",
            "  • 7Networks_LH_SalVentAttn_ParOper_1: z=4.51\n",
            "  • 7Networks_LH_SalVentAttn_ParOper_2: z=4.30\n",
            "  • 7Networks_LH_SalVentAttn_ParOper_3: z=27.37\n",
            "  • 7Networks_LH_SalVentAttn_FrOperIns_3: z=3.40\n",
            "  • 7Networks_LH_SalVentAttn_FrOperIns_4: z=5.61\n",
            "  • 7Networks_LH_SalVentAttn_Med_1: z=4.93\n",
            "  • 7Networks_LH_SalVentAttn_Med_3: z=9.45\n",
            "  • 7Networks_LH_Limbic_OFC_1: z=15.29\n",
            "  • 7Networks_LH_Limbic_OFC_2: z=3.51\n",
            "  • 7Networks_LH_Limbic_TempPole_1: z=6.78\n",
            "  • 7Networks_LH_Limbic_TempPole_2: z=4.88\n",
            "  • 7Networks_LH_Limbic_TempPole_3: z=10.54\n",
            "  • 7Networks_LH_Limbic_TempPole_4: z=4.00\n",
            "  • 7Networks_LH_Cont_Par_1: z=4.02\n",
            "  • 7Networks_LH_Cont_Par_2: z=4.21\n",
            "  • 7Networks_LH_Cont_Par_3: z=10.72\n",
            "  • 7Networks_LH_Cont_Temp_1: z=31.10\n",
            "  • 7Networks_LH_Cont_OFC_1: z=29.58\n",
            "  • 7Networks_LH_Cont_PFCl_1: z=4.40\n",
            "  • 7Networks_LH_Cont_PFCl_2: z=2.72\n",
            "  • 7Networks_LH_Cont_PFCl_3: z=2.01\n",
            "  • 7Networks_LH_Cont_PFCl_5: z=4.00\n",
            "  • 7Networks_LH_Cont_pCun_1: z=2.87\n",
            "  • 7Networks_LH_Cont_Cing_2: z=3.06\n",
            "  • 7Networks_LH_Default_Temp_1: z=5.66\n",
            "  • 7Networks_LH_Default_Temp_2: z=11.86\n",
            "  • 7Networks_LH_Default_Temp_3: z=25.24\n",
            "  • 7Networks_LH_Default_Temp_4: z=32.33\n",
            "  • 7Networks_LH_Default_Temp_5: z=11.38\n",
            "  • 7Networks_LH_Default_Par_1: z=4.07\n",
            "  • 7Networks_LH_Default_Par_2: z=4.65\n",
            "  • 7Networks_LH_Default_Par_3: z=4.89\n",
            "  • 7Networks_LH_Default_Par_4: z=24.06\n",
            "  • 7Networks_LH_Default_PFC_1: z=2.85\n",
            "  • 7Networks_LH_Default_PFC_2: z=28.83\n",
            "  • 7Networks_LH_Default_PFC_3: z=2.91\n",
            "  • 7Networks_LH_Default_PFC_4: z=8.12\n",
            "  • 7Networks_LH_Default_PFC_5: z=2.20\n",
            "  • 7Networks_LH_Default_PFC_7: z=2.63\n",
            "  • 7Networks_LH_Default_PFC_9: z=4.32\n",
            "  • 7Networks_LH_Default_PFC_13: z=10.01\n",
            "  • 7Networks_LH_Default_pCunPCC_1: z=2.63\n",
            "  • 7Networks_LH_Default_pCunPCC_2: z=2.41\n",
            "  • 7Networks_LH_Default_pCunPCC_3: z=4.56\n",
            "  • 7Networks_LH_Default_pCunPCC_4: z=5.79\n",
            "  • 7Networks_LH_Default_PHC_1: z=2.39\n",
            "  • 7Networks_RH_Vis_1: z=2.95\n",
            "  • 7Networks_RH_Vis_4: z=2.79\n",
            "  • 7Networks_RH_Vis_5: z=3.39\n",
            "  • 7Networks_RH_Vis_6: z=14.07\n",
            "  • 7Networks_RH_Vis_8: z=4.03\n",
            "  • 7Networks_RH_Vis_9: z=8.94\n",
            "  • 7Networks_RH_Vis_10: z=26.94\n",
            "  • 7Networks_RH_Vis_11: z=8.94\n",
            "  • 7Networks_RH_Vis_12: z=5.85\n",
            "  • 7Networks_RH_Vis_14: z=6.96\n",
            "  • 7Networks_RH_Vis_15: z=12.34\n",
            "  • 7Networks_RH_SomMot_1: z=17.56\n",
            "  • 7Networks_RH_SomMot_2: z=2.72\n",
            "  • 7Networks_RH_SomMot_3: z=2.50\n",
            "  • 7Networks_RH_SomMot_4: z=4.80\n",
            "  • 7Networks_RH_SomMot_5: z=3.39\n",
            "  • 7Networks_RH_SomMot_6: z=2.60\n",
            "  • 7Networks_RH_SomMot_9: z=3.78\n",
            "  • 7Networks_RH_SomMot_12: z=2.76\n",
            "  • 7Networks_RH_SomMot_14: z=2.49\n",
            "  • 7Networks_RH_SomMot_16: z=3.19\n",
            "  • 7Networks_RH_SomMot_17: z=2.37\n",
            "  • 7Networks_RH_SomMot_19: z=4.20\n",
            "  • 7Networks_RH_DorsAttn_Post_1: z=15.11\n",
            "  • 7Networks_RH_DorsAttn_Post_2: z=3.43\n",
            "  • 7Networks_RH_DorsAttn_Post_5: z=3.72\n",
            "  • 7Networks_RH_DorsAttn_Post_6: z=3.63\n",
            "  • 7Networks_RH_DorsAttn_Post_8: z=5.63\n",
            "  • 7Networks_RH_DorsAttn_FEF_2: z=3.60\n",
            "  • 7Networks_RH_DorsAttn_PrCv_1: z=15.10\n",
            "  • 7Networks_RH_SalVentAttn_TempOccPar_1: z=6.64\n",
            "  • 7Networks_RH_SalVentAttn_TempOccPar_2: z=4.95\n",
            "  • 7Networks_RH_SalVentAttn_TempOccPar_3: z=3.23\n",
            "  • 7Networks_RH_SalVentAttn_PrC_1: z=7.92\n",
            "  • 7Networks_RH_SalVentAttn_FrOperIns_1: z=5.49\n",
            "  • 7Networks_RH_SalVentAttn_FrOperIns_2: z=5.49\n",
            "  • 7Networks_RH_SalVentAttn_FrOperIns_3: z=7.96\n",
            "  • 7Networks_RH_SalVentAttn_Med_1: z=3.94\n",
            "  • 7Networks_RH_SalVentAttn_Med_3: z=6.91\n",
            "  • 7Networks_RH_Limbic_OFC_1: z=21.81\n",
            "  • 7Networks_RH_Limbic_OFC_2: z=2.72\n",
            "  • 7Networks_RH_Limbic_OFC_3: z=3.30\n",
            "  • 7Networks_RH_Limbic_TempPole_1: z=4.01\n",
            "  • 7Networks_RH_Limbic_TempPole_2: z=4.20\n",
            "  • 7Networks_RH_Limbic_TempPole_3: z=5.89\n",
            "  • 7Networks_RH_Cont_Par_1: z=4.36\n",
            "  • 7Networks_RH_Cont_Par_2: z=3.34\n",
            "  • 7Networks_RH_Cont_Par_3: z=2.78\n",
            "  • 7Networks_RH_Cont_Temp_1: z=18.01\n",
            "  • 7Networks_RH_Cont_PFCv_1: z=11.93\n",
            "  • 7Networks_RH_Cont_PFCl_1: z=4.36\n",
            "  • 7Networks_RH_Cont_PFCl_3: z=3.08\n",
            "  • 7Networks_RH_Cont_PFCl_7: z=5.00\n",
            "  • 7Networks_RH_Cont_PFCmp_2: z=9.35\n",
            "  • 7Networks_RH_Default_Par_1: z=2.10\n",
            "  • 7Networks_RH_Default_Par_2: z=3.85\n",
            "  • 7Networks_RH_Default_Par_3: z=2.07\n",
            "  • 7Networks_RH_Default_Temp_2: z=14.36\n",
            "  • 7Networks_RH_Default_Temp_3: z=12.13\n",
            "  • 7Networks_RH_Default_Temp_4: z=7.33\n",
            "  • 7Networks_RH_Default_Temp_5: z=9.55\n",
            "  • 7Networks_RH_Default_PFCv_1: z=8.41\n",
            "  • 7Networks_RH_Default_PFCdPFCm_1: z=3.49\n",
            "  • 7Networks_RH_Default_PFCdPFCm_3: z=2.71\n",
            "  • 7Networks_RH_Default_PFCdPFCm_7: z=9.51\n",
            "  • 7Networks_RH_Default_pCunPCC_1: z=3.91\n",
            "  • 7Networks_RH_Default_pCunPCC_2: z=3.32\n"
          ]
        },
        {
          "output_type": "display_data",
          "data": {
            "text/plain": [
              "\u001b[1;34m[\u001b[0m\u001b[34mNiftiLabelsMasker.inverse_transform\u001b[0m\u001b[1;34m]\u001b[0m computing image from signals\n"
            ],
            "text/html": [
              "<pre style=\"white-space:pre;overflow-x:auto;line-height:normal;font-family:Menlo,'DejaVu Sans Mono',consolas,'Courier New',monospace\"><span style=\"color: #000080; text-decoration-color: #000080; font-weight: bold\">[</span><span style=\"color: #000080; text-decoration-color: #000080\">NiftiLabelsMasker.inverse_transform</span><span style=\"color: #000080; text-decoration-color: #000080; font-weight: bold\">]</span> computing image from signals\n",
              "</pre>\n"
            ]
          },
          "metadata": {}
        },
        {
          "output_type": "stream",
          "name": "stdout",
          "text": [
            "p04 session 3.0: 42 outlier regions\n",
            "  • 7Networks_LH_Vis_1: z=2.56\n",
            "  • 7Networks_LH_SomMot_1: z=2.43\n",
            "  • 7Networks_LH_SomMot_3: z=2.31\n",
            "  • 7Networks_LH_SomMot_4: z=2.14\n",
            "  • 7Networks_LH_SomMot_8: z=2.21\n",
            "  • 7Networks_LH_SomMot_9: z=2.05\n",
            "  • 7Networks_LH_SomMot_10: z=2.83\n",
            "  • 7Networks_LH_SomMot_12: z=2.39\n",
            "  • 7Networks_LH_SomMot_15: z=2.66\n",
            "  • 7Networks_LH_SomMot_16: z=4.97\n",
            "  • 7Networks_LH_DorsAttn_Post_10: z=2.97\n",
            "  • 7Networks_LH_DorsAttn_PrCv_1: z=2.22\n",
            "  • 7Networks_LH_SalVentAttn_ParOper_2: z=2.87\n",
            "  • 7Networks_LH_SalVentAttn_FrOperIns_1: z=2.70\n",
            "  • 7Networks_LH_SalVentAttn_FrOperIns_4: z=2.26\n",
            "  • 7Networks_LH_SalVentAttn_Med_3: z=2.05\n",
            "  • 7Networks_LH_Limbic_OFC_2: z=5.90\n",
            "  • 7Networks_LH_Limbic_TempPole_1: z=6.05\n",
            "  • 7Networks_LH_Limbic_TempPole_2: z=2.53\n",
            "  • 7Networks_LH_Cont_Par_2: z=2.52\n",
            "  • 7Networks_LH_Cont_Par_3: z=2.66\n",
            "  • 7Networks_LH_Cont_Temp_1: z=2.25\n",
            "  • 7Networks_LH_Default_Temp_1: z=3.26\n",
            "  • 7Networks_LH_Default_Par_1: z=3.21\n",
            "  • 7Networks_LH_Default_PFC_2: z=6.72\n",
            "  • 7Networks_LH_Default_PFC_4: z=4.24\n",
            "  • 7Networks_LH_Default_PFC_13: z=2.56\n",
            "  • 7Networks_LH_Default_pCunPCC_4: z=4.20\n",
            "  • 7Networks_LH_Default_PHC_1: z=2.38\n",
            "  • 7Networks_RH_SomMot_19: z=2.53\n",
            "  • 7Networks_RH_DorsAttn_Post_2: z=2.63\n",
            "  • 7Networks_RH_DorsAttn_Post_9: z=2.34\n",
            "  • 7Networks_RH_SalVentAttn_TempOccPar_2: z=3.60\n",
            "  • 7Networks_RH_Limbic_TempPole_1: z=2.89\n",
            "  • 7Networks_RH_Limbic_TempPole_2: z=4.78\n",
            "  • 7Networks_RH_Limbic_TempPole_3: z=2.79\n",
            "  • 7Networks_RH_Cont_Par_1: z=2.79\n",
            "  • 7Networks_RH_Cont_Temp_1: z=2.36\n",
            "  • 7Networks_RH_Cont_PFCmp_2: z=2.41\n",
            "  • 7Networks_RH_Default_Par_3: z=3.29\n",
            "  • 7Networks_RH_Default_Temp_5: z=2.35\n",
            "  • 7Networks_RH_Default_pCunPCC_1: z=2.79\n"
          ]
        },
        {
          "output_type": "display_data",
          "data": {
            "text/plain": [
              "\u001b[1;34m[\u001b[0m\u001b[34mNiftiLabelsMasker.inverse_transform\u001b[0m\u001b[1;34m]\u001b[0m computing image from signals\n"
            ],
            "text/html": [
              "<pre style=\"white-space:pre;overflow-x:auto;line-height:normal;font-family:Menlo,'DejaVu Sans Mono',consolas,'Courier New',monospace\"><span style=\"color: #000080; text-decoration-color: #000080; font-weight: bold\">[</span><span style=\"color: #000080; text-decoration-color: #000080\">NiftiLabelsMasker.inverse_transform</span><span style=\"color: #000080; text-decoration-color: #000080; font-weight: bold\">]</span> computing image from signals\n",
              "</pre>\n"
            ]
          },
          "metadata": {}
        },
        {
          "output_type": "stream",
          "name": "stdout",
          "text": [
            "p05 session 1.0: 0 outlier regions\n"
          ]
        },
        {
          "output_type": "stream",
          "name": "stderr",
          "text": [
            "/tmp/ipython-input-16-4263011515.py:33: UserWarning: empty mask\n",
            "  display = plotting.plot_glass_brain(\n"
          ]
        },
        {
          "output_type": "display_data",
          "data": {
            "text/plain": [
              "\u001b[1;34m[\u001b[0m\u001b[34mNiftiLabelsMasker.inverse_transform\u001b[0m\u001b[1;34m]\u001b[0m computing image from signals\n"
            ],
            "text/html": [
              "<pre style=\"white-space:pre;overflow-x:auto;line-height:normal;font-family:Menlo,'DejaVu Sans Mono',consolas,'Courier New',monospace\"><span style=\"color: #000080; text-decoration-color: #000080; font-weight: bold\">[</span><span style=\"color: #000080; text-decoration-color: #000080\">NiftiLabelsMasker.inverse_transform</span><span style=\"color: #000080; text-decoration-color: #000080; font-weight: bold\">]</span> computing image from signals\n",
              "</pre>\n"
            ]
          },
          "metadata": {}
        },
        {
          "output_type": "stream",
          "name": "stdout",
          "text": [
            "p05 session 2.0: 5 outlier regions\n",
            "  • 7Networks_LH_SalVentAttn_Med_2: z=-2.04\n",
            "  • 7Networks_LH_Cont_PFCl_4: z=-2.03\n",
            "  • 7Networks_LH_Default_PFC_11: z=-2.02\n",
            "  • 7Networks_RH_SomMot_17: z=-2.08\n",
            "  • 7Networks_RH_Cont_PFCl_6: z=-2.12\n"
          ]
        },
        {
          "output_type": "display_data",
          "data": {
            "text/plain": [
              "\u001b[1;34m[\u001b[0m\u001b[34mNiftiLabelsMasker.inverse_transform\u001b[0m\u001b[1;34m]\u001b[0m computing image from signals\n"
            ],
            "text/html": [
              "<pre style=\"white-space:pre;overflow-x:auto;line-height:normal;font-family:Menlo,'DejaVu Sans Mono',consolas,'Courier New',monospace\"><span style=\"color: #000080; text-decoration-color: #000080; font-weight: bold\">[</span><span style=\"color: #000080; text-decoration-color: #000080\">NiftiLabelsMasker.inverse_transform</span><span style=\"color: #000080; text-decoration-color: #000080; font-weight: bold\">]</span> computing image from signals\n",
              "</pre>\n"
            ]
          },
          "metadata": {}
        },
        {
          "output_type": "stream",
          "name": "stdout",
          "text": [
            "p05 session 3.0: 5 outlier regions\n",
            "  • 7Networks_LH_SomMot_4: z=-2.09\n",
            "  • 7Networks_LH_SalVentAttn_ParOper_1: z=-2.01\n",
            "  • 7Networks_LH_Cont_PFCl_4: z=-2.06\n",
            "  • 7Networks_LH_Default_Par_2: z=-2.04\n",
            "  • 7Networks_RH_SalVentAttn_FrOperIns_2: z=-2.18\n"
          ]
        },
        {
          "output_type": "display_data",
          "data": {
            "text/plain": [
              "\u001b[1;34m[\u001b[0m\u001b[34mNiftiLabelsMasker.inverse_transform\u001b[0m\u001b[1;34m]\u001b[0m computing image from signals\n"
            ],
            "text/html": [
              "<pre style=\"white-space:pre;overflow-x:auto;line-height:normal;font-family:Menlo,'DejaVu Sans Mono',consolas,'Courier New',monospace\"><span style=\"color: #000080; text-decoration-color: #000080; font-weight: bold\">[</span><span style=\"color: #000080; text-decoration-color: #000080\">NiftiLabelsMasker.inverse_transform</span><span style=\"color: #000080; text-decoration-color: #000080; font-weight: bold\">]</span> computing image from signals\n",
              "</pre>\n"
            ]
          },
          "metadata": {}
        },
        {
          "output_type": "stream",
          "name": "stdout",
          "text": [
            "p06 session 1.0: 117 outlier regions\n",
            "  • Background: z=7.43\n",
            "  • 7Networks_LH_Vis_1: z=8.91\n",
            "  • 7Networks_LH_Vis_2: z=2.96\n",
            "  • 7Networks_LH_Vis_3: z=2.22\n",
            "  • 7Networks_LH_Vis_4: z=7.97\n",
            "  • 7Networks_LH_Vis_5: z=4.44\n",
            "  • 7Networks_LH_Vis_6: z=4.08\n",
            "  • 7Networks_LH_Vis_8: z=4.64\n",
            "  • 7Networks_LH_Vis_10: z=3.48\n",
            "  • 7Networks_LH_Vis_13: z=3.62\n",
            "  • 7Networks_LH_Vis_14: z=2.06\n",
            "  • 7Networks_LH_SomMot_2: z=2.91\n",
            "  • 7Networks_LH_SomMot_4: z=3.85\n",
            "  • 7Networks_LH_SomMot_6: z=6.45\n",
            "  • 7Networks_LH_SomMot_7: z=5.64\n",
            "  • 7Networks_LH_SomMot_8: z=4.07\n",
            "  • 7Networks_LH_SomMot_9: z=6.46\n",
            "  • 7Networks_LH_SomMot_10: z=6.87\n",
            "  • 7Networks_LH_SomMot_11: z=8.23\n",
            "  • 7Networks_LH_SomMot_12: z=7.09\n",
            "  • 7Networks_LH_SomMot_13: z=7.67\n",
            "  • 7Networks_LH_SomMot_14: z=6.07\n",
            "  • 7Networks_LH_SomMot_15: z=6.33\n",
            "  • 7Networks_LH_SomMot_16: z=12.46\n",
            "  • 7Networks_LH_DorsAttn_Post_1: z=4.06\n",
            "  • 7Networks_LH_DorsAttn_Post_2: z=6.71\n",
            "  • 7Networks_LH_DorsAttn_Post_3: z=2.27\n",
            "  • 7Networks_LH_DorsAttn_Post_4: z=7.04\n",
            "  • 7Networks_LH_DorsAttn_Post_5: z=7.75\n",
            "  • 7Networks_LH_DorsAttn_Post_6: z=2.27\n",
            "  • 7Networks_LH_DorsAttn_Post_7: z=5.99\n",
            "  • 7Networks_LH_DorsAttn_Post_8: z=4.63\n",
            "  • 7Networks_LH_DorsAttn_Post_9: z=6.43\n",
            "  • 7Networks_LH_DorsAttn_Post_10: z=8.44\n",
            "  • 7Networks_LH_DorsAttn_FEF_1: z=4.32\n",
            "  • 7Networks_LH_DorsAttn_PrCv_1: z=4.39\n",
            "  • 7Networks_LH_SalVentAttn_ParOper_1: z=3.96\n",
            "  • 7Networks_LH_SalVentAttn_FrOperIns_4: z=4.33\n",
            "  • 7Networks_LH_SalVentAttn_Med_1: z=7.09\n",
            "  • 7Networks_LH_SalVentAttn_Med_2: z=3.68\n",
            "  • 7Networks_LH_SalVentAttn_Med_3: z=2.33\n",
            "  • 7Networks_LH_Limbic_OFC_1: z=2.34\n",
            "  • 7Networks_LH_Limbic_OFC_2: z=5.82\n",
            "  • 7Networks_LH_Limbic_TempPole_1: z=7.06\n",
            "  • 7Networks_LH_Limbic_TempPole_2: z=2.76\n",
            "  • 7Networks_LH_Cont_Par_1: z=2.76\n",
            "  • 7Networks_LH_Cont_Par_2: z=4.46\n",
            "  • 7Networks_LH_Cont_Temp_1: z=2.01\n",
            "  • 7Networks_LH_Cont_OFC_1: z=2.27\n",
            "  • 7Networks_LH_Cont_PFCl_1: z=2.42\n",
            "  • 7Networks_LH_Cont_PFCl_2: z=2.64\n",
            "  • 7Networks_LH_Cont_PFCl_4: z=2.39\n",
            "  • 7Networks_LH_Cont_PFCl_5: z=5.76\n",
            "  • 7Networks_LH_Cont_pCun_1: z=3.56\n",
            "  • 7Networks_LH_Cont_Cing_2: z=2.04\n",
            "  • 7Networks_LH_Default_Temp_1: z=2.78\n",
            "  • 7Networks_LH_Default_Temp_2: z=2.99\n",
            "  • 7Networks_LH_Default_Temp_3: z=4.64\n",
            "  • 7Networks_LH_Default_Temp_4: z=2.89\n",
            "  • 7Networks_LH_Default_Par_2: z=3.75\n",
            "  • 7Networks_LH_Default_PFC_2: z=4.07\n",
            "  • 7Networks_LH_Default_PFC_3: z=3.04\n",
            "  • 7Networks_LH_Default_PFC_8: z=3.07\n",
            "  • 7Networks_LH_Default_PFC_10: z=3.64\n",
            "  • 7Networks_LH_Default_PFC_11: z=2.92\n",
            "  • 7Networks_LH_Default_PFC_13: z=5.97\n",
            "  • 7Networks_LH_Default_pCunPCC_1: z=3.02\n",
            "  • 7Networks_LH_Default_pCunPCC_2: z=3.78\n",
            "  • 7Networks_LH_Default_pCunPCC_3: z=2.69\n",
            "  • 7Networks_LH_Default_pCunPCC_4: z=9.52\n",
            "  • 7Networks_LH_Default_PHC_1: z=10.00\n",
            "  • 7Networks_RH_Vis_1: z=3.44\n",
            "  • 7Networks_RH_Vis_2: z=3.12\n",
            "  • 7Networks_RH_Vis_4: z=3.93\n",
            "  • 7Networks_RH_Vis_5: z=3.44\n",
            "  • 7Networks_RH_Vis_6: z=4.84\n",
            "  • 7Networks_RH_Vis_7: z=4.32\n",
            "  • 7Networks_RH_Vis_10: z=3.26\n",
            "  • 7Networks_RH_Vis_14: z=3.79\n",
            "  • 7Networks_RH_SomMot_1: z=2.64\n",
            "  • 7Networks_RH_SomMot_2: z=2.18\n",
            "  • 7Networks_RH_SomMot_6: z=2.84\n",
            "  • 7Networks_RH_SomMot_8: z=2.39\n",
            "  • 7Networks_RH_SomMot_9: z=3.73\n",
            "  • 7Networks_RH_SomMot_10: z=2.15\n",
            "  • 7Networks_RH_SomMot_13: z=2.47\n",
            "  • 7Networks_RH_SomMot_15: z=2.59\n",
            "  • 7Networks_RH_SomMot_16: z=4.47\n",
            "  • 7Networks_RH_SomMot_17: z=4.74\n",
            "  • 7Networks_RH_SomMot_18: z=2.40\n",
            "  • 7Networks_RH_SomMot_19: z=7.75\n",
            "  • 7Networks_RH_DorsAttn_Post_2: z=2.04\n",
            "  • 7Networks_RH_DorsAttn_Post_5: z=2.33\n",
            "  • 7Networks_RH_DorsAttn_Post_8: z=3.21\n",
            "  • 7Networks_RH_DorsAttn_Post_9: z=4.59\n",
            "  • 7Networks_RH_DorsAttn_Post_10: z=2.46\n",
            "  • 7Networks_RH_SalVentAttn_TempOccPar_3: z=3.45\n",
            "  • 7Networks_RH_SalVentAttn_Med_1: z=4.59\n",
            "  • 7Networks_RH_SalVentAttn_Med_3: z=2.67\n",
            "  • 7Networks_RH_Limbic_OFC_2: z=4.56\n",
            "  • 7Networks_RH_Limbic_OFC_3: z=4.43\n",
            "  • 7Networks_RH_Limbic_TempPole_1: z=4.38\n",
            "  • 7Networks_RH_Limbic_TempPole_2: z=8.96\n",
            "  • 7Networks_RH_Cont_Par_1: z=2.47\n",
            "  • 7Networks_RH_Cont_Par_3: z=4.73\n",
            "  • 7Networks_RH_Cont_PFCl_6: z=3.28\n",
            "  • 7Networks_RH_Cont_PFCl_7: z=4.30\n",
            "  • 7Networks_RH_Cont_pCun_1: z=2.61\n",
            "  • 7Networks_RH_Cont_Cing_2: z=2.06\n",
            "  • 7Networks_RH_Cont_PFCmp_1: z=2.02\n",
            "  • 7Networks_RH_Default_Par_3: z=3.56\n",
            "  • 7Networks_RH_Default_Temp_4: z=2.84\n",
            "  • 7Networks_RH_Default_PFCdPFCm_4: z=2.19\n",
            "  • 7Networks_RH_Default_PFCdPFCm_5: z=2.05\n",
            "  • 7Networks_RH_Default_PFCdPFCm_7: z=4.80\n",
            "  • 7Networks_RH_Default_pCunPCC_1: z=4.10\n",
            "  • 7Networks_RH_Default_pCunPCC_2: z=2.39\n"
          ]
        },
        {
          "output_type": "display_data",
          "data": {
            "text/plain": [
              "\u001b[1;34m[\u001b[0m\u001b[34mNiftiLabelsMasker.inverse_transform\u001b[0m\u001b[1;34m]\u001b[0m computing image from signals\n"
            ],
            "text/html": [
              "<pre style=\"white-space:pre;overflow-x:auto;line-height:normal;font-family:Menlo,'DejaVu Sans Mono',consolas,'Courier New',monospace\"><span style=\"color: #000080; text-decoration-color: #000080; font-weight: bold\">[</span><span style=\"color: #000080; text-decoration-color: #000080\">NiftiLabelsMasker.inverse_transform</span><span style=\"color: #000080; text-decoration-color: #000080; font-weight: bold\">]</span> computing image from signals\n",
              "</pre>\n"
            ]
          },
          "metadata": {}
        },
        {
          "output_type": "stream",
          "name": "stdout",
          "text": [
            "p06 session 2.0: 4 outlier regions\n",
            "  • 7Networks_LH_Default_PFC_3: z=3.01\n",
            "  • 7Networks_LH_Default_pCunPCC_1: z=2.88\n",
            "  • 7Networks_RH_Limbic_OFC_2: z=2.97\n",
            "  • 7Networks_RH_Default_pCunPCC_1: z=2.59\n"
          ]
        },
        {
          "output_type": "display_data",
          "data": {
            "text/plain": [
              "\u001b[1;34m[\u001b[0m\u001b[34mNiftiLabelsMasker.inverse_transform\u001b[0m\u001b[1;34m]\u001b[0m computing image from signals\n"
            ],
            "text/html": [
              "<pre style=\"white-space:pre;overflow-x:auto;line-height:normal;font-family:Menlo,'DejaVu Sans Mono',consolas,'Courier New',monospace\"><span style=\"color: #000080; text-decoration-color: #000080; font-weight: bold\">[</span><span style=\"color: #000080; text-decoration-color: #000080\">NiftiLabelsMasker.inverse_transform</span><span style=\"color: #000080; text-decoration-color: #000080; font-weight: bold\">]</span> computing image from signals\n",
              "</pre>\n"
            ]
          },
          "metadata": {}
        },
        {
          "output_type": "stream",
          "name": "stdout",
          "text": [
            "p06 session 3.0: 9 outlier regions\n",
            "  • 7Networks_LH_Vis_2: z=2.45\n",
            "  • 7Networks_LH_Vis_4: z=2.09\n",
            "  • 7Networks_LH_SomMot_7: z=2.38\n",
            "  • 7Networks_LH_SomMot_9: z=3.79\n",
            "  • 7Networks_LH_SomMot_11: z=3.68\n",
            "  • 7Networks_LH_SomMot_13: z=2.68\n",
            "  • 7Networks_LH_SomMot_16: z=3.41\n",
            "  • 7Networks_LH_SalVentAttn_Med_2: z=3.36\n",
            "  • 7Networks_LH_Default_pCunPCC_4: z=2.34\n"
          ]
        },
        {
          "output_type": "display_data",
          "data": {
            "text/plain": [
              "\u001b[1;34m[\u001b[0m\u001b[34mNiftiLabelsMasker.inverse_transform\u001b[0m\u001b[1;34m]\u001b[0m computing image from signals\n"
            ],
            "text/html": [
              "<pre style=\"white-space:pre;overflow-x:auto;line-height:normal;font-family:Menlo,'DejaVu Sans Mono',consolas,'Courier New',monospace\"><span style=\"color: #000080; text-decoration-color: #000080; font-weight: bold\">[</span><span style=\"color: #000080; text-decoration-color: #000080\">NiftiLabelsMasker.inverse_transform</span><span style=\"color: #000080; text-decoration-color: #000080; font-weight: bold\">]</span> computing image from signals\n",
              "</pre>\n"
            ]
          },
          "metadata": {}
        },
        {
          "output_type": "stream",
          "name": "stdout",
          "text": [
            "p07 session 1.0: 75 outlier regions\n",
            "  • Background: z=3.35\n",
            "  • 7Networks_LH_Vis_1: z=6.16\n",
            "  • 7Networks_LH_Vis_4: z=15.74\n",
            "  • 7Networks_LH_Vis_5: z=2.48\n",
            "  • 7Networks_LH_Vis_6: z=3.52\n",
            "  • 7Networks_LH_Vis_8: z=2.33\n",
            "  • 7Networks_LH_SomMot_2: z=2.66\n",
            "  • 7Networks_LH_SomMot_6: z=4.78\n",
            "  • 7Networks_LH_SomMot_8: z=2.73\n",
            "  • 7Networks_LH_SomMot_9: z=2.96\n",
            "  • 7Networks_LH_SomMot_10: z=4.25\n",
            "  • 7Networks_LH_SomMot_11: z=3.09\n",
            "  • 7Networks_LH_SomMot_12: z=3.14\n",
            "  • 7Networks_LH_SomMot_13: z=2.63\n",
            "  • 7Networks_LH_SomMot_15: z=2.04\n",
            "  • 7Networks_LH_SomMot_16: z=14.54\n",
            "  • 7Networks_LH_DorsAttn_Post_2: z=2.02\n",
            "  • 7Networks_LH_DorsAttn_Post_4: z=2.64\n",
            "  • 7Networks_LH_DorsAttn_Post_5: z=3.21\n",
            "  • 7Networks_LH_DorsAttn_Post_8: z=2.04\n",
            "  • 7Networks_LH_DorsAttn_Post_9: z=2.25\n",
            "  • 7Networks_LH_DorsAttn_Post_10: z=4.06\n",
            "  • 7Networks_LH_DorsAttn_FEF_1: z=3.20\n",
            "  • 7Networks_LH_SalVentAttn_FrOperIns_1: z=2.38\n",
            "  • 7Networks_LH_SalVentAttn_FrOperIns_2: z=2.05\n",
            "  • 7Networks_LH_SalVentAttn_PFCl_1: z=2.46\n",
            "  • 7Networks_LH_Limbic_OFC_1: z=2.08\n",
            "  • 7Networks_LH_Limbic_TempPole_1: z=2.19\n",
            "  • 7Networks_LH_Cont_Par_1: z=2.01\n",
            "  • 7Networks_LH_Cont_Par_2: z=2.48\n",
            "  • 7Networks_LH_Cont_Temp_1: z=2.37\n",
            "  • 7Networks_LH_Cont_Cing_1: z=3.47\n",
            "  • 7Networks_LH_Default_Temp_1: z=5.86\n",
            "  • 7Networks_LH_Default_Par_4: z=2.50\n",
            "  • 7Networks_LH_Default_PFC_3: z=3.77\n",
            "  • 7Networks_LH_Default_PFC_8: z=2.97\n",
            "  • 7Networks_LH_Default_PFC_10: z=3.12\n",
            "  • 7Networks_LH_Default_PFC_11: z=2.12\n",
            "  • 7Networks_LH_Default_PFC_12: z=2.32\n",
            "  • 7Networks_LH_Default_pCunPCC_2: z=2.51\n",
            "  • 7Networks_LH_Default_pCunPCC_4: z=7.70\n",
            "  • 7Networks_LH_Default_PHC_1: z=16.85\n",
            "  • 7Networks_RH_Vis_1: z=11.42\n",
            "  • 7Networks_RH_Vis_2: z=10.94\n",
            "  • 7Networks_RH_Vis_4: z=2.23\n",
            "  • 7Networks_RH_Vis_5: z=4.64\n",
            "  • 7Networks_RH_Vis_6: z=2.60\n",
            "  • 7Networks_RH_Vis_7: z=3.58\n",
            "  • 7Networks_RH_Vis_10: z=5.11\n",
            "  • 7Networks_RH_SomMot_2: z=3.28\n",
            "  • 7Networks_RH_SomMot_3: z=2.61\n",
            "  • 7Networks_RH_SomMot_6: z=2.04\n",
            "  • 7Networks_RH_SomMot_8: z=2.05\n",
            "  • 7Networks_RH_SomMot_10: z=2.09\n",
            "  • 7Networks_RH_SomMot_14: z=2.20\n",
            "  • 7Networks_RH_SomMot_15: z=2.09\n",
            "  • 7Networks_RH_SomMot_17: z=3.37\n",
            "  • 7Networks_RH_SomMot_18: z=2.19\n",
            "  • 7Networks_RH_SomMot_19: z=8.42\n",
            "  • 7Networks_RH_DorsAttn_Post_1: z=2.76\n",
            "  • 7Networks_RH_DorsAttn_Post_2: z=2.48\n",
            "  • 7Networks_RH_DorsAttn_Post_9: z=2.50\n",
            "  • 7Networks_RH_SalVentAttn_Med_2: z=2.32\n",
            "  • 7Networks_RH_SalVentAttn_Med_3: z=2.59\n",
            "  • 7Networks_RH_Limbic_OFC_1: z=2.13\n",
            "  • 7Networks_RH_Limbic_OFC_2: z=4.91\n",
            "  • 7Networks_RH_Limbic_OFC_3: z=4.63\n",
            "  • 7Networks_RH_Limbic_TempPole_1: z=6.54\n",
            "  • 7Networks_RH_Limbic_TempPole_2: z=4.65\n",
            "  • 7Networks_RH_Cont_Par_3: z=8.66\n",
            "  • 7Networks_RH_Cont_PFCl_1: z=2.26\n",
            "  • 7Networks_RH_Cont_Cing_2: z=2.65\n",
            "  • 7Networks_RH_Cont_PFCmp_1: z=3.90\n",
            "  • 7Networks_RH_Default_Par_3: z=7.90\n",
            "  • 7Networks_RH_Default_Temp_3: z=3.80\n"
          ]
        },
        {
          "output_type": "display_data",
          "data": {
            "text/plain": [
              "\u001b[1;34m[\u001b[0m\u001b[34mNiftiLabelsMasker.inverse_transform\u001b[0m\u001b[1;34m]\u001b[0m computing image from signals\n"
            ],
            "text/html": [
              "<pre style=\"white-space:pre;overflow-x:auto;line-height:normal;font-family:Menlo,'DejaVu Sans Mono',consolas,'Courier New',monospace\"><span style=\"color: #000080; text-decoration-color: #000080; font-weight: bold\">[</span><span style=\"color: #000080; text-decoration-color: #000080\">NiftiLabelsMasker.inverse_transform</span><span style=\"color: #000080; text-decoration-color: #000080; font-weight: bold\">]</span> computing image from signals\n",
              "</pre>\n"
            ]
          },
          "metadata": {}
        },
        {
          "output_type": "stream",
          "name": "stdout",
          "text": [
            "p07 session 2.0: 0 outlier regions\n"
          ]
        },
        {
          "output_type": "stream",
          "name": "stderr",
          "text": [
            "/tmp/ipython-input-16-4263011515.py:33: UserWarning: empty mask\n",
            "  display = plotting.plot_glass_brain(\n"
          ]
        },
        {
          "output_type": "display_data",
          "data": {
            "text/plain": [
              "\u001b[1;34m[\u001b[0m\u001b[34mNiftiLabelsMasker.inverse_transform\u001b[0m\u001b[1;34m]\u001b[0m computing image from signals\n"
            ],
            "text/html": [
              "<pre style=\"white-space:pre;overflow-x:auto;line-height:normal;font-family:Menlo,'DejaVu Sans Mono',consolas,'Courier New',monospace\"><span style=\"color: #000080; text-decoration-color: #000080; font-weight: bold\">[</span><span style=\"color: #000080; text-decoration-color: #000080\">NiftiLabelsMasker.inverse_transform</span><span style=\"color: #000080; text-decoration-color: #000080; font-weight: bold\">]</span> computing image from signals\n",
              "</pre>\n"
            ]
          },
          "metadata": {}
        },
        {
          "output_type": "stream",
          "name": "stdout",
          "text": [
            "p07 session 3.0: 1 outlier regions\n",
            "  • 7Networks_RH_Limbic_TempPole_3: z=-2.27\n"
          ]
        },
        {
          "output_type": "display_data",
          "data": {
            "text/plain": [
              "\u001b[1;34m[\u001b[0m\u001b[34mNiftiLabelsMasker.inverse_transform\u001b[0m\u001b[1;34m]\u001b[0m computing image from signals\n"
            ],
            "text/html": [
              "<pre style=\"white-space:pre;overflow-x:auto;line-height:normal;font-family:Menlo,'DejaVu Sans Mono',consolas,'Courier New',monospace\"><span style=\"color: #000080; text-decoration-color: #000080; font-weight: bold\">[</span><span style=\"color: #000080; text-decoration-color: #000080\">NiftiLabelsMasker.inverse_transform</span><span style=\"color: #000080; text-decoration-color: #000080; font-weight: bold\">]</span> computing image from signals\n",
              "</pre>\n"
            ]
          },
          "metadata": {}
        },
        {
          "output_type": "stream",
          "name": "stdout",
          "text": [
            "p08 session 1.0: 93 outlier regions\n",
            "  • Background: z=2.21\n",
            "  • 7Networks_LH_Vis_1: z=4.72\n",
            "  • 7Networks_LH_Vis_2: z=2.48\n",
            "  • 7Networks_LH_Vis_4: z=2.07\n",
            "  • 7Networks_LH_Vis_7: z=2.05\n",
            "  • 7Networks_LH_Vis_8: z=4.41\n",
            "  • 7Networks_LH_Vis_10: z=5.49\n",
            "  • 7Networks_LH_Vis_12: z=2.28\n",
            "  • 7Networks_LH_Vis_13: z=3.05\n",
            "  • 7Networks_LH_SomMot_2: z=3.43\n",
            "  • 7Networks_LH_SomMot_4: z=2.46\n",
            "  • 7Networks_LH_SomMot_5: z=2.83\n",
            "  • 7Networks_LH_SomMot_6: z=4.71\n",
            "  • 7Networks_LH_SomMot_7: z=3.84\n",
            "  • 7Networks_LH_SomMot_8: z=3.48\n",
            "  • 7Networks_LH_SomMot_9: z=4.04\n",
            "  • 7Networks_LH_SomMot_10: z=2.77\n",
            "  • 7Networks_LH_SomMot_11: z=4.94\n",
            "  • 7Networks_LH_SomMot_12: z=2.65\n",
            "  • 7Networks_LH_SomMot_13: z=4.64\n",
            "  • 7Networks_LH_SomMot_14: z=3.62\n",
            "  • 7Networks_LH_SomMot_15: z=3.80\n",
            "  • 7Networks_LH_SomMot_16: z=9.53\n",
            "  • 7Networks_LH_DorsAttn_Post_2: z=5.71\n",
            "  • 7Networks_LH_DorsAttn_Post_3: z=3.55\n",
            "  • 7Networks_LH_DorsAttn_Post_4: z=5.21\n",
            "  • 7Networks_LH_DorsAttn_Post_5: z=4.34\n",
            "  • 7Networks_LH_DorsAttn_Post_6: z=2.98\n",
            "  • 7Networks_LH_DorsAttn_Post_8: z=3.01\n",
            "  • 7Networks_LH_DorsAttn_Post_10: z=3.38\n",
            "  • 7Networks_LH_SalVentAttn_ParOper_1: z=2.60\n",
            "  • 7Networks_LH_SalVentAttn_FrOperIns_4: z=4.06\n",
            "  • 7Networks_LH_SalVentAttn_Med_1: z=2.88\n",
            "  • 7Networks_LH_SalVentAttn_Med_3: z=2.46\n",
            "  • 7Networks_LH_Limbic_OFC_2: z=4.67\n",
            "  • 7Networks_LH_Limbic_TempPole_1: z=4.93\n",
            "  • 7Networks_LH_Limbic_TempPole_2: z=4.62\n",
            "  • 7Networks_LH_Limbic_TempPole_4: z=3.83\n",
            "  • 7Networks_LH_Cont_Par_2: z=2.73\n",
            "  • 7Networks_LH_Cont_Par_3: z=7.26\n",
            "  • 7Networks_LH_Default_Temp_1: z=2.49\n",
            "  • 7Networks_LH_Default_Temp_5: z=3.97\n",
            "  • 7Networks_LH_Default_Par_1: z=5.31\n",
            "  • 7Networks_LH_Default_Par_2: z=2.68\n",
            "  • 7Networks_LH_Default_Par_3: z=2.91\n",
            "  • 7Networks_LH_Default_pCunPCC_1: z=2.36\n",
            "  • 7Networks_LH_Default_pCunPCC_4: z=4.98\n",
            "  • 7Networks_LH_Default_PHC_1: z=4.65\n",
            "  • 7Networks_RH_Vis_1: z=2.54\n",
            "  • 7Networks_RH_Vis_2: z=3.11\n",
            "  • 7Networks_RH_Vis_11: z=3.07\n",
            "  • 7Networks_RH_Vis_14: z=3.15\n",
            "  • 7Networks_RH_SomMot_2: z=3.55\n",
            "  • 7Networks_RH_SomMot_3: z=2.91\n",
            "  • 7Networks_RH_SomMot_6: z=3.45\n",
            "  • 7Networks_RH_SomMot_7: z=4.94\n",
            "  • 7Networks_RH_SomMot_8: z=3.16\n",
            "  • 7Networks_RH_SomMot_9: z=6.09\n",
            "  • 7Networks_RH_SomMot_10: z=4.83\n",
            "  • 7Networks_RH_SomMot_11: z=2.41\n",
            "  • 7Networks_RH_SomMot_12: z=4.15\n",
            "  • 7Networks_RH_SomMot_13: z=2.89\n",
            "  • 7Networks_RH_SomMot_14: z=3.91\n",
            "  • 7Networks_RH_SomMot_15: z=2.66\n",
            "  • 7Networks_RH_SomMot_16: z=4.65\n",
            "  • 7Networks_RH_SomMot_17: z=4.65\n",
            "  • 7Networks_RH_SomMot_18: z=2.94\n",
            "  • 7Networks_RH_SomMot_19: z=2.94\n",
            "  • 7Networks_RH_DorsAttn_Post_1: z=2.96\n",
            "  • 7Networks_RH_DorsAttn_Post_2: z=3.10\n",
            "  • 7Networks_RH_DorsAttn_Post_4: z=5.03\n",
            "  • 7Networks_RH_DorsAttn_Post_6: z=5.51\n",
            "  • 7Networks_RH_DorsAttn_Post_7: z=2.64\n",
            "  • 7Networks_RH_DorsAttn_Post_8: z=2.28\n",
            "  • 7Networks_RH_DorsAttn_Post_9: z=2.86\n",
            "  • 7Networks_RH_DorsAttn_Post_10: z=3.88\n",
            "  • 7Networks_RH_SalVentAttn_TempOccPar_1: z=3.08\n",
            "  • 7Networks_RH_SalVentAttn_TempOccPar_3: z=2.63\n",
            "  • 7Networks_RH_SalVentAttn_Med_1: z=4.64\n",
            "  • 7Networks_RH_SalVentAttn_Med_3: z=2.76\n",
            "  • 7Networks_RH_Limbic_OFC_2: z=2.05\n",
            "  • 7Networks_RH_Limbic_OFC_3: z=3.62\n",
            "  • 7Networks_RH_Limbic_TempPole_2: z=4.31\n",
            "  • 7Networks_RH_Cont_Par_1: z=2.05\n",
            "  • 7Networks_RH_Cont_Par_3: z=2.46\n",
            "  • 7Networks_RH_Cont_PFCl_5: z=2.24\n",
            "  • 7Networks_RH_Cont_PFCl_7: z=2.40\n",
            "  • 7Networks_RH_Cont_PFCmp_2: z=3.63\n",
            "  • 7Networks_RH_Default_Par_1: z=2.85\n",
            "  • 7Networks_RH_Default_Par_2: z=2.18\n",
            "  • 7Networks_RH_Default_Temp_3: z=2.35\n",
            "  • 7Networks_RH_Default_Temp_4: z=2.80\n",
            "  • 7Networks_RH_Default_PFCdPFCm_4: z=2.44\n"
          ]
        },
        {
          "output_type": "display_data",
          "data": {
            "text/plain": [
              "\u001b[1;34m[\u001b[0m\u001b[34mNiftiLabelsMasker.inverse_transform\u001b[0m\u001b[1;34m]\u001b[0m computing image from signals\n"
            ],
            "text/html": [
              "<pre style=\"white-space:pre;overflow-x:auto;line-height:normal;font-family:Menlo,'DejaVu Sans Mono',consolas,'Courier New',monospace\"><span style=\"color: #000080; text-decoration-color: #000080; font-weight: bold\">[</span><span style=\"color: #000080; text-decoration-color: #000080\">NiftiLabelsMasker.inverse_transform</span><span style=\"color: #000080; text-decoration-color: #000080; font-weight: bold\">]</span> computing image from signals\n",
              "</pre>\n"
            ]
          },
          "metadata": {}
        },
        {
          "output_type": "stream",
          "name": "stdout",
          "text": [
            "p08 session 2.0: 14 outlier regions\n",
            "  • Background: z=2.05\n",
            "  • 7Networks_LH_SomMot_1: z=2.39\n",
            "  • 7Networks_LH_SomMot_16: z=5.72\n",
            "  • 7Networks_LH_Limbic_OFC_2: z=3.64\n",
            "  • 7Networks_LH_Limbic_TempPole_2: z=2.43\n",
            "  • 7Networks_LH_Default_Par_1: z=2.08\n",
            "  • 7Networks_LH_Default_pCunPCC_4: z=2.30\n",
            "  • 7Networks_LH_Default_PHC_1: z=3.08\n",
            "  • 7Networks_RH_SomMot_2: z=2.75\n",
            "  • 7Networks_RH_SomMot_3: z=2.42\n",
            "  • 7Networks_RH_SomMot_7: z=2.78\n",
            "  • 7Networks_RH_SomMot_9: z=2.07\n",
            "  • 7Networks_RH_Cont_PFCmp_2: z=2.94\n",
            "  • 7Networks_RH_Default_Par_3: z=2.14\n"
          ]
        },
        {
          "output_type": "display_data",
          "data": {
            "text/plain": [
              "\u001b[1;34m[\u001b[0m\u001b[34mNiftiLabelsMasker.inverse_transform\u001b[0m\u001b[1;34m]\u001b[0m computing image from signals\n"
            ],
            "text/html": [
              "<pre style=\"white-space:pre;overflow-x:auto;line-height:normal;font-family:Menlo,'DejaVu Sans Mono',consolas,'Courier New',monospace\"><span style=\"color: #000080; text-decoration-color: #000080; font-weight: bold\">[</span><span style=\"color: #000080; text-decoration-color: #000080\">NiftiLabelsMasker.inverse_transform</span><span style=\"color: #000080; text-decoration-color: #000080; font-weight: bold\">]</span> computing image from signals\n",
              "</pre>\n"
            ]
          },
          "metadata": {}
        },
        {
          "output_type": "stream",
          "name": "stdout",
          "text": [
            "p08 session 3.0: 15 outlier regions\n",
            "  • 7Networks_LH_SomMot_16: z=4.36\n",
            "  • 7Networks_LH_Limbic_OFC_2: z=4.16\n",
            "  • 7Networks_LH_Limbic_TempPole_2: z=3.24\n",
            "  • 7Networks_LH_Cont_Temp_1: z=3.30\n",
            "  • 7Networks_LH_Cont_Cing_2: z=2.09\n",
            "  • 7Networks_LH_Default_PFC_3: z=2.35\n",
            "  • 7Networks_LH_Default_PFC_11: z=2.31\n",
            "  • 7Networks_RH_SalVentAttn_Med_3: z=2.28\n",
            "  • 7Networks_RH_Cont_Par_3: z=2.10\n",
            "  • 7Networks_RH_Cont_PFCv_1: z=2.25\n",
            "  • 7Networks_RH_Cont_PFCl_6: z=2.06\n",
            "  • 7Networks_RH_Default_PFCdPFCm_3: z=2.50\n",
            "  • 7Networks_RH_Default_PFCdPFCm_4: z=2.65\n",
            "  • 7Networks_RH_Default_PFCdPFCm_5: z=2.16\n",
            "  • 7Networks_RH_Default_PFCdPFCm_6: z=2.21\n"
          ]
        },
        {
          "output_type": "display_data",
          "data": {
            "text/plain": [
              "\u001b[1;34m[\u001b[0m\u001b[34mNiftiLabelsMasker.inverse_transform\u001b[0m\u001b[1;34m]\u001b[0m computing image from signals\n"
            ],
            "text/html": [
              "<pre style=\"white-space:pre;overflow-x:auto;line-height:normal;font-family:Menlo,'DejaVu Sans Mono',consolas,'Courier New',monospace\"><span style=\"color: #000080; text-decoration-color: #000080; font-weight: bold\">[</span><span style=\"color: #000080; text-decoration-color: #000080\">NiftiLabelsMasker.inverse_transform</span><span style=\"color: #000080; text-decoration-color: #000080; font-weight: bold\">]</span> computing image from signals\n",
              "</pre>\n"
            ]
          },
          "metadata": {}
        },
        {
          "output_type": "stream",
          "name": "stdout",
          "text": [
            "p09 session 1.0: 5 outlier regions\n",
            "  • 7Networks_LH_SomMot_2: z=2.22\n",
            "  • 7Networks_LH_Cont_PFCl_5: z=2.31\n",
            "  • 7Networks_LH_Default_PFC_13: z=3.73\n",
            "  • 7Networks_RH_SomMot_19: z=2.14\n",
            "  • 7Networks_RH_SalVentAttn_TempOccPar_2: z=3.11\n"
          ]
        },
        {
          "output_type": "display_data",
          "data": {
            "text/plain": [
              "\u001b[1;34m[\u001b[0m\u001b[34mNiftiLabelsMasker.inverse_transform\u001b[0m\u001b[1;34m]\u001b[0m computing image from signals\n"
            ],
            "text/html": [
              "<pre style=\"white-space:pre;overflow-x:auto;line-height:normal;font-family:Menlo,'DejaVu Sans Mono',consolas,'Courier New',monospace\"><span style=\"color: #000080; text-decoration-color: #000080; font-weight: bold\">[</span><span style=\"color: #000080; text-decoration-color: #000080\">NiftiLabelsMasker.inverse_transform</span><span style=\"color: #000080; text-decoration-color: #000080; font-weight: bold\">]</span> computing image from signals\n",
              "</pre>\n"
            ]
          },
          "metadata": {}
        },
        {
          "output_type": "stream",
          "name": "stdout",
          "text": [
            "p09 session 2.0: 10 outlier regions\n",
            "  • 7Networks_LH_SomMot_16: z=2.70\n",
            "  • 7Networks_LH_Default_Par_3: z=2.93\n",
            "  • 7Networks_LH_Default_PFC_8: z=2.32\n",
            "  • 7Networks_RH_SalVentAttn_TempOccPar_1: z=2.11\n",
            "  • 7Networks_RH_SalVentAttn_TempOccPar_2: z=4.11\n",
            "  • 7Networks_RH_SalVentAttn_TempOccPar_3: z=3.64\n",
            "  • 7Networks_RH_Cont_PFCl_6: z=2.36\n",
            "  • 7Networks_RH_Default_Par_2: z=2.39\n",
            "  • 7Networks_RH_Default_PFCdPFCm_3: z=2.09\n",
            "  • 7Networks_RH_Default_PFCdPFCm_4: z=2.48\n"
          ]
        },
        {
          "output_type": "display_data",
          "data": {
            "text/plain": [
              "\u001b[1;34m[\u001b[0m\u001b[34mNiftiLabelsMasker.inverse_transform\u001b[0m\u001b[1;34m]\u001b[0m computing image from signals\n"
            ],
            "text/html": [
              "<pre style=\"white-space:pre;overflow-x:auto;line-height:normal;font-family:Menlo,'DejaVu Sans Mono',consolas,'Courier New',monospace\"><span style=\"color: #000080; text-decoration-color: #000080; font-weight: bold\">[</span><span style=\"color: #000080; text-decoration-color: #000080\">NiftiLabelsMasker.inverse_transform</span><span style=\"color: #000080; text-decoration-color: #000080; font-weight: bold\">]</span> computing image from signals\n",
              "</pre>\n"
            ]
          },
          "metadata": {}
        },
        {
          "output_type": "stream",
          "name": "stdout",
          "text": [
            "p09 session 3.0: 22 outlier regions\n",
            "  • 7Networks_LH_SomMot_4: z=2.61\n",
            "  • 7Networks_LH_SomMot_7: z=2.26\n",
            "  • 7Networks_LH_SomMot_8: z=2.68\n",
            "  • 7Networks_LH_SomMot_9: z=2.14\n",
            "  • 7Networks_LH_SomMot_10: z=2.01\n",
            "  • 7Networks_LH_SomMot_11: z=2.79\n",
            "  • 7Networks_LH_SomMot_16: z=3.27\n",
            "  • 7Networks_LH_DorsAttn_Post_10: z=3.70\n",
            "  • 7Networks_LH_Limbic_OFC_1: z=2.01\n",
            "  • 7Networks_LH_Limbic_TempPole_2: z=3.60\n",
            "  • 7Networks_LH_Cont_PFCl_5: z=2.59\n",
            "  • 7Networks_LH_Default_Par_1: z=3.66\n",
            "  • 7Networks_LH_Default_Par_3: z=2.20\n",
            "  • 7Networks_LH_Default_pCunPCC_4: z=2.61\n",
            "  • 7Networks_RH_SomMot_19: z=2.66\n",
            "  • 7Networks_RH_SalVentAttn_TempOccPar_1: z=3.10\n",
            "  • 7Networks_RH_SalVentAttn_TempOccPar_2: z=2.70\n",
            "  • 7Networks_RH_SalVentAttn_TempOccPar_3: z=2.21\n",
            "  • 7Networks_RH_SalVentAttn_Med_3: z=2.01\n",
            "  • 7Networks_RH_Cont_Par_1: z=2.70\n",
            "  • 7Networks_RH_Cont_Par_3: z=2.21\n",
            "  • 7Networks_RH_Cont_PFCmp_2: z=3.59\n"
          ]
        },
        {
          "output_type": "display_data",
          "data": {
            "text/plain": [
              "\u001b[1;34m[\u001b[0m\u001b[34mNiftiLabelsMasker.inverse_transform\u001b[0m\u001b[1;34m]\u001b[0m computing image from signals\n"
            ],
            "text/html": [
              "<pre style=\"white-space:pre;overflow-x:auto;line-height:normal;font-family:Menlo,'DejaVu Sans Mono',consolas,'Courier New',monospace\"><span style=\"color: #000080; text-decoration-color: #000080; font-weight: bold\">[</span><span style=\"color: #000080; text-decoration-color: #000080\">NiftiLabelsMasker.inverse_transform</span><span style=\"color: #000080; text-decoration-color: #000080; font-weight: bold\">]</span> computing image from signals\n",
              "</pre>\n"
            ]
          },
          "metadata": {}
        },
        {
          "output_type": "stream",
          "name": "stdout",
          "text": [
            "p10 session 1.0: 96 outlier regions\n",
            "  • Background: z=4.32\n",
            "  • 7Networks_LH_Vis_1: z=5.46\n",
            "  • 7Networks_LH_Vis_2: z=5.00\n",
            "  • 7Networks_LH_Vis_4: z=4.75\n",
            "  • 7Networks_LH_Vis_7: z=2.81\n",
            "  • 7Networks_LH_Vis_10: z=2.33\n",
            "  • 7Networks_LH_Vis_11: z=2.00\n",
            "  • 7Networks_LH_Vis_13: z=3.75\n",
            "  • 7Networks_LH_SomMot_1: z=2.70\n",
            "  • 7Networks_LH_SomMot_2: z=5.51\n",
            "  • 7Networks_LH_SomMot_3: z=2.14\n",
            "  • 7Networks_LH_SomMot_4: z=5.21\n",
            "  • 7Networks_LH_SomMot_5: z=3.67\n",
            "  • 7Networks_LH_SomMot_6: z=7.59\n",
            "  • 7Networks_LH_SomMot_8: z=2.83\n",
            "  • 7Networks_LH_SomMot_16: z=9.23\n",
            "  • 7Networks_LH_DorsAttn_Post_1: z=4.32\n",
            "  • 7Networks_LH_DorsAttn_Post_2: z=6.51\n",
            "  • 7Networks_LH_DorsAttn_Post_3: z=4.03\n",
            "  • 7Networks_LH_DorsAttn_Post_4: z=3.22\n",
            "  • 7Networks_LH_DorsAttn_Post_5: z=8.92\n",
            "  • 7Networks_LH_DorsAttn_Post_7: z=2.89\n",
            "  • 7Networks_LH_DorsAttn_Post_10: z=5.92\n",
            "  • 7Networks_LH_DorsAttn_FEF_1: z=3.86\n",
            "  • 7Networks_LH_DorsAttn_FEF_2: z=4.71\n",
            "  • 7Networks_LH_DorsAttn_PrCv_1: z=6.99\n",
            "  • 7Networks_LH_SalVentAttn_ParOper_1: z=5.54\n",
            "  • 7Networks_LH_SalVentAttn_ParOper_2: z=5.69\n",
            "  • 7Networks_LH_SalVentAttn_FrOperIns_2: z=3.34\n",
            "  • 7Networks_LH_Limbic_TempPole_1: z=6.41\n",
            "  • 7Networks_LH_Limbic_TempPole_4: z=8.52\n",
            "  • 7Networks_LH_Cont_Par_1: z=4.90\n",
            "  • 7Networks_LH_Cont_Par_2: z=3.87\n",
            "  • 7Networks_LH_Cont_Par_3: z=2.94\n",
            "  • 7Networks_LH_Cont_PFCl_3: z=3.29\n",
            "  • 7Networks_LH_Cont_PFCl_4: z=3.76\n",
            "  • 7Networks_LH_Default_Temp_3: z=2.30\n",
            "  • 7Networks_LH_Default_Temp_4: z=4.21\n",
            "  • 7Networks_LH_Default_Temp_5: z=5.52\n",
            "  • 7Networks_LH_Default_Par_1: z=3.67\n",
            "  • 7Networks_LH_Default_Par_2: z=11.30\n",
            "  • 7Networks_LH_Default_Par_3: z=6.73\n",
            "  • 7Networks_LH_Default_PFC_7: z=2.49\n",
            "  • 7Networks_LH_Default_PFC_13: z=3.01\n",
            "  • 7Networks_LH_Default_pCunPCC_4: z=5.27\n",
            "  • 7Networks_LH_Default_PHC_1: z=3.35\n",
            "  • 7Networks_RH_Vis_1: z=5.40\n",
            "  • 7Networks_RH_Vis_2: z=2.14\n",
            "  • 7Networks_RH_Vis_4: z=2.62\n",
            "  • 7Networks_RH_Vis_10: z=3.81\n",
            "  • 7Networks_RH_Vis_15: z=4.55\n",
            "  • 7Networks_RH_SomMot_1: z=3.75\n",
            "  • 7Networks_RH_SomMot_2: z=5.69\n",
            "  • 7Networks_RH_SomMot_3: z=4.96\n",
            "  • 7Networks_RH_SomMot_4: z=3.25\n",
            "  • 7Networks_RH_SomMot_5: z=3.67\n",
            "  • 7Networks_RH_SomMot_6: z=2.71\n",
            "  • 7Networks_RH_SomMot_7: z=3.86\n",
            "  • 7Networks_RH_SomMot_8: z=2.80\n",
            "  • 7Networks_RH_SomMot_9: z=6.95\n",
            "  • 7Networks_RH_SomMot_10: z=3.21\n",
            "  • 7Networks_RH_SomMot_11: z=2.29\n",
            "  • 7Networks_RH_SomMot_13: z=2.68\n",
            "  • 7Networks_RH_SomMot_14: z=2.06\n",
            "  • 7Networks_RH_SomMot_19: z=5.73\n",
            "  • 7Networks_RH_DorsAttn_Post_1: z=2.88\n",
            "  • 7Networks_RH_DorsAttn_Post_2: z=3.04\n",
            "  • 7Networks_RH_DorsAttn_Post_4: z=2.05\n",
            "  • 7Networks_RH_DorsAttn_Post_6: z=3.28\n",
            "  • 7Networks_RH_DorsAttn_Post_10: z=5.51\n",
            "  • 7Networks_RH_DorsAttn_FEF_1: z=2.14\n",
            "  • 7Networks_RH_DorsAttn_FEF_2: z=2.85\n",
            "  • 7Networks_RH_DorsAttn_PrCv_1: z=2.91\n",
            "  • 7Networks_RH_SalVentAttn_TempOccPar_1: z=3.81\n",
            "  • 7Networks_RH_SalVentAttn_TempOccPar_2: z=3.55\n",
            "  • 7Networks_RH_SalVentAttn_TempOccPar_3: z=4.02\n",
            "  • 7Networks_RH_SalVentAttn_PrC_1: z=3.23\n",
            "  • 7Networks_RH_SalVentAttn_FrOperIns_1: z=4.73\n",
            "  • 7Networks_RH_SalVentAttn_FrOperIns_2: z=4.29\n",
            "  • 7Networks_RH_SalVentAttn_FrOperIns_3: z=2.87\n",
            "  • 7Networks_RH_SalVentAttn_FrOperIns_4: z=2.45\n",
            "  • 7Networks_RH_Cont_Par_3: z=2.21\n",
            "  • 7Networks_RH_Cont_Temp_1: z=4.90\n",
            "  • 7Networks_RH_Cont_PFCv_1: z=2.76\n",
            "  • 7Networks_RH_Cont_PFCl_1: z=2.97\n",
            "  • 7Networks_RH_Cont_PFCl_2: z=2.54\n",
            "  • 7Networks_RH_Cont_PFCl_3: z=3.69\n",
            "  • 7Networks_RH_Cont_PFCl_6: z=2.49\n",
            "  • 7Networks_RH_Cont_Cing_2: z=2.16\n",
            "  • 7Networks_RH_Cont_PFCmp_2: z=2.73\n",
            "  • 7Networks_RH_Default_Temp_1: z=2.62\n",
            "  • 7Networks_RH_Default_Temp_2: z=4.23\n",
            "  • 7Networks_RH_Default_Temp_3: z=2.26\n",
            "  • 7Networks_RH_Default_Temp_4: z=6.44\n",
            "  • 7Networks_RH_Default_Temp_5: z=3.71\n",
            "  • 7Networks_RH_Default_PFCdPFCm_3: z=2.15\n"
          ]
        },
        {
          "output_type": "display_data",
          "data": {
            "text/plain": [
              "\u001b[1;34m[\u001b[0m\u001b[34mNiftiLabelsMasker.inverse_transform\u001b[0m\u001b[1;34m]\u001b[0m computing image from signals\n"
            ],
            "text/html": [
              "<pre style=\"white-space:pre;overflow-x:auto;line-height:normal;font-family:Menlo,'DejaVu Sans Mono',consolas,'Courier New',monospace\"><span style=\"color: #000080; text-decoration-color: #000080; font-weight: bold\">[</span><span style=\"color: #000080; text-decoration-color: #000080\">NiftiLabelsMasker.inverse_transform</span><span style=\"color: #000080; text-decoration-color: #000080; font-weight: bold\">]</span> computing image from signals\n",
              "</pre>\n"
            ]
          },
          "metadata": {}
        },
        {
          "output_type": "stream",
          "name": "stdout",
          "text": [
            "p10 session 2.0: 3 outlier regions\n",
            "  • Background: z=3.03\n",
            "  • 7Networks_LH_DorsAttn_Post_8: z=2.05\n",
            "  • 7Networks_LH_Default_Par_2: z=2.17\n"
          ]
        },
        {
          "output_type": "display_data",
          "data": {
            "text/plain": [
              "\u001b[1;34m[\u001b[0m\u001b[34mNiftiLabelsMasker.inverse_transform\u001b[0m\u001b[1;34m]\u001b[0m computing image from signals\n"
            ],
            "text/html": [
              "<pre style=\"white-space:pre;overflow-x:auto;line-height:normal;font-family:Menlo,'DejaVu Sans Mono',consolas,'Courier New',monospace\"><span style=\"color: #000080; text-decoration-color: #000080; font-weight: bold\">[</span><span style=\"color: #000080; text-decoration-color: #000080\">NiftiLabelsMasker.inverse_transform</span><span style=\"color: #000080; text-decoration-color: #000080; font-weight: bold\">]</span> computing image from signals\n",
              "</pre>\n"
            ]
          },
          "metadata": {}
        },
        {
          "output_type": "stream",
          "name": "stdout",
          "text": [
            "p10 session 3.0: 1 outlier regions\n",
            "  • 7Networks_RH_SalVentAttn_Med_3: z=2.57\n"
          ]
        },
        {
          "output_type": "display_data",
          "data": {
            "text/plain": [
              "\u001b[1;34m[\u001b[0m\u001b[34mNiftiLabelsMasker.inverse_transform\u001b[0m\u001b[1;34m]\u001b[0m computing image from signals\n"
            ],
            "text/html": [
              "<pre style=\"white-space:pre;overflow-x:auto;line-height:normal;font-family:Menlo,'DejaVu Sans Mono',consolas,'Courier New',monospace\"><span style=\"color: #000080; text-decoration-color: #000080; font-weight: bold\">[</span><span style=\"color: #000080; text-decoration-color: #000080\">NiftiLabelsMasker.inverse_transform</span><span style=\"color: #000080; text-decoration-color: #000080; font-weight: bold\">]</span> computing image from signals\n",
              "</pre>\n"
            ]
          },
          "metadata": {}
        },
        {
          "output_type": "stream",
          "name": "stdout",
          "text": [
            "p11 session 1.0: 3 outlier regions\n",
            "  • 7Networks_LH_Default_PFC_3: z=2.00\n",
            "  • 7Networks_RH_Cont_PFCl_2: z=2.16\n",
            "  • 7Networks_RH_Cont_PFCl_3: z=2.20\n"
          ]
        },
        {
          "output_type": "display_data",
          "data": {
            "text/plain": [
              "\u001b[1;34m[\u001b[0m\u001b[34mNiftiLabelsMasker.inverse_transform\u001b[0m\u001b[1;34m]\u001b[0m computing image from signals\n"
            ],
            "text/html": [
              "<pre style=\"white-space:pre;overflow-x:auto;line-height:normal;font-family:Menlo,'DejaVu Sans Mono',consolas,'Courier New',monospace\"><span style=\"color: #000080; text-decoration-color: #000080; font-weight: bold\">[</span><span style=\"color: #000080; text-decoration-color: #000080\">NiftiLabelsMasker.inverse_transform</span><span style=\"color: #000080; text-decoration-color: #000080; font-weight: bold\">]</span> computing image from signals\n",
              "</pre>\n"
            ]
          },
          "metadata": {}
        },
        {
          "output_type": "stream",
          "name": "stdout",
          "text": [
            "p11 session 2.0: 2 outlier regions\n",
            "  • 7Networks_RH_SomMot_1: z=2.23\n",
            "  • 7Networks_RH_SomMot_4: z=2.90\n"
          ]
        },
        {
          "output_type": "display_data",
          "data": {
            "text/plain": [
              "\u001b[1;34m[\u001b[0m\u001b[34mNiftiLabelsMasker.inverse_transform\u001b[0m\u001b[1;34m]\u001b[0m computing image from signals\n"
            ],
            "text/html": [
              "<pre style=\"white-space:pre;overflow-x:auto;line-height:normal;font-family:Menlo,'DejaVu Sans Mono',consolas,'Courier New',monospace\"><span style=\"color: #000080; text-decoration-color: #000080; font-weight: bold\">[</span><span style=\"color: #000080; text-decoration-color: #000080\">NiftiLabelsMasker.inverse_transform</span><span style=\"color: #000080; text-decoration-color: #000080; font-weight: bold\">]</span> computing image from signals\n",
              "</pre>\n"
            ]
          },
          "metadata": {}
        },
        {
          "output_type": "stream",
          "name": "stdout",
          "text": [
            "p11 session 3.0: 4 outlier regions\n",
            "  • 7Networks_LH_Default_Par_2: z=-2.03\n",
            "  • 7Networks_RH_Cont_PFCl_2: z=2.01\n",
            "  • 7Networks_RH_Cont_PFCl_3: z=2.41\n",
            "  • 7Networks_RH_Cont_PFCl_7: z=-2.01\n"
          ]
        },
        {
          "output_type": "display_data",
          "data": {
            "text/plain": [
              "\u001b[1;34m[\u001b[0m\u001b[34mNiftiLabelsMasker.inverse_transform\u001b[0m\u001b[1;34m]\u001b[0m computing image from signals\n"
            ],
            "text/html": [
              "<pre style=\"white-space:pre;overflow-x:auto;line-height:normal;font-family:Menlo,'DejaVu Sans Mono',consolas,'Courier New',monospace\"><span style=\"color: #000080; text-decoration-color: #000080; font-weight: bold\">[</span><span style=\"color: #000080; text-decoration-color: #000080\">NiftiLabelsMasker.inverse_transform</span><span style=\"color: #000080; text-decoration-color: #000080; font-weight: bold\">]</span> computing image from signals\n",
              "</pre>\n"
            ]
          },
          "metadata": {}
        },
        {
          "output_type": "stream",
          "name": "stdout",
          "text": [
            "p12 session 1.0: 3 outlier regions\n",
            "  • 7Networks_LH_SomMot_4: z=2.92\n",
            "  • 7Networks_LH_SomMot_6: z=2.28\n",
            "  • 7Networks_LH_Default_PFC_13: z=2.00\n"
          ]
        },
        {
          "output_type": "display_data",
          "data": {
            "text/plain": [
              "\u001b[1;34m[\u001b[0m\u001b[34mNiftiLabelsMasker.inverse_transform\u001b[0m\u001b[1;34m]\u001b[0m computing image from signals\n"
            ],
            "text/html": [
              "<pre style=\"white-space:pre;overflow-x:auto;line-height:normal;font-family:Menlo,'DejaVu Sans Mono',consolas,'Courier New',monospace\"><span style=\"color: #000080; text-decoration-color: #000080; font-weight: bold\">[</span><span style=\"color: #000080; text-decoration-color: #000080\">NiftiLabelsMasker.inverse_transform</span><span style=\"color: #000080; text-decoration-color: #000080; font-weight: bold\">]</span> computing image from signals\n",
              "</pre>\n"
            ]
          },
          "metadata": {}
        },
        {
          "output_type": "stream",
          "name": "stdout",
          "text": [
            "p12 session 2.0: 10 outlier regions\n",
            "  • 7Networks_LH_SalVentAttn_FrOperIns_4: z=2.10\n",
            "  • 7Networks_LH_Cont_PFCl_2: z=2.50\n",
            "  • 7Networks_LH_Default_PFC_8: z=2.05\n",
            "  • 7Networks_LH_Default_PFC_13: z=3.20\n",
            "  • 7Networks_LH_Default_pCunPCC_1: z=2.13\n",
            "  • 7Networks_RH_SomMot_9: z=2.05\n",
            "  • 7Networks_RH_Limbic_OFC_2: z=3.36\n",
            "  • 7Networks_RH_Cont_PFCmp_2: z=2.58\n",
            "  • 7Networks_RH_Default_PFCdPFCm_4: z=2.26\n",
            "  • 7Networks_RH_Default_PFCdPFCm_7: z=2.93\n"
          ]
        },
        {
          "output_type": "display_data",
          "data": {
            "text/plain": [
              "\u001b[1;34m[\u001b[0m\u001b[34mNiftiLabelsMasker.inverse_transform\u001b[0m\u001b[1;34m]\u001b[0m computing image from signals\n"
            ],
            "text/html": [
              "<pre style=\"white-space:pre;overflow-x:auto;line-height:normal;font-family:Menlo,'DejaVu Sans Mono',consolas,'Courier New',monospace\"><span style=\"color: #000080; text-decoration-color: #000080; font-weight: bold\">[</span><span style=\"color: #000080; text-decoration-color: #000080\">NiftiLabelsMasker.inverse_transform</span><span style=\"color: #000080; text-decoration-color: #000080; font-weight: bold\">]</span> computing image from signals\n",
              "</pre>\n"
            ]
          },
          "metadata": {}
        },
        {
          "output_type": "stream",
          "name": "stdout",
          "text": [
            "p12 session 3.0: 17 outlier regions\n",
            "  • 7Networks_LH_Vis_4: z=3.32\n",
            "  • 7Networks_LH_DorsAttn_FEF_1: z=3.04\n",
            "  • 7Networks_LH_SalVentAttn_Med_3: z=2.49\n",
            "  • 7Networks_LH_Limbic_TempPole_1: z=2.74\n",
            "  • 7Networks_LH_Limbic_TempPole_2: z=2.36\n",
            "  • 7Networks_LH_Cont_Temp_1: z=2.80\n",
            "  • 7Networks_LH_Cont_PFCl_3: z=2.46\n",
            "  • 7Networks_LH_Default_PFC_3: z=3.37\n",
            "  • 7Networks_LH_Default_pCunPCC_4: z=2.21\n",
            "  • 7Networks_RH_SomMot_9: z=3.48\n",
            "  • 7Networks_RH_DorsAttn_Post_10: z=2.24\n",
            "  • 7Networks_RH_DorsAttn_FEF_1: z=2.08\n",
            "  • 7Networks_RH_Limbic_OFC_2: z=4.37\n",
            "  • 7Networks_RH_Limbic_TempPole_2: z=2.46\n",
            "  • 7Networks_RH_Cont_PFCv_1: z=3.81\n",
            "  • 7Networks_RH_Cont_PFCl_3: z=2.16\n",
            "  • 7Networks_RH_Cont_PFCmp_2: z=3.32\n"
          ]
        },
        {
          "output_type": "display_data",
          "data": {
            "text/plain": [
              "\u001b[1;34m[\u001b[0m\u001b[34mNiftiLabelsMasker.inverse_transform\u001b[0m\u001b[1;34m]\u001b[0m computing image from signals\n"
            ],
            "text/html": [
              "<pre style=\"white-space:pre;overflow-x:auto;line-height:normal;font-family:Menlo,'DejaVu Sans Mono',consolas,'Courier New',monospace\"><span style=\"color: #000080; text-decoration-color: #000080; font-weight: bold\">[</span><span style=\"color: #000080; text-decoration-color: #000080\">NiftiLabelsMasker.inverse_transform</span><span style=\"color: #000080; text-decoration-color: #000080; font-weight: bold\">]</span> computing image from signals\n",
              "</pre>\n"
            ]
          },
          "metadata": {}
        },
        {
          "output_type": "stream",
          "name": "stdout",
          "text": [
            "p13 session 1.0: 2 outlier regions\n",
            "  • 7Networks_LH_DorsAttn_FEF_1: z=-2.27\n",
            "  • 7Networks_RH_Limbic_OFC_2: z=2.24\n"
          ]
        },
        {
          "output_type": "display_data",
          "data": {
            "text/plain": [
              "\u001b[1;34m[\u001b[0m\u001b[34mNiftiLabelsMasker.inverse_transform\u001b[0m\u001b[1;34m]\u001b[0m computing image from signals\n"
            ],
            "text/html": [
              "<pre style=\"white-space:pre;overflow-x:auto;line-height:normal;font-family:Menlo,'DejaVu Sans Mono',consolas,'Courier New',monospace\"><span style=\"color: #000080; text-decoration-color: #000080; font-weight: bold\">[</span><span style=\"color: #000080; text-decoration-color: #000080\">NiftiLabelsMasker.inverse_transform</span><span style=\"color: #000080; text-decoration-color: #000080; font-weight: bold\">]</span> computing image from signals\n",
              "</pre>\n"
            ]
          },
          "metadata": {}
        },
        {
          "output_type": "stream",
          "name": "stdout",
          "text": [
            "p13 session 2.0: 3 outlier regions\n",
            "  • 7Networks_LH_Default_Par_1: z=2.44\n",
            "  • 7Networks_RH_Default_Par_3: z=-2.34\n",
            "  • 7Networks_RH_Default_pCunPCC_2: z=2.42\n"
          ]
        },
        {
          "output_type": "display_data",
          "data": {
            "text/plain": [
              "\u001b[1;34m[\u001b[0m\u001b[34mNiftiLabelsMasker.inverse_transform\u001b[0m\u001b[1;34m]\u001b[0m computing image from signals\n"
            ],
            "text/html": [
              "<pre style=\"white-space:pre;overflow-x:auto;line-height:normal;font-family:Menlo,'DejaVu Sans Mono',consolas,'Courier New',monospace\"><span style=\"color: #000080; text-decoration-color: #000080; font-weight: bold\">[</span><span style=\"color: #000080; text-decoration-color: #000080\">NiftiLabelsMasker.inverse_transform</span><span style=\"color: #000080; text-decoration-color: #000080; font-weight: bold\">]</span> computing image from signals\n",
              "</pre>\n"
            ]
          },
          "metadata": {}
        },
        {
          "output_type": "stream",
          "name": "stdout",
          "text": [
            "p13 session 3.0: 2 outlier regions\n",
            "  • 7Networks_RH_Cont_Par_2: z=2.66\n",
            "  • 7Networks_RH_Default_pCunPCC_2: z=2.11\n"
          ]
        },
        {
          "output_type": "display_data",
          "data": {
            "text/plain": [
              "\u001b[1;34m[\u001b[0m\u001b[34mNiftiLabelsMasker.inverse_transform\u001b[0m\u001b[1;34m]\u001b[0m computing image from signals\n"
            ],
            "text/html": [
              "<pre style=\"white-space:pre;overflow-x:auto;line-height:normal;font-family:Menlo,'DejaVu Sans Mono',consolas,'Courier New',monospace\"><span style=\"color: #000080; text-decoration-color: #000080; font-weight: bold\">[</span><span style=\"color: #000080; text-decoration-color: #000080\">NiftiLabelsMasker.inverse_transform</span><span style=\"color: #000080; text-decoration-color: #000080; font-weight: bold\">]</span> computing image from signals\n",
              "</pre>\n"
            ]
          },
          "metadata": {}
        },
        {
          "output_type": "stream",
          "name": "stdout",
          "text": [
            "p14 session 1.0: 8 outlier regions\n",
            "  • 7Networks_LH_SomMot_6: z=2.13\n",
            "  • 7Networks_LH_SomMot_11: z=2.35\n",
            "  • 7Networks_LH_SalVentAttn_FrOperIns_4: z=2.31\n",
            "  • 7Networks_LH_Default_PFC_13: z=2.03\n",
            "  • 7Networks_LH_Default_pCunPCC_1: z=2.01\n",
            "  • 7Networks_RH_SomMot_9: z=2.99\n",
            "  • 7Networks_RH_SomMot_13: z=2.20\n",
            "  • 7Networks_RH_Cont_PFCl_7: z=2.57\n"
          ]
        },
        {
          "output_type": "display_data",
          "data": {
            "text/plain": [
              "\u001b[1;34m[\u001b[0m\u001b[34mNiftiLabelsMasker.inverse_transform\u001b[0m\u001b[1;34m]\u001b[0m computing image from signals\n"
            ],
            "text/html": [
              "<pre style=\"white-space:pre;overflow-x:auto;line-height:normal;font-family:Menlo,'DejaVu Sans Mono',consolas,'Courier New',monospace\"><span style=\"color: #000080; text-decoration-color: #000080; font-weight: bold\">[</span><span style=\"color: #000080; text-decoration-color: #000080\">NiftiLabelsMasker.inverse_transform</span><span style=\"color: #000080; text-decoration-color: #000080; font-weight: bold\">]</span> computing image from signals\n",
              "</pre>\n"
            ]
          },
          "metadata": {}
        },
        {
          "output_type": "stream",
          "name": "stdout",
          "text": [
            "p14 session 2.0: 2 outlier regions\n",
            "  • 7Networks_LH_SomMot_13: z=2.15\n",
            "  • 7Networks_RH_SalVentAttn_FrOperIns_2: z=2.05\n"
          ]
        },
        {
          "output_type": "display_data",
          "data": {
            "text/plain": [
              "\u001b[1;34m[\u001b[0m\u001b[34mNiftiLabelsMasker.inverse_transform\u001b[0m\u001b[1;34m]\u001b[0m computing image from signals\n"
            ],
            "text/html": [
              "<pre style=\"white-space:pre;overflow-x:auto;line-height:normal;font-family:Menlo,'DejaVu Sans Mono',consolas,'Courier New',monospace\"><span style=\"color: #000080; text-decoration-color: #000080; font-weight: bold\">[</span><span style=\"color: #000080; text-decoration-color: #000080\">NiftiLabelsMasker.inverse_transform</span><span style=\"color: #000080; text-decoration-color: #000080; font-weight: bold\">]</span> computing image from signals\n",
              "</pre>\n"
            ]
          },
          "metadata": {}
        },
        {
          "output_type": "stream",
          "name": "stdout",
          "text": [
            "p14 session 3.0: 13 outlier regions\n",
            "  • 7Networks_LH_DorsAttn_Post_8: z=2.34\n",
            "  • 7Networks_LH_DorsAttn_FEF_1: z=2.27\n",
            "  • 7Networks_LH_Default_Par_1: z=2.78\n",
            "  • 7Networks_LH_Default_PFC_13: z=2.03\n",
            "  • 7Networks_LH_Default_pCunPCC_1: z=2.25\n",
            "  • 7Networks_RH_DorsAttn_FEF_1: z=3.61\n",
            "  • 7Networks_RH_Cont_Par_1: z=2.53\n",
            "  • 7Networks_RH_Cont_PFCl_6: z=2.98\n",
            "  • 7Networks_RH_Cont_PFCmp_2: z=3.25\n",
            "  • 7Networks_RH_Default_PFCdPFCm_5: z=2.41\n",
            "  • 7Networks_RH_Default_PFCdPFCm_6: z=2.13\n",
            "  • 7Networks_RH_Default_PFCdPFCm_7: z=2.44\n",
            "  • 7Networks_RH_Default_pCunPCC_1: z=2.47\n"
          ]
        },
        {
          "output_type": "display_data",
          "data": {
            "text/plain": [
              "\u001b[1;34m[\u001b[0m\u001b[34mNiftiLabelsMasker.inverse_transform\u001b[0m\u001b[1;34m]\u001b[0m computing image from signals\n"
            ],
            "text/html": [
              "<pre style=\"white-space:pre;overflow-x:auto;line-height:normal;font-family:Menlo,'DejaVu Sans Mono',consolas,'Courier New',monospace\"><span style=\"color: #000080; text-decoration-color: #000080; font-weight: bold\">[</span><span style=\"color: #000080; text-decoration-color: #000080\">NiftiLabelsMasker.inverse_transform</span><span style=\"color: #000080; text-decoration-color: #000080; font-weight: bold\">]</span> computing image from signals\n",
              "</pre>\n"
            ]
          },
          "metadata": {}
        },
        {
          "output_type": "stream",
          "name": "stdout",
          "text": [
            "p15 session 1.0: 22 outlier regions\n",
            "  • 7Networks_LH_Vis_1: z=2.14\n",
            "  • 7Networks_LH_Vis_4: z=2.30\n",
            "  • 7Networks_LH_SomMot_6: z=4.26\n",
            "  • 7Networks_LH_SomMot_8: z=2.35\n",
            "  • 7Networks_LH_DorsAttn_Post_5: z=2.21\n",
            "  • 7Networks_LH_SalVentAttn_ParOper_1: z=2.52\n",
            "  • 7Networks_LH_Limbic_TempPole_4: z=2.52\n",
            "  • 7Networks_LH_Default_Par_2: z=4.36\n",
            "  • 7Networks_LH_Default_PFC_10: z=2.41\n",
            "  • 7Networks_LH_Default_pCunPCC_3: z=2.11\n",
            "  • 7Networks_LH_Default_PHC_1: z=6.20\n",
            "  • 7Networks_RH_Vis_1: z=2.68\n",
            "  • 7Networks_RH_SomMot_5: z=2.03\n",
            "  • 7Networks_RH_SomMot_19: z=4.00\n",
            "  • 7Networks_RH_DorsAttn_Post_3: z=2.24\n",
            "  • 7Networks_RH_DorsAttn_Post_6: z=6.10\n",
            "  • 7Networks_RH_DorsAttn_Post_7: z=2.40\n",
            "  • 7Networks_RH_DorsAttn_Post_9: z=2.68\n",
            "  • 7Networks_RH_Cont_Par_1: z=2.56\n",
            "  • 7Networks_RH_Cont_Par_2: z=2.28\n",
            "  • 7Networks_RH_Cont_PFCl_5: z=2.26\n",
            "  • 7Networks_RH_Cont_PFCl_6: z=2.11\n"
          ]
        },
        {
          "output_type": "display_data",
          "data": {
            "text/plain": [
              "\u001b[1;34m[\u001b[0m\u001b[34mNiftiLabelsMasker.inverse_transform\u001b[0m\u001b[1;34m]\u001b[0m computing image from signals\n"
            ],
            "text/html": [
              "<pre style=\"white-space:pre;overflow-x:auto;line-height:normal;font-family:Menlo,'DejaVu Sans Mono',consolas,'Courier New',monospace\"><span style=\"color: #000080; text-decoration-color: #000080; font-weight: bold\">[</span><span style=\"color: #000080; text-decoration-color: #000080\">NiftiLabelsMasker.inverse_transform</span><span style=\"color: #000080; text-decoration-color: #000080; font-weight: bold\">]</span> computing image from signals\n",
              "</pre>\n"
            ]
          },
          "metadata": {}
        },
        {
          "output_type": "stream",
          "name": "stdout",
          "text": [
            "p15 session 2.0: 27 outlier regions\n",
            "  • 7Networks_LH_Vis_1: z=2.14\n",
            "  • 7Networks_LH_Vis_2: z=2.25\n",
            "  • 7Networks_LH_SomMot_2: z=5.44\n",
            "  • 7Networks_LH_SomMot_16: z=2.17\n",
            "  • 7Networks_LH_DorsAttn_Post_3: z=2.79\n",
            "  • 7Networks_LH_DorsAttn_Post_4: z=2.33\n",
            "  • 7Networks_LH_DorsAttn_Post_5: z=2.75\n",
            "  • 7Networks_LH_DorsAttn_Post_10: z=2.88\n",
            "  • 7Networks_LH_SalVentAttn_FrOperIns_2: z=2.83\n",
            "  • 7Networks_LH_Cont_Par_2: z=2.27\n",
            "  • 7Networks_LH_Cont_pCun_1: z=2.12\n",
            "  • 7Networks_LH_Default_PFC_8: z=2.46\n",
            "  • 7Networks_LH_Default_pCunPCC_2: z=3.70\n",
            "  • 7Networks_LH_Default_pCunPCC_3: z=2.18\n",
            "  • 7Networks_RH_SomMot_3: z=2.38\n",
            "  • 7Networks_RH_SomMot_9: z=2.63\n",
            "  • 7Networks_RH_SomMot_10: z=2.01\n",
            "  • 7Networks_RH_DorsAttn_Post_6: z=2.95\n",
            "  • 7Networks_RH_DorsAttn_Post_10: z=2.34\n",
            "  • 7Networks_RH_SalVentAttn_TempOccPar_2: z=2.47\n",
            "  • 7Networks_RH_SalVentAttn_TempOccPar_3: z=2.99\n",
            "  • 7Networks_RH_Cont_PFCl_2: z=2.25\n",
            "  • 7Networks_RH_Cont_PFCl_6: z=3.34\n",
            "  • 7Networks_RH_Cont_pCun_1: z=2.07\n",
            "  • 7Networks_RH_Default_Temp_1: z=2.43\n",
            "  • 7Networks_RH_Default_PFCdPFCm_4: z=2.44\n",
            "  • 7Networks_RH_Default_pCunPCC_1: z=2.18\n"
          ]
        },
        {
          "output_type": "display_data",
          "data": {
            "text/plain": [
              "\u001b[1;34m[\u001b[0m\u001b[34mNiftiLabelsMasker.inverse_transform\u001b[0m\u001b[1;34m]\u001b[0m computing image from signals\n"
            ],
            "text/html": [
              "<pre style=\"white-space:pre;overflow-x:auto;line-height:normal;font-family:Menlo,'DejaVu Sans Mono',consolas,'Courier New',monospace\"><span style=\"color: #000080; text-decoration-color: #000080; font-weight: bold\">[</span><span style=\"color: #000080; text-decoration-color: #000080\">NiftiLabelsMasker.inverse_transform</span><span style=\"color: #000080; text-decoration-color: #000080; font-weight: bold\">]</span> computing image from signals\n",
              "</pre>\n"
            ]
          },
          "metadata": {}
        },
        {
          "output_type": "stream",
          "name": "stdout",
          "text": [
            "p15 session 3.0: 42 outlier regions\n",
            "  • Background: z=2.10\n",
            "  • 7Networks_LH_Vis_1: z=2.15\n",
            "  • 7Networks_LH_SomMot_6: z=2.20\n",
            "  • 7Networks_LH_SomMot_7: z=2.42\n",
            "  • 7Networks_LH_SomMot_16: z=3.06\n",
            "  • 7Networks_LH_DorsAttn_Post_10: z=4.22\n",
            "  • 7Networks_LH_SalVentAttn_Med_3: z=2.25\n",
            "  • 7Networks_LH_Limbic_OFC_2: z=2.12\n",
            "  • 7Networks_LH_Limbic_TempPole_1: z=2.77\n",
            "  • 7Networks_LH_Limbic_TempPole_2: z=3.30\n",
            "  • 7Networks_LH_Cont_Temp_1: z=3.19\n",
            "  • 7Networks_LH_Cont_OFC_1: z=2.39\n",
            "  • 7Networks_LH_Cont_PFCl_1: z=2.19\n",
            "  • 7Networks_LH_Cont_PFCl_2: z=3.24\n",
            "  • 7Networks_LH_Default_PFC_2: z=2.45\n",
            "  • 7Networks_LH_Default_PFC_5: z=2.35\n",
            "  • 7Networks_LH_Default_PFC_6: z=3.74\n",
            "  • 7Networks_LH_Default_PFC_8: z=2.21\n",
            "  • 7Networks_LH_Default_PFC_9: z=3.33\n",
            "  • 7Networks_LH_Default_PHC_1: z=3.16\n",
            "  • 7Networks_RH_Vis_4: z=2.34\n",
            "  • 7Networks_RH_Vis_10: z=2.63\n",
            "  • 7Networks_RH_SomMot_3: z=2.46\n",
            "  • 7Networks_RH_SomMot_19: z=3.39\n",
            "  • 7Networks_RH_DorsAttn_Post_3: z=2.04\n",
            "  • 7Networks_RH_DorsAttn_Post_6: z=3.60\n",
            "  • 7Networks_RH_DorsAttn_Post_7: z=2.07\n",
            "  • 7Networks_RH_DorsAttn_Post_10: z=2.35\n",
            "  • 7Networks_RH_DorsAttn_FEF_1: z=3.01\n",
            "  • 7Networks_RH_SalVentAttn_TempOccPar_1: z=2.64\n",
            "  • 7Networks_RH_SalVentAttn_TempOccPar_2: z=2.06\n",
            "  • 7Networks_RH_SalVentAttn_TempOccPar_3: z=2.01\n",
            "  • 7Networks_RH_Limbic_OFC_2: z=2.10\n",
            "  • 7Networks_RH_Cont_Par_1: z=2.81\n",
            "  • 7Networks_RH_Cont_Par_2: z=2.20\n",
            "  • 7Networks_RH_Cont_Par_3: z=2.93\n",
            "  • 7Networks_RH_Cont_PFCl_3: z=3.64\n",
            "  • 7Networks_RH_Cont_PFCl_5: z=4.55\n",
            "  • 7Networks_RH_Cont_PFCl_6: z=5.30\n",
            "  • 7Networks_RH_Cont_PFCmp_1: z=3.90\n",
            "  • 7Networks_RH_Default_PFCdPFCm_3: z=2.29\n",
            "  • 7Networks_RH_Default_PFCdPFCm_4: z=3.43\n"
          ]
        },
        {
          "output_type": "display_data",
          "data": {
            "text/plain": [
              "\u001b[1;34m[\u001b[0m\u001b[34mNiftiLabelsMasker.inverse_transform\u001b[0m\u001b[1;34m]\u001b[0m computing image from signals\n"
            ],
            "text/html": [
              "<pre style=\"white-space:pre;overflow-x:auto;line-height:normal;font-family:Menlo,'DejaVu Sans Mono',consolas,'Courier New',monospace\"><span style=\"color: #000080; text-decoration-color: #000080; font-weight: bold\">[</span><span style=\"color: #000080; text-decoration-color: #000080\">NiftiLabelsMasker.inverse_transform</span><span style=\"color: #000080; text-decoration-color: #000080; font-weight: bold\">]</span> computing image from signals\n",
              "</pre>\n"
            ]
          },
          "metadata": {}
        },
        {
          "output_type": "stream",
          "name": "stdout",
          "text": [
            "p16 session 1.0: 32 outlier regions\n",
            "  • 7Networks_LH_Vis_14: z=-2.15\n",
            "  • 7Networks_LH_SomMot_1: z=-2.32\n",
            "  • 7Networks_LH_SomMot_4: z=-2.31\n",
            "  • 7Networks_LH_SomMot_6: z=-2.45\n",
            "  • 7Networks_LH_DorsAttn_Post_2: z=-2.16\n",
            "  • 7Networks_LH_DorsAttn_Post_5: z=-2.28\n",
            "  • 7Networks_LH_DorsAttn_Post_10: z=-2.25\n",
            "  • 7Networks_LH_DorsAttn_FEF_1: z=-2.40\n",
            "  • 7Networks_LH_DorsAttn_FEF_2: z=-2.01\n",
            "  • 7Networks_LH_SalVentAttn_ParOper_1: z=-2.60\n",
            "  • 7Networks_LH_SalVentAttn_ParOper_2: z=-2.19\n",
            "  • 7Networks_LH_SalVentAttn_FrOperIns_3: z=-2.01\n",
            "  • 7Networks_LH_SalVentAttn_Med_2: z=-2.03\n",
            "  • 7Networks_LH_Cont_Par_1: z=-2.49\n",
            "  • 7Networks_LH_Cont_OFC_1: z=-2.30\n",
            "  • 7Networks_LH_Cont_PFCl_2: z=-2.65\n",
            "  • 7Networks_LH_Cont_PFCl_3: z=-2.15\n",
            "  • 7Networks_LH_Default_Par_3: z=-2.23\n",
            "  • 7Networks_LH_Default_PFC_2: z=-2.08\n",
            "  • 7Networks_RH_SomMot_7: z=-2.16\n",
            "  • 7Networks_RH_SomMot_9: z=-2.68\n",
            "  • 7Networks_RH_SomMot_10: z=-2.06\n",
            "  • 7Networks_RH_DorsAttn_Post_6: z=-2.04\n",
            "  • 7Networks_RH_DorsAttn_Post_10: z=-2.50\n",
            "  • 7Networks_RH_DorsAttn_FEF_1: z=-2.22\n",
            "  • 7Networks_RH_SalVentAttn_FrOperIns_2: z=-2.12\n",
            "  • 7Networks_RH_Cont_Temp_1: z=-2.01\n",
            "  • 7Networks_RH_Cont_PFCl_2: z=-2.12\n",
            "  • 7Networks_RH_Cont_PFCl_5: z=-2.20\n",
            "  • 7Networks_RH_Cont_PFCmp_2: z=-2.05\n",
            "  • 7Networks_RH_Default_PFCdPFCm_5: z=-2.07\n",
            "  • 7Networks_RH_Default_PFCdPFCm_6: z=-2.22\n"
          ]
        },
        {
          "output_type": "display_data",
          "data": {
            "text/plain": [
              "\u001b[1;34m[\u001b[0m\u001b[34mNiftiLabelsMasker.inverse_transform\u001b[0m\u001b[1;34m]\u001b[0m computing image from signals\n"
            ],
            "text/html": [
              "<pre style=\"white-space:pre;overflow-x:auto;line-height:normal;font-family:Menlo,'DejaVu Sans Mono',consolas,'Courier New',monospace\"><span style=\"color: #000080; text-decoration-color: #000080; font-weight: bold\">[</span><span style=\"color: #000080; text-decoration-color: #000080\">NiftiLabelsMasker.inverse_transform</span><span style=\"color: #000080; text-decoration-color: #000080; font-weight: bold\">]</span> computing image from signals\n",
              "</pre>\n"
            ]
          },
          "metadata": {}
        },
        {
          "output_type": "stream",
          "name": "stdout",
          "text": [
            "p16 session 2.0: 3 outlier regions\n",
            "  • 7Networks_LH_Cont_Par_1: z=-2.18\n",
            "  • 7Networks_LH_Default_Par_3: z=-2.12\n",
            "  • 7Networks_RH_DorsAttn_Post_10: z=-2.23\n"
          ]
        },
        {
          "output_type": "display_data",
          "data": {
            "text/plain": [
              "\u001b[1;34m[\u001b[0m\u001b[34mNiftiLabelsMasker.inverse_transform\u001b[0m\u001b[1;34m]\u001b[0m computing image from signals\n"
            ],
            "text/html": [
              "<pre style=\"white-space:pre;overflow-x:auto;line-height:normal;font-family:Menlo,'DejaVu Sans Mono',consolas,'Courier New',monospace\"><span style=\"color: #000080; text-decoration-color: #000080; font-weight: bold\">[</span><span style=\"color: #000080; text-decoration-color: #000080\">NiftiLabelsMasker.inverse_transform</span><span style=\"color: #000080; text-decoration-color: #000080; font-weight: bold\">]</span> computing image from signals\n",
              "</pre>\n"
            ]
          },
          "metadata": {}
        },
        {
          "output_type": "stream",
          "name": "stdout",
          "text": [
            "p16 session 3.0: 2 outlier regions\n",
            "  • 7Networks_LH_SalVentAttn_ParOper_1: z=-2.14\n",
            "  • 7Networks_RH_Cont_PFCl_6: z=-2.35\n"
          ]
        }
      ]
    },
    {
      "cell_type": "markdown",
      "source": [
        "## 5. Build connectivity matrices and graphs"
      ],
      "metadata": {
        "id": "JfnwvKv1Vwgi"
      }
    },
    {
      "cell_type": "code",
      "source": [
        "# 5a) Parameters\n",
        "threshold_prop = 0.2   # keep top 20% strongest connections\n",
        "\n",
        "# 5b) Containers\n",
        "conn_matrices = {}\n",
        "graphs        = {}\n",
        "\n",
        "for fname, ts in time_series.items():\n",
        "    # 1) Correlation matrix\n",
        "    corr = np.corrcoef(ts.T)            # shape: (200,200)\n",
        "    np.fill_diagonal(corr, 0)           # zero out self‐connections\n",
        "\n",
        "    # 2) Proportional threshold\n",
        "    #    find the cutoff so that only the top `threshold_prop` fraction remains\n",
        "    cutoff = np.percentile(np.abs(corr), (1 - threshold_prop) * 100)\n",
        "    thr_corr = corr.copy()\n",
        "    thr_corr[np.abs(thr_corr) < cutoff] = 0\n",
        "\n",
        "    adj = np.abs(thr_corr)\n",
        "\n",
        "    # 3) Build graph\n",
        "    G = nx.from_numpy_array(adj)   # weighted graph by default\n",
        "\n",
        "    # 4) Store\n",
        "    conn_matrices[fname] = thr_corr\n",
        "    graphs[fname]        = G\n",
        "\n",
        "print(f\"Built graphs for {len(graphs)} scans\")\n"
      ],
      "metadata": {
        "colab": {
          "base_uri": "https://localhost:8080/"
        },
        "id": "x3bn1m1EV9yC",
        "outputId": "ad856279-c7fc-4b9c-e7ef-26446b4e074e"
      },
      "execution_count": null,
      "outputs": [
        {
          "output_type": "stream",
          "name": "stdout",
          "text": [
            "Built graphs for 84 scans\n"
          ]
        }
      ]
    },
    {
      "cell_type": "markdown",
      "source": [
        "## 6. Compute network metrics\n",
        "\n",
        "- Now we already have region wise variability. Alongside, we will also analyze how brain regions intereact as a network. Hence, we will compute some global metrics that summarize overall network integrity."
      ],
      "metadata": {
        "id": "HCyDP05NWRi1"
      }
    },
    {
      "cell_type": "code",
      "source": [
        "from networkx.algorithms import efficiency_measures as em\n",
        "\n",
        "metrics = {}\n",
        "\n",
        "for fname, G in graphs.items():\n",
        "    # 6a) Ensure connected subgraph for path length\n",
        "    if not nx.is_connected(G):\n",
        "        # take the largest connected component\n",
        "        comp = max(nx.connected_components(G), key=len)\n",
        "        Gconn = G.subgraph(comp).copy()\n",
        "    else:\n",
        "        Gconn = G\n",
        "\n",
        "    # 6b) Compute metrics\n",
        "    metrics[fname] = {\n",
        "        'clustering':       nx.average_clustering(G, weight='weight'),\n",
        "        'path_length':      nx.average_shortest_path_length(Gconn, weight='weight'),\n",
        "        'global_eff':       em.global_efficiency(G),\n",
        "        'local_eff':        em.local_efficiency(G),\n",
        "        'mean_strength':    np.mean([d for _, d in G.degree(weight='weight')]),\n",
        "        'mean_betweenness': np.mean(list(nx.betweenness_centrality(G, weight='weight').values()))\n",
        "    }\n",
        "\n",
        "# 6c) Turn into DataFrame\n",
        "metrics_df = pd.DataFrame.from_dict(metrics, orient='index').reset_index().rename(columns={'index':'scan'})"
      ],
      "metadata": {
        "id": "PztFfGtAWVwp"
      },
      "execution_count": null,
      "outputs": []
    },
    {
      "cell_type": "code",
      "source": [
        "# Extract subject & session\n",
        "for path in all_scans:\n",
        "  fname = os.path.basename(path)\n",
        "  parts = fname.split('_')\n",
        "  subject = parts[1]                      # C01, p04, etc\n",
        "  session = int(parts[2].split('-')[1])   # 1, 2, 3\n",
        "\n",
        "  metrics_df.loc[metrics_df['scan'] == path, 'subject'] = subject\n",
        "  metrics_df.loc[metrics_df['scan'] == path, 'session'] = session\n",
        "\n",
        "# Group controls & patients\n",
        "metrics_df['group'] = metrics_df['subject'].str.startswith('C').map({True: 'control', False: 'patient'})\n",
        "\n",
        "metrics_df.head()"
      ],
      "metadata": {
        "colab": {
          "base_uri": "https://localhost:8080/",
          "height": 226
        },
        "id": "oEQG3LVfgk1G",
        "outputId": "7bf9282f-4165-49f2-ffb0-636197f9b9a6"
      },
      "execution_count": null,
      "outputs": [
        {
          "output_type": "execute_result",
          "data": {
            "text/plain": [
              "                                                scan  clustering  path_length  \\\n",
              "0  /content/drive/MyDrive/raw_data/Denoised_C01_r...    0.438736     1.316314   \n",
              "1  /content/drive/MyDrive/raw_data/Denoised_C01_r...    0.309552     0.982905   \n",
              "2  /content/drive/MyDrive/raw_data/Denoised_C01_r...    0.352087     1.094947   \n",
              "3  /content/drive/MyDrive/raw_data/Denoised_C02_r...    0.356852     1.119027   \n",
              "4  /content/drive/MyDrive/raw_data/Denoised_C02_r...    0.270062     0.874173   \n",
              "\n",
              "   global_eff  local_eff  mean_strength  mean_betweenness subject  session  \\\n",
              "0    0.550188   0.787736      28.095240          0.005605     C01      1.0   \n",
              "1    0.582936   0.739589      23.891927          0.004572     C01      2.0   \n",
              "2    0.567994   0.748556      25.111561          0.005031     C01      3.0   \n",
              "3    0.558671   0.750239      24.950939          0.005342     C02      1.0   \n",
              "4    0.587178   0.716339      22.148269          0.004247     C02      2.0   \n",
              "\n",
              "     group  \n",
              "0  control  \n",
              "1  control  \n",
              "2  control  \n",
              "3  control  \n",
              "4  control  "
            ],
            "text/html": [
              "\n",
              "  <div id=\"df-69e3f415-e945-4633-a522-ad174ef47e8a\" class=\"colab-df-container\">\n",
              "    <div>\n",
              "<style scoped>\n",
              "    .dataframe tbody tr th:only-of-type {\n",
              "        vertical-align: middle;\n",
              "    }\n",
              "\n",
              "    .dataframe tbody tr th {\n",
              "        vertical-align: top;\n",
              "    }\n",
              "\n",
              "    .dataframe thead th {\n",
              "        text-align: right;\n",
              "    }\n",
              "</style>\n",
              "<table border=\"1\" class=\"dataframe\">\n",
              "  <thead>\n",
              "    <tr style=\"text-align: right;\">\n",
              "      <th></th>\n",
              "      <th>scan</th>\n",
              "      <th>clustering</th>\n",
              "      <th>path_length</th>\n",
              "      <th>global_eff</th>\n",
              "      <th>local_eff</th>\n",
              "      <th>mean_strength</th>\n",
              "      <th>mean_betweenness</th>\n",
              "      <th>subject</th>\n",
              "      <th>session</th>\n",
              "      <th>group</th>\n",
              "    </tr>\n",
              "  </thead>\n",
              "  <tbody>\n",
              "    <tr>\n",
              "      <th>0</th>\n",
              "      <td>/content/drive/MyDrive/raw_data/Denoised_C01_r...</td>\n",
              "      <td>0.438736</td>\n",
              "      <td>1.316314</td>\n",
              "      <td>0.550188</td>\n",
              "      <td>0.787736</td>\n",
              "      <td>28.095240</td>\n",
              "      <td>0.005605</td>\n",
              "      <td>C01</td>\n",
              "      <td>1.0</td>\n",
              "      <td>control</td>\n",
              "    </tr>\n",
              "    <tr>\n",
              "      <th>1</th>\n",
              "      <td>/content/drive/MyDrive/raw_data/Denoised_C01_r...</td>\n",
              "      <td>0.309552</td>\n",
              "      <td>0.982905</td>\n",
              "      <td>0.582936</td>\n",
              "      <td>0.739589</td>\n",
              "      <td>23.891927</td>\n",
              "      <td>0.004572</td>\n",
              "      <td>C01</td>\n",
              "      <td>2.0</td>\n",
              "      <td>control</td>\n",
              "    </tr>\n",
              "    <tr>\n",
              "      <th>2</th>\n",
              "      <td>/content/drive/MyDrive/raw_data/Denoised_C01_r...</td>\n",
              "      <td>0.352087</td>\n",
              "      <td>1.094947</td>\n",
              "      <td>0.567994</td>\n",
              "      <td>0.748556</td>\n",
              "      <td>25.111561</td>\n",
              "      <td>0.005031</td>\n",
              "      <td>C01</td>\n",
              "      <td>3.0</td>\n",
              "      <td>control</td>\n",
              "    </tr>\n",
              "    <tr>\n",
              "      <th>3</th>\n",
              "      <td>/content/drive/MyDrive/raw_data/Denoised_C02_r...</td>\n",
              "      <td>0.356852</td>\n",
              "      <td>1.119027</td>\n",
              "      <td>0.558671</td>\n",
              "      <td>0.750239</td>\n",
              "      <td>24.950939</td>\n",
              "      <td>0.005342</td>\n",
              "      <td>C02</td>\n",
              "      <td>1.0</td>\n",
              "      <td>control</td>\n",
              "    </tr>\n",
              "    <tr>\n",
              "      <th>4</th>\n",
              "      <td>/content/drive/MyDrive/raw_data/Denoised_C02_r...</td>\n",
              "      <td>0.270062</td>\n",
              "      <td>0.874173</td>\n",
              "      <td>0.587178</td>\n",
              "      <td>0.716339</td>\n",
              "      <td>22.148269</td>\n",
              "      <td>0.004247</td>\n",
              "      <td>C02</td>\n",
              "      <td>2.0</td>\n",
              "      <td>control</td>\n",
              "    </tr>\n",
              "  </tbody>\n",
              "</table>\n",
              "</div>\n",
              "    <div class=\"colab-df-buttons\">\n",
              "\n",
              "  <div class=\"colab-df-container\">\n",
              "    <button class=\"colab-df-convert\" onclick=\"convertToInteractive('df-69e3f415-e945-4633-a522-ad174ef47e8a')\"\n",
              "            title=\"Convert this dataframe to an interactive table.\"\n",
              "            style=\"display:none;\">\n",
              "\n",
              "  <svg xmlns=\"http://www.w3.org/2000/svg\" height=\"24px\" viewBox=\"0 -960 960 960\">\n",
              "    <path d=\"M120-120v-720h720v720H120Zm60-500h600v-160H180v160Zm220 220h160v-160H400v160Zm0 220h160v-160H400v160ZM180-400h160v-160H180v160Zm440 0h160v-160H620v160ZM180-180h160v-160H180v160Zm440 0h160v-160H620v160Z\"/>\n",
              "  </svg>\n",
              "    </button>\n",
              "\n",
              "  <style>\n",
              "    .colab-df-container {\n",
              "      display:flex;\n",
              "      gap: 12px;\n",
              "    }\n",
              "\n",
              "    .colab-df-convert {\n",
              "      background-color: #E8F0FE;\n",
              "      border: none;\n",
              "      border-radius: 50%;\n",
              "      cursor: pointer;\n",
              "      display: none;\n",
              "      fill: #1967D2;\n",
              "      height: 32px;\n",
              "      padding: 0 0 0 0;\n",
              "      width: 32px;\n",
              "    }\n",
              "\n",
              "    .colab-df-convert:hover {\n",
              "      background-color: #E2EBFA;\n",
              "      box-shadow: 0px 1px 2px rgba(60, 64, 67, 0.3), 0px 1px 3px 1px rgba(60, 64, 67, 0.15);\n",
              "      fill: #174EA6;\n",
              "    }\n",
              "\n",
              "    .colab-df-buttons div {\n",
              "      margin-bottom: 4px;\n",
              "    }\n",
              "\n",
              "    [theme=dark] .colab-df-convert {\n",
              "      background-color: #3B4455;\n",
              "      fill: #D2E3FC;\n",
              "    }\n",
              "\n",
              "    [theme=dark] .colab-df-convert:hover {\n",
              "      background-color: #434B5C;\n",
              "      box-shadow: 0px 1px 3px 1px rgba(0, 0, 0, 0.15);\n",
              "      filter: drop-shadow(0px 1px 2px rgba(0, 0, 0, 0.3));\n",
              "      fill: #FFFFFF;\n",
              "    }\n",
              "  </style>\n",
              "\n",
              "    <script>\n",
              "      const buttonEl =\n",
              "        document.querySelector('#df-69e3f415-e945-4633-a522-ad174ef47e8a button.colab-df-convert');\n",
              "      buttonEl.style.display =\n",
              "        google.colab.kernel.accessAllowed ? 'block' : 'none';\n",
              "\n",
              "      async function convertToInteractive(key) {\n",
              "        const element = document.querySelector('#df-69e3f415-e945-4633-a522-ad174ef47e8a');\n",
              "        const dataTable =\n",
              "          await google.colab.kernel.invokeFunction('convertToInteractive',\n",
              "                                                    [key], {});\n",
              "        if (!dataTable) return;\n",
              "\n",
              "        const docLinkHtml = 'Like what you see? Visit the ' +\n",
              "          '<a target=\"_blank\" href=https://colab.research.google.com/notebooks/data_table.ipynb>data table notebook</a>'\n",
              "          + ' to learn more about interactive tables.';\n",
              "        element.innerHTML = '';\n",
              "        dataTable['output_type'] = 'display_data';\n",
              "        await google.colab.output.renderOutput(dataTable, element);\n",
              "        const docLink = document.createElement('div');\n",
              "        docLink.innerHTML = docLinkHtml;\n",
              "        element.appendChild(docLink);\n",
              "      }\n",
              "    </script>\n",
              "  </div>\n",
              "\n",
              "\n",
              "    <div id=\"df-074935be-2e78-4c5a-a1a6-605c994abd8f\">\n",
              "      <button class=\"colab-df-quickchart\" onclick=\"quickchart('df-074935be-2e78-4c5a-a1a6-605c994abd8f')\"\n",
              "                title=\"Suggest charts\"\n",
              "                style=\"display:none;\">\n",
              "\n",
              "<svg xmlns=\"http://www.w3.org/2000/svg\" height=\"24px\"viewBox=\"0 0 24 24\"\n",
              "     width=\"24px\">\n",
              "    <g>\n",
              "        <path d=\"M19 3H5c-1.1 0-2 .9-2 2v14c0 1.1.9 2 2 2h14c1.1 0 2-.9 2-2V5c0-1.1-.9-2-2-2zM9 17H7v-7h2v7zm4 0h-2V7h2v10zm4 0h-2v-4h2v4z\"/>\n",
              "    </g>\n",
              "</svg>\n",
              "      </button>\n",
              "\n",
              "<style>\n",
              "  .colab-df-quickchart {\n",
              "      --bg-color: #E8F0FE;\n",
              "      --fill-color: #1967D2;\n",
              "      --hover-bg-color: #E2EBFA;\n",
              "      --hover-fill-color: #174EA6;\n",
              "      --disabled-fill-color: #AAA;\n",
              "      --disabled-bg-color: #DDD;\n",
              "  }\n",
              "\n",
              "  [theme=dark] .colab-df-quickchart {\n",
              "      --bg-color: #3B4455;\n",
              "      --fill-color: #D2E3FC;\n",
              "      --hover-bg-color: #434B5C;\n",
              "      --hover-fill-color: #FFFFFF;\n",
              "      --disabled-bg-color: #3B4455;\n",
              "      --disabled-fill-color: #666;\n",
              "  }\n",
              "\n",
              "  .colab-df-quickchart {\n",
              "    background-color: var(--bg-color);\n",
              "    border: none;\n",
              "    border-radius: 50%;\n",
              "    cursor: pointer;\n",
              "    display: none;\n",
              "    fill: var(--fill-color);\n",
              "    height: 32px;\n",
              "    padding: 0;\n",
              "    width: 32px;\n",
              "  }\n",
              "\n",
              "  .colab-df-quickchart:hover {\n",
              "    background-color: var(--hover-bg-color);\n",
              "    box-shadow: 0 1px 2px rgba(60, 64, 67, 0.3), 0 1px 3px 1px rgba(60, 64, 67, 0.15);\n",
              "    fill: var(--button-hover-fill-color);\n",
              "  }\n",
              "\n",
              "  .colab-df-quickchart-complete:disabled,\n",
              "  .colab-df-quickchart-complete:disabled:hover {\n",
              "    background-color: var(--disabled-bg-color);\n",
              "    fill: var(--disabled-fill-color);\n",
              "    box-shadow: none;\n",
              "  }\n",
              "\n",
              "  .colab-df-spinner {\n",
              "    border: 2px solid var(--fill-color);\n",
              "    border-color: transparent;\n",
              "    border-bottom-color: var(--fill-color);\n",
              "    animation:\n",
              "      spin 1s steps(1) infinite;\n",
              "  }\n",
              "\n",
              "  @keyframes spin {\n",
              "    0% {\n",
              "      border-color: transparent;\n",
              "      border-bottom-color: var(--fill-color);\n",
              "      border-left-color: var(--fill-color);\n",
              "    }\n",
              "    20% {\n",
              "      border-color: transparent;\n",
              "      border-left-color: var(--fill-color);\n",
              "      border-top-color: var(--fill-color);\n",
              "    }\n",
              "    30% {\n",
              "      border-color: transparent;\n",
              "      border-left-color: var(--fill-color);\n",
              "      border-top-color: var(--fill-color);\n",
              "      border-right-color: var(--fill-color);\n",
              "    }\n",
              "    40% {\n",
              "      border-color: transparent;\n",
              "      border-right-color: var(--fill-color);\n",
              "      border-top-color: var(--fill-color);\n",
              "    }\n",
              "    60% {\n",
              "      border-color: transparent;\n",
              "      border-right-color: var(--fill-color);\n",
              "    }\n",
              "    80% {\n",
              "      border-color: transparent;\n",
              "      border-right-color: var(--fill-color);\n",
              "      border-bottom-color: var(--fill-color);\n",
              "    }\n",
              "    90% {\n",
              "      border-color: transparent;\n",
              "      border-bottom-color: var(--fill-color);\n",
              "    }\n",
              "  }\n",
              "</style>\n",
              "\n",
              "      <script>\n",
              "        async function quickchart(key) {\n",
              "          const quickchartButtonEl =\n",
              "            document.querySelector('#' + key + ' button');\n",
              "          quickchartButtonEl.disabled = true;  // To prevent multiple clicks.\n",
              "          quickchartButtonEl.classList.add('colab-df-spinner');\n",
              "          try {\n",
              "            const charts = await google.colab.kernel.invokeFunction(\n",
              "                'suggestCharts', [key], {});\n",
              "          } catch (error) {\n",
              "            console.error('Error during call to suggestCharts:', error);\n",
              "          }\n",
              "          quickchartButtonEl.classList.remove('colab-df-spinner');\n",
              "          quickchartButtonEl.classList.add('colab-df-quickchart-complete');\n",
              "        }\n",
              "        (() => {\n",
              "          let quickchartButtonEl =\n",
              "            document.querySelector('#df-074935be-2e78-4c5a-a1a6-605c994abd8f button');\n",
              "          quickchartButtonEl.style.display =\n",
              "            google.colab.kernel.accessAllowed ? 'block' : 'none';\n",
              "        })();\n",
              "      </script>\n",
              "    </div>\n",
              "\n",
              "    </div>\n",
              "  </div>\n"
            ],
            "application/vnd.google.colaboratory.intrinsic+json": {
              "type": "dataframe",
              "variable_name": "metrics_df",
              "summary": "{\n  \"name\": \"metrics_df\",\n  \"rows\": 84,\n  \"fields\": [\n    {\n      \"column\": \"scan\",\n      \"properties\": {\n        \"dtype\": \"string\",\n        \"num_unique_values\": 84,\n        \"samples\": [\n          \"/content/drive/MyDrive/raw_data/Denoised_p13_rs-2_MNI.nii.gz\",\n          \"/content/drive/MyDrive/raw_data/Denoised_C01_rs-1_MNI.nii.gz\",\n          \"/content/drive/MyDrive/raw_data/Denoised_p08_rs-2_MNI.nii.gz\"\n        ],\n        \"semantic_type\": \"\",\n        \"description\": \"\"\n      }\n    },\n    {\n      \"column\": \"clustering\",\n      \"properties\": {\n        \"dtype\": \"number\",\n        \"std\": 0.04601970906639744,\n        \"min\": 0.24022555162036352,\n        \"max\": 0.47818711321238255,\n        \"num_unique_values\": 84,\n        \"samples\": [\n          0.306753245372859,\n          0.4387360060951867,\n          0.3763815519493525\n        ],\n        \"semantic_type\": \"\",\n        \"description\": \"\"\n      }\n    },\n    {\n      \"column\": \"path_length\",\n      \"properties\": {\n        \"dtype\": \"number\",\n        \"std\": 0.15327056919756915,\n        \"min\": 0.8291747612141427,\n        \"max\": 1.7560224536167326,\n        \"num_unique_values\": 84,\n        \"samples\": [\n          0.9661811877713604,\n          1.3163137947140588,\n          1.1106889519996288\n        ],\n        \"semantic_type\": \"\",\n        \"description\": \"\"\n      }\n    },\n    {\n      \"column\": \"global_eff\",\n      \"properties\": {\n        \"dtype\": \"number\",\n        \"std\": 0.020065491160414752,\n        \"min\": 0.4563480497726866,\n        \"max\": 0.594262981574536,\n        \"num_unique_values\": 84,\n        \"samples\": [\n          0.5801088777219229,\n          0.5501876046900903,\n          0.569028475711859\n        ],\n        \"semantic_type\": \"\",\n        \"description\": \"\"\n      }\n    },\n    {\n      \"column\": \"local_eff\",\n      \"properties\": {\n        \"dtype\": \"number\",\n        \"std\": 0.01620913934271878,\n        \"min\": 0.6961386630788269,\n        \"max\": 0.7877360927725081,\n        \"num_unique_values\": 84,\n        \"samples\": [\n          0.7255325657131343,\n          0.7877360927725081,\n          0.7534652504333447\n        ],\n        \"semantic_type\": \"\",\n        \"description\": \"\"\n      }\n    },\n    {\n      \"column\": \"mean_strength\",\n      \"properties\": {\n        \"dtype\": \"number\",\n        \"std\": 1.892529141823335,\n        \"min\": 21.211237030805542,\n        \"max\": 31.89849560844169,\n        \"num_unique_values\": 84,\n        \"samples\": [\n          23.268616879942883,\n          28.0952397040913,\n          25.870651418986444\n        ],\n        \"semantic_type\": \"\",\n        \"description\": \"\"\n      }\n    },\n    {\n      \"column\": \"mean_betweenness\",\n      \"properties\": {\n        \"dtype\": \"number\",\n        \"std\": 0.0004143766855010801,\n        \"min\": 0.004227957971676565,\n        \"max\": 0.006466169229988325,\n        \"num_unique_values\": 82,\n        \"samples\": [\n          0.004908380285264707,\n          0.005604537840718745,\n          0.004776407288970103\n        ],\n        \"semantic_type\": \"\",\n        \"description\": \"\"\n      }\n    },\n    {\n      \"column\": \"subject\",\n      \"properties\": {\n        \"dtype\": \"category\",\n        \"num_unique_values\": 28,\n        \"samples\": [\n          \"C14\",\n          \"p14\",\n          \"C12\"\n        ],\n        \"semantic_type\": \"\",\n        \"description\": \"\"\n      }\n    },\n    {\n      \"column\": \"session\",\n      \"properties\": {\n        \"dtype\": \"number\",\n        \"std\": 0.8214005083884005,\n        \"min\": 1.0,\n        \"max\": 3.0,\n        \"num_unique_values\": 3,\n        \"samples\": [\n          1.0,\n          2.0,\n          3.0\n        ],\n        \"semantic_type\": \"\",\n        \"description\": \"\"\n      }\n    },\n    {\n      \"column\": \"group\",\n      \"properties\": {\n        \"dtype\": \"category\",\n        \"num_unique_values\": 2,\n        \"samples\": [\n          \"patient\",\n          \"control\"\n        ],\n        \"semantic_type\": \"\",\n        \"description\": \"\"\n      }\n    }\n  ]\n}"
            }
          },
          "metadata": {},
          "execution_count": 31
        }
      ]
    },
    {
      "cell_type": "markdown",
      "source": [
        "## 7. Fit slopes accross time for each feature\n",
        "\n",
        "- We have 200 features from `var_df` and 6 features from `metrics_df`.\n",
        "- We will now compute slopes of these 206 features over the 3 annual scans to get a trend of how brain network changes over time."
      ],
      "metadata": {
        "id": "FQyPykCb1WO2"
      }
    },
    {
      "cell_type": "code",
      "source": [
        "# 1) Variability slopes\n",
        "roi_cols = [c for c in var_df.columns if c.startswith('ROI_')]\n",
        "# melt to long form\n",
        "vars_long = var_df.melt(['subject','session'], roi_cols,\n",
        "                        var_name='feature', value_name='value')\n",
        "\n",
        "# compute slope per (subject, feature)\n",
        "var_slopes = (\n",
        "    vars_long\n",
        "      .groupby(['subject','feature'])\n",
        "      .apply(lambda df: np.polyfit(df['session'], df['value'], 1)[0])\n",
        "      .reset_index(name='slope')\n",
        ")\n",
        "# pivot to wide: one row per subject\n",
        "var_slopes_wide = var_slopes.pivot(index='subject', columns='feature', values='slope')\n",
        "var_slopes_wide.reset_index(inplace=True)\n",
        "\n",
        "# 2) Network‐metric slopes\n",
        "metric_cols = ['clustering','path_length','global_eff','local_eff',\n",
        "               'mean_strength','mean_betweenness']\n",
        "mets_long = metrics_df.melt(['subject','session'], metric_cols,\n",
        "                            var_name='feature', value_name='value')\n",
        "\n",
        "met_slopes = (\n",
        "    mets_long\n",
        "      .groupby(['subject','feature'])\n",
        "      .apply(lambda df: np.polyfit(df['session'], df['value'], 1)[0])\n",
        "      .reset_index(name='slope')\n",
        ")\n",
        "met_slopes_wide = met_slopes.pivot(index='subject', columns='feature', values='slope')\n",
        "met_slopes_wide.reset_index(inplace=True)\n",
        "\n",
        "# 3) Merge variability‐slopes & metric‐slopes\n",
        "slopes_df = (\n",
        "    var_slopes_wide\n",
        "      .merge(met_slopes_wide, on='subject', suffixes=('_var','_net'))\n",
        ")\n",
        "\n",
        "# 4) Add group label\n",
        "group_map = var_df.set_index('subject')['group'].to_dict()\n",
        "slopes_df['group'] = slopes_df['subject'].map(group_map)\n",
        "\n",
        "slopes_df.head()"
      ],
      "metadata": {
        "colab": {
          "base_uri": "https://localhost:8080/",
          "height": 328
        },
        "id": "kIijOvPmjIX5",
        "outputId": "dd4e4aa3-f031-40e6-9ec4-06252059ebb4"
      },
      "execution_count": null,
      "outputs": [
        {
          "output_type": "stream",
          "name": "stderr",
          "text": [
            "/tmp/ipython-input-32-440934362.py:11: DeprecationWarning: DataFrameGroupBy.apply operated on the grouping columns. This behavior is deprecated, and in a future version of pandas the grouping columns will be excluded from the operation. Either pass `include_groups=False` to exclude the groupings or explicitly select the grouping columns after groupby to silence this warning.\n",
            "  .apply(lambda df: np.polyfit(df['session'], df['value'], 1)[0])\n",
            "/tmp/ipython-input-32-440934362.py:27: DeprecationWarning: DataFrameGroupBy.apply operated on the grouping columns. This behavior is deprecated, and in a future version of pandas the grouping columns will be excluded from the operation. Either pass `include_groups=False` to exclude the groupings or explicitly select the grouping columns after groupby to silence this warning.\n",
            "  .apply(lambda df: np.polyfit(df['session'], df['value'], 1)[0])\n"
          ]
        },
        {
          "output_type": "execute_result",
          "data": {
            "text/plain": [
              "feature subject     ROI_0     ROI_1    ROI_10   ROI_100   ROI_101   ROI_102  \\\n",
              "0           C01  0.661210  2.420016  1.424748  0.307021  0.321776  2.454869   \n",
              "1           C02  0.141125  0.246956  1.317506  0.028524 -0.109327 -0.152613   \n",
              "2           C04  0.475268  0.753913  1.185675  0.043395  0.074121  0.515106   \n",
              "3           C05  0.578308  0.272481 -0.129932 -0.084891  0.297721  0.444903   \n",
              "4           C06  0.002249  0.103865  0.033579 -0.054239  0.113649  0.490234   \n",
              "\n",
              "feature   ROI_103   ROI_104   ROI_105  ...    ROI_97    ROI_98    ROI_99  \\\n",
              "0        2.395391  2.679783  3.940825  ...  0.873657  1.155210  0.632369   \n",
              "1       -0.477515  0.563680  0.325825  ...  0.843138  0.347248  0.578128   \n",
              "2        1.103081  0.484538  1.200132  ...  0.455446  1.290259 -0.001149   \n",
              "3        1.139369  0.229468  0.886491  ... -0.494802  1.555789 -0.049278   \n",
              "4        0.127075  0.314508  1.093894  ... -0.104569  0.655559 -0.034324   \n",
              "\n",
              "feature  clustering  global_eff  local_eff  mean_betweenness  mean_strength  \\\n",
              "0         -0.043325    0.008903  -0.019590         -0.000287      -1.491839   \n",
              "1         -0.021707    0.010840  -0.009976         -0.000347      -0.770736   \n",
              "2         -0.006405   -0.000278  -0.007896          0.000008       0.069920   \n",
              "3         -0.021497    0.003522  -0.008366         -0.000099      -1.162120   \n",
              "4          0.001225    0.003256   0.005266         -0.000099      -0.188169   \n",
              "\n",
              "feature  path_length    group  \n",
              "0          -0.110683  control  \n",
              "1          -0.073671  control  \n",
              "2           0.005026  control  \n",
              "3          -0.070187  control  \n",
              "4          -0.020630  control  \n",
              "\n",
              "[5 rows x 208 columns]"
            ],
            "text/html": [
              "\n",
              "  <div id=\"df-8fee8c60-ba1f-46fb-8922-43473c771b7a\" class=\"colab-df-container\">\n",
              "    <div>\n",
              "<style scoped>\n",
              "    .dataframe tbody tr th:only-of-type {\n",
              "        vertical-align: middle;\n",
              "    }\n",
              "\n",
              "    .dataframe tbody tr th {\n",
              "        vertical-align: top;\n",
              "    }\n",
              "\n",
              "    .dataframe thead th {\n",
              "        text-align: right;\n",
              "    }\n",
              "</style>\n",
              "<table border=\"1\" class=\"dataframe\">\n",
              "  <thead>\n",
              "    <tr style=\"text-align: right;\">\n",
              "      <th>feature</th>\n",
              "      <th>subject</th>\n",
              "      <th>ROI_0</th>\n",
              "      <th>ROI_1</th>\n",
              "      <th>ROI_10</th>\n",
              "      <th>ROI_100</th>\n",
              "      <th>ROI_101</th>\n",
              "      <th>ROI_102</th>\n",
              "      <th>ROI_103</th>\n",
              "      <th>ROI_104</th>\n",
              "      <th>ROI_105</th>\n",
              "      <th>...</th>\n",
              "      <th>ROI_97</th>\n",
              "      <th>ROI_98</th>\n",
              "      <th>ROI_99</th>\n",
              "      <th>clustering</th>\n",
              "      <th>global_eff</th>\n",
              "      <th>local_eff</th>\n",
              "      <th>mean_betweenness</th>\n",
              "      <th>mean_strength</th>\n",
              "      <th>path_length</th>\n",
              "      <th>group</th>\n",
              "    </tr>\n",
              "  </thead>\n",
              "  <tbody>\n",
              "    <tr>\n",
              "      <th>0</th>\n",
              "      <td>C01</td>\n",
              "      <td>0.661210</td>\n",
              "      <td>2.420016</td>\n",
              "      <td>1.424748</td>\n",
              "      <td>0.307021</td>\n",
              "      <td>0.321776</td>\n",
              "      <td>2.454869</td>\n",
              "      <td>2.395391</td>\n",
              "      <td>2.679783</td>\n",
              "      <td>3.940825</td>\n",
              "      <td>...</td>\n",
              "      <td>0.873657</td>\n",
              "      <td>1.155210</td>\n",
              "      <td>0.632369</td>\n",
              "      <td>-0.043325</td>\n",
              "      <td>0.008903</td>\n",
              "      <td>-0.019590</td>\n",
              "      <td>-0.000287</td>\n",
              "      <td>-1.491839</td>\n",
              "      <td>-0.110683</td>\n",
              "      <td>control</td>\n",
              "    </tr>\n",
              "    <tr>\n",
              "      <th>1</th>\n",
              "      <td>C02</td>\n",
              "      <td>0.141125</td>\n",
              "      <td>0.246956</td>\n",
              "      <td>1.317506</td>\n",
              "      <td>0.028524</td>\n",
              "      <td>-0.109327</td>\n",
              "      <td>-0.152613</td>\n",
              "      <td>-0.477515</td>\n",
              "      <td>0.563680</td>\n",
              "      <td>0.325825</td>\n",
              "      <td>...</td>\n",
              "      <td>0.843138</td>\n",
              "      <td>0.347248</td>\n",
              "      <td>0.578128</td>\n",
              "      <td>-0.021707</td>\n",
              "      <td>0.010840</td>\n",
              "      <td>-0.009976</td>\n",
              "      <td>-0.000347</td>\n",
              "      <td>-0.770736</td>\n",
              "      <td>-0.073671</td>\n",
              "      <td>control</td>\n",
              "    </tr>\n",
              "    <tr>\n",
              "      <th>2</th>\n",
              "      <td>C04</td>\n",
              "      <td>0.475268</td>\n",
              "      <td>0.753913</td>\n",
              "      <td>1.185675</td>\n",
              "      <td>0.043395</td>\n",
              "      <td>0.074121</td>\n",
              "      <td>0.515106</td>\n",
              "      <td>1.103081</td>\n",
              "      <td>0.484538</td>\n",
              "      <td>1.200132</td>\n",
              "      <td>...</td>\n",
              "      <td>0.455446</td>\n",
              "      <td>1.290259</td>\n",
              "      <td>-0.001149</td>\n",
              "      <td>-0.006405</td>\n",
              "      <td>-0.000278</td>\n",
              "      <td>-0.007896</td>\n",
              "      <td>0.000008</td>\n",
              "      <td>0.069920</td>\n",
              "      <td>0.005026</td>\n",
              "      <td>control</td>\n",
              "    </tr>\n",
              "    <tr>\n",
              "      <th>3</th>\n",
              "      <td>C05</td>\n",
              "      <td>0.578308</td>\n",
              "      <td>0.272481</td>\n",
              "      <td>-0.129932</td>\n",
              "      <td>-0.084891</td>\n",
              "      <td>0.297721</td>\n",
              "      <td>0.444903</td>\n",
              "      <td>1.139369</td>\n",
              "      <td>0.229468</td>\n",
              "      <td>0.886491</td>\n",
              "      <td>...</td>\n",
              "      <td>-0.494802</td>\n",
              "      <td>1.555789</td>\n",
              "      <td>-0.049278</td>\n",
              "      <td>-0.021497</td>\n",
              "      <td>0.003522</td>\n",
              "      <td>-0.008366</td>\n",
              "      <td>-0.000099</td>\n",
              "      <td>-1.162120</td>\n",
              "      <td>-0.070187</td>\n",
              "      <td>control</td>\n",
              "    </tr>\n",
              "    <tr>\n",
              "      <th>4</th>\n",
              "      <td>C06</td>\n",
              "      <td>0.002249</td>\n",
              "      <td>0.103865</td>\n",
              "      <td>0.033579</td>\n",
              "      <td>-0.054239</td>\n",
              "      <td>0.113649</td>\n",
              "      <td>0.490234</td>\n",
              "      <td>0.127075</td>\n",
              "      <td>0.314508</td>\n",
              "      <td>1.093894</td>\n",
              "      <td>...</td>\n",
              "      <td>-0.104569</td>\n",
              "      <td>0.655559</td>\n",
              "      <td>-0.034324</td>\n",
              "      <td>0.001225</td>\n",
              "      <td>0.003256</td>\n",
              "      <td>0.005266</td>\n",
              "      <td>-0.000099</td>\n",
              "      <td>-0.188169</td>\n",
              "      <td>-0.020630</td>\n",
              "      <td>control</td>\n",
              "    </tr>\n",
              "  </tbody>\n",
              "</table>\n",
              "<p>5 rows × 208 columns</p>\n",
              "</div>\n",
              "    <div class=\"colab-df-buttons\">\n",
              "\n",
              "  <div class=\"colab-df-container\">\n",
              "    <button class=\"colab-df-convert\" onclick=\"convertToInteractive('df-8fee8c60-ba1f-46fb-8922-43473c771b7a')\"\n",
              "            title=\"Convert this dataframe to an interactive table.\"\n",
              "            style=\"display:none;\">\n",
              "\n",
              "  <svg xmlns=\"http://www.w3.org/2000/svg\" height=\"24px\" viewBox=\"0 -960 960 960\">\n",
              "    <path d=\"M120-120v-720h720v720H120Zm60-500h600v-160H180v160Zm220 220h160v-160H400v160Zm0 220h160v-160H400v160ZM180-400h160v-160H180v160Zm440 0h160v-160H620v160ZM180-180h160v-160H180v160Zm440 0h160v-160H620v160Z\"/>\n",
              "  </svg>\n",
              "    </button>\n",
              "\n",
              "  <style>\n",
              "    .colab-df-container {\n",
              "      display:flex;\n",
              "      gap: 12px;\n",
              "    }\n",
              "\n",
              "    .colab-df-convert {\n",
              "      background-color: #E8F0FE;\n",
              "      border: none;\n",
              "      border-radius: 50%;\n",
              "      cursor: pointer;\n",
              "      display: none;\n",
              "      fill: #1967D2;\n",
              "      height: 32px;\n",
              "      padding: 0 0 0 0;\n",
              "      width: 32px;\n",
              "    }\n",
              "\n",
              "    .colab-df-convert:hover {\n",
              "      background-color: #E2EBFA;\n",
              "      box-shadow: 0px 1px 2px rgba(60, 64, 67, 0.3), 0px 1px 3px 1px rgba(60, 64, 67, 0.15);\n",
              "      fill: #174EA6;\n",
              "    }\n",
              "\n",
              "    .colab-df-buttons div {\n",
              "      margin-bottom: 4px;\n",
              "    }\n",
              "\n",
              "    [theme=dark] .colab-df-convert {\n",
              "      background-color: #3B4455;\n",
              "      fill: #D2E3FC;\n",
              "    }\n",
              "\n",
              "    [theme=dark] .colab-df-convert:hover {\n",
              "      background-color: #434B5C;\n",
              "      box-shadow: 0px 1px 3px 1px rgba(0, 0, 0, 0.15);\n",
              "      filter: drop-shadow(0px 1px 2px rgba(0, 0, 0, 0.3));\n",
              "      fill: #FFFFFF;\n",
              "    }\n",
              "  </style>\n",
              "\n",
              "    <script>\n",
              "      const buttonEl =\n",
              "        document.querySelector('#df-8fee8c60-ba1f-46fb-8922-43473c771b7a button.colab-df-convert');\n",
              "      buttonEl.style.display =\n",
              "        google.colab.kernel.accessAllowed ? 'block' : 'none';\n",
              "\n",
              "      async function convertToInteractive(key) {\n",
              "        const element = document.querySelector('#df-8fee8c60-ba1f-46fb-8922-43473c771b7a');\n",
              "        const dataTable =\n",
              "          await google.colab.kernel.invokeFunction('convertToInteractive',\n",
              "                                                    [key], {});\n",
              "        if (!dataTable) return;\n",
              "\n",
              "        const docLinkHtml = 'Like what you see? Visit the ' +\n",
              "          '<a target=\"_blank\" href=https://colab.research.google.com/notebooks/data_table.ipynb>data table notebook</a>'\n",
              "          + ' to learn more about interactive tables.';\n",
              "        element.innerHTML = '';\n",
              "        dataTable['output_type'] = 'display_data';\n",
              "        await google.colab.output.renderOutput(dataTable, element);\n",
              "        const docLink = document.createElement('div');\n",
              "        docLink.innerHTML = docLinkHtml;\n",
              "        element.appendChild(docLink);\n",
              "      }\n",
              "    </script>\n",
              "  </div>\n",
              "\n",
              "\n",
              "    <div id=\"df-c12ed05a-4a5b-4b6d-9639-a01b0c60e63d\">\n",
              "      <button class=\"colab-df-quickchart\" onclick=\"quickchart('df-c12ed05a-4a5b-4b6d-9639-a01b0c60e63d')\"\n",
              "                title=\"Suggest charts\"\n",
              "                style=\"display:none;\">\n",
              "\n",
              "<svg xmlns=\"http://www.w3.org/2000/svg\" height=\"24px\"viewBox=\"0 0 24 24\"\n",
              "     width=\"24px\">\n",
              "    <g>\n",
              "        <path d=\"M19 3H5c-1.1 0-2 .9-2 2v14c0 1.1.9 2 2 2h14c1.1 0 2-.9 2-2V5c0-1.1-.9-2-2-2zM9 17H7v-7h2v7zm4 0h-2V7h2v10zm4 0h-2v-4h2v4z\"/>\n",
              "    </g>\n",
              "</svg>\n",
              "      </button>\n",
              "\n",
              "<style>\n",
              "  .colab-df-quickchart {\n",
              "      --bg-color: #E8F0FE;\n",
              "      --fill-color: #1967D2;\n",
              "      --hover-bg-color: #E2EBFA;\n",
              "      --hover-fill-color: #174EA6;\n",
              "      --disabled-fill-color: #AAA;\n",
              "      --disabled-bg-color: #DDD;\n",
              "  }\n",
              "\n",
              "  [theme=dark] .colab-df-quickchart {\n",
              "      --bg-color: #3B4455;\n",
              "      --fill-color: #D2E3FC;\n",
              "      --hover-bg-color: #434B5C;\n",
              "      --hover-fill-color: #FFFFFF;\n",
              "      --disabled-bg-color: #3B4455;\n",
              "      --disabled-fill-color: #666;\n",
              "  }\n",
              "\n",
              "  .colab-df-quickchart {\n",
              "    background-color: var(--bg-color);\n",
              "    border: none;\n",
              "    border-radius: 50%;\n",
              "    cursor: pointer;\n",
              "    display: none;\n",
              "    fill: var(--fill-color);\n",
              "    height: 32px;\n",
              "    padding: 0;\n",
              "    width: 32px;\n",
              "  }\n",
              "\n",
              "  .colab-df-quickchart:hover {\n",
              "    background-color: var(--hover-bg-color);\n",
              "    box-shadow: 0 1px 2px rgba(60, 64, 67, 0.3), 0 1px 3px 1px rgba(60, 64, 67, 0.15);\n",
              "    fill: var(--button-hover-fill-color);\n",
              "  }\n",
              "\n",
              "  .colab-df-quickchart-complete:disabled,\n",
              "  .colab-df-quickchart-complete:disabled:hover {\n",
              "    background-color: var(--disabled-bg-color);\n",
              "    fill: var(--disabled-fill-color);\n",
              "    box-shadow: none;\n",
              "  }\n",
              "\n",
              "  .colab-df-spinner {\n",
              "    border: 2px solid var(--fill-color);\n",
              "    border-color: transparent;\n",
              "    border-bottom-color: var(--fill-color);\n",
              "    animation:\n",
              "      spin 1s steps(1) infinite;\n",
              "  }\n",
              "\n",
              "  @keyframes spin {\n",
              "    0% {\n",
              "      border-color: transparent;\n",
              "      border-bottom-color: var(--fill-color);\n",
              "      border-left-color: var(--fill-color);\n",
              "    }\n",
              "    20% {\n",
              "      border-color: transparent;\n",
              "      border-left-color: var(--fill-color);\n",
              "      border-top-color: var(--fill-color);\n",
              "    }\n",
              "    30% {\n",
              "      border-color: transparent;\n",
              "      border-left-color: var(--fill-color);\n",
              "      border-top-color: var(--fill-color);\n",
              "      border-right-color: var(--fill-color);\n",
              "    }\n",
              "    40% {\n",
              "      border-color: transparent;\n",
              "      border-right-color: var(--fill-color);\n",
              "      border-top-color: var(--fill-color);\n",
              "    }\n",
              "    60% {\n",
              "      border-color: transparent;\n",
              "      border-right-color: var(--fill-color);\n",
              "    }\n",
              "    80% {\n",
              "      border-color: transparent;\n",
              "      border-right-color: var(--fill-color);\n",
              "      border-bottom-color: var(--fill-color);\n",
              "    }\n",
              "    90% {\n",
              "      border-color: transparent;\n",
              "      border-bottom-color: var(--fill-color);\n",
              "    }\n",
              "  }\n",
              "</style>\n",
              "\n",
              "      <script>\n",
              "        async function quickchart(key) {\n",
              "          const quickchartButtonEl =\n",
              "            document.querySelector('#' + key + ' button');\n",
              "          quickchartButtonEl.disabled = true;  // To prevent multiple clicks.\n",
              "          quickchartButtonEl.classList.add('colab-df-spinner');\n",
              "          try {\n",
              "            const charts = await google.colab.kernel.invokeFunction(\n",
              "                'suggestCharts', [key], {});\n",
              "          } catch (error) {\n",
              "            console.error('Error during call to suggestCharts:', error);\n",
              "          }\n",
              "          quickchartButtonEl.classList.remove('colab-df-spinner');\n",
              "          quickchartButtonEl.classList.add('colab-df-quickchart-complete');\n",
              "        }\n",
              "        (() => {\n",
              "          let quickchartButtonEl =\n",
              "            document.querySelector('#df-c12ed05a-4a5b-4b6d-9639-a01b0c60e63d button');\n",
              "          quickchartButtonEl.style.display =\n",
              "            google.colab.kernel.accessAllowed ? 'block' : 'none';\n",
              "        })();\n",
              "      </script>\n",
              "    </div>\n",
              "\n",
              "    </div>\n",
              "  </div>\n"
            ],
            "application/vnd.google.colaboratory.intrinsic+json": {
              "type": "dataframe",
              "variable_name": "slopes_df"
            }
          },
          "metadata": {},
          "execution_count": 32
        }
      ]
    },
    {
      "cell_type": "markdown",
      "source": [
        "## 8. Find and validate biomarkers usig Stratified K Fold cross validation and Statistical testing (t-test)"
      ],
      "metadata": {
        "id": "WS7MOS2U174M"
      }
    },
    {
      "cell_type": "code",
      "source": [
        "from scipy.stats import ttest_ind\n",
        "from statsmodels.stats.multitest import multipletests\n",
        "import pandas as pd\n",
        "\n",
        "# 8a) Identify the slope columns\n",
        "feat_cols = [c for c in slopes_df.columns if c not in ['subject','group']]\n",
        "X = slopes_df[feat_cols].values\n",
        "y = slopes_df['group'].map({'control':0,'patient':1}).values\n",
        "subjects = slopes_df['subject'].values"
      ],
      "metadata": {
        "id": "INTc1Zo1kAoF"
      },
      "execution_count": null,
      "outputs": []
    },
    {
      "cell_type": "markdown",
      "source": [
        "### Set up Stratified K folds"
      ],
      "metadata": {
        "id": "XGbg0jRYLTeO"
      }
    },
    {
      "cell_type": "code",
      "source": [
        "n_splits = 5\n",
        "skf = StratifiedKFold(n_splits=n_splits, shuffle=True, random_state=42)\n",
        "\n",
        "# To store per‐fold performance\n",
        "fold_metrics = []\n",
        "\n",
        "# To count how often each feature is selected across folds\n",
        "feature_counts = collections.Counter()"
      ],
      "metadata": {
        "id": "QmIPGM4bLSRS"
      },
      "execution_count": null,
      "outputs": []
    },
    {
      "cell_type": "code",
      "source": [
        "for fold, (train_idx, test_idx) in enumerate(skf.split(X, y), start=1):\n",
        "    # Split to train/test DataFrames\n",
        "    train_df = slopes_df.iloc[train_idx].reset_index(drop=True)\n",
        "    test_df  = slopes_df.iloc[test_idx].reset_index(drop=True)\n",
        "\n",
        "    # --- 4a) Feature selection on TRAIN only ---\n",
        "    #  run t-tests feature-by-feature\n",
        "    p_vals = []\n",
        "    for feat in feat_cols:\n",
        "        ctrl = train_df.loc[train_df.group=='control', feat]\n",
        "        pat  = train_df.loc[train_df.group=='patient', feat]\n",
        "        _, p = ttest_ind(pat, ctrl, nan_policy='omit')\n",
        "        p_vals.append(p)\n",
        "    # FDR correction\n",
        "    reject, q_vals = multipletests(p_vals, alpha=0.05, method='fdr_bh')[:2]\n",
        "    selected = [f for f, r in zip(feat_cols, reject) if r]\n",
        "    # if none survive, pick top-10 by raw p\n",
        "    if not selected:\n",
        "        selected = [f for f,_ in sorted(zip(feat_cols, p_vals), key=lambda x: x[1])][:10]\n",
        "\n",
        "    # record selection frequency\n",
        "    for f in selected:\n",
        "        feature_counts[f] += 1\n",
        "\n",
        "    # --- 4b) Train a regularized classifier ---\n",
        "    X_tr = train_df[selected].values\n",
        "    y_tr = train_df['group'].map({'control':0,'patient':1}).values\n",
        "    X_te = test_df[selected].values\n",
        "    y_te = test_df['group'].map({'control':0,'patient':1}).values\n",
        "\n",
        "    clf = LogisticRegression(penalty='l1', solver='saga', max_iter=5000)\n",
        "    clf.fit(X_tr, y_tr)\n",
        "\n",
        "    # --- 4c) Evaluate on TEST ---\n",
        "    y_pred = clf.predict(X_te)\n",
        "    y_prob = clf.predict_proba(X_te)[:,1]\n",
        "\n",
        "    acc = accuracy_score(y_te, y_pred)\n",
        "    auc = roc_auc_score(y_te, y_prob)\n",
        "\n",
        "    fold_metrics.append({\n",
        "        'fold': fold,\n",
        "        'n_train': len(train_idx),\n",
        "        'n_test':  len(test_idx),\n",
        "        'n_feats': len(selected),\n",
        "        'accuracy': acc,\n",
        "        'auc':      auc\n",
        "    })\n",
        "\n",
        "    print(f\"Fold {fold}: selected {len(selected)} features, \"\n",
        "          f\"acc={acc:.2f}, AUC={auc:.2f}\")\n"
      ],
      "metadata": {
        "colab": {
          "base_uri": "https://localhost:8080/"
        },
        "id": "CR5wg3E6LfUg",
        "outputId": "03a2d4f7-82d4-46cc-a217-94400f2103fc"
      },
      "execution_count": null,
      "outputs": [
        {
          "output_type": "stream",
          "name": "stdout",
          "text": [
            "Fold 1: selected 3 features, acc=0.83, AUC=0.78\n",
            "Fold 2: selected 10 features, acc=0.83, AUC=0.89\n",
            "Fold 3: selected 2 features, acc=0.83, AUC=0.88\n",
            "Fold 4: selected 3 features, acc=0.80, AUC=1.00\n",
            "Fold 5: selected 1 features, acc=0.80, AUC=1.00\n"
          ]
        }
      ]
    },
    {
      "cell_type": "markdown",
      "source": [
        "## 9. Report & visualize the significant biomarkers"
      ],
      "metadata": {
        "id": "HS9RzG5iA-RL"
      }
    },
    {
      "cell_type": "code",
      "source": [
        "# 5a) CV performance\n",
        "perf_df = pd.DataFrame(fold_metrics)\n",
        "print(\"\\nCross-validation summary:\")\n",
        "print(perf_df[['fold','n_feats','accuracy','auc']])\n",
        "print(\"Mean ± SD accuracy:\",\n",
        "      f\"{perf_df.accuracy.mean():.2f} ± {perf_df.accuracy.std():.2f}\")\n",
        "print(\"Mean ± SD AUC:\",\n",
        "      f\"{perf_df.auc.mean():.2f} ± {perf_df.auc.std():.2f}\")\n"
      ],
      "metadata": {
        "colab": {
          "base_uri": "https://localhost:8080/"
        },
        "id": "fkksO0sv9wG-",
        "outputId": "1eee1a6d-8928-48ab-c70c-c18bfe3a6596"
      },
      "execution_count": null,
      "outputs": [
        {
          "output_type": "stream",
          "name": "stdout",
          "text": [
            "\n",
            "Cross-validation summary:\n",
            "   fold  n_feats  accuracy       auc\n",
            "0     1        3  0.833333  0.777778\n",
            "1     2       10  0.833333  0.888889\n",
            "2     3        2  0.833333  0.875000\n",
            "3     4        3  0.800000  1.000000\n",
            "4     5        1  0.800000  1.000000\n",
            "Mean ± SD accuracy: 0.82 ± 0.02\n",
            "Mean ± SD AUC: 0.91 ± 0.09\n"
          ]
        }
      ]
    },
    {
      "cell_type": "code",
      "source": [
        "# 5b) Feature selection frequency\n",
        "freq_df = pd.DataFrame.from_records(\n",
        "    list(feature_counts.items()),\n",
        "    columns=['feature','count']\n",
        ").sort_values('count', ascending=False).reset_index(drop=True)\n",
        "print(\"\\nTop features by selection frequency across folds:\")\n",
        "print(freq_df.head(5))"
      ],
      "metadata": {
        "colab": {
          "base_uri": "https://localhost:8080/"
        },
        "id": "MUOI5EbfHsLX",
        "outputId": "0fc6d344-deb5-413b-bd87-3ec8021e998e"
      },
      "execution_count": null,
      "outputs": [
        {
          "output_type": "stream",
          "name": "stdout",
          "text": [
            "\n",
            "Top features by selection frequency across folds:\n",
            "   feature  count\n",
            "0   ROI_98      5\n",
            "1   ROI_70      4\n",
            "2  ROI_108      3\n",
            "3  ROI_103      1\n",
            "4  ROI_109      1\n"
          ]
        }
      ]
    },
    {
      "cell_type": "code",
      "source": [
        "img_dir = os.path.join(results_dir, \"images\")\n",
        "os.makedirs(img_dir, exist_ok=True)\n",
        "\n",
        "def plot_glass_rois(rois, masker, region_labels, threshold=0.5, output_dir=img_dir):\n",
        "\n",
        "    os.makedirs(output_dir, exist_ok=True)\n",
        "\n",
        "    # Ensure we have exactly 200 labels to match the masker\n",
        "    # Some atlas.label lists include a “background” at index 0; drop it if present.\n",
        "    if len(region_labels) == len(masker.labels_):\n",
        "        region_labels = region_labels[1:]\n",
        "    n_rois = len(region_labels)\n",
        "\n",
        "    for idx in rois:\n",
        "        # Build a one‐hot array of length n_rois\n",
        "        arr = np.zeros((1, n_rois))\n",
        "        arr[0, idx] = 1\n",
        "\n",
        "        # Inverse‐transform back to a NIfTI\n",
        "        img = masker.inverse_transform(arr)\n",
        "\n",
        "        # Plot\n",
        "        display = plotting.plot_glass_brain(\n",
        "            img,\n",
        "            threshold=threshold,\n",
        "            colorbar=False,\n",
        "            title=f\"ROI {idx}: {region_labels[idx]}\"\n",
        "        )\n",
        "\n",
        "        # Save out\n",
        "        fname = os.path.join(output_dir, f\"ROI_{idx}_glass.png\")\n",
        "        display.savefig(fname)\n",
        "        display.close()\n",
        "        print(f\" → Saved ROI {idx} ({region_labels[idx]}) to {fname}\")\n",
        "\n",
        "\n",
        "# Example usage for your top 3 biomarkers:\n",
        "plot_glass_rois([98, 70, 108], masker, labels, threshold=0.5)"
      ],
      "metadata": {
        "colab": {
          "base_uri": "https://localhost:8080/",
          "height": 119
        },
        "id": "MqYN1pK9FGVd",
        "outputId": "cd80e948-b2da-409b-fdba-2d8655724ed6"
      },
      "execution_count": null,
      "outputs": [
        {
          "output_type": "display_data",
          "data": {
            "text/plain": [
              "\u001b[1;34m[\u001b[0m\u001b[34mNiftiLabelsMasker.inverse_transform\u001b[0m\u001b[1;34m]\u001b[0m computing image from signals\n"
            ],
            "text/html": [
              "<pre style=\"white-space:pre;overflow-x:auto;line-height:normal;font-family:Menlo,'DejaVu Sans Mono',consolas,'Courier New',monospace\"><span style=\"color: #000080; text-decoration-color: #000080; font-weight: bold\">[</span><span style=\"color: #000080; text-decoration-color: #000080\">NiftiLabelsMasker.inverse_transform</span><span style=\"color: #000080; text-decoration-color: #000080; font-weight: bold\">]</span> computing image from signals\n",
              "</pre>\n"
            ]
          },
          "metadata": {}
        },
        {
          "output_type": "stream",
          "name": "stdout",
          "text": [
            " → Saved ROI 98 (7Networks_LH_Default_pCunPCC_4) to /content/drive/MyDrive/raw_data/results/images/ROI_98_glass.png\n"
          ]
        },
        {
          "output_type": "display_data",
          "data": {
            "text/plain": [
              "\u001b[1;34m[\u001b[0m\u001b[34mNiftiLabelsMasker.inverse_transform\u001b[0m\u001b[1;34m]\u001b[0m computing image from signals\n"
            ],
            "text/html": [
              "<pre style=\"white-space:pre;overflow-x:auto;line-height:normal;font-family:Menlo,'DejaVu Sans Mono',consolas,'Courier New',monospace\"><span style=\"color: #000080; text-decoration-color: #000080; font-weight: bold\">[</span><span style=\"color: #000080; text-decoration-color: #000080\">NiftiLabelsMasker.inverse_transform</span><span style=\"color: #000080; text-decoration-color: #000080; font-weight: bold\">]</span> computing image from signals\n",
              "</pre>\n"
            ]
          },
          "metadata": {}
        },
        {
          "output_type": "stream",
          "name": "stdout",
          "text": [
            " → Saved ROI 70 (7Networks_LH_Cont_pCun_1) to /content/drive/MyDrive/raw_data/results/images/ROI_70_glass.png\n"
          ]
        },
        {
          "output_type": "display_data",
          "data": {
            "text/plain": [
              "\u001b[1;34m[\u001b[0m\u001b[34mNiftiLabelsMasker.inverse_transform\u001b[0m\u001b[1;34m]\u001b[0m computing image from signals\n"
            ],
            "text/html": [
              "<pre style=\"white-space:pre;overflow-x:auto;line-height:normal;font-family:Menlo,'DejaVu Sans Mono',consolas,'Courier New',monospace\"><span style=\"color: #000080; text-decoration-color: #000080; font-weight: bold\">[</span><span style=\"color: #000080; text-decoration-color: #000080\">NiftiLabelsMasker.inverse_transform</span><span style=\"color: #000080; text-decoration-color: #000080; font-weight: bold\">]</span> computing image from signals\n",
              "</pre>\n"
            ]
          },
          "metadata": {}
        },
        {
          "output_type": "stream",
          "name": "stdout",
          "text": [
            " → Saved ROI 108 (7Networks_RH_Vis_9) to /content/drive/MyDrive/raw_data/results/images/ROI_108_glass.png\n"
          ]
        }
      ]
    },
    {
      "cell_type": "markdown",
      "source": [
        "## 10. Validate classifiers accuracy using only top 3 regions"
      ],
      "metadata": {
        "id": "23BS53UTJbdq"
      }
    },
    {
      "cell_type": "code",
      "source": [
        "# 1) Pick your three biomarker features\n",
        "features = ['ROI_98', 'ROI_70', 'ROI_108']\n",
        "\n",
        "# 2) Build X and y\n",
        "X = slopes_df[features].values\n",
        "y = slopes_df['group'].map({'control':0,'patient':1}).values\n",
        "\n",
        "# 3) Define the classifier\n",
        "clf = LogisticRegression(penalty='l1', solver='saga', max_iter=5000)\n",
        "\n",
        "# 4) Set up stratified 5-fold CV\n",
        "cv = StratifiedKFold(n_splits=5, shuffle=True, random_state=42)\n",
        "\n",
        "# 5) Compute accuracy and AUC\n",
        "acc_scores = cross_val_score(clf, X, y, cv=cv, scoring='accuracy')\n",
        "auc_scores = cross_val_score(clf, X, y, cv=cv, scoring='roc_auc')\n",
        "\n",
        "# 6) Print results\n",
        "print(f\"Accuracy: {acc_scores.mean():.2f} ± {acc_scores.std():.2f}\")\n",
        "print(f\"AUC:      {auc_scores.mean():.2f} ± {auc_scores.std():.2f}\")\n"
      ],
      "metadata": {
        "colab": {
          "base_uri": "https://localhost:8080/"
        },
        "id": "MFyxR72xkCRH",
        "outputId": "97125603-e53c-4f83-e4f2-a0a6dd389237"
      },
      "execution_count": null,
      "outputs": [
        {
          "output_type": "stream",
          "name": "stdout",
          "text": [
            "Accuracy: 0.89 ± 0.09\n",
            "AUC:      0.96 ± 0.09\n"
          ]
        }
      ]
    },
    {
      "cell_type": "markdown",
      "source": [
        "## 11. Analyze correlations between top 3 regions and clinical scores"
      ],
      "metadata": {
        "id": "zMibSjHZJqsZ"
      }
    },
    {
      "cell_type": "code",
      "source": [
        "# 1) Load clinical CSV\n",
        "clin_df = pd.read_csv('/content/drive/MyDrive/raw_data/files/demoSCA7.csv')\n",
        "\n",
        "# 2) Compute per-subject slopes for clinical measures\n",
        "measures = ['moca', 'mmse', 'sara']\n",
        "clin_slopes = []\n",
        "for subj, group in clin_df.groupby('subject'):\n",
        "    rec = {'subject': subj}\n",
        "    sessions = group['session'].values\n",
        "    for m in measures:\n",
        "        values = group[m].values\n",
        "        # fit a line: slope = coefficient of session\n",
        "        if np.isnan(values).any():\n",
        "            rec[m + '_slope'] = np.nan\n",
        "        else:\n",
        "            rec[m + '_slope'] = np.polyfit(sessions, values, 1)[0]\n",
        "    clin_slopes.append(rec)\n",
        "clin_slopes_df = pd.DataFrame(clin_slopes)\n",
        "\n",
        "clin_slopes_df.head()"
      ],
      "metadata": {
        "colab": {
          "base_uri": "https://localhost:8080/",
          "height": 206
        },
        "id": "O6awO1o8J1Zx",
        "outputId": "c271e593-24d4-4efd-95a4-83abcec453f5"
      },
      "execution_count": null,
      "outputs": [
        {
          "output_type": "execute_result",
          "data": {
            "text/plain": [
              "  subject  moca_slope    mmse_slope  sara_slope\n",
              "0     p01         1.0 -1.500000e+00        0.75\n",
              "1     p02        -2.0 -1.000000e+00        3.75\n",
              "2     p03         0.5 -2.121350e-15        2.00\n",
              "3     p04        -1.5 -1.000000e+00        2.25\n",
              "4     p05        -2.5 -4.263770e-15        2.50"
            ],
            "text/html": [
              "\n",
              "  <div id=\"df-e2444338-8dd3-4374-b9af-7524253a9023\" class=\"colab-df-container\">\n",
              "    <div>\n",
              "<style scoped>\n",
              "    .dataframe tbody tr th:only-of-type {\n",
              "        vertical-align: middle;\n",
              "    }\n",
              "\n",
              "    .dataframe tbody tr th {\n",
              "        vertical-align: top;\n",
              "    }\n",
              "\n",
              "    .dataframe thead th {\n",
              "        text-align: right;\n",
              "    }\n",
              "</style>\n",
              "<table border=\"1\" class=\"dataframe\">\n",
              "  <thead>\n",
              "    <tr style=\"text-align: right;\">\n",
              "      <th></th>\n",
              "      <th>subject</th>\n",
              "      <th>moca_slope</th>\n",
              "      <th>mmse_slope</th>\n",
              "      <th>sara_slope</th>\n",
              "    </tr>\n",
              "  </thead>\n",
              "  <tbody>\n",
              "    <tr>\n",
              "      <th>0</th>\n",
              "      <td>p01</td>\n",
              "      <td>1.0</td>\n",
              "      <td>-1.500000e+00</td>\n",
              "      <td>0.75</td>\n",
              "    </tr>\n",
              "    <tr>\n",
              "      <th>1</th>\n",
              "      <td>p02</td>\n",
              "      <td>-2.0</td>\n",
              "      <td>-1.000000e+00</td>\n",
              "      <td>3.75</td>\n",
              "    </tr>\n",
              "    <tr>\n",
              "      <th>2</th>\n",
              "      <td>p03</td>\n",
              "      <td>0.5</td>\n",
              "      <td>-2.121350e-15</td>\n",
              "      <td>2.00</td>\n",
              "    </tr>\n",
              "    <tr>\n",
              "      <th>3</th>\n",
              "      <td>p04</td>\n",
              "      <td>-1.5</td>\n",
              "      <td>-1.000000e+00</td>\n",
              "      <td>2.25</td>\n",
              "    </tr>\n",
              "    <tr>\n",
              "      <th>4</th>\n",
              "      <td>p05</td>\n",
              "      <td>-2.5</td>\n",
              "      <td>-4.263770e-15</td>\n",
              "      <td>2.50</td>\n",
              "    </tr>\n",
              "  </tbody>\n",
              "</table>\n",
              "</div>\n",
              "    <div class=\"colab-df-buttons\">\n",
              "\n",
              "  <div class=\"colab-df-container\">\n",
              "    <button class=\"colab-df-convert\" onclick=\"convertToInteractive('df-e2444338-8dd3-4374-b9af-7524253a9023')\"\n",
              "            title=\"Convert this dataframe to an interactive table.\"\n",
              "            style=\"display:none;\">\n",
              "\n",
              "  <svg xmlns=\"http://www.w3.org/2000/svg\" height=\"24px\" viewBox=\"0 -960 960 960\">\n",
              "    <path d=\"M120-120v-720h720v720H120Zm60-500h600v-160H180v160Zm220 220h160v-160H400v160Zm0 220h160v-160H400v160ZM180-400h160v-160H180v160Zm440 0h160v-160H620v160ZM180-180h160v-160H180v160Zm440 0h160v-160H620v160Z\"/>\n",
              "  </svg>\n",
              "    </button>\n",
              "\n",
              "  <style>\n",
              "    .colab-df-container {\n",
              "      display:flex;\n",
              "      gap: 12px;\n",
              "    }\n",
              "\n",
              "    .colab-df-convert {\n",
              "      background-color: #E8F0FE;\n",
              "      border: none;\n",
              "      border-radius: 50%;\n",
              "      cursor: pointer;\n",
              "      display: none;\n",
              "      fill: #1967D2;\n",
              "      height: 32px;\n",
              "      padding: 0 0 0 0;\n",
              "      width: 32px;\n",
              "    }\n",
              "\n",
              "    .colab-df-convert:hover {\n",
              "      background-color: #E2EBFA;\n",
              "      box-shadow: 0px 1px 2px rgba(60, 64, 67, 0.3), 0px 1px 3px 1px rgba(60, 64, 67, 0.15);\n",
              "      fill: #174EA6;\n",
              "    }\n",
              "\n",
              "    .colab-df-buttons div {\n",
              "      margin-bottom: 4px;\n",
              "    }\n",
              "\n",
              "    [theme=dark] .colab-df-convert {\n",
              "      background-color: #3B4455;\n",
              "      fill: #D2E3FC;\n",
              "    }\n",
              "\n",
              "    [theme=dark] .colab-df-convert:hover {\n",
              "      background-color: #434B5C;\n",
              "      box-shadow: 0px 1px 3px 1px rgba(0, 0, 0, 0.15);\n",
              "      filter: drop-shadow(0px 1px 2px rgba(0, 0, 0, 0.3));\n",
              "      fill: #FFFFFF;\n",
              "    }\n",
              "  </style>\n",
              "\n",
              "    <script>\n",
              "      const buttonEl =\n",
              "        document.querySelector('#df-e2444338-8dd3-4374-b9af-7524253a9023 button.colab-df-convert');\n",
              "      buttonEl.style.display =\n",
              "        google.colab.kernel.accessAllowed ? 'block' : 'none';\n",
              "\n",
              "      async function convertToInteractive(key) {\n",
              "        const element = document.querySelector('#df-e2444338-8dd3-4374-b9af-7524253a9023');\n",
              "        const dataTable =\n",
              "          await google.colab.kernel.invokeFunction('convertToInteractive',\n",
              "                                                    [key], {});\n",
              "        if (!dataTable) return;\n",
              "\n",
              "        const docLinkHtml = 'Like what you see? Visit the ' +\n",
              "          '<a target=\"_blank\" href=https://colab.research.google.com/notebooks/data_table.ipynb>data table notebook</a>'\n",
              "          + ' to learn more about interactive tables.';\n",
              "        element.innerHTML = '';\n",
              "        dataTable['output_type'] = 'display_data';\n",
              "        await google.colab.output.renderOutput(dataTable, element);\n",
              "        const docLink = document.createElement('div');\n",
              "        docLink.innerHTML = docLinkHtml;\n",
              "        element.appendChild(docLink);\n",
              "      }\n",
              "    </script>\n",
              "  </div>\n",
              "\n",
              "\n",
              "    <div id=\"df-9cfc008e-a890-462e-81c2-9891c616d338\">\n",
              "      <button class=\"colab-df-quickchart\" onclick=\"quickchart('df-9cfc008e-a890-462e-81c2-9891c616d338')\"\n",
              "                title=\"Suggest charts\"\n",
              "                style=\"display:none;\">\n",
              "\n",
              "<svg xmlns=\"http://www.w3.org/2000/svg\" height=\"24px\"viewBox=\"0 0 24 24\"\n",
              "     width=\"24px\">\n",
              "    <g>\n",
              "        <path d=\"M19 3H5c-1.1 0-2 .9-2 2v14c0 1.1.9 2 2 2h14c1.1 0 2-.9 2-2V5c0-1.1-.9-2-2-2zM9 17H7v-7h2v7zm4 0h-2V7h2v10zm4 0h-2v-4h2v4z\"/>\n",
              "    </g>\n",
              "</svg>\n",
              "      </button>\n",
              "\n",
              "<style>\n",
              "  .colab-df-quickchart {\n",
              "      --bg-color: #E8F0FE;\n",
              "      --fill-color: #1967D2;\n",
              "      --hover-bg-color: #E2EBFA;\n",
              "      --hover-fill-color: #174EA6;\n",
              "      --disabled-fill-color: #AAA;\n",
              "      --disabled-bg-color: #DDD;\n",
              "  }\n",
              "\n",
              "  [theme=dark] .colab-df-quickchart {\n",
              "      --bg-color: #3B4455;\n",
              "      --fill-color: #D2E3FC;\n",
              "      --hover-bg-color: #434B5C;\n",
              "      --hover-fill-color: #FFFFFF;\n",
              "      --disabled-bg-color: #3B4455;\n",
              "      --disabled-fill-color: #666;\n",
              "  }\n",
              "\n",
              "  .colab-df-quickchart {\n",
              "    background-color: var(--bg-color);\n",
              "    border: none;\n",
              "    border-radius: 50%;\n",
              "    cursor: pointer;\n",
              "    display: none;\n",
              "    fill: var(--fill-color);\n",
              "    height: 32px;\n",
              "    padding: 0;\n",
              "    width: 32px;\n",
              "  }\n",
              "\n",
              "  .colab-df-quickchart:hover {\n",
              "    background-color: var(--hover-bg-color);\n",
              "    box-shadow: 0 1px 2px rgba(60, 64, 67, 0.3), 0 1px 3px 1px rgba(60, 64, 67, 0.15);\n",
              "    fill: var(--button-hover-fill-color);\n",
              "  }\n",
              "\n",
              "  .colab-df-quickchart-complete:disabled,\n",
              "  .colab-df-quickchart-complete:disabled:hover {\n",
              "    background-color: var(--disabled-bg-color);\n",
              "    fill: var(--disabled-fill-color);\n",
              "    box-shadow: none;\n",
              "  }\n",
              "\n",
              "  .colab-df-spinner {\n",
              "    border: 2px solid var(--fill-color);\n",
              "    border-color: transparent;\n",
              "    border-bottom-color: var(--fill-color);\n",
              "    animation:\n",
              "      spin 1s steps(1) infinite;\n",
              "  }\n",
              "\n",
              "  @keyframes spin {\n",
              "    0% {\n",
              "      border-color: transparent;\n",
              "      border-bottom-color: var(--fill-color);\n",
              "      border-left-color: var(--fill-color);\n",
              "    }\n",
              "    20% {\n",
              "      border-color: transparent;\n",
              "      border-left-color: var(--fill-color);\n",
              "      border-top-color: var(--fill-color);\n",
              "    }\n",
              "    30% {\n",
              "      border-color: transparent;\n",
              "      border-left-color: var(--fill-color);\n",
              "      border-top-color: var(--fill-color);\n",
              "      border-right-color: var(--fill-color);\n",
              "    }\n",
              "    40% {\n",
              "      border-color: transparent;\n",
              "      border-right-color: var(--fill-color);\n",
              "      border-top-color: var(--fill-color);\n",
              "    }\n",
              "    60% {\n",
              "      border-color: transparent;\n",
              "      border-right-color: var(--fill-color);\n",
              "    }\n",
              "    80% {\n",
              "      border-color: transparent;\n",
              "      border-right-color: var(--fill-color);\n",
              "      border-bottom-color: var(--fill-color);\n",
              "    }\n",
              "    90% {\n",
              "      border-color: transparent;\n",
              "      border-bottom-color: var(--fill-color);\n",
              "    }\n",
              "  }\n",
              "</style>\n",
              "\n",
              "      <script>\n",
              "        async function quickchart(key) {\n",
              "          const quickchartButtonEl =\n",
              "            document.querySelector('#' + key + ' button');\n",
              "          quickchartButtonEl.disabled = true;  // To prevent multiple clicks.\n",
              "          quickchartButtonEl.classList.add('colab-df-spinner');\n",
              "          try {\n",
              "            const charts = await google.colab.kernel.invokeFunction(\n",
              "                'suggestCharts', [key], {});\n",
              "          } catch (error) {\n",
              "            console.error('Error during call to suggestCharts:', error);\n",
              "          }\n",
              "          quickchartButtonEl.classList.remove('colab-df-spinner');\n",
              "          quickchartButtonEl.classList.add('colab-df-quickchart-complete');\n",
              "        }\n",
              "        (() => {\n",
              "          let quickchartButtonEl =\n",
              "            document.querySelector('#df-9cfc008e-a890-462e-81c2-9891c616d338 button');\n",
              "          quickchartButtonEl.style.display =\n",
              "            google.colab.kernel.accessAllowed ? 'block' : 'none';\n",
              "        })();\n",
              "      </script>\n",
              "    </div>\n",
              "\n",
              "    </div>\n",
              "  </div>\n"
            ],
            "application/vnd.google.colaboratory.intrinsic+json": {
              "type": "dataframe",
              "variable_name": "clin_slopes_df",
              "summary": "{\n  \"name\": \"clin_slopes_df\",\n  \"rows\": 16,\n  \"fields\": [\n    {\n      \"column\": \"subject\",\n      \"properties\": {\n        \"dtype\": \"string\",\n        \"num_unique_values\": 16,\n        \"samples\": [\n          \"p01\",\n          \"p02\",\n          \"p06\"\n        ],\n        \"semantic_type\": \"\",\n        \"description\": \"\"\n      }\n    },\n    {\n      \"column\": \"moca_slope\",\n      \"properties\": {\n        \"dtype\": \"number\",\n        \"std\": 1.2140668570277893,\n        \"min\": -3.000000000000004,\n        \"max\": 0.9999999999999976,\n        \"num_unique_values\": 15,\n        \"samples\": [\n          -3.000000000000002,\n          -3.000000000000004,\n          0.9999999999999976\n        ],\n        \"semantic_type\": \"\",\n        \"description\": \"\"\n      }\n    },\n    {\n      \"column\": \"mmse_slope\",\n      \"properties\": {\n        \"dtype\": \"number\",\n        \"std\": 0.7739239842086133,\n        \"min\": -2.0000000000000058,\n        \"max\": 0.999999999999996,\n        \"num_unique_values\": 12,\n        \"samples\": [\n          -2.0000000000000058,\n          -3.5174285710590772e-15,\n          -1.5000000000000047\n        ],\n        \"semantic_type\": \"\",\n        \"description\": \"\"\n      }\n    },\n    {\n      \"column\": \"sara_slope\",\n      \"properties\": {\n        \"dtype\": \"number\",\n        \"std\": 1.0605374030807837,\n        \"min\": 0.25000000000000006,\n        \"max\": 3.7500000000000004,\n        \"num_unique_values\": 16,\n        \"samples\": [\n          0.7499999999999992,\n          3.7500000000000004,\n          3.4999999999999982\n        ],\n        \"semantic_type\": \"\",\n        \"description\": \"\"\n      }\n    }\n  ]\n}"
            }
          },
          "metadata": {},
          "execution_count": 45
        }
      ]
    },
    {
      "cell_type": "code",
      "source": [
        "# 3) Prepare ROI slopes for top 3 biomarkers\n",
        "roi_slopes_df = (\n",
        "    slopes_df[['subject', 'ROI_98', 'ROI_70', 'ROI_108']]\n",
        "    .rename(columns={'ROI_98': 'roi98_slope',\n",
        "                     'ROI_70': 'roi70_slope',\n",
        "                     'ROI_108': 'roi108_slope'})\n",
        ")\n",
        "\n",
        "# 4) Merge clinical slopes with ROI slopes\n",
        "merge_df = pd.merge(roi_slopes_df, clin_slopes_df, on='subject')\n",
        "\n",
        "merge_df.head()"
      ],
      "metadata": {
        "colab": {
          "base_uri": "https://localhost:8080/",
          "height": 206
        },
        "id": "OzDQ4yM3KwEF",
        "outputId": "93a73aef-98ee-4d70-c488-b27f49c458f9"
      },
      "execution_count": null,
      "outputs": [
        {
          "output_type": "execute_result",
          "data": {
            "text/plain": [
              "  subject  roi98_slope  roi70_slope  roi108_slope  moca_slope    mmse_slope  \\\n",
              "0     p01     0.260756    -0.527109     -0.906743         1.0 -1.500000e+00   \n",
              "1     p02    -1.066329    -0.850625     -2.053650        -2.0 -1.000000e+00   \n",
              "2     p03    -1.066880    -0.774394     -0.390960         0.5 -2.121350e-15   \n",
              "3     p04    -1.286051    -0.900751     -0.304527        -1.5 -1.000000e+00   \n",
              "4     p05    -0.298578    -0.343579      0.707736        -2.5 -4.263770e-15   \n",
              "\n",
              "   sara_slope  \n",
              "0        0.75  \n",
              "1        3.75  \n",
              "2        2.00  \n",
              "3        2.25  \n",
              "4        2.50  "
            ],
            "text/html": [
              "\n",
              "  <div id=\"df-1a084eda-834f-47e8-90ea-394a4041d86f\" class=\"colab-df-container\">\n",
              "    <div>\n",
              "<style scoped>\n",
              "    .dataframe tbody tr th:only-of-type {\n",
              "        vertical-align: middle;\n",
              "    }\n",
              "\n",
              "    .dataframe tbody tr th {\n",
              "        vertical-align: top;\n",
              "    }\n",
              "\n",
              "    .dataframe thead th {\n",
              "        text-align: right;\n",
              "    }\n",
              "</style>\n",
              "<table border=\"1\" class=\"dataframe\">\n",
              "  <thead>\n",
              "    <tr style=\"text-align: right;\">\n",
              "      <th></th>\n",
              "      <th>subject</th>\n",
              "      <th>roi98_slope</th>\n",
              "      <th>roi70_slope</th>\n",
              "      <th>roi108_slope</th>\n",
              "      <th>moca_slope</th>\n",
              "      <th>mmse_slope</th>\n",
              "      <th>sara_slope</th>\n",
              "    </tr>\n",
              "  </thead>\n",
              "  <tbody>\n",
              "    <tr>\n",
              "      <th>0</th>\n",
              "      <td>p01</td>\n",
              "      <td>0.260756</td>\n",
              "      <td>-0.527109</td>\n",
              "      <td>-0.906743</td>\n",
              "      <td>1.0</td>\n",
              "      <td>-1.500000e+00</td>\n",
              "      <td>0.75</td>\n",
              "    </tr>\n",
              "    <tr>\n",
              "      <th>1</th>\n",
              "      <td>p02</td>\n",
              "      <td>-1.066329</td>\n",
              "      <td>-0.850625</td>\n",
              "      <td>-2.053650</td>\n",
              "      <td>-2.0</td>\n",
              "      <td>-1.000000e+00</td>\n",
              "      <td>3.75</td>\n",
              "    </tr>\n",
              "    <tr>\n",
              "      <th>2</th>\n",
              "      <td>p03</td>\n",
              "      <td>-1.066880</td>\n",
              "      <td>-0.774394</td>\n",
              "      <td>-0.390960</td>\n",
              "      <td>0.5</td>\n",
              "      <td>-2.121350e-15</td>\n",
              "      <td>2.00</td>\n",
              "    </tr>\n",
              "    <tr>\n",
              "      <th>3</th>\n",
              "      <td>p04</td>\n",
              "      <td>-1.286051</td>\n",
              "      <td>-0.900751</td>\n",
              "      <td>-0.304527</td>\n",
              "      <td>-1.5</td>\n",
              "      <td>-1.000000e+00</td>\n",
              "      <td>2.25</td>\n",
              "    </tr>\n",
              "    <tr>\n",
              "      <th>4</th>\n",
              "      <td>p05</td>\n",
              "      <td>-0.298578</td>\n",
              "      <td>-0.343579</td>\n",
              "      <td>0.707736</td>\n",
              "      <td>-2.5</td>\n",
              "      <td>-4.263770e-15</td>\n",
              "      <td>2.50</td>\n",
              "    </tr>\n",
              "  </tbody>\n",
              "</table>\n",
              "</div>\n",
              "    <div class=\"colab-df-buttons\">\n",
              "\n",
              "  <div class=\"colab-df-container\">\n",
              "    <button class=\"colab-df-convert\" onclick=\"convertToInteractive('df-1a084eda-834f-47e8-90ea-394a4041d86f')\"\n",
              "            title=\"Convert this dataframe to an interactive table.\"\n",
              "            style=\"display:none;\">\n",
              "\n",
              "  <svg xmlns=\"http://www.w3.org/2000/svg\" height=\"24px\" viewBox=\"0 -960 960 960\">\n",
              "    <path d=\"M120-120v-720h720v720H120Zm60-500h600v-160H180v160Zm220 220h160v-160H400v160Zm0 220h160v-160H400v160ZM180-400h160v-160H180v160Zm440 0h160v-160H620v160ZM180-180h160v-160H180v160Zm440 0h160v-160H620v160Z\"/>\n",
              "  </svg>\n",
              "    </button>\n",
              "\n",
              "  <style>\n",
              "    .colab-df-container {\n",
              "      display:flex;\n",
              "      gap: 12px;\n",
              "    }\n",
              "\n",
              "    .colab-df-convert {\n",
              "      background-color: #E8F0FE;\n",
              "      border: none;\n",
              "      border-radius: 50%;\n",
              "      cursor: pointer;\n",
              "      display: none;\n",
              "      fill: #1967D2;\n",
              "      height: 32px;\n",
              "      padding: 0 0 0 0;\n",
              "      width: 32px;\n",
              "    }\n",
              "\n",
              "    .colab-df-convert:hover {\n",
              "      background-color: #E2EBFA;\n",
              "      box-shadow: 0px 1px 2px rgba(60, 64, 67, 0.3), 0px 1px 3px 1px rgba(60, 64, 67, 0.15);\n",
              "      fill: #174EA6;\n",
              "    }\n",
              "\n",
              "    .colab-df-buttons div {\n",
              "      margin-bottom: 4px;\n",
              "    }\n",
              "\n",
              "    [theme=dark] .colab-df-convert {\n",
              "      background-color: #3B4455;\n",
              "      fill: #D2E3FC;\n",
              "    }\n",
              "\n",
              "    [theme=dark] .colab-df-convert:hover {\n",
              "      background-color: #434B5C;\n",
              "      box-shadow: 0px 1px 3px 1px rgba(0, 0, 0, 0.15);\n",
              "      filter: drop-shadow(0px 1px 2px rgba(0, 0, 0, 0.3));\n",
              "      fill: #FFFFFF;\n",
              "    }\n",
              "  </style>\n",
              "\n",
              "    <script>\n",
              "      const buttonEl =\n",
              "        document.querySelector('#df-1a084eda-834f-47e8-90ea-394a4041d86f button.colab-df-convert');\n",
              "      buttonEl.style.display =\n",
              "        google.colab.kernel.accessAllowed ? 'block' : 'none';\n",
              "\n",
              "      async function convertToInteractive(key) {\n",
              "        const element = document.querySelector('#df-1a084eda-834f-47e8-90ea-394a4041d86f');\n",
              "        const dataTable =\n",
              "          await google.colab.kernel.invokeFunction('convertToInteractive',\n",
              "                                                    [key], {});\n",
              "        if (!dataTable) return;\n",
              "\n",
              "        const docLinkHtml = 'Like what you see? Visit the ' +\n",
              "          '<a target=\"_blank\" href=https://colab.research.google.com/notebooks/data_table.ipynb>data table notebook</a>'\n",
              "          + ' to learn more about interactive tables.';\n",
              "        element.innerHTML = '';\n",
              "        dataTable['output_type'] = 'display_data';\n",
              "        await google.colab.output.renderOutput(dataTable, element);\n",
              "        const docLink = document.createElement('div');\n",
              "        docLink.innerHTML = docLinkHtml;\n",
              "        element.appendChild(docLink);\n",
              "      }\n",
              "    </script>\n",
              "  </div>\n",
              "\n",
              "\n",
              "    <div id=\"df-b17bfd06-e996-4eb3-8eea-b2b576d8c888\">\n",
              "      <button class=\"colab-df-quickchart\" onclick=\"quickchart('df-b17bfd06-e996-4eb3-8eea-b2b576d8c888')\"\n",
              "                title=\"Suggest charts\"\n",
              "                style=\"display:none;\">\n",
              "\n",
              "<svg xmlns=\"http://www.w3.org/2000/svg\" height=\"24px\"viewBox=\"0 0 24 24\"\n",
              "     width=\"24px\">\n",
              "    <g>\n",
              "        <path d=\"M19 3H5c-1.1 0-2 .9-2 2v14c0 1.1.9 2 2 2h14c1.1 0 2-.9 2-2V5c0-1.1-.9-2-2-2zM9 17H7v-7h2v7zm4 0h-2V7h2v10zm4 0h-2v-4h2v4z\"/>\n",
              "    </g>\n",
              "</svg>\n",
              "      </button>\n",
              "\n",
              "<style>\n",
              "  .colab-df-quickchart {\n",
              "      --bg-color: #E8F0FE;\n",
              "      --fill-color: #1967D2;\n",
              "      --hover-bg-color: #E2EBFA;\n",
              "      --hover-fill-color: #174EA6;\n",
              "      --disabled-fill-color: #AAA;\n",
              "      --disabled-bg-color: #DDD;\n",
              "  }\n",
              "\n",
              "  [theme=dark] .colab-df-quickchart {\n",
              "      --bg-color: #3B4455;\n",
              "      --fill-color: #D2E3FC;\n",
              "      --hover-bg-color: #434B5C;\n",
              "      --hover-fill-color: #FFFFFF;\n",
              "      --disabled-bg-color: #3B4455;\n",
              "      --disabled-fill-color: #666;\n",
              "  }\n",
              "\n",
              "  .colab-df-quickchart {\n",
              "    background-color: var(--bg-color);\n",
              "    border: none;\n",
              "    border-radius: 50%;\n",
              "    cursor: pointer;\n",
              "    display: none;\n",
              "    fill: var(--fill-color);\n",
              "    height: 32px;\n",
              "    padding: 0;\n",
              "    width: 32px;\n",
              "  }\n",
              "\n",
              "  .colab-df-quickchart:hover {\n",
              "    background-color: var(--hover-bg-color);\n",
              "    box-shadow: 0 1px 2px rgba(60, 64, 67, 0.3), 0 1px 3px 1px rgba(60, 64, 67, 0.15);\n",
              "    fill: var(--button-hover-fill-color);\n",
              "  }\n",
              "\n",
              "  .colab-df-quickchart-complete:disabled,\n",
              "  .colab-df-quickchart-complete:disabled:hover {\n",
              "    background-color: var(--disabled-bg-color);\n",
              "    fill: var(--disabled-fill-color);\n",
              "    box-shadow: none;\n",
              "  }\n",
              "\n",
              "  .colab-df-spinner {\n",
              "    border: 2px solid var(--fill-color);\n",
              "    border-color: transparent;\n",
              "    border-bottom-color: var(--fill-color);\n",
              "    animation:\n",
              "      spin 1s steps(1) infinite;\n",
              "  }\n",
              "\n",
              "  @keyframes spin {\n",
              "    0% {\n",
              "      border-color: transparent;\n",
              "      border-bottom-color: var(--fill-color);\n",
              "      border-left-color: var(--fill-color);\n",
              "    }\n",
              "    20% {\n",
              "      border-color: transparent;\n",
              "      border-left-color: var(--fill-color);\n",
              "      border-top-color: var(--fill-color);\n",
              "    }\n",
              "    30% {\n",
              "      border-color: transparent;\n",
              "      border-left-color: var(--fill-color);\n",
              "      border-top-color: var(--fill-color);\n",
              "      border-right-color: var(--fill-color);\n",
              "    }\n",
              "    40% {\n",
              "      border-color: transparent;\n",
              "      border-right-color: var(--fill-color);\n",
              "      border-top-color: var(--fill-color);\n",
              "    }\n",
              "    60% {\n",
              "      border-color: transparent;\n",
              "      border-right-color: var(--fill-color);\n",
              "    }\n",
              "    80% {\n",
              "      border-color: transparent;\n",
              "      border-right-color: var(--fill-color);\n",
              "      border-bottom-color: var(--fill-color);\n",
              "    }\n",
              "    90% {\n",
              "      border-color: transparent;\n",
              "      border-bottom-color: var(--fill-color);\n",
              "    }\n",
              "  }\n",
              "</style>\n",
              "\n",
              "      <script>\n",
              "        async function quickchart(key) {\n",
              "          const quickchartButtonEl =\n",
              "            document.querySelector('#' + key + ' button');\n",
              "          quickchartButtonEl.disabled = true;  // To prevent multiple clicks.\n",
              "          quickchartButtonEl.classList.add('colab-df-spinner');\n",
              "          try {\n",
              "            const charts = await google.colab.kernel.invokeFunction(\n",
              "                'suggestCharts', [key], {});\n",
              "          } catch (error) {\n",
              "            console.error('Error during call to suggestCharts:', error);\n",
              "          }\n",
              "          quickchartButtonEl.classList.remove('colab-df-spinner');\n",
              "          quickchartButtonEl.classList.add('colab-df-quickchart-complete');\n",
              "        }\n",
              "        (() => {\n",
              "          let quickchartButtonEl =\n",
              "            document.querySelector('#df-b17bfd06-e996-4eb3-8eea-b2b576d8c888 button');\n",
              "          quickchartButtonEl.style.display =\n",
              "            google.colab.kernel.accessAllowed ? 'block' : 'none';\n",
              "        })();\n",
              "      </script>\n",
              "    </div>\n",
              "\n",
              "    </div>\n",
              "  </div>\n"
            ],
            "application/vnd.google.colaboratory.intrinsic+json": {
              "type": "dataframe",
              "variable_name": "merge_df",
              "summary": "{\n  \"name\": \"merge_df\",\n  \"rows\": 16,\n  \"fields\": [\n    {\n      \"column\": \"subject\",\n      \"properties\": {\n        \"dtype\": \"string\",\n        \"num_unique_values\": 16,\n        \"samples\": [\n          \"p01\",\n          \"p02\",\n          \"p06\"\n        ],\n        \"semantic_type\": \"\",\n        \"description\": \"\"\n      }\n    },\n    {\n      \"column\": \"roi98_slope\",\n      \"properties\": {\n        \"dtype\": \"number\",\n        \"std\": 0.6025733540646911,\n        \"min\": -1.5178587436676039,\n        \"max\": 0.26075565814971874,\n        \"num_unique_values\": 16,\n        \"samples\": [\n          0.26075565814971874,\n          -1.066329240798951,\n          -1.5021494626998912\n        ],\n        \"semantic_type\": \"\",\n        \"description\": \"\"\n      }\n    },\n    {\n      \"column\": \"roi70_slope\",\n      \"properties\": {\n        \"dtype\": \"number\",\n        \"std\": 0.6607694109641298,\n        \"min\": -2.668774366378785,\n        \"max\": 0.1683113574981672,\n        \"num_unique_values\": 16,\n        \"samples\": [\n          -0.5271089076995861,\n          -0.8506252765655534,\n          -2.668774366378785\n        ],\n        \"semantic_type\": \"\",\n        \"description\": \"\"\n      }\n    },\n    {\n      \"column\": \"roi108_slope\",\n      \"properties\": {\n        \"dtype\": \"number\",\n        \"std\": 0.8475006895518308,\n        \"min\": -2.569773912429811,\n        \"max\": 0.7077362537384033,\n        \"num_unique_values\": 16,\n        \"samples\": [\n          -0.9067425727844246,\n          -2.0536501407623304,\n          -0.4576134681701669\n        ],\n        \"semantic_type\": \"\",\n        \"description\": \"\"\n      }\n    },\n    {\n      \"column\": \"moca_slope\",\n      \"properties\": {\n        \"dtype\": \"number\",\n        \"std\": 1.2140668570277893,\n        \"min\": -3.000000000000004,\n        \"max\": 0.9999999999999976,\n        \"num_unique_values\": 15,\n        \"samples\": [\n          -3.000000000000002,\n          -3.000000000000004,\n          0.9999999999999976\n        ],\n        \"semantic_type\": \"\",\n        \"description\": \"\"\n      }\n    },\n    {\n      \"column\": \"mmse_slope\",\n      \"properties\": {\n        \"dtype\": \"number\",\n        \"std\": 0.7739239842086133,\n        \"min\": -2.0000000000000058,\n        \"max\": 0.999999999999996,\n        \"num_unique_values\": 12,\n        \"samples\": [\n          -2.0000000000000058,\n          -3.5174285710590772e-15,\n          -1.5000000000000047\n        ],\n        \"semantic_type\": \"\",\n        \"description\": \"\"\n      }\n    },\n    {\n      \"column\": \"sara_slope\",\n      \"properties\": {\n        \"dtype\": \"number\",\n        \"std\": 1.0605374030807837,\n        \"min\": 0.25000000000000006,\n        \"max\": 3.7500000000000004,\n        \"num_unique_values\": 16,\n        \"samples\": [\n          0.7499999999999992,\n          3.7500000000000004,\n          3.4999999999999982\n        ],\n        \"semantic_type\": \"\",\n        \"description\": \"\"\n      }\n    }\n  ]\n}"
            }
          },
          "metadata": {},
          "execution_count": 46
        }
      ]
    },
    {
      "cell_type": "code",
      "source": [
        "# 5) Compute Spearman correlations\n",
        "results = []\n",
        "for roi in ['roi98_slope', 'roi70_slope', 'roi108_slope']:\n",
        "    for m in measures:\n",
        "        corr, pval = spearmanr(merge_df[roi], merge_df[m + '_slope'], nan_policy='omit')\n",
        "        results.append({\n",
        "            'roi': roi,\n",
        "            'clinical_measure': m,\n",
        "            'spearman_rho': corr,\n",
        "            'p_value': pval\n",
        "        })\n",
        "results_df = pd.DataFrame(results)\n",
        "\n",
        "# 6) Display results\n",
        "print(\"Correlation between ROI slopes and clinical score slopes:\")\n",
        "print(results_df.to_string(index=False))"
      ],
      "metadata": {
        "colab": {
          "base_uri": "https://localhost:8080/"
        },
        "id": "PWoK1MMkK-7i",
        "outputId": "d24a2fbc-4779-40cb-ea94-a33ddaed4b4d"
      },
      "execution_count": null,
      "outputs": [
        {
          "output_type": "stream",
          "name": "stdout",
          "text": [
            "Correlation between ROI slopes and clinical score slopes:\n",
            "         roi clinical_measure  spearman_rho  p_value\n",
            " roi98_slope             moca     -0.022075 0.935325\n",
            " roi98_slope             mmse     -0.373158 0.154565\n",
            " roi98_slope             sara     -0.514706 0.041346\n",
            " roi70_slope             moca     -0.313466 0.237108\n",
            " roi70_slope             mmse     -0.070797 0.794446\n",
            " roi70_slope             sara     -0.476471 0.062059\n",
            "roi108_slope             moca     -0.572480 0.020474\n",
            "roi108_slope             mmse     -0.063422 0.815495\n",
            "roi108_slope             sara     -0.261765 0.327410\n"
          ]
        }
      ]
    }
  ]
}